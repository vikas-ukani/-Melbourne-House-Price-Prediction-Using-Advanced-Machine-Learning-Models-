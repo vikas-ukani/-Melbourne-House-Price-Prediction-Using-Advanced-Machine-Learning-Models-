{
 "cells": [
  {
   "cell_type": "markdown",
   "metadata": {
    "papermill": {
     "duration": 0.096726,
     "end_time": "2020-11-10T17:24:14.060168",
     "exception": false,
     "start_time": "2020-11-10T17:24:13.963442",
     "status": "completed"
    },
    "tags": []
   },
   "source": [
    "<center> \n",
    "    <h1>\n",
    "        🏡 Melbourne House Price Prediction Using ML Models 🤖\n",
    "    </h1>\n",
    "</center>"
   ]
  },
  {
   "cell_type": "markdown",
   "metadata": {
    "papermill": {
     "duration": 0.096228,
     "end_time": "2020-11-10T17:24:14.251273",
     "exception": false,
     "start_time": "2020-11-10T17:24:14.155045",
     "status": "completed"
    },
    "tags": []
   },
   "source": [
    "### Introductions\n",
    "\n",
    "<div class=\" text-center\"> \n",
    "        Melbourne has 4694 properties available for rent and 661 properties for sale. The median unit price in Melbourne last year was 480,000 dollor. If you are looking for an investment property, consider houses in Melbourne rent out for 410 dollor PW with an annual rental yield of 3.7% and units rent for 470 dollor PW with a rental yield of 5.1%. Based on five years of sales, Melbourne has seen a compound growth rate of -4.2% for houses and -0.9% for units. \n",
    "     \n",
    "---\n",
    "    \n",
    "    \n",
    "The dataset includes Address, Type of Real estate, Suburb, Method of Selling, Rooms, Price, Real Estate Agent, Date of Sale and distance from C.B.D.\n",
    "</div>\n",
    "For more information about Melbourne  : <a href=\"https://www.realestate.com.au/neighbourhoods/melbourne-3000-vic\" alt=\"here\" > Here </a> "
   ]
  },
  {
   "cell_type": "markdown",
   "metadata": {
    "papermill": {
     "duration": 0.094669,
     "end_time": "2020-11-10T17:24:14.440127",
     "exception": false,
     "start_time": "2020-11-10T17:24:14.345458",
     "status": "completed"
    },
    "tags": []
   },
   "source": [
    "<center>\n",
    "    <div >\n",
    "         <img src=\"https://miro.medium.com/max/1200/0*xT7BFMlyBbRwmtFe\" alt=\"Melbourne House Price\" /> \n",
    "    </div>\n",
    "    </center>"
   ]
  },
  {
   "cell_type": "markdown",
   "metadata": {
    "papermill": {
     "duration": 0.09467,
     "end_time": "2020-11-10T17:24:14.630275",
     "exception": false,
     "start_time": "2020-11-10T17:24:14.535605",
     "status": "completed"
    },
    "tags": []
   },
   "source": [
    "<div class=\"text-primary font-bold \"><h3> <b>Table Of Contains</b></h3></div>\n",
    "\n",
    "--- \n",
    "\n",
    "> ### Steps are:\n",
    "\n",
    "\n",
    "1. [Gathering Data](#1)\n",
    "- [Exploratory Data Analysis](#2)\n",
    "- [Data Visualizations](#3)\n",
    "- [Model Implementation.](#4)\n",
    "- [ML Model Selecting and Model PredPrediction](#5)\n",
    "- [HyperTunning the ML Model](#6)\n",
    "- [Deploy Model](#7)\n",
    "\n",
    "\n"
   ]
  },
  {
   "cell_type": "markdown",
   "metadata": {
    "papermill": {
     "duration": 0.094839,
     "end_time": "2020-11-10T17:24:14.819954",
     "exception": false,
     "start_time": "2020-11-10T17:24:14.725115",
     "status": "completed"
    },
    "tags": []
   },
   "source": [
    "## Data Description \n",
    " \n",
    "* `Rooms`: Number of rooms\n",
    "\n",
    "* `Price`: Price in dollars\n",
    "\n",
    "* `Method`: S - property sold; SP - property sold prior; PI - property passed in; PN - sold prior not disclosed; SN - sold not disclosed; NB - no bid; VB - vendor bid; W - withdrawn prior to auction; SA - sold after auction; SS - sold after auction price not disclosed. N/A - price or highest bid not available.\n",
    "\n",
    "* `Type`: br - bedroom(s); h - house,cottage,villa, semi,terrace; u - unit, duplex; t - townhouse; dev site - development site; o res - other residential.\n",
    "\n",
    "* `SellerG`: Real Estate Agent\n",
    "\n",
    "* `Date`: Date sold\n",
    "\n",
    "* `Distance`: Distance from CBD\n",
    "\n",
    "* `Regionname`: General Region (West, North West, North, North east …etc)\n",
    "\n",
    "* `Propertycount`: Number of properties that exist in the suburb.\n",
    "\n",
    "* `Bedroom2` : Scraped # of Bedrooms (from different source)\n",
    "\n",
    "* `Bathroom`: Number of Bathrooms\n",
    "\n",
    "* `Car`: Number of carspots\n",
    "\n",
    "* `Landsize`: Land Size\n",
    "\n",
    "* `BuildingArea`: Building Size\n",
    "\n",
    "* `CouncilArea`: Governing council for the area\n"
   ]
  },
  {
   "cell_type": "code",
   "execution_count": 1,
   "metadata": {
    "_cell_guid": "b1076dfc-b9ad-4769-8c92-a6c4dae69d19",
    "_uuid": "8f2839f25d086af736a60e9eeb907d3b93b6e0e5",
    "execution": {
     "iopub.execute_input": "2020-11-10T17:24:15.020718Z",
     "iopub.status.busy": "2020-11-10T17:24:15.019971Z",
     "iopub.status.idle": "2020-11-10T17:24:17.334477Z",
     "shell.execute_reply": "2020-11-10T17:24:17.333634Z"
    },
    "papermill": {
     "duration": 2.416093,
     "end_time": "2020-11-10T17:24:17.334605",
     "exception": false,
     "start_time": "2020-11-10T17:24:14.918512",
     "status": "completed"
    },
    "scrolled": true,
    "tags": []
   },
   "outputs": [],
   "source": [
    "# linear algebra and calculus\n",
    "import numpy as np \n",
    "\n",
    "# data manupulation and processing library, (e.g. pd.read_csv)\n",
    "import pandas as pd \n",
    "\n",
    "from matplotlib import pyplot as plt\n",
    "\n",
    "import seaborn as sns\n",
    "\n",
    "from plotly import express as px\n",
    "\n",
    "# Table Data configurations setup\n",
    "pd.set_option('max.column', None) #  show all columns  names"
   ]
  },
  {
   "cell_type": "code",
   "execution_count": 2,
   "metadata": {
    "execution": {
     "iopub.execute_input": "2020-11-10T17:24:17.533618Z",
     "iopub.status.busy": "2020-11-10T17:24:17.532876Z",
     "iopub.status.idle": "2020-11-10T17:24:17.540120Z",
     "shell.execute_reply": "2020-11-10T17:24:17.540660Z"
    },
    "papermill": {
     "duration": 0.110524,
     "end_time": "2020-11-10T17:24:17.540821",
     "exception": false,
     "start_time": "2020-11-10T17:24:17.430297",
     "status": "completed"
    },
    "scrolled": true,
    "tags": []
   },
   "outputs": [
    {
     "name": "stdout",
     "output_type": "stream",
     "text": [
      "/kaggle/input/melbourne-housing-snapshot/melb_data.csv\n"
     ]
    }
   ],
   "source": [
    "# OS related functionality\n",
    "import os\n",
    "for dirname, _, filenames in os.walk('/kaggle/input'):\n",
    "    for filename in filenames:\n",
    "        print(os.path.join(dirname, filename))   "
   ]
  },
  {
   "cell_type": "markdown",
   "metadata": {
    "papermill": {
     "duration": 0.095321,
     "end_time": "2020-11-10T17:24:17.732388",
     "exception": false,
     "start_time": "2020-11-10T17:24:17.637067",
     "status": "completed"
    },
    "tags": []
   },
   "source": [
    "# 1. Gathering Data\n"
   ]
  },
  {
   "cell_type": "markdown",
   "metadata": {
    "papermill": {
     "duration": 0.096928,
     "end_time": "2020-11-10T17:24:17.926260",
     "exception": false,
     "start_time": "2020-11-10T17:24:17.829332",
     "status": "completed"
    },
    "tags": []
   },
   "source": [
    "- Reading the housing information data using read_csv to represent in tabular format "
   ]
  },
  {
   "cell_type": "code",
   "execution_count": 3,
   "metadata": {
    "_cell_guid": "79c7e3d0-c299-4dcb-8224-4455121ee9b0",
    "_uuid": "d629ff2d2480ee46fbb7e2d37f6b5fab8052498a",
    "execution": {
     "iopub.execute_input": "2020-11-10T17:24:18.126414Z",
     "iopub.status.busy": "2020-11-10T17:24:18.125675Z",
     "iopub.status.idle": "2020-11-10T17:24:18.202191Z",
     "shell.execute_reply": "2020-11-10T17:24:18.202918Z"
    },
    "papermill": {
     "duration": 0.180479,
     "end_time": "2020-11-10T17:24:18.203080",
     "exception": false,
     "start_time": "2020-11-10T17:24:18.022601",
     "status": "completed"
    },
    "scrolled": true,
    "tags": []
   },
   "outputs": [
    {
     "name": "stdout",
     "output_type": "stream",
     "text": [
      "CPU times: user 54.3 ms, sys: 8.78 ms, total: 63 ms\n",
      "Wall time: 73.7 ms\n"
     ]
    }
   ],
   "source": [
    "%%time\n",
    "\n",
    "data = pd.read_csv('/kaggle/input/melbourne-housing-snapshot/melb_data.csv')"
   ]
  },
  {
   "cell_type": "markdown",
   "metadata": {
    "papermill": {
     "duration": 0.096482,
     "end_time": "2020-11-10T17:24:18.397430",
     "exception": false,
     "start_time": "2020-11-10T17:24:18.300948",
     "status": "completed"
    },
    "tags": []
   },
   "source": [
    "\n",
    "\n",
    "- Let's check the shape of our datasets `( number of rows, number of columns/features )`"
   ]
  },
  {
   "cell_type": "code",
   "execution_count": 4,
   "metadata": {
    "execution": {
     "iopub.execute_input": "2020-11-10T17:24:18.599274Z",
     "iopub.status.busy": "2020-11-10T17:24:18.598436Z",
     "iopub.status.idle": "2020-11-10T17:24:18.602453Z",
     "shell.execute_reply": "2020-11-10T17:24:18.601844Z"
    },
    "papermill": {
     "duration": 0.107398,
     "end_time": "2020-11-10T17:24:18.602571",
     "exception": false,
     "start_time": "2020-11-10T17:24:18.495173",
     "status": "completed"
    },
    "scrolled": true,
    "tags": []
   },
   "outputs": [
    {
     "data": {
      "text/plain": [
       "(13580, 21)"
      ]
     },
     "execution_count": 4,
     "metadata": {},
     "output_type": "execute_result"
    }
   ],
   "source": [
    "data.shape"
   ]
  },
  {
   "cell_type": "markdown",
   "metadata": {
    "papermill": {
     "duration": 0.096661,
     "end_time": "2020-11-10T17:24:18.796417",
     "exception": false,
     "start_time": "2020-11-10T17:24:18.699756",
     "status": "completed"
    },
    "tags": []
   },
   "source": [
    "# 2. Exploratory Data Analysis\n",
    "\n"
   ]
  },
  {
   "cell_type": "markdown",
   "metadata": {
    "papermill": {
     "duration": 0.098385,
     "end_time": "2020-11-10T17:24:18.992706",
     "exception": false,
     "start_time": "2020-11-10T17:24:18.894321",
     "status": "completed"
    },
    "tags": []
   },
   "source": [
    "- Let's check the first five rows from data"
   ]
  },
  {
   "cell_type": "code",
   "execution_count": 5,
   "metadata": {
    "execution": {
     "iopub.execute_input": "2020-11-10T17:24:19.213375Z",
     "iopub.status.busy": "2020-11-10T17:24:19.211749Z",
     "iopub.status.idle": "2020-11-10T17:24:19.233741Z",
     "shell.execute_reply": "2020-11-10T17:24:19.233136Z"
    },
    "papermill": {
     "duration": 0.143525,
     "end_time": "2020-11-10T17:24:19.233866",
     "exception": false,
     "start_time": "2020-11-10T17:24:19.090341",
     "status": "completed"
    },
    "scrolled": true,
    "tags": []
   },
   "outputs": [
    {
     "data": {
      "text/html": [
       "<div>\n",
       "<style scoped>\n",
       "    .dataframe tbody tr th:only-of-type {\n",
       "        vertical-align: middle;\n",
       "    }\n",
       "\n",
       "    .dataframe tbody tr th {\n",
       "        vertical-align: top;\n",
       "    }\n",
       "\n",
       "    .dataframe thead th {\n",
       "        text-align: right;\n",
       "    }\n",
       "</style>\n",
       "<table border=\"1\" class=\"dataframe\">\n",
       "  <thead>\n",
       "    <tr style=\"text-align: right;\">\n",
       "      <th></th>\n",
       "      <th>Suburb</th>\n",
       "      <th>Address</th>\n",
       "      <th>Rooms</th>\n",
       "      <th>Type</th>\n",
       "      <th>Price</th>\n",
       "      <th>Method</th>\n",
       "      <th>SellerG</th>\n",
       "      <th>Date</th>\n",
       "      <th>Distance</th>\n",
       "      <th>Postcode</th>\n",
       "      <th>Bedroom2</th>\n",
       "      <th>Bathroom</th>\n",
       "      <th>Car</th>\n",
       "      <th>Landsize</th>\n",
       "      <th>BuildingArea</th>\n",
       "      <th>YearBuilt</th>\n",
       "      <th>CouncilArea</th>\n",
       "      <th>Lattitude</th>\n",
       "      <th>Longtitude</th>\n",
       "      <th>Regionname</th>\n",
       "      <th>Propertycount</th>\n",
       "    </tr>\n",
       "  </thead>\n",
       "  <tbody>\n",
       "    <tr>\n",
       "      <th>0</th>\n",
       "      <td>Abbotsford</td>\n",
       "      <td>85 Turner St</td>\n",
       "      <td>2</td>\n",
       "      <td>h</td>\n",
       "      <td>1480000.0</td>\n",
       "      <td>S</td>\n",
       "      <td>Biggin</td>\n",
       "      <td>3/12/2016</td>\n",
       "      <td>2.5</td>\n",
       "      <td>3067.0</td>\n",
       "      <td>2.0</td>\n",
       "      <td>1.0</td>\n",
       "      <td>1.0</td>\n",
       "      <td>202.0</td>\n",
       "      <td>NaN</td>\n",
       "      <td>NaN</td>\n",
       "      <td>Yarra</td>\n",
       "      <td>-37.7996</td>\n",
       "      <td>144.9984</td>\n",
       "      <td>Northern Metropolitan</td>\n",
       "      <td>4019.0</td>\n",
       "    </tr>\n",
       "    <tr>\n",
       "      <th>1</th>\n",
       "      <td>Abbotsford</td>\n",
       "      <td>25 Bloomburg St</td>\n",
       "      <td>2</td>\n",
       "      <td>h</td>\n",
       "      <td>1035000.0</td>\n",
       "      <td>S</td>\n",
       "      <td>Biggin</td>\n",
       "      <td>4/02/2016</td>\n",
       "      <td>2.5</td>\n",
       "      <td>3067.0</td>\n",
       "      <td>2.0</td>\n",
       "      <td>1.0</td>\n",
       "      <td>0.0</td>\n",
       "      <td>156.0</td>\n",
       "      <td>79.0</td>\n",
       "      <td>1900.0</td>\n",
       "      <td>Yarra</td>\n",
       "      <td>-37.8079</td>\n",
       "      <td>144.9934</td>\n",
       "      <td>Northern Metropolitan</td>\n",
       "      <td>4019.0</td>\n",
       "    </tr>\n",
       "    <tr>\n",
       "      <th>2</th>\n",
       "      <td>Abbotsford</td>\n",
       "      <td>5 Charles St</td>\n",
       "      <td>3</td>\n",
       "      <td>h</td>\n",
       "      <td>1465000.0</td>\n",
       "      <td>SP</td>\n",
       "      <td>Biggin</td>\n",
       "      <td>4/03/2017</td>\n",
       "      <td>2.5</td>\n",
       "      <td>3067.0</td>\n",
       "      <td>3.0</td>\n",
       "      <td>2.0</td>\n",
       "      <td>0.0</td>\n",
       "      <td>134.0</td>\n",
       "      <td>150.0</td>\n",
       "      <td>1900.0</td>\n",
       "      <td>Yarra</td>\n",
       "      <td>-37.8093</td>\n",
       "      <td>144.9944</td>\n",
       "      <td>Northern Metropolitan</td>\n",
       "      <td>4019.0</td>\n",
       "    </tr>\n",
       "    <tr>\n",
       "      <th>3</th>\n",
       "      <td>Abbotsford</td>\n",
       "      <td>40 Federation La</td>\n",
       "      <td>3</td>\n",
       "      <td>h</td>\n",
       "      <td>850000.0</td>\n",
       "      <td>PI</td>\n",
       "      <td>Biggin</td>\n",
       "      <td>4/03/2017</td>\n",
       "      <td>2.5</td>\n",
       "      <td>3067.0</td>\n",
       "      <td>3.0</td>\n",
       "      <td>2.0</td>\n",
       "      <td>1.0</td>\n",
       "      <td>94.0</td>\n",
       "      <td>NaN</td>\n",
       "      <td>NaN</td>\n",
       "      <td>Yarra</td>\n",
       "      <td>-37.7969</td>\n",
       "      <td>144.9969</td>\n",
       "      <td>Northern Metropolitan</td>\n",
       "      <td>4019.0</td>\n",
       "    </tr>\n",
       "    <tr>\n",
       "      <th>4</th>\n",
       "      <td>Abbotsford</td>\n",
       "      <td>55a Park St</td>\n",
       "      <td>4</td>\n",
       "      <td>h</td>\n",
       "      <td>1600000.0</td>\n",
       "      <td>VB</td>\n",
       "      <td>Nelson</td>\n",
       "      <td>4/06/2016</td>\n",
       "      <td>2.5</td>\n",
       "      <td>3067.0</td>\n",
       "      <td>3.0</td>\n",
       "      <td>1.0</td>\n",
       "      <td>2.0</td>\n",
       "      <td>120.0</td>\n",
       "      <td>142.0</td>\n",
       "      <td>2014.0</td>\n",
       "      <td>Yarra</td>\n",
       "      <td>-37.8072</td>\n",
       "      <td>144.9941</td>\n",
       "      <td>Northern Metropolitan</td>\n",
       "      <td>4019.0</td>\n",
       "    </tr>\n",
       "  </tbody>\n",
       "</table>\n",
       "</div>"
      ],
      "text/plain": [
       "       Suburb           Address  Rooms Type      Price Method SellerG  \\\n",
       "0  Abbotsford      85 Turner St      2    h  1480000.0      S  Biggin   \n",
       "1  Abbotsford   25 Bloomburg St      2    h  1035000.0      S  Biggin   \n",
       "2  Abbotsford      5 Charles St      3    h  1465000.0     SP  Biggin   \n",
       "3  Abbotsford  40 Federation La      3    h   850000.0     PI  Biggin   \n",
       "4  Abbotsford       55a Park St      4    h  1600000.0     VB  Nelson   \n",
       "\n",
       "        Date  Distance  Postcode  Bedroom2  Bathroom  Car  Landsize  \\\n",
       "0  3/12/2016       2.5    3067.0       2.0       1.0  1.0     202.0   \n",
       "1  4/02/2016       2.5    3067.0       2.0       1.0  0.0     156.0   \n",
       "2  4/03/2017       2.5    3067.0       3.0       2.0  0.0     134.0   \n",
       "3  4/03/2017       2.5    3067.0       3.0       2.0  1.0      94.0   \n",
       "4  4/06/2016       2.5    3067.0       3.0       1.0  2.0     120.0   \n",
       "\n",
       "   BuildingArea  YearBuilt CouncilArea  Lattitude  Longtitude  \\\n",
       "0           NaN        NaN       Yarra   -37.7996    144.9984   \n",
       "1          79.0     1900.0       Yarra   -37.8079    144.9934   \n",
       "2         150.0     1900.0       Yarra   -37.8093    144.9944   \n",
       "3           NaN        NaN       Yarra   -37.7969    144.9969   \n",
       "4         142.0     2014.0       Yarra   -37.8072    144.9941   \n",
       "\n",
       "              Regionname  Propertycount  \n",
       "0  Northern Metropolitan         4019.0  \n",
       "1  Northern Metropolitan         4019.0  \n",
       "2  Northern Metropolitan         4019.0  \n",
       "3  Northern Metropolitan         4019.0  \n",
       "4  Northern Metropolitan         4019.0  "
      ]
     },
     "execution_count": 5,
     "metadata": {},
     "output_type": "execute_result"
    }
   ],
   "source": [
    "data.head()"
   ]
  },
  {
   "cell_type": "markdown",
   "metadata": {
    "papermill": {
     "duration": 0.098612,
     "end_time": "2020-11-10T17:24:19.430418",
     "exception": false,
     "start_time": "2020-11-10T17:24:19.331806",
     "status": "completed"
    },
    "tags": []
   },
   "source": [
    "- Let's check the last five rows from data"
   ]
  },
  {
   "cell_type": "code",
   "execution_count": 6,
   "metadata": {
    "execution": {
     "iopub.execute_input": "2020-11-10T17:24:19.658741Z",
     "iopub.status.busy": "2020-11-10T17:24:19.657781Z",
     "iopub.status.idle": "2020-11-10T17:24:19.662779Z",
     "shell.execute_reply": "2020-11-10T17:24:19.662038Z"
    },
    "papermill": {
     "duration": 0.133854,
     "end_time": "2020-11-10T17:24:19.662903",
     "exception": false,
     "start_time": "2020-11-10T17:24:19.529049",
     "status": "completed"
    },
    "scrolled": true,
    "tags": []
   },
   "outputs": [
    {
     "data": {
      "text/html": [
       "<div>\n",
       "<style scoped>\n",
       "    .dataframe tbody tr th:only-of-type {\n",
       "        vertical-align: middle;\n",
       "    }\n",
       "\n",
       "    .dataframe tbody tr th {\n",
       "        vertical-align: top;\n",
       "    }\n",
       "\n",
       "    .dataframe thead th {\n",
       "        text-align: right;\n",
       "    }\n",
       "</style>\n",
       "<table border=\"1\" class=\"dataframe\">\n",
       "  <thead>\n",
       "    <tr style=\"text-align: right;\">\n",
       "      <th></th>\n",
       "      <th>Suburb</th>\n",
       "      <th>Address</th>\n",
       "      <th>Rooms</th>\n",
       "      <th>Type</th>\n",
       "      <th>Price</th>\n",
       "      <th>Method</th>\n",
       "      <th>SellerG</th>\n",
       "      <th>Date</th>\n",
       "      <th>Distance</th>\n",
       "      <th>Postcode</th>\n",
       "      <th>Bedroom2</th>\n",
       "      <th>Bathroom</th>\n",
       "      <th>Car</th>\n",
       "      <th>Landsize</th>\n",
       "      <th>BuildingArea</th>\n",
       "      <th>YearBuilt</th>\n",
       "      <th>CouncilArea</th>\n",
       "      <th>Lattitude</th>\n",
       "      <th>Longtitude</th>\n",
       "      <th>Regionname</th>\n",
       "      <th>Propertycount</th>\n",
       "    </tr>\n",
       "  </thead>\n",
       "  <tbody>\n",
       "    <tr>\n",
       "      <th>13575</th>\n",
       "      <td>Wheelers Hill</td>\n",
       "      <td>12 Strada Cr</td>\n",
       "      <td>4</td>\n",
       "      <td>h</td>\n",
       "      <td>1245000.0</td>\n",
       "      <td>S</td>\n",
       "      <td>Barry</td>\n",
       "      <td>26/08/2017</td>\n",
       "      <td>16.7</td>\n",
       "      <td>3150.0</td>\n",
       "      <td>4.0</td>\n",
       "      <td>2.0</td>\n",
       "      <td>2.0</td>\n",
       "      <td>652.0</td>\n",
       "      <td>NaN</td>\n",
       "      <td>1981.0</td>\n",
       "      <td>NaN</td>\n",
       "      <td>-37.90562</td>\n",
       "      <td>145.16761</td>\n",
       "      <td>South-Eastern Metropolitan</td>\n",
       "      <td>7392.0</td>\n",
       "    </tr>\n",
       "    <tr>\n",
       "      <th>13576</th>\n",
       "      <td>Williamstown</td>\n",
       "      <td>77 Merrett Dr</td>\n",
       "      <td>3</td>\n",
       "      <td>h</td>\n",
       "      <td>1031000.0</td>\n",
       "      <td>SP</td>\n",
       "      <td>Williams</td>\n",
       "      <td>26/08/2017</td>\n",
       "      <td>6.8</td>\n",
       "      <td>3016.0</td>\n",
       "      <td>3.0</td>\n",
       "      <td>2.0</td>\n",
       "      <td>2.0</td>\n",
       "      <td>333.0</td>\n",
       "      <td>133.0</td>\n",
       "      <td>1995.0</td>\n",
       "      <td>NaN</td>\n",
       "      <td>-37.85927</td>\n",
       "      <td>144.87904</td>\n",
       "      <td>Western Metropolitan</td>\n",
       "      <td>6380.0</td>\n",
       "    </tr>\n",
       "    <tr>\n",
       "      <th>13577</th>\n",
       "      <td>Williamstown</td>\n",
       "      <td>83 Power St</td>\n",
       "      <td>3</td>\n",
       "      <td>h</td>\n",
       "      <td>1170000.0</td>\n",
       "      <td>S</td>\n",
       "      <td>Raine</td>\n",
       "      <td>26/08/2017</td>\n",
       "      <td>6.8</td>\n",
       "      <td>3016.0</td>\n",
       "      <td>3.0</td>\n",
       "      <td>2.0</td>\n",
       "      <td>4.0</td>\n",
       "      <td>436.0</td>\n",
       "      <td>NaN</td>\n",
       "      <td>1997.0</td>\n",
       "      <td>NaN</td>\n",
       "      <td>-37.85274</td>\n",
       "      <td>144.88738</td>\n",
       "      <td>Western Metropolitan</td>\n",
       "      <td>6380.0</td>\n",
       "    </tr>\n",
       "    <tr>\n",
       "      <th>13578</th>\n",
       "      <td>Williamstown</td>\n",
       "      <td>96 Verdon St</td>\n",
       "      <td>4</td>\n",
       "      <td>h</td>\n",
       "      <td>2500000.0</td>\n",
       "      <td>PI</td>\n",
       "      <td>Sweeney</td>\n",
       "      <td>26/08/2017</td>\n",
       "      <td>6.8</td>\n",
       "      <td>3016.0</td>\n",
       "      <td>4.0</td>\n",
       "      <td>1.0</td>\n",
       "      <td>5.0</td>\n",
       "      <td>866.0</td>\n",
       "      <td>157.0</td>\n",
       "      <td>1920.0</td>\n",
       "      <td>NaN</td>\n",
       "      <td>-37.85908</td>\n",
       "      <td>144.89299</td>\n",
       "      <td>Western Metropolitan</td>\n",
       "      <td>6380.0</td>\n",
       "    </tr>\n",
       "    <tr>\n",
       "      <th>13579</th>\n",
       "      <td>Yarraville</td>\n",
       "      <td>6 Agnes St</td>\n",
       "      <td>4</td>\n",
       "      <td>h</td>\n",
       "      <td>1285000.0</td>\n",
       "      <td>SP</td>\n",
       "      <td>Village</td>\n",
       "      <td>26/08/2017</td>\n",
       "      <td>6.3</td>\n",
       "      <td>3013.0</td>\n",
       "      <td>4.0</td>\n",
       "      <td>1.0</td>\n",
       "      <td>1.0</td>\n",
       "      <td>362.0</td>\n",
       "      <td>112.0</td>\n",
       "      <td>1920.0</td>\n",
       "      <td>NaN</td>\n",
       "      <td>-37.81188</td>\n",
       "      <td>144.88449</td>\n",
       "      <td>Western Metropolitan</td>\n",
       "      <td>6543.0</td>\n",
       "    </tr>\n",
       "  </tbody>\n",
       "</table>\n",
       "</div>"
      ],
      "text/plain": [
       "              Suburb        Address  Rooms Type      Price Method   SellerG  \\\n",
       "13575  Wheelers Hill   12 Strada Cr      4    h  1245000.0      S     Barry   \n",
       "13576   Williamstown  77 Merrett Dr      3    h  1031000.0     SP  Williams   \n",
       "13577   Williamstown    83 Power St      3    h  1170000.0      S     Raine   \n",
       "13578   Williamstown   96 Verdon St      4    h  2500000.0     PI   Sweeney   \n",
       "13579     Yarraville     6 Agnes St      4    h  1285000.0     SP   Village   \n",
       "\n",
       "             Date  Distance  Postcode  Bedroom2  Bathroom  Car  Landsize  \\\n",
       "13575  26/08/2017      16.7    3150.0       4.0       2.0  2.0     652.0   \n",
       "13576  26/08/2017       6.8    3016.0       3.0       2.0  2.0     333.0   \n",
       "13577  26/08/2017       6.8    3016.0       3.0       2.0  4.0     436.0   \n",
       "13578  26/08/2017       6.8    3016.0       4.0       1.0  5.0     866.0   \n",
       "13579  26/08/2017       6.3    3013.0       4.0       1.0  1.0     362.0   \n",
       "\n",
       "       BuildingArea  YearBuilt CouncilArea  Lattitude  Longtitude  \\\n",
       "13575           NaN     1981.0         NaN  -37.90562   145.16761   \n",
       "13576         133.0     1995.0         NaN  -37.85927   144.87904   \n",
       "13577           NaN     1997.0         NaN  -37.85274   144.88738   \n",
       "13578         157.0     1920.0         NaN  -37.85908   144.89299   \n",
       "13579         112.0     1920.0         NaN  -37.81188   144.88449   \n",
       "\n",
       "                       Regionname  Propertycount  \n",
       "13575  South-Eastern Metropolitan         7392.0  \n",
       "13576        Western Metropolitan         6380.0  \n",
       "13577        Western Metropolitan         6380.0  \n",
       "13578        Western Metropolitan         6380.0  \n",
       "13579        Western Metropolitan         6543.0  "
      ]
     },
     "execution_count": 6,
     "metadata": {},
     "output_type": "execute_result"
    }
   ],
   "source": [
    "data.tail()"
   ]
  },
  {
   "cell_type": "markdown",
   "metadata": {
    "papermill": {
     "duration": 0.099001,
     "end_time": "2020-11-10T17:24:19.907840",
     "exception": false,
     "start_time": "2020-11-10T17:24:19.808839",
     "status": "completed"
    },
    "tags": []
   },
   "source": [
    "- Let's check the random ten number of data samples, Every time it will print the random five sample of records from original datasets. So we can easly understand the behaviour and what types of data type stored in particular features."
   ]
  },
  {
   "cell_type": "code",
   "execution_count": 7,
   "metadata": {
    "execution": {
     "iopub.execute_input": "2020-11-10T17:24:20.149359Z",
     "iopub.status.busy": "2020-11-10T17:24:20.129252Z",
     "iopub.status.idle": "2020-11-10T17:24:20.154346Z",
     "shell.execute_reply": "2020-11-10T17:24:20.154908Z"
    },
    "papermill": {
     "duration": 0.146213,
     "end_time": "2020-11-10T17:24:20.155070",
     "exception": false,
     "start_time": "2020-11-10T17:24:20.008857",
     "status": "completed"
    },
    "scrolled": true,
    "tags": []
   },
   "outputs": [
    {
     "data": {
      "text/html": [
       "<div>\n",
       "<style scoped>\n",
       "    .dataframe tbody tr th:only-of-type {\n",
       "        vertical-align: middle;\n",
       "    }\n",
       "\n",
       "    .dataframe tbody tr th {\n",
       "        vertical-align: top;\n",
       "    }\n",
       "\n",
       "    .dataframe thead th {\n",
       "        text-align: right;\n",
       "    }\n",
       "</style>\n",
       "<table border=\"1\" class=\"dataframe\">\n",
       "  <thead>\n",
       "    <tr style=\"text-align: right;\">\n",
       "      <th></th>\n",
       "      <th>Suburb</th>\n",
       "      <th>Address</th>\n",
       "      <th>Rooms</th>\n",
       "      <th>Type</th>\n",
       "      <th>Price</th>\n",
       "      <th>Method</th>\n",
       "      <th>SellerG</th>\n",
       "      <th>Date</th>\n",
       "      <th>Distance</th>\n",
       "      <th>Postcode</th>\n",
       "      <th>Bedroom2</th>\n",
       "      <th>Bathroom</th>\n",
       "      <th>Car</th>\n",
       "      <th>Landsize</th>\n",
       "      <th>BuildingArea</th>\n",
       "      <th>YearBuilt</th>\n",
       "      <th>CouncilArea</th>\n",
       "      <th>Lattitude</th>\n",
       "      <th>Longtitude</th>\n",
       "      <th>Regionname</th>\n",
       "      <th>Propertycount</th>\n",
       "    </tr>\n",
       "  </thead>\n",
       "  <tbody>\n",
       "    <tr>\n",
       "      <th>10065</th>\n",
       "      <td>Templestowe Lower</td>\n",
       "      <td>20 Fyfe Dr</td>\n",
       "      <td>3</td>\n",
       "      <td>h</td>\n",
       "      <td>1181000.0</td>\n",
       "      <td>S</td>\n",
       "      <td>Jellis</td>\n",
       "      <td>24/06/2017</td>\n",
       "      <td>12.4</td>\n",
       "      <td>3107.0</td>\n",
       "      <td>3.0</td>\n",
       "      <td>1.0</td>\n",
       "      <td>2.0</td>\n",
       "      <td>656.0</td>\n",
       "      <td>NaN</td>\n",
       "      <td>NaN</td>\n",
       "      <td>Manningham</td>\n",
       "      <td>-37.77158</td>\n",
       "      <td>145.11816</td>\n",
       "      <td>Eastern Metropolitan</td>\n",
       "      <td>5420.0</td>\n",
       "    </tr>\n",
       "    <tr>\n",
       "      <th>5532</th>\n",
       "      <td>South Melbourne</td>\n",
       "      <td>38 Tribe St</td>\n",
       "      <td>3</td>\n",
       "      <td>h</td>\n",
       "      <td>2633000.0</td>\n",
       "      <td>S</td>\n",
       "      <td>Marshall</td>\n",
       "      <td>4/03/2017</td>\n",
       "      <td>2.1</td>\n",
       "      <td>3205.0</td>\n",
       "      <td>3.0</td>\n",
       "      <td>1.0</td>\n",
       "      <td>0.0</td>\n",
       "      <td>276.0</td>\n",
       "      <td>119.0</td>\n",
       "      <td>1900.0</td>\n",
       "      <td>Port Phillip</td>\n",
       "      <td>-37.83800</td>\n",
       "      <td>144.94890</td>\n",
       "      <td>Southern Metropolitan</td>\n",
       "      <td>5943.0</td>\n",
       "    </tr>\n",
       "    <tr>\n",
       "      <th>1549</th>\n",
       "      <td>Burwood</td>\n",
       "      <td>1/26 Peacock St</td>\n",
       "      <td>5</td>\n",
       "      <td>h</td>\n",
       "      <td>1100000.0</td>\n",
       "      <td>S</td>\n",
       "      <td>Buxton</td>\n",
       "      <td>27/06/2016</td>\n",
       "      <td>11.7</td>\n",
       "      <td>3125.0</td>\n",
       "      <td>5.0</td>\n",
       "      <td>2.0</td>\n",
       "      <td>1.0</td>\n",
       "      <td>544.0</td>\n",
       "      <td>NaN</td>\n",
       "      <td>NaN</td>\n",
       "      <td>Whitehorse</td>\n",
       "      <td>-37.85250</td>\n",
       "      <td>145.11540</td>\n",
       "      <td>Southern Metropolitan</td>\n",
       "      <td>5678.0</td>\n",
       "    </tr>\n",
       "    <tr>\n",
       "      <th>9497</th>\n",
       "      <td>Dandenong</td>\n",
       "      <td>58 Herbert St</td>\n",
       "      <td>4</td>\n",
       "      <td>h</td>\n",
       "      <td>1071500.0</td>\n",
       "      <td>S</td>\n",
       "      <td>McLennan</td>\n",
       "      <td>17/06/2017</td>\n",
       "      <td>24.7</td>\n",
       "      <td>3175.0</td>\n",
       "      <td>4.0</td>\n",
       "      <td>1.0</td>\n",
       "      <td>1.0</td>\n",
       "      <td>951.0</td>\n",
       "      <td>NaN</td>\n",
       "      <td>NaN</td>\n",
       "      <td>Greater Dandenong</td>\n",
       "      <td>-37.98121</td>\n",
       "      <td>145.21644</td>\n",
       "      <td>South-Eastern Metropolitan</td>\n",
       "      <td>10894.0</td>\n",
       "    </tr>\n",
       "    <tr>\n",
       "      <th>1339</th>\n",
       "      <td>Brunswick</td>\n",
       "      <td>15/11 Aberdeen St</td>\n",
       "      <td>2</td>\n",
       "      <td>u</td>\n",
       "      <td>350000.0</td>\n",
       "      <td>S</td>\n",
       "      <td>hockingstuart</td>\n",
       "      <td>22/05/2016</td>\n",
       "      <td>5.2</td>\n",
       "      <td>3056.0</td>\n",
       "      <td>2.0</td>\n",
       "      <td>1.0</td>\n",
       "      <td>1.0</td>\n",
       "      <td>0.0</td>\n",
       "      <td>NaN</td>\n",
       "      <td>NaN</td>\n",
       "      <td>Moreland</td>\n",
       "      <td>-37.76710</td>\n",
       "      <td>144.97020</td>\n",
       "      <td>Northern Metropolitan</td>\n",
       "      <td>11918.0</td>\n",
       "    </tr>\n",
       "    <tr>\n",
       "      <th>3636</th>\n",
       "      <td>Kew</td>\n",
       "      <td>2A Churchill St</td>\n",
       "      <td>3</td>\n",
       "      <td>h</td>\n",
       "      <td>1476000.0</td>\n",
       "      <td>S</td>\n",
       "      <td>Jellis</td>\n",
       "      <td>18/03/2017</td>\n",
       "      <td>5.6</td>\n",
       "      <td>3101.0</td>\n",
       "      <td>3.0</td>\n",
       "      <td>2.0</td>\n",
       "      <td>2.0</td>\n",
       "      <td>288.0</td>\n",
       "      <td>203.0</td>\n",
       "      <td>1997.0</td>\n",
       "      <td>Boroondara</td>\n",
       "      <td>-37.79970</td>\n",
       "      <td>145.04600</td>\n",
       "      <td>Southern Metropolitan</td>\n",
       "      <td>10331.0</td>\n",
       "    </tr>\n",
       "    <tr>\n",
       "      <th>13251</th>\n",
       "      <td>Northcote</td>\n",
       "      <td>271 Heidelberg Rd</td>\n",
       "      <td>2</td>\n",
       "      <td>h</td>\n",
       "      <td>1300000.0</td>\n",
       "      <td>VB</td>\n",
       "      <td>Nelson</td>\n",
       "      <td>23/09/2017</td>\n",
       "      <td>5.3</td>\n",
       "      <td>3070.0</td>\n",
       "      <td>2.0</td>\n",
       "      <td>1.0</td>\n",
       "      <td>0.0</td>\n",
       "      <td>320.0</td>\n",
       "      <td>NaN</td>\n",
       "      <td>1920.0</td>\n",
       "      <td>NaN</td>\n",
       "      <td>-37.78398</td>\n",
       "      <td>145.01124</td>\n",
       "      <td>Northern Metropolitan</td>\n",
       "      <td>11364.0</td>\n",
       "    </tr>\n",
       "    <tr>\n",
       "      <th>11573</th>\n",
       "      <td>Armadale</td>\n",
       "      <td>16/74 Denbigh Rd</td>\n",
       "      <td>2</td>\n",
       "      <td>u</td>\n",
       "      <td>486000.0</td>\n",
       "      <td>S</td>\n",
       "      <td>hockingstuart</td>\n",
       "      <td>22/07/2017</td>\n",
       "      <td>6.3</td>\n",
       "      <td>3143.0</td>\n",
       "      <td>2.0</td>\n",
       "      <td>1.0</td>\n",
       "      <td>2.0</td>\n",
       "      <td>0.0</td>\n",
       "      <td>63.0</td>\n",
       "      <td>1960.0</td>\n",
       "      <td>Stonnington</td>\n",
       "      <td>-37.85549</td>\n",
       "      <td>145.01630</td>\n",
       "      <td>Southern Metropolitan</td>\n",
       "      <td>4836.0</td>\n",
       "    </tr>\n",
       "    <tr>\n",
       "      <th>1213</th>\n",
       "      <td>Brighton East</td>\n",
       "      <td>7a Robinson St</td>\n",
       "      <td>5</td>\n",
       "      <td>h</td>\n",
       "      <td>1760000.0</td>\n",
       "      <td>PI</td>\n",
       "      <td>Kay</td>\n",
       "      <td>15/10/2016</td>\n",
       "      <td>10.7</td>\n",
       "      <td>3187.0</td>\n",
       "      <td>5.0</td>\n",
       "      <td>3.0</td>\n",
       "      <td>2.0</td>\n",
       "      <td>601.0</td>\n",
       "      <td>NaN</td>\n",
       "      <td>NaN</td>\n",
       "      <td>Bayside</td>\n",
       "      <td>-37.91900</td>\n",
       "      <td>145.01940</td>\n",
       "      <td>Southern Metropolitan</td>\n",
       "      <td>6938.0</td>\n",
       "    </tr>\n",
       "    <tr>\n",
       "      <th>11839</th>\n",
       "      <td>Templestowe Lower</td>\n",
       "      <td>1/6 Union St</td>\n",
       "      <td>2</td>\n",
       "      <td>t</td>\n",
       "      <td>731000.0</td>\n",
       "      <td>S</td>\n",
       "      <td>Jellis</td>\n",
       "      <td>22/07/2017</td>\n",
       "      <td>12.4</td>\n",
       "      <td>3107.0</td>\n",
       "      <td>2.0</td>\n",
       "      <td>1.0</td>\n",
       "      <td>1.0</td>\n",
       "      <td>217.0</td>\n",
       "      <td>115.0</td>\n",
       "      <td>2005.0</td>\n",
       "      <td>Manningham</td>\n",
       "      <td>-37.75671</td>\n",
       "      <td>145.11401</td>\n",
       "      <td>Eastern Metropolitan</td>\n",
       "      <td>5420.0</td>\n",
       "    </tr>\n",
       "  </tbody>\n",
       "</table>\n",
       "</div>"
      ],
      "text/plain": [
       "                  Suburb            Address  Rooms Type      Price Method  \\\n",
       "10065  Templestowe Lower         20 Fyfe Dr      3    h  1181000.0      S   \n",
       "5532     South Melbourne        38 Tribe St      3    h  2633000.0      S   \n",
       "1549             Burwood    1/26 Peacock St      5    h  1100000.0      S   \n",
       "9497           Dandenong      58 Herbert St      4    h  1071500.0      S   \n",
       "1339           Brunswick  15/11 Aberdeen St      2    u   350000.0      S   \n",
       "3636                 Kew    2A Churchill St      3    h  1476000.0      S   \n",
       "13251          Northcote  271 Heidelberg Rd      2    h  1300000.0     VB   \n",
       "11573           Armadale   16/74 Denbigh Rd      2    u   486000.0      S   \n",
       "1213       Brighton East     7a Robinson St      5    h  1760000.0     PI   \n",
       "11839  Templestowe Lower       1/6 Union St      2    t   731000.0      S   \n",
       "\n",
       "             SellerG        Date  Distance  Postcode  Bedroom2  Bathroom  Car  \\\n",
       "10065         Jellis  24/06/2017      12.4    3107.0       3.0       1.0  2.0   \n",
       "5532        Marshall   4/03/2017       2.1    3205.0       3.0       1.0  0.0   \n",
       "1549          Buxton  27/06/2016      11.7    3125.0       5.0       2.0  1.0   \n",
       "9497        McLennan  17/06/2017      24.7    3175.0       4.0       1.0  1.0   \n",
       "1339   hockingstuart  22/05/2016       5.2    3056.0       2.0       1.0  1.0   \n",
       "3636          Jellis  18/03/2017       5.6    3101.0       3.0       2.0  2.0   \n",
       "13251         Nelson  23/09/2017       5.3    3070.0       2.0       1.0  0.0   \n",
       "11573  hockingstuart  22/07/2017       6.3    3143.0       2.0       1.0  2.0   \n",
       "1213             Kay  15/10/2016      10.7    3187.0       5.0       3.0  2.0   \n",
       "11839         Jellis  22/07/2017      12.4    3107.0       2.0       1.0  1.0   \n",
       "\n",
       "       Landsize  BuildingArea  YearBuilt        CouncilArea  Lattitude  \\\n",
       "10065     656.0           NaN        NaN         Manningham  -37.77158   \n",
       "5532      276.0         119.0     1900.0       Port Phillip  -37.83800   \n",
       "1549      544.0           NaN        NaN         Whitehorse  -37.85250   \n",
       "9497      951.0           NaN        NaN  Greater Dandenong  -37.98121   \n",
       "1339        0.0           NaN        NaN           Moreland  -37.76710   \n",
       "3636      288.0         203.0     1997.0         Boroondara  -37.79970   \n",
       "13251     320.0           NaN     1920.0                NaN  -37.78398   \n",
       "11573       0.0          63.0     1960.0        Stonnington  -37.85549   \n",
       "1213      601.0           NaN        NaN            Bayside  -37.91900   \n",
       "11839     217.0         115.0     2005.0         Manningham  -37.75671   \n",
       "\n",
       "       Longtitude                  Regionname  Propertycount  \n",
       "10065   145.11816        Eastern Metropolitan         5420.0  \n",
       "5532    144.94890       Southern Metropolitan         5943.0  \n",
       "1549    145.11540       Southern Metropolitan         5678.0  \n",
       "9497    145.21644  South-Eastern Metropolitan        10894.0  \n",
       "1339    144.97020       Northern Metropolitan        11918.0  \n",
       "3636    145.04600       Southern Metropolitan        10331.0  \n",
       "13251   145.01124       Northern Metropolitan        11364.0  \n",
       "11573   145.01630       Southern Metropolitan         4836.0  \n",
       "1213    145.01940       Southern Metropolitan         6938.0  \n",
       "11839   145.11401        Eastern Metropolitan         5420.0  "
      ]
     },
     "execution_count": 7,
     "metadata": {},
     "output_type": "execute_result"
    }
   ],
   "source": [
    "data.sample(10)"
   ]
  },
  {
   "cell_type": "markdown",
   "metadata": {
    "papermill": {
     "duration": 0.099838,
     "end_time": "2020-11-10T17:24:20.354205",
     "exception": false,
     "start_time": "2020-11-10T17:24:20.254367",
     "status": "completed"
    },
    "tags": []
   },
   "source": [
    "### Target Feature"
   ]
  },
  {
   "cell_type": "code",
   "execution_count": 8,
   "metadata": {
    "execution": {
     "iopub.execute_input": "2020-11-10T17:24:20.563601Z",
     "iopub.status.busy": "2020-11-10T17:24:20.562536Z",
     "iopub.status.idle": "2020-11-10T17:24:20.567346Z",
     "shell.execute_reply": "2020-11-10T17:24:20.566532Z"
    },
    "papermill": {
     "duration": 0.111963,
     "end_time": "2020-11-10T17:24:20.567477",
     "exception": false,
     "start_time": "2020-11-10T17:24:20.455514",
     "status": "completed"
    },
    "tags": []
   },
   "outputs": [
    {
     "data": {
      "text/plain": [
       "0    1480000.0\n",
       "1    1035000.0\n",
       "2    1465000.0\n",
       "3     850000.0\n",
       "4    1600000.0\n",
       "Name: Price, dtype: float64"
      ]
     },
     "execution_count": 8,
     "metadata": {},
     "output_type": "execute_result"
    }
   ],
   "source": [
    "\n",
    "TARGET_FEATURE = 'Price'\n",
    "\n",
    "Y = data[TARGET_FEATURE]\n",
    "\n",
    "Y.head()"
   ]
  },
  {
   "cell_type": "code",
   "execution_count": 9,
   "metadata": {
    "execution": {
     "iopub.execute_input": "2020-11-10T17:24:20.799317Z",
     "iopub.status.busy": "2020-11-10T17:24:20.798566Z",
     "iopub.status.idle": "2020-11-10T17:24:20.812984Z",
     "shell.execute_reply": "2020-11-10T17:24:20.812218Z"
    },
    "papermill": {
     "duration": 0.132806,
     "end_time": "2020-11-10T17:24:20.813138",
     "exception": false,
     "start_time": "2020-11-10T17:24:20.680332",
     "status": "completed"
    },
    "scrolled": true,
    "tags": []
   },
   "outputs": [
    {
     "name": "stdout",
     "output_type": "stream",
     "text": [
      "<class 'pandas.core.frame.DataFrame'>\n",
      "RangeIndex: 13580 entries, 0 to 13579\n",
      "Data columns (total 21 columns):\n",
      " #   Column         Non-Null Count  Dtype  \n",
      "---  ------         --------------  -----  \n",
      " 0   Suburb         13580 non-null  object \n",
      " 1   Address        13580 non-null  object \n",
      " 2   Rooms          13580 non-null  int64  \n",
      " 3   Type           13580 non-null  object \n",
      " 4   Price          13580 non-null  float64\n",
      " 5   Method         13580 non-null  object \n",
      " 6   SellerG        13580 non-null  object \n",
      " 7   Date           13580 non-null  object \n",
      " 8   Distance       13580 non-null  float64\n",
      " 9   Postcode       13580 non-null  float64\n",
      " 10  Bedroom2       13580 non-null  float64\n",
      " 11  Bathroom       13580 non-null  float64\n",
      " 12  Car            13518 non-null  float64\n",
      " 13  Landsize       13580 non-null  float64\n",
      " 14  BuildingArea   7130 non-null   float64\n",
      " 15  YearBuilt      8205 non-null   float64\n",
      " 16  CouncilArea    12211 non-null  object \n",
      " 17  Lattitude      13580 non-null  float64\n",
      " 18  Longtitude     13580 non-null  float64\n",
      " 19  Regionname     13580 non-null  object \n",
      " 20  Propertycount  13580 non-null  float64\n",
      "dtypes: float64(12), int64(1), object(8)\n",
      "memory usage: 2.2+ MB\n"
     ]
    }
   ],
   "source": [
    "data.info()"
   ]
  },
  {
   "cell_type": "markdown",
   "metadata": {
    "papermill": {
     "duration": 0.101085,
     "end_time": "2020-11-10T17:24:21.016097",
     "exception": false,
     "start_time": "2020-11-10T17:24:20.915012",
     "status": "completed"
    },
    "tags": []
   },
   "source": [
    "As we can see in the output.\n",
    "\n",
    "1. There are **13580 entries**\n",
    "1. There are total **21 features (0 to 20)**\n",
    "1. There are three types of datatype dtypes: **float64(12), int64(1), object(8)**\n",
    "1. It's Memory usage that is, memory usage: **2.2+ MB**\n",
    "1. Also, We can check how many missing values available in the **Non-Null Count** column"
   ]
  },
  {
   "cell_type": "code",
   "execution_count": 10,
   "metadata": {
    "execution": {
     "iopub.execute_input": "2020-11-10T17:24:21.229586Z",
     "iopub.status.busy": "2020-11-10T17:24:21.228818Z",
     "iopub.status.idle": "2020-11-10T17:24:21.290486Z",
     "shell.execute_reply": "2020-11-10T17:24:21.289690Z"
    },
    "papermill": {
     "duration": 0.172178,
     "end_time": "2020-11-10T17:24:21.290621",
     "exception": false,
     "start_time": "2020-11-10T17:24:21.118443",
     "status": "completed"
    },
    "scrolled": true,
    "tags": []
   },
   "outputs": [
    {
     "data": {
      "text/html": [
       "<div>\n",
       "<style scoped>\n",
       "    .dataframe tbody tr th:only-of-type {\n",
       "        vertical-align: middle;\n",
       "    }\n",
       "\n",
       "    .dataframe tbody tr th {\n",
       "        vertical-align: top;\n",
       "    }\n",
       "\n",
       "    .dataframe thead th {\n",
       "        text-align: right;\n",
       "    }\n",
       "</style>\n",
       "<table border=\"1\" class=\"dataframe\">\n",
       "  <thead>\n",
       "    <tr style=\"text-align: right;\">\n",
       "      <th></th>\n",
       "      <th>Rooms</th>\n",
       "      <th>Price</th>\n",
       "      <th>Distance</th>\n",
       "      <th>Postcode</th>\n",
       "      <th>Bedroom2</th>\n",
       "      <th>Bathroom</th>\n",
       "      <th>Car</th>\n",
       "      <th>Landsize</th>\n",
       "      <th>BuildingArea</th>\n",
       "      <th>YearBuilt</th>\n",
       "      <th>Lattitude</th>\n",
       "      <th>Longtitude</th>\n",
       "      <th>Propertycount</th>\n",
       "    </tr>\n",
       "  </thead>\n",
       "  <tbody>\n",
       "    <tr>\n",
       "      <th>count</th>\n",
       "      <td>13580.000000</td>\n",
       "      <td>1.358000e+04</td>\n",
       "      <td>13580.000000</td>\n",
       "      <td>13580.000000</td>\n",
       "      <td>13580.000000</td>\n",
       "      <td>13580.000000</td>\n",
       "      <td>13518.000000</td>\n",
       "      <td>13580.000000</td>\n",
       "      <td>7130.000000</td>\n",
       "      <td>8205.000000</td>\n",
       "      <td>13580.000000</td>\n",
       "      <td>13580.000000</td>\n",
       "      <td>13580.000000</td>\n",
       "    </tr>\n",
       "    <tr>\n",
       "      <th>mean</th>\n",
       "      <td>2.937997</td>\n",
       "      <td>1.075684e+06</td>\n",
       "      <td>10.137776</td>\n",
       "      <td>3105.301915</td>\n",
       "      <td>2.914728</td>\n",
       "      <td>1.534242</td>\n",
       "      <td>1.610075</td>\n",
       "      <td>558.416127</td>\n",
       "      <td>151.967650</td>\n",
       "      <td>1964.684217</td>\n",
       "      <td>-37.809203</td>\n",
       "      <td>144.995216</td>\n",
       "      <td>7454.417378</td>\n",
       "    </tr>\n",
       "    <tr>\n",
       "      <th>std</th>\n",
       "      <td>0.955748</td>\n",
       "      <td>6.393107e+05</td>\n",
       "      <td>5.868725</td>\n",
       "      <td>90.676964</td>\n",
       "      <td>0.965921</td>\n",
       "      <td>0.691712</td>\n",
       "      <td>0.962634</td>\n",
       "      <td>3990.669241</td>\n",
       "      <td>541.014538</td>\n",
       "      <td>37.273762</td>\n",
       "      <td>0.079260</td>\n",
       "      <td>0.103916</td>\n",
       "      <td>4378.581772</td>\n",
       "    </tr>\n",
       "    <tr>\n",
       "      <th>min</th>\n",
       "      <td>1.000000</td>\n",
       "      <td>8.500000e+04</td>\n",
       "      <td>0.000000</td>\n",
       "      <td>3000.000000</td>\n",
       "      <td>0.000000</td>\n",
       "      <td>0.000000</td>\n",
       "      <td>0.000000</td>\n",
       "      <td>0.000000</td>\n",
       "      <td>0.000000</td>\n",
       "      <td>1196.000000</td>\n",
       "      <td>-38.182550</td>\n",
       "      <td>144.431810</td>\n",
       "      <td>249.000000</td>\n",
       "    </tr>\n",
       "    <tr>\n",
       "      <th>25%</th>\n",
       "      <td>2.000000</td>\n",
       "      <td>6.500000e+05</td>\n",
       "      <td>6.100000</td>\n",
       "      <td>3044.000000</td>\n",
       "      <td>2.000000</td>\n",
       "      <td>1.000000</td>\n",
       "      <td>1.000000</td>\n",
       "      <td>177.000000</td>\n",
       "      <td>93.000000</td>\n",
       "      <td>1940.000000</td>\n",
       "      <td>-37.856822</td>\n",
       "      <td>144.929600</td>\n",
       "      <td>4380.000000</td>\n",
       "    </tr>\n",
       "    <tr>\n",
       "      <th>50%</th>\n",
       "      <td>3.000000</td>\n",
       "      <td>9.030000e+05</td>\n",
       "      <td>9.200000</td>\n",
       "      <td>3084.000000</td>\n",
       "      <td>3.000000</td>\n",
       "      <td>1.000000</td>\n",
       "      <td>2.000000</td>\n",
       "      <td>440.000000</td>\n",
       "      <td>126.000000</td>\n",
       "      <td>1970.000000</td>\n",
       "      <td>-37.802355</td>\n",
       "      <td>145.000100</td>\n",
       "      <td>6555.000000</td>\n",
       "    </tr>\n",
       "    <tr>\n",
       "      <th>75%</th>\n",
       "      <td>3.000000</td>\n",
       "      <td>1.330000e+06</td>\n",
       "      <td>13.000000</td>\n",
       "      <td>3148.000000</td>\n",
       "      <td>3.000000</td>\n",
       "      <td>2.000000</td>\n",
       "      <td>2.000000</td>\n",
       "      <td>651.000000</td>\n",
       "      <td>174.000000</td>\n",
       "      <td>1999.000000</td>\n",
       "      <td>-37.756400</td>\n",
       "      <td>145.058305</td>\n",
       "      <td>10331.000000</td>\n",
       "    </tr>\n",
       "    <tr>\n",
       "      <th>max</th>\n",
       "      <td>10.000000</td>\n",
       "      <td>9.000000e+06</td>\n",
       "      <td>48.100000</td>\n",
       "      <td>3977.000000</td>\n",
       "      <td>20.000000</td>\n",
       "      <td>8.000000</td>\n",
       "      <td>10.000000</td>\n",
       "      <td>433014.000000</td>\n",
       "      <td>44515.000000</td>\n",
       "      <td>2018.000000</td>\n",
       "      <td>-37.408530</td>\n",
       "      <td>145.526350</td>\n",
       "      <td>21650.000000</td>\n",
       "    </tr>\n",
       "  </tbody>\n",
       "</table>\n",
       "</div>"
      ],
      "text/plain": [
       "              Rooms         Price      Distance      Postcode      Bedroom2  \\\n",
       "count  13580.000000  1.358000e+04  13580.000000  13580.000000  13580.000000   \n",
       "mean       2.937997  1.075684e+06     10.137776   3105.301915      2.914728   \n",
       "std        0.955748  6.393107e+05      5.868725     90.676964      0.965921   \n",
       "min        1.000000  8.500000e+04      0.000000   3000.000000      0.000000   \n",
       "25%        2.000000  6.500000e+05      6.100000   3044.000000      2.000000   \n",
       "50%        3.000000  9.030000e+05      9.200000   3084.000000      3.000000   \n",
       "75%        3.000000  1.330000e+06     13.000000   3148.000000      3.000000   \n",
       "max       10.000000  9.000000e+06     48.100000   3977.000000     20.000000   \n",
       "\n",
       "           Bathroom           Car       Landsize  BuildingArea    YearBuilt  \\\n",
       "count  13580.000000  13518.000000   13580.000000   7130.000000  8205.000000   \n",
       "mean       1.534242      1.610075     558.416127    151.967650  1964.684217   \n",
       "std        0.691712      0.962634    3990.669241    541.014538    37.273762   \n",
       "min        0.000000      0.000000       0.000000      0.000000  1196.000000   \n",
       "25%        1.000000      1.000000     177.000000     93.000000  1940.000000   \n",
       "50%        1.000000      2.000000     440.000000    126.000000  1970.000000   \n",
       "75%        2.000000      2.000000     651.000000    174.000000  1999.000000   \n",
       "max        8.000000     10.000000  433014.000000  44515.000000  2018.000000   \n",
       "\n",
       "          Lattitude    Longtitude  Propertycount  \n",
       "count  13580.000000  13580.000000   13580.000000  \n",
       "mean     -37.809203    144.995216    7454.417378  \n",
       "std        0.079260      0.103916    4378.581772  \n",
       "min      -38.182550    144.431810     249.000000  \n",
       "25%      -37.856822    144.929600    4380.000000  \n",
       "50%      -37.802355    145.000100    6555.000000  \n",
       "75%      -37.756400    145.058305   10331.000000  \n",
       "max      -37.408530    145.526350   21650.000000  "
      ]
     },
     "execution_count": 10,
     "metadata": {},
     "output_type": "execute_result"
    }
   ],
   "source": [
    "data.describe()"
   ]
  },
  {
   "cell_type": "markdown",
   "metadata": {
    "papermill": {
     "duration": 0.104445,
     "end_time": "2020-11-10T17:24:21.509015",
     "exception": false,
     "start_time": "2020-11-10T17:24:21.404570",
     "status": "completed"
    },
    "tags": []
   },
   "source": [
    "Here,`describe()` method provides us the complete calculations details about the dataset. i.e. let's take the `price` feature for example. It shows the what's the `min`, `max`, `mean(average)` and `std(standard deviation)` of price feature."
   ]
  },
  {
   "cell_type": "code",
   "execution_count": 11,
   "metadata": {
    "execution": {
     "iopub.execute_input": "2020-11-10T17:24:21.721099Z",
     "iopub.status.busy": "2020-11-10T17:24:21.720287Z",
     "iopub.status.idle": "2020-11-10T17:24:21.730330Z",
     "shell.execute_reply": "2020-11-10T17:24:21.729578Z"
    },
    "papermill": {
     "duration": 0.117329,
     "end_time": "2020-11-10T17:24:21.730452",
     "exception": false,
     "start_time": "2020-11-10T17:24:21.613123",
     "status": "completed"
    },
    "scrolled": true,
    "tags": []
   },
   "outputs": [
    {
     "data": {
      "text/plain": [
       "count    1.358000e+04\n",
       "mean     1.075684e+06\n",
       "std      6.393107e+05\n",
       "min      8.500000e+04\n",
       "20%      6.000000e+05\n",
       "40%      8.000000e+05\n",
       "50%      9.030000e+05\n",
       "60%      1.040000e+06\n",
       "80%      1.450000e+06\n",
       "max      9.000000e+06\n",
       "Name: Price, dtype: float64"
      ]
     },
     "execution_count": 11,
     "metadata": {},
     "output_type": "execute_result"
    }
   ],
   "source": [
    "data.Price.describe([.2, .4, .6, .8])"
   ]
  },
  {
   "cell_type": "markdown",
   "metadata": {
    "papermill": {
     "duration": 0.103265,
     "end_time": "2020-11-10T17:24:21.936369",
     "exception": false,
     "start_time": "2020-11-10T17:24:21.833104",
     "status": "completed"
    },
    "tags": []
   },
   "source": [
    "### Categorical Features"
   ]
  },
  {
   "cell_type": "code",
   "execution_count": 12,
   "metadata": {
    "execution": {
     "iopub.execute_input": "2020-11-10T17:24:22.152160Z",
     "iopub.status.busy": "2020-11-10T17:24:22.151208Z",
     "iopub.status.idle": "2020-11-10T17:24:22.155919Z",
     "shell.execute_reply": "2020-11-10T17:24:22.155271Z"
    },
    "papermill": {
     "duration": 0.116416,
     "end_time": "2020-11-10T17:24:22.156041",
     "exception": false,
     "start_time": "2020-11-10T17:24:22.039625",
     "status": "completed"
    },
    "scrolled": true,
    "tags": []
   },
   "outputs": [
    {
     "data": {
      "text/plain": [
       "(Index(['Rooms', 'Price', 'Distance', 'Postcode', 'Bedroom2', 'Bathroom', 'Car',\n",
       "        'Landsize', 'BuildingArea', 'YearBuilt', 'Lattitude', 'Longtitude',\n",
       "        'Propertycount'],\n",
       "       dtype='object'),\n",
       " 13)"
      ]
     },
     "execution_count": 12,
     "metadata": {},
     "output_type": "execute_result"
    }
   ],
   "source": [
    "numeric_features = data.select_dtypes(['int', 'float']).columns\n",
    "\n",
    "numeric_features , len(numeric_features)"
   ]
  },
  {
   "cell_type": "markdown",
   "metadata": {
    "papermill": {
     "duration": 0.104299,
     "end_time": "2020-11-10T17:24:22.365458",
     "exception": false,
     "start_time": "2020-11-10T17:24:22.261159",
     "status": "completed"
    },
    "tags": []
   },
   "source": [
    "### Numerical Features"
   ]
  },
  {
   "cell_type": "code",
   "execution_count": 13,
   "metadata": {
    "execution": {
     "iopub.execute_input": "2020-11-10T17:24:22.584392Z",
     "iopub.status.busy": "2020-11-10T17:24:22.579956Z",
     "iopub.status.idle": "2020-11-10T17:24:22.588598Z",
     "shell.execute_reply": "2020-11-10T17:24:22.589159Z"
    },
    "papermill": {
     "duration": 0.119475,
     "end_time": "2020-11-10T17:24:22.589323",
     "exception": false,
     "start_time": "2020-11-10T17:24:22.469848",
     "status": "completed"
    },
    "scrolled": true,
    "tags": []
   },
   "outputs": [
    {
     "data": {
      "text/plain": [
       "(Index(['Suburb', 'Address', 'Type', 'Method', 'SellerG', 'Date', 'CouncilArea',\n",
       "        'Regionname'],\n",
       "       dtype='object'),\n",
       " 8)"
      ]
     },
     "execution_count": 13,
     "metadata": {},
     "output_type": "execute_result"
    }
   ],
   "source": [
    "categorical_features = data.select_dtypes('object').columns\n",
    "\n",
    "categorical_features, len(categorical_features)"
   ]
  },
  {
   "cell_type": "code",
   "execution_count": 14,
   "metadata": {
    "execution": {
     "iopub.execute_input": "2020-11-10T17:24:22.805475Z",
     "iopub.status.busy": "2020-11-10T17:24:22.804506Z",
     "iopub.status.idle": "2020-11-10T17:24:22.808811Z",
     "shell.execute_reply": "2020-11-10T17:24:22.808126Z"
    },
    "papermill": {
     "duration": 0.115805,
     "end_time": "2020-11-10T17:24:22.808931",
     "exception": false,
     "start_time": "2020-11-10T17:24:22.693126",
     "status": "completed"
    },
    "scrolled": true,
    "tags": []
   },
   "outputs": [
    {
     "name": "stdout",
     "output_type": "stream",
     "text": [
      "Number of `Numerical` Features are: 13\n",
      "Number of `Categorical` Features are: 8\n",
      "`Total Number` of features are : 21\n"
     ]
    }
   ],
   "source": [
    "print(\"Number of `Numerical` Features are:\", len(numeric_features) )\n",
    "print(\"Number of `Categorical` Features are:\", len(categorical_features) )\n",
    "print(\"`Total Number` of features are :\", len(numeric_features | categorical_features) )\n"
   ]
  },
  {
   "cell_type": "markdown",
   "metadata": {
    "papermill": {
     "duration": 0.10531,
     "end_time": "2020-11-10T17:24:23.019170",
     "exception": false,
     "start_time": "2020-11-10T17:24:22.913860",
     "status": "completed"
    },
    "tags": []
   },
   "source": [
    "### Find the Missing Values"
   ]
  },
  {
   "cell_type": "markdown",
   "metadata": {
    "papermill": {
     "duration": 0.105282,
     "end_time": "2020-11-10T17:24:23.229240",
     "exception": false,
     "start_time": "2020-11-10T17:24:23.123958",
     "status": "completed"
    },
    "tags": []
   },
   "source": [
    "Here, We need to find how many missing values are there in our datasets."
   ]
  },
  {
   "cell_type": "code",
   "execution_count": 15,
   "metadata": {
    "execution": {
     "iopub.execute_input": "2020-11-10T17:24:23.456912Z",
     "iopub.status.busy": "2020-11-10T17:24:23.456127Z",
     "iopub.status.idle": "2020-11-10T17:24:23.463518Z",
     "shell.execute_reply": "2020-11-10T17:24:23.464203Z"
    },
    "papermill": {
     "duration": 0.12979,
     "end_time": "2020-11-10T17:24:23.464362",
     "exception": false,
     "start_time": "2020-11-10T17:24:23.334572",
     "status": "completed"
    },
    "scrolled": true,
    "tags": []
   },
   "outputs": [
    {
     "data": {
      "text/plain": [
       "BuildingArea     6450\n",
       "YearBuilt        5375\n",
       "CouncilArea      1369\n",
       "Car                62\n",
       "Propertycount       0\n",
       "Date                0\n",
       "Address             0\n",
       "Rooms               0\n",
       "Type                0\n",
       "Price               0\n",
       "Method              0\n",
       "SellerG             0\n",
       "Bedroom2            0\n",
       "Distance            0\n",
       "Postcode            0\n",
       "Regionname          0\n",
       "Bathroom            0\n",
       "Landsize            0\n",
       "Lattitude           0\n",
       "Longtitude          0\n",
       "Suburb              0\n",
       "dtype: int64"
      ]
     },
     "execution_count": 15,
     "metadata": {},
     "output_type": "execute_result"
    }
   ],
   "source": [
    "data.isna().sum().sort_values(ascending=False)"
   ]
  },
  {
   "cell_type": "markdown",
   "metadata": {
    "papermill": {
     "duration": 0.104508,
     "end_time": "2020-11-10T17:24:23.674485",
     "exception": false,
     "start_time": "2020-11-10T17:24:23.569977",
     "status": "completed"
    },
    "tags": []
   },
   "source": [
    "Here, We convert the number of missing values into percentages. So, we can easly understand to how many percentage of missing values available."
   ]
  },
  {
   "cell_type": "code",
   "execution_count": 16,
   "metadata": {
    "execution": {
     "iopub.execute_input": "2020-11-10T17:24:23.907262Z",
     "iopub.status.busy": "2020-11-10T17:24:23.894182Z",
     "iopub.status.idle": "2020-11-10T17:24:23.949328Z",
     "shell.execute_reply": "2020-11-10T17:24:23.949980Z"
    },
    "papermill": {
     "duration": 0.165517,
     "end_time": "2020-11-10T17:24:23.950144",
     "exception": false,
     "start_time": "2020-11-10T17:24:23.784627",
     "status": "completed"
    },
    "scrolled": true,
    "tags": []
   },
   "outputs": [
    {
     "data": {
      "text/plain": [
       "BuildingArea     47.496318\n",
       "YearBuilt        39.580265\n",
       "CouncilArea      10.081001\n",
       "Car               0.456554\n",
       "Propertycount     0.000000\n",
       "Date              0.000000\n",
       "Address           0.000000\n",
       "Rooms             0.000000\n",
       "Type              0.000000\n",
       "Price             0.000000\n",
       "Method            0.000000\n",
       "SellerG           0.000000\n",
       "Bedroom2          0.000000\n",
       "Distance          0.000000\n",
       "Postcode          0.000000\n",
       "Regionname        0.000000\n",
       "Bathroom          0.000000\n",
       "Landsize          0.000000\n",
       "Lattitude         0.000000\n",
       "Longtitude        0.000000\n",
       "Suburb            0.000000\n",
       "dtype: float64"
      ]
     },
     "execution_count": 16,
     "metadata": {},
     "output_type": "execute_result"
    }
   ],
   "source": [
    "(data.isna().sum() * 100 / data.isna().count()).sort_values(ascending=False)"
   ]
  },
  {
   "cell_type": "markdown",
   "metadata": {
    "papermill": {
     "duration": 0.105031,
     "end_time": "2020-11-10T17:24:24.172407",
     "exception": false,
     "start_time": "2020-11-10T17:24:24.067376",
     "status": "completed"
    },
    "tags": []
   },
   "source": [
    "- In abouve output, We can clearly see that, There are only four feature `'BuildingArea', 'YearBuilt', 'CouncilArea'` and `'Car'` has null values. So we have to fill some statastical values."
   ]
  },
  {
   "cell_type": "markdown",
   "metadata": {
    "papermill": {
     "duration": 0.106082,
     "end_time": "2020-11-10T17:24:24.386057",
     "exception": false,
     "start_time": "2020-11-10T17:24:24.279975",
     "status": "completed"
    },
    "tags": []
   },
   "source": [
    "### Filling Missing Values"
   ]
  },
  {
   "cell_type": "code",
   "execution_count": 17,
   "metadata": {
    "execution": {
     "iopub.execute_input": "2020-11-10T17:24:24.606406Z",
     "iopub.status.busy": "2020-11-10T17:24:24.605393Z",
     "iopub.status.idle": "2020-11-10T17:24:24.638511Z",
     "shell.execute_reply": "2020-11-10T17:24:24.639124Z"
    },
    "papermill": {
     "duration": 0.146305,
     "end_time": "2020-11-10T17:24:24.639291",
     "exception": false,
     "start_time": "2020-11-10T17:24:24.492986",
     "status": "completed"
    },
    "scrolled": true,
    "tags": []
   },
   "outputs": [
    {
     "data": {
      "text/html": [
       "<div>\n",
       "<style scoped>\n",
       "    .dataframe tbody tr th:only-of-type {\n",
       "        vertical-align: middle;\n",
       "    }\n",
       "\n",
       "    .dataframe tbody tr th {\n",
       "        vertical-align: top;\n",
       "    }\n",
       "\n",
       "    .dataframe thead th {\n",
       "        text-align: right;\n",
       "    }\n",
       "</style>\n",
       "<table border=\"1\" class=\"dataframe\">\n",
       "  <thead>\n",
       "    <tr style=\"text-align: right;\">\n",
       "      <th></th>\n",
       "      <th>BuildingArea</th>\n",
       "      <th>YearBuilt</th>\n",
       "      <th>CouncilArea</th>\n",
       "      <th>Car</th>\n",
       "    </tr>\n",
       "  </thead>\n",
       "  <tbody>\n",
       "    <tr>\n",
       "      <th>count</th>\n",
       "      <td>7130.000000</td>\n",
       "      <td>8205.000000</td>\n",
       "      <td>12211</td>\n",
       "      <td>13518.000000</td>\n",
       "    </tr>\n",
       "    <tr>\n",
       "      <th>unique</th>\n",
       "      <td>NaN</td>\n",
       "      <td>NaN</td>\n",
       "      <td>33</td>\n",
       "      <td>NaN</td>\n",
       "    </tr>\n",
       "    <tr>\n",
       "      <th>top</th>\n",
       "      <td>NaN</td>\n",
       "      <td>NaN</td>\n",
       "      <td>Moreland</td>\n",
       "      <td>NaN</td>\n",
       "    </tr>\n",
       "    <tr>\n",
       "      <th>freq</th>\n",
       "      <td>NaN</td>\n",
       "      <td>NaN</td>\n",
       "      <td>1163</td>\n",
       "      <td>NaN</td>\n",
       "    </tr>\n",
       "    <tr>\n",
       "      <th>mean</th>\n",
       "      <td>151.967650</td>\n",
       "      <td>1964.684217</td>\n",
       "      <td>NaN</td>\n",
       "      <td>1.610075</td>\n",
       "    </tr>\n",
       "    <tr>\n",
       "      <th>std</th>\n",
       "      <td>541.014538</td>\n",
       "      <td>37.273762</td>\n",
       "      <td>NaN</td>\n",
       "      <td>0.962634</td>\n",
       "    </tr>\n",
       "    <tr>\n",
       "      <th>min</th>\n",
       "      <td>0.000000</td>\n",
       "      <td>1196.000000</td>\n",
       "      <td>NaN</td>\n",
       "      <td>0.000000</td>\n",
       "    </tr>\n",
       "    <tr>\n",
       "      <th>25%</th>\n",
       "      <td>93.000000</td>\n",
       "      <td>1940.000000</td>\n",
       "      <td>NaN</td>\n",
       "      <td>1.000000</td>\n",
       "    </tr>\n",
       "    <tr>\n",
       "      <th>50%</th>\n",
       "      <td>126.000000</td>\n",
       "      <td>1970.000000</td>\n",
       "      <td>NaN</td>\n",
       "      <td>2.000000</td>\n",
       "    </tr>\n",
       "    <tr>\n",
       "      <th>75%</th>\n",
       "      <td>174.000000</td>\n",
       "      <td>1999.000000</td>\n",
       "      <td>NaN</td>\n",
       "      <td>2.000000</td>\n",
       "    </tr>\n",
       "    <tr>\n",
       "      <th>max</th>\n",
       "      <td>44515.000000</td>\n",
       "      <td>2018.000000</td>\n",
       "      <td>NaN</td>\n",
       "      <td>10.000000</td>\n",
       "    </tr>\n",
       "  </tbody>\n",
       "</table>\n",
       "</div>"
      ],
      "text/plain": [
       "        BuildingArea    YearBuilt CouncilArea           Car\n",
       "count    7130.000000  8205.000000       12211  13518.000000\n",
       "unique           NaN          NaN          33           NaN\n",
       "top              NaN          NaN    Moreland           NaN\n",
       "freq             NaN          NaN        1163           NaN\n",
       "mean      151.967650  1964.684217         NaN      1.610075\n",
       "std       541.014538    37.273762         NaN      0.962634\n",
       "min         0.000000  1196.000000         NaN      0.000000\n",
       "25%        93.000000  1940.000000         NaN      1.000000\n",
       "50%       126.000000  1970.000000         NaN      2.000000\n",
       "75%       174.000000  1999.000000         NaN      2.000000\n",
       "max     44515.000000  2018.000000         NaN     10.000000"
      ]
     },
     "execution_count": 17,
     "metadata": {},
     "output_type": "execute_result"
    }
   ],
   "source": [
    "data[['BuildingArea', 'YearBuilt', 'CouncilArea', 'Car']].describe(include='all')"
   ]
  },
  {
   "cell_type": "markdown",
   "metadata": {
    "papermill": {
     "duration": 0.10821,
     "end_time": "2020-11-10T17:24:24.863166",
     "exception": false,
     "start_time": "2020-11-10T17:24:24.754956",
     "status": "completed"
    },
    "tags": []
   },
   "source": [
    "- As we can see There is one feature have categorical values and rest are numerical features.\n"
   ]
  },
  {
   "cell_type": "code",
   "execution_count": 18,
   "metadata": {
    "execution": {
     "iopub.execute_input": "2020-11-10T17:24:25.082721Z",
     "iopub.status.busy": "2020-11-10T17:24:25.081934Z",
     "iopub.status.idle": "2020-11-10T17:24:25.091805Z",
     "shell.execute_reply": "2020-11-10T17:24:25.091125Z"
    },
    "papermill": {
     "duration": 0.121383,
     "end_time": "2020-11-10T17:24:25.091933",
     "exception": false,
     "start_time": "2020-11-10T17:24:24.970550",
     "status": "completed"
    },
    "tags": []
   },
   "outputs": [
    {
     "data": {
      "text/plain": [
       "NaN         47.496318\n",
       "120.00       0.839470\n",
       "110.00       0.655376\n",
       "100.00       0.648012\n",
       "130.00       0.618557\n",
       "              ...    \n",
       "9.00         0.007364\n",
       "11.00        0.007364\n",
       "180.56       0.007364\n",
       "89.25        0.007364\n",
       "44515.00     0.007364\n",
       "Name: BuildingArea, Length: 603, dtype: float64"
      ]
     },
     "execution_count": 18,
     "metadata": {},
     "output_type": "execute_result"
    }
   ],
   "source": [
    "# Let's check how many percentage values are NaN.\n",
    "\n",
    "data.BuildingArea.value_counts(normalize=True, dropna=False) * 100"
   ]
  },
  {
   "cell_type": "code",
   "execution_count": 19,
   "metadata": {
    "execution": {
     "iopub.execute_input": "2020-11-10T17:24:25.313105Z",
     "iopub.status.busy": "2020-11-10T17:24:25.312245Z",
     "iopub.status.idle": "2020-11-10T17:24:25.322729Z",
     "shell.execute_reply": "2020-11-10T17:24:25.321887Z"
    },
    "papermill": {
     "duration": 0.123354,
     "end_time": "2020-11-10T17:24:25.322869",
     "exception": false,
     "start_time": "2020-11-10T17:24:25.199515",
     "status": "completed"
    },
    "tags": []
   },
   "outputs": [
    {
     "data": {
      "text/plain": [
       "count     7130.000000\n",
       "mean       151.967650\n",
       "std        541.014538\n",
       "min          0.000000\n",
       "25%         93.000000\n",
       "50%        126.000000\n",
       "75%        174.000000\n",
       "max      44515.000000\n",
       "Name: BuildingArea, dtype: float64"
      ]
     },
     "execution_count": 19,
     "metadata": {},
     "output_type": "execute_result"
    }
   ],
   "source": [
    "# Check the numerical feature's statastical values.\n",
    "\n",
    "data.BuildingArea.describe()"
   ]
  },
  {
   "cell_type": "markdown",
   "metadata": {
    "papermill": {
     "duration": 0.108518,
     "end_time": "2020-11-10T17:24:25.547754",
     "exception": false,
     "start_time": "2020-11-10T17:24:25.439236",
     "status": "completed"
    },
    "tags": []
   },
   "source": [
    "- For Categorical feature, We fill the highest occorance value. In this case, highest occurrence value is `'Moreland'`. so we fill with this values. And other feature are fill with `mean(), median(),` and `mode()`."
   ]
  },
  {
   "cell_type": "code",
   "execution_count": 20,
   "metadata": {
    "execution": {
     "iopub.execute_input": "2020-11-10T17:24:25.771879Z",
     "iopub.status.busy": "2020-11-10T17:24:25.770817Z",
     "iopub.status.idle": "2020-11-10T17:24:25.774097Z",
     "shell.execute_reply": "2020-11-10T17:24:25.773498Z"
    },
    "papermill": {
     "duration": 0.118612,
     "end_time": "2020-11-10T17:24:25.774220",
     "exception": false,
     "start_time": "2020-11-10T17:24:25.655608",
     "status": "completed"
    },
    "scrolled": true,
    "tags": []
   },
   "outputs": [],
   "source": [
    "data['CouncilArea'] = data['CouncilArea'].fillna('Moreland')"
   ]
  },
  {
   "cell_type": "code",
   "execution_count": 21,
   "metadata": {
    "execution": {
     "iopub.execute_input": "2020-11-10T17:24:25.995461Z",
     "iopub.status.busy": "2020-11-10T17:24:25.994696Z",
     "iopub.status.idle": "2020-11-10T17:24:25.999748Z",
     "shell.execute_reply": "2020-11-10T17:24:25.999098Z"
    },
    "papermill": {
     "duration": 0.118452,
     "end_time": "2020-11-10T17:24:25.999869",
     "exception": false,
     "start_time": "2020-11-10T17:24:25.881417",
     "status": "completed"
    },
    "scrolled": true,
    "tags": []
   },
   "outputs": [],
   "source": [
    "data['YearBuilt'] = data['YearBuilt'].fillna(data['YearBuilt'].mode()[0])"
   ]
  },
  {
   "cell_type": "code",
   "execution_count": 22,
   "metadata": {
    "execution": {
     "iopub.execute_input": "2020-11-10T17:24:26.224433Z",
     "iopub.status.busy": "2020-11-10T17:24:26.223628Z",
     "iopub.status.idle": "2020-11-10T17:24:26.227559Z",
     "shell.execute_reply": "2020-11-10T17:24:26.226835Z"
    },
    "papermill": {
     "duration": 0.119145,
     "end_time": "2020-11-10T17:24:26.227698",
     "exception": false,
     "start_time": "2020-11-10T17:24:26.108553",
     "status": "completed"
    },
    "tags": []
   },
   "outputs": [],
   "source": [
    "data['BuildingArea'] = data['BuildingArea'].fillna(data['BuildingArea'].mean())"
   ]
  },
  {
   "cell_type": "code",
   "execution_count": 23,
   "metadata": {
    "execution": {
     "iopub.execute_input": "2020-11-10T17:24:26.451752Z",
     "iopub.status.busy": "2020-11-10T17:24:26.450858Z",
     "iopub.status.idle": "2020-11-10T17:24:26.455223Z",
     "shell.execute_reply": "2020-11-10T17:24:26.454595Z"
    },
    "papermill": {
     "duration": 0.118428,
     "end_time": "2020-11-10T17:24:26.455349",
     "exception": false,
     "start_time": "2020-11-10T17:24:26.336921",
     "status": "completed"
    },
    "tags": []
   },
   "outputs": [],
   "source": [
    "data['Car'] = data['Car'].fillna(data['Car'].median())"
   ]
  },
  {
   "cell_type": "code",
   "execution_count": 24,
   "metadata": {
    "execution": {
     "iopub.execute_input": "2020-11-10T17:24:26.689822Z",
     "iopub.status.busy": "2020-11-10T17:24:26.689054Z",
     "iopub.status.idle": "2020-11-10T17:24:26.696309Z",
     "shell.execute_reply": "2020-11-10T17:24:26.695719Z"
    },
    "papermill": {
     "duration": 0.132383,
     "end_time": "2020-11-10T17:24:26.696442",
     "exception": false,
     "start_time": "2020-11-10T17:24:26.564059",
     "status": "completed"
    },
    "tags": []
   },
   "outputs": [
    {
     "data": {
      "text/plain": [
       "Suburb           False\n",
       "Address          False\n",
       "Rooms            False\n",
       "Type             False\n",
       "Price            False\n",
       "Method           False\n",
       "SellerG          False\n",
       "Date             False\n",
       "Distance         False\n",
       "Postcode         False\n",
       "Bedroom2         False\n",
       "Bathroom         False\n",
       "Car              False\n",
       "Landsize         False\n",
       "BuildingArea     False\n",
       "YearBuilt        False\n",
       "CouncilArea      False\n",
       "Lattitude        False\n",
       "Longtitude       False\n",
       "Regionname       False\n",
       "Propertycount    False\n",
       "dtype: bool"
      ]
     },
     "execution_count": 24,
     "metadata": {},
     "output_type": "execute_result"
    }
   ],
   "source": [
    "# Now, is there any missing values are there?\n",
    "data.isna().any()"
   ]
  },
  {
   "cell_type": "markdown",
   "metadata": {
    "papermill": {
     "duration": 0.11107,
     "end_time": "2020-11-10T17:24:26.916541",
     "exception": false,
     "start_time": "2020-11-10T17:24:26.805471",
     "status": "completed"
    },
    "tags": []
   },
   "source": [
    "#### Categorical Features"
   ]
  },
  {
   "cell_type": "code",
   "execution_count": 25,
   "metadata": {
    "execution": {
     "iopub.execute_input": "2020-11-10T17:24:27.143489Z",
     "iopub.status.busy": "2020-11-10T17:24:27.142421Z",
     "iopub.status.idle": "2020-11-10T17:24:27.161341Z",
     "shell.execute_reply": "2020-11-10T17:24:27.160502Z"
    },
    "papermill": {
     "duration": 0.135069,
     "end_time": "2020-11-10T17:24:27.161502",
     "exception": false,
     "start_time": "2020-11-10T17:24:27.026433",
     "status": "completed"
    },
    "tags": []
   },
   "outputs": [
    {
     "name": "stdout",
     "output_type": "stream",
     "text": [
      "Total Records : 13580\n",
      "Total Unique Records of Suburb = 314\n",
      "Total Unique Records of Address = 13378\n",
      "Total Unique Records of Type = 3\n",
      "Total Unique Records of Method = 5\n",
      "Total Unique Records of SellerG = 268\n",
      "Total Unique Records of Date = 58\n",
      "Total Unique Records of CouncilArea = 33\n",
      "Total Unique Records of Regionname = 8\n"
     ]
    }
   ],
   "source": [
    "print(\"Total Records :\", len(data) )\n",
    "\n",
    "for col in categorical_features:\n",
    "    print(\"Total Unique Records of \"+ col + \" =\",  len(data[col].unique()))"
   ]
  },
  {
   "cell_type": "markdown",
   "metadata": {
    "papermill": {
     "duration": 0.109303,
     "end_time": "2020-11-10T17:24:27.381405",
     "exception": false,
     "start_time": "2020-11-10T17:24:27.272102",
     "status": "completed"
    },
    "tags": []
   },
   "source": [
    "###### Removing columns which has huge number of unique values"
   ]
  },
  {
   "cell_type": "code",
   "execution_count": 26,
   "metadata": {
    "execution": {
     "iopub.execute_input": "2020-11-10T17:24:27.608671Z",
     "iopub.status.busy": "2020-11-10T17:24:27.607931Z",
     "iopub.status.idle": "2020-11-10T17:24:27.611488Z",
     "shell.execute_reply": "2020-11-10T17:24:27.610792Z"
    },
    "papermill": {
     "duration": 0.119804,
     "end_time": "2020-11-10T17:24:27.611610",
     "exception": false,
     "start_time": "2020-11-10T17:24:27.491806",
     "status": "completed"
    },
    "tags": []
   },
   "outputs": [],
   "source": [
    "categorical_features = categorical_features.drop('Address')\n",
    "categorical_features = categorical_features.drop('SellerG')\n",
    "categorical_features = categorical_features.drop('Suburb')\n"
   ]
  },
  {
   "cell_type": "code",
   "execution_count": 27,
   "metadata": {
    "execution": {
     "iopub.execute_input": "2020-11-10T17:24:27.838732Z",
     "iopub.status.busy": "2020-11-10T17:24:27.837417Z",
     "iopub.status.idle": "2020-11-10T17:24:27.849499Z",
     "shell.execute_reply": "2020-11-10T17:24:27.850305Z"
    },
    "papermill": {
     "duration": 0.129318,
     "end_time": "2020-11-10T17:24:27.850508",
     "exception": false,
     "start_time": "2020-11-10T17:24:27.721190",
     "status": "completed"
    },
    "tags": []
   },
   "outputs": [
    {
     "name": "stdout",
     "output_type": "stream",
     "text": [
      "Total Records : 13580\n",
      "Total Unique Records of Type = 3\n",
      "Total Unique Records of Method = 5\n",
      "Total Unique Records of Date = 58\n",
      "Total Unique Records of CouncilArea = 33\n",
      "Total Unique Records of Regionname = 8\n"
     ]
    }
   ],
   "source": [
    "# Let's see again the number of unique records\n",
    "\n",
    "print(\"Total Records :\", len(data) )\n",
    "\n",
    "for col in categorical_features:\n",
    "    print(\"Total Unique Records of \"+ col + \" =\",  len(data[col].unique()))"
   ]
  },
  {
   "cell_type": "markdown",
   "metadata": {
    "papermill": {
     "duration": 0.110904,
     "end_time": "2020-11-10T17:24:28.096102",
     "exception": false,
     "start_time": "2020-11-10T17:24:27.985198",
     "status": "completed"
    },
    "tags": []
   },
   "source": [
    "# 3. Data Visualizations\n"
   ]
  },
  {
   "cell_type": "code",
   "execution_count": 28,
   "metadata": {
    "execution": {
     "iopub.execute_input": "2020-11-10T17:24:28.348472Z",
     "iopub.status.busy": "2020-11-10T17:24:28.347357Z",
     "iopub.status.idle": "2020-11-10T17:24:28.350932Z",
     "shell.execute_reply": "2020-11-10T17:24:28.351623Z"
    },
    "papermill": {
     "duration": 0.146158,
     "end_time": "2020-11-10T17:24:28.351790",
     "exception": false,
     "start_time": "2020-11-10T17:24:28.205632",
     "status": "completed"
    },
    "tags": []
   },
   "outputs": [
    {
     "data": {
      "text/html": [
       "<div>\n",
       "<style scoped>\n",
       "    .dataframe tbody tr th:only-of-type {\n",
       "        vertical-align: middle;\n",
       "    }\n",
       "\n",
       "    .dataframe tbody tr th {\n",
       "        vertical-align: top;\n",
       "    }\n",
       "\n",
       "    .dataframe thead th {\n",
       "        text-align: right;\n",
       "    }\n",
       "</style>\n",
       "<table border=\"1\" class=\"dataframe\">\n",
       "  <thead>\n",
       "    <tr style=\"text-align: right;\">\n",
       "      <th></th>\n",
       "      <th>Suburb</th>\n",
       "      <th>Address</th>\n",
       "      <th>Rooms</th>\n",
       "      <th>Type</th>\n",
       "      <th>Price</th>\n",
       "      <th>Method</th>\n",
       "      <th>SellerG</th>\n",
       "      <th>Date</th>\n",
       "      <th>Distance</th>\n",
       "      <th>Postcode</th>\n",
       "      <th>Bedroom2</th>\n",
       "      <th>Bathroom</th>\n",
       "      <th>Car</th>\n",
       "      <th>Landsize</th>\n",
       "      <th>BuildingArea</th>\n",
       "      <th>YearBuilt</th>\n",
       "      <th>CouncilArea</th>\n",
       "      <th>Lattitude</th>\n",
       "      <th>Longtitude</th>\n",
       "      <th>Regionname</th>\n",
       "      <th>Propertycount</th>\n",
       "    </tr>\n",
       "  </thead>\n",
       "  <tbody>\n",
       "    <tr>\n",
       "      <th>1863</th>\n",
       "      <td>Chadstone</td>\n",
       "      <td>2/44 Railway Pde S</td>\n",
       "      <td>3</td>\n",
       "      <td>u</td>\n",
       "      <td>700000.0</td>\n",
       "      <td>S</td>\n",
       "      <td>Bekdon</td>\n",
       "      <td>4/06/2016</td>\n",
       "      <td>13.6</td>\n",
       "      <td>3148.0</td>\n",
       "      <td>2.0</td>\n",
       "      <td>2.0</td>\n",
       "      <td>1.0</td>\n",
       "      <td>224.0</td>\n",
       "      <td>94.00000</td>\n",
       "      <td>2006.0</td>\n",
       "      <td>Monash</td>\n",
       "      <td>-37.87380</td>\n",
       "      <td>145.10540</td>\n",
       "      <td>Southern Metropolitan</td>\n",
       "      <td>3582.0</td>\n",
       "    </tr>\n",
       "    <tr>\n",
       "      <th>8073</th>\n",
       "      <td>Malvern East</td>\n",
       "      <td>15 Winton Rd</td>\n",
       "      <td>4</td>\n",
       "      <td>t</td>\n",
       "      <td>1510000.0</td>\n",
       "      <td>S</td>\n",
       "      <td>Jellis</td>\n",
       "      <td>20/05/2017</td>\n",
       "      <td>11.2</td>\n",
       "      <td>3145.0</td>\n",
       "      <td>4.0</td>\n",
       "      <td>3.0</td>\n",
       "      <td>2.0</td>\n",
       "      <td>274.0</td>\n",
       "      <td>225.98000</td>\n",
       "      <td>1970.0</td>\n",
       "      <td>Stonnington</td>\n",
       "      <td>-37.87300</td>\n",
       "      <td>145.06640</td>\n",
       "      <td>Southern Metropolitan</td>\n",
       "      <td>8801.0</td>\n",
       "    </tr>\n",
       "    <tr>\n",
       "      <th>13048</th>\n",
       "      <td>South Melbourne</td>\n",
       "      <td>16 Mountain St</td>\n",
       "      <td>3</td>\n",
       "      <td>h</td>\n",
       "      <td>1412000.0</td>\n",
       "      <td>SP</td>\n",
       "      <td>Marshall</td>\n",
       "      <td>19/08/2017</td>\n",
       "      <td>1.9</td>\n",
       "      <td>3205.0</td>\n",
       "      <td>3.0</td>\n",
       "      <td>1.0</td>\n",
       "      <td>2.0</td>\n",
       "      <td>128.0</td>\n",
       "      <td>130.00000</td>\n",
       "      <td>1880.0</td>\n",
       "      <td>Moreland</td>\n",
       "      <td>-37.83731</td>\n",
       "      <td>144.95057</td>\n",
       "      <td>Southern Metropolitan</td>\n",
       "      <td>5943.0</td>\n",
       "    </tr>\n",
       "    <tr>\n",
       "      <th>9584</th>\n",
       "      <td>Heathmont</td>\n",
       "      <td>8 Madigan Ct</td>\n",
       "      <td>3</td>\n",
       "      <td>t</td>\n",
       "      <td>670000.0</td>\n",
       "      <td>S</td>\n",
       "      <td>Ray</td>\n",
       "      <td>17/06/2017</td>\n",
       "      <td>21.3</td>\n",
       "      <td>3135.0</td>\n",
       "      <td>3.0</td>\n",
       "      <td>2.0</td>\n",
       "      <td>1.0</td>\n",
       "      <td>194.0</td>\n",
       "      <td>151.96765</td>\n",
       "      <td>1970.0</td>\n",
       "      <td>Maroondah</td>\n",
       "      <td>-37.82365</td>\n",
       "      <td>145.24001</td>\n",
       "      <td>Eastern Metropolitan</td>\n",
       "      <td>3794.0</td>\n",
       "    </tr>\n",
       "  </tbody>\n",
       "</table>\n",
       "</div>"
      ],
      "text/plain": [
       "                Suburb             Address  Rooms Type      Price Method  \\\n",
       "1863         Chadstone  2/44 Railway Pde S      3    u   700000.0      S   \n",
       "8073      Malvern East        15 Winton Rd      4    t  1510000.0      S   \n",
       "13048  South Melbourne      16 Mountain St      3    h  1412000.0     SP   \n",
       "9584         Heathmont        8 Madigan Ct      3    t   670000.0      S   \n",
       "\n",
       "        SellerG        Date  Distance  Postcode  Bedroom2  Bathroom  Car  \\\n",
       "1863     Bekdon   4/06/2016      13.6    3148.0       2.0       2.0  1.0   \n",
       "8073     Jellis  20/05/2017      11.2    3145.0       4.0       3.0  2.0   \n",
       "13048  Marshall  19/08/2017       1.9    3205.0       3.0       1.0  2.0   \n",
       "9584        Ray  17/06/2017      21.3    3135.0       3.0       2.0  1.0   \n",
       "\n",
       "       Landsize  BuildingArea  YearBuilt  CouncilArea  Lattitude  Longtitude  \\\n",
       "1863      224.0      94.00000     2006.0       Monash  -37.87380   145.10540   \n",
       "8073      274.0     225.98000     1970.0  Stonnington  -37.87300   145.06640   \n",
       "13048     128.0     130.00000     1880.0     Moreland  -37.83731   144.95057   \n",
       "9584      194.0     151.96765     1970.0    Maroondah  -37.82365   145.24001   \n",
       "\n",
       "                  Regionname  Propertycount  \n",
       "1863   Southern Metropolitan         3582.0  \n",
       "8073   Southern Metropolitan         8801.0  \n",
       "13048  Southern Metropolitan         5943.0  \n",
       "9584    Eastern Metropolitan         3794.0  "
      ]
     },
     "execution_count": 28,
     "metadata": {},
     "output_type": "execute_result"
    }
   ],
   "source": [
    "data.sample(4)\n"
   ]
  },
  {
   "cell_type": "code",
   "execution_count": 29,
   "metadata": {
    "execution": {
     "iopub.execute_input": "2020-11-10T17:24:28.587142Z",
     "iopub.status.busy": "2020-11-10T17:24:28.586336Z",
     "iopub.status.idle": "2020-11-10T17:24:29.403377Z",
     "shell.execute_reply": "2020-11-10T17:24:29.402694Z"
    },
    "papermill": {
     "duration": 0.934557,
     "end_time": "2020-11-10T17:24:29.403507",
     "exception": false,
     "start_time": "2020-11-10T17:24:28.468950",
     "status": "completed"
    },
    "tags": []
   },
   "outputs": [
    {
     "data": {
      "image/png": "[encoded data removed]",
      "text/plain": [
       "<Figure size 1080x504 with 1 Axes>"
      ]
     },
     "metadata": {
      "needs_background": "light"
     },
     "output_type": "display_data"
    }
   ],
   "source": [
    "plt.figure(figsize=(15, 7))\n",
    "sns.scatterplot(data.Date, data.Price);\n"
   ]
  },
  {
   "cell_type": "code",
   "execution_count": 30,
   "metadata": {
    "execution": {
     "iopub.execute_input": "2020-11-10T17:24:29.647024Z",
     "iopub.status.busy": "2020-11-10T17:24:29.646118Z",
     "iopub.status.idle": "2020-11-10T17:24:29.841083Z",
     "shell.execute_reply": "2020-11-10T17:24:29.840267Z"
    },
    "papermill": {
     "duration": 0.322637,
     "end_time": "2020-11-10T17:24:29.841212",
     "exception": false,
     "start_time": "2020-11-10T17:24:29.518575",
     "status": "completed"
    },
    "tags": []
   },
   "outputs": [
    {
     "data": {
      "image/png": "[encoded data removed]",
      "text/plain": [
       "<Figure size 720x360 with 1 Axes>"
      ]
     },
     "metadata": {
      "needs_background": "light"
     },
     "output_type": "display_data"
    }
   ],
   "source": [
    "plt.figure(figsize=(10, 5))\n",
    "sns.kdeplot(data.YearBuilt,Label='YearBuilt', color='r');\n"
   ]
  },
  {
   "cell_type": "code",
   "execution_count": 31,
   "metadata": {
    "execution": {
     "iopub.execute_input": "2020-11-10T17:24:30.097521Z",
     "iopub.status.busy": "2020-11-10T17:24:30.096671Z",
     "iopub.status.idle": "2020-11-10T17:24:30.284460Z",
     "shell.execute_reply": "2020-11-10T17:24:30.283697Z"
    },
    "papermill": {
     "duration": 0.315065,
     "end_time": "2020-11-10T17:24:30.284584",
     "exception": false,
     "start_time": "2020-11-10T17:24:29.969519",
     "status": "completed"
    },
    "tags": []
   },
   "outputs": [
    {
     "data": {
      "image/png": "[encoded data removed]",
      "text/plain": [
       "<Figure size 720x360 with 1 Axes>"
      ]
     },
     "metadata": {
      "needs_background": "light"
     },
     "output_type": "display_data"
    }
   ],
   "source": [
    "plt.figure(figsize=(10, 5))\n",
    "sns.kdeplot(data.Rooms,Label='Rooms', color='b');"
   ]
  },
  {
   "cell_type": "code",
   "execution_count": 32,
   "metadata": {
    "execution": {
     "iopub.execute_input": "2020-11-10T17:24:30.526541Z",
     "iopub.status.busy": "2020-11-10T17:24:30.525789Z",
     "iopub.status.idle": "2020-11-10T17:24:32.770953Z",
     "shell.execute_reply": "2020-11-10T17:24:32.771505Z"
    },
    "papermill": {
     "duration": 2.370911,
     "end_time": "2020-11-10T17:24:32.771686",
     "exception": false,
     "start_time": "2020-11-10T17:24:30.400775",
     "status": "completed"
    },
    "tags": []
   },
   "outputs": [
    {
     "data": {
      "text/html": [
       "        <script type=\"text/javascript\">\n",
       "        window.PlotlyConfig = {MathJaxConfig: 'local'};\n",
       "        if (window.MathJax) {MathJax.Hub.Config({SVG: {font: \"STIX-Web\"}});}\n",
       "        if (typeof require !== 'undefined') {\n",
       "        require.undef(\"plotly\");\n",
       "        requirejs.config({\n",
       "            paths: {\n",
       "                'plotly': ['https://cdn.plot.ly/plotly-latest.min']\n",
       "            }\n",
       "        });\n",
       "        require(['plotly'], function(Plotly) {\n",
       "            window._Plotly = Plotly;\n",
       "        });\n",
       "        }\n",
       "        </script>\n",
       "        "
      ]
     },
     "metadata": {},
     "output_type": "display_data"
    },
    {
     "data": {
      "text/html": [
       "<div>                            <div id=\"7eb08daf-a4fd-47f2-9f7e-444a3d19be71\" class=\"plotly-graph-div\" style=\"height:525px; width:100%;\"></div>            <script type=\"text/javascript\">                require([\"plotly\"], function(Plotly) {                    window.PLOTLYENV=window.PLOTLYENV || {};                                    if (document.getElementById(\"7eb08daf-a4fd-47f2-9f7e-444a3d19be71\")) {                    Plotly.newPlot(                        \"7eb08daf-a4fd-47f2-9f7e-444a3d19be71\",                        [{\"alignmentgroup\": \"True\", \"hovertemplate\": \"x=%{x}<br>y=%{y}<extra></extra>\", \"legendgroup\": \"\", \"marker\": {\"color\": \"#636efa\"}, \"name\": \"\", \"offsetgroup\": \"\", \"orientation\": \"v\", \"showlegend\": false, \"textposition\": \"auto\", \"type\": \"bar\", \"x\": [\"h\", \"u\", \"t\"], \"xaxis\": \"x\", \"y\": [9449, 3017, 1114], \"yaxis\": \"y\"}],                        {\"barmode\": \"relative\", \"legend\": {\"tracegroupgap\": 0}, \"margin\": {\"t\": 60}, \"template\": {\"data\": {\"bar\": [{\"error_x\": {\"color\": \"#2a3f5f\"}, \"error_y\": {\"color\": \"#2a3f5f\"}, \"marker\": {\"line\": {\"color\": \"#E5ECF6\", \"width\": 0.5}}, \"type\": \"bar\"}], \"barpolar\": [{\"marker\": {\"line\": {\"color\": \"#E5ECF6\", \"width\": 0.5}}, \"type\": \"barpolar\"}], \"carpet\": [{\"aaxis\": {\"endlinecolor\": \"#2a3f5f\", \"gridcolor\": \"white\", \"linecolor\": \"white\", \"minorgridcolor\": \"white\", \"startlinecolor\": \"#2a3f5f\"}, \"baxis\": {\"endlinecolor\": \"#2a3f5f\", \"gridcolor\": \"white\", \"linecolor\": \"white\", \"minorgridcolor\": \"white\", \"startlinecolor\": \"#2a3f5f\"}, \"type\": \"carpet\"}], \"choropleth\": [{\"colorbar\": {\"outlinewidth\": 0, \"ticks\": \"\"}, \"type\": \"choropleth\"}], \"contour\": [{\"colorbar\": {\"outlinewidth\": 0, \"ticks\": \"\"}, \"colorscale\": [[0.0, \"#0d0887\"], [0.1111111111111111, \"#46039f\"], [0.2222222222222222, \"#7201a8\"], [0.3333333333333333, \"#9c179e\"], [0.4444444444444444, \"#bd3786\"], [0.5555555555555556, \"#d8576b\"], [0.6666666666666666, \"#ed7953\"], [0.7777777777777778, \"#fb9f3a\"], [0.8888888888888888, \"#fdca26\"], [1.0, \"#f0f921\"]], \"type\": \"contour\"}], \"contourcarpet\": [{\"colorbar\": {\"outlinewidth\": 0, \"ticks\": \"\"}, \"type\": \"contourcarpet\"}], \"heatmap\": [{\"colorbar\": {\"outlinewidth\": 0, \"ticks\": \"\"}, \"colorscale\": [[0.0, \"#0d0887\"], [0.1111111111111111, \"#46039f\"], [0.2222222222222222, \"#7201a8\"], [0.3333333333333333, \"#9c179e\"], [0.4444444444444444, \"#bd3786\"], [0.5555555555555556, \"#d8576b\"], [0.6666666666666666, \"#ed7953\"], [0.7777777777777778, \"#fb9f3a\"], [0.8888888888888888, \"#fdca26\"], [1.0, \"#f0f921\"]], \"type\": \"heatmap\"}], \"heatmapgl\": [{\"colorbar\": {\"outlinewidth\": 0, \"ticks\": \"\"}, \"colorscale\": [[0.0, \"#0d0887\"], [0.1111111111111111, \"#46039f\"], [0.2222222222222222, \"#7201a8\"], [0.3333333333333333, \"#9c179e\"], [0.4444444444444444, \"#bd3786\"], [0.5555555555555556, \"#d8576b\"], [0.6666666666666666, \"#ed7953\"], [0.7777777777777778, \"#fb9f3a\"], [0.8888888888888888, \"#fdca26\"], [1.0, \"#f0f921\"]], \"type\": \"heatmapgl\"}], \"histogram\": [{\"marker\": {\"colorbar\": {\"outlinewidth\": 0, \"ticks\": \"\"}}, \"type\": \"histogram\"}], \"histogram2d\": [{\"colorbar\": {\"outlinewidth\": 0, \"ticks\": \"\"}, \"colorscale\": [[0.0, \"#0d0887\"], [0.1111111111111111, \"#46039f\"], [0.2222222222222222, \"#7201a8\"], [0.3333333333333333, \"#9c179e\"], [0.4444444444444444, \"#bd3786\"], [0.5555555555555556, \"#d8576b\"], [0.6666666666666666, \"#ed7953\"], [0.7777777777777778, \"#fb9f3a\"], [0.8888888888888888, \"#fdca26\"], [1.0, \"#f0f921\"]], \"type\": \"histogram2d\"}], \"histogram2dcontour\": [{\"colorbar\": {\"outlinewidth\": 0, \"ticks\": \"\"}, \"colorscale\": [[0.0, \"#0d0887\"], [0.1111111111111111, \"#46039f\"], [0.2222222222222222, \"#7201a8\"], [0.3333333333333333, \"#9c179e\"], [0.4444444444444444, \"#bd3786\"], [0.5555555555555556, \"#d8576b\"], [0.6666666666666666, \"#ed7953\"], [0.7777777777777778, \"#fb9f3a\"], [0.8888888888888888, \"#fdca26\"], [1.0, \"#f0f921\"]], \"type\": \"histogram2dcontour\"}], \"mesh3d\": [{\"colorbar\": {\"outlinewidth\": 0, \"ticks\": \"\"}, \"type\": \"mesh3d\"}], \"parcoords\": [{\"line\": {\"colorbar\": {\"outlinewidth\": 0, \"ticks\": \"\"}}, \"type\": \"parcoords\"}], \"pie\": [{\"automargin\": true, \"type\": \"pie\"}], \"scatter\": [{\"marker\": {\"colorbar\": {\"outlinewidth\": 0, \"ticks\": \"\"}}, \"type\": \"scatter\"}], \"scatter3d\": [{\"line\": {\"colorbar\": {\"outlinewidth\": 0, \"ticks\": \"\"}}, \"marker\": {\"colorbar\": {\"outlinewidth\": 0, \"ticks\": \"\"}}, \"type\": \"scatter3d\"}], \"scattercarpet\": [{\"marker\": {\"colorbar\": {\"outlinewidth\": 0, \"ticks\": \"\"}}, \"type\": \"scattercarpet\"}], \"scattergeo\": [{\"marker\": {\"colorbar\": {\"outlinewidth\": 0, \"ticks\": \"\"}}, \"type\": \"scattergeo\"}], \"scattergl\": [{\"marker\": {\"colorbar\": {\"outlinewidth\": 0, \"ticks\": \"\"}}, \"type\": \"scattergl\"}], \"scattermapbox\": [{\"marker\": {\"colorbar\": {\"outlinewidth\": 0, \"ticks\": \"\"}}, \"type\": \"scattermapbox\"}], \"scatterpolar\": [{\"marker\": {\"colorbar\": {\"outlinewidth\": 0, \"ticks\": \"\"}}, \"type\": \"scatterpolar\"}], \"scatterpolargl\": [{\"marker\": {\"colorbar\": {\"outlinewidth\": 0, \"ticks\": \"\"}}, \"type\": \"scatterpolargl\"}], \"scatterternary\": [{\"marker\": {\"colorbar\": {\"outlinewidth\": 0, \"ticks\": \"\"}}, \"type\": \"scatterternary\"}], \"surface\": [{\"colorbar\": {\"outlinewidth\": 0, \"ticks\": \"\"}, \"colorscale\": [[0.0, \"#0d0887\"], [0.1111111111111111, \"#46039f\"], [0.2222222222222222, \"#7201a8\"], [0.3333333333333333, \"#9c179e\"], [0.4444444444444444, \"#bd3786\"], [0.5555555555555556, \"#d8576b\"], [0.6666666666666666, \"#ed7953\"], [0.7777777777777778, \"#fb9f3a\"], [0.8888888888888888, \"#fdca26\"], [1.0, \"#f0f921\"]], \"type\": \"surface\"}], \"table\": [{\"cells\": {\"fill\": {\"color\": \"#EBF0F8\"}, \"line\": {\"color\": \"white\"}}, \"header\": {\"fill\": {\"color\": \"#C8D4E3\"}, \"line\": {\"color\": \"white\"}}, \"type\": \"table\"}]}, \"layout\": {\"annotationdefaults\": {\"arrowcolor\": \"#2a3f5f\", \"arrowhead\": 0, \"arrowwidth\": 1}, \"coloraxis\": {\"colorbar\": {\"outlinewidth\": 0, \"ticks\": \"\"}}, \"colorscale\": {\"diverging\": [[0, \"#8e0152\"], [0.1, \"#c51b7d\"], [0.2, \"#de77ae\"], [0.3, \"#f1b6da\"], [0.4, \"#fde0ef\"], [0.5, \"#f7f7f7\"], [0.6, \"#e6f5d0\"], [0.7, \"#b8e186\"], [0.8, \"#7fbc41\"], [0.9, \"#4d9221\"], [1, \"#276419\"]], \"sequential\": [[0.0, \"#0d0887\"], [0.1111111111111111, \"#46039f\"], [0.2222222222222222, \"#7201a8\"], [0.3333333333333333, \"#9c179e\"], [0.4444444444444444, \"#bd3786\"], [0.5555555555555556, \"#d8576b\"], [0.6666666666666666, \"#ed7953\"], [0.7777777777777778, \"#fb9f3a\"], [0.8888888888888888, \"#fdca26\"], [1.0, \"#f0f921\"]], \"sequentialminus\": [[0.0, \"#0d0887\"], [0.1111111111111111, \"#46039f\"], [0.2222222222222222, \"#7201a8\"], [0.3333333333333333, \"#9c179e\"], [0.4444444444444444, \"#bd3786\"], [0.5555555555555556, \"#d8576b\"], [0.6666666666666666, \"#ed7953\"], [0.7777777777777778, \"#fb9f3a\"], [0.8888888888888888, \"#fdca26\"], [1.0, \"#f0f921\"]]}, \"colorway\": [\"#636efa\", \"#EF553B\", \"#00cc96\", \"#ab63fa\", \"#FFA15A\", \"#19d3f3\", \"#FF6692\", \"#B6E880\", \"#FF97FF\", \"#FECB52\"], \"font\": {\"color\": \"#2a3f5f\"}, \"geo\": {\"bgcolor\": \"white\", \"lakecolor\": \"white\", \"landcolor\": \"#E5ECF6\", \"showlakes\": true, \"showland\": true, \"subunitcolor\": \"white\"}, \"hoverlabel\": {\"align\": \"left\"}, \"hovermode\": \"closest\", \"mapbox\": {\"style\": \"light\"}, \"paper_bgcolor\": \"white\", \"plot_bgcolor\": \"#E5ECF6\", \"polar\": {\"angularaxis\": {\"gridcolor\": \"white\", \"linecolor\": \"white\", \"ticks\": \"\"}, \"bgcolor\": \"#E5ECF6\", \"radialaxis\": {\"gridcolor\": \"white\", \"linecolor\": \"white\", \"ticks\": \"\"}}, \"scene\": {\"xaxis\": {\"backgroundcolor\": \"#E5ECF6\", \"gridcolor\": \"white\", \"gridwidth\": 2, \"linecolor\": \"white\", \"showbackground\": true, \"ticks\": \"\", \"zerolinecolor\": \"white\"}, \"yaxis\": {\"backgroundcolor\": \"#E5ECF6\", \"gridcolor\": \"white\", \"gridwidth\": 2, \"linecolor\": \"white\", \"showbackground\": true, \"ticks\": \"\", \"zerolinecolor\": \"white\"}, \"zaxis\": {\"backgroundcolor\": \"#E5ECF6\", \"gridcolor\": \"white\", \"gridwidth\": 2, \"linecolor\": \"white\", \"showbackground\": true, \"ticks\": \"\", \"zerolinecolor\": \"white\"}}, \"shapedefaults\": {\"line\": {\"color\": \"#2a3f5f\"}}, \"ternary\": {\"aaxis\": {\"gridcolor\": \"white\", \"linecolor\": \"white\", \"ticks\": \"\"}, \"baxis\": {\"gridcolor\": \"white\", \"linecolor\": \"white\", \"ticks\": \"\"}, \"bgcolor\": \"#E5ECF6\", \"caxis\": {\"gridcolor\": \"white\", \"linecolor\": \"white\", \"ticks\": \"\"}}, \"title\": {\"x\": 0.05}, \"xaxis\": {\"automargin\": true, \"gridcolor\": \"white\", \"linecolor\": \"white\", \"ticks\": \"\", \"title\": {\"standoff\": 15}, \"zerolinecolor\": \"white\", \"zerolinewidth\": 2}, \"yaxis\": {\"automargin\": true, \"gridcolor\": \"white\", \"linecolor\": \"white\", \"ticks\": \"\", \"title\": {\"standoff\": 15}, \"zerolinecolor\": \"white\", \"zerolinewidth\": 2}}}, \"xaxis\": {\"anchor\": \"y\", \"domain\": [0.0, 1.0], \"title\": {\"text\": \"x\"}}, \"yaxis\": {\"anchor\": \"x\", \"domain\": [0.0, 1.0], \"title\": {\"text\": \"y\"}}},                        {\"responsive\": true}                    ).then(function(){\n",
       "                            \n",
       "var gd = document.getElementById('7eb08daf-a4fd-47f2-9f7e-444a3d19be71');\n",
       "var x = new MutationObserver(function (mutations, observer) {{\n",
       "        var display = window.getComputedStyle(gd).display;\n",
       "        if (!display || display === 'none') {{\n",
       "            console.log([gd, 'removed!']);\n",
       "            Plotly.purge(gd);\n",
       "            observer.disconnect();\n",
       "        }}\n",
       "}});\n",
       "\n",
       "// Listen for the removal of the full notebook cells\n",
       "var notebookContainer = gd.closest('#notebook-container');\n",
       "if (notebookContainer) {{\n",
       "    x.observe(notebookContainer, {childList: true});\n",
       "}}\n",
       "\n",
       "// Listen for the clearing of the current output cell\n",
       "var outputEl = gd.closest('.output');\n",
       "if (outputEl) {{\n",
       "    x.observe(outputEl, {childList: true});\n",
       "}}\n",
       "\n",
       "                        })                };                });            </script>        </div>"
      ]
     },
     "metadata": {},
     "output_type": "display_data"
    },
    {
     "data": {
      "text/html": [
       "<div>                            <div id=\"530f9642-38ab-4f9e-9cb1-02b4769e1b52\" class=\"plotly-graph-div\" style=\"height:525px; width:100%;\"></div>            <script type=\"text/javascript\">                require([\"plotly\"], function(Plotly) {                    window.PLOTLYENV=window.PLOTLYENV || {};                                    if (document.getElementById(\"530f9642-38ab-4f9e-9cb1-02b4769e1b52\")) {                    Plotly.newPlot(                        \"530f9642-38ab-4f9e-9cb1-02b4769e1b52\",                        [{\"alignmentgroup\": \"True\", \"hovertemplate\": \"x=%{x}<br>y=%{y}<extra></extra>\", \"legendgroup\": \"\", \"marker\": {\"color\": \"#636efa\"}, \"name\": \"\", \"offsetgroup\": \"\", \"orientation\": \"v\", \"showlegend\": false, \"textposition\": \"auto\", \"type\": \"bar\", \"x\": [\"S\", \"SP\", \"PI\", \"VB\", \"SA\"], \"xaxis\": \"x\", \"y\": [9022, 1703, 1564, 1199, 92], \"yaxis\": \"y\"}],                        {\"barmode\": \"relative\", \"legend\": {\"tracegroupgap\": 0}, \"margin\": {\"t\": 60}, \"template\": {\"data\": {\"bar\": [{\"error_x\": {\"color\": \"#2a3f5f\"}, \"error_y\": {\"color\": \"#2a3f5f\"}, \"marker\": {\"line\": {\"color\": \"#E5ECF6\", \"width\": 0.5}}, \"type\": \"bar\"}], \"barpolar\": [{\"marker\": {\"line\": {\"color\": \"#E5ECF6\", \"width\": 0.5}}, \"type\": \"barpolar\"}], \"carpet\": [{\"aaxis\": {\"endlinecolor\": \"#2a3f5f\", \"gridcolor\": \"white\", \"linecolor\": \"white\", \"minorgridcolor\": \"white\", \"startlinecolor\": \"#2a3f5f\"}, \"baxis\": {\"endlinecolor\": \"#2a3f5f\", \"gridcolor\": \"white\", \"linecolor\": \"white\", \"minorgridcolor\": \"white\", \"startlinecolor\": \"#2a3f5f\"}, \"type\": \"carpet\"}], \"choropleth\": [{\"colorbar\": {\"outlinewidth\": 0, \"ticks\": \"\"}, \"type\": \"choropleth\"}], \"contour\": [{\"colorbar\": {\"outlinewidth\": 0, \"ticks\": \"\"}, \"colorscale\": [[0.0, \"#0d0887\"], [0.1111111111111111, \"#46039f\"], [0.2222222222222222, \"#7201a8\"], [0.3333333333333333, \"#9c179e\"], [0.4444444444444444, \"#bd3786\"], [0.5555555555555556, \"#d8576b\"], [0.6666666666666666, \"#ed7953\"], [0.7777777777777778, \"#fb9f3a\"], [0.8888888888888888, \"#fdca26\"], [1.0, \"#f0f921\"]], \"type\": \"contour\"}], \"contourcarpet\": [{\"colorbar\": {\"outlinewidth\": 0, \"ticks\": \"\"}, \"type\": \"contourcarpet\"}], \"heatmap\": [{\"colorbar\": {\"outlinewidth\": 0, \"ticks\": \"\"}, \"colorscale\": [[0.0, \"#0d0887\"], [0.1111111111111111, \"#46039f\"], [0.2222222222222222, \"#7201a8\"], [0.3333333333333333, \"#9c179e\"], [0.4444444444444444, \"#bd3786\"], [0.5555555555555556, \"#d8576b\"], [0.6666666666666666, \"#ed7953\"], [0.7777777777777778, \"#fb9f3a\"], [0.8888888888888888, \"#fdca26\"], [1.0, \"#f0f921\"]], \"type\": \"heatmap\"}], \"heatmapgl\": [{\"colorbar\": {\"outlinewidth\": 0, \"ticks\": \"\"}, \"colorscale\": [[0.0, \"#0d0887\"], [0.1111111111111111, \"#46039f\"], [0.2222222222222222, \"#7201a8\"], [0.3333333333333333, \"#9c179e\"], [0.4444444444444444, \"#bd3786\"], [0.5555555555555556, \"#d8576b\"], [0.6666666666666666, \"#ed7953\"], [0.7777777777777778, \"#fb9f3a\"], [0.8888888888888888, \"#fdca26\"], [1.0, \"#f0f921\"]], \"type\": \"heatmapgl\"}], \"histogram\": [{\"marker\": {\"colorbar\": {\"outlinewidth\": 0, \"ticks\": \"\"}}, \"type\": \"histogram\"}], \"histogram2d\": [{\"colorbar\": {\"outlinewidth\": 0, \"ticks\": \"\"}, \"colorscale\": [[0.0, \"#0d0887\"], [0.1111111111111111, \"#46039f\"], [0.2222222222222222, \"#7201a8\"], [0.3333333333333333, \"#9c179e\"], [0.4444444444444444, \"#bd3786\"], [0.5555555555555556, \"#d8576b\"], [0.6666666666666666, \"#ed7953\"], [0.7777777777777778, \"#fb9f3a\"], [0.8888888888888888, \"#fdca26\"], [1.0, \"#f0f921\"]], \"type\": \"histogram2d\"}], \"histogram2dcontour\": [{\"colorbar\": {\"outlinewidth\": 0, \"ticks\": \"\"}, \"colorscale\": [[0.0, \"#0d0887\"], [0.1111111111111111, \"#46039f\"], [0.2222222222222222, \"#7201a8\"], [0.3333333333333333, \"#9c179e\"], [0.4444444444444444, \"#bd3786\"], [0.5555555555555556, \"#d8576b\"], [0.6666666666666666, \"#ed7953\"], [0.7777777777777778, \"#fb9f3a\"], [0.8888888888888888, \"#fdca26\"], [1.0, \"#f0f921\"]], \"type\": \"histogram2dcontour\"}], \"mesh3d\": [{\"colorbar\": {\"outlinewidth\": 0, \"ticks\": \"\"}, \"type\": \"mesh3d\"}], \"parcoords\": [{\"line\": {\"colorbar\": {\"outlinewidth\": 0, \"ticks\": \"\"}}, \"type\": \"parcoords\"}], \"pie\": [{\"automargin\": true, \"type\": \"pie\"}], \"scatter\": [{\"marker\": {\"colorbar\": {\"outlinewidth\": 0, \"ticks\": \"\"}}, \"type\": \"scatter\"}], \"scatter3d\": [{\"line\": {\"colorbar\": {\"outlinewidth\": 0, \"ticks\": \"\"}}, \"marker\": {\"colorbar\": {\"outlinewidth\": 0, \"ticks\": \"\"}}, \"type\": \"scatter3d\"}], \"scattercarpet\": [{\"marker\": {\"colorbar\": {\"outlinewidth\": 0, \"ticks\": \"\"}}, \"type\": \"scattercarpet\"}], \"scattergeo\": [{\"marker\": {\"colorbar\": {\"outlinewidth\": 0, \"ticks\": \"\"}}, \"type\": \"scattergeo\"}], \"scattergl\": [{\"marker\": {\"colorbar\": {\"outlinewidth\": 0, \"ticks\": \"\"}}, \"type\": \"scattergl\"}], \"scattermapbox\": [{\"marker\": {\"colorbar\": {\"outlinewidth\": 0, \"ticks\": \"\"}}, \"type\": \"scattermapbox\"}], \"scatterpolar\": [{\"marker\": {\"colorbar\": {\"outlinewidth\": 0, \"ticks\": \"\"}}, \"type\": \"scatterpolar\"}], \"scatterpolargl\": [{\"marker\": {\"colorbar\": {\"outlinewidth\": 0, \"ticks\": \"\"}}, \"type\": \"scatterpolargl\"}], \"scatterternary\": [{\"marker\": {\"colorbar\": {\"outlinewidth\": 0, \"ticks\": \"\"}}, \"type\": \"scatterternary\"}], \"surface\": [{\"colorbar\": {\"outlinewidth\": 0, \"ticks\": \"\"}, \"colorscale\": [[0.0, \"#0d0887\"], [0.1111111111111111, \"#46039f\"], [0.2222222222222222, \"#7201a8\"], [0.3333333333333333, \"#9c179e\"], [0.4444444444444444, \"#bd3786\"], [0.5555555555555556, \"#d8576b\"], [0.6666666666666666, \"#ed7953\"], [0.7777777777777778, \"#fb9f3a\"], [0.8888888888888888, \"#fdca26\"], [1.0, \"#f0f921\"]], \"type\": \"surface\"}], \"table\": [{\"cells\": {\"fill\": {\"color\": \"#EBF0F8\"}, \"line\": {\"color\": \"white\"}}, \"header\": {\"fill\": {\"color\": \"#C8D4E3\"}, \"line\": {\"color\": \"white\"}}, \"type\": \"table\"}]}, \"layout\": {\"annotationdefaults\": {\"arrowcolor\": \"#2a3f5f\", \"arrowhead\": 0, \"arrowwidth\": 1}, \"coloraxis\": {\"colorbar\": {\"outlinewidth\": 0, \"ticks\": \"\"}}, \"colorscale\": {\"diverging\": [[0, \"#8e0152\"], [0.1, \"#c51b7d\"], [0.2, \"#de77ae\"], [0.3, \"#f1b6da\"], [0.4, \"#fde0ef\"], [0.5, \"#f7f7f7\"], [0.6, \"#e6f5d0\"], [0.7, \"#b8e186\"], [0.8, \"#7fbc41\"], [0.9, \"#4d9221\"], [1, \"#276419\"]], \"sequential\": [[0.0, \"#0d0887\"], [0.1111111111111111, \"#46039f\"], [0.2222222222222222, \"#7201a8\"], [0.3333333333333333, \"#9c179e\"], [0.4444444444444444, \"#bd3786\"], [0.5555555555555556, \"#d8576b\"], [0.6666666666666666, \"#ed7953\"], [0.7777777777777778, \"#fb9f3a\"], [0.8888888888888888, \"#fdca26\"], [1.0, \"#f0f921\"]], \"sequentialminus\": [[0.0, \"#0d0887\"], [0.1111111111111111, \"#46039f\"], [0.2222222222222222, \"#7201a8\"], [0.3333333333333333, \"#9c179e\"], [0.4444444444444444, \"#bd3786\"], [0.5555555555555556, \"#d8576b\"], [0.6666666666666666, \"#ed7953\"], [0.7777777777777778, \"#fb9f3a\"], [0.8888888888888888, \"#fdca26\"], [1.0, \"#f0f921\"]]}, \"colorway\": [\"#636efa\", \"#EF553B\", \"#00cc96\", \"#ab63fa\", \"#FFA15A\", \"#19d3f3\", \"#FF6692\", \"#B6E880\", \"#FF97FF\", \"#FECB52\"], \"font\": {\"color\": \"#2a3f5f\"}, \"geo\": {\"bgcolor\": \"white\", \"lakecolor\": \"white\", \"landcolor\": \"#E5ECF6\", \"showlakes\": true, \"showland\": true, \"subunitcolor\": \"white\"}, \"hoverlabel\": {\"align\": \"left\"}, \"hovermode\": \"closest\", \"mapbox\": {\"style\": \"light\"}, \"paper_bgcolor\": \"white\", \"plot_bgcolor\": \"#E5ECF6\", \"polar\": {\"angularaxis\": {\"gridcolor\": \"white\", \"linecolor\": \"white\", \"ticks\": \"\"}, \"bgcolor\": \"#E5ECF6\", \"radialaxis\": {\"gridcolor\": \"white\", \"linecolor\": \"white\", \"ticks\": \"\"}}, \"scene\": {\"xaxis\": {\"backgroundcolor\": \"#E5ECF6\", \"gridcolor\": \"white\", \"gridwidth\": 2, \"linecolor\": \"white\", \"showbackground\": true, \"ticks\": \"\", \"zerolinecolor\": \"white\"}, \"yaxis\": {\"backgroundcolor\": \"#E5ECF6\", \"gridcolor\": \"white\", \"gridwidth\": 2, \"linecolor\": \"white\", \"showbackground\": true, \"ticks\": \"\", \"zerolinecolor\": \"white\"}, \"zaxis\": {\"backgroundcolor\": \"#E5ECF6\", \"gridcolor\": \"white\", \"gridwidth\": 2, \"linecolor\": \"white\", \"showbackground\": true, \"ticks\": \"\", \"zerolinecolor\": \"white\"}}, \"shapedefaults\": {\"line\": {\"color\": \"#2a3f5f\"}}, \"ternary\": {\"aaxis\": {\"gridcolor\": \"white\", \"linecolor\": \"white\", \"ticks\": \"\"}, \"baxis\": {\"gridcolor\": \"white\", \"linecolor\": \"white\", \"ticks\": \"\"}, \"bgcolor\": \"#E5ECF6\", \"caxis\": {\"gridcolor\": \"white\", \"linecolor\": \"white\", \"ticks\": \"\"}}, \"title\": {\"x\": 0.05}, \"xaxis\": {\"automargin\": true, \"gridcolor\": \"white\", \"linecolor\": \"white\", \"ticks\": \"\", \"title\": {\"standoff\": 15}, \"zerolinecolor\": \"white\", \"zerolinewidth\": 2}, \"yaxis\": {\"automargin\": true, \"gridcolor\": \"white\", \"linecolor\": \"white\", \"ticks\": \"\", \"title\": {\"standoff\": 15}, \"zerolinecolor\": \"white\", \"zerolinewidth\": 2}}}, \"xaxis\": {\"anchor\": \"y\", \"domain\": [0.0, 1.0], \"title\": {\"text\": \"x\"}}, \"yaxis\": {\"anchor\": \"x\", \"domain\": [0.0, 1.0], \"title\": {\"text\": \"y\"}}},                        {\"responsive\": true}                    ).then(function(){\n",
       "                            \n",
       "var gd = document.getElementById('530f9642-38ab-4f9e-9cb1-02b4769e1b52');\n",
       "var x = new MutationObserver(function (mutations, observer) {{\n",
       "        var display = window.getComputedStyle(gd).display;\n",
       "        if (!display || display === 'none') {{\n",
       "            console.log([gd, 'removed!']);\n",
       "            Plotly.purge(gd);\n",
       "            observer.disconnect();\n",
       "        }}\n",
       "}});\n",
       "\n",
       "// Listen for the removal of the full notebook cells\n",
       "var notebookContainer = gd.closest('#notebook-container');\n",
       "if (notebookContainer) {{\n",
       "    x.observe(notebookContainer, {childList: true});\n",
       "}}\n",
       "\n",
       "// Listen for the clearing of the current output cell\n",
       "var outputEl = gd.closest('.output');\n",
       "if (outputEl) {{\n",
       "    x.observe(outputEl, {childList: true});\n",
       "}}\n",
       "\n",
       "                        })                };                });            </script>        </div>"
      ]
     },
     "metadata": {},
     "output_type": "display_data"
    },
    {
     "data": {
      "text/html": [
       "<div>                            <div id=\"9043c2a6-ce15-4c48-9525-b84b2edbb512\" class=\"plotly-graph-div\" style=\"height:525px; width:100%;\"></div>            <script type=\"text/javascript\">                require([\"plotly\"], function(Plotly) {                    window.PLOTLYENV=window.PLOTLYENV || {};                                    if (document.getElementById(\"9043c2a6-ce15-4c48-9525-b84b2edbb512\")) {                    Plotly.newPlot(                        \"9043c2a6-ce15-4c48-9525-b84b2edbb512\",                        [{\"alignmentgroup\": \"True\", \"hovertemplate\": \"x=%{x}<br>y=%{y}<extra></extra>\", \"legendgroup\": \"\", \"marker\": {\"color\": \"#636efa\"}, \"name\": \"\", \"offsetgroup\": \"\", \"orientation\": \"v\", \"showlegend\": false, \"textposition\": \"auto\", \"type\": \"bar\", \"x\": [\"27/05/2017\", \"3/06/2017\", \"12/08/2017\", \"17/06/2017\", \"27/11/2016\", \"29/07/2017\", \"4/03/2017\", \"25/02/2017\", \"24/06/2017\", \"10/12/2016\", \"22/07/2017\", \"8/07/2017\", \"18/03/2017\", \"15/10/2016\", \"15/07/2017\", \"12/11/2016\", \"3/12/2016\", \"8/04/2017\", \"1/07/2017\", \"19/11/2016\", \"20/05/2017\", \"18/06/2016\", \"28/05/2016\", \"13/05/2017\", \"16/09/2017\", \"8/10/2016\", \"23/09/2017\", \"26/08/2017\", \"7/05/2016\", \"17/09/2016\", \"24/09/2016\", \"28/08/2016\", \"10/09/2016\", \"16/04/2016\", \"29/04/2017\", \"4/06/2016\", \"3/09/2017\", \"27/06/2016\", \"3/09/2016\", \"9/09/2017\", \"22/05/2016\", \"19/08/2017\", \"7/11/2016\", \"14/05/2016\", \"22/08/2016\", \"30/07/2016\", \"6/08/2016\", \"16/07/2016\", \"6/05/2017\", \"22/04/2017\", \"26/07/2016\", \"13/08/2016\", \"23/04/2016\", \"11/02/2017\", \"12/06/2016\", \"11/03/2017\", \"4/02/2016\", \"28/01/2016\"], \"xaxis\": \"x\", \"y\": [473, 395, 387, 374, 362, 341, 337, 333, 329, 319, 317, 310, 303, 300, 292, 292, 288, 280, 276, 266, 262, 261, 258, 255, 254, 251, 247, 246, 245, 242, 240, 238, 235, 217, 217, 214, 214, 211, 208, 205, 203, 201, 194, 193, 192, 172, 154, 141, 140, 134, 133, 132, 101, 84, 46, 38, 26, 2], \"yaxis\": \"y\"}],                        {\"barmode\": \"relative\", \"legend\": {\"tracegroupgap\": 0}, \"margin\": {\"t\": 60}, \"template\": {\"data\": {\"bar\": [{\"error_x\": {\"color\": \"#2a3f5f\"}, \"error_y\": {\"color\": \"#2a3f5f\"}, \"marker\": {\"line\": {\"color\": \"#E5ECF6\", \"width\": 0.5}}, \"type\": \"bar\"}], \"barpolar\": [{\"marker\": {\"line\": {\"color\": \"#E5ECF6\", \"width\": 0.5}}, \"type\": \"barpolar\"}], \"carpet\": [{\"aaxis\": {\"endlinecolor\": \"#2a3f5f\", \"gridcolor\": \"white\", \"linecolor\": \"white\", \"minorgridcolor\": \"white\", \"startlinecolor\": \"#2a3f5f\"}, \"baxis\": {\"endlinecolor\": \"#2a3f5f\", \"gridcolor\": \"white\", \"linecolor\": \"white\", \"minorgridcolor\": \"white\", \"startlinecolor\": \"#2a3f5f\"}, \"type\": \"carpet\"}], \"choropleth\": [{\"colorbar\": {\"outlinewidth\": 0, \"ticks\": \"\"}, \"type\": \"choropleth\"}], \"contour\": [{\"colorbar\": {\"outlinewidth\": 0, \"ticks\": \"\"}, \"colorscale\": [[0.0, \"#0d0887\"], [0.1111111111111111, \"#46039f\"], [0.2222222222222222, \"#7201a8\"], [0.3333333333333333, \"#9c179e\"], [0.4444444444444444, \"#bd3786\"], [0.5555555555555556, \"#d8576b\"], [0.6666666666666666, \"#ed7953\"], [0.7777777777777778, \"#fb9f3a\"], [0.8888888888888888, \"#fdca26\"], [1.0, \"#f0f921\"]], \"type\": \"contour\"}], \"contourcarpet\": [{\"colorbar\": {\"outlinewidth\": 0, \"ticks\": \"\"}, \"type\": \"contourcarpet\"}], \"heatmap\": [{\"colorbar\": {\"outlinewidth\": 0, \"ticks\": \"\"}, \"colorscale\": [[0.0, \"#0d0887\"], [0.1111111111111111, \"#46039f\"], [0.2222222222222222, \"#7201a8\"], [0.3333333333333333, \"#9c179e\"], [0.4444444444444444, \"#bd3786\"], [0.5555555555555556, \"#d8576b\"], [0.6666666666666666, \"#ed7953\"], [0.7777777777777778, \"#fb9f3a\"], [0.8888888888888888, \"#fdca26\"], [1.0, \"#f0f921\"]], \"type\": \"heatmap\"}], \"heatmapgl\": [{\"colorbar\": {\"outlinewidth\": 0, \"ticks\": \"\"}, \"colorscale\": [[0.0, \"#0d0887\"], [0.1111111111111111, \"#46039f\"], [0.2222222222222222, \"#7201a8\"], [0.3333333333333333, \"#9c179e\"], [0.4444444444444444, \"#bd3786\"], [0.5555555555555556, \"#d8576b\"], [0.6666666666666666, \"#ed7953\"], [0.7777777777777778, \"#fb9f3a\"], [0.8888888888888888, \"#fdca26\"], [1.0, \"#f0f921\"]], \"type\": \"heatmapgl\"}], \"histogram\": [{\"marker\": {\"colorbar\": {\"outlinewidth\": 0, \"ticks\": \"\"}}, \"type\": \"histogram\"}], \"histogram2d\": [{\"colorbar\": {\"outlinewidth\": 0, \"ticks\": \"\"}, \"colorscale\": [[0.0, \"#0d0887\"], [0.1111111111111111, \"#46039f\"], [0.2222222222222222, \"#7201a8\"], [0.3333333333333333, \"#9c179e\"], [0.4444444444444444, \"#bd3786\"], [0.5555555555555556, \"#d8576b\"], [0.6666666666666666, \"#ed7953\"], [0.7777777777777778, \"#fb9f3a\"], [0.8888888888888888, \"#fdca26\"], [1.0, \"#f0f921\"]], \"type\": \"histogram2d\"}], \"histogram2dcontour\": [{\"colorbar\": {\"outlinewidth\": 0, \"ticks\": \"\"}, \"colorscale\": [[0.0, \"#0d0887\"], [0.1111111111111111, \"#46039f\"], [0.2222222222222222, \"#7201a8\"], [0.3333333333333333, \"#9c179e\"], [0.4444444444444444, \"#bd3786\"], [0.5555555555555556, \"#d8576b\"], [0.6666666666666666, \"#ed7953\"], [0.7777777777777778, \"#fb9f3a\"], [0.8888888888888888, \"#fdca26\"], [1.0, \"#f0f921\"]], \"type\": \"histogram2dcontour\"}], \"mesh3d\": [{\"colorbar\": {\"outlinewidth\": 0, \"ticks\": \"\"}, \"type\": \"mesh3d\"}], \"parcoords\": [{\"line\": {\"colorbar\": {\"outlinewidth\": 0, \"ticks\": \"\"}}, \"type\": \"parcoords\"}], \"pie\": [{\"automargin\": true, \"type\": \"pie\"}], \"scatter\": [{\"marker\": {\"colorbar\": {\"outlinewidth\": 0, \"ticks\": \"\"}}, \"type\": \"scatter\"}], \"scatter3d\": [{\"line\": {\"colorbar\": {\"outlinewidth\": 0, \"ticks\": \"\"}}, \"marker\": {\"colorbar\": {\"outlinewidth\": 0, \"ticks\": \"\"}}, \"type\": \"scatter3d\"}], \"scattercarpet\": [{\"marker\": {\"colorbar\": {\"outlinewidth\": 0, \"ticks\": \"\"}}, \"type\": \"scattercarpet\"}], \"scattergeo\": [{\"marker\": {\"colorbar\": {\"outlinewidth\": 0, \"ticks\": \"\"}}, \"type\": \"scattergeo\"}], \"scattergl\": [{\"marker\": {\"colorbar\": {\"outlinewidth\": 0, \"ticks\": \"\"}}, \"type\": \"scattergl\"}], \"scattermapbox\": [{\"marker\": {\"colorbar\": {\"outlinewidth\": 0, \"ticks\": \"\"}}, \"type\": \"scattermapbox\"}], \"scatterpolar\": [{\"marker\": {\"colorbar\": {\"outlinewidth\": 0, \"ticks\": \"\"}}, \"type\": \"scatterpolar\"}], \"scatterpolargl\": [{\"marker\": {\"colorbar\": {\"outlinewidth\": 0, \"ticks\": \"\"}}, \"type\": \"scatterpolargl\"}], \"scatterternary\": [{\"marker\": {\"colorbar\": {\"outlinewidth\": 0, \"ticks\": \"\"}}, \"type\": \"scatterternary\"}], \"surface\": [{\"colorbar\": {\"outlinewidth\": 0, \"ticks\": \"\"}, \"colorscale\": [[0.0, \"#0d0887\"], [0.1111111111111111, \"#46039f\"], [0.2222222222222222, \"#7201a8\"], [0.3333333333333333, \"#9c179e\"], [0.4444444444444444, \"#bd3786\"], [0.5555555555555556, \"#d8576b\"], [0.6666666666666666, \"#ed7953\"], [0.7777777777777778, \"#fb9f3a\"], [0.8888888888888888, \"#fdca26\"], [1.0, \"#f0f921\"]], \"type\": \"surface\"}], \"table\": [{\"cells\": {\"fill\": {\"color\": \"#EBF0F8\"}, \"line\": {\"color\": \"white\"}}, \"header\": {\"fill\": {\"color\": \"#C8D4E3\"}, \"line\": {\"color\": \"white\"}}, \"type\": \"table\"}]}, \"layout\": {\"annotationdefaults\": {\"arrowcolor\": \"#2a3f5f\", \"arrowhead\": 0, \"arrowwidth\": 1}, \"coloraxis\": {\"colorbar\": {\"outlinewidth\": 0, \"ticks\": \"\"}}, \"colorscale\": {\"diverging\": [[0, \"#8e0152\"], [0.1, \"#c51b7d\"], [0.2, \"#de77ae\"], [0.3, \"#f1b6da\"], [0.4, \"#fde0ef\"], [0.5, \"#f7f7f7\"], [0.6, \"#e6f5d0\"], [0.7, \"#b8e186\"], [0.8, \"#7fbc41\"], [0.9, \"#4d9221\"], [1, \"#276419\"]], \"sequential\": [[0.0, \"#0d0887\"], [0.1111111111111111, \"#46039f\"], [0.2222222222222222, \"#7201a8\"], [0.3333333333333333, \"#9c179e\"], [0.4444444444444444, \"#bd3786\"], [0.5555555555555556, \"#d8576b\"], [0.6666666666666666, \"#ed7953\"], [0.7777777777777778, \"#fb9f3a\"], [0.8888888888888888, \"#fdca26\"], [1.0, \"#f0f921\"]], \"sequentialminus\": [[0.0, \"#0d0887\"], [0.1111111111111111, \"#46039f\"], [0.2222222222222222, \"#7201a8\"], [0.3333333333333333, \"#9c179e\"], [0.4444444444444444, \"#bd3786\"], [0.5555555555555556, \"#d8576b\"], [0.6666666666666666, \"#ed7953\"], [0.7777777777777778, \"#fb9f3a\"], [0.8888888888888888, \"#fdca26\"], [1.0, \"#f0f921\"]]}, \"colorway\": [\"#636efa\", \"#EF553B\", \"#00cc96\", \"#ab63fa\", \"#FFA15A\", \"#19d3f3\", \"#FF6692\", \"#B6E880\", \"#FF97FF\", \"#FECB52\"], \"font\": {\"color\": \"#2a3f5f\"}, \"geo\": {\"bgcolor\": \"white\", \"lakecolor\": \"white\", \"landcolor\": \"#E5ECF6\", \"showlakes\": true, \"showland\": true, \"subunitcolor\": \"white\"}, \"hoverlabel\": {\"align\": \"left\"}, \"hovermode\": \"closest\", \"mapbox\": {\"style\": \"light\"}, \"paper_bgcolor\": \"white\", \"plot_bgcolor\": \"#E5ECF6\", \"polar\": {\"angularaxis\": {\"gridcolor\": \"white\", \"linecolor\": \"white\", \"ticks\": \"\"}, \"bgcolor\": \"#E5ECF6\", \"radialaxis\": {\"gridcolor\": \"white\", \"linecolor\": \"white\", \"ticks\": \"\"}}, \"scene\": {\"xaxis\": {\"backgroundcolor\": \"#E5ECF6\", \"gridcolor\": \"white\", \"gridwidth\": 2, \"linecolor\": \"white\", \"showbackground\": true, \"ticks\": \"\", \"zerolinecolor\": \"white\"}, \"yaxis\": {\"backgroundcolor\": \"#E5ECF6\", \"gridcolor\": \"white\", \"gridwidth\": 2, \"linecolor\": \"white\", \"showbackground\": true, \"ticks\": \"\", \"zerolinecolor\": \"white\"}, \"zaxis\": {\"backgroundcolor\": \"#E5ECF6\", \"gridcolor\": \"white\", \"gridwidth\": 2, \"linecolor\": \"white\", \"showbackground\": true, \"ticks\": \"\", \"zerolinecolor\": \"white\"}}, \"shapedefaults\": {\"line\": {\"color\": \"#2a3f5f\"}}, \"ternary\": {\"aaxis\": {\"gridcolor\": \"white\", \"linecolor\": \"white\", \"ticks\": \"\"}, \"baxis\": {\"gridcolor\": \"white\", \"linecolor\": \"white\", \"ticks\": \"\"}, \"bgcolor\": \"#E5ECF6\", \"caxis\": {\"gridcolor\": \"white\", \"linecolor\": \"white\", \"ticks\": \"\"}}, \"title\": {\"x\": 0.05}, \"xaxis\": {\"automargin\": true, \"gridcolor\": \"white\", \"linecolor\": \"white\", \"ticks\": \"\", \"title\": {\"standoff\": 15}, \"zerolinecolor\": \"white\", \"zerolinewidth\": 2}, \"yaxis\": {\"automargin\": true, \"gridcolor\": \"white\", \"linecolor\": \"white\", \"ticks\": \"\", \"title\": {\"standoff\": 15}, \"zerolinecolor\": \"white\", \"zerolinewidth\": 2}}}, \"xaxis\": {\"anchor\": \"y\", \"domain\": [0.0, 1.0], \"title\": {\"text\": \"x\"}}, \"yaxis\": {\"anchor\": \"x\", \"domain\": [0.0, 1.0], \"title\": {\"text\": \"y\"}}},                        {\"responsive\": true}                    ).then(function(){\n",
       "                            \n",
       "var gd = document.getElementById('9043c2a6-ce15-4c48-9525-b84b2edbb512');\n",
       "var x = new MutationObserver(function (mutations, observer) {{\n",
       "        var display = window.getComputedStyle(gd).display;\n",
       "        if (!display || display === 'none') {{\n",
       "            console.log([gd, 'removed!']);\n",
       "            Plotly.purge(gd);\n",
       "            observer.disconnect();\n",
       "        }}\n",
       "}});\n",
       "\n",
       "// Listen for the removal of the full notebook cells\n",
       "var notebookContainer = gd.closest('#notebook-container');\n",
       "if (notebookContainer) {{\n",
       "    x.observe(notebookContainer, {childList: true});\n",
       "}}\n",
       "\n",
       "// Listen for the clearing of the current output cell\n",
       "var outputEl = gd.closest('.output');\n",
       "if (outputEl) {{\n",
       "    x.observe(outputEl, {childList: true});\n",
       "}}\n",
       "\n",
       "                        })                };                });            </script>        </div>"
      ]
     },
     "metadata": {},
     "output_type": "display_data"
    },
    {
     "data": {
      "text/html": [
       "<div>                            <div id=\"1c60689c-56aa-426d-bfd4-078b9c4acd88\" class=\"plotly-graph-div\" style=\"height:525px; width:100%;\"></div>            <script type=\"text/javascript\">                require([\"plotly\"], function(Plotly) {                    window.PLOTLYENV=window.PLOTLYENV || {};                                    if (document.getElementById(\"1c60689c-56aa-426d-bfd4-078b9c4acd88\")) {                    Plotly.newPlot(                        \"1c60689c-56aa-426d-bfd4-078b9c4acd88\",                        [{\"alignmentgroup\": \"True\", \"hovertemplate\": \"x=%{x}<br>y=%{y}<extra></extra>\", \"legendgroup\": \"\", \"marker\": {\"color\": \"#636efa\"}, \"name\": \"\", \"offsetgroup\": \"\", \"orientation\": \"v\", \"showlegend\": false, \"textposition\": \"auto\", \"type\": \"bar\", \"x\": [\"Moreland\", \"Boroondara\", \"Moonee Valley\", \"Darebin\", \"Glen Eira\", \"Stonnington\", \"Maribyrnong\", \"Yarra\", \"Port Phillip\", \"Banyule\", \"Bayside\", \"Melbourne\", \"Hobsons Bay\", \"Brimbank\", \"Monash\", \"Manningham\", \"Whitehorse\", \"Kingston\", \"Whittlesea\", \"Hume\", \"Wyndham\", \"Knox\", \"Maroondah\", \"Melton\", \"Frankston\", \"Greater Dandenong\", \"Casey\", \"Nillumbik\", \"Yarra Ranges\", \"Cardinia\", \"Macedon Ranges\", \"Moorabool\", \"Unavailable\"], \"xaxis\": \"x\", \"y\": [2532, 1160, 997, 934, 848, 719, 692, 647, 628, 594, 489, 470, 434, 424, 333, 311, 304, 207, 167, 164, 86, 80, 80, 66, 53, 52, 38, 36, 18, 8, 7, 1, 1], \"yaxis\": \"y\"}],                        {\"barmode\": \"relative\", \"legend\": {\"tracegroupgap\": 0}, \"margin\": {\"t\": 60}, \"template\": {\"data\": {\"bar\": [{\"error_x\": {\"color\": \"#2a3f5f\"}, \"error_y\": {\"color\": \"#2a3f5f\"}, \"marker\": {\"line\": {\"color\": \"#E5ECF6\", \"width\": 0.5}}, \"type\": \"bar\"}], \"barpolar\": [{\"marker\": {\"line\": {\"color\": \"#E5ECF6\", \"width\": 0.5}}, \"type\": \"barpolar\"}], \"carpet\": [{\"aaxis\": {\"endlinecolor\": \"#2a3f5f\", \"gridcolor\": \"white\", \"linecolor\": \"white\", \"minorgridcolor\": \"white\", \"startlinecolor\": \"#2a3f5f\"}, \"baxis\": {\"endlinecolor\": \"#2a3f5f\", \"gridcolor\": \"white\", \"linecolor\": \"white\", \"minorgridcolor\": \"white\", \"startlinecolor\": \"#2a3f5f\"}, \"type\": \"carpet\"}], \"choropleth\": [{\"colorbar\": {\"outlinewidth\": 0, \"ticks\": \"\"}, \"type\": \"choropleth\"}], \"contour\": [{\"colorbar\": {\"outlinewidth\": 0, \"ticks\": \"\"}, \"colorscale\": [[0.0, \"#0d0887\"], [0.1111111111111111, \"#46039f\"], [0.2222222222222222, \"#7201a8\"], [0.3333333333333333, \"#9c179e\"], [0.4444444444444444, \"#bd3786\"], [0.5555555555555556, \"#d8576b\"], [0.6666666666666666, \"#ed7953\"], [0.7777777777777778, \"#fb9f3a\"], [0.8888888888888888, \"#fdca26\"], [1.0, \"#f0f921\"]], \"type\": \"contour\"}], \"contourcarpet\": [{\"colorbar\": {\"outlinewidth\": 0, \"ticks\": \"\"}, \"type\": \"contourcarpet\"}], \"heatmap\": [{\"colorbar\": {\"outlinewidth\": 0, \"ticks\": \"\"}, \"colorscale\": [[0.0, \"#0d0887\"], [0.1111111111111111, \"#46039f\"], [0.2222222222222222, \"#7201a8\"], [0.3333333333333333, \"#9c179e\"], [0.4444444444444444, \"#bd3786\"], [0.5555555555555556, \"#d8576b\"], [0.6666666666666666, \"#ed7953\"], [0.7777777777777778, \"#fb9f3a\"], [0.8888888888888888, \"#fdca26\"], [1.0, \"#f0f921\"]], \"type\": \"heatmap\"}], \"heatmapgl\": [{\"colorbar\": {\"outlinewidth\": 0, \"ticks\": \"\"}, \"colorscale\": [[0.0, \"#0d0887\"], [0.1111111111111111, \"#46039f\"], [0.2222222222222222, \"#7201a8\"], [0.3333333333333333, \"#9c179e\"], [0.4444444444444444, \"#bd3786\"], [0.5555555555555556, \"#d8576b\"], [0.6666666666666666, \"#ed7953\"], [0.7777777777777778, \"#fb9f3a\"], [0.8888888888888888, \"#fdca26\"], [1.0, \"#f0f921\"]], \"type\": \"heatmapgl\"}], \"histogram\": [{\"marker\": {\"colorbar\": {\"outlinewidth\": 0, \"ticks\": \"\"}}, \"type\": \"histogram\"}], \"histogram2d\": [{\"colorbar\": {\"outlinewidth\": 0, \"ticks\": \"\"}, \"colorscale\": [[0.0, \"#0d0887\"], [0.1111111111111111, \"#46039f\"], [0.2222222222222222, \"#7201a8\"], [0.3333333333333333, \"#9c179e\"], [0.4444444444444444, \"#bd3786\"], [0.5555555555555556, \"#d8576b\"], [0.6666666666666666, \"#ed7953\"], [0.7777777777777778, \"#fb9f3a\"], [0.8888888888888888, \"#fdca26\"], [1.0, \"#f0f921\"]], \"type\": \"histogram2d\"}], \"histogram2dcontour\": [{\"colorbar\": {\"outlinewidth\": 0, \"ticks\": \"\"}, \"colorscale\": [[0.0, \"#0d0887\"], [0.1111111111111111, \"#46039f\"], [0.2222222222222222, \"#7201a8\"], [0.3333333333333333, \"#9c179e\"], [0.4444444444444444, \"#bd3786\"], [0.5555555555555556, \"#d8576b\"], [0.6666666666666666, \"#ed7953\"], [0.7777777777777778, \"#fb9f3a\"], [0.8888888888888888, \"#fdca26\"], [1.0, \"#f0f921\"]], \"type\": \"histogram2dcontour\"}], \"mesh3d\": [{\"colorbar\": {\"outlinewidth\": 0, \"ticks\": \"\"}, \"type\": \"mesh3d\"}], \"parcoords\": [{\"line\": {\"colorbar\": {\"outlinewidth\": 0, \"ticks\": \"\"}}, \"type\": \"parcoords\"}], \"pie\": [{\"automargin\": true, \"type\": \"pie\"}], \"scatter\": [{\"marker\": {\"colorbar\": {\"outlinewidth\": 0, \"ticks\": \"\"}}, \"type\": \"scatter\"}], \"scatter3d\": [{\"line\": {\"colorbar\": {\"outlinewidth\": 0, \"ticks\": \"\"}}, \"marker\": {\"colorbar\": {\"outlinewidth\": 0, \"ticks\": \"\"}}, \"type\": \"scatter3d\"}], \"scattercarpet\": [{\"marker\": {\"colorbar\": {\"outlinewidth\": 0, \"ticks\": \"\"}}, \"type\": \"scattercarpet\"}], \"scattergeo\": [{\"marker\": {\"colorbar\": {\"outlinewidth\": 0, \"ticks\": \"\"}}, \"type\": \"scattergeo\"}], \"scattergl\": [{\"marker\": {\"colorbar\": {\"outlinewidth\": 0, \"ticks\": \"\"}}, \"type\": \"scattergl\"}], \"scattermapbox\": [{\"marker\": {\"colorbar\": {\"outlinewidth\": 0, \"ticks\": \"\"}}, \"type\": \"scattermapbox\"}], \"scatterpolar\": [{\"marker\": {\"colorbar\": {\"outlinewidth\": 0, \"ticks\": \"\"}}, \"type\": \"scatterpolar\"}], \"scatterpolargl\": [{\"marker\": {\"colorbar\": {\"outlinewidth\": 0, \"ticks\": \"\"}}, \"type\": \"scatterpolargl\"}], \"scatterternary\": [{\"marker\": {\"colorbar\": {\"outlinewidth\": 0, \"ticks\": \"\"}}, \"type\": \"scatterternary\"}], \"surface\": [{\"colorbar\": {\"outlinewidth\": 0, \"ticks\": \"\"}, \"colorscale\": [[0.0, \"#0d0887\"], [0.1111111111111111, \"#46039f\"], [0.2222222222222222, \"#7201a8\"], [0.3333333333333333, \"#9c179e\"], [0.4444444444444444, \"#bd3786\"], [0.5555555555555556, \"#d8576b\"], [0.6666666666666666, \"#ed7953\"], [0.7777777777777778, \"#fb9f3a\"], [0.8888888888888888, \"#fdca26\"], [1.0, \"#f0f921\"]], \"type\": \"surface\"}], \"table\": [{\"cells\": {\"fill\": {\"color\": \"#EBF0F8\"}, \"line\": {\"color\": \"white\"}}, \"header\": {\"fill\": {\"color\": \"#C8D4E3\"}, \"line\": {\"color\": \"white\"}}, \"type\": \"table\"}]}, \"layout\": {\"annotationdefaults\": {\"arrowcolor\": \"#2a3f5f\", \"arrowhead\": 0, \"arrowwidth\": 1}, \"coloraxis\": {\"colorbar\": {\"outlinewidth\": 0, \"ticks\": \"\"}}, \"colorscale\": {\"diverging\": [[0, \"#8e0152\"], [0.1, \"#c51b7d\"], [0.2, \"#de77ae\"], [0.3, \"#f1b6da\"], [0.4, \"#fde0ef\"], [0.5, \"#f7f7f7\"], [0.6, \"#e6f5d0\"], [0.7, \"#b8e186\"], [0.8, \"#7fbc41\"], [0.9, \"#4d9221\"], [1, \"#276419\"]], \"sequential\": [[0.0, \"#0d0887\"], [0.1111111111111111, \"#46039f\"], [0.2222222222222222, \"#7201a8\"], [0.3333333333333333, \"#9c179e\"], [0.4444444444444444, \"#bd3786\"], [0.5555555555555556, \"#d8576b\"], [0.6666666666666666, \"#ed7953\"], [0.7777777777777778, \"#fb9f3a\"], [0.8888888888888888, \"#fdca26\"], [1.0, \"#f0f921\"]], \"sequentialminus\": [[0.0, \"#0d0887\"], [0.1111111111111111, \"#46039f\"], [0.2222222222222222, \"#7201a8\"], [0.3333333333333333, \"#9c179e\"], [0.4444444444444444, \"#bd3786\"], [0.5555555555555556, \"#d8576b\"], [0.6666666666666666, \"#ed7953\"], [0.7777777777777778, \"#fb9f3a\"], [0.8888888888888888, \"#fdca26\"], [1.0, \"#f0f921\"]]}, \"colorway\": [\"#636efa\", \"#EF553B\", \"#00cc96\", \"#ab63fa\", \"#FFA15A\", \"#19d3f3\", \"#FF6692\", \"#B6E880\", \"#FF97FF\", \"#FECB52\"], \"font\": {\"color\": \"#2a3f5f\"}, \"geo\": {\"bgcolor\": \"white\", \"lakecolor\": \"white\", \"landcolor\": \"#E5ECF6\", \"showlakes\": true, \"showland\": true, \"subunitcolor\": \"white\"}, \"hoverlabel\": {\"align\": \"left\"}, \"hovermode\": \"closest\", \"mapbox\": {\"style\": \"light\"}, \"paper_bgcolor\": \"white\", \"plot_bgcolor\": \"#E5ECF6\", \"polar\": {\"angularaxis\": {\"gridcolor\": \"white\", \"linecolor\": \"white\", \"ticks\": \"\"}, \"bgcolor\": \"#E5ECF6\", \"radialaxis\": {\"gridcolor\": \"white\", \"linecolor\": \"white\", \"ticks\": \"\"}}, \"scene\": {\"xaxis\": {\"backgroundcolor\": \"#E5ECF6\", \"gridcolor\": \"white\", \"gridwidth\": 2, \"linecolor\": \"white\", \"showbackground\": true, \"ticks\": \"\", \"zerolinecolor\": \"white\"}, \"yaxis\": {\"backgroundcolor\": \"#E5ECF6\", \"gridcolor\": \"white\", \"gridwidth\": 2, \"linecolor\": \"white\", \"showbackground\": true, \"ticks\": \"\", \"zerolinecolor\": \"white\"}, \"zaxis\": {\"backgroundcolor\": \"#E5ECF6\", \"gridcolor\": \"white\", \"gridwidth\": 2, \"linecolor\": \"white\", \"showbackground\": true, \"ticks\": \"\", \"zerolinecolor\": \"white\"}}, \"shapedefaults\": {\"line\": {\"color\": \"#2a3f5f\"}}, \"ternary\": {\"aaxis\": {\"gridcolor\": \"white\", \"linecolor\": \"white\", \"ticks\": \"\"}, \"baxis\": {\"gridcolor\": \"white\", \"linecolor\": \"white\", \"ticks\": \"\"}, \"bgcolor\": \"#E5ECF6\", \"caxis\": {\"gridcolor\": \"white\", \"linecolor\": \"white\", \"ticks\": \"\"}}, \"title\": {\"x\": 0.05}, \"xaxis\": {\"automargin\": true, \"gridcolor\": \"white\", \"linecolor\": \"white\", \"ticks\": \"\", \"title\": {\"standoff\": 15}, \"zerolinecolor\": \"white\", \"zerolinewidth\": 2}, \"yaxis\": {\"automargin\": true, \"gridcolor\": \"white\", \"linecolor\": \"white\", \"ticks\": \"\", \"title\": {\"standoff\": 15}, \"zerolinecolor\": \"white\", \"zerolinewidth\": 2}}}, \"xaxis\": {\"anchor\": \"y\", \"domain\": [0.0, 1.0], \"title\": {\"text\": \"x\"}}, \"yaxis\": {\"anchor\": \"x\", \"domain\": [0.0, 1.0], \"title\": {\"text\": \"y\"}}},                        {\"responsive\": true}                    ).then(function(){\n",
       "                            \n",
       "var gd = document.getElementById('1c60689c-56aa-426d-bfd4-078b9c4acd88');\n",
       "var x = new MutationObserver(function (mutations, observer) {{\n",
       "        var display = window.getComputedStyle(gd).display;\n",
       "        if (!display || display === 'none') {{\n",
       "            console.log([gd, 'removed!']);\n",
       "            Plotly.purge(gd);\n",
       "            observer.disconnect();\n",
       "        }}\n",
       "}});\n",
       "\n",
       "// Listen for the removal of the full notebook cells\n",
       "var notebookContainer = gd.closest('#notebook-container');\n",
       "if (notebookContainer) {{\n",
       "    x.observe(notebookContainer, {childList: true});\n",
       "}}\n",
       "\n",
       "// Listen for the clearing of the current output cell\n",
       "var outputEl = gd.closest('.output');\n",
       "if (outputEl) {{\n",
       "    x.observe(outputEl, {childList: true});\n",
       "}}\n",
       "\n",
       "                        })                };                });            </script>        </div>"
      ]
     },
     "metadata": {},
     "output_type": "display_data"
    },
    {
     "data": {
      "text/html": [
       "<div>                            <div id=\"9935fc65-eb0f-4370-9e37-bf29889f971e\" class=\"plotly-graph-div\" style=\"height:525px; width:100%;\"></div>            <script type=\"text/javascript\">                require([\"plotly\"], function(Plotly) {                    window.PLOTLYENV=window.PLOTLYENV || {};                                    if (document.getElementById(\"9935fc65-eb0f-4370-9e37-bf29889f971e\")) {                    Plotly.newPlot(                        \"9935fc65-eb0f-4370-9e37-bf29889f971e\",                        [{\"alignmentgroup\": \"True\", \"hovertemplate\": \"x=%{x}<br>y=%{y}<extra></extra>\", \"legendgroup\": \"\", \"marker\": {\"color\": \"#636efa\"}, \"name\": \"\", \"offsetgroup\": \"\", \"orientation\": \"v\", \"showlegend\": false, \"textposition\": \"auto\", \"type\": \"bar\", \"x\": [\"Southern Metropolitan\", \"Northern Metropolitan\", \"Western Metropolitan\", \"Eastern Metropolitan\", \"South-Eastern Metropolitan\", \"Eastern Victoria\", \"Northern Victoria\", \"Western Victoria\"], \"xaxis\": \"x\", \"y\": [4695, 3890, 2948, 1471, 450, 53, 41, 32], \"yaxis\": \"y\"}],                        {\"barmode\": \"relative\", \"legend\": {\"tracegroupgap\": 0}, \"margin\": {\"t\": 60}, \"template\": {\"data\": {\"bar\": [{\"error_x\": {\"color\": \"#2a3f5f\"}, \"error_y\": {\"color\": \"#2a3f5f\"}, \"marker\": {\"line\": {\"color\": \"#E5ECF6\", \"width\": 0.5}}, \"type\": \"bar\"}], \"barpolar\": [{\"marker\": {\"line\": {\"color\": \"#E5ECF6\", \"width\": 0.5}}, \"type\": \"barpolar\"}], \"carpet\": [{\"aaxis\": {\"endlinecolor\": \"#2a3f5f\", \"gridcolor\": \"white\", \"linecolor\": \"white\", \"minorgridcolor\": \"white\", \"startlinecolor\": \"#2a3f5f\"}, \"baxis\": {\"endlinecolor\": \"#2a3f5f\", \"gridcolor\": \"white\", \"linecolor\": \"white\", \"minorgridcolor\": \"white\", \"startlinecolor\": \"#2a3f5f\"}, \"type\": \"carpet\"}], \"choropleth\": [{\"colorbar\": {\"outlinewidth\": 0, \"ticks\": \"\"}, \"type\": \"choropleth\"}], \"contour\": [{\"colorbar\": {\"outlinewidth\": 0, \"ticks\": \"\"}, \"colorscale\": [[0.0, \"#0d0887\"], [0.1111111111111111, \"#46039f\"], [0.2222222222222222, \"#7201a8\"], [0.3333333333333333, \"#9c179e\"], [0.4444444444444444, \"#bd3786\"], [0.5555555555555556, \"#d8576b\"], [0.6666666666666666, \"#ed7953\"], [0.7777777777777778, \"#fb9f3a\"], [0.8888888888888888, \"#fdca26\"], [1.0, \"#f0f921\"]], \"type\": \"contour\"}], \"contourcarpet\": [{\"colorbar\": {\"outlinewidth\": 0, \"ticks\": \"\"}, \"type\": \"contourcarpet\"}], \"heatmap\": [{\"colorbar\": {\"outlinewidth\": 0, \"ticks\": \"\"}, \"colorscale\": [[0.0, \"#0d0887\"], [0.1111111111111111, \"#46039f\"], [0.2222222222222222, \"#7201a8\"], [0.3333333333333333, \"#9c179e\"], [0.4444444444444444, \"#bd3786\"], [0.5555555555555556, \"#d8576b\"], [0.6666666666666666, \"#ed7953\"], [0.7777777777777778, \"#fb9f3a\"], [0.8888888888888888, \"#fdca26\"], [1.0, \"#f0f921\"]], \"type\": \"heatmap\"}], \"heatmapgl\": [{\"colorbar\": {\"outlinewidth\": 0, \"ticks\": \"\"}, \"colorscale\": [[0.0, \"#0d0887\"], [0.1111111111111111, \"#46039f\"], [0.2222222222222222, \"#7201a8\"], [0.3333333333333333, \"#9c179e\"], [0.4444444444444444, \"#bd3786\"], [0.5555555555555556, \"#d8576b\"], [0.6666666666666666, \"#ed7953\"], [0.7777777777777778, \"#fb9f3a\"], [0.8888888888888888, \"#fdca26\"], [1.0, \"#f0f921\"]], \"type\": \"heatmapgl\"}], \"histogram\": [{\"marker\": {\"colorbar\": {\"outlinewidth\": 0, \"ticks\": \"\"}}, \"type\": \"histogram\"}], \"histogram2d\": [{\"colorbar\": {\"outlinewidth\": 0, \"ticks\": \"\"}, \"colorscale\": [[0.0, \"#0d0887\"], [0.1111111111111111, \"#46039f\"], [0.2222222222222222, \"#7201a8\"], [0.3333333333333333, \"#9c179e\"], [0.4444444444444444, \"#bd3786\"], [0.5555555555555556, \"#d8576b\"], [0.6666666666666666, \"#ed7953\"], [0.7777777777777778, \"#fb9f3a\"], [0.8888888888888888, \"#fdca26\"], [1.0, \"#f0f921\"]], \"type\": \"histogram2d\"}], \"histogram2dcontour\": [{\"colorbar\": {\"outlinewidth\": 0, \"ticks\": \"\"}, \"colorscale\": [[0.0, \"#0d0887\"], [0.1111111111111111, \"#46039f\"], [0.2222222222222222, \"#7201a8\"], [0.3333333333333333, \"#9c179e\"], [0.4444444444444444, \"#bd3786\"], [0.5555555555555556, \"#d8576b\"], [0.6666666666666666, \"#ed7953\"], [0.7777777777777778, \"#fb9f3a\"], [0.8888888888888888, \"#fdca26\"], [1.0, \"#f0f921\"]], \"type\": \"histogram2dcontour\"}], \"mesh3d\": [{\"colorbar\": {\"outlinewidth\": 0, \"ticks\": \"\"}, \"type\": \"mesh3d\"}], \"parcoords\": [{\"line\": {\"colorbar\": {\"outlinewidth\": 0, \"ticks\": \"\"}}, \"type\": \"parcoords\"}], \"pie\": [{\"automargin\": true, \"type\": \"pie\"}], \"scatter\": [{\"marker\": {\"colorbar\": {\"outlinewidth\": 0, \"ticks\": \"\"}}, \"type\": \"scatter\"}], \"scatter3d\": [{\"line\": {\"colorbar\": {\"outlinewidth\": 0, \"ticks\": \"\"}}, \"marker\": {\"colorbar\": {\"outlinewidth\": 0, \"ticks\": \"\"}}, \"type\": \"scatter3d\"}], \"scattercarpet\": [{\"marker\": {\"colorbar\": {\"outlinewidth\": 0, \"ticks\": \"\"}}, \"type\": \"scattercarpet\"}], \"scattergeo\": [{\"marker\": {\"colorbar\": {\"outlinewidth\": 0, \"ticks\": \"\"}}, \"type\": \"scattergeo\"}], \"scattergl\": [{\"marker\": {\"colorbar\": {\"outlinewidth\": 0, \"ticks\": \"\"}}, \"type\": \"scattergl\"}], \"scattermapbox\": [{\"marker\": {\"colorbar\": {\"outlinewidth\": 0, \"ticks\": \"\"}}, \"type\": \"scattermapbox\"}], \"scatterpolar\": [{\"marker\": {\"colorbar\": {\"outlinewidth\": 0, \"ticks\": \"\"}}, \"type\": \"scatterpolar\"}], \"scatterpolargl\": [{\"marker\": {\"colorbar\": {\"outlinewidth\": 0, \"ticks\": \"\"}}, \"type\": \"scatterpolargl\"}], \"scatterternary\": [{\"marker\": {\"colorbar\": {\"outlinewidth\": 0, \"ticks\": \"\"}}, \"type\": \"scatterternary\"}], \"surface\": [{\"colorbar\": {\"outlinewidth\": 0, \"ticks\": \"\"}, \"colorscale\": [[0.0, \"#0d0887\"], [0.1111111111111111, \"#46039f\"], [0.2222222222222222, \"#7201a8\"], [0.3333333333333333, \"#9c179e\"], [0.4444444444444444, \"#bd3786\"], [0.5555555555555556, \"#d8576b\"], [0.6666666666666666, \"#ed7953\"], [0.7777777777777778, \"#fb9f3a\"], [0.8888888888888888, \"#fdca26\"], [1.0, \"#f0f921\"]], \"type\": \"surface\"}], \"table\": [{\"cells\": {\"fill\": {\"color\": \"#EBF0F8\"}, \"line\": {\"color\": \"white\"}}, \"header\": {\"fill\": {\"color\": \"#C8D4E3\"}, \"line\": {\"color\": \"white\"}}, \"type\": \"table\"}]}, \"layout\": {\"annotationdefaults\": {\"arrowcolor\": \"#2a3f5f\", \"arrowhead\": 0, \"arrowwidth\": 1}, \"coloraxis\": {\"colorbar\": {\"outlinewidth\": 0, \"ticks\": \"\"}}, \"colorscale\": {\"diverging\": [[0, \"#8e0152\"], [0.1, \"#c51b7d\"], [0.2, \"#de77ae\"], [0.3, \"#f1b6da\"], [0.4, \"#fde0ef\"], [0.5, \"#f7f7f7\"], [0.6, \"#e6f5d0\"], [0.7, \"#b8e186\"], [0.8, \"#7fbc41\"], [0.9, \"#4d9221\"], [1, \"#276419\"]], \"sequential\": [[0.0, \"#0d0887\"], [0.1111111111111111, \"#46039f\"], [0.2222222222222222, \"#7201a8\"], [0.3333333333333333, \"#9c179e\"], [0.4444444444444444, \"#bd3786\"], [0.5555555555555556, \"#d8576b\"], [0.6666666666666666, \"#ed7953\"], [0.7777777777777778, \"#fb9f3a\"], [0.8888888888888888, \"#fdca26\"], [1.0, \"#f0f921\"]], \"sequentialminus\": [[0.0, \"#0d0887\"], [0.1111111111111111, \"#46039f\"], [0.2222222222222222, \"#7201a8\"], [0.3333333333333333, \"#9c179e\"], [0.4444444444444444, \"#bd3786\"], [0.5555555555555556, \"#d8576b\"], [0.6666666666666666, \"#ed7953\"], [0.7777777777777778, \"#fb9f3a\"], [0.8888888888888888, \"#fdca26\"], [1.0, \"#f0f921\"]]}, \"colorway\": [\"#636efa\", \"#EF553B\", \"#00cc96\", \"#ab63fa\", \"#FFA15A\", \"#19d3f3\", \"#FF6692\", \"#B6E880\", \"#FF97FF\", \"#FECB52\"], \"font\": {\"color\": \"#2a3f5f\"}, \"geo\": {\"bgcolor\": \"white\", \"lakecolor\": \"white\", \"landcolor\": \"#E5ECF6\", \"showlakes\": true, \"showland\": true, \"subunitcolor\": \"white\"}, \"hoverlabel\": {\"align\": \"left\"}, \"hovermode\": \"closest\", \"mapbox\": {\"style\": \"light\"}, \"paper_bgcolor\": \"white\", \"plot_bgcolor\": \"#E5ECF6\", \"polar\": {\"angularaxis\": {\"gridcolor\": \"white\", \"linecolor\": \"white\", \"ticks\": \"\"}, \"bgcolor\": \"#E5ECF6\", \"radialaxis\": {\"gridcolor\": \"white\", \"linecolor\": \"white\", \"ticks\": \"\"}}, \"scene\": {\"xaxis\": {\"backgroundcolor\": \"#E5ECF6\", \"gridcolor\": \"white\", \"gridwidth\": 2, \"linecolor\": \"white\", \"showbackground\": true, \"ticks\": \"\", \"zerolinecolor\": \"white\"}, \"yaxis\": {\"backgroundcolor\": \"#E5ECF6\", \"gridcolor\": \"white\", \"gridwidth\": 2, \"linecolor\": \"white\", \"showbackground\": true, \"ticks\": \"\", \"zerolinecolor\": \"white\"}, \"zaxis\": {\"backgroundcolor\": \"#E5ECF6\", \"gridcolor\": \"white\", \"gridwidth\": 2, \"linecolor\": \"white\", \"showbackground\": true, \"ticks\": \"\", \"zerolinecolor\": \"white\"}}, \"shapedefaults\": {\"line\": {\"color\": \"#2a3f5f\"}}, \"ternary\": {\"aaxis\": {\"gridcolor\": \"white\", \"linecolor\": \"white\", \"ticks\": \"\"}, \"baxis\": {\"gridcolor\": \"white\", \"linecolor\": \"white\", \"ticks\": \"\"}, \"bgcolor\": \"#E5ECF6\", \"caxis\": {\"gridcolor\": \"white\", \"linecolor\": \"white\", \"ticks\": \"\"}}, \"title\": {\"x\": 0.05}, \"xaxis\": {\"automargin\": true, \"gridcolor\": \"white\", \"linecolor\": \"white\", \"ticks\": \"\", \"title\": {\"standoff\": 15}, \"zerolinecolor\": \"white\", \"zerolinewidth\": 2}, \"yaxis\": {\"automargin\": true, \"gridcolor\": \"white\", \"linecolor\": \"white\", \"ticks\": \"\", \"title\": {\"standoff\": 15}, \"zerolinecolor\": \"white\", \"zerolinewidth\": 2}}}, \"xaxis\": {\"anchor\": \"y\", \"domain\": [0.0, 1.0], \"title\": {\"text\": \"x\"}}, \"yaxis\": {\"anchor\": \"x\", \"domain\": [0.0, 1.0], \"title\": {\"text\": \"y\"}}},                        {\"responsive\": true}                    ).then(function(){\n",
       "                            \n",
       "var gd = document.getElementById('9935fc65-eb0f-4370-9e37-bf29889f971e');\n",
       "var x = new MutationObserver(function (mutations, observer) {{\n",
       "        var display = window.getComputedStyle(gd).display;\n",
       "        if (!display || display === 'none') {{\n",
       "            console.log([gd, 'removed!']);\n",
       "            Plotly.purge(gd);\n",
       "            observer.disconnect();\n",
       "        }}\n",
       "}});\n",
       "\n",
       "// Listen for the removal of the full notebook cells\n",
       "var notebookContainer = gd.closest('#notebook-container');\n",
       "if (notebookContainer) {{\n",
       "    x.observe(notebookContainer, {childList: true});\n",
       "}}\n",
       "\n",
       "// Listen for the clearing of the current output cell\n",
       "var outputEl = gd.closest('.output');\n",
       "if (outputEl) {{\n",
       "    x.observe(outputEl, {childList: true});\n",
       "}}\n",
       "\n",
       "                        })                };                });            </script>        </div>"
      ]
     },
     "metadata": {},
     "output_type": "display_data"
    },
    {
     "data": {
      "image/png": "[encoded data removed]",
      "text/plain": [
       "<Figure size 432x288 with 5 Axes>"
      ]
     },
     "metadata": {
      "needs_background": "light"
     },
     "output_type": "display_data"
    }
   ],
   "source": [
    "# plt.figure(figsize=(10, 5))\n",
    "\n",
    "# [ 'Regionname', 'Method', 'Method', 'Type' ]\n",
    "for idx, column in enumerate(categorical_features):\n",
    "    \n",
    "    df = data.copy()\n",
    "    \n",
    "    unique = df[column].value_counts(); # ascending=True\n",
    " \n",
    "    plt.subplot(len(categorical_features), 2, idx+1)    \n",
    "    \n",
    "    fig = px.bar(x=unique.index, y=unique.values)\n",
    "    fig.show()\n",
    "    \n",
    "    plt.title(\"Count of \"+ column)\n",
    "#     plt.bar(unique.index, unique.values);\n",
    "    \n",
    "    plt.xlabel(column)\n",
    "    plt.ylabel(\"Number of \"+ column)\n",
    "    \n",
    "# plt.tight_layout()\n",
    "plt.show()   "
   ]
  },
  {
   "cell_type": "code",
   "execution_count": 33,
   "metadata": {
    "execution": {
     "iopub.execute_input": "2020-11-10T17:24:33.031798Z",
     "iopub.status.busy": "2020-11-10T17:24:33.025331Z",
     "iopub.status.idle": "2020-11-10T17:24:33.306868Z",
     "shell.execute_reply": "2020-11-10T17:24:33.307480Z"
    },
    "papermill": {
     "duration": 0.412386,
     "end_time": "2020-11-10T17:24:33.307634",
     "exception": false,
     "start_time": "2020-11-10T17:24:32.895248",
     "status": "completed"
    },
    "tags": []
   },
   "outputs": [
    {
     "data": {
      "text/html": [
       "<div>                            <div id=\"896805be-3bbc-42a7-9dab-01184dd2c18d\" class=\"plotly-graph-div\" style=\"height:525px; width:100%;\"></div>            <script type=\"text/javascript\">                require([\"plotly\"], function(Plotly) {                    window.PLOTLYENV=window.PLOTLYENV || {};                                    if (document.getElementById(\"896805be-3bbc-42a7-9dab-01184dd2c18d\")) {                    Plotly.newPlot(                        \"896805be-3bbc-42a7-9dab-01184dd2c18d\",                        [{\"alignmentgroup\": \"True\", \"bingroup\": \"x\", \"histfunc\": \"sum\", \"hovertemplate\": \"Method=%{x}<br>sum of Price=%{y}<extra></extra>\", \"legendgroup\": \"S\", \"marker\": {\"color\": \"#636efa\"}, \"name\": \"S\", \"offsetgroup\": \"S\", \"orientation\": \"v\", \"showlegend\": true, \"type\": \"histogram\", \"x\": [\"S\", \"S\", \"S\", \"S\", \"S\", \"S\", \"S\", \"S\", \"S\", \"S\", \"S\", \"S\", \"S\", \"S\", \"S\", \"S\", \"S\", \"S\", \"S\", \"S\", \"S\", \"S\", \"S\", \"S\", \"S\", \"S\", \"S\", \"S\", \"S\", \"S\", \"S\", \"S\", \"S\", \"S\", \"S\", \"S\", \"S\", \"S\", \"S\", \"S\", \"S\", \"S\", \"S\", \"S\", \"S\", \"S\", \"S\", \"S\", \"S\", \"S\", \"S\", \"S\", \"S\", \"S\", \"S\", \"S\", \"S\", \"S\", \"S\", \"S\", \"S\", \"S\", \"S\", \"S\", \"S\", \"S\", \"S\", \"S\", \"S\", \"S\", \"S\", \"S\", \"S\", \"S\", \"S\", \"S\", \"S\", \"S\", \"S\", \"S\", \"S\", \"S\", \"S\", \"S\", \"S\", \"S\", \"S\", \"S\", \"S\", \"S\", \"S\", \"S\", \"S\", \"S\", \"S\", \"S\", \"S\", \"S\", \"S\", \"S\", \"S\", \"S\", \"S\", \"S\", \"S\", \"S\", \"S\", \"S\", \"S\", \"S\", \"S\", \"S\", \"S\", \"S\", \"S\", \"S\", \"S\", \"S\", \"S\", \"S\", \"S\", \"S\", \"S\", \"S\", \"S\", \"S\", \"S\", \"S\", \"S\", \"S\", \"S\", \"S\", \"S\", \"S\", \"S\", \"S\", \"S\", \"S\", \"S\", \"S\", \"S\", \"S\", \"S\", \"S\", \"S\", \"S\", \"S\", \"S\", \"S\", \"S\", \"S\", \"S\", \"S\", \"S\", \"S\", \"S\", \"S\", \"S\", \"S\", \"S\", \"S\", \"S\", \"S\", \"S\", \"S\", \"S\", \"S\", \"S\", \"S\", \"S\", \"S\", \"S\", \"S\", \"S\", \"S\", \"S\", \"S\", \"S\", \"S\", \"S\", \"S\", \"S\", \"S\", \"S\", \"S\", \"S\", \"S\", \"S\", \"S\", \"S\", \"S\", \"S\", \"S\", \"S\", \"S\", \"S\", \"S\", \"S\", \"S\", \"S\", \"S\", \"S\", \"S\", \"S\", \"S\", \"S\", \"S\", \"S\", \"S\", \"S\", \"S\", \"S\", \"S\", \"S\", \"S\", \"S\", \"S\", \"S\", \"S\", \"S\", \"S\", \"S\", \"S\", \"S\", \"S\", \"S\", \"S\", \"S\", \"S\", \"S\", \"S\", \"S\", \"S\", \"S\", \"S\", \"S\", \"S\", \"S\", \"S\", \"S\", \"S\", \"S\", \"S\", \"S\", \"S\", \"S\", \"S\", \"S\", \"S\", \"S\", \"S\", \"S\", \"S\", \"S\", \"S\", \"S\", \"S\", \"S\", \"S\", \"S\", \"S\", \"S\", \"S\", \"S\", \"S\", \"S\", \"S\", \"S\", \"S\", \"S\", \"S\", \"S\", \"S\", \"S\", \"S\", \"S\", \"S\", \"S\", \"S\", \"S\", \"S\", \"S\", \"S\", \"S\", \"S\", \"S\", \"S\", \"S\", \"S\", \"S\", \"S\", \"S\", \"S\", \"S\", \"S\", \"S\", \"S\", \"S\", \"S\", \"S\", \"S\", \"S\", \"S\", \"S\", \"S\", \"S\", \"S\", \"S\", \"S\", \"S\", \"S\", \"S\", \"S\", \"S\", \"S\", \"S\", \"S\", \"S\", \"S\", \"S\", \"S\", \"S\", \"S\", \"S\", \"S\", \"S\", \"S\", \"S\", \"S\", \"S\", \"S\", \"S\", \"S\", \"S\", \"S\", \"S\", \"S\", \"S\", \"S\", \"S\", \"S\", \"S\", \"S\", \"S\", \"S\", \"S\", \"S\", \"S\", \"S\", \"S\", \"S\", \"S\", \"S\", \"S\", \"S\", \"S\", \"S\", \"S\", \"S\", \"S\", \"S\", \"S\", \"S\", \"S\", \"S\", \"S\", \"S\", \"S\", \"S\", \"S\", \"S\", \"S\", \"S\", \"S\", \"S\", \"S\", \"S\", \"S\", \"S\", \"S\", \"S\", \"S\", \"S\", \"S\", \"S\", \"S\", \"S\", \"S\", \"S\", \"S\", \"S\", \"S\", \"S\", \"S\", \"S\", \"S\", \"S\", \"S\", \"S\", \"S\", \"S\", \"S\", \"S\", \"S\", \"S\", \"S\", \"S\", \"S\", \"S\", \"S\", \"S\", \"S\", \"S\", \"S\", \"S\", \"S\", \"S\", \"S\", \"S\", \"S\", \"S\", \"S\", \"S\", \"S\", \"S\", \"S\", \"S\", \"S\", \"S\", \"S\", \"S\", \"S\", \"S\", \"S\", \"S\", \"S\", \"S\", \"S\", \"S\", \"S\", \"S\", \"S\", \"S\", \"S\", \"S\", \"S\", \"S\", \"S\", \"S\", \"S\", \"S\", \"S\", \"S\", \"S\", \"S\", \"S\", \"S\", \"S\", \"S\", \"S\", \"S\", \"S\", \"S\", \"S\", \"S\", \"S\", \"S\", \"S\", \"S\", \"S\", \"S\", \"S\", \"S\", \"S\", \"S\", \"S\", \"S\", \"S\", \"S\", \"S\", \"S\", \"S\", \"S\", \"S\", \"S\", \"S\", \"S\", \"S\", \"S\", \"S\", \"S\", \"S\", \"S\", \"S\", \"S\", \"S\", \"S\", \"S\", \"S\", \"S\", \"S\", \"S\", \"S\", \"S\", \"S\", \"S\", \"S\", \"S\", \"S\", \"S\", \"S\", \"S\", \"S\", \"S\", \"S\", \"S\", \"S\", \"S\", \"S\", \"S\", \"S\", \"S\", \"S\", \"S\", \"S\", \"S\", \"S\", \"S\", \"S\", \"S\", \"S\", \"S\", \"S\", \"S\", \"S\", \"S\", \"S\", \"S\", \"S\", \"S\", \"S\", \"S\", \"S\", \"S\", \"S\", \"S\", \"S\", \"S\", \"S\", \"S\", \"S\", \"S\", \"S\", \"S\", \"S\", \"S\", \"S\", \"S\", \"S\", \"S\", \"S\", \"S\", \"S\", \"S\", \"S\", \"S\", \"S\", \"S\", \"S\", \"S\", \"S\", \"S\", \"S\", \"S\", \"S\", \"S\", \"S\", \"S\", \"S\", \"S\", \"S\", \"S\", \"S\", \"S\", \"S\", \"S\", \"S\", \"S\", \"S\", \"S\", \"S\", \"S\", \"S\", \"S\", \"S\", \"S\", \"S\", \"S\", \"S\", \"S\", \"S\", \"S\", \"S\", \"S\", \"S\", \"S\", \"S\", \"S\", \"S\", \"S\", \"S\", \"S\", \"S\", \"S\", \"S\", \"S\", \"S\", \"S\", \"S\", \"S\", \"S\", \"S\", \"S\", \"S\", \"S\", \"S\", \"S\", \"S\", \"S\", \"S\", \"S\", \"S\", \"S\", \"S\", \"S\", \"S\", \"S\", \"S\", \"S\", \"S\", \"S\", \"S\", \"S\", \"S\", \"S\", \"S\", \"S\", \"S\", \"S\", \"S\", \"S\", \"S\", \"S\", \"S\", \"S\", \"S\", \"S\", \"S\", \"S\", \"S\", \"S\", \"S\", \"S\", \"S\", \"S\", \"S\", \"S\", \"S\", \"S\", \"S\", \"S\", \"S\", \"S\", \"S\", \"S\", \"S\", \"S\", \"S\", \"S\", \"S\", \"S\", \"S\", \"S\", \"S\", \"S\", \"S\", \"S\", \"S\", \"S\", \"S\", \"S\", \"S\", \"S\", \"S\", \"S\", \"S\", \"S\", \"S\", \"S\", \"S\", \"S\", \"S\", \"S\", \"S\", \"S\", \"S\", \"S\", \"S\", \"S\", \"S\", \"S\", \"S\", \"S\", \"S\", \"S\", \"S\", \"S\", \"S\", \"S\", \"S\", \"S\", \"S\", \"S\", \"S\", \"S\", \"S\", \"S\", \"S\", \"S\", \"S\", \"S\", \"S\", \"S\", \"S\", \"S\", \"S\", \"S\", \"S\", \"S\", \"S\", \"S\", \"S\", \"S\", \"S\", \"S\", \"S\", \"S\", \"S\", \"S\", \"S\", \"S\", \"S\", \"S\", \"S\", \"S\", \"S\", \"S\", \"S\", \"S\", \"S\", \"S\", \"S\", \"S\", \"S\", \"S\", \"S\", \"S\", \"S\", \"S\", \"S\", \"S\", \"S\", \"S\", \"S\", \"S\", \"S\", \"S\", \"S\", \"S\", \"S\", \"S\", \"S\", \"S\", \"S\", \"S\", \"S\", \"S\", \"S\", \"S\", \"S\", \"S\", \"S\", \"S\", \"S\", \"S\", \"S\", \"S\", \"S\", \"S\", \"S\", \"S\", \"S\", \"S\", \"S\", \"S\", \"S\", \"S\", \"S\", \"S\", \"S\", \"S\", \"S\", \"S\", \"S\", \"S\", \"S\", \"S\", \"S\", \"S\", \"S\", \"S\", \"S\", \"S\", \"S\", \"S\", \"S\", \"S\", \"S\", \"S\", \"S\", \"S\", \"S\", \"S\", \"S\", \"S\", \"S\", \"S\", \"S\", \"S\", \"S\", \"S\", \"S\", \"S\", \"S\", \"S\", \"S\", \"S\", \"S\", \"S\", \"S\", \"S\", \"S\", \"S\", \"S\", \"S\", \"S\", \"S\", \"S\", \"S\", \"S\", \"S\", \"S\", \"S\", \"S\", \"S\", \"S\", \"S\", \"S\", \"S\", \"S\", \"S\", \"S\", \"S\", \"S\", \"S\", \"S\", \"S\", \"S\", \"S\", \"S\", \"S\", \"S\", \"S\", \"S\", \"S\", \"S\", \"S\", \"S\", \"S\", \"S\", \"S\", \"S\", \"S\", \"S\", \"S\", \"S\", \"S\", \"S\", \"S\", \"S\", \"S\", \"S\", \"S\", \"S\", \"S\", \"S\", \"S\", \"S\", \"S\", \"S\", \"S\", \"S\", \"S\", \"S\", \"S\", \"S\", \"S\", \"S\", \"S\", \"S\", \"S\", \"S\", \"S\", \"S\", \"S\", \"S\", \"S\", \"S\", \"S\", \"S\", \"S\", \"S\", \"S\", \"S\", \"S\", \"S\", \"S\", \"S\", \"S\", \"S\", \"S\", \"S\", \"S\", \"S\", \"S\", \"S\", \"S\", \"S\", \"S\", \"S\", \"S\", \"S\", \"S\", \"S\", \"S\", \"S\", \"S\", \"S\", \"S\", \"S\", \"S\", \"S\", \"S\", \"S\", \"S\", \"S\", \"S\", \"S\", \"S\", \"S\", \"S\", \"S\", \"S\", \"S\", \"S\", \"S\", \"S\", \"S\", \"S\", \"S\", \"S\", \"S\", \"S\", \"S\", \"S\", \"S\", \"S\", \"S\", \"S\", \"S\", \"S\", \"S\", \"S\", \"S\", \"S\", \"S\", \"S\", \"S\", \"S\", \"S\", \"S\", \"S\", \"S\", \"S\", \"S\", \"S\", \"S\", \"S\", \"S\", \"S\", \"S\", \"S\", \"S\", \"S\", \"S\", \"S\", \"S\", \"S\", \"S\", \"S\", \"S\", \"S\", \"S\", \"S\", \"S\", \"S\", \"S\", \"S\", \"S\", \"S\", \"S\", \"S\", \"S\", \"S\", \"S\", \"S\", \"S\", \"S\", \"S\", \"S\", \"S\", \"S\", \"S\", \"S\", \"S\", \"S\", \"S\", \"S\", \"S\", \"S\", \"S\", \"S\", \"S\", \"S\", \"S\", \"S\", \"S\", \"S\", \"S\", \"S\", \"S\", \"S\", \"S\", \"S\", \"S\", \"S\", \"S\", \"S\", \"S\", \"S\", \"S\", \"S\", \"S\", \"S\", \"S\", \"S\", \"S\", \"S\", \"S\", \"S\", \"S\", \"S\", \"S\", \"S\", \"S\", \"S\", \"S\", \"S\", \"S\", \"S\", \"S\", \"S\", \"S\", \"S\", \"S\", \"S\", \"S\", \"S\", \"S\", \"S\", \"S\", \"S\", \"S\", \"S\", \"S\", \"S\", \"S\", \"S\", \"S\", \"S\", \"S\", \"S\", \"S\", \"S\", \"S\", \"S\", \"S\", \"S\", \"S\", \"S\", \"S\", \"S\", \"S\", \"S\", \"S\", \"S\", \"S\", \"S\", \"S\", \"S\", \"S\", \"S\", \"S\", \"S\", \"S\", \"S\", \"S\", \"S\", \"S\", \"S\", \"S\", \"S\", \"S\", \"S\", \"S\", \"S\", \"S\", \"S\", \"S\", \"S\", \"S\", \"S\", \"S\", \"S\", \"S\", \"S\", \"S\", \"S\", \"S\", \"S\", \"S\", \"S\", \"S\", \"S\", \"S\", \"S\", \"S\", \"S\", \"S\", \"S\", \"S\", \"S\", \"S\", \"S\", \"S\", \"S\", \"S\", \"S\", \"S\", \"S\", \"S\", \"S\", \"S\", \"S\", \"S\", \"S\", \"S\", \"S\", \"S\", \"S\", \"S\", \"S\", \"S\", \"S\", \"S\", \"S\", \"S\", \"S\", \"S\", \"S\", \"S\", \"S\", \"S\", \"S\", \"S\", \"S\", \"S\", \"S\", \"S\", \"S\", \"S\", \"S\", \"S\", \"S\", \"S\", \"S\", \"S\", \"S\", \"S\", \"S\", \"S\", \"S\", \"S\", \"S\", \"S\", \"S\", \"S\", \"S\", \"S\", \"S\", \"S\", \"S\", \"S\", \"S\", \"S\", \"S\", \"S\", \"S\", \"S\", \"S\", \"S\", \"S\", \"S\", \"S\", \"S\", \"S\", \"S\", \"S\", \"S\", \"S\", \"S\", \"S\", \"S\", \"S\", \"S\", \"S\", \"S\", \"S\", \"S\", \"S\", \"S\", \"S\", \"S\", \"S\", \"S\", \"S\", \"S\", \"S\", \"S\", \"S\", \"S\", \"S\", \"S\", \"S\", \"S\", \"S\", \"S\", \"S\", \"S\", \"S\", \"S\", \"S\", \"S\", \"S\", \"S\", \"S\", \"S\", \"S\", \"S\", \"S\", \"S\", \"S\", \"S\", \"S\", \"S\", \"S\", \"S\", \"S\", \"S\", \"S\", \"S\", \"S\", \"S\", \"S\", \"S\", \"S\", \"S\", \"S\", \"S\", \"S\", \"S\", \"S\", \"S\", \"S\", \"S\", \"S\", \"S\", \"S\", \"S\", \"S\", \"S\", \"S\", \"S\", \"S\", \"S\", \"S\", \"S\", \"S\", \"S\", \"S\", \"S\", \"S\", \"S\", \"S\", \"S\", \"S\", \"S\", \"S\", \"S\", \"S\", \"S\", \"S\", \"S\", \"S\", \"S\", \"S\", \"S\", \"S\", \"S\", \"S\", \"S\", \"S\", \"S\", \"S\", \"S\", \"S\", \"S\", \"S\", \"S\", \"S\", \"S\", \"S\", \"S\", \"S\", \"S\", \"S\", \"S\", \"S\", \"S\", \"S\", \"S\", \"S\", \"S\", \"S\", \"S\", \"S\", \"S\", \"S\", \"S\", \"S\", \"S\", \"S\", \"S\", \"S\", \"S\", \"S\", \"S\", \"S\", \"S\", \"S\", \"S\", \"S\", \"S\", \"S\", \"S\", \"S\", \"S\", \"S\", \"S\", \"S\", \"S\", \"S\", \"S\", \"S\", \"S\", \"S\", \"S\", \"S\", \"S\", \"S\", \"S\", \"S\", \"S\", \"S\", \"S\", \"S\", \"S\", \"S\", \"S\", \"S\", \"S\", \"S\", \"S\", \"S\", \"S\", \"S\", \"S\", \"S\", \"S\", \"S\", \"S\", \"S\", \"S\", \"S\", \"S\", \"S\", \"S\", \"S\", \"S\", \"S\", \"S\", \"S\", \"S\", \"S\", \"S\", \"S\", \"S\", \"S\", \"S\", \"S\", \"S\", \"S\", \"S\", \"S\", \"S\", \"S\", \"S\", \"S\", \"S\", \"S\", \"S\", \"S\", \"S\", \"S\", \"S\", \"S\", \"S\", \"S\", \"S\", \"S\", \"S\", \"S\", \"S\", \"S\", \"S\", \"S\", \"S\", \"S\", \"S\", \"S\", \"S\", \"S\", \"S\", \"S\", \"S\", \"S\", \"S\", \"S\", \"S\", \"S\", \"S\", \"S\", \"S\", \"S\", \"S\", \"S\", \"S\", \"S\", \"S\", \"S\", \"S\", \"S\", \"S\", \"S\", \"S\", \"S\", \"S\", \"S\", \"S\", \"S\", \"S\", \"S\", \"S\", \"S\", \"S\", \"S\", \"S\", \"S\", \"S\", \"S\", \"S\", \"S\", \"S\", \"S\", \"S\", \"S\", \"S\", \"S\", \"S\", \"S\", \"S\", \"S\", \"S\", \"S\", \"S\", \"S\", \"S\", \"S\", \"S\", \"S\", \"S\", \"S\", \"S\", \"S\", \"S\", \"S\", \"S\", \"S\", \"S\", \"S\", \"S\", \"S\", \"S\", \"S\", \"S\", \"S\", \"S\", \"S\", \"S\", \"S\", \"S\", \"S\", \"S\", \"S\", \"S\", \"S\", \"S\", \"S\", \"S\", \"S\", \"S\", \"S\", \"S\", \"S\", \"S\", \"S\", \"S\", \"S\", \"S\", \"S\", \"S\", \"S\", \"S\", \"S\", \"S\", \"S\", \"S\", \"S\", \"S\", \"S\", \"S\", \"S\", \"S\", \"S\", \"S\", \"S\", \"S\", \"S\", \"S\", \"S\", \"S\", \"S\", \"S\", \"S\", \"S\", \"S\", \"S\", \"S\", \"S\", \"S\", \"S\", \"S\", \"S\", \"S\", \"S\", \"S\", \"S\", \"S\", \"S\", \"S\", \"S\", \"S\", \"S\", \"S\", \"S\", \"S\", \"S\", \"S\", \"S\", \"S\", \"S\", \"S\", \"S\", \"S\", \"S\", \"S\", \"S\", \"S\", \"S\", \"S\", \"S\", \"S\", \"S\", \"S\", \"S\", \"S\", \"S\", \"S\", \"S\", \"S\", \"S\", \"S\", \"S\", \"S\", \"S\", \"S\", \"S\", \"S\", \"S\", \"S\", \"S\", \"S\", \"S\", \"S\", \"S\", \"S\", \"S\", \"S\", \"S\", \"S\", \"S\", \"S\", \"S\", \"S\", \"S\", \"S\", \"S\", \"S\", \"S\", \"S\", \"S\", \"S\", \"S\", \"S\", \"S\", \"S\", \"S\", \"S\", \"S\", \"S\", \"S\", \"S\", \"S\", \"S\", \"S\", \"S\", \"S\", \"S\", \"S\", \"S\", \"S\", \"S\", \"S\", \"S\", \"S\", \"S\", \"S\", \"S\", \"S\", \"S\", \"S\", \"S\", \"S\", \"S\", \"S\", \"S\", \"S\", \"S\", \"S\", \"S\", \"S\", \"S\", \"S\", \"S\", \"S\", \"S\", \"S\", \"S\", \"S\", \"S\", \"S\", \"S\", \"S\", \"S\", \"S\", \"S\", \"S\", \"S\", \"S\", \"S\", \"S\", \"S\", \"S\", \"S\", \"S\", \"S\", \"S\", \"S\", \"S\", \"S\", \"S\", \"S\", \"S\", \"S\", \"S\", \"S\", \"S\", \"S\", \"S\", \"S\", \"S\", \"S\", \"S\", \"S\", \"S\", \"S\", \"S\", \"S\", \"S\", \"S\", \"S\", \"S\", \"S\", \"S\", \"S\", \"S\", \"S\", \"S\", \"S\", \"S\", \"S\", \"S\", \"S\", \"S\", \"S\", \"S\", \"S\", \"S\", \"S\", \"S\", \"S\", \"S\", \"S\", \"S\", \"S\", \"S\", \"S\", \"S\", \"S\", \"S\", \"S\", \"S\", \"S\", \"S\", \"S\", \"S\", \"S\", \"S\", \"S\", \"S\", \"S\", \"S\", \"S\", \"S\", \"S\", \"S\", \"S\", \"S\", \"S\", \"S\", \"S\", \"S\", \"S\", \"S\", \"S\", \"S\", \"S\", \"S\", \"S\", \"S\", \"S\", \"S\", \"S\", \"S\", \"S\", \"S\", \"S\", \"S\", \"S\", \"S\", \"S\", \"S\", \"S\", \"S\", \"S\", \"S\", \"S\", \"S\", \"S\", \"S\", \"S\", \"S\", \"S\", \"S\", \"S\", \"S\", \"S\", \"S\", \"S\", \"S\", \"S\", \"S\", \"S\", \"S\", \"S\", \"S\", \"S\", \"S\", \"S\", \"S\", \"S\", \"S\", \"S\", \"S\", \"S\", \"S\", \"S\", \"S\", \"S\", \"S\", \"S\", \"S\", \"S\", \"S\", \"S\", \"S\", \"S\", \"S\", \"S\", \"S\", \"S\", \"S\", \"S\", \"S\", \"S\", \"S\", \"S\", \"S\", \"S\", \"S\", \"S\", \"S\", \"S\", \"S\", \"S\", \"S\", \"S\", \"S\", \"S\", \"S\", \"S\", \"S\", \"S\", \"S\", \"S\", \"S\", \"S\", \"S\", \"S\", \"S\", \"S\", \"S\", \"S\", \"S\", \"S\", \"S\", \"S\", \"S\", \"S\", \"S\", \"S\", \"S\", \"S\", \"S\", \"S\", \"S\", \"S\", \"S\", \"S\", \"S\", \"S\", \"S\", \"S\", \"S\", \"S\", \"S\", \"S\", \"S\", \"S\", \"S\", \"S\", \"S\", \"S\", \"S\", \"S\", \"S\", \"S\", \"S\", \"S\", \"S\", \"S\", \"S\", \"S\", \"S\", \"S\", \"S\", \"S\", \"S\", \"S\", \"S\", \"S\", \"S\", \"S\", \"S\", \"S\", \"S\", \"S\", \"S\", \"S\", \"S\", \"S\", \"S\", \"S\", \"S\", \"S\", \"S\", \"S\", \"S\", \"S\", \"S\", \"S\", \"S\", \"S\", \"S\", \"S\", \"S\", \"S\", \"S\", \"S\", \"S\", \"S\", \"S\", \"S\", \"S\", \"S\", \"S\", \"S\", \"S\", \"S\", \"S\", \"S\", \"S\", \"S\", \"S\", \"S\", \"S\", \"S\", \"S\", \"S\", \"S\", \"S\", \"S\", \"S\", \"S\", \"S\", \"S\", \"S\", \"S\", \"S\", \"S\", \"S\", \"S\", \"S\", \"S\", \"S\", \"S\", \"S\", \"S\", \"S\", \"S\", \"S\", \"S\", \"S\", \"S\", \"S\", \"S\", \"S\", \"S\", \"S\", \"S\", \"S\", \"S\", \"S\", \"S\", \"S\", \"S\", \"S\", \"S\", \"S\", \"S\", \"S\", \"S\", \"S\", \"S\", \"S\", \"S\", \"S\", \"S\", \"S\", \"S\", \"S\", \"S\", \"S\", \"S\", \"S\", \"S\", \"S\", \"S\", \"S\", \"S\", \"S\", \"S\", \"S\", \"S\", \"S\", \"S\", \"S\", \"S\", \"S\", \"S\", \"S\", \"S\", \"S\", \"S\", \"S\", \"S\", \"S\", \"S\", \"S\", \"S\", \"S\", \"S\", \"S\", \"S\", \"S\", \"S\", \"S\", \"S\", \"S\", \"S\", \"S\", \"S\", \"S\", \"S\", \"S\", \"S\", \"S\", \"S\", \"S\", \"S\", \"S\", \"S\", \"S\", \"S\", \"S\", \"S\", \"S\", \"S\", \"S\", \"S\", \"S\", \"S\", \"S\", \"S\", \"S\", \"S\", \"S\", \"S\", \"S\", \"S\", \"S\", \"S\", \"S\", \"S\", \"S\", \"S\", \"S\", \"S\", \"S\", \"S\", \"S\", \"S\", \"S\", \"S\", \"S\", \"S\", \"S\", \"S\", \"S\", \"S\", \"S\", \"S\", \"S\", \"S\", \"S\", \"S\", \"S\", \"S\", \"S\", \"S\", \"S\", \"S\", \"S\", \"S\", \"S\", \"S\", \"S\", \"S\", \"S\", \"S\", \"S\", \"S\", \"S\", \"S\", \"S\", \"S\", \"S\", \"S\", \"S\", \"S\", \"S\", \"S\", \"S\", \"S\", \"S\", \"S\", \"S\", \"S\", \"S\", \"S\", \"S\", \"S\", \"S\", \"S\", \"S\", \"S\", \"S\", \"S\", \"S\", \"S\", \"S\", \"S\", \"S\", \"S\", \"S\", \"S\", \"S\", \"S\", \"S\", \"S\", \"S\", \"S\", \"S\", \"S\", \"S\", \"S\", \"S\", \"S\", \"S\", \"S\", \"S\", \"S\", \"S\", \"S\", \"S\", \"S\", \"S\", \"S\", \"S\", \"S\", \"S\", \"S\", \"S\", \"S\", \"S\", \"S\", \"S\", \"S\", \"S\", \"S\", \"S\", \"S\", \"S\", \"S\", \"S\", \"S\", \"S\", \"S\", \"S\", \"S\", \"S\", \"S\", \"S\", \"S\", \"S\", \"S\", \"S\", \"S\", \"S\", \"S\", \"S\", \"S\", \"S\", \"S\", \"S\", \"S\", \"S\", \"S\", \"S\", \"S\", \"S\", \"S\", \"S\", \"S\", \"S\", \"S\", \"S\", \"S\", \"S\", \"S\", \"S\", \"S\", \"S\", \"S\", \"S\", \"S\", \"S\", \"S\", \"S\", \"S\", \"S\", \"S\", \"S\", \"S\", \"S\", \"S\", \"S\", \"S\", \"S\", \"S\", \"S\", \"S\", \"S\", \"S\", \"S\", \"S\", \"S\", \"S\", \"S\", \"S\", \"S\", \"S\", \"S\", \"S\", \"S\", \"S\", \"S\", \"S\", \"S\", \"S\", \"S\", \"S\", \"S\", \"S\", \"S\", \"S\", \"S\", \"S\", \"S\", \"S\", \"S\", \"S\", \"S\", \"S\", \"S\", \"S\", \"S\", \"S\", \"S\", \"S\", \"S\", \"S\", \"S\", \"S\", \"S\", \"S\", \"S\", \"S\", \"S\", \"S\", \"S\", \"S\", \"S\", \"S\", \"S\", \"S\", \"S\", \"S\", \"S\", \"S\", \"S\", \"S\", \"S\", \"S\", \"S\", \"S\", \"S\", \"S\", \"S\", \"S\", \"S\", \"S\", \"S\", \"S\", \"S\", \"S\", \"S\", \"S\", \"S\", \"S\", \"S\", \"S\", \"S\", \"S\", \"S\", \"S\", \"S\", \"S\", \"S\", \"S\", \"S\", \"S\", \"S\", \"S\", \"S\", \"S\", \"S\", \"S\", \"S\", \"S\", \"S\", \"S\", \"S\", \"S\", \"S\", \"S\", \"S\", \"S\", \"S\", \"S\", \"S\", \"S\", \"S\", \"S\", \"S\", \"S\", \"S\", \"S\", \"S\", \"S\", \"S\", \"S\", \"S\", \"S\", \"S\", \"S\", \"S\", \"S\", \"S\", \"S\", \"S\", \"S\", \"S\", \"S\", \"S\", \"S\", \"S\", \"S\", \"S\", \"S\", \"S\", \"S\", \"S\", \"S\", \"S\", \"S\", \"S\", \"S\", \"S\", \"S\", \"S\", \"S\", \"S\", \"S\", \"S\", \"S\", \"S\", \"S\", \"S\", \"S\", \"S\", \"S\", \"S\", \"S\", \"S\", \"S\", \"S\", \"S\", \"S\", \"S\", \"S\", \"S\", \"S\", \"S\", \"S\", \"S\", \"S\", \"S\", \"S\", \"S\", \"S\", \"S\", \"S\", \"S\", \"S\", \"S\", \"S\", \"S\", \"S\", \"S\", \"S\", \"S\", \"S\", \"S\", \"S\", \"S\", \"S\", \"S\", \"S\", \"S\", \"S\", \"S\", \"S\", \"S\", \"S\", \"S\", \"S\", \"S\", \"S\", \"S\", \"S\", \"S\", \"S\", \"S\", \"S\", \"S\", \"S\", \"S\", \"S\", \"S\", \"S\", \"S\", \"S\", \"S\", \"S\", \"S\", \"S\", \"S\", \"S\", \"S\", \"S\", \"S\", \"S\", \"S\", \"S\", \"S\", \"S\", \"S\", \"S\", \"S\", \"S\", \"S\", \"S\", \"S\", \"S\", \"S\", \"S\", \"S\", \"S\", \"S\", \"S\", \"S\", \"S\", \"S\", \"S\", \"S\", \"S\", \"S\", \"S\", \"S\", \"S\", \"S\", \"S\", \"S\", \"S\", \"S\", \"S\", \"S\", \"S\", \"S\", \"S\", \"S\", \"S\", \"S\", \"S\", \"S\", \"S\", \"S\", \"S\", \"S\", \"S\", \"S\", \"S\", \"S\", \"S\", \"S\", \"S\", \"S\", \"S\", \"S\", \"S\", \"S\", \"S\", \"S\", \"S\", \"S\", \"S\", \"S\", \"S\", \"S\", \"S\", \"S\", \"S\", \"S\", \"S\", \"S\", \"S\", \"S\", \"S\", \"S\", \"S\", \"S\", \"S\", \"S\", \"S\", \"S\", \"S\", \"S\", \"S\", \"S\", \"S\", \"S\", \"S\", \"S\", \"S\", \"S\", \"S\", \"S\", \"S\", \"S\", \"S\", \"S\", \"S\", \"S\", \"S\", \"S\", \"S\", \"S\", \"S\", \"S\", \"S\", \"S\", \"S\", \"S\", \"S\", \"S\", \"S\", \"S\", \"S\", \"S\", \"S\", \"S\", \"S\", \"S\", \"S\", \"S\", \"S\", \"S\", \"S\", \"S\", \"S\", \"S\", \"S\", \"S\", \"S\", \"S\", \"S\", \"S\", \"S\", \"S\", \"S\", \"S\", \"S\", \"S\", \"S\", \"S\", \"S\", \"S\", \"S\", \"S\", \"S\", \"S\", \"S\", \"S\", \"S\", \"S\", \"S\", \"S\", \"S\", \"S\", \"S\", \"S\", \"S\", \"S\", \"S\", \"S\", \"S\", \"S\", \"S\", \"S\", \"S\", \"S\", \"S\", \"S\", \"S\", \"S\", \"S\", \"S\", \"S\", \"S\", \"S\", \"S\", \"S\", \"S\", \"S\", \"S\", \"S\", \"S\", \"S\", \"S\", \"S\", \"S\", \"S\", \"S\", \"S\", \"S\", \"S\", \"S\", \"S\", \"S\", \"S\", \"S\", \"S\", \"S\", \"S\", \"S\", \"S\", \"S\", \"S\", \"S\", \"S\", \"S\", \"S\", \"S\", \"S\", \"S\", \"S\", \"S\", \"S\", \"S\", \"S\", \"S\", \"S\", \"S\", \"S\", \"S\", \"S\", \"S\", \"S\", \"S\", \"S\", \"S\", \"S\", \"S\", \"S\", \"S\", \"S\", \"S\", \"S\", \"S\", \"S\", \"S\", \"S\", \"S\", \"S\", \"S\", \"S\", \"S\", \"S\", \"S\", \"S\", \"S\", \"S\", \"S\", \"S\", \"S\", \"S\", \"S\", \"S\", \"S\", \"S\", \"S\", \"S\", \"S\", \"S\", \"S\", \"S\", \"S\", \"S\", \"S\", \"S\", \"S\", \"S\", \"S\", \"S\", \"S\", \"S\", \"S\", \"S\", \"S\", \"S\", \"S\", \"S\", \"S\", \"S\", \"S\", \"S\", \"S\", \"S\", \"S\", \"S\", \"S\", \"S\", \"S\", \"S\", \"S\", \"S\", \"S\", \"S\", \"S\", \"S\", \"S\", \"S\", \"S\", \"S\", \"S\", \"S\", \"S\", \"S\", \"S\", \"S\", \"S\", \"S\", \"S\", \"S\", \"S\", \"S\", \"S\", \"S\", \"S\", \"S\", \"S\", \"S\", \"S\", \"S\", \"S\", \"S\", \"S\", \"S\", \"S\", \"S\", \"S\", \"S\", \"S\", \"S\", \"S\", \"S\", \"S\", \"S\", \"S\", \"S\", \"S\", \"S\", \"S\", \"S\", \"S\", \"S\", \"S\", \"S\", \"S\", \"S\", \"S\", \"S\", \"S\", \"S\", \"S\", \"S\", \"S\", \"S\", \"S\", \"S\", \"S\", \"S\", \"S\", \"S\", \"S\", \"S\", \"S\", \"S\", \"S\", \"S\", \"S\", \"S\", \"S\", \"S\", \"S\", \"S\", \"S\", \"S\", \"S\", \"S\", \"S\", \"S\", \"S\", \"S\", \"S\", \"S\", \"S\", \"S\", \"S\", \"S\", \"S\", \"S\", \"S\", \"S\", \"S\", \"S\", \"S\", \"S\", \"S\", \"S\", \"S\", \"S\", \"S\", \"S\", \"S\", \"S\", \"S\", \"S\", \"S\", \"S\", \"S\", \"S\", \"S\", \"S\", \"S\", \"S\", \"S\", \"S\", \"S\", \"S\", \"S\", \"S\", \"S\", \"S\", \"S\", \"S\", \"S\", \"S\", \"S\", \"S\", \"S\", \"S\", \"S\", \"S\", \"S\", \"S\", \"S\", \"S\", \"S\", \"S\", \"S\", \"S\", \"S\", \"S\", \"S\", \"S\", \"S\", \"S\", \"S\", \"S\", \"S\", \"S\", \"S\", \"S\", \"S\", \"S\", \"S\", \"S\", \"S\", \"S\", \"S\", \"S\", \"S\", \"S\", \"S\", \"S\", \"S\", \"S\", \"S\", \"S\", \"S\", \"S\", \"S\", \"S\", \"S\", \"S\", \"S\", \"S\", \"S\", \"S\", \"S\", \"S\", \"S\", \"S\", \"S\", \"S\", \"S\", \"S\", \"S\", \"S\", \"S\", \"S\", \"S\", \"S\", \"S\", \"S\", \"S\", \"S\", \"S\", \"S\", \"S\", \"S\", \"S\", \"S\", \"S\", \"S\", \"S\", \"S\", \"S\", \"S\", \"S\", \"S\", \"S\", \"S\", \"S\", \"S\", \"S\", \"S\", \"S\", \"S\", \"S\", \"S\", \"S\", \"S\", \"S\", \"S\", \"S\", \"S\", \"S\", \"S\", \"S\", \"S\", \"S\", \"S\", \"S\", \"S\", \"S\", \"S\", \"S\", \"S\", \"S\", \"S\", \"S\", \"S\", \"S\", \"S\", \"S\", \"S\", \"S\", \"S\", \"S\", \"S\", \"S\", \"S\", \"S\", \"S\", \"S\", \"S\", \"S\", \"S\", \"S\", \"S\", \"S\", \"S\", \"S\", \"S\", \"S\", \"S\", \"S\", \"S\", \"S\", \"S\", \"S\", \"S\", \"S\", \"S\", \"S\", \"S\", \"S\", \"S\", \"S\", \"S\", \"S\", \"S\", \"S\", \"S\", \"S\", \"S\", \"S\", \"S\", \"S\", \"S\", \"S\", \"S\", \"S\", \"S\", \"S\", \"S\", \"S\", \"S\", \"S\", \"S\", \"S\", \"S\", \"S\", \"S\", \"S\", \"S\", \"S\", \"S\", \"S\", \"S\", \"S\", \"S\", \"S\", \"S\", \"S\", \"S\", \"S\", \"S\", \"S\", \"S\", \"S\", \"S\", \"S\", \"S\", \"S\", \"S\", \"S\", \"S\", \"S\", \"S\", \"S\", \"S\", \"S\", \"S\", \"S\", \"S\", \"S\", \"S\", \"S\", \"S\", \"S\", \"S\", \"S\", \"S\", \"S\", \"S\", \"S\", \"S\", \"S\", \"S\", \"S\", \"S\", \"S\", \"S\", \"S\", \"S\", \"S\", \"S\", \"S\", \"S\", \"S\", \"S\", \"S\", \"S\", \"S\", \"S\", \"S\", \"S\", \"S\", \"S\", \"S\", \"S\", \"S\", \"S\", \"S\", \"S\", \"S\", \"S\", \"S\", \"S\", \"S\", \"S\", \"S\", \"S\", \"S\", \"S\", \"S\", \"S\", \"S\", \"S\", \"S\", \"S\", \"S\", \"S\", \"S\", \"S\", \"S\", \"S\", \"S\", \"S\", \"S\", \"S\", \"S\", \"S\", \"S\", \"S\", \"S\", \"S\", \"S\", \"S\", \"S\", \"S\", \"S\", \"S\", \"S\", \"S\", \"S\", \"S\", \"S\", \"S\", \"S\", \"S\", \"S\", \"S\", \"S\", \"S\", \"S\", \"S\", \"S\", \"S\", \"S\", \"S\", \"S\", \"S\", \"S\", \"S\", \"S\", \"S\", \"S\", \"S\", \"S\", \"S\", \"S\", \"S\", \"S\", \"S\", \"S\", \"S\", \"S\", \"S\", \"S\", \"S\", \"S\", \"S\", \"S\", \"S\", \"S\", \"S\", \"S\", \"S\", \"S\", \"S\", \"S\", \"S\", \"S\", \"S\", \"S\", \"S\", \"S\", \"S\", \"S\", \"S\", \"S\", \"S\", \"S\", \"S\", \"S\", \"S\", \"S\", \"S\", \"S\", \"S\", \"S\", \"S\", \"S\", \"S\", \"S\", \"S\", \"S\", \"S\", \"S\", \"S\", \"S\", \"S\", \"S\", \"S\", \"S\", \"S\", \"S\", \"S\", \"S\", \"S\", \"S\", \"S\", \"S\", \"S\", \"S\", \"S\", \"S\", \"S\", \"S\", \"S\", \"S\", \"S\", \"S\", \"S\", \"S\", \"S\", \"S\", \"S\", \"S\", \"S\", \"S\", \"S\", \"S\", \"S\", \"S\", \"S\", \"S\", \"S\", \"S\", \"S\", \"S\", \"S\", \"S\", \"S\", \"S\", \"S\", \"S\", \"S\", \"S\", \"S\", \"S\", \"S\", \"S\", \"S\", \"S\", \"S\", \"S\", \"S\", \"S\", \"S\", \"S\", \"S\", \"S\", \"S\", \"S\", \"S\", \"S\", \"S\", \"S\", \"S\", \"S\", \"S\", \"S\", \"S\", \"S\", \"S\", \"S\", \"S\", \"S\", \"S\", \"S\", \"S\", \"S\", \"S\", \"S\", \"S\", \"S\", \"S\", \"S\", \"S\", \"S\", \"S\", \"S\", \"S\", \"S\", \"S\", \"S\", \"S\", \"S\", \"S\", \"S\", \"S\", \"S\", \"S\", \"S\", \"S\", \"S\", \"S\", \"S\", \"S\", \"S\", \"S\", \"S\", \"S\", \"S\", \"S\", \"S\", \"S\", \"S\", \"S\", \"S\", \"S\", \"S\", \"S\", \"S\", \"S\", \"S\", \"S\", \"S\", \"S\", \"S\", \"S\", \"S\", \"S\", \"S\", \"S\", \"S\", \"S\", \"S\", \"S\", \"S\", \"S\", \"S\", \"S\", \"S\", \"S\", \"S\", \"S\", \"S\", \"S\", \"S\", \"S\", \"S\", \"S\", \"S\", \"S\", \"S\", \"S\", \"S\", \"S\", \"S\", \"S\", \"S\", \"S\", \"S\", \"S\", \"S\", \"S\", \"S\", \"S\", \"S\", \"S\", \"S\", \"S\", \"S\", \"S\", \"S\", \"S\", \"S\", \"S\", \"S\", \"S\", \"S\", \"S\", \"S\", \"S\", \"S\", \"S\", \"S\", \"S\", \"S\", \"S\", \"S\", \"S\", \"S\", \"S\", \"S\", \"S\", \"S\", \"S\", \"S\", \"S\", \"S\", \"S\", \"S\", \"S\", \"S\", \"S\", \"S\", \"S\", \"S\", \"S\", \"S\", \"S\", \"S\", \"S\", \"S\", \"S\", \"S\", \"S\", \"S\", \"S\", \"S\", \"S\", \"S\", \"S\", \"S\", \"S\", \"S\", \"S\", \"S\", \"S\", \"S\", \"S\", \"S\", \"S\", \"S\", \"S\", \"S\", \"S\", \"S\", \"S\", \"S\", \"S\", \"S\", \"S\", \"S\", \"S\", \"S\", \"S\", \"S\", \"S\", \"S\", \"S\", \"S\", \"S\", \"S\", \"S\", \"S\", \"S\", \"S\", \"S\", \"S\", \"S\", \"S\", \"S\", \"S\", \"S\", \"S\", \"S\", \"S\", \"S\", \"S\", \"S\", \"S\", \"S\", \"S\", \"S\", \"S\", \"S\", \"S\", \"S\", \"S\", \"S\", \"S\", \"S\", \"S\", \"S\", \"S\", \"S\", \"S\", \"S\", \"S\", \"S\", \"S\", \"S\", \"S\", \"S\", \"S\", \"S\", \"S\", \"S\", \"S\", \"S\", \"S\", \"S\", \"S\", \"S\", \"S\", \"S\", \"S\", \"S\", \"S\", \"S\", \"S\", \"S\", \"S\", \"S\", \"S\", \"S\", \"S\", \"S\", \"S\", \"S\", \"S\", \"S\", \"S\", \"S\", \"S\", \"S\", \"S\", \"S\", \"S\", \"S\", \"S\", \"S\", \"S\", \"S\", \"S\", \"S\", \"S\", \"S\", \"S\", \"S\", \"S\", \"S\", \"S\", \"S\", \"S\", \"S\", \"S\", \"S\", \"S\", \"S\", \"S\", \"S\", \"S\", \"S\", \"S\", \"S\", \"S\", \"S\", \"S\", \"S\", \"S\", \"S\", \"S\", \"S\", \"S\", \"S\", \"S\", \"S\", \"S\", \"S\", \"S\", \"S\", \"S\", \"S\", \"S\", \"S\", \"S\", \"S\", \"S\", \"S\", \"S\", \"S\", \"S\", \"S\", \"S\", \"S\", \"S\", \"S\", \"S\", \"S\", \"S\", \"S\", \"S\", \"S\", \"S\", \"S\", \"S\", \"S\", \"S\", \"S\", \"S\", \"S\", \"S\", \"S\", \"S\", \"S\", \"S\", \"S\", \"S\", \"S\", \"S\", \"S\", \"S\", \"S\", \"S\", \"S\", \"S\", \"S\", \"S\", \"S\", \"S\", \"S\", \"S\", \"S\", \"S\", \"S\", \"S\", \"S\", \"S\", \"S\", \"S\", \"S\", \"S\", \"S\", \"S\", \"S\", \"S\", \"S\", \"S\", \"S\", \"S\", \"S\", \"S\", \"S\", \"S\", \"S\", \"S\", \"S\", \"S\", \"S\", \"S\", \"S\", \"S\", \"S\", \"S\", \"S\", \"S\", \"S\", \"S\", \"S\", \"S\", \"S\", \"S\", \"S\", \"S\", \"S\", \"S\", \"S\", \"S\", \"S\", \"S\", \"S\", \"S\", \"S\", \"S\", \"S\", \"S\", \"S\", \"S\", \"S\", \"S\", \"S\", \"S\", \"S\", \"S\", \"S\", \"S\", \"S\", \"S\", \"S\", \"S\", \"S\", \"S\", \"S\", \"S\", \"S\", \"S\", \"S\", \"S\", \"S\", \"S\", \"S\", \"S\", \"S\", \"S\", \"S\", \"S\", \"S\", \"S\", \"S\", \"S\", \"S\", \"S\", \"S\", \"S\", \"S\", \"S\", \"S\", \"S\", \"S\", \"S\", \"S\", \"S\", \"S\", \"S\", \"S\", \"S\", \"S\", \"S\", \"S\", \"S\", \"S\", \"S\", \"S\", \"S\", \"S\", \"S\", \"S\", \"S\", \"S\", \"S\", \"S\", \"S\", \"S\", \"S\", \"S\", \"S\", \"S\", \"S\", \"S\", \"S\", \"S\", \"S\", \"S\", \"S\", \"S\", \"S\", \"S\", \"S\", \"S\", \"S\", \"S\", \"S\", \"S\", \"S\", \"S\", \"S\", \"S\", \"S\", \"S\", \"S\", \"S\", \"S\", \"S\", \"S\", \"S\", \"S\", \"S\", \"S\", \"S\", \"S\", \"S\", \"S\", \"S\", \"S\", \"S\", \"S\", \"S\", \"S\", \"S\", \"S\", \"S\", \"S\", \"S\", \"S\", \"S\", \"S\", \"S\", \"S\", \"S\", \"S\", \"S\", \"S\", \"S\", \"S\", \"S\", \"S\", \"S\", \"S\", \"S\", \"S\", \"S\", \"S\", \"S\", \"S\", \"S\", \"S\", \"S\", \"S\", \"S\", \"S\", \"S\", \"S\", \"S\", \"S\", \"S\", \"S\", \"S\", \"S\", \"S\", \"S\", \"S\", \"S\", \"S\", \"S\", \"S\", \"S\", \"S\", \"S\", \"S\", \"S\", \"S\", \"S\", \"S\", \"S\", \"S\", \"S\", \"S\", \"S\", \"S\", \"S\", \"S\", \"S\", \"S\", \"S\", \"S\", \"S\", \"S\", \"S\", \"S\", \"S\", \"S\", \"S\", \"S\", \"S\", \"S\", \"S\", \"S\", \"S\", \"S\", \"S\", \"S\", \"S\", \"S\", \"S\", \"S\", \"S\", \"S\", \"S\", \"S\", \"S\", \"S\", \"S\", \"S\", \"S\", \"S\", \"S\", \"S\", \"S\", \"S\", \"S\", \"S\", \"S\", \"S\", \"S\", \"S\", \"S\", \"S\", \"S\", \"S\", \"S\", \"S\", \"S\", \"S\", \"S\", \"S\", \"S\", \"S\", \"S\", \"S\", \"S\", \"S\", \"S\", \"S\", \"S\", \"S\", \"S\", \"S\", \"S\", \"S\", \"S\", \"S\", \"S\", \"S\", \"S\", \"S\", \"S\", \"S\", \"S\", \"S\", \"S\", \"S\", \"S\", \"S\", \"S\", \"S\", \"S\", \"S\", \"S\", \"S\", \"S\", \"S\", \"S\", \"S\", \"S\", \"S\", \"S\", \"S\", \"S\", \"S\", \"S\", \"S\", \"S\", \"S\", \"S\", \"S\", \"S\", \"S\", \"S\", \"S\", \"S\", \"S\", \"S\", \"S\", \"S\", \"S\", \"S\", \"S\", \"S\", \"S\", \"S\", \"S\", \"S\", \"S\", \"S\", \"S\", \"S\", \"S\", \"S\", \"S\", \"S\", \"S\", \"S\", \"S\", \"S\", \"S\", \"S\", \"S\", \"S\", \"S\", \"S\", \"S\", \"S\", \"S\", \"S\", \"S\", \"S\", \"S\", \"S\", \"S\", \"S\", \"S\", \"S\", \"S\", \"S\", \"S\", \"S\", \"S\", \"S\", \"S\", \"S\", \"S\", \"S\", \"S\", \"S\", \"S\", \"S\", \"S\", \"S\", \"S\", \"S\", \"S\", \"S\", \"S\", \"S\", \"S\", \"S\", \"S\", \"S\", \"S\", \"S\", \"S\", \"S\", \"S\", \"S\", \"S\", \"S\", \"S\", \"S\", \"S\", \"S\", \"S\", \"S\", \"S\", \"S\", \"S\", \"S\", \"S\", \"S\", \"S\", \"S\", \"S\", \"S\", \"S\", \"S\", \"S\", \"S\", \"S\", \"S\", \"S\", \"S\", \"S\", \"S\", \"S\", \"S\", \"S\", \"S\", \"S\", \"S\", \"S\", \"S\", \"S\", \"S\", \"S\", \"S\", \"S\", \"S\", \"S\", \"S\", \"S\", \"S\", \"S\", \"S\", \"S\", \"S\", \"S\", \"S\", \"S\", \"S\", \"S\", \"S\", \"S\", \"S\", \"S\", \"S\", \"S\", \"S\", \"S\", \"S\", \"S\", \"S\", \"S\", \"S\", \"S\", \"S\", \"S\", \"S\", \"S\", \"S\", \"S\", \"S\", \"S\", \"S\", \"S\", \"S\", \"S\", \"S\", \"S\", \"S\", \"S\", \"S\", \"S\", \"S\", \"S\", \"S\", \"S\", \"S\", \"S\", \"S\", \"S\", \"S\", \"S\", \"S\", \"S\", \"S\", \"S\", \"S\", \"S\", \"S\", \"S\", \"S\", \"S\", \"S\", \"S\", \"S\", \"S\", \"S\", \"S\", \"S\", \"S\", \"S\", \"S\", \"S\", \"S\", \"S\", \"S\", \"S\", \"S\", \"S\", \"S\", \"S\", \"S\", \"S\", \"S\", \"S\", \"S\", \"S\", \"S\", \"S\", \"S\", \"S\", \"S\", \"S\", \"S\", \"S\", \"S\", \"S\", \"S\", \"S\", \"S\", \"S\", \"S\", \"S\", \"S\", \"S\", \"S\", \"S\", \"S\", \"S\", \"S\", \"S\", \"S\", \"S\", \"S\", \"S\", \"S\", \"S\", \"S\", \"S\", \"S\", \"S\", \"S\", \"S\", \"S\", \"S\", \"S\", \"S\", \"S\", \"S\", \"S\", \"S\", \"S\", \"S\", \"S\", \"S\", \"S\", \"S\", \"S\", \"S\", \"S\", \"S\", \"S\", \"S\", \"S\", \"S\", \"S\", \"S\", \"S\", \"S\", \"S\", \"S\", \"S\", \"S\", \"S\", \"S\", \"S\", \"S\", \"S\", \"S\", \"S\", \"S\", \"S\", \"S\", \"S\", \"S\", \"S\", \"S\", \"S\", \"S\", \"S\", \"S\", \"S\", \"S\", \"S\", \"S\", \"S\", \"S\", \"S\", \"S\", \"S\", \"S\", \"S\", \"S\", \"S\", \"S\", \"S\", \"S\", \"S\", \"S\", \"S\", \"S\", \"S\", \"S\", \"S\", \"S\", \"S\", \"S\", \"S\", \"S\", \"S\", \"S\", \"S\", \"S\", \"S\", \"S\", \"S\", \"S\", \"S\", \"S\", \"S\", \"S\", \"S\", \"S\", \"S\", \"S\", \"S\", \"S\", \"S\", \"S\", \"S\", \"S\", \"S\", \"S\", \"S\", \"S\", \"S\", \"S\", \"S\", \"S\", \"S\", \"S\", \"S\", \"S\", \"S\", \"S\", \"S\", \"S\", \"S\", \"S\", \"S\", \"S\", \"S\", \"S\", \"S\", \"S\", \"S\", \"S\", \"S\", \"S\", \"S\", \"S\", \"S\", \"S\", \"S\", \"S\", \"S\", \"S\", \"S\", \"S\", \"S\", \"S\", \"S\", \"S\", \"S\", \"S\", \"S\", \"S\", \"S\", \"S\", \"S\", \"S\", \"S\", \"S\", \"S\", \"S\", \"S\", \"S\", \"S\", \"S\", \"S\", \"S\", \"S\", \"S\", \"S\", \"S\", \"S\", \"S\", \"S\", \"S\", \"S\", \"S\", \"S\", \"S\", \"S\", \"S\", \"S\", \"S\", \"S\", \"S\", \"S\", \"S\", \"S\", \"S\", \"S\", \"S\", \"S\", \"S\", \"S\", \"S\", \"S\", \"S\", \"S\", \"S\", \"S\", \"S\", \"S\", \"S\", \"S\", \"S\", \"S\", \"S\", \"S\", \"S\", \"S\", \"S\", \"S\", \"S\", \"S\", \"S\", \"S\", \"S\", \"S\", \"S\", \"S\", \"S\", \"S\", \"S\", \"S\", \"S\", \"S\", \"S\", \"S\", \"S\", \"S\", \"S\", \"S\", \"S\", \"S\", \"S\", \"S\", \"S\", \"S\", \"S\", \"S\", \"S\", \"S\", \"S\", \"S\", \"S\", \"S\", \"S\", \"S\", \"S\", \"S\", \"S\", \"S\", \"S\", \"S\", \"S\", \"S\", \"S\", \"S\", \"S\", \"S\", \"S\", \"S\", \"S\", \"S\", \"S\", \"S\", \"S\", \"S\", \"S\", \"S\", \"S\", \"S\", \"S\", \"S\", \"S\", \"S\", \"S\", \"S\", \"S\", \"S\", \"S\", \"S\", \"S\", \"S\", \"S\", \"S\", \"S\", \"S\", \"S\", \"S\", \"S\", \"S\", \"S\", \"S\", \"S\", \"S\", \"S\", \"S\", \"S\", \"S\", \"S\", \"S\", \"S\", \"S\", \"S\", \"S\", \"S\", \"S\", \"S\", \"S\", \"S\", \"S\", \"S\", \"S\", \"S\", \"S\", \"S\", \"S\", \"S\", \"S\", \"S\", \"S\", \"S\", \"S\", \"S\", \"S\", \"S\", \"S\", \"S\", \"S\", \"S\", \"S\", \"S\", \"S\", \"S\", \"S\", \"S\", \"S\", \"S\", \"S\", \"S\", \"S\", \"S\", \"S\", \"S\", \"S\", \"S\", \"S\", \"S\", \"S\", \"S\", \"S\", \"S\", \"S\", \"S\", \"S\", \"S\", \"S\", \"S\", \"S\", \"S\", \"S\", \"S\", \"S\", \"S\", \"S\", \"S\", \"S\", \"S\", \"S\", \"S\", \"S\", \"S\", \"S\", \"S\", \"S\", \"S\", \"S\", \"S\", \"S\", \"S\", \"S\", \"S\", \"S\", \"S\", \"S\", \"S\", \"S\", \"S\", \"S\", \"S\", \"S\", \"S\", \"S\", \"S\", \"S\", \"S\", \"S\", \"S\", \"S\", \"S\", \"S\", \"S\", \"S\", \"S\", \"S\", \"S\", \"S\", \"S\", \"S\", \"S\", \"S\", \"S\", \"S\", \"S\", \"S\", \"S\", \"S\", \"S\", \"S\", \"S\", \"S\", \"S\", \"S\", \"S\", \"S\", \"S\", \"S\", \"S\", \"S\", \"S\", \"S\", \"S\", \"S\", \"S\", \"S\", \"S\", \"S\", \"S\", \"S\", \"S\", \"S\", \"S\", \"S\", \"S\", \"S\", \"S\", \"S\", \"S\", \"S\", \"S\", \"S\", \"S\", \"S\", \"S\", \"S\", \"S\", \"S\", \"S\", \"S\", \"S\", \"S\", \"S\", \"S\", \"S\", \"S\", \"S\", \"S\", \"S\", \"S\", \"S\", \"S\", \"S\", \"S\", \"S\", \"S\", \"S\", \"S\", \"S\", \"S\", \"S\", \"S\", \"S\", \"S\", \"S\", \"S\", \"S\", \"S\", \"S\", \"S\", \"S\", \"S\", \"S\", \"S\", \"S\", \"S\", \"S\", \"S\", \"S\", \"S\", \"S\", \"S\", \"S\", \"S\", \"S\", \"S\", \"S\", \"S\", \"S\", \"S\", \"S\", \"S\", \"S\", \"S\", \"S\", \"S\", \"S\", \"S\", \"S\", \"S\", \"S\", \"S\", \"S\", \"S\", \"S\", \"S\", \"S\", \"S\", \"S\", \"S\", \"S\", \"S\", \"S\", \"S\", \"S\", \"S\", \"S\", \"S\", \"S\", \"S\", \"S\", \"S\", \"S\", \"S\", \"S\", \"S\", \"S\", \"S\", \"S\", \"S\", \"S\", \"S\", \"S\", \"S\", \"S\", \"S\", \"S\", \"S\", \"S\", \"S\", \"S\", \"S\", \"S\", \"S\", \"S\", \"S\", \"S\", \"S\", \"S\", \"S\", \"S\", \"S\", \"S\", \"S\", \"S\", \"S\", \"S\", \"S\", \"S\", \"S\", \"S\", \"S\", \"S\", \"S\", \"S\", \"S\", \"S\", \"S\", \"S\", \"S\", \"S\", \"S\", \"S\", \"S\", \"S\", \"S\", \"S\", \"S\", \"S\", \"S\", \"S\", \"S\", \"S\", \"S\", \"S\", \"S\", \"S\", \"S\", \"S\", \"S\", \"S\", \"S\", \"S\", \"S\", \"S\", \"S\", \"S\", \"S\", \"S\", \"S\", \"S\", \"S\", \"S\", \"S\", \"S\", \"S\", \"S\", \"S\", \"S\", \"S\", \"S\", \"S\", \"S\", \"S\", \"S\", \"S\", \"S\", \"S\", \"S\", \"S\", \"S\", \"S\", \"S\", \"S\", \"S\", \"S\", \"S\", \"S\", \"S\", \"S\", \"S\", \"S\", \"S\", \"S\", \"S\", \"S\", \"S\", \"S\", \"S\", \"S\", \"S\", \"S\", \"S\", \"S\", \"S\", \"S\", \"S\", \"S\", \"S\", \"S\", \"S\", \"S\", \"S\", \"S\", \"S\", \"S\", \"S\", \"S\", \"S\", \"S\", \"S\", \"S\", \"S\", \"S\", \"S\", \"S\", \"S\", \"S\", \"S\", \"S\", \"S\", \"S\", \"S\", \"S\", \"S\", \"S\", \"S\", \"S\", \"S\", \"S\", \"S\", \"S\", \"S\", \"S\", \"S\", \"S\", \"S\", \"S\", \"S\", \"S\", \"S\", \"S\", \"S\", \"S\", \"S\", \"S\", \"S\", \"S\", \"S\", \"S\", \"S\", \"S\", \"S\", \"S\", \"S\", \"S\", \"S\", \"S\", \"S\", \"S\", \"S\", \"S\", \"S\", \"S\", \"S\", \"S\", \"S\", \"S\", \"S\", \"S\", \"S\", \"S\", \"S\", \"S\", \"S\", \"S\", \"S\", \"S\", \"S\", \"S\", \"S\", \"S\", \"S\", \"S\", \"S\", \"S\", \"S\", \"S\", \"S\", \"S\", \"S\", \"S\", \"S\", \"S\", \"S\", \"S\", \"S\", \"S\", \"S\", \"S\", \"S\", \"S\", \"S\", \"S\", \"S\", \"S\", \"S\", \"S\", \"S\", \"S\", \"S\", \"S\", \"S\", \"S\", \"S\", \"S\", \"S\", \"S\", \"S\", \"S\", \"S\", \"S\", \"S\", \"S\", \"S\", \"S\", \"S\", \"S\", \"S\", \"S\", \"S\", \"S\", \"S\", \"S\", \"S\", \"S\", \"S\", \"S\", \"S\", \"S\", \"S\", \"S\", \"S\", \"S\", \"S\", \"S\", \"S\", \"S\", \"S\", \"S\", \"S\", \"S\", \"S\", \"S\", \"S\", \"S\", \"S\", \"S\", \"S\", \"S\", \"S\", \"S\", \"S\", \"S\", \"S\", \"S\", \"S\", \"S\", \"S\", \"S\", \"S\", \"S\", \"S\", \"S\", \"S\", \"S\", \"S\", \"S\", \"S\", \"S\", \"S\", \"S\", \"S\", \"S\", \"S\", \"S\", \"S\", \"S\", \"S\", \"S\", \"S\", \"S\", \"S\", \"S\", \"S\", \"S\", \"S\", \"S\", \"S\", \"S\", \"S\", \"S\", \"S\", \"S\", \"S\", \"S\", \"S\", \"S\", \"S\", \"S\", \"S\", \"S\", \"S\", \"S\", \"S\", \"S\", \"S\", \"S\", \"S\", \"S\", \"S\", \"S\", \"S\", \"S\", \"S\", \"S\", \"S\", \"S\", \"S\", \"S\", \"S\", \"S\", \"S\", \"S\", \"S\", \"S\", \"S\", \"S\", \"S\", \"S\", \"S\", \"S\", \"S\", \"S\", \"S\", \"S\", \"S\", \"S\", \"S\", \"S\", \"S\", \"S\", \"S\", \"S\", \"S\", \"S\", \"S\", \"S\", \"S\", \"S\", \"S\", \"S\", \"S\", \"S\", \"S\", \"S\", \"S\", \"S\", \"S\", \"S\", \"S\", \"S\", \"S\", \"S\", \"S\", \"S\", \"S\", \"S\", \"S\", \"S\", \"S\", \"S\", \"S\", \"S\", \"S\", \"S\", \"S\", \"S\", \"S\", \"S\", \"S\", \"S\", \"S\", \"S\", \"S\", \"S\", \"S\", \"S\", \"S\", \"S\", \"S\", \"S\", \"S\", \"S\", \"S\", \"S\", \"S\", \"S\", \"S\", \"S\", \"S\", \"S\", \"S\", \"S\", \"S\", \"S\", \"S\", \"S\", \"S\", \"S\", \"S\", \"S\", \"S\", \"S\", \"S\", \"S\", \"S\", \"S\", \"S\", \"S\", \"S\", \"S\", \"S\", \"S\", \"S\", \"S\", \"S\", \"S\", \"S\", \"S\", \"S\", \"S\", \"S\", \"S\", \"S\", \"S\", \"S\", \"S\", \"S\", \"S\", \"S\", \"S\", \"S\", \"S\", \"S\", \"S\", \"S\", \"S\", \"S\", \"S\", \"S\", \"S\", \"S\", \"S\", \"S\", \"S\", \"S\", \"S\", \"S\", \"S\", \"S\", \"S\", \"S\", \"S\", \"S\", \"S\", \"S\", \"S\", \"S\", \"S\", \"S\", \"S\", \"S\", \"S\", \"S\", \"S\", \"S\", \"S\", \"S\", \"S\", \"S\", \"S\", \"S\", \"S\", \"S\", \"S\", \"S\", \"S\", \"S\", \"S\", \"S\", \"S\", \"S\", \"S\", \"S\", \"S\", \"S\", \"S\", \"S\", \"S\", \"S\", \"S\", \"S\", \"S\", \"S\", \"S\", \"S\", \"S\", \"S\", \"S\", \"S\", \"S\", \"S\", \"S\", \"S\", \"S\", \"S\", \"S\", \"S\", \"S\", \"S\", \"S\", \"S\", \"S\", \"S\", \"S\", \"S\", \"S\", \"S\", \"S\", \"S\", \"S\", \"S\", \"S\", \"S\", \"S\", \"S\", \"S\", \"S\", \"S\", \"S\", \"S\", \"S\", \"S\", \"S\", \"S\", \"S\", \"S\", \"S\", \"S\", \"S\", \"S\", \"S\", \"S\", \"S\", \"S\", \"S\", \"S\", \"S\", \"S\", \"S\", \"S\", \"S\", \"S\", \"S\", \"S\", \"S\", \"S\", \"S\", \"S\", \"S\", \"S\", \"S\", \"S\", \"S\", \"S\", \"S\", \"S\", \"S\", \"S\", \"S\", \"S\", \"S\", \"S\", \"S\", \"S\", \"S\", \"S\", \"S\", \"S\", \"S\", \"S\", \"S\", \"S\", \"S\", \"S\", \"S\", \"S\", \"S\", \"S\", \"S\", \"S\", \"S\", \"S\", \"S\", \"S\", \"S\", \"S\", \"S\", \"S\", \"S\", \"S\", \"S\", \"S\", \"S\", \"S\", \"S\", \"S\", \"S\", \"S\", \"S\", \"S\", \"S\", \"S\", \"S\", \"S\", \"S\", \"S\", \"S\", \"S\", \"S\", \"S\", \"S\", \"S\", \"S\", \"S\", \"S\", \"S\", \"S\", \"S\", \"S\", \"S\", \"S\", \"S\", \"S\", \"S\", \"S\", \"S\", \"S\", \"S\", \"S\", \"S\", \"S\", \"S\", \"S\", \"S\", \"S\", \"S\", \"S\", \"S\", \"S\", \"S\", \"S\", \"S\", \"S\", \"S\", \"S\", \"S\", \"S\", \"S\", \"S\", \"S\", \"S\", \"S\", \"S\", \"S\", \"S\", \"S\", \"S\", \"S\", \"S\", \"S\", \"S\", \"S\", \"S\", \"S\", \"S\", \"S\", \"S\", \"S\", \"S\", \"S\", \"S\", \"S\", \"S\", \"S\", \"S\", \"S\", \"S\", \"S\", \"S\", \"S\", \"S\", \"S\", \"S\", \"S\", \"S\", \"S\", \"S\", \"S\", \"S\", \"S\", \"S\", \"S\", \"S\", \"S\", \"S\", \"S\", \"S\", \"S\", \"S\", \"S\", \"S\", \"S\", \"S\", \"S\", \"S\", \"S\", \"S\", \"S\", \"S\", \"S\", \"S\", \"S\", \"S\", \"S\", \"S\", \"S\", \"S\", \"S\", \"S\", \"S\", \"S\", \"S\", \"S\", \"S\", \"S\", \"S\", \"S\", \"S\", \"S\", \"S\", \"S\", \"S\", \"S\", \"S\", \"S\", \"S\", \"S\", \"S\", \"S\", \"S\", \"S\", \"S\", \"S\", \"S\", \"S\", \"S\", \"S\", \"S\", \"S\", \"S\", \"S\", \"S\", \"S\", \"S\", \"S\", \"S\", \"S\", \"S\", \"S\", \"S\", \"S\", \"S\", \"S\", \"S\", \"S\", \"S\", \"S\", \"S\", \"S\", \"S\", \"S\", \"S\", \"S\", \"S\", \"S\", \"S\", \"S\", \"S\", \"S\", \"S\", \"S\", \"S\", \"S\", \"S\", \"S\", \"S\", \"S\", \"S\", \"S\", \"S\", \"S\", \"S\", \"S\", \"S\", \"S\", \"S\", \"S\", \"S\", \"S\", \"S\", \"S\", \"S\", \"S\", \"S\", \"S\", \"S\", \"S\", \"S\", \"S\", \"S\", \"S\", \"S\", \"S\", \"S\", \"S\", \"S\", \"S\", \"S\", \"S\", \"S\", \"S\", \"S\", \"S\", \"S\", \"S\", \"S\", \"S\", \"S\", \"S\", \"S\", \"S\", \"S\", \"S\", \"S\", \"S\", \"S\", \"S\", \"S\", \"S\", \"S\", \"S\", \"S\", \"S\", \"S\", \"S\", \"S\", \"S\", \"S\", \"S\", \"S\", \"S\", \"S\", \"S\", \"S\", \"S\", \"S\", \"S\", \"S\", \"S\", \"S\", \"S\", \"S\", \"S\", \"S\", \"S\", \"S\", \"S\", \"S\", \"S\", \"S\", \"S\", \"S\", \"S\", \"S\", \"S\", \"S\", \"S\", \"S\", \"S\", \"S\", \"S\", \"S\", \"S\", \"S\", \"S\", \"S\", \"S\", \"S\", \"S\", \"S\", \"S\", \"S\", \"S\", \"S\", \"S\", \"S\", \"S\", \"S\", \"S\", \"S\", \"S\", \"S\", \"S\", \"S\", \"S\", \"S\", \"S\", \"S\", \"S\", \"S\", \"S\", \"S\", \"S\", \"S\", \"S\", \"S\", \"S\", \"S\", \"S\", \"S\", \"S\", \"S\", \"S\", \"S\", \"S\", \"S\", \"S\", \"S\", \"S\", \"S\", \"S\", \"S\", \"S\", \"S\", \"S\", \"S\", \"S\", \"S\", \"S\", \"S\", \"S\", \"S\", \"S\", \"S\", \"S\", \"S\", \"S\", \"S\", \"S\", \"S\", \"S\", \"S\", \"S\", \"S\", \"S\", \"S\", \"S\", \"S\", \"S\", \"S\", \"S\", \"S\", \"S\", \"S\", \"S\", \"S\", \"S\", \"S\", \"S\", \"S\", \"S\", \"S\", \"S\", \"S\", \"S\", \"S\", \"S\", \"S\", \"S\", \"S\", \"S\", \"S\", \"S\", \"S\", \"S\", \"S\", \"S\", \"S\", \"S\", \"S\", \"S\", \"S\", \"S\", \"S\", \"S\", \"S\", \"S\", \"S\", \"S\", \"S\", \"S\", \"S\", \"S\", \"S\", \"S\", \"S\", \"S\", \"S\", \"S\", \"S\", \"S\", \"S\", \"S\", \"S\", \"S\", \"S\", \"S\", \"S\", \"S\", \"S\", \"S\", \"S\", \"S\", \"S\", \"S\", \"S\", \"S\", \"S\", \"S\", \"S\", \"S\", \"S\", \"S\", \"S\", \"S\", \"S\", \"S\", \"S\", \"S\", \"S\", \"S\", \"S\", \"S\", \"S\", \"S\", \"S\", \"S\", \"S\", \"S\", \"S\", \"S\", \"S\", \"S\", \"S\", \"S\", \"S\", \"S\", \"S\", \"S\", \"S\", \"S\", \"S\", \"S\", \"S\", \"S\", \"S\", \"S\", \"S\", \"S\", \"S\", \"S\", \"S\", \"S\", \"S\", \"S\", \"S\", \"S\", \"S\", \"S\", \"S\", \"S\", \"S\", \"S\", \"S\", \"S\", \"S\", \"S\", \"S\", \"S\", \"S\", \"S\", \"S\", \"S\", \"S\", \"S\", \"S\", \"S\", \"S\", \"S\", \"S\", \"S\", \"S\", \"S\", \"S\", \"S\", \"S\", \"S\", \"S\", \"S\", \"S\", \"S\", \"S\", \"S\", \"S\", \"S\", \"S\", \"S\", \"S\", \"S\", \"S\", \"S\", \"S\", \"S\", \"S\", \"S\", \"S\", \"S\", \"S\", \"S\", \"S\", \"S\", \"S\", \"S\", \"S\", \"S\", \"S\", \"S\", \"S\", \"S\", \"S\", \"S\", \"S\", \"S\", \"S\", \"S\", \"S\", \"S\", \"S\", \"S\", \"S\", \"S\", \"S\", \"S\", \"S\", \"S\", \"S\", \"S\", \"S\", \"S\", \"S\", \"S\", \"S\", \"S\", \"S\", \"S\", \"S\", \"S\", \"S\", \"S\", \"S\", \"S\", \"S\", \"S\", \"S\", \"S\", \"S\", \"S\", \"S\", \"S\", \"S\", \"S\", \"S\", \"S\", \"S\", \"S\", \"S\", \"S\", \"S\", \"S\", \"S\", \"S\", \"S\", \"S\", \"S\", \"S\", \"S\", \"S\", \"S\", \"S\", \"S\", \"S\", \"S\", \"S\", \"S\", \"S\", \"S\", \"S\", \"S\", \"S\", \"S\", \"S\", \"S\", \"S\", \"S\", \"S\", \"S\", \"S\", \"S\", \"S\", \"S\", \"S\", \"S\", \"S\", \"S\", \"S\", \"S\", \"S\", \"S\", \"S\", \"S\", \"S\", \"S\", \"S\", \"S\", \"S\", \"S\", \"S\", \"S\", \"S\", \"S\", \"S\", \"S\", \"S\", \"S\", \"S\", \"S\", \"S\", \"S\", \"S\", \"S\", \"S\", \"S\", \"S\", \"S\", \"S\", \"S\", \"S\", \"S\", \"S\", \"S\", \"S\", \"S\", \"S\", \"S\", \"S\", \"S\", \"S\", \"S\", \"S\", \"S\", \"S\", \"S\", \"S\", \"S\", \"S\", \"S\", \"S\", \"S\", \"S\", \"S\", \"S\", \"S\", \"S\", \"S\", \"S\", \"S\", \"S\", \"S\", \"S\", \"S\", \"S\", \"S\", \"S\", \"S\", \"S\", \"S\", \"S\", \"S\", \"S\", \"S\", \"S\", \"S\", \"S\", \"S\", \"S\", \"S\", \"S\", \"S\", \"S\", \"S\", \"S\", \"S\", \"S\", \"S\", \"S\", \"S\", \"S\", \"S\", \"S\", \"S\", \"S\", \"S\", \"S\", \"S\", \"S\", \"S\", \"S\", \"S\", \"S\", \"S\", \"S\", \"S\", \"S\", \"S\", \"S\", \"S\", \"S\", \"S\", \"S\", \"S\", \"S\", \"S\", \"S\", \"S\", \"S\", \"S\", \"S\", \"S\", \"S\", \"S\", \"S\", \"S\", \"S\", \"S\", \"S\", \"S\", \"S\", \"S\", \"S\", \"S\", \"S\", \"S\", \"S\", \"S\", \"S\", \"S\", \"S\", \"S\", \"S\", \"S\", \"S\", \"S\", \"S\", \"S\", \"S\", \"S\", \"S\", \"S\", \"S\", \"S\", \"S\", \"S\", \"S\", \"S\", \"S\", \"S\", \"S\", \"S\", \"S\", \"S\", \"S\", \"S\", \"S\", \"S\", \"S\", \"S\", \"S\", \"S\", \"S\", \"S\", \"S\", \"S\", \"S\", \"S\", \"S\", \"S\", \"S\", \"S\", \"S\", \"S\", \"S\", \"S\", \"S\", \"S\", \"S\", \"S\", \"S\", \"S\", \"S\", \"S\", \"S\", \"S\", \"S\", \"S\", \"S\", \"S\", \"S\", \"S\", \"S\", \"S\", \"S\", \"S\", \"S\", \"S\", \"S\", \"S\", \"S\", \"S\", \"S\", \"S\", \"S\", \"S\", \"S\", \"S\", \"S\", \"S\", \"S\", \"S\", \"S\", \"S\", \"S\", \"S\", \"S\", \"S\", \"S\", \"S\", \"S\", \"S\", \"S\", \"S\", \"S\", \"S\", \"S\", \"S\", \"S\", \"S\", \"S\", \"S\", \"S\", \"S\", \"S\", \"S\", \"S\", \"S\", \"S\", \"S\", \"S\", \"S\", \"S\", \"S\", \"S\", \"S\", \"S\", \"S\", \"S\", \"S\", \"S\", \"S\", \"S\", \"S\", \"S\", \"S\", \"S\", \"S\", \"S\", \"S\", \"S\", \"S\", \"S\", \"S\", \"S\", \"S\", \"S\", \"S\", \"S\", \"S\", \"S\", \"S\", \"S\", \"S\", \"S\", \"S\", \"S\", \"S\", \"S\", \"S\", \"S\", \"S\", \"S\", \"S\", \"S\", \"S\", \"S\", \"S\", \"S\", \"S\", \"S\", \"S\", \"S\", \"S\", \"S\", \"S\", \"S\", \"S\", \"S\", \"S\", \"S\", \"S\", \"S\", \"S\", \"S\", \"S\", \"S\", \"S\", \"S\", \"S\", \"S\", \"S\", \"S\", \"S\", \"S\", \"S\", \"S\", \"S\", \"S\", \"S\", \"S\", \"S\", \"S\", \"S\", \"S\", \"S\", \"S\", \"S\", \"S\", \"S\", \"S\", \"S\", \"S\", \"S\", \"S\", \"S\", \"S\", \"S\", \"S\", \"S\", \"S\", \"S\", \"S\", \"S\", \"S\", \"S\", \"S\", \"S\", \"S\", \"S\", \"S\", \"S\", \"S\", \"S\", \"S\", \"S\", \"S\", \"S\", \"S\", \"S\", \"S\", \"S\", \"S\", \"S\", \"S\", \"S\", \"S\", \"S\", \"S\", \"S\", \"S\", \"S\", \"S\", \"S\", \"S\", \"S\", \"S\", \"S\", \"S\", \"S\", \"S\", \"S\", \"S\", \"S\", \"S\", \"S\", \"S\", \"S\", \"S\", \"S\", \"S\", \"S\", \"S\", \"S\", \"S\", \"S\", \"S\", \"S\", \"S\", \"S\", \"S\", \"S\", \"S\", \"S\", \"S\", \"S\", \"S\", \"S\", \"S\", \"S\", \"S\", \"S\", \"S\", \"S\", \"S\", \"S\", \"S\", \"S\", \"S\", \"S\", \"S\", \"S\", \"S\", \"S\", \"S\", \"S\", \"S\", \"S\", \"S\", \"S\", \"S\", \"S\", \"S\", \"S\", \"S\", \"S\", \"S\", \"S\", \"S\", \"S\", \"S\", \"S\", \"S\", \"S\", \"S\", \"S\", \"S\", \"S\", \"S\", \"S\", \"S\", \"S\", \"S\", \"S\", \"S\", \"S\", \"S\", \"S\", \"S\", \"S\", \"S\", \"S\", \"S\", \"S\", \"S\", \"S\", \"S\", \"S\", \"S\", \"S\", \"S\", \"S\", \"S\", \"S\", \"S\", \"S\", \"S\", \"S\", \"S\", \"S\", \"S\", \"S\", \"S\", \"S\", \"S\", \"S\", \"S\", \"S\", \"S\", \"S\", \"S\", \"S\", \"S\", \"S\", \"S\", \"S\", \"S\", \"S\", \"S\", \"S\", \"S\", \"S\", \"S\", \"S\", \"S\", \"S\", \"S\", \"S\", \"S\", \"S\", \"S\", \"S\", \"S\", \"S\", \"S\", \"S\", \"S\", \"S\", \"S\", \"S\", \"S\", \"S\", \"S\", \"S\", \"S\", \"S\", \"S\", \"S\", \"S\", \"S\", \"S\", \"S\", \"S\", \"S\", \"S\", \"S\", \"S\", \"S\", \"S\", \"S\", \"S\", \"S\", \"S\", \"S\", \"S\", \"S\", \"S\", \"S\", \"S\", \"S\", \"S\", \"S\", \"S\", \"S\", \"S\", \"S\", \"S\", \"S\", \"S\", \"S\", \"S\", \"S\", \"S\", \"S\", \"S\", \"S\", \"S\", \"S\", \"S\", \"S\", \"S\", \"S\", \"S\", \"S\", \"S\", \"S\", \"S\", \"S\", \"S\", \"S\", \"S\", \"S\", \"S\", \"S\", \"S\", \"S\", \"S\", \"S\", \"S\", \"S\", \"S\", \"S\", \"S\", \"S\", \"S\", \"S\", \"S\", \"S\", \"S\", \"S\", \"S\", \"S\", \"S\", \"S\", \"S\", \"S\", \"S\", \"S\", \"S\", \"S\", \"S\", \"S\", \"S\", \"S\", \"S\", \"S\", \"S\", \"S\", \"S\", \"S\", \"S\", \"S\", \"S\", \"S\", \"S\", \"S\", \"S\", \"S\", \"S\", \"S\", \"S\", \"S\", \"S\", \"S\", \"S\", \"S\", \"S\", \"S\", \"S\", \"S\", \"S\", \"S\", \"S\", \"S\", \"S\", \"S\", \"S\", \"S\", \"S\", \"S\", \"S\", \"S\", \"S\", \"S\", \"S\", \"S\", \"S\", \"S\", \"S\", \"S\", \"S\", \"S\", \"S\", \"S\", \"S\", \"S\", \"S\", \"S\", \"S\", \"S\", \"S\", \"S\", \"S\", \"S\", \"S\", \"S\", \"S\", \"S\", \"S\", \"S\", \"S\", \"S\", \"S\", \"S\", \"S\", \"S\", \"S\", \"S\", \"S\", \"S\", \"S\", \"S\", \"S\", \"S\", \"S\", \"S\", \"S\", \"S\", \"S\", \"S\", \"S\", \"S\", \"S\", \"S\", \"S\", \"S\", \"S\", \"S\", \"S\", \"S\", \"S\", \"S\", \"S\", \"S\", \"S\", \"S\", \"S\", \"S\", \"S\", \"S\", \"S\", \"S\", \"S\", \"S\", \"S\", \"S\", \"S\", \"S\", \"S\", \"S\", \"S\", \"S\", \"S\", \"S\", \"S\", \"S\", \"S\", \"S\", \"S\", \"S\", \"S\", \"S\", \"S\", \"S\", \"S\", \"S\", \"S\", \"S\", \"S\", \"S\", \"S\", \"S\", \"S\", \"S\", \"S\", \"S\", \"S\", \"S\", \"S\", \"S\", \"S\", \"S\", \"S\", \"S\", \"S\", \"S\", \"S\", \"S\", \"S\", \"S\", \"S\", \"S\", \"S\", \"S\", \"S\", \"S\", \"S\", \"S\", \"S\", \"S\", \"S\", \"S\", \"S\", \"S\", \"S\", \"S\", \"S\", \"S\", \"S\", \"S\", \"S\", \"S\", \"S\", \"S\", \"S\", \"S\", \"S\", \"S\", \"S\", \"S\", \"S\", \"S\", \"S\", \"S\", \"S\", \"S\", \"S\", \"S\", \"S\", \"S\", \"S\", \"S\", \"S\", \"S\", \"S\", \"S\", \"S\", \"S\", \"S\", \"S\", \"S\", \"S\", \"S\", \"S\", \"S\", \"S\", \"S\", \"S\", \"S\", \"S\", \"S\", \"S\", \"S\", \"S\", \"S\", \"S\", \"S\", \"S\", \"S\", \"S\", \"S\", \"S\", \"S\", \"S\", \"S\", \"S\", \"S\", \"S\", \"S\", \"S\", \"S\", \"S\", \"S\", \"S\", \"S\", \"S\", \"S\", \"S\", \"S\", \"S\", \"S\", \"S\", \"S\", \"S\", \"S\", \"S\", \"S\", \"S\", \"S\", \"S\", \"S\", \"S\", \"S\", \"S\", \"S\", \"S\", \"S\", \"S\", \"S\", \"S\", \"S\", \"S\", \"S\", \"S\", \"S\", \"S\", \"S\", \"S\", \"S\", \"S\", \"S\", \"S\", \"S\", \"S\", \"S\", \"S\", \"S\", \"S\", \"S\", \"S\", \"S\", \"S\", \"S\", \"S\", \"S\", \"S\", \"S\", \"S\", \"S\", \"S\", \"S\", \"S\", \"S\", \"S\", \"S\", \"S\", \"S\", \"S\", \"S\", \"S\", \"S\", \"S\", \"S\", \"S\", \"S\", \"S\", \"S\", \"S\", \"S\", \"S\", \"S\", \"S\", \"S\", \"S\", \"S\", \"S\", \"S\", \"S\", \"S\", \"S\", \"S\", \"S\", \"S\", \"S\", \"S\", \"S\", \"S\", \"S\", \"S\", \"S\", \"S\", \"S\", \"S\", \"S\", \"S\", \"S\", \"S\", \"S\", \"S\", \"S\", \"S\", \"S\", \"S\", \"S\", \"S\", \"S\", \"S\", \"S\", \"S\", \"S\", \"S\", \"S\", \"S\", \"S\", \"S\", \"S\", \"S\", \"S\", \"S\", \"S\", \"S\", \"S\", \"S\", \"S\", \"S\", \"S\", \"S\", \"S\", \"S\", \"S\", \"S\", \"S\", \"S\", \"S\", \"S\", \"S\", \"S\", \"S\", \"S\", \"S\", \"S\", \"S\", \"S\", \"S\", \"S\", \"S\", \"S\", \"S\", \"S\", \"S\", \"S\", \"S\", \"S\", \"S\", \"S\", \"S\", \"S\", \"S\", \"S\", \"S\", \"S\", \"S\", \"S\", \"S\", \"S\", \"S\", \"S\", \"S\", \"S\", \"S\", \"S\", \"S\", \"S\", \"S\", \"S\", \"S\", \"S\", \"S\", \"S\", \"S\", \"S\", \"S\", \"S\", \"S\", \"S\", \"S\", \"S\", \"S\", \"S\", \"S\", \"S\", \"S\", \"S\", \"S\", \"S\", \"S\", \"S\", \"S\", \"S\", \"S\", \"S\", \"S\", \"S\", \"S\", \"S\", \"S\", \"S\", \"S\", \"S\", \"S\", \"S\", \"S\", \"S\", \"S\", \"S\", \"S\", \"S\", \"S\", \"S\", \"S\", \"S\", \"S\", \"S\", \"S\", \"S\", \"S\", \"S\", \"S\", \"S\", \"S\", \"S\", \"S\", \"S\", \"S\", \"S\", \"S\", \"S\", \"S\", \"S\", \"S\", \"S\", \"S\", \"S\", \"S\", \"S\", \"S\", \"S\", \"S\", \"S\", \"S\", \"S\", \"S\", \"S\", \"S\", \"S\", \"S\", \"S\", \"S\", \"S\", \"S\", \"S\", \"S\", \"S\", \"S\", \"S\", \"S\", \"S\", \"S\", \"S\", \"S\", \"S\", \"S\", \"S\", \"S\", \"S\", \"S\", \"S\", \"S\", \"S\", \"S\", \"S\", \"S\", \"S\", \"S\", \"S\", \"S\", \"S\", \"S\", \"S\", \"S\", \"S\", \"S\", \"S\", \"S\", \"S\", \"S\", \"S\", \"S\", \"S\", \"S\", \"S\", \"S\", \"S\", \"S\", \"S\", \"S\", \"S\", \"S\", \"S\", \"S\", \"S\", \"S\", \"S\", \"S\", \"S\", \"S\", \"S\", \"S\", \"S\", \"S\", \"S\", \"S\", \"S\", \"S\", \"S\", \"S\", \"S\", \"S\", \"S\", \"S\", \"S\", \"S\", \"S\", \"S\", \"S\", \"S\", \"S\", \"S\", \"S\", \"S\", \"S\", \"S\", \"S\", \"S\", \"S\", \"S\", \"S\", \"S\", \"S\", \"S\", \"S\", \"S\", \"S\", \"S\", \"S\", \"S\", \"S\", \"S\", \"S\", \"S\", \"S\", \"S\", \"S\", \"S\", \"S\", \"S\", \"S\", \"S\", \"S\", \"S\", \"S\", \"S\", \"S\", \"S\", \"S\", \"S\", \"S\", \"S\", \"S\", \"S\", \"S\", \"S\", \"S\", \"S\", \"S\", \"S\", \"S\", \"S\", \"S\", \"S\", \"S\", \"S\", \"S\", \"S\", \"S\", \"S\", \"S\", \"S\", \"S\", \"S\", \"S\", \"S\", \"S\", \"S\", \"S\", \"S\", \"S\", \"S\", \"S\", \"S\", \"S\", \"S\", \"S\", \"S\", \"S\", \"S\", \"S\", \"S\", \"S\", \"S\", \"S\", \"S\", \"S\", \"S\", \"S\", \"S\", \"S\", \"S\", \"S\", \"S\", \"S\", \"S\", \"S\", \"S\", \"S\", \"S\", \"S\", \"S\", \"S\", \"S\", \"S\", \"S\", \"S\", \"S\", \"S\", \"S\", \"S\", \"S\", \"S\", \"S\", \"S\", \"S\", \"S\", \"S\", \"S\", \"S\", \"S\", \"S\", \"S\", \"S\", \"S\", \"S\", \"S\", \"S\", \"S\", \"S\", \"S\", \"S\", \"S\", \"S\", \"S\", \"S\", \"S\", \"S\", \"S\", \"S\", \"S\", \"S\", \"S\", \"S\", \"S\", \"S\", \"S\", \"S\", \"S\", \"S\", \"S\", \"S\", \"S\", \"S\", \"S\", \"S\", \"S\", \"S\", \"S\", \"S\", \"S\", \"S\", \"S\", \"S\", \"S\", \"S\", \"S\", \"S\", \"S\", \"S\", \"S\", \"S\", \"S\", \"S\", \"S\", \"S\", \"S\", \"S\", \"S\", \"S\", \"S\", \"S\", \"S\", \"S\", \"S\", \"S\", \"S\", \"S\", \"S\", \"S\", \"S\", \"S\", \"S\", \"S\", \"S\", \"S\", \"S\", \"S\", \"S\", \"S\", \"S\", \"S\", \"S\", \"S\", \"S\", \"S\", \"S\", \"S\", \"S\", \"S\", \"S\", \"S\", \"S\", \"S\", \"S\", \"S\", \"S\", \"S\", \"S\", \"S\", \"S\", \"S\", \"S\", \"S\", \"S\", \"S\", \"S\", \"S\", \"S\", \"S\", \"S\", \"S\", \"S\", \"S\", \"S\", \"S\", \"S\", \"S\", \"S\", \"S\", \"S\", \"S\", \"S\", \"S\", \"S\", \"S\", \"S\", \"S\", \"S\", \"S\", \"S\", \"S\", \"S\", \"S\", \"S\", \"S\", \"S\", \"S\", \"S\", \"S\", \"S\", \"S\", \"S\", \"S\", \"S\", \"S\", \"S\", \"S\", \"S\", \"S\", \"S\", \"S\", \"S\", \"S\", \"S\", \"S\", \"S\", \"S\", \"S\", \"S\", \"S\", \"S\", \"S\", \"S\", \"S\", \"S\", \"S\", \"S\", \"S\", \"S\", \"S\", \"S\", \"S\", \"S\", \"S\", \"S\", \"S\", \"S\", \"S\", \"S\", \"S\", \"S\", \"S\", \"S\", \"S\", \"S\", \"S\", \"S\", \"S\", \"S\", \"S\", \"S\", \"S\", \"S\", \"S\", \"S\", \"S\", \"S\", \"S\", \"S\", \"S\", \"S\", \"S\", \"S\", \"S\", \"S\", \"S\", \"S\", \"S\", \"S\", \"S\", \"S\", \"S\", \"S\", \"S\", \"S\", \"S\", \"S\", \"S\", \"S\", \"S\", \"S\", \"S\", \"S\", \"S\", \"S\", \"S\", \"S\", \"S\", \"S\", \"S\", \"S\", \"S\", \"S\", \"S\", \"S\", \"S\", \"S\", \"S\", \"S\", \"S\", \"S\", \"S\", \"S\", \"S\", \"S\", \"S\", \"S\", \"S\", \"S\", \"S\", \"S\", \"S\", \"S\", \"S\", \"S\", \"S\", \"S\", \"S\", \"S\", \"S\", \"S\", \"S\", \"S\", \"S\", \"S\", \"S\", \"S\", \"S\", \"S\", \"S\", \"S\", \"S\", \"S\", \"S\", \"S\", \"S\", \"S\", \"S\", \"S\", \"S\", \"S\", \"S\", \"S\", \"S\", \"S\", \"S\", \"S\", \"S\", \"S\", \"S\", \"S\", \"S\", \"S\", \"S\", \"S\", \"S\", \"S\", \"S\", \"S\", \"S\", \"S\", \"S\", \"S\", \"S\", \"S\", \"S\", \"S\", \"S\", \"S\", \"S\", \"S\", \"S\", \"S\", \"S\", \"S\", \"S\", \"S\", \"S\", \"S\", \"S\", \"S\", \"S\", \"S\", \"S\", \"S\", \"S\", \"S\", \"S\", \"S\", \"S\", \"S\", \"S\", \"S\", \"S\", \"S\", \"S\", \"S\", \"S\", \"S\", \"S\", \"S\", \"S\", \"S\", \"S\", \"S\", \"S\", \"S\", \"S\", \"S\", \"S\", \"S\", \"S\", \"S\", \"S\", \"S\", \"S\", \"S\", \"S\", \"S\", \"S\", \"S\", \"S\", \"S\", \"S\", \"S\", \"S\", \"S\", \"S\", \"S\", \"S\", \"S\", \"S\", \"S\", \"S\", \"S\", \"S\", \"S\", \"S\", \"S\", \"S\", \"S\", \"S\", \"S\", \"S\", \"S\", \"S\", \"S\", \"S\", \"S\", \"S\", \"S\", \"S\", \"S\", \"S\", \"S\", \"S\", \"S\", \"S\", \"S\", \"S\", \"S\", \"S\", \"S\", \"S\", \"S\", \"S\", \"S\", \"S\", \"S\", \"S\", \"S\", \"S\", \"S\", \"S\", \"S\", \"S\", \"S\", \"S\", \"S\", \"S\", \"S\", \"S\", \"S\", \"S\", \"S\", \"S\", \"S\", \"S\", \"S\", \"S\", \"S\", \"S\", \"S\", \"S\", \"S\", \"S\", \"S\", \"S\", \"S\", \"S\", \"S\", \"S\", \"S\", \"S\", \"S\", \"S\", \"S\", \"S\", \"S\", \"S\", \"S\", \"S\", \"S\", \"S\", \"S\", \"S\", \"S\", \"S\", \"S\", \"S\", \"S\", \"S\", \"S\", \"S\", \"S\", \"S\", \"S\", \"S\", \"S\", \"S\", \"S\", \"S\", \"S\", \"S\", \"S\", \"S\", \"S\", \"S\", \"S\", \"S\", \"S\", \"S\", \"S\", \"S\", \"S\", \"S\", \"S\", \"S\", \"S\", \"S\", \"S\", \"S\", \"S\", \"S\", \"S\", \"S\", \"S\", \"S\", \"S\", \"S\", \"S\", \"S\", \"S\", \"S\", \"S\", \"S\", \"S\", \"S\", \"S\", \"S\", \"S\", \"S\", \"S\", \"S\", \"S\", \"S\", \"S\", \"S\", \"S\", \"S\", \"S\", \"S\", \"S\", \"S\", \"S\", \"S\", \"S\", \"S\", \"S\", \"S\", \"S\", \"S\", \"S\", \"S\", \"S\", \"S\", \"S\", \"S\", \"S\", \"S\", \"S\", \"S\", \"S\", \"S\", \"S\", \"S\", \"S\", \"S\", \"S\", \"S\", \"S\", \"S\", \"S\", \"S\", \"S\", \"S\", \"S\", \"S\", \"S\", \"S\", \"S\", \"S\", \"S\", \"S\", \"S\", \"S\", \"S\", \"S\", \"S\", \"S\", \"S\", \"S\", \"S\", \"S\", \"S\", \"S\", \"S\", \"S\", \"S\", \"S\", \"S\", \"S\", \"S\", \"S\", \"S\", \"S\", \"S\", \"S\", \"S\", \"S\", \"S\", \"S\", \"S\", \"S\", \"S\", \"S\", \"S\", \"S\", \"S\", \"S\", \"S\", \"S\", \"S\", \"S\", \"S\", \"S\", \"S\", \"S\", \"S\", \"S\", \"S\", \"S\", \"S\", \"S\", \"S\", \"S\", \"S\", \"S\", \"S\", \"S\", \"S\", \"S\", \"S\", \"S\", \"S\", \"S\", \"S\", \"S\", \"S\", \"S\", \"S\", \"S\", \"S\", \"S\", \"S\", \"S\", \"S\", \"S\", \"S\", \"S\", \"S\", \"S\", \"S\", \"S\", \"S\", \"S\", \"S\", \"S\", \"S\", \"S\", \"S\", \"S\", \"S\", \"S\", \"S\", \"S\", \"S\", \"S\", \"S\", \"S\", \"S\", \"S\", \"S\", \"S\", \"S\", \"S\", \"S\", \"S\", \"S\", \"S\", \"S\", \"S\", \"S\", \"S\", \"S\", \"S\", \"S\", \"S\", \"S\", \"S\", \"S\", \"S\", \"S\", \"S\", \"S\", \"S\", \"S\", \"S\", \"S\", \"S\", \"S\", \"S\", \"S\", \"S\", \"S\", \"S\", \"S\", \"S\", \"S\", \"S\", \"S\", \"S\", \"S\", \"S\", \"S\", \"S\", \"S\", \"S\", \"S\", \"S\", \"S\", \"S\", \"S\", \"S\", \"S\", \"S\", \"S\", \"S\", \"S\", \"S\", \"S\", \"S\", \"S\", \"S\", \"S\", \"S\", \"S\", \"S\", \"S\", \"S\", \"S\", \"S\", \"S\", \"S\", \"S\", \"S\", \"S\", \"S\", \"S\", \"S\", \"S\", \"S\", \"S\", \"S\", \"S\", \"S\", \"S\", \"S\", \"S\", \"S\", \"S\", \"S\", \"S\", \"S\", \"S\", \"S\", \"S\", \"S\", \"S\", \"S\", \"S\", \"S\", \"S\", \"S\", \"S\", \"S\", \"S\", \"S\", \"S\", \"S\", \"S\", \"S\", \"S\", \"S\", \"S\", \"S\", \"S\", \"S\", \"S\", \"S\", \"S\", \"S\", \"S\", \"S\", \"S\", \"S\", \"S\", \"S\", \"S\", \"S\", \"S\", \"S\", \"S\", \"S\", \"S\", \"S\", \"S\", \"S\", \"S\", \"S\", \"S\", \"S\", \"S\", \"S\", \"S\", \"S\", \"S\", \"S\", \"S\", \"S\", \"S\", \"S\", \"S\", \"S\", \"S\", \"S\", \"S\", \"S\", \"S\", \"S\", \"S\", \"S\", \"S\", \"S\", \"S\", \"S\", \"S\", \"S\", \"S\", \"S\", \"S\", \"S\", \"S\", \"S\", \"S\", \"S\", \"S\", \"S\", \"S\", \"S\", \"S\", \"S\", \"S\", \"S\", \"S\", \"S\", \"S\", \"S\", \"S\", \"S\", \"S\", \"S\", \"S\", \"S\", \"S\", \"S\", \"S\", \"S\", \"S\", \"S\", \"S\", \"S\", \"S\", \"S\", \"S\", \"S\", \"S\", \"S\", \"S\", \"S\", \"S\", \"S\", \"S\", \"S\", \"S\", \"S\", \"S\", \"S\", \"S\", \"S\", \"S\", \"S\", \"S\", \"S\", \"S\", \"S\", \"S\", \"S\", \"S\", \"S\", \"S\", \"S\", \"S\", \"S\", \"S\", \"S\", \"S\", \"S\", \"S\", \"S\", \"S\", \"S\", \"S\", \"S\", \"S\", \"S\", \"S\", \"S\", \"S\", \"S\", \"S\", \"S\", \"S\", \"S\", \"S\", \"S\", \"S\", \"S\", \"S\", \"S\", \"S\", \"S\", \"S\", \"S\", \"S\", \"S\", \"S\", \"S\", \"S\", \"S\", \"S\", \"S\", \"S\", \"S\", \"S\", \"S\", \"S\", \"S\", \"S\", \"S\", \"S\", \"S\", \"S\", \"S\", \"S\", \"S\", \"S\", \"S\", \"S\", \"S\", \"S\", \"S\", \"S\", \"S\", \"S\", \"S\", \"S\", \"S\", \"S\", \"S\", \"S\", \"S\", \"S\", \"S\", \"S\", \"S\", \"S\", \"S\", \"S\", \"S\", \"S\", \"S\", \"S\", \"S\", \"S\", \"S\", \"S\", \"S\", \"S\", \"S\", \"S\", \"S\", \"S\", \"S\", \"S\", \"S\", \"S\", \"S\", \"S\", \"S\", \"S\", \"S\", \"S\", \"S\", \"S\", \"S\", \"S\", \"S\", \"S\", \"S\", \"S\", \"S\", \"S\", \"S\", \"S\", \"S\", \"S\", \"S\", \"S\", \"S\", \"S\", \"S\", \"S\", \"S\", \"S\", \"S\", \"S\", \"S\", \"S\", \"S\", \"S\", \"S\", \"S\", \"S\", \"S\", \"S\", \"S\", \"S\", \"S\", \"S\", \"S\", \"S\", \"S\", \"S\", \"S\", \"S\", \"S\", \"S\", \"S\", \"S\", \"S\", \"S\", \"S\", \"S\", \"S\", \"S\", \"S\", \"S\", \"S\", \"S\", \"S\", \"S\", \"S\", \"S\", \"S\", \"S\", \"S\", \"S\", \"S\", \"S\", \"S\", \"S\", \"S\", \"S\", \"S\", \"S\", \"S\", \"S\", \"S\", \"S\", \"S\", \"S\", \"S\", \"S\", \"S\", \"S\", \"S\", \"S\", \"S\", \"S\", \"S\", \"S\", \"S\", \"S\", \"S\", \"S\", \"S\", \"S\", \"S\", \"S\", \"S\", \"S\", \"S\", \"S\", \"S\", \"S\", \"S\", \"S\", \"S\", \"S\", \"S\", \"S\", \"S\", \"S\", \"S\", \"S\", \"S\", \"S\", \"S\", \"S\", \"S\", \"S\", \"S\", \"S\", \"S\", \"S\", \"S\", \"S\", \"S\", \"S\", \"S\", \"S\", \"S\", \"S\", \"S\", \"S\", \"S\", \"S\", \"S\", \"S\", \"S\", \"S\", \"S\", \"S\", \"S\", \"S\", \"S\", \"S\", \"S\", \"S\", \"S\", \"S\", \"S\", \"S\", \"S\", \"S\", \"S\", \"S\", \"S\", \"S\", \"S\", \"S\", \"S\", \"S\", \"S\", \"S\", \"S\", \"S\", \"S\", \"S\", \"S\", \"S\", \"S\", \"S\", \"S\", \"S\", \"S\", \"S\", \"S\", \"S\", \"S\", \"S\", \"S\", \"S\", \"S\", \"S\", \"S\", \"S\", \"S\", \"S\", \"S\", \"S\", \"S\", \"S\", \"S\", \"S\", \"S\", \"S\", \"S\", \"S\", \"S\", \"S\", \"S\", \"S\", \"S\", \"S\", \"S\", \"S\", \"S\", \"S\", \"S\", \"S\", \"S\", \"S\", \"S\", \"S\", \"S\", \"S\", \"S\", \"S\", \"S\", \"S\", \"S\", \"S\", \"S\", \"S\", \"S\", \"S\", \"S\", \"S\", \"S\", \"S\", \"S\", \"S\", \"S\", \"S\", \"S\", \"S\", \"S\", \"S\", \"S\", \"S\", \"S\", \"S\", \"S\", \"S\", \"S\", \"S\", \"S\", \"S\", \"S\", \"S\", \"S\", \"S\", \"S\", \"S\", \"S\", \"S\", \"S\", \"S\", \"S\", \"S\", \"S\", \"S\", \"S\", \"S\", \"S\", \"S\", \"S\", \"S\", \"S\", \"S\", \"S\", \"S\", \"S\", \"S\", \"S\", \"S\", \"S\", \"S\", \"S\", \"S\", \"S\", \"S\", \"S\", \"S\", \"S\", \"S\", \"S\", \"S\", \"S\", \"S\", \"S\", \"S\", \"S\", \"S\", \"S\", \"S\", \"S\", \"S\", \"S\", \"S\", \"S\", \"S\", \"S\", \"S\", \"S\", \"S\", \"S\", \"S\", \"S\", \"S\", \"S\", \"S\", \"S\", \"S\", \"S\", \"S\", \"S\", \"S\", \"S\", \"S\", \"S\", \"S\", \"S\", \"S\", \"S\", \"S\", \"S\", \"S\", \"S\", \"S\", \"S\", \"S\", \"S\", \"S\", \"S\", \"S\", \"S\", \"S\", \"S\", \"S\", \"S\", \"S\", \"S\", \"S\", \"S\", \"S\", \"S\", \"S\", \"S\", \"S\", \"S\", \"S\", \"S\", \"S\", \"S\", \"S\", \"S\", \"S\", \"S\", \"S\", \"S\", \"S\", \"S\", \"S\", \"S\", \"S\", \"S\", \"S\", \"S\", \"S\", \"S\", \"S\", \"S\", \"S\", \"S\", \"S\", \"S\", \"S\", \"S\", \"S\", \"S\", \"S\", \"S\", \"S\", \"S\", \"S\", \"S\", \"S\", \"S\", \"S\", \"S\", \"S\", \"S\", \"S\", \"S\", \"S\", \"S\", \"S\", \"S\", \"S\", \"S\", \"S\", \"S\", \"S\", \"S\", \"S\", \"S\", \"S\", \"S\", \"S\", \"S\", \"S\", \"S\", \"S\", \"S\", \"S\", \"S\", \"S\", \"S\", \"S\", \"S\", \"S\", \"S\", \"S\", \"S\", \"S\", \"S\", \"S\", \"S\", \"S\", \"S\", \"S\", \"S\", \"S\", \"S\", \"S\", \"S\", \"S\", \"S\", \"S\", \"S\", \"S\", \"S\", \"S\", \"S\", \"S\", \"S\", \"S\", \"S\", \"S\", \"S\", \"S\", \"S\", \"S\", \"S\", \"S\", \"S\", \"S\", \"S\", \"S\", \"S\", \"S\", \"S\", \"S\", \"S\", \"S\", \"S\", \"S\", \"S\", \"S\", \"S\", \"S\", \"S\", \"S\", \"S\", \"S\", \"S\", \"S\", \"S\", \"S\", \"S\", \"S\", \"S\", \"S\", \"S\", \"S\", \"S\", \"S\", \"S\", \"S\", \"S\", \"S\", \"S\", \"S\", \"S\", \"S\", \"S\", \"S\", \"S\", \"S\", \"S\", \"S\", \"S\", \"S\", \"S\", \"S\", \"S\", \"S\", \"S\", \"S\", \"S\", \"S\", \"S\", \"S\", \"S\", \"S\", \"S\", \"S\", \"S\", \"S\", \"S\", \"S\", \"S\", \"S\", \"S\", \"S\", \"S\", \"S\", \"S\", \"S\", \"S\", \"S\", \"S\", \"S\", \"S\", \"S\", \"S\", \"S\", \"S\", \"S\", \"S\", \"S\"], \"xaxis\": \"x\", \"y\": [1480000.0, 1035000.0, 941000.0, 1876000.0, 1636000.0, 300000.0, 1097000.0, 750000.0, 1172500.0, 1310000.0, 1200000.0, 1176500.0, 955000.0, 890000.0, 900000.0, 1090000.0, 500000.0, 1315000.0, 457000.0, 1135000.0, 1542000.0, 1290000.0, 1290000.0, 470000.0, 1180000.0, 1012500.0, 1030000.0, 603000.0, 700000.0, 600000.0, 720000.0, 785000.0, 450000.0, 515000.0, 530000.0, 805000.0, 752000.0, 440000.0, 830000.0, 462500.0, 675000.0, 1042000.0, 910000.0, 773000.0, 715000.0, 790000.0, 685000.0, 805000.0, 510000.0, 612000.0, 662000.0, 978000.0, 765000.0, 900000.0, 1275000.0, 1455000.0, 1850000.0, 1436000.0, 1110000.0, 1550000.0, 2300000.0, 2120000.0, 1800000.0, 2615000.0, 2100000.0, 1300000.0, 1370000.0, 1000000.0, 2575000.0, 1322500.0, 1562500.0, 1900000.0, 3010000.0, 647000.0, 442500.0, 4735000.0, 1340000.0, 1801000.0, 1532000.0, 3755000.0, 2140000.0, 1750000.0, 980000.0, 2030000.0, 985000.0, 2000000.0, 1110000.0, 1492000.0, 1717500.0, 2840000.0, 525500.0, 805000.0, 465000.0, 1540000.0, 820000.0, 1830000.0, 2100000.0, 512000.0, 1165000.0, 1950000.0, 1525000.0, 720000.0, 1120000.0, 630000.0, 683500.0, 580000.0, 1335000.0, 510000.0, 1070000.0, 425000.0, 605000.0, 705000.0, 845000.0, 635000.0, 447000.0, 678000.0, 712000.0, 980000.0, 605100.0, 577000.0, 1030000.0, 605000.0, 753000.0, 1500000.0, 900000.0, 740000.0, 931000.0, 1085000.0, 781000.0, 421000.0, 1405000.0, 683000.0, 623000.0, 588000.0, 640000.0, 675000.0, 708000.0, 680000.0, 923000.0, 728500.0, 931000.0, 988000.0, 590000.0, 610000.0, 815000.0, 970000.0, 760000.0, 847500.0, 292000.0, 599000.0, 995000.0, 1205000.0, 1939000.0, 421500.0, 1870000.0, 678000.0, 2050000.0, 3625000.0, 825000.0, 1586000.0, 645000.0, 1780000.0, 592500.0, 1210000.0, 2801000.0, 390000.0, 324000.0, 5525000.0, 1125000.0, 2250000.0, 2360000.0, 2365000.0, 732000.0, 1900000.0, 710000.0, 872000.0, 598000.0, 1285000.0, 3660000.0, 520000.0, 3625000.0, 1101000.0, 3512500.0, 869000.0, 2810000.0, 565000.0, 567000.0, 471500.0, 455000.0, 940000.0, 1850000.0, 1284000.0, 1053000.0, 1377000.0, 970000.0, 940000.0, 685000.0, 1230000.0, 636500.0, 910000.0, 960000.0, 965000.0, 1440000.0, 955000.0, 801000.0, 1435000.0, 390000.0, 1340000.0, 955000.0, 1255000.0, 432000.0, 1640000.0, 1430000.0, 940000.0, 1480000.0, 1150000.0, 1350000.0, 1905000.0, 705000.0, 442000.0, 540000.0, 1037500.0, 1050000.0, 440000.0, 1010000.0, 1430000.0, 690000.0, 1291000.0, 1130000.0, 1135000.0, 1345000.0, 1381500.0, 940000.0, 995000.0, 786000.0, 487500.0, 1000000.0, 1305000.0, 932500.0, 965000.0, 1215000.0, 545000.0, 1705000.0, 970000.0, 925000.0, 2650000.0, 1670000.0, 955000.0, 2050000.0, 1575000.0, 1555000.0, 1337000.0, 2950000.0, 1518000.0, 1710000.0, 1655000.0, 1662000.0, 1665000.0, 1445000.0, 3510000.0, 968000.0, 900000.0, 1500000.0, 2752000.0, 1800000.0, 1830000.0, 1415000.0, 1422000.0, 1600000.0, 1860000.0, 1710000.0, 1950000.0, 1600000.0, 1650000.0, 995000.0, 1250000.0, 1045000.0, 1500000.0, 1120000.0, 700000.0, 1510000.0, 1365000.0, 1415000.0, 690000.0, 1631000.0, 1500000.0, 1060000.0, 1529500.0, 600000.0, 535000.0, 785000.0, 1240000.0, 700000.0, 1350000.0, 1110000.0, 1305000.0, 855000.0, 900500.0, 830000.0, 850000.0, 851000.0, 848000.0, 806000.0, 1155000.0, 1200000.0, 636000.0, 680000.0, 1160000.0, 750000.0, 880000.0, 950000.0, 585000.0, 665000.0, 560500.0, 845000.0, 440000.0, 850000.0, 705000.0, 892500.0, 695000.0, 522500.0, 500000.0, 730000.0, 875000.0, 762000.0, 790000.0, 605000.0, 805000.0, 890000.0, 795000.0, 634000.0, 863000.0, 1819000.0, 1015000.0, 502500.0, 520000.0, 1193000.0, 416000.0, 820000.0, 474000.0, 981000.0, 1690000.0, 1080000.0, 2100000.0, 1255000.0, 2200000.0, 806000.0, 1215000.0, 812000.0, 1140000.0, 2330000.0, 605000.0, 805000.0, 500000.0, 635000.0, 526000.0, 905000.0, 760000.0, 3180000.0, 1367000.0, 2550000.0, 3270000.0, 1860000.0, 2730000.0, 2020000.0, 1053000.0, 1472000.0, 2120000.0, 1910000.0, 2188000.0, 3290000.0, 2665000.0, 1801000.0, 2410000.0, 650000.0, 1385000.0, 1900000.0, 3401000.0, 1100000.0, 2950000.0, 2450000.0, 1912000.0, 730000.0, 1850000.0, 1315000.0, 3230000.0, 1080000.0, 1905000.0, 2251000.0, 1265000.0, 2000000.0, 1750000.0, 2614000.0, 1825000.0, 2550000.0, 1150000.0, 1505000.0, 1572000.0, 1400000.0, 1050000.0, 3690000.0, 1388800.0, 2910000.0, 1400000.0, 860000.0, 1500000.0, 1300000.0, 1230000.0, 1950000.0, 2000000.0, 1818000.0, 3360000.0, 1620000.0, 1903000.0, 1712000.0, 1670000.0, 1675000.0, 1680000.0, 1550000.0, 2900000.0, 2205000.0, 1137000.0, 1389000.0, 1335000.0, 1830000.0, 735000.0, 1040000.0, 1520000.0, 1900000.0, 1238000.0, 1320000.0, 560000.0, 1651000.0, 1920000.0, 1560000.0, 1038000.0, 2155000.0, 691500.0, 1836000.0, 636000.0, 1275000.0, 875000.0, 1550000.0, 1420000.0, 1425000.0, 851000.0, 1222500.0, 2700000.0, 1005000.0, 1317500.0, 1435000.0, 1110000.0, 2435000.0, 855000.0, 1125000.0, 867000.0, 1328000.0, 1340000.0, 1155000.0, 1275000.0, 1815000.0, 2255000.0, 1470000.0, 855000.0, 1450000.0, 725000.0, 1293000.0, 1390000.0, 1328000.0, 1247000.0, 1311000.0, 1100000.0, 1327500.0, 1370000.0, 1100000.0, 1385000.0, 1275000.0, 1095000.0, 797500.0, 725000.0, 825000.0, 1235000.0, 1355000.0, 1910000.0, 1448000.0, 820000.0, 895000.0, 1041000.0, 1430000.0, 910000.0, 1350000.0, 635000.0, 1280000.0, 1900000.0, 1230000.0, 1650000.0, 1320000.0, 1380000.0, 1900000.0, 1535000.0, 1281000.0, 1096000.0, 1385000.0, 517500.0, 1245000.0, 503000.0, 2620000.0, 760000.0, 405000.0, 1410000.0, 825000.0, 746000.0, 580000.0, 1206000.0, 1115000.0, 1190000.0, 1270000.0, 1025000.0, 1960000.0, 495000.0, 570000.0, 1220000.0, 885000.0, 1137500.0, 1100000.0, 1210000.0, 1160000.0, 1215000.0, 1200000.0, 1050000.0, 689000.0, 965000.0, 1338000.0, 800000.0, 651000.0, 1390000.0, 1100000.0, 1355000.0, 1206000.0, 486500.0, 1010000.0, 899000.0, 1415000.0, 1185000.0, 1060000.0, 716000.0, 1550000.0, 840000.0, 1110000.0, 1106000.0, 845000.0, 1208000.0, 921000.0, 1165000.0, 1270000.0, 742500.0, 1307000.0, 1010000.0, 813000.0, 805000.0, 1100000.0, 1085000.0, 920000.0, 1050000.0, 1560000.0, 722000.0, 921000.0, 1185000.0, 1352000.0, 761000.0, 1600000.0, 1200000.0, 1300000.0, 1475000.0, 1110000.0, 835000.0, 1690000.0, 791000.0, 1189000.0, 825000.0, 1030000.0, 970000.0, 930000.0, 1240000.0, 823000.0, 1310000.0, 1475000.0, 1045000.0, 655000.0, 1550000.0, 835000.0, 1140000.0, 1120000.0, 1465000.0, 910000.0, 935000.0, 977000.0, 1352000.0, 1197000.0, 810000.0, 700000.0, 1698888.0, 1150000.0, 1000000.0, 965000.0, 870000.0, 1405000.0, 1161000.0, 1266000.0, 1325000.0, 1110000.0, 380000.0, 1175000.0, 1200000.0, 1433500.0, 1630000.0, 772500.0, 1001000.0, 715000.0, 801000.0, 882000.0, 1180000.0, 840000.0, 710000.0, 930000.0, 790000.0, 1040000.0, 1020000.0, 800000.0, 787500.0, 886000.0, 1015000.0, 830000.0, 1241000.0, 1255000.0, 1320000.0, 870000.0, 1472500.0, 1160000.0, 1306000.0, 1291000.0, 1620000.0, 645000.0, 790000.0, 880000.0, 1760000.0, 948000.0, 2770000.0, 1412000.0, 465000.0, 1325000.0, 750000.0, 1400000.0, 1600000.0, 616000.0, 1661000.0, 1461400.0, 775000.0, 1506000.0, 1670000.0, 928000.0, 761000.0, 636000.0, 1625000.0, 1430000.0, 836000.0, 1170000.0, 1670000.0, 1351000.0, 857000.0, 822500.0, 560000.0, 870000.0, 645000.0, 495000.0, 660000.0, 868000.0, 652000.0, 570500.0, 575000.0, 882000.0, 730000.0, 670000.0, 585000.0, 826000.0, 696000.0, 660000.0, 579000.0, 856500.0, 765000.0, 475000.0, 550000.0, 495000.0, 680000.0, 565000.0, 697500.0, 1635000.0, 1830000.0, 3695000.0, 3700000.0, 3775000.0, 1975000.0, 1300000.0, 1390000.0, 4250000.0, 2905000.0, 1300000.0, 2266000.0, 2910000.0, 2100000.0, 2700000.0, 800000.0, 1750000.0, 1761000.0, 2600000.0, 1302500.0, 1900000.0, 892500.0, 2145000.0, 3171000.0, 1910000.0, 1067000.0, 620000.0, 502000.0, 2400000.0, 590000.0, 1650000.0, 3180000.0, 960000.0, 3320000.0, 1602000.0, 1100000.0, 1650000.0, 1102000.0, 575000.0, 1570000.0, 1411000.0, 1875000.0, 2400000.0, 1266000.0, 826000.0, 2730000.0, 900000.0, 1962000.0, 3295888.0, 375000.0, 756000.0, 1500000.0, 905500.0, 2375000.0, 2275000.0, 1385000.0, 1601000.0, 2020000.0, 1762000.0, 2450000.0, 858000.0, 1427000.0, 2800000.0, 1410000.0, 3900000.0, 610000.0, 880000.0, 737000.0, 1532000.0, 1250000.0, 2320000.0, 2000000.0, 1230000.0, 2375000.0, 1037000.0, 1701000.0, 2640000.0, 671000.0, 2900000.0, 1620000.0, 3550000.0, 2750000.0, 3751000.0, 1425000.0, 2405000.0, 1352500.0, 2030000.0, 3105000.0, 1171000.0, 1400000.0, 1940000.0, 1850000.0, 2504000.0, 1302500.0, 1445000.0, 980000.0, 1495000.0, 1860000.0, 1500000.0, 870000.0, 775000.0, 1480000.0, 1590000.0, 2840000.0, 1580000.0, 1405000.0, 1290000.0, 3207000.0, 880000.0, 1920000.0, 2570000.0, 2550000.0, 1915000.0, 1530000.0, 905000.0, 1355000.0, 1845000.0, 1620000.0, 940000.0, 1710000.0, 1800000.0, 1706000.0, 770000.0, 1400000.0, 900000.0, 2150000.0, 1720000.0, 1815000.0, 1511000.0, 1310000.0, 1100000.0, 994000.0, 1447000.0, 692000.0, 1367000.0, 903000.0, 2820000.0, 1813000.0, 1655000.0, 1230000.0, 1389000.0, 750000.0, 1245000.0, 2310000.0, 1420000.0, 563000.0, 1014000.0, 428000.0, 1026000.0, 1802500.0, 2230000.0, 410000.0, 400000.0, 845500.0, 860000.0, 1055000.0, 445000.0, 659500.0, 600000.0, 627000.0, 1450000.0, 990000.0, 1125000.0, 855000.0, 910000.0, 940000.0, 1100000.0, 1056000.0, 620000.0, 880000.0, 1222500.0, 1105000.0, 1260000.0, 955000.0, 895000.0, 1094000.0, 1135000.0, 792000.0, 1060000.0, 840000.0, 890000.0, 1358000.0, 600000.0, 905000.0, 976000.0, 770000.0, 279500.0, 1350000.0, 1320000.0, 825000.0, 860000.0, 830000.0, 936000.0, 1261000.0, 1045000.0, 1044000.0, 1691500.0, 620000.0, 501000.0, 1260000.0, 1650000.0, 601000.0, 1015000.0, 1700000.0, 815000.0, 890000.0, 1815000.0, 2500000.0, 491000.0, 990000.0, 350000.0, 871000.0, 985000.0, 1250000.0, 542000.0, 1395000.0, 860000.0, 440000.0, 705000.0, 800000.0, 880000.0, 1000000.0, 754000.0, 916000.0, 590000.0, 575000.0, 1020000.0, 1510000.0, 801000.0, 370000.0, 1170000.0, 1790000.0, 1875000.0, 1053000.0, 1217000.0, 1340000.0, 1550000.0, 947000.0, 592500.0, 1317000.0, 370000.0, 765000.0, 1210000.0, 1755000.0, 1073000.0, 1080000.0, 945000.0, 755000.0, 521500.0, 1190000.0, 942000.0, 471000.0, 473000.0, 1200000.0, 930000.0, 955000.0, 810000.0, 793000.0, 797500.0, 435000.0, 920000.0, 1172000.0, 1330000.0, 1245000.0, 1205000.0, 1095000.0, 711000.0, 910000.0, 1186000.0, 500000.0, 1005000.0, 656000.0, 370000.0, 320000.0, 988000.0, 400000.0, 330000.0, 910000.0, 921500.0, 995000.0, 901000.0, 1315000.0, 735000.0, 1000000.0, 820000.0, 484000.0, 815000.0, 598000.0, 497000.0, 403000.0, 816000.0, 851000.0, 1300000.0, 1235000.0, 1505000.0, 1336000.0, 980000.0, 1127000.0, 1401000.0, 1340000.0, 1225000.0, 1490000.0, 1002000.0, 1260000.0, 905000.0, 1400000.0, 787000.0, 1280000.0, 1075000.0, 890000.0, 1300000.0, 1250000.0, 976000.0, 980000.0, 812500.0, 1140000.0, 833000.0, 903000.0, 1351000.0, 1060000.0, 1063000.0, 1590000.0, 1390000.0, 1890000.0, 1022500.0, 1151000.0, 1755000.0, 1300000.0, 1160000.0, 2000000.0, 790000.0, 1682000.0, 1342000.0, 1468000.0, 1060000.0, 1255000.0, 900000.0, 633000.0, 1175000.0, 1521000.0, 1350000.0, 752000.0, 570000.0, 1460000.0, 745000.0, 2150000.0, 746000.0, 1540000.0, 1145000.0, 1270000.0, 1410000.0, 1100000.0, 1485000.0, 2068000.0, 702000.0, 2650000.0, 1615000.0, 1017000.0, 729000.0, 1650000.0, 615000.0, 1987000.0, 683000.0, 1300000.0, 892000.0, 900400.0, 2090000.0, 2000000.0, 1302000.0, 1430000.0, 2608000.0, 1780000.0, 2250000.0, 693000.0, 900000.0, 2228000.0, 930000.0, 590000.0, 4760000.0, 1602500.0, 558000.0, 1185000.0, 2177000.0, 2155000.0, 3400000.0, 1470000.0, 820000.0, 2105000.0, 1625000.0, 3300000.0, 667000.0, 775000.0, 2220000.0, 2015000.0, 700000.0, 1700000.0, 3225000.0, 810000.0, 2030000.0, 706000.0, 2740000.0, 2950000.0, 1587500.0, 765000.0, 830000.0, 2375000.0, 2620000.0, 1305000.0, 4350000.0, 928000.0, 2930000.0, 722000.0, 1680000.0, 1680000.0, 1385000.0, 3400000.0, 736000.0, 1843000.0, 685000.0, 1800000.0, 3145000.0, 1742000.0, 1420000.0, 1016000.0, 1540000.0, 1425000.0, 1725000.0, 2175000.0, 765000.0, 1301000.0, 2718000.0, 468000.0, 2400000.0, 2210000.0, 1330000.0, 2520000.0, 1214000.0, 1955000.0, 390000.0, 885000.0, 2050000.0, 910000.0, 880000.0, 1950000.0, 1280000.0, 437000.0, 570000.0, 820000.0, 795000.0, 1295000.0, 1275000.0, 1620000.0, 510000.0, 255000.0, 890000.0, 346000.0, 586000.0, 772000.0, 1506000.0, 290000.0, 363000.0, 967500.0, 516000.0, 330000.0, 1600000.0, 1170000.0, 1008000.0, 625000.0, 1170000.0, 1830000.0, 930000.0, 465000.0, 1646000.0, 804000.0, 1200000.0, 1501000.0, 345000.0, 817500.0, 855000.0, 675000.0, 455000.0, 602500.0, 662000.0, 1420000.0, 1287000.0, 656000.0, 930000.0, 415000.0, 650000.0, 1360000.0, 765000.0, 1423000.0, 907000.0, 350000.0, 1430000.0, 983500.0, 1490000.0, 572000.0, 990000.0, 1100000.0, 601000.0, 1910000.0, 808000.0, 1252000.0, 1880000.0, 896000.0, 1802100.0, 585000.0, 450000.0, 737000.0, 860000.0, 605000.0, 1300000.0, 1518000.0, 632500.0, 435000.0, 468250.0, 1716000.0, 270000.0, 365000.0, 340000.0, 722500.0, 1665000.0, 323000.0, 1090000.0, 1365000.0, 1750000.0, 570000.0, 520500.0, 2830000.0, 450000.0, 1870000.0, 536000.0, 2625000.0, 570000.0, 2170000.0, 1577500.0, 1460000.0, 1065000.0, 1470000.0, 1012000.0, 599000.0, 1160500.0, 1170000.0, 1314000.0, 1225000.0, 1450000.0, 1774500.0, 525500.0, 825000.0, 1262000.0, 1110000.0, 1410000.0, 1303500.0, 1115000.0, 1340000.0, 1200000.0, 1570000.0, 1001000.0, 1330000.0, 1570000.0, 1916000.0, 752000.0, 1507000.0, 700000.0, 1000000.0, 865000.0, 1042500.0, 1002000.0, 992000.0, 1301000.0, 1415500.0, 705000.0, 1260000.0, 1460000.0, 845000.0, 881000.0, 1270000.0, 780000.0, 1060000.0, 930000.0, 1420000.0, 1075000.0, 1105000.0, 1209000.0, 3010000.0, 1435000.0, 1290000.0, 1226000.0, 495000.0, 1370000.0, 1620000.0, 1405000.0, 856000.0, 885500.0, 1680000.0, 730000.0, 1430000.0, 1506000.0, 1360000.0, 784000.0, 680000.0, 1221000.0, 807000.0, 790000.0, 955000.0, 1010000.0, 1202000.0, 1370000.0, 550000.0, 935500.0, 905000.0, 860000.0, 953000.0, 947000.0, 865000.0, 466000.0, 812000.0, 766000.0, 825000.0, 1131000.0, 1210000.0, 434000.0, 640000.0, 820000.0, 1250000.0, 1335000.0, 1090000.0, 1145000.0, 763000.0, 903000.0, 1000000.0, 865000.0, 1278000.0, 1030000.0, 1136000.0, 635000.0, 1061000.0, 1155000.0, 1286000.0, 885000.0, 1400000.0, 1260000.0, 841000.0, 537500.0, 1130000.0, 598000.0, 1120000.0, 870000.0, 482500.0, 825000.0, 725000.0, 1008000.0, 599000.0, 860000.0, 451000.0, 635000.0, 967000.0, 1130000.0, 1075000.0, 845000.0, 600000.0, 1461000.0, 515000.0, 472000.0, 901000.0, 642000.0, 605000.0, 687000.0, 985000.0, 835000.0, 1370000.0, 810000.0, 838000.0, 810000.0, 241000.0, 1331000.0, 981000.0, 570000.0, 500000.0, 1194500.0, 425000.0, 895000.0, 631000.0, 600000.0, 864000.0, 700000.0, 591000.0, 860000.0, 765000.0, 625000.0, 782000.0, 935000.0, 1009000.0, 780000.0, 707000.0, 772000.0, 745000.0, 532500.0, 750000.0, 815000.0, 637000.0, 950000.0, 780000.0, 1172000.0, 530000.0, 570000.0, 2000000.0, 720000.0, 970000.0, 750000.0, 890000.0, 1260000.0, 855000.0, 1260000.0, 1320000.0, 1430000.0, 950000.0, 910000.0, 1015000.0, 1326000.0, 910000.0, 1230000.0, 855000.0, 457000.0, 897500.0, 1265000.0, 1260000.0, 1075000.0, 1470000.0, 366000.0, 981000.0, 683000.0, 1470000.0, 670000.0, 515000.0, 887500.0, 713500.0, 1500000.0, 672000.0, 1215000.0, 1645000.0, 450000.0, 1924500.0, 492500.0, 1403000.0, 1408000.0, 855000.0, 1396000.0, 1152000.0, 1868000.0, 910000.0, 1850000.0, 1225000.0, 1316000.0, 1400000.0, 2168000.0, 1430000.0, 772000.0, 2000000.0, 1300000.0, 1468000.0, 1200000.0, 1310000.0, 753000.0, 1140000.0, 1180000.0, 746000.0, 1485000.0, 1190000.0, 1030000.0, 985000.0, 1300000.0, 522500.0, 958000.0, 1462500.0, 1430000.0, 1152500.0, 1474000.0, 1391000.0, 452000.0, 1322000.0, 1401000.0, 1782000.0, 735000.0, 1520000.0, 990000.0, 878000.0, 973500.0, 1202000.0, 1362000.0, 1810000.0, 826000.0, 900000.0, 888000.0, 1901000.0, 1816000.0, 525000.0, 2050000.0, 1930000.0, 2850000.0, 1601000.0, 1190000.0, 2012000.0, 2309000.0, 1625000.0, 906000.0, 930000.0, 1755000.0, 1240000.0, 700000.0, 591000.0, 537000.0, 2600000.0, 1071000.0, 1800000.0, 2345000.0, 741000.0, 626000.0, 2160000.0, 3000000.0, 1450000.0, 2806000.0, 782000.0, 1007000.0, 500000.0, 895000.0, 751000.0, 1605000.0, 577000.0, 520000.0, 1350000.0, 507000.0, 525000.0, 2116000.0, 750000.0, 510000.0, 599999.0, 300000.0, 1395000.0, 855000.0, 955000.0, 1911000.0, 790000.0, 550000.0, 357000.0, 1210000.0, 825000.0, 582500.0, 485000.0, 1238000.0, 640000.0, 717000.0, 1875000.0, 1180000.0, 780000.0, 878500.0, 3572000.0, 1015000.0, 940000.0, 630000.0, 1700000.0, 686000.0, 765000.0, 670000.0, 1625000.0, 369000.0, 451000.0, 600000.0, 612000.0, 1561000.0, 313000.0, 1675000.0, 640000.0, 932000.0, 645000.0, 347000.0, 570000.0, 687500.0, 730000.0, 526000.0, 1830000.0, 1425000.0, 660000.0, 1900000.0, 595000.0, 911000.0, 645000.0, 1965000.0, 840000.0, 702500.0, 960000.0, 1670000.0, 1800000.0, 1365000.0, 1467000.0, 1315000.0, 2390000.0, 1240000.0, 456000.0, 325000.0, 521000.0, 645000.0, 1160000.0, 445000.0, 2620000.0, 1226000.0, 1402000.0, 897000.0, 1240000.0, 1990000.0, 855000.0, 1775000.0, 411000.0, 1275000.0, 1590000.0, 606000.0, 1385000.0, 650000.0, 460000.0, 980000.0, 1295000.0, 720000.0, 732500.0, 980000.0, 840000.0, 1001000.0, 891000.0, 800000.0, 1467000.0, 770000.0, 446000.0, 1500000.0, 1266000.0, 1134000.0, 1756000.0, 320500.0, 650000.0, 667000.0, 1610000.0, 1695000.0, 930000.0, 1870000.0, 1726000.0, 1050000.0, 1470000.0, 801500.0, 453000.0, 435000.0, 457000.0, 1460000.0, 736000.0, 405000.0, 740000.0, 2355000.0, 1255000.0, 1560000.0, 1330000.0, 1625000.0, 1150000.0, 1085000.0, 1630000.0, 872000.0, 630000.0, 440000.0, 1811000.0, 1290000.0, 1045000.0, 1290000.0, 953000.0, 820000.0, 1445000.0, 1113000.0, 1505000.0, 590000.0, 396000.0, 1580000.0, 393000.0, 260000.0, 1320000.0, 1360000.0, 765000.0, 1605000.0, 712000.0, 1425000.0, 1125000.0, 1064000.0, 1220000.0, 602000.0, 610000.0, 445000.0, 730000.0, 1730000.0, 438000.0, 510000.0, 1010000.0, 1065000.0, 805000.0, 1055000.0, 1500000.0, 1510000.0, 1145000.0, 1375000.0, 1000000.0, 1252000.0, 810000.0, 692000.0, 1780000.0, 947500.0, 1520000.0, 880000.0, 3310000.0, 1481000.0, 1440000.0, 1315000.0, 1950000.0, 597000.0, 650000.0, 1620000.0, 1600000.0, 790000.0, 1122000.0, 1300000.0, 420000.0, 715000.0, 458000.0, 710000.0, 4011000.0, 677000.0, 860000.0, 870000.0, 1116000.0, 930000.0, 2170000.0, 1008000.0, 1015000.0, 1371000.0, 1054000.0, 1055000.0, 720000.0, 1286000.0, 1655000.0, 1181000.0, 2875000.0, 990000.0, 1950000.0, 3400000.0, 1785000.0, 1315000.0, 1210000.0, 1141000.0, 1255000.0, 1290000.0, 750000.0, 674000.0, 875000.0, 1080000.0, 1851000.0, 1222500.0, 1232000.0, 899000.0, 2300000.0, 937500.0, 1710000.0, 1600000.0, 2300000.0, 1300000.0, 1300000.0, 2150000.0, 775000.0, 1581000.0, 602000.0, 1283000.0, 1450000.0, 1325000.0, 865500.0, 870000.0, 391000.0, 1130000.0, 918000.0, 860000.0, 1012000.0, 885000.0, 1315000.0, 1205000.0, 476000.0, 556000.0, 845000.0, 991000.0, 1115000.0, 420500.0, 585000.0, 1003000.0, 840000.0, 1362000.0, 977000.0, 216000.0, 876000.0, 227000.0, 841000.0, 357000.0, 910000.0, 375000.0, 1155000.0, 490000.0, 853000.0, 1290000.0, 480000.0, 775000.0, 281000.0, 1300000.0, 714000.0, 674000.0, 760000.0, 560000.0, 575000.0, 932000.0, 780000.0, 1170000.0, 375000.0, 615000.0, 747000.0, 1045000.0, 571000.0, 305000.0, 860500.0, 875000.0, 665000.0, 747000.0, 661000.0, 757500.0, 699000.0, 360000.0, 980000.0, 316000.0, 800000.0, 735000.0, 823000.0, 296000.0, 886500.0, 767500.0, 757000.0, 745000.0, 716000.0, 1735000.0, 1699000.0, 1998000.0, 671000.0, 3110000.0, 1780000.0, 1425000.0, 1530000.0, 1500000.0, 2175000.0, 2538000.0, 2115000.0, 1700000.0, 3500000.0, 1750000.0, 967500.0, 2077000.0, 2850000.0, 1222000.0, 1550000.0, 1660000.0, 1162000.0, 845000.0, 2010000.0, 2975000.0, 452000.0, 1625000.0, 1820000.0, 2376000.0, 1875000.0, 1430000.0, 2300000.0, 1625000.0, 585000.0, 680000.0, 1220000.0, 1375000.0, 920000.0, 545000.0, 1280000.0, 1825000.0, 2825000.0, 1825000.0, 328000.0, 2016000.0, 3085000.0, 1710000.0, 1765000.0, 511000.0, 1880000.0, 3860000.0, 856500.0, 690000.0, 3010000.0, 785000.0, 2200000.0, 1751000.0, 1857000.0, 1500000.0, 2725000.0, 1723000.0, 529500.0, 2800000.0, 1665000.0, 600000.0, 1420000.0, 1550000.0, 1920000.0, 2100000.0, 2950000.0, 390000.0, 3365000.0, 1390000.0, 1802000.0, 1310000.0, 1931000.0, 1250000.0, 610000.0, 610000.0, 500000.0, 806500.0, 822000.0, 670000.0, 852500.0, 1025000.0, 721000.0, 737000.0, 575500.0, 600000.0, 691000.0, 500000.0, 545000.0, 572000.0, 702000.0, 730000.0, 711500.0, 810000.0, 460000.0, 793000.0, 340000.0, 596000.0, 447500.0, 588000.0, 688000.0, 612500.0, 525000.0, 703000.0, 608000.0, 320500.0, 577000.0, 607000.0, 765500.0, 580000.0, 434500.0, 620250.0, 710000.0, 630000.0, 600000.0, 460000.0, 1217500.0, 465000.0, 741250.0, 488500.0, 787500.0, 442000.0, 726335.0, 630000.0, 670000.0, 417000.0, 660000.0, 722000.0, 825000.0, 638000.0, 631000.0, 532000.0, 500000.0, 504000.0, 468000.0, 802500.0, 485000.0, 800000.0, 610000.0, 630000.0, 870000.0, 810000.0, 840000.0, 585000.0, 772500.0, 719000.0, 700000.0, 600500.0, 730000.0, 800000.0, 918000.0, 750000.0, 740000.0, 721000.0, 646000.0, 545000.0, 770000.0, 777000.0, 722000.0, 542500.0, 631500.0, 591000.0, 725000.0, 815000.0, 715888.0, 650000.0, 468000.0, 1102000.0, 515000.0, 716000.0, 460000.0, 895000.0, 587000.0, 2800000.0, 720000.0, 3250000.0, 2140000.0, 1003500.0, 1686500.0, 1715000.0, 760000.0, 1680000.0, 2520000.0, 890000.0, 1120000.0, 2420000.0, 2880000.0, 1805000.0, 1403000.0, 1682000.0, 2600000.0, 1450000.0, 786000.0, 742000.0, 1050000.0, 1690000.0, 810000.0, 1460000.0, 1420000.0, 2400000.0, 3075000.0, 3201000.0, 875500.0, 1400000.0, 1457500.0, 1465000.0, 1610000.0, 1320000.0, 896000.0, 1450000.0, 898000.0, 1515000.0, 2980000.0, 1100000.0, 3325000.0, 691000.0, 738000.0, 1140000.0, 1460000.0, 915500.0, 1740000.0, 2450000.0, 1800000.0, 2160000.0, 1800000.0, 2439500.0, 2250000.0, 2130000.0, 400000.0, 952000.0, 1255000.0, 1020000.0, 926000.0, 1070000.0, 801000.0, 1150000.0, 472000.0, 1471000.0, 1195000.0, 1300000.0, 1416000.0, 1200000.0, 865000.0, 5100000.0, 2670000.0, 1480000.0, 348000.0, 1189000.0, 575000.0, 600000.0, 492000.0, 891000.0, 806000.0, 1155000.0, 2000000.0, 753000.0, 1420000.0, 956000.0, 418000.0, 495000.0, 525000.0, 292000.0, 430000.0, 580000.0, 1300000.0, 1300000.0, 575000.0, 2610000.0, 1741000.0, 2325000.0, 545000.0, 655000.0, 2920000.0, 488000.0, 1510000.0, 450000.0, 2065000.0, 645000.0, 1400000.0, 1712000.0, 630000.0, 3225000.0, 517000.0, 1828500.0, 3950000.0, 587500.0, 560000.0, 1936000.0, 487500.0, 630000.0, 2265000.0, 605000.0, 535000.0, 663000.0, 657500.0, 445000.0, 1180000.0, 290000.0, 805000.0, 1855000.0, 1377000.0, 665000.0, 751000.0, 1551000.0, 415000.0, 743000.0, 1535000.0, 612500.0, 2410000.0, 690000.0, 695000.0, 715000.0, 1980000.0, 1055000.0, 1976000.0, 499000.0, 495000.0, 627500.0, 710000.0, 485000.0, 3120000.0, 2160000.0, 720000.0, 1370000.0, 757000.0, 740600.0, 565000.0, 1587500.0, 758500.0, 994000.0, 725000.0, 743000.0, 785000.0, 706750.0, 584000.0, 909000.0, 1086000.0, 680000.0, 650000.0, 890000.0, 650000.0, 725000.0, 605000.0, 950000.0, 856000.0, 1060000.0, 850000.0, 915000.0, 526000.0, 570000.0, 590000.0, 920000.0, 662500.0, 1000500.0, 631000.0, 765000.0, 691000.0, 830000.0, 330000.0, 405000.0, 532000.0, 740000.0, 686000.0, 501500.0, 525500.0, 525000.0, 710000.0, 808000.0, 652000.0, 515500.0, 800000.0, 450000.0, 440500.0, 758000.0, 690500.0, 752000.0, 777000.0, 715000.0, 646250.0, 722000.0, 715000.0, 636000.0, 590000.0, 820000.0, 725000.0, 705000.0, 710000.0, 392000.0, 961000.0, 465000.0, 1550000.0, 516000.0, 1340000.0, 855000.0, 1316000.0, 828000.0, 1055000.0, 623000.0, 2120000.0, 1745000.0, 1700000.0, 375500.0, 1350000.0, 900000.0, 1262000.0, 1337000.0, 455000.0, 648000.0, 1210000.0, 1167500.0, 900000.0, 1322000.0, 1601000.0, 2265000.0, 2350000.0, 962000.0, 981000.0, 2400000.0, 890000.0, 490000.0, 739000.0, 1340000.0, 785000.0, 1155000.0, 1300000.0, 1020000.0, 1796000.0, 790000.0, 1465000.0, 855000.0, 705000.0, 504000.0, 413000.0, 1010000.0, 1220000.0, 1605000.0, 587000.0, 1075000.0, 465000.0, 690000.0, 1535000.0, 1486000.0, 750000.0, 1615000.0, 1730000.0, 779000.0, 1850000.0, 1910000.0, 2600000.0, 450000.0, 1102000.0, 1065000.0, 785000.0, 1223500.0, 845000.0, 1720000.0, 630000.0, 1460000.0, 2090000.0, 1758000.0, 700000.0, 1420000.0, 2595000.0, 500000.0, 570000.0, 515000.0, 1095000.0, 461000.0, 751000.0, 703000.0, 480000.0, 590000.0, 900000.0, 935000.0, 675000.0, 816000.0, 845000.0, 725000.0, 772000.0, 757000.0, 690000.0, 785000.0, 583000.0, 920000.0, 880000.0, 580000.0, 886000.0, 970000.0, 625000.0, 825000.0, 695000.0, 915000.0, 976000.0, 520000.0, 1420000.0, 900000.0, 380000.0, 560000.0, 1010000.0, 740000.0, 630000.0, 835000.0, 705000.0, 871000.0, 808000.0, 891000.0, 785000.0, 695000.0, 807000.0, 502000.0, 770000.0, 830000.0, 600000.0, 825000.0, 680000.0, 601200.0, 695000.0, 680000.0, 650000.0, 900000.0, 823000.0, 847000.0, 705000.0, 732000.0, 785000.0, 852000.0, 1037000.0, 775000.0, 1470000.0, 630000.0, 845000.0, 492500.0, 650000.0, 1050000.0, 961000.0, 1271000.0, 750000.0, 1675000.0, 905000.0, 960000.0, 870000.0, 1165000.0, 1455000.0, 551000.0, 442000.0, 765000.0, 1005000.0, 666000.0, 825000.0, 770000.0, 1135000.0, 975000.0, 445000.0, 1260000.0, 700000.0, 526000.0, 1365000.0, 1230000.0, 1001000.0, 1335000.0, 868000.0, 960000.0, 773000.0, 631090.0, 425000.0, 806000.0, 829000.0, 786000.0, 458000.0, 1635000.0, 4800000.0, 562500.0, 4350000.0, 1690000.0, 1490000.0, 588000.0, 882000.0, 831000.0, 2130000.0, 599000.0, 820000.0, 2200000.0, 1326000.0, 610000.0, 1875000.0, 2850000.0, 2550000.0, 1410000.0, 515000.0, 2310000.0, 890000.0, 1668000.0, 2315000.0, 800000.0, 1950000.0, 4850000.0, 2770000.0, 6500000.0, 1905000.0, 478000.0, 672000.0, 2286000.0, 765000.0, 1507000.0, 972500.0, 672000.0, 890000.0, 2117000.0, 1331000.0, 2513000.0, 1476000.0, 2590000.0, 2265000.0, 1975000.0, 2075000.0, 2240000.0, 1275000.0, 720000.0, 551000.0, 557000.0, 2460000.0, 2850000.0, 955000.0, 707500.0, 1410000.0, 732000.0, 2875000.0, 1565000.0, 1725000.0, 1750000.0, 1100000.0, 1290000.0, 1440000.0, 2245000.0, 1211000.0, 891000.0, 1420000.0, 3065000.0, 2250000.0, 2490000.0, 620000.0, 1750000.0, 605000.0, 1920000.0, 1610000.0, 1615000.0, 1300000.0, 1880000.0, 2081000.0, 1750000.0, 3028000.0, 1110000.0, 1963000.0, 1620000.0, 1770000.0, 1260000.0, 1290000.0, 670000.0, 615000.0, 715000.0, 826000.0, 711000.0, 927000.0, 485000.0, 676500.0, 721000.0, 1048000.0, 840000.0, 893000.0, 728000.0, 600000.0, 695000.0, 935000.0, 815000.0, 915000.0, 352500.0, 600000.0, 1350000.0, 746000.0, 1060000.0, 740000.0, 770000.0, 657000.0, 830000.0, 675000.0, 600000.0, 773000.0, 905000.0, 570500.0, 2050000.0, 2300000.0, 3460000.0, 569000.0, 1950000.0, 1895000.0, 635000.0, 1611000.0, 3800000.0, 4700000.0, 2415000.0, 1437000.0, 500000.0, 1155000.0, 3010000.0, 2355000.0, 4240000.0, 927000.0, 1326000.0, 660000.0, 1617000.0, 3470000.0, 740000.0, 2325000.0, 1970000.0, 405000.0, 1475000.0, 584000.0, 2300000.0, 1490000.0, 1210000.0, 1300000.0, 980000.0, 2355000.0, 1036000.0, 2273000.0, 447000.0, 790000.0, 2250000.0, 1185000.0, 1837000.0, 1105000.0, 1253000.0, 720000.0, 922000.0, 4802500.0, 1555000.0, 2123000.0, 2800000.0, 2305000.0, 1600000.0, 2001000.0, 1690000.0, 1135000.0, 1625000.0, 1500000.0, 1400000.0, 707500.0, 835000.0, 1870000.0, 820000.0, 480000.0, 1420000.0, 1370000.0, 1680000.0, 2960000.0, 1300000.0, 1750000.0, 1230000.0, 536000.0, 2412000.0, 960000.0, 315000.0, 1297000.0, 1015000.0, 523000.0, 1335000.0, 1670000.0, 1650000.0, 1782500.0, 2490000.0, 650000.0, 399000.0, 1105000.0, 730000.0, 425000.0, 662500.0, 986500.0, 410000.0, 1320000.0, 990000.0, 1011000.0, 847000.0, 1072000.0, 479000.0, 470000.0, 488000.0, 940000.0, 570000.0, 335000.0, 429000.0, 495000.0, 566000.0, 408000.0, 1040000.0, 1460000.0, 1215000.0, 1117000.0, 420000.0, 905000.0, 1151000.0, 907000.0, 940000.0, 1030000.0, 1350000.0, 884500.0, 1010000.0, 330000.0, 427000.0, 1160500.0, 535000.0, 665000.0, 386000.0, 659000.0, 432000.0, 750000.0, 680000.0, 483000.0, 610000.0, 440000.0, 436000.0, 733000.0, 1630000.0, 760000.0, 2350000.0, 2956000.0, 535000.0, 400000.0, 1020000.0, 1515000.0, 2360000.0, 2005000.0, 3120000.0, 1025000.0, 1920000.0, 2623000.0, 2850000.0, 750000.0, 665000.0, 2714000.0, 2200000.0, 1310000.0, 540000.0, 2335000.0, 2000000.0, 1815000.0, 666000.0, 1200000.0, 1564000.0, 670000.0, 1715000.0, 1055000.0, 348000.0, 1780000.0, 1730000.0, 1440000.0, 1445000.0, 1400000.0, 1170000.0, 675000.0, 1530000.0, 832000.0, 2400000.0, 565000.0, 1211000.0, 2405000.0, 1630000.0, 1160000.0, 1065000.0, 1361500.0, 945000.0, 860000.0, 1260000.0, 1637000.0, 1505000.0, 1322000.0, 1015000.0, 1013000.0, 1150000.0, 890500.0, 2340000.0, 1370000.0, 1310000.0, 855000.0, 930000.0, 1640000.0, 1480000.0, 410000.0, 1055000.0, 1435000.0, 1275000.0, 842500.0, 849000.0, 726000.0, 1250000.0, 870000.0, 801000.0, 415000.0, 600000.0, 1505000.0, 850000.0, 292000.0, 1740000.0, 574000.0, 1130000.0, 831000.0, 930000.0, 1111000.0, 900000.0, 822500.0, 1400000.0, 336000.0, 800000.0, 1224000.0, 1020000.0, 1000000.0, 380500.0, 947500.0, 836000.0, 1417250.0, 1110000.0, 931000.0, 1000000.0, 655000.0, 1200000.0, 987000.0, 937000.0, 1426000.0, 1016000.0, 910000.0, 1385000.0, 785000.0, 901000.0, 1300000.0, 975000.0, 1070000.0, 639000.0, 605000.0, 960000.0, 981000.0, 921000.0, 917000.0, 1008000.0, 1191000.0, 1130000.0, 776000.0, 1035000.0, 920000.0, 1160000.0, 800000.0, 1105000.0, 826000.0, 962000.0, 800000.0, 785000.0, 710000.0, 655800.0, 1082000.0, 880000.0, 335000.0, 1380000.0, 1220000.0, 785000.0, 962000.0, 1220000.0, 1305000.0, 485000.0, 950000.0, 910000.0, 810000.0, 776000.0, 1002500.0, 807500.0, 1120000.0, 950000.0, 1620000.0, 923000.0, 1030000.0, 716000.0, 740000.0, 970000.0, 735000.0, 762000.0, 950000.0, 1280000.0, 1040000.0, 922000.0, 2415000.0, 1115000.0, 1675000.0, 1176000.0, 1265000.0, 1185000.0, 770000.0, 805000.0, 827500.0, 793000.0, 747000.0, 910000.0, 896000.0, 1199000.0, 2015000.0, 1151000.0, 820000.0, 1040000.0, 1316000.0, 816000.0, 945000.0, 760000.0, 881000.0, 830000.0, 1330000.0, 1235000.0, 457000.0, 660000.0, 770000.0, 895500.0, 617500.0, 490000.0, 800000.0, 991000.0, 970000.0, 657000.0, 710000.0, 840000.0, 975000.0, 785000.0, 840000.0, 1076000.0, 850000.0, 1080000.0, 773000.0, 700000.0, 760000.0, 1190000.0, 1015000.0, 1020000.0, 773000.0, 1100000.0, 1007000.0, 1155000.0, 746000.0, 1105000.0, 591000.0, 815000.0, 2920000.0, 1635000.0, 540000.0, 340000.0, 726000.0, 1340000.0, 1105000.0, 841000.0, 645000.0, 475000.0, 640000.0, 1330000.0, 720000.0, 888000.0, 1325000.0, 1300000.0, 1385000.0, 990000.0, 606000.0, 1470000.0, 591500.0, 1010000.0, 1266000.0, 620000.0, 540000.0, 560000.0, 665500.0, 320000.0, 598000.0, 950000.0, 1065000.0, 885000.0, 1286000.0, 1200000.0, 630000.0, 1035000.0, 1980000.0, 592000.0, 1335000.0, 950000.0, 1950000.0, 905000.0, 1255000.0, 601000.0, 1020000.0, 435000.0, 990000.0, 605000.0, 2270000.0, 900000.0, 1340000.0, 1300000.0, 1112000.0, 910000.0, 830000.0, 1190000.0, 865000.0, 2175000.0, 1085000.0, 312000.0, 890000.0, 2700000.0, 1101000.0, 926000.0, 1010000.0, 2155000.0, 1020000.0, 1160000.0, 844000.0, 1860000.0, 1676000.0, 900000.0, 1300000.0, 410000.0, 1255000.0, 1085000.0, 1170000.0, 875000.0, 1715000.0, 1396500.0, 422000.0, 1474000.0, 1340000.0, 980000.0, 1035000.0, 1760000.0, 975000.0, 1095000.0, 1121000.0, 2004000.0, 1211000.0, 1400000.0, 770000.0, 1830000.0, 600000.0, 692000.0, 980000.0, 1310000.0, 1050000.0, 1700000.0, 2160000.0, 1610000.0, 1420000.0, 1950000.0, 1080000.0, 1400000.0, 1340000.0, 2340000.0, 910000.0, 1650000.0, 1130000.0, 2315000.0, 892000.0, 592000.0, 647000.0, 865000.0, 1350000.0, 476000.0, 920000.0, 522000.0, 358500.0, 690000.0, 800000.0, 770000.0, 727500.0, 925000.0, 651000.0, 815500.0, 770000.0, 585500.0, 1005000.0, 855333.0, 480000.0, 680000.0, 981000.0, 876000.0, 875000.0, 802000.0, 995000.0, 881500.0, 900000.0, 937500.0, 1080000.0, 1000000.0, 1235000.0, 921000.0, 1900000.0, 800000.0, 1067000.0, 1310000.0, 800000.0, 1260500.0, 850500.0, 625000.0, 980500.0, 1068000.0, 1126000.0, 778000.0, 1230000.0, 1360000.0, 1805000.0, 352500.0, 307000.0, 2200000.0, 1717500.0, 1265000.0, 401000.0, 2375000.0, 1851000.0, 1928000.0, 2236000.0, 500000.0, 1403000.0, 1040000.0, 526000.0, 1120000.0, 770000.0, 915000.0, 975000.0, 770000.0, 780000.0, 600000.0, 1465000.0, 955000.0, 767000.0, 1196000.0, 731000.0, 555000.0, 585000.0, 386000.0, 452000.0, 522500.0, 601500.0, 1305000.0, 741000.0, 495000.0, 1345000.0, 815000.0, 775000.0, 990000.0, 915000.0, 900000.0, 810000.0, 920000.0, 790000.0, 485000.0, 488000.0, 683500.0, 815000.0, 970000.0, 940000.0, 600000.0, 510000.0, 983000.0, 474000.0, 810000.0, 723000.0, 550500.0, 610000.0, 630000.0, 616000.0, 792000.0, 960000.0, 670000.0, 855000.0, 690000.0, 880000.0, 700000.0, 721000.0, 1570000.0, 525500.0, 612500.0, 248500.0, 960000.0, 1085000.0, 937000.0, 775000.0, 1100000.0, 1150000.0, 985000.0, 2200000.0, 2105000.0, 550000.0, 1915000.0, 1630000.0, 1000000.0, 1470000.0, 1234500.0, 1342000.0, 500000.0, 795000.0, 1502000.0, 1421000.0, 720000.0, 1275000.0, 1820000.0, 420000.0, 1916000.0, 577000.0, 655000.0, 1016500.0, 1350000.0, 1560000.0, 1070000.0, 1060000.0, 1610000.0, 1101000.0, 880000.0, 1080000.0, 1115000.0, 1753000.0, 825000.0, 2350000.0, 1565000.0, 1670000.0, 1402000.0, 1570000.0, 1515000.0, 1155000.0, 1150000.0, 875000.0, 1384000.0, 1405000.0, 655000.0, 2260000.0, 1130000.0, 1305000.0, 720000.0, 520000.0, 670000.0, 1100000.0, 1010000.0, 779000.0, 455500.0, 1400000.0, 1655000.0, 600000.0, 1014000.0, 1351000.0, 2460000.0, 3705000.0, 1180000.0, 1350000.0, 2100000.0, 735000.0, 900000.0, 2160000.0, 1380000.0, 1080000.0, 342000.0, 781000.0, 549800.0, 492000.0, 500500.0, 1240000.0, 1400000.0, 710000.0, 1430000.0, 830000.0, 1182500.0, 1303000.0, 1210000.0, 1730000.0, 1358000.0, 1106000.0, 1650000.0, 1590000.0, 1055000.0, 700000.0, 473000.0, 1200000.0, 1651000.0, 1460000.0, 841000.0, 1310000.0, 1530000.0, 560000.0, 1300000.0, 815000.0, 765000.0, 910000.0, 1540000.0, 1811000.0, 1180000.0, 1015000.0, 1720000.0, 1050000.0, 1582000.0, 681000.0, 1820000.0, 1305000.0, 1255000.0, 2180000.0, 1720000.0, 1021000.0, 1220000.0, 1500000.0, 1612000.0, 1442000.0, 1250000.0, 930000.0, 900000.0, 1004000.0, 721000.0, 751000.0, 835000.0, 637000.0, 1265000.0, 1082000.0, 715000.0, 837000.0, 840000.0, 496000.0, 931000.0, 942000.0, 850000.0, 560000.0, 1150000.0, 965000.0, 700000.0, 615000.0, 775000.0, 735000.0, 1000000.0, 810000.0, 600000.0, 925000.0, 305000.0, 656000.0, 916000.0, 914000.0, 1650000.0, 512000.0, 722000.0, 910000.0, 635000.0, 485000.0, 690000.0, 1065000.0, 1200000.0, 798000.0, 850000.0, 1355000.0, 815000.0, 971000.0, 530000.0, 930000.0, 842000.0, 980000.0, 800000.0, 930000.0, 886000.0, 1040000.0, 660000.0, 436000.0, 876000.0, 1000000.0, 928000.0, 1070000.0, 565000.0, 714000.0, 770000.0, 1226000.0, 1127000.0, 980000.0, 1315000.0, 780000.0, 986000.0, 771000.0, 850000.0, 890000.0, 1088000.0, 1123000.0, 890000.0, 1050000.0, 515000.0, 1040000.0, 520000.0, 605000.0, 890000.0, 790000.0, 1000000.0, 860000.0, 630000.0, 810000.0, 875000.0, 923000.0, 871000.0, 1330000.0, 950000.0, 821000.0, 888500.0, 870000.0, 1030000.0, 1615000.0, 715000.0, 610000.0, 1162500.0, 1142500.0, 875000.0, 805000.0, 475000.0, 731000.0, 723000.0, 336000.0, 685000.0, 620000.0, 1025000.0, 490000.0, 805000.0, 770000.0, 645000.0, 1005000.0, 931000.0, 810000.0, 535000.0, 920000.0, 800000.0, 502500.0, 405000.0, 620500.0, 730000.0, 665000.0, 357500.0, 427500.0, 851000.0, 998000.0, 1030000.0, 498000.0, 410000.0, 450000.0, 900000.0, 1015000.0, 915000.0, 380000.0, 468000.0, 800000.0, 380000.0, 600000.0, 592000.0, 611000.0, 416000.0, 890000.0, 865000.0, 436000.0, 432000.0, 836000.0, 401000.0, 491000.0, 420000.0, 780000.0, 520000.0, 555000.0, 350000.0, 678000.0, 812000.0, 495000.0, 644000.0, 895500.0, 500000.0, 940000.0, 755000.0, 568000.0, 452000.0, 585000.0, 546000.0, 1700000.0, 592500.0, 830000.0, 360000.0, 410000.0, 811000.0, 765000.0, 376000.0, 323000.0, 680000.0, 530000.0, 786000.0, 650000.0, 540000.0, 685000.0, 830000.0, 539000.0, 622500.0, 767500.0, 668000.0, 1215000.0, 1120000.0, 470000.0, 655000.0, 885000.0, 510000.0, 703000.0, 424000.0, 750000.0, 613000.0, 779000.0, 425000.0, 791000.0, 475000.0, 950000.0, 352000.0, 791000.0, 905000.0, 480000.0, 767000.0, 871000.0, 921500.0, 490000.0, 787000.0, 335000.0, 670500.0, 1050000.0, 851500.0, 623500.0, 572000.0, 600000.0, 525000.0, 692500.0, 790000.0, 785000.0, 925000.0, 700000.0, 801000.0, 216000.0, 220000.0, 866000.0, 500250.0, 810000.0, 790000.0, 465000.0, 601000.0, 772000.0, 968000.0, 928000.0, 300000.0, 885000.0, 815000.0, 882500.0, 793000.0, 477000.0, 433000.0, 672000.0, 680000.0, 751000.0, 851000.0, 777000.0, 1162000.0, 1025000.0, 762500.0, 832000.0, 784000.0, 665000.0, 405000.0, 431000.0, 885000.0, 718500.0, 762500.0, 737000.0, 810000.0, 610000.0, 430000.0, 680000.0, 705000.0, 705000.0, 937000.0, 1260000.0, 1236000.0, 795250.0, 582000.0, 1600000.0, 370000.0, 3335000.0, 935000.0, 1102000.0, 479000.0, 479000.0, 1042500.0, 1130000.0, 561000.0, 635000.0, 1025000.0, 1102000.0, 1152500.0, 1375000.0, 1422000.0, 1506000.0, 1090000.0, 327000.0, 1555000.0, 815000.0, 345000.0, 695000.0, 512000.0, 855000.0, 1040000.0, 342000.0, 681000.0, 1250000.0, 990000.0, 1189000.0, 1220000.0, 1220000.0, 1100000.0, 1346000.0, 1340000.0, 1421000.0, 1074000.0, 1205000.0, 1430000.0, 1465000.0, 1035000.0, 530000.0, 930000.0, 1182000.0, 1115000.0, 1420000.0, 390000.0, 3020000.0, 1346000.0, 680000.0, 1081000.0, 860000.0, 1820000.0, 905000.0, 691000.0, 1088000.0, 911000.0, 3001000.0, 638000.0, 951000.0, 912000.0, 415000.0, 1285000.0, 1220000.0, 900000.0, 1695000.0, 1365000.0, 1088000.0, 1765000.0, 1045000.0, 1591000.0, 402000.0, 1275000.0, 1035000.0, 931000.0, 2640000.0, 842000.0, 1456000.0, 1145000.0, 1220000.0, 895000.0, 1430000.0, 1045000.0, 2000000.0, 646000.0, 1145000.0, 1285000.0, 905000.0, 750000.0, 1645000.0, 945000.0, 306000.0, 1270000.0, 1105000.0, 965000.0, 1100000.0, 1850000.0, 1650000.0, 1320000.0, 1651000.0, 1032000.0, 915000.0, 1075000.0, 791500.0, 1600000.0, 1555000.0, 1361000.0, 1540000.0, 1582000.0, 712000.0, 1012000.0, 1570000.0, 1345000.0, 696000.0, 1405000.0, 362000.0, 760000.0, 807000.0, 1495000.0, 1410000.0, 1775000.0, 360000.0, 1270000.0, 827500.0, 1165000.0, 1185000.0, 1212500.0, 1125000.0, 1520000.0, 1101500.0, 971000.0, 1155000.0, 531000.0, 780000.0, 2530000.0, 633000.0, 725000.0, 600000.0, 1245000.0, 430000.0, 860000.0, 1012000.0, 1610000.0, 1200000.0, 1270000.0, 515000.0, 780000.0, 1000000.0, 945000.0, 618000.0, 1720000.0, 601000.0, 852000.0, 452000.0, 1021000.0, 710000.0, 990000.0, 908000.0, 1145000.0, 970000.0, 450000.0, 1330000.0, 937500.0, 1201000.0, 990000.0, 780000.0, 965000.0, 1001000.0, 875000.0, 990000.0, 1126000.0, 881000.0, 533000.0, 1200000.0, 355000.0, 887000.0, 965000.0, 1270000.0, 1310000.0, 815000.0, 593000.0, 920500.0, 1620000.0, 1002000.0, 1355000.0, 1270000.0, 2633000.0, 760500.0, 1150000.0, 595000.0, 490000.0, 1250000.0, 862000.0, 2180000.0, 600000.0, 612000.0, 2000000.0, 770000.0, 561000.0, 1825000.0, 891000.0, 1450000.0, 1360000.0, 1615000.0, 480000.0, 1185000.0, 2300000.0, 1720000.0, 2075000.0, 2525000.0, 430000.0, 930000.0, 1230000.0, 965000.0, 1510000.0, 402000.0, 1880000.0, 422000.0, 535000.0, 978500.0, 863000.0, 680000.0, 750000.0, 510000.0, 465000.0, 801000.0, 409000.0, 1250000.0, 480000.0, 2325000.0, 865000.0, 1455000.0, 1365000.0, 411000.0, 360500.0, 625000.0, 2430000.0, 490000.0, 380000.0, 601000.0, 1500000.0, 555000.0, 5700000.0, 2870000.0, 805000.0, 1036500.0, 627500.0, 1072000.0, 550000.0, 400000.0, 1700000.0, 613000.0, 1240000.0, 832000.0, 693000.0, 551000.0, 740000.0, 2285000.0, 450000.0, 805000.0, 630000.0, 600000.0, 2115000.0, 523000.0, 2395000.0, 920000.0, 400000.0, 1810000.0, 612000.0, 567500.0, 540000.0, 803000.0, 1945000.0, 906000.0, 367000.0, 1130000.0, 410000.0, 840000.0, 635000.0, 680500.0, 613000.0, 827000.0, 480000.0, 660000.0, 621500.0, 2667000.0, 1700000.0, 1056800.0, 410000.0, 260800.0, 1200000.0, 1540000.0, 826000.0, 910000.0, 1715000.0, 505000.0, 687000.0, 720000.0, 385500.0, 590000.0, 990000.0, 623000.0, 592500.0, 600000.0, 455000.0, 569000.0, 1220000.0, 1250000.0, 660000.0, 622500.0, 690000.0, 540000.0, 1040000.0, 855000.0, 832500.0, 850000.0, 1080000.0, 927000.0, 831000.0, 835000.0, 840000.0, 1315000.0, 1035000.0, 1161000.0, 775000.0, 690000.0, 1070000.0, 509000.0, 430000.0, 640000.0, 602000.0, 500000.0, 1891000.0, 2220000.0, 2455000.0, 685000.0, 380000.0, 465000.0, 616000.0, 875000.0, 610000.0, 451000.0, 455000.0, 487500.0, 560000.0, 2720000.0, 370500.0, 5046000.0, 1900000.0, 571000.0, 392000.0, 570000.0, 561000.0, 1220000.0, 503500.0, 360000.0, 1295000.0, 481000.0, 582000.0, 366000.0, 808000.0, 1316000.0, 640000.0, 875000.0, 431000.0, 575000.0, 757500.0, 4400000.0, 610000.0, 420000.0, 1250000.0, 360000.0, 535000.0, 1200500.0, 452000.0, 482300.0, 902000.0, 1365000.0, 1950000.0, 1678000.0, 760000.0, 700000.0, 1030000.0, 1100000.0, 1225000.0, 400000.0, 648000.0, 354000.0, 475000.0, 905000.0, 1052000.0, 1015000.0, 1265000.0, 1025000.0, 1430000.0, 1330000.0, 1200000.0, 1321000.0, 1635000.0, 1194000.0, 1440000.0, 910000.0, 1430000.0, 915000.0, 622500.0, 1485000.0, 1080000.0, 1715000.0, 2650000.0, 630000.0, 535000.0, 1075000.0, 1400000.0, 1160000.0, 1370000.0, 1285000.0, 950000.0, 625000.0, 710000.0, 735000.0, 1001000.0, 780000.0, 710000.0, 1350500.0, 490000.0, 657500.0, 1030000.0, 620000.0, 460000.0, 470000.0, 910000.0, 702000.0, 580000.0, 490000.0, 890000.0, 675000.0, 425000.0, 715000.0, 816000.0, 825000.0, 595000.0, 735000.0, 610000.0, 600000.0, 591000.0, 590000.0, 691000.0, 701000.0, 688000.0, 611000.0, 655000.0, 551000.0, 888000.0, 607500.0, 850000.0, 590000.0, 555000.0, 605000.0, 930000.0, 880000.0, 571000.0, 835000.0, 625000.0, 695000.0, 794000.0, 890000.0, 607000.0, 679500.0, 895000.0, 762500.0, 720000.0, 590000.0, 711000.0, 1001000.0, 591500.0, 716000.0, 701000.0, 620500.0, 435000.0, 607000.0, 600000.0, 560000.0, 626800.0, 670000.0, 571500.0, 685000.0, 690000.0, 605000.0, 808000.0, 790000.0, 640000.0, 736000.0, 725000.0, 715000.0, 735000.0, 432500.0, 621000.0, 700000.0, 1190000.0, 591000.0, 665000.0, 710000.0, 705000.0, 520000.0, 503000.0, 1000000.0, 871000.0, 496000.0, 488000.0, 560000.0, 615000.0, 625000.0, 645400.0, 680000.0, 620000.0, 545000.0, 515000.0, 601000.0, 687000.0, 668000.0, 485000.0, 665000.0, 825000.0, 544500.0, 621000.0, 575000.0, 593000.0, 690000.0, 625000.0, 660000.0, 547500.0, 590000.0, 555000.0, 587000.0, 622500.0, 350000.0, 657000.0, 795000.0, 682000.0, 520000.0, 470000.0, 586000.0, 705000.0, 486000.0, 530000.0, 715000.0, 545000.0, 750500.0, 451000.0, 2440000.0, 1110000.0, 2128000.0, 2009000.0, 1330500.0, 930000.0, 745000.0, 2100000.0, 1910000.0, 1018000.0, 2200000.0, 736000.0, 770000.0, 2345000.0, 2860000.0, 1530000.0, 1812500.0, 760000.0, 1864000.0, 1960000.0, 1455000.0, 2630000.0, 880000.0, 1755000.0, 1700000.0, 805000.0, 2003000.0, 831000.0, 1350000.0, 1150000.0, 823000.0, 770500.0, 2060000.0, 1725000.0, 620000.0, 562500.0, 1850000.0, 656000.0, 1650000.0, 1518000.0, 1560000.0, 1185000.0, 865000.0, 1135000.0, 899000.0, 2300000.0, 520000.0, 2450000.0, 2760000.0, 813000.0, 1205000.0, 1251000.0, 778500.0, 1751000.0, 694000.0, 1150000.0, 1165000.0, 1098000.0, 742500.0, 1257000.0, 1101000.0, 641000.0, 1200000.0, 1290000.0, 1421000.0, 1051000.0, 1065000.0, 1710000.0, 678000.0, 1010000.0, 1325000.0, 766000.0, 982000.0, 725000.0, 975000.0, 1211000.0, 1155000.0, 940000.0, 1053000.0, 1002000.0, 755000.0, 1209000.0, 2080000.0, 1118000.0, 903000.0, 1222000.0, 2025000.0, 1182500.0, 1020000.0, 838000.0, 1509000.0, 1358500.0, 470000.0, 517500.0, 805000.0, 940000.0, 910000.0, 1135000.0, 365000.0, 1430000.0, 525500.0, 970000.0, 887000.0, 701000.0, 740000.0, 795000.0, 1265000.0, 1085000.0, 898000.0, 1235000.0, 995000.0, 760000.0, 505000.0, 1200000.0, 920000.0, 1110000.0, 560000.0, 450000.0, 1190000.0, 1020000.0, 1245000.0, 874000.0, 1427000.0, 295000.0, 383000.0, 1164000.0, 315000.0, 605000.0, 900000.0, 1620000.0, 1143000.0, 925000.0, 1070000.0, 371000.0, 486000.0, 1211000.0, 466000.0, 1280000.0, 1913000.0, 1272000.0, 972000.0, 928500.0, 432500.0, 1370000.0, 601000.0, 1430000.0, 1435000.0, 546000.0, 1635000.0, 876000.0, 620000.0, 5500000.0, 1689000.0, 517500.0, 701500.0, 925000.0, 838000.0, 1635000.0, 2400000.0, 345000.0, 6250000.0, 541000.0, 2205000.0, 2050000.0, 2170000.0, 950000.0, 531000.0, 575000.0, 366000.0, 2620000.0, 4000000.0, 857000.0, 4200000.0, 3260000.0, 1900000.0, 690000.0, 525000.0, 3270000.0, 866000.0, 1170000.0, 920000.0, 910000.0, 960000.0, 556000.0, 1010000.0, 920250.0, 1080000.0, 770000.0, 820000.0, 1102500.0, 1005000.0, 546000.0, 765000.0, 920000.0, 895000.0, 1042500.0, 1025000.0, 895000.0, 820000.0, 1085000.0, 915000.0, 660000.0, 581000.0, 1000000.0, 785000.0, 690000.0, 582000.0, 740000.0, 671000.0, 706000.0, 725000.0, 808000.0, 711000.0, 537000.0, 1171000.0, 662000.0, 800000.0, 922000.0, 485000.0, 860500.0, 702000.0, 627500.0, 601000.0, 549000.0, 342500.0, 701000.0, 645000.0, 838000.0, 1010000.0, 650000.0, 1260000.0, 2370000.0, 550000.0, 1055000.0, 995000.0, 443000.0, 1120000.0, 620000.0, 2100000.0, 601000.0, 1325000.0, 1400000.0, 1535000.0, 890000.0, 1050000.0, 2640000.0, 1200000.0, 3130000.0, 1460000.0, 1200000.0, 1575000.0, 1085000.0, 1470000.0, 2230000.0, 1460000.0, 940000.0, 1330000.0, 1010000.0, 450000.0, 513500.0, 1000000.0, 415000.0, 1805000.0, 1000000.0, 769000.0, 1270000.0, 1172000.0, 1360000.0, 2050000.0, 1310000.0, 491500.0, 965000.0, 1262000.0, 1210000.0, 811000.0, 1630000.0, 920000.0, 1482500.0, 2255000.0, 1860000.0, 2440000.0, 331000.0, 285000.0, 367500.0, 825000.0, 2302000.0, 1045000.0, 611000.0, 600000.0, 800000.0, 1325000.0, 1540000.0, 1370000.0, 372000.0, 412500.0, 452000.0, 650000.0, 1605000.0, 600000.0, 1500000.0, 830000.0, 623000.0, 518000.0, 2368000.0, 1350000.0, 1200000.0, 1320000.0, 580000.0, 474000.0, 1350000.0, 1910000.0, 700000.0, 915000.0, 810000.0, 753000.0, 602500.0, 742000.0, 953000.0, 840000.0, 650000.0, 793000.0, 731000.0, 710000.0, 720000.0, 720000.0, 936000.0, 800000.0, 721000.0, 1000000.0, 1165000.0, 1550000.0, 871000.0, 780000.0, 890000.0, 960000.0, 960000.0, 710000.0, 1320000.0, 782000.0, 931000.0, 910000.0, 856000.0, 706000.0, 1050000.0, 1414000.0, 1815000.0, 1870000.0, 1785000.0, 1930000.0, 1035000.0, 1040000.0, 1050000.0, 850000.0, 796000.0, 1055000.0, 681000.0, 345000.0, 955000.0, 822000.0, 760000.0, 1200000.0, 1005000.0, 381000.0, 1150000.0, 781500.0, 1401000.0, 630000.0, 1137500.0, 925000.0, 745000.0, 1158000.0, 867000.0, 955000.0, 725000.0, 767000.0, 951000.0, 1028000.0, 740000.0, 1450000.0, 780000.0, 908000.0, 1380000.0, 966000.0, 845000.0, 1287000.0, 980000.0, 840000.0, 900500.0, 850000.0, 940000.0, 380000.0, 1646000.0, 442000.0, 470000.0, 1346000.0, 1300000.0, 3900000.0, 1160000.0, 1705000.0, 1190000.0, 1740000.0, 1860000.0, 1195000.0, 726000.0, 373000.0, 2400000.0, 1350000.0, 773000.0, 885000.0, 770000.0, 855000.0, 828000.0, 676000.0, 1310000.0, 856000.0, 580000.0, 675000.0, 940000.0, 1495000.0, 1550000.0, 1815000.0, 1625000.0, 435000.0, 1900000.0, 1080000.0, 1280000.0, 656000.0, 1290000.0, 1170000.0, 510000.0, 1574000.0, 665000.0, 1024000.0, 1125000.0, 1679000.0, 957000.0, 998000.0, 1010000.0, 910000.0, 1050000.0, 445000.0, 970000.0, 1600000.0, 570000.0, 1335000.0, 805000.0, 892000.0, 1202500.0, 1435000.0, 455000.0, 1460000.0, 1662000.0, 610250.0, 795000.0, 705000.0, 435000.0, 1630100.0, 500000.0, 1010000.0, 875000.0, 1170000.0, 2033000.0, 1110000.0, 2705000.0, 1616000.0, 585000.0, 1162000.0, 589000.0, 2345000.0, 1117000.0, 957000.0, 4525000.0, 3520000.0, 1015000.0, 1400000.0, 1475000.0, 872000.0, 1422000.0, 1245000.0, 1430000.0, 1345000.0, 787500.0, 685000.0, 652500.0, 1300000.0, 925000.0, 1110000.0, 1115000.0, 670000.0, 687000.0, 455000.0, 378000.0, 585000.0, 615000.0, 665000.0, 526000.0, 540000.0, 625000.0, 681000.0, 660000.0, 783000.0, 635000.0, 553500.0, 619000.0, 570500.0, 288000.0, 615000.0, 751000.0, 609000.0, 605000.0, 691500.0, 538000.0, 750000.0, 771000.0, 400000.0, 527000.0, 538000.0, 860000.0, 550000.0, 540000.0, 643000.0, 631000.0, 782000.0, 700500.0, 532000.0, 575000.0, 562000.0, 620000.0, 655000.0, 1010000.0, 480000.0, 492000.0, 422500.0, 1550000.0, 2151000.0, 1140000.0, 1220000.0, 3350000.0, 665500.0, 1865000.0, 1700000.0, 1615000.0, 490000.0, 1110000.0, 1425000.0, 3100000.0, 887000.0, 1585000.0, 3050000.0, 2800000.0, 573000.0, 2381000.0, 1738000.0, 1582000.0, 735000.0, 2920000.0, 1790000.0, 1335000.0, 1825000.0, 3210000.0, 840000.0, 3310000.0, 444000.0, 1538000.0, 1240000.0, 2450000.0, 1590000.0, 3020000.0, 1625000.0, 568000.0, 706000.0, 2350000.0, 1385000.0, 1666000.0, 430000.0, 2040000.0, 505000.0, 622000.0, 1650000.0, 701000.0, 1100000.0, 546500.0, 620000.0, 1220000.0, 705000.0, 420000.0, 1705000.0, 579000.0, 1110000.0, 1115000.0, 1000000.0, 1401000.0, 808000.0, 1031000.0, 600000.0, 1195000.0, 830000.0, 1076000.0, 1362000.0, 1375000.0, 1400000.0, 475000.0, 1030000.0, 1605000.0, 2150000.0, 1740000.0, 1660000.0, 1260000.0, 2200000.0, 485000.0, 1651000.0, 1797000.0, 405000.0, 551000.0, 425000.0, 537000.0, 600000.0, 611000.0, 495000.0, 472500.0, 421000.0, 980000.0, 731000.0, 610000.0, 380000.0, 690000.0, 607500.0, 705500.0, 1155000.0, 817000.0, 677500.0, 630000.0, 730000.0, 440000.0, 967500.0, 210000.0, 1340000.0, 925000.0, 1336000.0, 1500000.0, 1470000.0, 1160000.0, 1100000.0, 690000.0, 740000.0, 975000.0, 680000.0, 825000.0, 435000.0, 1370000.0, 1355000.0, 785000.0, 1420000.0, 1610000.0, 290000.0, 910500.0, 331000.0, 685000.0, 256500.0, 1365000.0, 720000.0, 861500.0, 1670000.0, 692000.0, 603000.0, 1076000.0, 291000.0, 1090000.0, 1220000.0, 1641000.0, 745500.0, 1260000.0, 1715000.0, 1960000.0, 1708000.0, 758000.0, 1920000.0, 1256000.0, 1918000.0, 900000.0, 1875000.0, 1250000.0, 1770000.0, 435000.0, 1836000.0, 1250000.0, 950000.0, 822500.0, 810000.0, 1322000.0, 861000.0, 765000.0, 1845000.0, 1535000.0, 2005000.0, 932000.0, 475000.0, 1668000.0, 1470000.0, 981000.0, 1197000.0, 447000.0, 1177000.0, 617500.0, 479500.0, 2050000.0, 1061000.0, 912500.0, 1074000.0, 1021000.0, 837000.0, 850000.0, 850000.0, 438000.0, 360000.0, 620000.0, 415000.0, 723000.0, 967000.0, 840000.0, 241000.0, 910000.0, 470000.0, 820000.0, 756000.0, 845000.0, 620000.0, 1001000.0, 520000.0, 915000.0, 830000.0, 913000.0, 850000.0, 705000.0, 709000.0, 900000.0, 790000.0, 770000.0, 495000.0, 1575000.0, 326500.0, 1028000.0, 860000.0, 805000.0, 450000.0, 935000.0, 456000.0, 660000.0, 820000.0, 1030000.0, 878000.0, 730000.0, 730000.0, 816000.0, 720000.0, 670000.0, 685000.0, 185000.0, 463000.0, 660000.0, 560000.0, 791000.0, 541000.0, 760000.0, 840000.0, 460000.0, 892000.0, 695000.0, 1160000.0, 1330000.0, 695000.0, 812000.0, 630000.0, 636500.0, 2575000.0, 445000.0, 710000.0, 640000.0, 1010000.0, 1076000.0, 1045000.0, 1225000.0, 1035000.0, 690000.0, 1045000.0, 1033000.0, 991000.0, 1641000.0, 655000.0, 1025000.0, 637000.0, 633500.0, 1180000.0, 1124000.0, 1225000.0, 665000.0, 605000.0, 660000.0, 327000.0, 570000.0, 755000.0, 520000.0, 1000000.0, 725000.0, 1280000.0, 1000000.0, 546000.0, 895000.0, 1015000.0, 930000.0, 662500.0, 831000.0, 1110000.0, 565000.0, 1010000.0, 1300000.0, 1300000.0, 1370000.0, 930000.0, 985000.0, 941000.0, 508000.0, 506000.0, 1260000.0, 931999.0, 800000.0, 950000.0, 503000.0, 1257000.0, 1380000.0, 1335000.0, 1000000.0, 1415000.0, 720000.0, 380000.0, 843000.0, 501000.0, 820500.0, 746000.0, 685000.0, 455000.0, 600000.0, 575000.0, 566000.0, 440000.0, 595000.0, 2200000.0, 1908000.0, 1330000.0, 1300000.0, 470000.0, 2155000.0, 2810000.0, 2130000.0, 2950000.0, 2150000.0, 1500000.0, 1190000.0, 320000.0, 1975000.0, 316000.0, 750000.0, 910000.0, 1859000.0, 1200000.0, 1635000.0, 1705000.0, 1005000.0, 852000.0, 690000.0, 2120000.0, 405000.0, 2100000.0, 1435000.0, 1041000.0, 565000.0, 1490000.0, 1050000.0, 1005000.0, 1316500.0, 1495000.0, 1126000.0, 822000.0, 890000.0, 765000.0, 881000.0, 1900000.0, 1922000.0, 700000.0, 1890000.0, 1630000.0, 1670000.0, 1110000.0, 894000.0, 1402000.0, 1500000.0, 710000.0, 1105000.0, 1303000.0, 1375000.0, 1300000.0, 1286000.0, 1920000.0, 1968500.0, 845000.0, 1107000.0, 641500.0, 725000.0, 1515000.0, 986000.0, 767000.0, 1175000.0, 1225000.0, 1351000.0, 1962000.0, 850000.0, 1640000.0, 809000.0, 1510000.0, 1292000.0, 1165000.0, 959000.0, 1251000.0, 1205000.0, 780000.0, 910000.0, 1760000.0, 1726000.0, 990000.0, 646500.0, 2080000.0, 610000.0, 925000.0, 760000.0, 771000.0, 1000000.0, 2575000.0, 2140000.0, 4225000.0, 2100000.0, 1392000.0, 2445000.0, 1350000.0, 1900000.0, 1002500.0, 2415000.0, 1055000.0, 1990000.0, 1502000.0, 1221000.0, 1470000.0, 725000.0, 2140000.0, 1630000.0, 910000.0, 1975000.0, 1635000.0, 1743000.0, 2291000.0, 1400000.0, 1640000.0, 972000.0, 1652000.0, 1210000.0, 412000.0, 528000.0, 1115000.0, 320000.0, 1260000.0, 1200000.0, 315000.0, 1450000.0, 1200000.0, 1075000.0, 1650000.0, 1440000.0, 955000.0, 1310000.0, 1283000.0, 1025000.0, 1015000.0, 500000.0, 1185000.0, 690000.0, 632000.0, 1500000.0, 670000.0, 1222000.0, 1060000.0, 1220000.0, 1097000.0, 1270000.0, 640000.0, 1205000.0, 860000.0, 599900.0, 1540000.0, 1100000.0, 1730000.0, 794000.0, 1360000.0, 1207000.0, 1591000.0, 580000.0, 605000.0, 1465500.0, 870000.0, 1385000.0, 1815000.0, 813000.0, 1601000.0, 1225000.0, 1930000.0, 2570000.0, 2216000.0, 2110000.0, 855000.0, 771000.0, 2513000.0, 1900000.0, 1620000.0, 3550000.0, 1980000.0, 1861000.0, 1402000.0, 1905000.0, 5020000.0, 2990000.0, 1855000.0, 835000.0, 913000.0, 3725000.0, 3450000.0, 1290000.0, 1614500.0, 1550000.0, 595000.0, 2450000.0, 1201000.0, 635000.0, 1424000.0, 285000.0, 305000.0, 1105000.0, 945000.0, 603000.0, 1390000.0, 1667000.0, 330000.0, 577000.0, 535000.0, 655000.0, 1700000.0, 742500.0, 1104000.0, 630000.0, 1350000.0, 997000.0, 490000.0, 905000.0, 1825000.0, 1500000.0, 641000.0, 1250000.0, 1652500.0, 1250000.0, 1660000.0, 465000.0, 1000000.0, 712000.0, 1650000.0, 495000.0, 930000.0, 781000.0, 995000.0, 680000.0, 1180000.0, 940500.0, 824000.0, 941000.0, 775000.0, 590000.0, 1005000.0, 990000.0, 1455000.0, 1250000.0, 710000.0, 1790000.0, 650000.0, 1240000.0, 875000.0, 887000.0, 770000.0, 535000.0, 1308000.0, 945000.0, 1309000.0, 1300000.0, 888000.0, 1350000.0, 855000.0, 1480000.0, 1542000.0, 782000.0, 1090000.0, 1700000.0, 1355000.0, 1880000.0, 1545000.0, 1955000.0, 440000.0, 1700000.0, 745000.0, 1400000.0, 2020000.0, 325000.0, 1652000.0, 1131000.0, 1607500.0, 1400000.0, 1720000.0, 983000.0, 1162500.0, 707000.0, 700000.0, 426500.0, 676000.0, 660000.0, 741000.0, 949500.0, 532000.0, 698000.0, 687000.0, 670000.0, 445000.0, 730000.0, 725000.0, 668000.0, 543500.0, 1200000.0, 330000.0, 846000.0, 1345000.0, 1802500.0, 1625000.0, 2555000.0, 1055000.0, 1250000.0, 953000.0, 603000.0, 940000.0, 500000.0, 450000.0, 1205000.0, 1060000.0, 917000.0, 885000.0, 1375000.0, 1270000.0, 871000.0, 831000.0, 575000.0, 721000.0, 1253000.0, 1950000.0, 2085000.0, 710000.0, 2340000.0, 3310000.0, 1601000.0, 797000.0, 910000.0, 1315000.0, 683000.0, 1158000.0, 793000.0, 895000.0, 597500.0, 822000.0, 710000.0, 730000.0, 901000.0, 643000.0, 645000.0, 820000.0, 705000.0, 590000.0, 935000.0, 720000.0, 725000.0, 880000.0, 630000.0, 1615000.0, 2513000.0, 1910000.0, 1620000.0, 1789000.0, 665000.0, 1560000.0, 860000.0, 840000.0, 440000.0, 535000.0, 635000.0, 317500.0, 1800000.0, 1620000.0, 1985000.0, 1750000.0, 2100000.0, 780000.0, 1264000.0, 1462000.0, 440000.0, 1575000.0, 1320000.0, 1890000.0, 400500.0, 1405000.0, 2102000.0, 435000.0, 375000.0, 555000.0, 532000.0, 1340000.0, 630000.0, 1271000.0, 610000.0, 910000.0, 665000.0, 575000.0, 780000.0, 601000.0, 805000.0, 682000.0, 657000.0, 880000.0, 687000.0, 650000.0, 855000.0, 613000.0, 640000.0, 442000.0, 810000.0, 950000.0, 725000.0, 998000.0, 1340000.0, 2190000.0, 980000.0, 990000.0, 1410000.0, 970000.0, 3020000.0, 1689000.0, 1851000.0, 1110000.0, 1060000.0, 2100000.0, 1740000.0, 646000.0, 570000.0, 843000.0, 835000.0, 635000.0, 745000.0, 941000.0, 738000.0, 912000.0, 745000.0, 885000.0, 752000.0, 690000.0, 468000.0, 2600000.0, 4515000.0, 3160000.0, 2150000.0, 1965000.0, 643000.0, 835000.0, 736000.0, 1402000.0, 1205000.0, 1205000.0, 873000.0, 725000.0, 472500.0, 675000.0, 838000.0, 456000.0, 2250000.0, 2250000.0, 3200000.0, 1380000.0, 267500.0, 1290000.0, 2020000.0, 1211000.0, 1380000.0, 1715157.0, 1510000.0, 1220000.0, 1465000.0, 431000.0, 1620000.0, 1190000.0, 432000.0, 452000.0, 895000.0, 683000.0, 1865000.0, 1587000.0, 2365000.0, 1531000.0, 439000.0, 1040000.0, 1670000.0, 940000.0, 1515000.0, 1350000.0, 1302500.0, 1420200.0, 970000.0, 1070000.0, 1240000.0, 955000.0, 1656000.0, 707000.0, 582000.0, 1255000.0, 420500.0, 926000.0, 1560000.0, 2000000.0, 820000.0, 1530000.0, 1200000.0, 1325500.0, 890000.0, 975000.0, 900000.0, 1700000.0, 956000.0, 1650000.0, 2337000.0, 1370000.0, 1070000.0, 1312000.0, 960000.0, 935000.0, 810000.0, 1200000.0, 944000.0, 1405000.0, 1343000.0, 695000.0, 1822000.0, 970000.0, 2990000.0, 1050000.0, 1290000.0, 471250.0, 1235000.0, 600000.0, 955000.0, 1005000.0, 1306000.0, 1250000.0, 648000.0, 2525000.0, 1615000.0, 1351000.0, 1205000.0, 676000.0, 1145000.0, 1840000.0, 1300000.0, 2250000.0, 437500.0, 960000.0, 1486000.0, 1425000.0, 835000.0, 3970000.0, 2790000.0, 755000.0, 999000.0, 800000.0, 770000.0, 496000.0, 585000.0, 708000.0, 800000.0, 1395000.0, 427500.0, 560000.0, 520000.0, 1017500.0, 910000.0, 958000.0, 1400000.0, 1332000.0, 801000.0, 2400000.0, 575000.0, 950000.0, 1110000.0, 2250000.0, 2700000.0, 1375000.0, 1030000.0, 550000.0, 645000.0, 690000.0, 630000.0, 685000.0, 570000.0, 888000.0, 1190000.0, 1045000.0, 1121000.0, 715000.0, 1200000.0, 917500.0, 770000.0, 1075000.0, 1015000.0, 880000.0, 1110000.0, 910000.0, 1215000.0, 801000.0, 1010000.0, 690000.0, 1100000.0, 1055000.0, 560000.0, 741000.0, 725000.0, 615000.0, 406000.0, 1010000.0, 852000.0, 665000.0, 631000.0, 905000.0, 845000.0, 815000.0, 770000.0, 935000.0, 610000.0, 678500.0, 861500.0, 1150000.0, 490000.0, 605000.0, 652000.0, 615000.0, 407000.0, 930000.0, 741000.0, 1005000.0, 395000.0, 1025000.0, 505000.0, 1110000.0, 1226000.0, 1214000.0, 1090000.0, 1785000.0, 1052000.0, 1330000.0, 630000.0, 1210000.0, 911000.0, 1590000.0, 1380000.0, 1160000.0, 615000.0, 950000.0, 1085000.0, 847000.0, 785000.0, 2240000.0, 460000.0, 1100000.0, 1820000.0, 1780000.0, 1024000.0, 1320000.0, 537000.0, 410000.0, 499000.0, 1214000.0, 920000.0, 615000.0, 642000.0, 3475000.0, 851000.0, 2030000.0, 1405000.0, 850000.0, 792500.0, 2050000.0, 595000.0, 520000.0, 1120000.0, 1077000.0, 1301000.0, 1440000.0, 680000.0, 1361000.0, 902000.0, 1190000.0, 920000.0, 482000.0, 2260000.0, 1021000.0, 925000.0, 940000.0, 726000.0, 950000.0, 760000.0, 990000.0, 651500.0, 970000.0, 841000.0, 710000.0, 660000.0, 692000.0, 830000.0, 600000.0, 718000.0, 775000.0, 716000.0, 511000.0, 530000.0, 685000.0, 521000.0, 571000.0, 682000.0, 825000.0, 1525000.0, 2360000.0, 1490000.0, 1652000.0, 1503500.0, 1370000.0, 1385000.0, 1180000.0, 1302000.0, 1775000.0, 1750000.0, 1345000.0, 1080000.0, 1195000.0, 716000.0, 865000.0, 462000.0, 1635000.0, 600000.0, 1346000.0, 1130000.0, 1200000.0, 915000.0, 960000.0, 1260000.0, 1140000.0, 1003000.0, 880000.0, 826000.0, 952000.0, 677500.0, 761000.0, 932500.0, 895000.0, 1435000.0, 502000.0, 375000.0, 815000.0, 1325000.0, 890000.0, 900000.0, 266000.0, 1040000.0, 490000.0, 935000.0, 975000.0, 1245000.0, 543000.0, 1290000.0, 1000000.0, 2040000.0, 465000.0, 855000.0, 490000.0, 1330000.0, 1630000.0, 935000.0, 990000.0, 1196000.0, 470000.0, 2035000.0, 935000.0, 892000.0, 985500.0, 1070000.0, 397000.0, 1035000.0, 1370000.0, 970000.0, 1256000.0, 1120000.0, 1455000.0, 331000.0, 950000.0, 870000.0, 1050000.0, 1242000.0, 1165000.0, 872500.0, 720000.0, 985000.0, 800000.0, 420000.0, 700000.0, 621000.0, 597500.0, 1165000.0, 1295000.0, 1450000.0, 925000.0, 2220000.0, 1912500.0, 1380000.0, 1680000.0, 1005000.0, 1520000.0, 995000.0, 490000.0, 503000.0, 810000.0, 4275000.0, 385000.0, 1940000.0, 595000.0, 632500.0, 1260000.0, 695000.0, 950000.0, 360000.0, 642000.0, 1520000.0, 2275000.0, 1291000.0, 810000.0, 415500.0, 1350000.0, 2725000.0, 1050000.0, 1326000.0, 680000.0, 741000.0, 990000.0, 970000.0, 618000.0, 616000.0, 773000.0, 500000.0, 1110000.0, 917500.0, 1190000.0, 903000.0, 902500.0, 528000.0, 1420000.0, 1335000.0, 1300000.0, 2860000.0, 1630000.0, 1035000.0, 1321000.0, 742500.0, 2161000.0, 1485000.0, 940000.0, 770000.0, 985100.0, 1410000.0, 815000.0, 1042500.0, 815000.0, 995000.0, 1290000.0, 505000.0, 595000.0, 1320000.0, 380000.0, 660000.0, 867000.0, 552000.0, 655000.0, 840000.0, 650000.0, 1320000.0, 922500.0, 760000.0, 546000.0, 1575000.0, 1045000.0, 585000.0, 690000.0, 721500.0, 1060000.0, 984000.0, 440000.0, 1406000.0, 1305000.0, 488000.0, 1750000.0, 1013000.0, 1171000.0, 1053000.0, 445000.0, 640000.0, 961000.0, 1535000.0, 570000.0, 2345000.0, 900000.0, 1225000.0, 622000.0, 2160000.0, 640000.0, 1823000.0, 2000000.0, 1365000.0, 1220000.0, 642000.0, 840000.0, 2650000.0, 465000.0, 518500.0, 692000.0, 1305000.0, 1100000.0, 573000.0, 1060000.0, 805000.0, 682000.0, 535000.0, 1180000.0, 677000.0, 816000.0, 620000.0, 1760000.0, 1091500.0, 1140000.0, 950000.0, 425000.0, 1116000.0, 1030000.0, 1077000.0, 515500.0, 660000.0, 572000.0, 932000.0, 875000.0, 348000.0, 627000.0, 621000.0, 612000.0, 2705000.0, 530500.0, 975000.0, 805000.0, 437000.0, 660000.0, 1325000.0, 310000.0, 864000.0, 291000.0, 1550000.0, 720000.0, 1852000.0, 1100000.0, 1372000.0, 850500.0, 640000.0, 611000.0, 755000.0, 625000.0, 1910000.0, 523000.0, 525000.0, 990000.0, 695000.0, 500000.0, 662500.0, 1140000.0, 395000.0, 1000000.0, 450000.0, 2900000.0, 790000.0, 726500.0, 710000.0, 645000.0, 750000.0, 390000.0, 810000.0, 967000.0, 758000.0, 862000.0, 965000.0, 761000.0, 1020000.0, 750000.0, 635000.0, 410000.0, 880000.0, 520000.0, 895000.0, 2110000.0, 670000.0, 520500.0, 460000.0, 610000.0, 950000.0, 2320000.0, 655000.0, 1810000.0, 1020000.0, 1250000.0, 1225000.0, 1205000.0, 1720000.0, 1600000.0, 944000.0, 1385000.0, 710000.0, 1330000.0, 550000.0, 962000.0, 936000.0, 1605000.0, 1415000.0, 390000.0, 1100000.0, 926000.0, 610000.0, 1525000.0, 454000.0, 562000.0, 1000000.0, 820000.0, 1501000.0, 1663000.0, 660000.0, 1631000.0, 1665000.0, 399000.0, 1240000.0, 560000.0, 902000.0, 825000.0, 668500.0, 1165000.0, 1442000.0, 560000.0, 870000.0, 643500.0, 572000.0, 750000.0, 386000.0, 857000.0, 1160000.0, 1235000.0, 752500.0, 565000.0, 525000.0, 646000.0, 580000.0, 420000.0, 650000.0, 525000.0, 765000.0, 1385000.0, 451500.0, 526000.0, 605500.0, 427500.0, 542000.0, 2800000.0, 821000.0, 917000.0, 1115000.0, 510000.0, 645000.0, 427000.0, 876000.0, 578000.0, 510000.0, 390000.0, 525000.0, 480000.0, 507000.0, 845000.0, 1250000.0, 1026000.0, 850000.0, 2905000.0, 1380000.0, 2120000.0, 2015000.0, 787000.0, 2220000.0, 585000.0, 700500.0, 2385000.0, 1655000.0, 1800000.0, 2405000.0, 945000.0, 290000.0, 1810000.0, 1593000.0, 930000.0, 700000.0, 860000.0, 1470000.0, 935000.0, 1620000.0, 1580000.0, 1315000.0, 2520000.0, 1695000.0, 836000.0, 637000.0, 1336000.0, 1935000.0, 2250000.0, 897000.0, 1315000.0, 730000.0, 920000.0, 570000.0, 1105000.0, 1325000.0, 1160000.0, 1320000.0, 780000.0, 700000.0, 1032000.0, 3050000.0, 1171000.0, 1501000.0, 1570000.0, 1275000.0, 1435000.0, 600000.0, 529000.0, 881000.0, 665000.0, 674000.0, 840000.0, 745000.0, 1240000.0, 850000.0, 880000.0, 1525000.0, 960000.0, 1600000.0, 867000.0, 690000.0, 561000.0, 725000.0, 667000.0, 877500.0, 678000.0, 595000.0, 816000.0, 1370000.0, 1760000.0, 1662000.0, 716000.0, 975000.0, 842000.0, 480000.0, 696750.0, 540000.0, 620000.0, 598000.0, 650000.0, 762000.0, 1025000.0, 1360000.0, 1320000.0, 786000.0, 2210000.0, 1200000.0, 700000.0, 712000.0, 775000.0, 821000.0, 663500.0, 805000.0, 1290000.0, 2268000.0, 605000.0, 764000.0, 700000.0, 1890000.0, 1750000.0, 1100000.0, 695000.0, 817000.0, 760000.0, 680000.0, 1170000.0, 731000.0, 827000.0, 627000.0, 680000.0, 690000.0, 1022000.0, 5510000.0, 3335000.0, 560000.0, 970000.0, 1790000.0, 805000.0, 1875000.0, 2320000.0, 1465000.0, 850000.0, 530000.0, 515000.0, 1305000.0, 555500.0, 910000.0, 535000.0, 855000.0, 630000.0, 942000.0, 912500.0, 515000.0, 672000.0, 2162000.0, 2260000.0, 745000.0, 521000.0, 910000.0, 592000.0, 455000.0, 2265000.0, 1780000.0, 585000.0, 400000.0, 355000.0, 355000.0, 885000.0, 2010000.0, 732000.0, 720000.0, 556500.0, 569000.0, 1090500.0, 519000.0, 1170000.0, 720000.0, 572000.0, 1011000.0, 1450000.0, 1256000.0, 330000.0, 602000.0, 1337000.0, 970000.0, 1232000.0, 460000.0, 1245000.0, 1114000.0, 740000.0, 1120000.0, 945000.0, 1770000.0, 630000.0, 625000.0, 930000.0, 881000.0, 660000.0, 945000.0, 1210000.0, 970000.0, 725000.0, 990000.0, 972500.0, 955000.0, 1100000.0, 1266000.0, 1040000.0, 888000.0, 521000.0, 642500.0, 1676000.0, 1400000.0, 1301000.0, 575000.0, 910000.0, 1200000.0, 675000.0, 622000.0, 425000.0, 2300000.0, 2221000.0, 540000.0, 1360000.0, 790000.0, 805000.0, 915000.0, 644000.0, 905000.0, 2210000.0, 805000.0, 422000.0, 586500.0, 451000.0, 1780000.0, 790000.0, 455000.0, 775000.0, 690500.0, 790500.0, 805000.0, 1350000.0, 1010000.0, 653000.0, 740000.0, 493000.0, 1240000.0, 1626000.0, 682000.0, 355000.0, 1270000.0, 975000.0, 1200000.0, 467000.0, 302500.0, 390000.0, 1100000.0, 792000.0, 1171000.0, 1408000.0, 1494000.0, 2760000.0, 1285000.0, 1900000.0, 950000.0, 1670000.0, 950000.0, 1225000.0, 480000.0, 730000.0, 820000.0, 853000.0, 670000.0, 765000.0, 870000.0, 595000.0, 1550000.0, 1230000.0, 2170000.0, 1680000.0, 860000.0, 1085000.0, 2380000.0, 1557000.0, 2444000.0, 2050000.0, 1926000.0, 1490000.0, 520000.0, 616000.0, 1116000.0, 1316000.0, 1617000.0, 1228000.0, 608500.0, 879000.0, 1112000.0, 1425000.0, 1001000.0, 710500.0, 2020000.0, 1410000.0, 1410000.0, 310000.0, 374000.0, 1500000.0, 312000.0, 763000.0, 1100000.0, 687000.0, 680000.0, 918000.0, 1523500.0, 968000.0, 1580000.0, 795000.0, 920000.0, 500000.0, 561000.0, 1237000.0, 1120000.0, 1170000.0, 861000.0, 535000.0, 1361000.0, 1462000.0, 745000.0, 1100000.0, 365000.0, 600000.0, 567000.0, 862000.0, 820000.0, 859000.0, 1071500.0, 1100000.0, 1202000.0, 885000.0, 1504000.0, 850000.0, 1241000.0, 1350000.0, 550000.0, 977500.0, 755000.0, 810000.0, 861000.0, 810000.0, 543000.0, 568000.0, 680000.0, 580000.0, 970000.0, 485000.0, 1195000.0, 667000.0, 1018000.0, 1100000.0, 1394000.0, 1270000.0, 855000.0, 910000.0, 1177000.0, 1131000.0, 691000.0, 660000.0, 2305000.0, 655000.0, 1550000.0, 1715000.0, 780000.0, 422000.0, 780000.0, 945000.0, 645000.0, 785000.0, 810000.0, 601000.0, 970000.0, 805000.0, 2120000.0, 2100000.0, 762000.0, 2053000.0, 7650000.0, 375000.0, 1080000.0, 655000.0, 670000.0, 828000.0, 1230000.0, 590000.0, 548000.0, 935000.0, 555000.0, 535000.0, 1093800.0, 1145000.0, 1853000.0, 1120000.0, 1001000.0, 1070000.0, 1150000.0, 1975000.0, 1250000.0, 638000.0, 716000.0, 800000.0, 301000.0, 960000.0, 420000.0, 419000.0, 1051000.0, 1700000.0, 525000.0, 660000.0, 455000.0, 517000.0, 596000.0, 865000.0, 1302000.0, 222000.0, 1289000.0, 651000.0, 581000.0, 470500.0, 1530000.0, 1360000.0, 1530000.0, 1728000.0, 2000000.0, 901000.0, 757500.0, 757000.0, 902000.0, 900000.0, 660000.0, 1561000.0, 1005000.0, 1300000.0, 1751000.0, 635000.0, 1000000.0, 780000.0, 550000.0, 1001000.0, 1516000.0, 840000.0, 1430000.0, 913000.0, 806000.0, 790000.0, 820000.0, 1218500.0, 695000.0, 940000.0, 850000.0, 1260000.0, 1199000.0, 1355000.0, 1388000.0, 964000.0, 1805000.0, 1420000.0, 735000.0, 1017500.0, 1050000.0, 510000.0, 930000.0, 850000.0, 1172000.0, 1255000.0, 1275000.0, 1120000.0, 1190000.0, 534000.0, 1425000.0, 650000.0, 1175000.0, 602000.0, 1275000.0, 782500.0, 1410000.0, 322500.0, 1250000.0, 407500.0, 1050000.0, 771000.0, 642500.0, 460000.0, 630000.0, 500000.0, 615000.0, 660000.0, 805000.0, 453000.0, 807000.0, 471000.0, 558000.0, 780000.0, 715000.0, 2000000.0, 1240000.0, 756000.0, 1205500.0, 1031000.0, 1208000.0, 2020000.0, 835000.0, 1010000.0, 830000.0, 442000.0, 1035000.0, 855000.0, 1210000.0, 905000.0, 526500.0, 1800000.0, 1280000.0, 875000.0, 1010000.0, 819000.0, 990000.0, 1200000.0, 1375000.0, 1850000.0, 1425000.0, 773000.0, 1475000.0, 682000.0, 1030000.0, 1410000.0, 817000.0, 1815000.0, 690000.0, 1562000.0, 1530000.0, 1264000.0, 2720000.0, 2525000.0, 1204000.0, 730000.0, 1445000.0, 796000.0, 769000.0, 1325000.0, 1052000.0, 555000.0, 1381000.0, 1717500.0, 1950000.0, 817500.0, 590000.0, 960000.0, 732000.0, 877000.0, 1255000.0, 900000.0, 1199000.0, 1500000.0, 862500.0, 996000.0, 492000.0, 425000.0, 985500.0, 408500.0, 310000.0, 650000.0, 716000.0, 645000.0, 840000.0, 955000.0, 1369000.0, 902000.0, 885000.0, 967500.0, 1200000.0, 930000.0, 600000.0, 1390000.0, 761000.0, 1680000.0, 545000.0, 570000.0, 715000.0, 860000.0, 2862000.0, 1610000.0, 2450000.0, 512000.0, 1326000.0, 895000.0, 730000.0, 715000.0, 840500.0, 1600000.0, 3150000.0, 1285000.0, 878000.0, 957000.0, 1236000.0, 2370000.0, 1480000.0, 1682000.0, 915000.0, 781000.0, 1430000.0, 660000.0, 2380000.0, 1035000.0, 556000.0, 670000.0, 1250000.0, 840500.0, 1995000.0, 600000.0, 797000.0, 3001000.0, 705500.0, 685000.0, 560000.0, 810000.0, 1275000.0, 3600000.0, 815000.0, 467000.0, 405000.0, 420000.0, 465000.0, 625000.0, 428000.0, 722500.0, 421000.0, 890000.0, 755000.0, 1375000.0, 1401500.0, 920000.0, 1110000.0, 1387000.0, 870000.0, 1250000.0, 865000.0, 1410000.0, 1220500.0, 357000.0, 1920000.0, 1250000.0, 1230000.0, 1315000.0, 660000.0, 1240000.0, 1590000.0, 821000.0, 1750000.0, 1210000.0, 1500000.0, 1215000.0, 1265000.0, 1050000.0, 790000.0, 410500.0, 955000.0, 740000.0, 816000.0, 800000.0, 1020000.0, 660000.0, 1242000.0, 1365000.0, 691000.0, 875000.0, 1350000.0, 630000.0, 877500.0, 912000.0, 685000.0, 911000.0, 717000.0, 1530000.0, 817000.0, 1291000.0, 1085000.0, 750000.0, 860000.0, 1770000.0, 1050000.0, 1085000.0, 1070000.0, 1700000.0, 1810000.0, 785000.0, 770000.0, 883000.0, 1650000.0, 755000.0, 780000.0, 518000.0, 1050000.0, 716000.0, 1181000.0, 1352000.0, 632500.0, 460000.0, 651000.0, 831000.0, 1460000.0, 1420000.0, 856000.0, 1290000.0, 825000.0, 1160000.0, 1180000.0, 749000.0, 1370000.0, 1272000.0, 957500.0, 852000.0, 1402500.0, 2905000.0, 650000.0, 856000.0, 1505000.0, 1900000.0, 1030000.0, 1005000.0, 590000.0, 1530000.0, 1370000.0, 1082000.0, 1972500.0, 1775000.0, 602000.0, 830000.0, 1330000.0, 2050000.0, 1940000.0, 1590000.0, 725000.0, 2367000.0, 2200000.0, 1479000.0, 1199000.0, 890000.0, 1655000.0, 1430000.0, 955000.0, 667000.0, 740000.0, 1080000.0, 1258000.0, 590000.0, 1211000.0, 3225000.0, 1370000.0, 1750800.0, 1605000.0, 663000.0, 1505000.0, 1280000.0, 2545000.0, 1210000.0, 1265000.0, 460000.0, 263100.0, 1075000.0, 1310000.0, 714000.0, 1405000.0, 1837500.0, 593000.0, 1732000.0, 1253500.0, 1642000.0, 700000.0, 720000.0, 1622000.0, 1930000.0, 2408000.0, 4750000.0, 1628000.0, 1042000.0, 525000.0, 570000.0, 1417500.0, 1550000.0, 601000.0, 1145000.0, 1040000.0, 1460000.0, 556000.0, 1615000.0, 1090000.0, 865000.0, 1135000.0, 340000.0, 499000.0, 506000.0, 430000.0, 420000.0, 570000.0, 1253000.0, 720000.0, 637000.0, 905000.0, 447000.0, 570000.0, 610000.0, 435000.0, 1255000.0, 595000.0, 1616000.0, 1060000.0, 1250000.0, 871000.0, 1451000.0, 1385000.0, 1360000.0, 2620000.0, 1850000.0, 612500.0, 1060000.0, 1970000.0, 855000.0, 855000.0, 925000.0, 902000.0, 1410000.0, 660000.0, 1360000.0, 500000.0, 573000.0, 528000.0, 465000.0, 452500.0, 1980000.0, 886000.0, 280000.0, 710000.0, 800000.0, 805000.0, 786000.0, 577000.0, 670000.0, 617000.0, 1321000.0, 960000.0, 495000.0, 990000.0, 1100000.0, 455000.0, 1205000.0, 491000.0, 566000.0, 740000.0, 1880000.0, 755000.0, 635000.0, 762000.0, 501000.0, 2920000.0, 1501000.0, 1500000.0, 1440000.0, 1330000.0, 1130000.0, 1331000.0, 1100000.0, 1135000.0, 865000.0, 922000.0, 650000.0, 963500.0, 815000.0, 740000.0, 750000.0, 730000.0, 770000.0, 870000.0, 2905000.0, 1695000.0, 561000.0, 2402500.0, 1955000.0, 3399000.0, 3900000.0, 697000.0, 802500.0, 441000.0, 2680000.0, 500000.0, 738000.0, 800000.0, 680000.0, 1010000.0, 605000.0, 580000.0, 444000.0, 532000.0, 1600000.0, 677000.0, 737500.0, 553100.0, 418000.0, 505000.0, 492000.0, 472000.0, 442500.0, 1203500.0, 1475000.0, 1640000.0, 590500.0, 895000.0, 790000.0, 825000.0, 806000.0, 698000.0, 752500.0, 715000.0, 660000.0, 825000.0, 682000.0, 3200500.0, 2258000.0, 1250000.0, 1218000.0, 1010000.0, 383000.0, 600000.0, 487000.0, 572000.0, 793000.0, 1060000.0, 2400000.0, 530000.0, 353000.0, 2300000.0, 720000.0, 347500.0, 410000.0, 1010000.0, 1485000.0, 480750.0, 695000.0, 655000.0, 990000.0, 883000.0, 1462000.0, 1130000.0, 960000.0, 1050000.0, 900000.0, 806000.0, 1160000.0, 980000.0, 1250800.0, 1327000.0, 670000.0, 1615000.0, 1400000.0, 620000.0, 800000.0, 1540000.0, 470000.0, 1160000.0, 1010000.0, 980000.0, 730000.0, 805000.0, 802000.0, 1746000.0, 799000.0, 1512000.0, 2042000.0, 1260000.0, 1235000.0, 1570000.0, 777000.0, 972000.0, 1225000.0, 1292000.0, 912000.0, 1270000.0, 1485000.0, 530000.0, 876000.0, 802000.0, 736000.0, 755000.0, 478000.0, 1335000.0, 545000.0, 740000.0, 698000.0, 1190000.0, 660000.0, 1115000.0, 1171000.0, 996000.0, 617500.0, 817000.0, 575000.0, 470000.0, 700000.0, 860000.0, 1280000.0, 1341000.0, 930000.0, 609000.0, 1085000.0, 1185000.0, 500000.0, 760000.0, 2100000.0, 795000.0, 940000.0, 1085000.0, 835000.0, 807500.0, 4100000.0, 1430000.0, 2920000.0, 600000.0, 650000.0, 565000.0, 1387000.0, 730000.0, 865000.0, 1070000.0, 632000.0, 2505000.0, 1785000.0, 1580000.0, 645000.0, 1381000.0, 705000.0, 550000.0, 740000.0, 745000.0, 1400000.0, 555000.0, 695000.0, 575000.0, 870000.0, 1050000.0, 710000.0, 705000.0, 570000.0, 372000.0, 500000.0, 560000.0, 1223000.0, 1035000.0, 880000.0, 595000.0, 1190000.0, 550000.0, 670000.0, 3560000.0, 1130000.0, 820000.0, 1107500.0, 285000.0, 328500.0, 900000.0, 520000.0, 920000.0, 485000.0, 1291000.0, 775000.0, 820000.0, 2285000.0, 797000.0, 760000.0, 590000.0, 460000.0, 386000.0, 1515000.0, 1037000.0, 730000.0, 660000.0, 1530000.0, 1150000.0, 1600000.0, 636000.0, 755000.0, 750000.0, 1250000.0, 430000.0, 740000.0, 647000.0, 636500.0, 930000.0, 1018000.0, 760000.0, 876000.0, 867000.0, 1297000.0, 515000.0, 670000.0, 725000.0, 480000.0, 1120000.0, 465000.0, 614000.0, 930000.0, 557000.0, 806000.0, 892000.0, 1345000.0, 1430000.0, 1663000.0, 1310000.0, 1390000.0, 1423000.0, 655000.0, 792000.0, 435000.0, 392250.0, 417500.0, 664000.0, 790000.0, 830000.0, 800000.0, 565000.0, 810000.0, 501000.0, 1908000.0, 1070000.0, 700000.0, 805000.0, 721000.0, 675000.0, 656000.0, 866000.0, 1028000.0, 783000.0, 735000.0, 595000.0, 539000.0, 771000.0, 455000.0, 534000.0, 575500.0, 1820000.0, 660000.0, 1475000.0, 1510000.0, 1320000.0, 575500.0, 775000.0, 635000.0, 675000.0, 620000.0, 710000.0, 700000.0, 438000.0, 1205000.0, 520000.0, 710500.0, 752000.0, 622000.0, 435000.0, 876000.0, 1340000.0, 440000.0, 373500.0, 280500.0, 640000.0, 1322000.0, 940000.0, 767500.0, 705000.0, 705000.0, 790000.0, 676000.0, 704500.0, 550000.0, 598000.0, 592000.0, 602000.0, 1095000.0, 480000.0, 735000.0, 1425500.0, 1320000.0, 1270000.0, 1627000.0, 1375000.0, 992000.0, 1820000.0, 1620000.0, 1000000.0, 785000.0, 676000.0, 1002000.0, 1175000.0, 1365000.0, 875000.0, 880000.0, 1150000.0, 774000.0, 1122000.0, 327000.0, 1900000.0, 2185000.0, 1210000.0, 1003000.0, 925000.0, 760000.0, 690000.0, 715000.0, 1725000.0, 633000.0, 1090000.0, 936000.0, 860000.0, 1000000.0, 640000.0, 1720000.0, 690000.0, 875000.0, 420000.0, 677500.0, 762500.0, 1855500.0, 802000.0, 1016000.0, 631000.0, 711100.0, 582000.0, 730000.0, 487000.0, 512500.0, 830500.0, 429000.0, 551000.0, 450000.0, 781000.0, 586000.0, 496000.0, 1280000.0, 1635000.0, 1138000.0, 477000.0, 605000.0, 610000.0, 580000.0, 415000.0, 905000.0, 725000.0, 577000.0, 451000.0, 453350.0, 895000.0, 570000.0, 778000.0, 1055000.0, 790000.0, 514000.0, 529000.0, 484000.0, 670000.0, 510000.0, 675000.0, 410000.0, 478000.0, 743500.0, 440000.0, 1635000.0, 940000.0, 1375000.0, 1525000.0, 950000.0, 1225000.0, 660000.0, 821000.0, 1520000.0, 2299500.0, 951000.0, 614000.0, 2360000.0, 1360000.0, 1739000.0, 720000.0, 1780000.0, 1611000.0, 1006000.0, 1700000.0, 1280000.0, 1750000.0, 1290000.0, 683000.0, 1730000.0, 1100000.0, 830000.0, 1296000.0, 2000000.0, 2150000.0, 890000.0, 616000.0, 632000.0, 1310000.0, 1615000.0, 1751000.0, 1200000.0, 1580000.0, 535000.0, 685000.0, 685000.0, 725000.0, 505000.0, 1300000.0, 1253000.0, 1170000.0, 1471000.0, 881000.0, 3190000.0, 2100000.0, 1370000.0, 870000.0, 687500.0, 552500.0, 1070000.0, 995000.0, 1310000.0, 1275000.0, 1095000.0, 1241000.0, 729500.0, 973000.0, 560000.0, 565000.0, 615000.0, 667500.0, 555000.0, 1080000.0, 505000.0, 766000.0, 370000.0, 1680000.0, 475000.0, 815000.0, 615000.0, 915000.0, 736000.0, 1328000.0, 762000.0, 900000.0, 559000.0, 3175000.0, 520000.0, 561000.0, 556000.0, 441000.0, 552000.0, 2165000.0, 1280000.0, 1165000.0, 1500000.0, 515000.0, 545000.0, 1705000.0, 850250.0, 610000.0, 775000.0, 452500.0, 3400000.0, 839000.0, 1690000.0, 2165000.0, 2215000.0, 851000.0, 1910000.0, 1311000.0, 1220000.0, 714000.0, 815000.0, 420000.0, 1857000.0, 1910000.0, 1485000.0, 595000.0, 1031000.0, 1040000.0, 912000.0, 1250000.0, 680000.0, 810000.0, 463000.0, 1242000.0, 677500.0, 540000.0, 516000.0, 790000.0, 2400000.0, 1022000.0, 850000.0, 2660000.0, 802000.0, 1007000.0, 4050000.0, 2550000.0, 1840000.0, 688000.0, 345000.0, 570000.0, 642500.0, 755000.0, 4050000.0, 1650000.0, 940000.0, 600000.0, 2025000.0, 630000.0, 1071000.0, 973000.0, 1060000.0, 930000.0, 1440000.0, 730000.0, 2558000.0, 655000.0, 730000.0, 923000.0, 600000.0, 1230000.0, 1475000.0, 1225000.0, 2775000.0, 1310000.0, 1415000.0, 370000.0, 1051000.0, 1206000.0, 900000.0, 940000.0, 257500.0, 257500.0, 1114000.0, 715000.0, 1480000.0, 760000.0, 2635000.0, 1250000.0, 4200000.0, 1310000.0, 626000.0, 1270000.0, 980000.0, 1148000.0, 1540000.0, 1210000.0, 935000.0, 510000.0, 861000.0, 732000.0, 325000.0, 1200000.0, 800000.0, 655000.0, 1170000.0, 970000.0, 2255000.0, 1870000.0, 3825000.0, 485000.0, 1350000.0, 940000.0, 625000.0, 917000.0, 632500.0, 1610000.0, 1742000.0, 1016000.0, 938000.0, 659500.0, 701000.0, 2600000.0, 1205000.0, 2330000.0, 1350000.0, 1204000.0, 610000.0, 670000.0, 1860000.0, 980000.0, 1295000.0, 788800.0, 900000.0, 700000.0, 455000.0, 483000.0, 455000.0, 1276000.0, 700000.0, 729000.0, 1184000.0, 1100000.0, 2200000.0, 780000.0, 655000.0, 890000.0, 815000.0, 440500.0, 425500.0, 762000.0, 1306000.0, 566000.0, 1420000.0, 805000.0, 934000.0, 2330000.0, 1721000.0, 762000.0, 1384000.0, 1070000.0, 1500000.0, 1100000.0, 706000.0, 785000.0, 950000.0, 570500.0, 631000.0, 1300000.0, 710000.0, 1320000.0, 1840000.0, 525000.0, 495000.0, 403500.0, 1550000.0, 361000.0, 960000.0, 696000.0, 1115000.0, 1950000.0, 962000.0, 900000.0, 662000.0, 625500.0, 459000.0, 420500.0, 618500.0, 727000.0, 535000.0, 560000.0, 860000.0, 802000.0, 800000.0, 854000.0, 1735000.0, 920000.0, 904000.0, 500000.0, 1440000.0, 1054000.0, 600000.0, 401500.0, 630000.0, 1012000.0, 565000.0, 1550000.0, 420000.0, 785000.0, 750000.0, 748888.0, 850000.0, 490000.0, 1502000.0, 440000.0, 395000.0, 991000.0, 945000.0, 1020000.0, 1234000.0, 506000.0, 755000.0, 807000.0, 426000.0, 540000.0, 960000.0, 1116500.0, 610000.0, 690000.0, 585000.0, 800000.0, 800000.0, 896000.0, 1010000.0, 1660000.0, 1960000.0, 670000.0, 415000.0, 1150000.0, 1100000.0, 525000.0, 650000.0, 580000.0, 536500.0, 541000.0, 1601000.0, 559000.0, 930000.0, 860000.0, 840000.0, 1080000.0, 575000.0, 740000.0, 1040000.0, 795000.0, 660000.0, 1170000.0, 930000.0, 650000.0, 702000.0, 675000.0, 520000.0, 430000.0, 570000.0, 520000.0, 387000.0, 341000.0, 336000.0, 426000.0, 775500.0, 726000.0, 710000.0, 1045000.0, 820000.0, 951000.0, 1425000.0, 1800000.0, 2248000.0, 960000.0, 956000.0, 620000.0, 740000.0, 990000.0, 650000.0, 752000.0, 541000.0, 1307500.0, 1211000.0, 970000.0, 1453000.0, 1610000.0, 1150000.0, 435000.0, 962000.0, 629000.0, 881000.0, 596000.0, 698000.0, 1060500.0, 652000.0, 953000.0, 468000.0, 710000.0, 725000.0, 880000.0, 1175000.0, 710000.0, 1310000.0, 855000.0, 735000.0, 755000.0, 537000.0, 386000.0, 763000.0, 725000.0, 768000.0, 666000.0, 910000.0, 401500.0, 760000.0, 550000.0, 805000.0, 1000000.0, 532000.0, 960000.0, 630000.0, 853000.0, 704000.0, 508000.0, 1236000.0, 328000.0, 1140000.0, 341500.0, 1111500.0, 1214000.0, 1045000.0, 622000.0, 826000.0, 1265000.0, 604000.0, 655000.0, 570000.0, 453000.0, 335000.0, 955000.0, 700000.0, 800000.0, 1090000.0, 982500.0, 1400000.0, 1230000.0, 1005000.0, 911000.0, 1190000.0, 310000.0, 1472000.0, 454000.0, 1360000.0, 620000.0, 730000.0, 805000.0, 510000.0, 645000.0, 486000.0, 855000.0, 1035000.0, 1310000.0, 1450000.0, 1060000.0, 800000.0, 2668000.0, 1750000.0, 906000.0, 1640000.0, 1610000.0, 860000.0, 755000.0, 874000.0, 560000.0, 620000.0, 1500000.0, 450000.0, 560000.0, 1120000.0, 1110000.0, 1260000.0, 1790000.0, 999000.0, 680000.0, 1830000.0, 920000.0, 796000.0, 1630000.0, 825000.0, 977500.0, 639000.0, 1138000.0, 1285000.0, 890000.0, 1080000.0, 1000000.0, 607500.0, 500000.0, 515000.0, 510000.0, 592500.0, 595000.0, 1005000.0, 669000.0, 880000.0, 560000.0, 895000.0, 710000.0, 572000.0, 505000.0, 1530000.0, 816000.0, 1385000.0, 472500.0, 895000.0, 724000.0, 1975000.0, 1200000.0, 635000.0, 630000.0, 730000.0, 600000.0, 545000.0, 1620000.0, 326000.0, 1535000.0, 891000.0, 742000.0, 1011000.0, 600500.0, 665000.0, 645000.0, 519500.0, 656000.0, 1182000.0, 1800000.0, 1832000.0, 493000.0, 435000.0, 725000.0, 741000.0, 550000.0, 1930000.0, 1405000.0, 1270500.0, 735000.0, 590000.0, 1460000.0, 1535000.0, 520000.0, 576000.0, 472000.0, 880000.0, 918000.0, 777000.0, 880000.0, 591000.0, 565000.0, 560000.0, 447000.0, 900000.0, 1005000.0, 468000.0, 650000.0, 1638000.0, 640000.0, 420000.0, 375000.0, 326000.0, 412250.0, 371500.0, 725000.0, 1101000.0, 926000.0, 362000.0, 309000.0, 1267000.0, 611000.0, 755000.0, 862000.0, 815500.0, 1006000.0, 445000.0, 1335000.0, 352500.0, 1875000.0, 1390000.0, 643500.0, 541000.0, 580000.0, 706000.0, 559000.0, 392000.0, 980000.0, 495000.0, 760500.0, 419000.0, 1590000.0, 1667500.0, 882500.0, 910000.0, 777000.0, 510000.0, 1651000.0, 770000.0, 1040000.0, 1120000.0, 886000.0, 601000.0, 810000.0, 747500.0, 420000.0, 1340000.0, 580000.0, 360000.0, 533000.0, 1220000.0, 500000.0, 438000.0, 859000.0, 740000.0, 620000.0, 463500.0, 530000.0, 446000.0, 520000.0, 725500.0, 688000.0, 630000.0, 502000.0, 1215000.0, 731000.0, 631000.0, 715500.0, 920000.0, 822000.0, 988000.0, 855000.0, 630000.0, 830000.0, 710000.0, 850000.0, 383000.0, 463000.0, 471500.0, 412500.0, 665000.0, 850000.0, 915000.0, 1591000.0, 1490000.0, 1440000.0, 400000.0, 1407000.0, 780000.0, 613000.0, 340000.0, 627000.0, 380000.0, 631500.0, 1185000.0, 1540000.0, 1510000.0, 3812000.0, 1600000.0, 950000.0, 1755000.0, 606000.0, 537000.0, 1500000.0, 1435000.0, 592000.0, 900000.0, 1780000.0, 1260000.0, 620000.0, 600000.0, 1215000.0, 615000.0, 790000.0, 1831000.0, 800000.0, 495000.0, 586000.0, 706000.0, 550000.0, 456000.0, 555000.0, 650000.0, 620000.0, 683000.0, 501000.0, 1150000.0, 1750500.0, 835000.0, 640000.0, 682000.0, 682000.0, 600800.0, 920000.0, 1690000.0, 680000.0, 1151000.0, 480000.0, 1050000.0, 835500.0, 560000.0, 751000.0, 976000.0, 1662500.0, 591000.0, 1400000.0, 996000.0, 1011000.0, 770000.0, 830000.0, 455000.0, 590000.0, 390000.0, 500000.0, 745000.0, 928000.0, 1020000.0, 617000.0, 1120000.0, 1655000.0, 970000.0, 1225000.0, 531000.0, 508000.0, 3300000.0, 834500.0, 920000.0, 850000.0, 930000.0, 720000.0, 1035000.0, 1820000.0, 710000.0, 715000.0, 655000.0, 580000.0, 500000.0, 560000.0, 503000.0, 468000.0, 1002000.0, 1315000.0, 550000.0, 661000.0, 861000.0, 760000.0, 890000.0, 957000.0, 266000.0, 945000.0, 450000.0, 955000.0, 1200000.0, 1130000.0, 820000.0, 760000.0, 680000.0, 629500.0, 887500.0, 900000.0, 860000.0, 580000.0, 840000.0, 1460000.0, 901000.0, 1257000.0, 1200000.0, 1260000.0, 1200000.0, 485000.0, 618350.0, 540000.0, 620500.0, 750000.0, 1060000.0, 1405000.0, 3015000.0, 1500000.0, 725000.0, 444000.0, 544000.0, 580500.0, 710000.0, 565500.0, 1129000.0, 821000.0, 565000.0, 300000.0, 385000.0, 427500.0, 641000.0, 668000.0, 490000.0, 800000.0, 955000.0, 635000.0, 943000.0, 1245000.0, 920000.0, 696000.0, 600000.0, 1635000.0, 1406000.0, 1640000.0, 1001000.0, 1030000.0, 910000.0, 1965000.0, 695000.0, 681000.0, 1610000.0, 1515000.0, 725000.0, 813000.0, 1260000.0, 921000.0, 1250000.0, 541000.0, 565000.0, 620000.0, 801000.0, 1722500.0, 2730000.0, 1030000.0, 1485000.0, 1045000.0, 905000.0, 875000.0, 670000.0, 672000.0, 1310000.0, 666000.0, 927000.0, 575500.0, 1400000.0, 1005000.0, 393200.0, 460000.0, 490000.0, 1660000.0, 1235000.0, 590000.0, 870000.0, 880000.0, 312000.0, 730000.0, 612000.0, 690000.0, 1090000.0, 555000.0, 732000.0, 481000.0, 597000.0, 475000.0, 495000.0, 695000.0, 760000.0, 583500.0, 585000.0, 685000.0, 693000.0, 1245000.0, 867000.0, 407000.0, 590500.0, 891000.0, 615500.0, 908000.0, 1200000.0, 1310000.0, 930000.0, 686000.0, 755000.0, 678000.0, 482500.0, 597000.0, 821000.0, 635000.0, 1095000.0, 601000.0, 1285000.0, 525300.0, 1436000.0, 905000.0, 1680000.0, 913000.0, 5100000.0, 820000.0, 985000.0, 1951000.0, 1950000.0, 824000.0, 1216000.0, 1575000.0, 1160000.0, 1375000.0, 2831000.0, 610000.0, 2515000.0, 817500.0, 1590000.0, 1775000.0, 673000.0, 1200000.0, 1023000.0, 680000.0, 814000.0, 930000.0, 4060000.0, 692500.0, 1609000.0, 1295000.0, 1436000.0, 1055000.0, 1210000.0, 631000.0, 457000.0, 505000.0, 1005000.0, 790000.0, 931000.0, 857000.0, 477000.0, 500000.0, 510000.0, 955000.0, 1375000.0, 1820000.0, 1482000.0, 1175000.0, 1381000.0, 1620000.0, 1171000.0, 555000.0, 652000.0, 1185000.0, 900000.0, 1500000.0, 801000.0, 1492000.0, 760000.0, 2300000.0, 1090000.0, 695000.0, 938000.0, 1155000.0, 1905000.0, 680000.0, 670000.0, 1910000.0, 1850000.0, 2152500.0, 1160000.0, 791000.0, 1370000.0, 815000.0, 835000.0, 830000.0, 797000.0, 2675000.0, 2260000.0, 832000.0, 1080000.0, 1010000.0, 3060000.0, 1690000.0, 685000.0, 715000.0, 685500.0, 722000.0, 1430000.0, 983000.0, 560000.0, 482000.0, 460000.0, 430000.0, 438000.0, 960500.0, 840000.0, 1450000.0, 1188000.0, 650000.0, 1105000.0, 1370000.0, 1215000.0, 1425000.0, 1550000.0, 1386000.0, 1700000.0, 1320000.0, 672000.0, 676000.0, 1010000.0, 540000.0, 1764000.0, 861000.0, 612500.0, 906000.0, 758000.0, 762000.0, 2368000.0, 1120000.0, 570000.0, 515000.0, 1137000.0, 1080000.0, 645000.0, 570000.0, 540000.0, 482000.0, 662000.0, 640000.0, 732500.0, 713500.0, 705000.0, 1375000.0, 782000.0, 1420000.0, 630000.0, 490500.0, 510000.0, 1460000.0, 1223000.0, 950000.0, 1206000.0, 1678000.0, 1630000.0, 1195000.0, 1000001.0, 1064000.0, 675000.0, 1170000.0, 1550000.0, 1950000.0, 900000.0, 1354000.0, 1532000.0, 2151000.0, 1720000.0, 2000000.0, 1390000.0, 834500.0, 649000.0, 753000.0, 758000.0, 1750000.0, 3130000.0, 1263000.0, 1065000.0, 948000.0, 850000.0, 1250500.0, 805000.0, 1320000.0, 1326000.0, 595000.0, 589000.0, 745000.0, 952000.0, 1255000.0, 1540500.0, 1209000.0, 1730000.0, 1600000.0, 718500.0, 481000.0, 566000.0, 1450000.0, 641000.0, 291000.0, 993000.0, 820000.0, 797000.0, 1225000.0, 1010000.0, 780000.0, 660000.0, 2200000.0, 3200000.0, 965000.0, 1790000.0, 1170000.0, 1320000.0, 1152000.0, 932000.0, 605000.0, 2710000.0, 1768000.0, 1165000.0, 932000.0, 811000.0, 805000.0, 510000.0, 600000.0, 1535000.0, 678500.0, 720000.0, 1210000.0, 1188000.0, 1031100.0, 1076500.0, 1950000.0, 1700000.0, 915000.0, 685000.0, 741000.0, 865000.0, 2525000.0, 1902000.0, 473000.0, 410000.0, 875000.0, 720000.0, 6400000.0, 710000.0, 757000.0, 1237000.0, 1205000.0, 1240000.0, 720000.0, 888000.0, 922000.0, 1567000.0, 1370000.0, 902000.0, 1685000.0, 1110000.0, 1630000.0, 850000.0, 1631000.0, 1845000.0, 1000000.0, 1475000.0, 1650000.0, 1072500.0, 755000.0, 680000.0, 1200000.0, 1040000.0, 1050000.0, 580500.0, 2700000.0, 2290000.0, 2220000.0, 1725000.0, 770000.0, 1355000.0, 1180000.0, 540000.0, 1360000.0, 1460000.0, 388000.0, 493000.0, 498500.0, 770000.0, 3625000.0, 1585000.0, 931000.0, 925000.0, 1155000.0, 595000.0, 621000.0, 616000.0, 1470000.0, 810000.0, 420000.0, 1960000.0, 1248500.0, 1001000.0, 770000.0, 1555000.0, 870000.0, 470000.0, 2730000.0, 2350000.0, 905000.0, 3778000.0, 2210000.0, 1520000.0, 1100000.0, 1830000.0, 700000.0, 840000.0, 1342000.0, 2410000.0, 640000.0, 1265000.0, 950000.0, 1505000.0, 730000.0, 1775000.0, 1702000.0, 980000.0, 2770000.0, 1441000.0, 1510000.0, 850000.0, 1500000.0, 1508000.0, 609000.0, 578000.0, 875000.0, 1165000.0, 1201000.0, 910000.0, 2950000.0, 810000.0, 850000.0, 980000.0, 880000.0, 841000.0, 1300000.0, 931000.0, 492000.0, 858000.0, 682000.0, 1281000.0, 751000.0, 1330000.0, 915000.0, 890000.0, 600000.0, 647000.0, 1150000.0, 1170000.0, 1255000.0, 650000.0, 910000.0, 760000.0, 1738000.0, 965000.0, 1333000.0, 1366000.0, 1275000.0, 1480000.0, 922000.0, 865000.0, 661000.0, 2515000.0, 1450000.0, 2325000.0, 846000.0, 628000.0, 645500.0, 575000.0, 723000.0, 626000.0, 840000.0, 1230000.0, 2375000.0, 1950000.0, 801000.0, 596000.0, 3400000.0, 370000.0, 995000.0, 792000.0, 675000.0, 721000.0, 492000.0, 900000.0, 650000.0, 961000.0, 1580000.0, 940000.0, 1007500.0, 828000.0, 1285000.0, 1451000.0, 1480000.0, 912000.0, 1100000.0, 792500.0, 1210000.0, 1186000.0, 1320000.0, 1325000.0, 955000.0, 1250000.0, 1160000.0, 765000.0, 635000.0, 1260000.0, 1771000.0, 515000.0, 1035000.0, 880000.0, 930000.0, 912000.0, 900000.0, 935000.0, 920000.0, 1200000.0, 800000.0, 935000.0, 746000.0, 1283000.0, 1775000.0, 380000.0, 1665000.0, 950000.0, 962000.0, 855000.0, 1720000.0, 405000.0, 482000.0, 665000.0, 1290000.0, 1810000.0, 1930000.0, 600500.0, 640000.0, 750000.0, 2076000.0, 1009000.0, 366000.0, 1070000.0, 1440000.0, 792000.0, 470000.0, 1060000.0, 950000.0, 1211000.0, 1190000.0, 1425000.0, 921000.0, 506000.0, 2550000.0, 1460000.0, 1726000.0, 1920000.0, 1575000.0, 1362000.0, 2115000.0, 2562000.0, 2400000.0, 2321000.0, 1890000.0, 1895000.0, 1115000.0, 690000.0, 1595000.0, 881000.0, 1300000.0, 625000.0, 2770000.0, 1300000.0, 637000.0, 1335000.0, 905000.0, 320000.0, 1230000.0, 1240000.0, 1234000.0, 1588000.0, 1540000.0, 700000.0, 1230000.0, 883300.0, 790000.0, 1310000.0, 880000.0, 1070000.0, 1085000.0, 582500.0, 523000.0, 485000.0, 632000.0, 1152000.0, 475000.0, 635000.0, 871000.0, 1410000.0, 1408000.0, 988000.0, 1925000.0, 2105000.0, 1115000.0, 1380000.0, 678000.0, 681000.0, 1600000.0, 1280000.0, 874000.0, 770000.0, 875000.0, 2478000.0, 1017500.0, 1320000.0, 690000.0, 708000.0, 1307500.0, 1310000.0, 1285000.0, 1292000.0, 1300000.0, 1155000.0, 831000.0, 570000.0, 931000.0, 2500000.0, 1700000.0, 1000000.0, 1080000.0, 2585000.0, 1225000.0, 1111000.0, 478000.0, 520000.0, 650000.0, 981000.0, 1295000.0, 1250000.0, 986000.0, 841000.0, 2180000.0, 4000000.0, 2118000.0, 700000.0, 2030000.0, 1500000.0, 460000.0, 881000.0, 547000.0, 470000.0, 756000.0, 515000.0, 1340000.0, 1218000.0, 955500.0, 1005500.0, 980000.0, 585500.0, 1230000.0, 1390000.0, 961000.0, 1001000.0, 876000.0, 866000.0, 775500.0, 920000.0, 400000.0, 597000.0, 1400000.0, 782500.0, 626000.0, 1000000.0, 480500.0, 502500.0, 650000.0, 1825000.0, 2567500.0, 1200000.0, 635000.0, 1300000.0, 1138000.0, 1360000.0, 1300000.0, 1612000.0, 1150000.0, 1235000.0, 1600000.0, 490000.0, 412700.0, 990000.0, 1100500.0, 855000.0, 1200000.0, 1480000.0, 1500000.0, 475000.0, 1025000.0, 1830000.0, 860000.0, 850000.0, 565000.0, 760000.0, 750000.0, 980000.0, 970000.0, 1130000.0, 1210000.0, 755000.0, 800000.0, 724000.0, 1675000.0, 945000.0, 786000.0, 1555000.0, 1229000.0, 653000.0, 2750000.0, 575500.0, 1150000.0, 1325000.0, 1770000.0, 1065000.0, 1331000.0, 745000.0, 655000.0, 2850000.0, 381000.0, 646000.0, 1015000.0, 795000.0, 1160000.0, 1160000.0, 800000.0, 1000000.0, 960000.0, 735000.0, 600000.0, 552000.0, 840500.0, 1180000.0, 632000.0, 607500.0, 563000.0, 695000.0, 990000.0, 1310000.0, 1890000.0, 775000.0, 837000.0, 950000.0, 646000.0, 625000.0, 552500.0, 1710000.0, 800000.0, 791100.0, 775000.0, 1300000.0, 1730000.0, 1100000.0, 452500.0, 634000.0, 1350000.0, 586000.0, 600000.0, 1285000.0, 1190000.0, 2450000.0, 1214000.0, 1631888.0, 850000.0, 1051000.0, 785000.0, 3600000.0, 985000.0, 915000.0, 1911000.0, 650000.0, 537000.0, 568000.0, 605000.0, 572000.0, 680000.0, 955000.0, 1630000.0, 770000.0, 766000.0, 652000.0, 752500.0, 741000.0, 283000.0, 439000.0, 815000.0, 665000.0, 890000.0, 1150000.0, 1162000.0, 835000.0, 1400000.0, 1586000.0, 1408000.0, 1080000.0, 1105000.0, 840000.0, 1355000.0, 1130000.0, 800000.0, 1015000.0, 1350000.0, 1075000.0, 1000000.0, 763000.0, 1450000.0, 1540000.0, 1463000.0, 820000.0, 950000.0, 901000.0, 1190000.0, 785000.0, 800000.0, 1400000.0, 850000.0, 426000.0, 680000.0, 1151000.0, 817000.0, 658500.0, 881000.0, 645000.0, 549500.0, 897000.0, 2680000.0, 1625000.0, 810000.0, 657500.0, 778000.0, 675000.0, 605000.0, 600000.0, 895000.0, 1910000.0, 2350000.0, 746000.0, 751000.0, 600000.0, 1561000.0, 700000.0, 720000.0, 1260000.0, 920000.0, 1180000.0, 1400000.0, 515000.0, 430000.0, 1025000.0, 1660000.0, 832000.0, 401000.0, 1455000.0, 975500.0, 880000.0, 2340000.0, 2225000.0, 801250.0, 791000.0, 4060000.0, 1151000.0, 2550000.0, 1680000.0, 1900000.0, 2800000.0, 1589000.0, 1385000.0, 951000.0, 1130000.0, 1350000.0, 905000.0, 1152000.0, 920000.0, 728000.0, 1030000.0, 2830000.0, 2260000.0, 2060000.0, 959000.0, 975000.0, 1160000.0, 887500.0, 940000.0, 815000.0, 580000.0, 1238000.0, 1535000.0, 1340000.0, 1322500.0, 2385000.0, 1935000.0, 1760000.0, 532000.0, 615000.0, 790000.0, 725000.0, 975000.0, 950000.0, 460000.0, 412500.0, 465000.0, 1188000.0, 905000.0, 1060000.0, 905000.0, 595000.0, 810000.0, 594000.0, 1400000.0, 1870000.0, 1620000.0, 1197000.0, 1065000.0, 493000.0, 1155000.0, 980000.0, 750000.0, 742000.0, 1688000.0, 725000.0, 655000.0, 950000.0, 540000.0, 842000.0, 670000.0, 1335000.0, 625000.0, 520000.0, 680500.0, 602000.0, 565000.0, 315000.0, 739000.0, 683000.0, 886000.0, 1160000.0, 821000.0, 2045000.0, 2200000.0, 930000.0, 803000.0, 560000.0, 625000.0, 735000.0, 1830000.0, 1655000.0, 395000.0, 1002500.0, 2090000.0, 1185000.0, 907800.0, 1010000.0, 435000.0, 1525000.0, 1072000.0, 1290000.0, 760000.0, 1500000.0, 1028800.0, 1840000.0, 940000.0, 1080000.0, 1118000.0, 710000.0, 1006000.0, 1510000.0, 1060000.0, 1260000.0, 2668000.0, 1365000.0, 1112000.0, 852000.0, 625500.0, 1800000.0, 700000.0, 937000.0, 1224000.0, 1426000.0, 621000.0, 465000.0, 1490000.0, 890000.0, 512000.0, 965000.0, 537000.0, 1848000.0, 516000.0, 763000.0, 605000.0, 717500.0, 682000.0, 640000.0, 2720000.0, 1715000.0, 1753000.0, 1745000.0, 1190000.0, 1400000.0, 1288000.0, 1450000.0, 1271000.0, 540000.0, 1263500.0, 951000.0, 1323000.0, 970000.0, 1330000.0, 635000.0, 582000.0, 1245000.0, 1170000.0], \"yaxis\": \"y\"}, {\"alignmentgroup\": \"True\", \"bingroup\": \"x\", \"histfunc\": \"sum\", \"hovertemplate\": \"Method=%{x}<br>sum of Price=%{y}<extra></extra>\", \"legendgroup\": \"SP\", \"marker\": {\"color\": \"#EF553B\"}, \"name\": \"SP\", \"offsetgroup\": \"SP\", \"orientation\": \"v\", \"showlegend\": true, \"type\": \"histogram\", \"x\": [\"SP\", \"SP\", \"SP\", \"SP\", \"SP\", \"SP\", \"SP\", \"SP\", \"SP\", \"SP\", \"SP\", \"SP\", \"SP\", \"SP\", \"SP\", \"SP\", \"SP\", \"SP\", \"SP\", \"SP\", \"SP\", \"SP\", \"SP\", \"SP\", \"SP\", \"SP\", \"SP\", \"SP\", \"SP\", \"SP\", \"SP\", \"SP\", \"SP\", \"SP\", \"SP\", \"SP\", \"SP\", \"SP\", \"SP\", \"SP\", \"SP\", \"SP\", \"SP\", \"SP\", \"SP\", \"SP\", \"SP\", \"SP\", \"SP\", \"SP\", \"SP\", \"SP\", \"SP\", \"SP\", \"SP\", \"SP\", \"SP\", \"SP\", \"SP\", \"SP\", \"SP\", \"SP\", \"SP\", \"SP\", \"SP\", \"SP\", \"SP\", \"SP\", \"SP\", \"SP\", \"SP\", \"SP\", \"SP\", \"SP\", \"SP\", \"SP\", \"SP\", \"SP\", \"SP\", \"SP\", \"SP\", \"SP\", \"SP\", \"SP\", \"SP\", \"SP\", \"SP\", \"SP\", \"SP\", \"SP\", \"SP\", \"SP\", \"SP\", \"SP\", \"SP\", \"SP\", \"SP\", \"SP\", \"SP\", \"SP\", \"SP\", \"SP\", \"SP\", \"SP\", \"SP\", \"SP\", \"SP\", \"SP\", \"SP\", \"SP\", \"SP\", \"SP\", \"SP\", \"SP\", \"SP\", \"SP\", \"SP\", \"SP\", \"SP\", \"SP\", \"SP\", \"SP\", \"SP\", \"SP\", \"SP\", \"SP\", \"SP\", \"SP\", \"SP\", \"SP\", \"SP\", \"SP\", \"SP\", \"SP\", \"SP\", \"SP\", \"SP\", \"SP\", \"SP\", \"SP\", \"SP\", \"SP\", \"SP\", \"SP\", \"SP\", \"SP\", \"SP\", \"SP\", \"SP\", \"SP\", \"SP\", \"SP\", \"SP\", \"SP\", \"SP\", \"SP\", \"SP\", \"SP\", \"SP\", \"SP\", \"SP\", \"SP\", \"SP\", \"SP\", \"SP\", \"SP\", \"SP\", \"SP\", \"SP\", \"SP\", \"SP\", \"SP\", \"SP\", \"SP\", \"SP\", \"SP\", \"SP\", \"SP\", \"SP\", \"SP\", \"SP\", \"SP\", \"SP\", \"SP\", \"SP\", \"SP\", \"SP\", \"SP\", \"SP\", \"SP\", \"SP\", \"SP\", \"SP\", \"SP\", \"SP\", \"SP\", \"SP\", \"SP\", \"SP\", \"SP\", \"SP\", \"SP\", \"SP\", \"SP\", \"SP\", \"SP\", \"SP\", \"SP\", \"SP\", \"SP\", \"SP\", \"SP\", \"SP\", \"SP\", \"SP\", \"SP\", \"SP\", \"SP\", \"SP\", \"SP\", \"SP\", \"SP\", \"SP\", \"SP\", \"SP\", \"SP\", \"SP\", \"SP\", \"SP\", \"SP\", \"SP\", \"SP\", \"SP\", \"SP\", \"SP\", \"SP\", \"SP\", \"SP\", \"SP\", \"SP\", \"SP\", \"SP\", \"SP\", \"SP\", \"SP\", \"SP\", \"SP\", \"SP\", \"SP\", \"SP\", \"SP\", \"SP\", \"SP\", \"SP\", \"SP\", \"SP\", \"SP\", \"SP\", \"SP\", \"SP\", \"SP\", \"SP\", \"SP\", \"SP\", \"SP\", \"SP\", \"SP\", \"SP\", \"SP\", \"SP\", \"SP\", \"SP\", \"SP\", \"SP\", \"SP\", \"SP\", \"SP\", \"SP\", \"SP\", \"SP\", \"SP\", \"SP\", \"SP\", \"SP\", \"SP\", \"SP\", \"SP\", \"SP\", \"SP\", \"SP\", \"SP\", \"SP\", \"SP\", \"SP\", \"SP\", \"SP\", \"SP\", \"SP\", \"SP\", \"SP\", \"SP\", \"SP\", \"SP\", \"SP\", \"SP\", \"SP\", \"SP\", \"SP\", \"SP\", \"SP\", \"SP\", \"SP\", \"SP\", \"SP\", \"SP\", \"SP\", \"SP\", \"SP\", \"SP\", \"SP\", \"SP\", \"SP\", \"SP\", \"SP\", \"SP\", \"SP\", \"SP\", \"SP\", \"SP\", \"SP\", \"SP\", \"SP\", \"SP\", \"SP\", \"SP\", \"SP\", \"SP\", \"SP\", \"SP\", \"SP\", \"SP\", \"SP\", \"SP\", \"SP\", \"SP\", \"SP\", \"SP\", \"SP\", \"SP\", \"SP\", \"SP\", \"SP\", \"SP\", \"SP\", \"SP\", \"SP\", \"SP\", \"SP\", \"SP\", \"SP\", \"SP\", \"SP\", \"SP\", \"SP\", \"SP\", \"SP\", \"SP\", \"SP\", \"SP\", \"SP\", \"SP\", \"SP\", \"SP\", \"SP\", \"SP\", \"SP\", \"SP\", \"SP\", \"SP\", \"SP\", \"SP\", \"SP\", \"SP\", \"SP\", \"SP\", \"SP\", \"SP\", \"SP\", \"SP\", \"SP\", \"SP\", \"SP\", \"SP\", \"SP\", \"SP\", \"SP\", \"SP\", \"SP\", \"SP\", \"SP\", \"SP\", \"SP\", \"SP\", \"SP\", \"SP\", \"SP\", \"SP\", \"SP\", \"SP\", \"SP\", \"SP\", \"SP\", \"SP\", \"SP\", \"SP\", \"SP\", \"SP\", \"SP\", \"SP\", \"SP\", \"SP\", \"SP\", \"SP\", \"SP\", \"SP\", \"SP\", \"SP\", \"SP\", \"SP\", \"SP\", \"SP\", \"SP\", \"SP\", \"SP\", \"SP\", \"SP\", \"SP\", \"SP\", \"SP\", \"SP\", \"SP\", \"SP\", \"SP\", \"SP\", \"SP\", \"SP\", \"SP\", \"SP\", \"SP\", \"SP\", \"SP\", \"SP\", \"SP\", \"SP\", \"SP\", \"SP\", \"SP\", \"SP\", \"SP\", \"SP\", \"SP\", \"SP\", \"SP\", \"SP\", \"SP\", \"SP\", \"SP\", \"SP\", \"SP\", \"SP\", \"SP\", \"SP\", \"SP\", \"SP\", \"SP\", \"SP\", \"SP\", \"SP\", \"SP\", \"SP\", \"SP\", \"SP\", \"SP\", \"SP\", \"SP\", \"SP\", \"SP\", \"SP\", \"SP\", \"SP\", \"SP\", \"SP\", \"SP\", \"SP\", \"SP\", \"SP\", \"SP\", \"SP\", \"SP\", \"SP\", \"SP\", \"SP\", \"SP\", \"SP\", \"SP\", \"SP\", \"SP\", \"SP\", \"SP\", \"SP\", \"SP\", \"SP\", \"SP\", \"SP\", \"SP\", \"SP\", \"SP\", \"SP\", \"SP\", \"SP\", \"SP\", \"SP\", \"SP\", \"SP\", \"SP\", \"SP\", \"SP\", \"SP\", \"SP\", \"SP\", \"SP\", \"SP\", \"SP\", \"SP\", \"SP\", \"SP\", \"SP\", \"SP\", \"SP\", \"SP\", \"SP\", \"SP\", \"SP\", \"SP\", \"SP\", \"SP\", \"SP\", \"SP\", \"SP\", \"SP\", \"SP\", \"SP\", \"SP\", \"SP\", \"SP\", \"SP\", \"SP\", \"SP\", \"SP\", \"SP\", \"SP\", \"SP\", \"SP\", \"SP\", \"SP\", \"SP\", \"SP\", \"SP\", \"SP\", \"SP\", \"SP\", \"SP\", \"SP\", \"SP\", \"SP\", \"SP\", \"SP\", \"SP\", \"SP\", \"SP\", \"SP\", \"SP\", \"SP\", \"SP\", \"SP\", \"SP\", \"SP\", \"SP\", \"SP\", \"SP\", \"SP\", \"SP\", \"SP\", \"SP\", \"SP\", \"SP\", \"SP\", \"SP\", \"SP\", \"SP\", \"SP\", \"SP\", \"SP\", \"SP\", \"SP\", \"SP\", \"SP\", \"SP\", \"SP\", \"SP\", \"SP\", \"SP\", \"SP\", \"SP\", \"SP\", \"SP\", \"SP\", \"SP\", \"SP\", \"SP\", \"SP\", \"SP\", \"SP\", \"SP\", \"SP\", \"SP\", \"SP\", \"SP\", \"SP\", \"SP\", \"SP\", \"SP\", \"SP\", \"SP\", \"SP\", \"SP\", \"SP\", \"SP\", \"SP\", \"SP\", \"SP\", \"SP\", \"SP\", \"SP\", \"SP\", \"SP\", \"SP\", \"SP\", \"SP\", \"SP\", \"SP\", \"SP\", \"SP\", \"SP\", \"SP\", \"SP\", \"SP\", \"SP\", \"SP\", \"SP\", \"SP\", \"SP\", \"SP\", \"SP\", \"SP\", \"SP\", \"SP\", \"SP\", \"SP\", \"SP\", \"SP\", \"SP\", \"SP\", \"SP\", \"SP\", \"SP\", \"SP\", \"SP\", \"SP\", \"SP\", \"SP\", \"SP\", \"SP\", \"SP\", \"SP\", \"SP\", \"SP\", \"SP\", \"SP\", \"SP\", \"SP\", \"SP\", \"SP\", \"SP\", \"SP\", \"SP\", \"SP\", \"SP\", \"SP\", \"SP\", \"SP\", \"SP\", \"SP\", \"SP\", \"SP\", \"SP\", \"SP\", \"SP\", \"SP\", \"SP\", \"SP\", \"SP\", \"SP\", \"SP\", \"SP\", \"SP\", \"SP\", \"SP\", \"SP\", \"SP\", \"SP\", \"SP\", \"SP\", \"SP\", \"SP\", \"SP\", \"SP\", \"SP\", \"SP\", \"SP\", \"SP\", \"SP\", \"SP\", \"SP\", \"SP\", \"SP\", \"SP\", \"SP\", \"SP\", \"SP\", \"SP\", \"SP\", \"SP\", \"SP\", \"SP\", \"SP\", \"SP\", \"SP\", \"SP\", \"SP\", \"SP\", \"SP\", \"SP\", \"SP\", \"SP\", \"SP\", \"SP\", \"SP\", \"SP\", \"SP\", \"SP\", \"SP\", \"SP\", \"SP\", \"SP\", \"SP\", \"SP\", \"SP\", \"SP\", \"SP\", \"SP\", \"SP\", \"SP\", \"SP\", \"SP\", \"SP\", \"SP\", \"SP\", \"SP\", \"SP\", \"SP\", \"SP\", \"SP\", \"SP\", \"SP\", \"SP\", \"SP\", \"SP\", \"SP\", \"SP\", \"SP\", \"SP\", \"SP\", \"SP\", \"SP\", \"SP\", \"SP\", \"SP\", \"SP\", \"SP\", \"SP\", \"SP\", \"SP\", \"SP\", \"SP\", \"SP\", \"SP\", \"SP\", \"SP\", \"SP\", \"SP\", \"SP\", \"SP\", \"SP\", \"SP\", \"SP\", \"SP\", \"SP\", \"SP\", \"SP\", \"SP\", \"SP\", \"SP\", \"SP\", \"SP\", \"SP\", \"SP\", \"SP\", \"SP\", \"SP\", \"SP\", \"SP\", \"SP\", \"SP\", \"SP\", \"SP\", \"SP\", \"SP\", \"SP\", \"SP\", \"SP\", \"SP\", \"SP\", \"SP\", \"SP\", \"SP\", \"SP\", \"SP\", \"SP\", \"SP\", \"SP\", \"SP\", \"SP\", \"SP\", \"SP\", \"SP\", \"SP\", \"SP\", \"SP\", \"SP\", \"SP\", \"SP\", \"SP\", \"SP\", \"SP\", \"SP\", \"SP\", \"SP\", \"SP\", \"SP\", \"SP\", \"SP\", \"SP\", \"SP\", \"SP\", \"SP\", \"SP\", \"SP\", \"SP\", \"SP\", \"SP\", \"SP\", \"SP\", \"SP\", \"SP\", \"SP\", \"SP\", \"SP\", \"SP\", \"SP\", \"SP\", \"SP\", \"SP\", \"SP\", \"SP\", \"SP\", \"SP\", \"SP\", \"SP\", \"SP\", \"SP\", \"SP\", \"SP\", \"SP\", \"SP\", \"SP\", \"SP\", \"SP\", \"SP\", \"SP\", \"SP\", \"SP\", \"SP\", \"SP\", \"SP\", \"SP\", \"SP\", \"SP\", \"SP\", \"SP\", \"SP\", \"SP\", \"SP\", \"SP\", \"SP\", \"SP\", \"SP\", \"SP\", \"SP\", \"SP\", \"SP\", \"SP\", \"SP\", \"SP\", \"SP\", \"SP\", \"SP\", \"SP\", \"SP\", \"SP\", \"SP\", \"SP\", \"SP\", \"SP\", \"SP\", \"SP\", \"SP\", \"SP\", \"SP\", \"SP\", \"SP\", \"SP\", \"SP\", \"SP\", \"SP\", \"SP\", \"SP\", \"SP\", \"SP\", \"SP\", \"SP\", \"SP\", \"SP\", \"SP\", \"SP\", \"SP\", \"SP\", \"SP\", \"SP\", \"SP\", \"SP\", \"SP\", \"SP\", \"SP\", \"SP\", \"SP\", \"SP\", \"SP\", \"SP\", \"SP\", \"SP\", \"SP\", \"SP\", \"SP\", \"SP\", \"SP\", \"SP\", \"SP\", \"SP\", \"SP\", \"SP\", \"SP\", \"SP\", \"SP\", \"SP\", \"SP\", \"SP\", \"SP\", \"SP\", \"SP\", \"SP\", \"SP\", \"SP\", \"SP\", \"SP\", \"SP\", \"SP\", \"SP\", \"SP\", \"SP\", \"SP\", \"SP\", \"SP\", \"SP\", \"SP\", \"SP\", \"SP\", \"SP\", \"SP\", \"SP\", \"SP\", \"SP\", \"SP\", \"SP\", \"SP\", \"SP\", \"SP\", \"SP\", \"SP\", \"SP\", \"SP\", \"SP\", \"SP\", \"SP\", \"SP\", \"SP\", \"SP\", \"SP\", \"SP\", \"SP\", \"SP\", \"SP\", \"SP\", \"SP\", \"SP\", \"SP\", \"SP\", \"SP\", \"SP\", \"SP\", \"SP\", \"SP\", \"SP\", \"SP\", \"SP\", \"SP\", \"SP\", \"SP\", \"SP\", \"SP\", \"SP\", \"SP\", \"SP\", \"SP\", \"SP\", \"SP\", \"SP\", \"SP\", \"SP\", \"SP\", \"SP\", \"SP\", \"SP\", \"SP\", \"SP\", \"SP\", \"SP\", \"SP\", \"SP\", \"SP\", \"SP\", \"SP\", \"SP\", \"SP\", \"SP\", \"SP\", \"SP\", \"SP\", \"SP\", \"SP\", \"SP\", \"SP\", \"SP\", \"SP\", \"SP\", \"SP\", \"SP\", \"SP\", \"SP\", \"SP\", \"SP\", \"SP\", \"SP\", \"SP\", \"SP\", \"SP\", \"SP\", \"SP\", \"SP\", \"SP\", \"SP\", \"SP\", \"SP\", \"SP\", \"SP\", \"SP\", \"SP\", \"SP\", \"SP\", \"SP\", \"SP\", \"SP\", \"SP\", \"SP\", \"SP\", \"SP\", \"SP\", \"SP\", \"SP\", \"SP\", \"SP\", \"SP\", \"SP\", \"SP\", \"SP\", \"SP\", \"SP\", \"SP\", \"SP\", \"SP\", \"SP\", \"SP\", \"SP\", \"SP\", \"SP\", \"SP\", \"SP\", \"SP\", \"SP\", \"SP\", \"SP\", \"SP\", \"SP\", \"SP\", \"SP\", \"SP\", \"SP\", \"SP\", \"SP\", \"SP\", \"SP\", \"SP\", \"SP\", \"SP\", \"SP\", \"SP\", \"SP\", \"SP\", \"SP\", \"SP\", \"SP\", \"SP\", \"SP\", \"SP\", \"SP\", \"SP\", \"SP\", \"SP\", \"SP\", \"SP\", \"SP\", \"SP\", \"SP\", \"SP\", \"SP\", \"SP\", \"SP\", \"SP\", \"SP\", \"SP\", \"SP\", \"SP\", \"SP\", \"SP\", \"SP\", \"SP\", \"SP\", \"SP\", \"SP\", \"SP\", \"SP\", \"SP\", \"SP\", \"SP\", \"SP\", \"SP\", \"SP\", \"SP\", \"SP\", \"SP\", \"SP\", \"SP\", \"SP\", \"SP\", \"SP\", \"SP\", \"SP\", \"SP\", \"SP\", \"SP\", \"SP\", \"SP\", \"SP\", \"SP\", \"SP\", \"SP\", \"SP\", \"SP\", \"SP\", \"SP\", \"SP\", \"SP\", \"SP\", \"SP\", \"SP\", \"SP\", \"SP\", \"SP\", \"SP\", \"SP\", \"SP\", \"SP\", \"SP\", \"SP\", \"SP\", \"SP\", \"SP\", \"SP\", \"SP\", \"SP\", \"SP\", \"SP\", \"SP\", \"SP\", \"SP\", \"SP\", \"SP\", \"SP\", \"SP\", \"SP\", \"SP\", \"SP\", \"SP\", \"SP\", \"SP\", \"SP\", \"SP\", \"SP\", \"SP\", \"SP\", \"SP\", \"SP\", \"SP\", \"SP\", \"SP\", \"SP\", \"SP\", \"SP\", \"SP\", \"SP\", \"SP\", \"SP\", \"SP\", \"SP\", \"SP\", \"SP\", \"SP\", \"SP\", \"SP\", \"SP\", \"SP\", \"SP\", \"SP\", \"SP\", \"SP\", \"SP\", \"SP\", \"SP\", \"SP\", \"SP\", \"SP\", \"SP\", \"SP\", \"SP\", \"SP\", \"SP\", \"SP\", \"SP\", \"SP\", \"SP\", \"SP\", \"SP\", \"SP\", \"SP\", \"SP\", \"SP\", \"SP\", \"SP\", \"SP\", \"SP\", \"SP\", \"SP\", \"SP\", \"SP\", \"SP\", \"SP\", \"SP\", \"SP\", \"SP\", \"SP\", \"SP\", \"SP\", \"SP\", \"SP\", \"SP\", \"SP\", \"SP\", \"SP\", \"SP\", \"SP\", \"SP\", \"SP\", \"SP\", \"SP\", \"SP\", \"SP\", \"SP\", \"SP\", \"SP\", \"SP\", \"SP\", \"SP\", \"SP\", \"SP\", \"SP\", \"SP\", \"SP\", \"SP\", \"SP\", \"SP\", \"SP\", \"SP\", \"SP\", \"SP\", \"SP\", \"SP\", \"SP\", \"SP\", \"SP\", \"SP\", \"SP\", \"SP\", \"SP\", \"SP\", \"SP\", \"SP\", \"SP\", \"SP\", \"SP\", \"SP\", \"SP\", \"SP\", \"SP\", \"SP\", \"SP\", \"SP\", \"SP\", \"SP\", \"SP\", \"SP\", \"SP\", \"SP\", \"SP\", \"SP\", \"SP\", \"SP\", \"SP\", \"SP\", \"SP\", \"SP\", \"SP\", \"SP\", \"SP\", \"SP\", \"SP\", \"SP\", \"SP\", \"SP\", \"SP\", \"SP\", \"SP\", \"SP\", \"SP\", \"SP\", \"SP\", \"SP\", \"SP\", \"SP\", \"SP\", \"SP\", \"SP\", \"SP\", \"SP\", \"SP\", \"SP\", \"SP\", \"SP\", \"SP\", \"SP\", \"SP\", \"SP\", \"SP\", \"SP\", \"SP\", \"SP\", \"SP\", \"SP\", \"SP\", \"SP\", \"SP\", \"SP\", \"SP\", \"SP\", \"SP\", \"SP\", \"SP\", \"SP\", \"SP\", \"SP\", \"SP\", \"SP\", \"SP\", \"SP\", \"SP\", \"SP\", \"SP\", \"SP\", \"SP\", \"SP\", \"SP\", \"SP\", \"SP\", \"SP\", \"SP\", \"SP\", \"SP\", \"SP\", \"SP\", \"SP\", \"SP\", \"SP\", \"SP\", \"SP\", \"SP\", \"SP\", \"SP\", \"SP\", \"SP\", \"SP\", \"SP\", \"SP\", \"SP\", \"SP\", \"SP\", \"SP\", \"SP\", \"SP\", \"SP\", \"SP\", \"SP\", \"SP\", \"SP\", \"SP\", \"SP\", \"SP\", \"SP\", \"SP\", \"SP\", \"SP\", \"SP\", \"SP\", \"SP\", \"SP\", \"SP\", \"SP\", \"SP\", \"SP\", \"SP\", \"SP\", \"SP\", \"SP\", \"SP\", \"SP\", \"SP\", \"SP\", \"SP\", \"SP\", \"SP\", \"SP\", \"SP\", \"SP\", \"SP\", \"SP\", \"SP\", \"SP\", \"SP\", \"SP\", \"SP\", \"SP\", \"SP\", \"SP\", \"SP\", \"SP\", \"SP\", \"SP\", \"SP\", \"SP\", \"SP\", \"SP\", \"SP\", \"SP\", \"SP\", \"SP\", \"SP\", \"SP\", \"SP\", \"SP\", \"SP\", \"SP\", \"SP\", \"SP\", \"SP\", \"SP\", \"SP\", \"SP\", \"SP\", \"SP\", \"SP\", \"SP\", \"SP\", \"SP\", \"SP\", \"SP\", \"SP\", \"SP\", \"SP\", \"SP\", \"SP\", \"SP\", \"SP\", \"SP\", \"SP\", \"SP\", \"SP\", \"SP\", \"SP\", \"SP\", \"SP\", \"SP\", \"SP\", \"SP\", \"SP\", \"SP\", \"SP\", \"SP\", \"SP\", \"SP\", \"SP\", \"SP\", \"SP\", \"SP\", \"SP\", \"SP\", \"SP\", \"SP\", \"SP\", \"SP\", \"SP\", \"SP\", \"SP\", \"SP\", \"SP\", \"SP\", \"SP\", \"SP\", \"SP\", \"SP\", \"SP\", \"SP\", \"SP\", \"SP\", \"SP\", \"SP\", \"SP\", \"SP\", \"SP\", \"SP\", \"SP\", \"SP\", \"SP\", \"SP\", \"SP\", \"SP\", \"SP\", \"SP\", \"SP\", \"SP\", \"SP\", \"SP\", \"SP\", \"SP\", \"SP\", \"SP\", \"SP\", \"SP\", \"SP\", \"SP\", \"SP\", \"SP\", \"SP\", \"SP\", \"SP\", \"SP\", \"SP\", \"SP\", \"SP\", \"SP\", \"SP\", \"SP\", \"SP\", \"SP\", \"SP\", \"SP\", \"SP\", \"SP\", \"SP\", \"SP\", \"SP\", \"SP\", \"SP\", \"SP\", \"SP\", \"SP\", \"SP\", \"SP\", \"SP\", \"SP\", \"SP\", \"SP\", \"SP\", \"SP\", \"SP\", \"SP\", \"SP\", \"SP\", \"SP\", \"SP\", \"SP\", \"SP\", \"SP\", \"SP\", \"SP\", \"SP\", \"SP\", \"SP\", \"SP\", \"SP\", \"SP\", \"SP\", \"SP\", \"SP\", \"SP\", \"SP\", \"SP\", \"SP\", \"SP\", \"SP\", \"SP\", \"SP\", \"SP\", \"SP\", \"SP\", \"SP\"], \"xaxis\": \"x\", \"y\": [1465000.0, 441000.0, 426000.0, 1195000.0, 770000.0, 725000.0, 670000.0, 540000.0, 825000.0, 2100000.0, 865000.0, 650000.0, 1900000.0, 1485000.0, 1780000.0, 406000.0, 800000.0, 391000.0, 440000.0, 743000.0, 730000.0, 620000.0, 730000.0, 840000.0, 857000.0, 730000.0, 535600.0, 750000.0, 875000.0, 650000.0, 965000.0, 770000.0, 693000.0, 620000.0, 1200000.0, 700000.0, 1918000.0, 660000.0, 1435000.0, 440000.0, 704000.0, 315000.0, 546000.0, 467000.0, 1380000.0, 971000.0, 750000.0, 950000.0, 890000.0, 610000.0, 890000.0, 1180000.0, 865000.0, 1050000.0, 2215000.0, 1200000.0, 1270000.0, 750000.0, 627500.0, 650000.0, 725000.0, 615000.0, 850000.0, 550000.0, 850000.0, 635000.0, 642000.0, 740000.0, 442000.0, 500000.0, 2125000.0, 3600000.0, 1500000.0, 1570000.0, 1670000.0, 2070000.0, 980000.0, 2170000.0, 1350000.0, 685000.0, 1135000.0, 855000.0, 1100000.0, 650000.0, 1400000.0, 1275000.0, 495000.0, 1100000.0, 930000.0, 1005000.0, 1510000.0, 920000.0, 1115000.0, 1115000.0, 485000.0, 1370000.0, 1360000.0, 1715000.0, 1200000.0, 288000.0, 1500000.0, 340000.0, 502000.0, 645000.0, 510000.0, 536000.0, 1850000.0, 1785000.0, 2517500.0, 2700000.0, 1005000.0, 3050000.0, 1630000.0, 2250000.0, 930000.0, 1250000.0, 750000.0, 1780000.0, 1301000.0, 2050000.0, 1725000.0, 681000.0, 1537000.0, 1050000.0, 950000.0, 587000.0, 685000.0, 641000.0, 1050000.0, 435000.0, 641000.0, 860000.0, 820000.0, 1020000.0, 772000.0, 1350000.0, 300000.0, 400000.0, 400500.0, 900000.0, 385000.0, 537000.0, 1585000.0, 1303000.0, 1250000.0, 1300000.0, 1302000.0, 1782800.0, 1070500.0, 950000.0, 717000.0, 435000.0, 1622000.0, 435000.0, 1800000.0, 1515000.0, 2800000.0, 3320000.0, 690500.0, 2950000.0, 600000.0, 860000.0, 525000.0, 700000.0, 588000.0, 920000.0, 380000.0, 1600000.0, 638000.0, 580000.0, 523000.0, 608000.0, 1400000.0, 722000.0, 965000.0, 1000000.0, 1417000.0, 1180000.0, 825000.0, 533000.0, 850000.0, 735000.0, 500000.0, 1064000.0, 653000.0, 1130000.0, 657000.0, 1742000.0, 1000000.0, 470000.0, 920000.0, 990000.0, 700000.0, 951000.0, 445000.0, 931000.0, 1007000.0, 645000.0, 655000.0, 820000.0, 715000.0, 735000.0, 735000.0, 745000.0, 820000.0, 650000.0, 792000.0, 1125000.0, 452000.0, 415000.0, 372000.0, 461000.0, 1000000.0, 1461800.0, 655000.0, 1250000.0, 1460000.0, 1460800.0, 1102200.0, 751800.0, 600000.0, 1400000.0, 1160000.0, 2600000.0, 392500.0, 1122000.0, 525500.0, 684000.0, 680000.0, 470000.0, 875000.0, 582500.0, 340000.0, 900000.0, 1130000.0, 485000.0, 280000.0, 395000.0, 1170000.0, 1600000.0, 1535000.0, 1400000.0, 450000.0, 691000.0, 645000.0, 450000.0, 340000.0, 846000.0, 548000.0, 545000.0, 465000.0, 660000.0, 700000.0, 700000.0, 358500.0, 1275000.0, 675000.0, 380000.0, 425000.0, 715000.0, 950000.0, 730000.0, 855000.0, 1700000.0, 345000.0, 957000.0, 395000.0, 1225000.0, 431000.0, 605000.0, 752000.0, 900000.0, 775000.0, 1100000.0, 295000.0, 433000.0, 410000.0, 775000.0, 820000.0, 370000.0, 711000.0, 690500.0, 858000.0, 835000.0, 850000.0, 740000.0, 561000.0, 1225000.0, 395000.0, 1450000.0, 550000.0, 411000.0, 585000.0, 1800000.0, 1020000.0, 1456000.0, 480000.0, 382000.0, 1770000.0, 1950000.0, 555000.0, 980000.0, 530000.0, 460000.0, 250000.0, 410000.0, 470000.0, 482500.0, 420000.0, 550000.0, 600000.0, 600000.0, 655000.0, 500000.0, 762700.0, 440000.0, 501000.0, 700000.0, 740000.0, 685500.0, 465000.0, 487000.0, 545000.0, 750074.0, 550000.0, 640000.0, 802000.0, 1460000.0, 3470000.0, 1620000.0, 500000.0, 800000.0, 440000.0, 1780000.0, 1800000.0, 382000.0, 815000.0, 725000.0, 659500.0, 450000.0, 510000.0, 1100000.0, 510000.0, 560000.0, 735000.0, 497500.0, 360000.0, 415000.0, 675000.0, 460000.0, 440000.0, 475000.0, 420000.0, 1225000.0, 421000.0, 385000.0, 740000.0, 365000.0, 582000.0, 545000.0, 500000.0, 560000.0, 450000.0, 650000.0, 770000.0, 650000.0, 920000.0, 470000.0, 680000.0, 570000.0, 720000.0, 735000.0, 710000.0, 715000.0, 1291000.0, 420000.0, 1031000.0, 918000.0, 515000.0, 1234500.0, 812000.0, 732000.0, 1000000.0, 1155000.0, 813500.0, 790000.0, 460000.0, 850000.0, 1211000.0, 506000.0, 1528500.0, 610000.0, 1878000.0, 590000.0, 610000.0, 730000.0, 1315000.0, 1315000.0, 640000.0, 1200000.0, 695000.0, 880000.0, 490000.0, 725000.0, 502000.0, 1000000.0, 335000.0, 832000.0, 646000.0, 673000.0, 930000.0, 510000.0, 725500.0, 765000.0, 490000.0, 865000.0, 611000.0, 566000.0, 3400000.0, 1965000.0, 420000.0, 1505000.0, 2210000.0, 350000.0, 373000.0, 425000.0, 500000.0, 870000.0, 355000.0, 550000.0, 420000.0, 940000.0, 920000.0, 1150000.0, 680000.0, 330000.0, 400000.0, 456000.0, 675000.0, 1048700.0, 1180000.0, 770000.0, 1230000.0, 780000.0, 671000.0, 545000.0, 700000.0, 702000.0, 1630000.0, 1320000.0, 2588000.0, 1225000.0, 1550000.0, 880000.0, 360000.0, 1145000.0, 1400000.0, 1833000.0, 672000.0, 1345000.0, 1425000.0, 1345000.0, 330000.0, 650000.0, 956000.0, 1683000.0, 730000.0, 1090000.0, 980000.0, 950000.0, 975000.0, 1025000.0, 900000.0, 1210000.0, 995000.0, 930000.0, 930000.0, 800000.0, 1060000.0, 1046000.0, 485000.0, 801000.0, 1200000.0, 993000.0, 901000.0, 650000.0, 891500.0, 680000.0, 988000.0, 890000.0, 1100000.0, 670000.0, 643700.0, 900000.0, 1126000.0, 1350000.0, 600000.0, 1065000.0, 875000.0, 522500.0, 491000.0, 528500.0, 550000.0, 368000.0, 450000.0, 1200000.0, 630000.0, 550055.0, 358000.0, 587134.0, 1590000.0, 2000000.0, 583000.0, 418000.0, 1655000.0, 385000.0, 1050000.0, 1900000.0, 888000.0, 810000.0, 701000.0, 2315000.0, 1225000.0, 4300000.0, 1090000.0, 1820000.0, 1634000.0, 770000.0, 900000.0, 840000.0, 810000.0, 782000.0, 801347.0, 752500.0, 937500.0, 395000.0, 734600.0, 526000.0, 965000.0, 750000.0, 495000.0, 738000.0, 530000.0, 521500.0, 667500.0, 900000.0, 770000.0, 975000.0, 515000.0, 750000.0, 822000.0, 1000000.0, 533000.0, 985000.0, 665000.0, 720000.0, 650000.0, 599000.0, 1200000.0, 1100000.0, 845000.0, 516000.0, 900000.0, 456000.0, 470000.0, 1252000.0, 1405000.0, 482500.0, 712500.0, 240000.0, 930000.0, 950000.0, 843000.0, 799900.0, 900000.0, 1000000.0, 1260000.0, 900000.0, 920000.0, 830000.0, 910000.0, 810000.0, 750000.0, 1040000.0, 900000.0, 425000.0, 1186000.0, 930000.0, 352000.0, 651000.0, 440000.0, 650000.0, 301000.0, 810000.0, 682000.0, 350000.0, 335000.0, 836000.0, 635000.0, 440000.0, 715000.0, 670000.0, 800000.0, 440000.0, 475000.0, 440000.0, 840000.0, 395000.0, 620000.0, 820000.0, 1186000.0, 390000.0, 500000.0, 437500.0, 421000.0, 3200000.0, 550000.0, 1474000.0, 439000.0, 391000.0, 760000.0, 640000.0, 810000.0, 604000.0, 450000.0, 1200000.0, 2055000.0, 1150000.0, 560000.0, 870000.0, 1050000.0, 1051000.0, 720000.0, 821000.0, 915000.0, 1020000.0, 515000.0, 867000.0, 1075000.0, 720000.0, 880000.0, 1395000.0, 755000.0, 822500.0, 1025000.0, 1275000.0, 955000.0, 1455000.0, 1032000.0, 1600000.0, 575000.0, 1595000.0, 930000.0, 742000.0, 560000.0, 722000.0, 467500.0, 450000.0, 775000.0, 572000.0, 623500.0, 370000.0, 659000.0, 515000.0, 1780000.0, 310000.0, 520000.0, 510000.0, 1700000.0, 868000.0, 815000.0, 1016000.0, 575000.0, 500000.0, 450000.0, 459000.0, 395000.0, 475000.0, 430000.0, 420000.0, 540000.0, 475000.0, 335000.0, 450000.0, 1435000.0, 750000.0, 500000.0, 720000.0, 461000.0, 430000.0, 435000.0, 1150000.0, 1500000.0, 995000.0, 1205000.0, 1000000.0, 745000.0, 725000.0, 950000.0, 425500.0, 595999.0, 550000.0, 700000.0, 702000.0, 410000.0, 555000.0, 650000.0, 605000.0, 650000.0, 635800.0, 580000.0, 680000.0, 620000.0, 450000.0, 581000.0, 621000.0, 510000.0, 500000.0, 650000.0, 472500.0, 280000.0, 305000.0, 500000.0, 510000.0, 1325000.0, 550000.0, 2180000.0, 1835000.0, 1201000.0, 1500000.0, 1050000.0, 1220000.0, 1428888.0, 505000.0, 944000.0, 1110000.0, 332000.0, 910500.0, 1400000.0, 571750.0, 1290000.0, 438000.0, 1570000.0, 1478000.0, 1280000.0, 510000.0, 303500.0, 1160000.0, 1380000.0, 462800.0, 810000.0, 515501.0, 611000.0, 1300000.0, 511000.0, 645000.0, 2250000.0, 880000.0, 555000.0, 775000.0, 440000.0, 870000.0, 600000.0, 741000.0, 482000.0, 850000.0, 2910000.0, 2910000.0, 310000.0, 1560000.0, 830000.0, 830000.0, 1410000.0, 1900000.0, 906000.0, 1126000.0, 935000.0, 375000.0, 830000.0, 547500.0, 412000.0, 1337500.0, 960000.0, 1710000.0, 400000.0, 1410000.0, 460000.0, 881000.0, 1440000.0, 1225000.0, 1200000.0, 600000.0, 890000.0, 760000.0, 770000.0, 1235000.0, 796000.0, 1320000.0, 510000.0, 1419000.0, 501344.0, 610000.0, 950000.0, 865000.0, 1081000.0, 1430000.0, 1275000.0, 1606000.0, 480500.0, 1460000.0, 760000.0, 935000.0, 1300000.0, 670000.0, 645000.0, 720000.0, 1350000.0, 899000.0, 400000.0, 771000.0, 1005000.0, 1231010.0, 881000.0, 368000.0, 735000.0, 1590000.0, 840000.0, 920000.0, 1600000.0, 740000.0, 1935000.0, 565000.0, 900000.0, 630000.0, 750000.0, 765000.0, 810000.0, 645000.0, 333000.0, 662000.0, 650000.0, 640000.0, 640000.0, 460000.0, 850000.0, 752500.0, 650000.0, 650000.0, 617000.0, 640000.0, 470000.0, 365000.0, 655250.0, 1625000.0, 595000.0, 690000.0, 3850000.0, 1000000.0, 677200.0, 1035000.0, 685000.0, 1275000.0, 925000.0, 1100000.0, 605000.0, 860000.0, 835000.0, 1401000.0, 973000.0, 260000.0, 296000.0, 362000.0, 1690000.0, 520000.0, 347000.0, 530000.0, 875000.0, 545000.0, 991000.0, 288000.0, 1151500.0, 830000.0, 593000.0, 600000.0, 319000.0, 625000.0, 190000.0, 507000.0, 600000.0, 1050000.0, 865000.0, 405000.0, 415000.0, 650000.0, 915000.0, 845000.0, 1030000.0, 392250.0, 420000.0, 855000.0, 611000.0, 1562000.0, 1100000.0, 315000.0, 620000.0, 722000.0, 393000.0, 2035000.0, 916000.0, 900000.0, 770000.0, 850000.0, 1300000.0, 1250000.0, 760000.0, 620000.0, 1055000.0, 535000.0, 572000.0, 441700.0, 730000.0, 2550000.0, 735000.0, 1210000.0, 981000.0, 418000.0, 884000.0, 957000.0, 550000.0, 460000.0, 435000.0, 835000.0, 407500.0, 645000.0, 910000.0, 1590000.0, 3115000.0, 305000.0, 550000.0, 575000.0, 677776.0, 1020000.0, 901000.0, 1000000.0, 1400000.0, 310000.0, 700000.0, 328000.0, 1520000.0, 1100000.0, 1085000.0, 1320000.0, 485000.0, 315000.0, 882000.0, 260000.0, 1452000.0, 1800000.0, 690000.0, 595000.0, 680000.0, 740000.0, 837000.0, 275000.0, 560000.0, 500000.0, 706000.0, 630000.0, 490000.0, 570000.0, 700000.0, 2425000.0, 1190000.0, 860000.0, 405000.0, 930000.0, 365000.0, 333000.0, 442500.0, 490000.0, 586000.0, 1230000.0, 1400000.0, 1820000.0, 1410000.0, 1215000.0, 828000.0, 1075000.0, 500000.0, 680000.0, 1300000.0, 1100000.0, 1610000.0, 601000.0, 755000.0, 800000.0, 806000.0, 497000.0, 730000.0, 1305000.0, 550000.0, 413000.0, 1010000.0, 2300000.0, 1108000.0, 385000.0, 595000.0, 801000.0, 800000.0, 370000.0, 790000.0, 1150000.0, 390500.0, 346000.0, 610500.0, 1000000.0, 910000.0, 995000.0, 1150000.0, 515000.0, 710000.0, 1260000.0, 1250000.0, 1181000.0, 998000.0, 300000.0, 880000.0, 1100000.0, 715000.0, 470000.0, 580000.0, 2165000.0, 2075000.0, 1150000.0, 1412000.0, 550000.0, 1200000.0, 950000.0, 1131500.0, 650000.0, 497600.0, 872500.0, 1000000.0, 840000.0, 1480000.0, 600000.0, 740000.0, 687000.0, 800000.0, 1200000.0, 681500.0, 485000.0, 355000.0, 535000.0, 730000.0, 811000.0, 1817000.0, 1817000.0, 321000.0, 1100000.0, 1520000.0, 720000.0, 854000.0, 350000.0, 450000.0, 295000.0, 360000.0, 5200000.0, 825000.0, 1045000.0, 627500.0, 3250000.0, 1731000.0, 545000.0, 922000.0, 570000.0, 760000.0, 840000.0, 1856000.0, 940000.0, 521000.0, 847000.0, 1210000.0, 650000.0, 650500.0, 735000.0, 535000.0, 530000.0, 675000.0, 320000.0, 480000.0, 2200000.0, 650000.0, 655000.0, 800000.0, 840000.0, 900000.0, 890500.0, 340000.0, 517500.0, 460000.0, 551200.0, 2070000.0, 385000.0, 500000.0, 905000.0, 1015000.0, 1000000.0, 1115000.0, 540000.0, 1880000.0, 1000000.0, 1460000.0, 767000.0, 990000.0, 780000.0, 783000.0, 706500.0, 1590000.0, 1435000.0, 765000.0, 1200000.0, 1455000.0, 965000.0, 350000.0, 690000.0, 1157000.0, 1025000.0, 305000.0, 2600000.0, 1360000.0, 545000.0, 975000.0, 695500.0, 452000.0, 830000.0, 701000.0, 485000.0, 580000.0, 990000.0, 800001.0, 1085000.0, 815000.0, 800000.0, 663500.0, 1850000.0, 1090000.0, 872000.0, 730000.0, 280000.0, 485000.0, 1315000.0, 665000.0, 850000.0, 857700.0, 766000.0, 1710000.0, 515000.0, 1180000.0, 800000.0, 1400000.0, 535000.0, 410000.0, 520000.0, 695000.0, 751000.0, 820000.0, 750000.0, 1280000.0, 655000.0, 531000.0, 490000.0, 472000.0, 750000.0, 480000.0, 540000.0, 750000.0, 820000.0, 1750000.0, 1400000.0, 1650000.0, 750000.0, 925000.0, 1573000.0, 1280000.0, 2100000.0, 510000.0, 1925000.0, 755000.0, 2361000.0, 295000.0, 980000.0, 1500000.0, 1460000.0, 840000.0, 1065000.0, 660000.0, 685000.0, 675000.0, 1220000.0, 730000.0, 392000.0, 1415000.0, 370000.0, 400000.0, 505500.0, 1850000.0, 1150000.0, 1352000.0, 1305000.0, 503000.0, 1060000.0, 840000.0, 1071888.0, 1300000.0, 550000.0, 440000.0, 635000.0, 755000.0, 1005800.0, 900000.0, 900000.0, 555698.0, 455000.0, 780000.0, 1041000.0, 830000.0, 737500.0, 1020000.0, 675000.0, 1225000.0, 2655000.0, 3275000.0, 520000.0, 1268000.0, 2400000.0, 1150000.0, 800000.0, 780000.0, 1095000.0, 801000.0, 1275000.0, 1340000.0, 653000.0, 2180000.0, 1100000.0, 925000.0, 810000.0, 685000.0, 875000.0, 975000.0, 875000.0, 575000.0, 395000.0, 511500.0, 1690000.0, 970000.0, 597500.0, 1220000.0, 1071888.0, 560000.0, 1300000.0, 860000.0, 365000.0, 890500.0, 355000.0, 645000.0, 833800.0, 1235000.0, 1000000.0, 800000.0, 835000.0, 736500.0, 420000.0, 1035000.0, 505000.0, 755000.0, 1405000.0, 755000.0, 911982.0, 700000.0, 835000.0, 560000.0, 895000.0, 380500.0, 680000.0, 1400000.0, 362500.0, 2550000.0, 525000.0, 1702000.0, 520000.0, 400000.0, 1300000.0, 520000.0, 450000.0, 1510500.0, 1250000.0, 295000.0, 725000.0, 775000.0, 715000.0, 676000.0, 1126000.0, 1137500.0, 1415000.0, 1060000.0, 635000.0, 314000.0, 535000.0, 245000.0, 750000.0, 905000.0, 630000.0, 1225000.0, 390000.0, 597000.0, 1367000.0, 862000.0, 709500.0, 515000.0, 937000.0, 1530000.0, 580010.0, 365000.0, 760000.0, 1260000.0, 490000.0, 490000.0, 310000.0, 1398000.0, 456000.0, 1000000.0, 749000.0, 330000.0, 800000.0, 1300000.0, 580000.0, 622000.0, 615888.0, 1430000.0, 390000.0, 338000.0, 450000.0, 1075000.0, 1150000.0, 1016000.0, 650000.0, 820000.0, 1150000.0, 526250.0, 351000.0, 630000.0, 468000.0, 586000.0, 650000.0, 1285000.0, 415000.0, 767000.0, 810000.0, 1480000.0, 700000.0, 1750000.0, 1175000.0, 2210000.0, 1680000.0, 746000.0, 1650000.0, 640000.0, 1250000.0, 548000.0, 716000.0, 730000.0, 488000.0, 665000.0, 898000.0, 1300000.0, 1225000.0, 550000.0, 904000.0, 1220000.0, 455000.0, 360000.0, 629000.0, 565000.0, 630000.0, 505000.0, 580000.0, 550000.0, 518500.0, 1225000.0, 900000.0, 1200000.0, 1200000.0, 881100.0, 1800000.0, 1001000.0, 1195000.0, 1955000.0, 601000.0, 520000.0, 755000.0, 812000.0, 870000.0, 980000.0, 702000.0, 701000.0, 2000000.0, 700000.0, 615000.0, 505000.0, 560000.0, 865000.0, 500000.0, 935000.0, 451500.0, 1350000.0, 372100.0, 365000.0, 583000.0, 625000.0, 502500.0, 381000.0, 878000.0, 600000.0, 557000.0, 920000.0, 780000.0, 1301000.0, 935000.0, 637500.0, 605000.0, 950000.0, 559000.0, 503750.0, 500000.0, 502000.0, 432000.0, 345000.0, 470000.0, 740000.0, 505000.0, 380000.0, 1920000.0, 530000.0, 1042000.0, 2050000.0, 1680000.0, 1005000.0, 820000.0, 950000.0, 830000.0, 670000.0, 390500.0, 800000.0, 751000.0, 410000.0, 740000.0, 505000.0, 627000.0, 940000.0, 476500.0, 751000.0, 1515000.0, 650000.0, 528000.0, 590000.0, 362000.0, 330000.0, 681000.0, 400000.0, 1750000.0, 1130000.0, 650000.0, 465000.0, 550000.0, 505000.0, 617500.0, 592000.0, 685000.0, 650000.0, 830000.0, 530000.0, 1110000.0, 735000.0, 452000.0, 485000.0, 510000.0, 620000.0, 900000.0, 1044000.0, 555000.0, 770000.0, 845000.0, 615000.0, 1220000.0, 1280000.0, 625000.0, 1740000.0, 650000.0, 430000.0, 1460000.0, 450000.0, 630000.0, 1015000.0, 676000.0, 1875000.0, 1800000.0, 570000.0, 1908000.0, 900000.0, 765000.0, 445000.0, 501000.0, 745000.0, 216000.0, 1070000.0, 375000.0, 700000.0, 670000.0, 360000.0, 510000.0, 950000.0, 582000.0, 1803000.0, 950000.0, 940000.0, 1350000.0, 605000.0, 558500.0, 945000.0, 561000.0, 360000.0, 300000.0, 1300000.0, 385000.0, 750000.0, 1470000.0, 975000.0, 1320000.0, 1820000.0, 715000.0, 657500.0, 575000.0, 926000.0, 632000.0, 950000.0, 881017.0, 557500.0, 515000.0, 810000.0, 730000.0, 1770000.0, 780000.0, 635000.0, 750000.0, 940000.0, 820000.0, 900000.0, 850000.0, 458000.0, 870000.0, 880000.0, 640000.0, 1750000.0, 1151000.0, 1225000.0, 985000.0, 1250000.0, 1200000.0, 1510000.0, 375000.0, 830000.0, 625000.0, 920000.0, 850000.0, 980000.0, 1341500.0, 1495000.0, 1103000.0, 920000.0, 870000.0, 1232000.0, 826000.0, 1650000.0, 1715000.0, 911000.0, 2835000.0, 1200000.0, 975000.0, 469000.0, 531000.0, 1300000.0, 680000.0, 650000.0, 525000.0, 933000.0, 1140000.0, 2750000.0, 445000.0, 1120000.0, 2420000.0, 1335000.0, 1262000.0, 725000.0, 1960000.0, 465000.0, 1365000.0, 1915000.0, 1305000.0, 770000.0, 436000.0, 610000.0, 1300000.0, 1060000.0, 515000.0, 603500.0, 870000.0, 1500000.0, 555000.0, 1190000.0, 730000.0, 1280000.0, 710000.0, 955000.0, 480000.0, 1320000.0, 875000.0, 942000.0, 805000.0, 1825000.0, 710000.0, 780000.0, 430000.0, 1150000.0, 1412000.0, 431250.0, 900000.0, 1194700.0, 1840000.0, 835000.0, 965000.0, 901000.0, 1280000.0, 522000.0, 1000000.0, 1080000.0, 475000.0, 365500.0, 550000.0, 790000.0, 630000.0, 900000.0, 430000.0, 1321188.0, 950000.0, 516000.0, 1360000.0, 1382000.0, 625500.0, 1150000.0, 1100000.0, 555000.0, 1202000.0, 879000.0, 560000.0, 1311000.0, 1650000.0, 1650000.0, 424000.0, 850000.0, 546000.0, 720008.0, 2335000.0, 1385000.0, 1078000.0, 515000.0, 2086000.0, 1280000.0, 860000.0, 1800000.0, 3300000.0, 3080000.0, 671000.0, 520000.0, 860000.0, 651000.0, 3400000.0, 535000.0, 720000.0, 1305000.0, 1035000.0, 845000.0, 1305000.0, 527000.0, 2455000.0, 1515000.0, 910000.0, 1502000.0, 595000.0, 1316000.0, 1031000.0, 1285000.0], \"yaxis\": \"y\"}, {\"alignmentgroup\": \"True\", \"bingroup\": \"x\", \"histfunc\": \"sum\", \"hovertemplate\": \"Method=%{x}<br>sum of Price=%{y}<extra></extra>\", \"legendgroup\": \"PI\", \"marker\": {\"color\": \"#00cc96\"}, \"name\": \"PI\", \"offsetgroup\": \"PI\", \"orientation\": \"v\", \"showlegend\": true, \"type\": \"histogram\", \"x\": [\"PI\", \"PI\", \"PI\", \"PI\", \"PI\", \"PI\", \"PI\", \"PI\", \"PI\", \"PI\", \"PI\", \"PI\", \"PI\", \"PI\", \"PI\", \"PI\", \"PI\", \"PI\", \"PI\", \"PI\", \"PI\", \"PI\", \"PI\", \"PI\", \"PI\", \"PI\", \"PI\", \"PI\", \"PI\", \"PI\", \"PI\", \"PI\", \"PI\", \"PI\", \"PI\", \"PI\", \"PI\", \"PI\", \"PI\", \"PI\", \"PI\", \"PI\", \"PI\", \"PI\", \"PI\", \"PI\", \"PI\", \"PI\", \"PI\", \"PI\", \"PI\", \"PI\", \"PI\", \"PI\", \"PI\", \"PI\", \"PI\", \"PI\", \"PI\", \"PI\", \"PI\", \"PI\", \"PI\", \"PI\", \"PI\", \"PI\", \"PI\", \"PI\", \"PI\", \"PI\", \"PI\", \"PI\", \"PI\", \"PI\", \"PI\", \"PI\", \"PI\", \"PI\", \"PI\", \"PI\", \"PI\", \"PI\", \"PI\", \"PI\", \"PI\", \"PI\", \"PI\", \"PI\", \"PI\", \"PI\", \"PI\", \"PI\", \"PI\", \"PI\", \"PI\", \"PI\", \"PI\", \"PI\", \"PI\", \"PI\", \"PI\", \"PI\", \"PI\", \"PI\", \"PI\", \"PI\", \"PI\", \"PI\", \"PI\", \"PI\", \"PI\", \"PI\", \"PI\", \"PI\", \"PI\", \"PI\", \"PI\", \"PI\", \"PI\", \"PI\", \"PI\", \"PI\", \"PI\", \"PI\", \"PI\", \"PI\", \"PI\", \"PI\", \"PI\", \"PI\", \"PI\", \"PI\", \"PI\", \"PI\", \"PI\", \"PI\", \"PI\", \"PI\", \"PI\", \"PI\", \"PI\", \"PI\", \"PI\", \"PI\", \"PI\", \"PI\", \"PI\", \"PI\", \"PI\", \"PI\", \"PI\", \"PI\", \"PI\", \"PI\", \"PI\", \"PI\", \"PI\", \"PI\", \"PI\", \"PI\", \"PI\", \"PI\", \"PI\", \"PI\", \"PI\", \"PI\", \"PI\", \"PI\", \"PI\", \"PI\", \"PI\", \"PI\", \"PI\", \"PI\", \"PI\", \"PI\", \"PI\", \"PI\", \"PI\", \"PI\", \"PI\", \"PI\", \"PI\", \"PI\", \"PI\", \"PI\", \"PI\", \"PI\", \"PI\", \"PI\", \"PI\", \"PI\", \"PI\", \"PI\", \"PI\", \"PI\", \"PI\", \"PI\", \"PI\", \"PI\", \"PI\", \"PI\", \"PI\", \"PI\", \"PI\", \"PI\", \"PI\", \"PI\", \"PI\", \"PI\", \"PI\", \"PI\", \"PI\", \"PI\", \"PI\", \"PI\", \"PI\", \"PI\", \"PI\", \"PI\", \"PI\", \"PI\", \"PI\", \"PI\", \"PI\", \"PI\", \"PI\", \"PI\", \"PI\", \"PI\", \"PI\", \"PI\", \"PI\", \"PI\", \"PI\", \"PI\", \"PI\", \"PI\", \"PI\", \"PI\", \"PI\", \"PI\", \"PI\", \"PI\", \"PI\", \"PI\", \"PI\", \"PI\", \"PI\", \"PI\", \"PI\", \"PI\", \"PI\", \"PI\", \"PI\", \"PI\", \"PI\", \"PI\", \"PI\", \"PI\", \"PI\", \"PI\", \"PI\", \"PI\", \"PI\", \"PI\", \"PI\", \"PI\", \"PI\", \"PI\", \"PI\", \"PI\", \"PI\", \"PI\", \"PI\", \"PI\", \"PI\", \"PI\", \"PI\", \"PI\", \"PI\", \"PI\", \"PI\", \"PI\", \"PI\", \"PI\", \"PI\", \"PI\", \"PI\", \"PI\", \"PI\", \"PI\", \"PI\", \"PI\", \"PI\", \"PI\", \"PI\", \"PI\", \"PI\", \"PI\", \"PI\", \"PI\", \"PI\", \"PI\", \"PI\", \"PI\", \"PI\", \"PI\", \"PI\", \"PI\", \"PI\", \"PI\", \"PI\", \"PI\", \"PI\", \"PI\", \"PI\", \"PI\", \"PI\", \"PI\", \"PI\", \"PI\", \"PI\", \"PI\", \"PI\", \"PI\", \"PI\", \"PI\", \"PI\", \"PI\", \"PI\", \"PI\", \"PI\", \"PI\", \"PI\", \"PI\", \"PI\", \"PI\", \"PI\", \"PI\", \"PI\", \"PI\", \"PI\", \"PI\", \"PI\", \"PI\", \"PI\", \"PI\", \"PI\", \"PI\", \"PI\", \"PI\", \"PI\", \"PI\", \"PI\", \"PI\", \"PI\", \"PI\", \"PI\", \"PI\", \"PI\", \"PI\", \"PI\", \"PI\", \"PI\", \"PI\", \"PI\", \"PI\", \"PI\", \"PI\", \"PI\", \"PI\", \"PI\", \"PI\", \"PI\", \"PI\", \"PI\", \"PI\", \"PI\", \"PI\", \"PI\", \"PI\", \"PI\", \"PI\", \"PI\", \"PI\", \"PI\", \"PI\", \"PI\", \"PI\", \"PI\", \"PI\", \"PI\", \"PI\", \"PI\", \"PI\", \"PI\", \"PI\", \"PI\", \"PI\", \"PI\", \"PI\", \"PI\", \"PI\", \"PI\", \"PI\", \"PI\", \"PI\", \"PI\", \"PI\", \"PI\", \"PI\", \"PI\", \"PI\", \"PI\", \"PI\", \"PI\", \"PI\", \"PI\", \"PI\", \"PI\", \"PI\", \"PI\", \"PI\", \"PI\", \"PI\", \"PI\", \"PI\", \"PI\", \"PI\", \"PI\", \"PI\", \"PI\", \"PI\", \"PI\", \"PI\", \"PI\", \"PI\", \"PI\", \"PI\", \"PI\", \"PI\", \"PI\", \"PI\", \"PI\", \"PI\", \"PI\", \"PI\", \"PI\", \"PI\", \"PI\", \"PI\", \"PI\", \"PI\", \"PI\", \"PI\", \"PI\", \"PI\", \"PI\", \"PI\", \"PI\", \"PI\", \"PI\", \"PI\", \"PI\", \"PI\", \"PI\", \"PI\", \"PI\", \"PI\", \"PI\", \"PI\", \"PI\", \"PI\", \"PI\", \"PI\", \"PI\", \"PI\", \"PI\", \"PI\", \"PI\", \"PI\", \"PI\", \"PI\", \"PI\", \"PI\", \"PI\", \"PI\", \"PI\", \"PI\", \"PI\", \"PI\", \"PI\", \"PI\", \"PI\", \"PI\", \"PI\", \"PI\", \"PI\", \"PI\", \"PI\", \"PI\", \"PI\", \"PI\", \"PI\", \"PI\", \"PI\", \"PI\", \"PI\", \"PI\", \"PI\", \"PI\", \"PI\", \"PI\", \"PI\", \"PI\", \"PI\", \"PI\", \"PI\", \"PI\", \"PI\", \"PI\", \"PI\", \"PI\", \"PI\", \"PI\", \"PI\", \"PI\", \"PI\", \"PI\", \"PI\", \"PI\", \"PI\", \"PI\", \"PI\", \"PI\", \"PI\", \"PI\", \"PI\", \"PI\", \"PI\", \"PI\", \"PI\", \"PI\", \"PI\", \"PI\", \"PI\", \"PI\", \"PI\", \"PI\", \"PI\", \"PI\", \"PI\", \"PI\", \"PI\", \"PI\", \"PI\", \"PI\", \"PI\", \"PI\", \"PI\", \"PI\", \"PI\", \"PI\", \"PI\", \"PI\", \"PI\", \"PI\", \"PI\", \"PI\", \"PI\", \"PI\", \"PI\", \"PI\", \"PI\", \"PI\", \"PI\", \"PI\", \"PI\", \"PI\", \"PI\", \"PI\", \"PI\", \"PI\", \"PI\", \"PI\", \"PI\", \"PI\", \"PI\", \"PI\", \"PI\", \"PI\", \"PI\", \"PI\", \"PI\", \"PI\", \"PI\", \"PI\", \"PI\", \"PI\", \"PI\", \"PI\", \"PI\", \"PI\", \"PI\", \"PI\", \"PI\", \"PI\", \"PI\", \"PI\", \"PI\", \"PI\", \"PI\", \"PI\", \"PI\", \"PI\", \"PI\", \"PI\", \"PI\", \"PI\", \"PI\", \"PI\", \"PI\", \"PI\", \"PI\", \"PI\", \"PI\", \"PI\", \"PI\", \"PI\", \"PI\", \"PI\", \"PI\", \"PI\", \"PI\", \"PI\", \"PI\", \"PI\", \"PI\", \"PI\", \"PI\", \"PI\", \"PI\", \"PI\", \"PI\", \"PI\", \"PI\", \"PI\", \"PI\", \"PI\", \"PI\", \"PI\", \"PI\", \"PI\", \"PI\", \"PI\", \"PI\", \"PI\", \"PI\", \"PI\", \"PI\", \"PI\", \"PI\", \"PI\", \"PI\", \"PI\", \"PI\", \"PI\", \"PI\", \"PI\", \"PI\", \"PI\", \"PI\", \"PI\", \"PI\", \"PI\", \"PI\", \"PI\", \"PI\", \"PI\", \"PI\", \"PI\", \"PI\", \"PI\", \"PI\", \"PI\", \"PI\", \"PI\", \"PI\", \"PI\", \"PI\", \"PI\", \"PI\", \"PI\", \"PI\", \"PI\", \"PI\", \"PI\", \"PI\", \"PI\", \"PI\", \"PI\", \"PI\", \"PI\", \"PI\", \"PI\", \"PI\", \"PI\", \"PI\", \"PI\", \"PI\", \"PI\", \"PI\", \"PI\", \"PI\", \"PI\", \"PI\", \"PI\", \"PI\", \"PI\", \"PI\", \"PI\", \"PI\", \"PI\", \"PI\", \"PI\", \"PI\", \"PI\", \"PI\", \"PI\", \"PI\", \"PI\", \"PI\", \"PI\", \"PI\", \"PI\", \"PI\", \"PI\", \"PI\", \"PI\", \"PI\", \"PI\", \"PI\", \"PI\", \"PI\", \"PI\", \"PI\", \"PI\", \"PI\", \"PI\", \"PI\", \"PI\", \"PI\", \"PI\", \"PI\", \"PI\", \"PI\", \"PI\", \"PI\", \"PI\", \"PI\", \"PI\", \"PI\", \"PI\", \"PI\", \"PI\", \"PI\", \"PI\", \"PI\", \"PI\", \"PI\", \"PI\", \"PI\", \"PI\", \"PI\", \"PI\", \"PI\", \"PI\", \"PI\", \"PI\", \"PI\", \"PI\", \"PI\", \"PI\", \"PI\", \"PI\", \"PI\", \"PI\", \"PI\", \"PI\", \"PI\", \"PI\", \"PI\", \"PI\", \"PI\", \"PI\", \"PI\", \"PI\", \"PI\", \"PI\", \"PI\", \"PI\", \"PI\", \"PI\", \"PI\", \"PI\", \"PI\", \"PI\", \"PI\", \"PI\", \"PI\", \"PI\", \"PI\", \"PI\", \"PI\", \"PI\", \"PI\", \"PI\", \"PI\", \"PI\", \"PI\", \"PI\", \"PI\", \"PI\", \"PI\", \"PI\", \"PI\", \"PI\", \"PI\", \"PI\", \"PI\", \"PI\", \"PI\", \"PI\", \"PI\", \"PI\", \"PI\", \"PI\", \"PI\", \"PI\", \"PI\", \"PI\", \"PI\", \"PI\", \"PI\", \"PI\", \"PI\", \"PI\", \"PI\", \"PI\", \"PI\", \"PI\", \"PI\", \"PI\", \"PI\", \"PI\", \"PI\", \"PI\", \"PI\", \"PI\", \"PI\", \"PI\", \"PI\", \"PI\", \"PI\", \"PI\", \"PI\", \"PI\", \"PI\", \"PI\", \"PI\", \"PI\", \"PI\", \"PI\", \"PI\", \"PI\", \"PI\", \"PI\", \"PI\", \"PI\", \"PI\", \"PI\", \"PI\", \"PI\", \"PI\", \"PI\", \"PI\", \"PI\", \"PI\", \"PI\", \"PI\", \"PI\", \"PI\", \"PI\", \"PI\", \"PI\", \"PI\", \"PI\", \"PI\", \"PI\", \"PI\", \"PI\", \"PI\", \"PI\", \"PI\", \"PI\", \"PI\", \"PI\", \"PI\", \"PI\", \"PI\", \"PI\", \"PI\", \"PI\", \"PI\", \"PI\", \"PI\", \"PI\", \"PI\", \"PI\", \"PI\", \"PI\", \"PI\", \"PI\", \"PI\", \"PI\", \"PI\", \"PI\", \"PI\", \"PI\", \"PI\", \"PI\", \"PI\", \"PI\", \"PI\", \"PI\", \"PI\", \"PI\", \"PI\", \"PI\", \"PI\", \"PI\", \"PI\", \"PI\", \"PI\", \"PI\", \"PI\", \"PI\", \"PI\", \"PI\", \"PI\", \"PI\", \"PI\", \"PI\", \"PI\", \"PI\", \"PI\", \"PI\", \"PI\", \"PI\", \"PI\", \"PI\", \"PI\", \"PI\", \"PI\", \"PI\", \"PI\", \"PI\", \"PI\", \"PI\", \"PI\", \"PI\", \"PI\", \"PI\", \"PI\", \"PI\", \"PI\", \"PI\", \"PI\", \"PI\", \"PI\", \"PI\", \"PI\", \"PI\", \"PI\", \"PI\", \"PI\", \"PI\", \"PI\", \"PI\", \"PI\", \"PI\", \"PI\", \"PI\", \"PI\", \"PI\", \"PI\", \"PI\", \"PI\", \"PI\", \"PI\", \"PI\", \"PI\", \"PI\", \"PI\", \"PI\", \"PI\", \"PI\", \"PI\", \"PI\", \"PI\", \"PI\", \"PI\", \"PI\", \"PI\", \"PI\", \"PI\", \"PI\", \"PI\", \"PI\", \"PI\", \"PI\", \"PI\", \"PI\", \"PI\", \"PI\", \"PI\", \"PI\", \"PI\", \"PI\", \"PI\", \"PI\", \"PI\", \"PI\", \"PI\", \"PI\", \"PI\", \"PI\", \"PI\", \"PI\", \"PI\", \"PI\", \"PI\", \"PI\", \"PI\", \"PI\", \"PI\", \"PI\", \"PI\", \"PI\", \"PI\", \"PI\", \"PI\", \"PI\", \"PI\", \"PI\", \"PI\", \"PI\", \"PI\", \"PI\", \"PI\", \"PI\", \"PI\", \"PI\", \"PI\", \"PI\", \"PI\", \"PI\", \"PI\", \"PI\", \"PI\", \"PI\", \"PI\", \"PI\", \"PI\", \"PI\", \"PI\", \"PI\", \"PI\", \"PI\", \"PI\", \"PI\", \"PI\", \"PI\", \"PI\", \"PI\", \"PI\", \"PI\", \"PI\", \"PI\", \"PI\", \"PI\", \"PI\", \"PI\", \"PI\", \"PI\", \"PI\", \"PI\", \"PI\", \"PI\", \"PI\", \"PI\", \"PI\", \"PI\", \"PI\", \"PI\", \"PI\", \"PI\", \"PI\", \"PI\", \"PI\", \"PI\", \"PI\", \"PI\", \"PI\", \"PI\", \"PI\", \"PI\", \"PI\", \"PI\", \"PI\", \"PI\", \"PI\", \"PI\", \"PI\", \"PI\", \"PI\", \"PI\", \"PI\", \"PI\", \"PI\", \"PI\", \"PI\", \"PI\", \"PI\", \"PI\", \"PI\", \"PI\", \"PI\", \"PI\", \"PI\", \"PI\", \"PI\", \"PI\", \"PI\", \"PI\", \"PI\", \"PI\", \"PI\", \"PI\", \"PI\", \"PI\", \"PI\", \"PI\", \"PI\", \"PI\", \"PI\", \"PI\", \"PI\", \"PI\", \"PI\", \"PI\", \"PI\", \"PI\", \"PI\", \"PI\", \"PI\", \"PI\", \"PI\", \"PI\", \"PI\", \"PI\", \"PI\", \"PI\", \"PI\", \"PI\", \"PI\", \"PI\", \"PI\", \"PI\", \"PI\", \"PI\", \"PI\", \"PI\", \"PI\", \"PI\", \"PI\", \"PI\", \"PI\", \"PI\", \"PI\", \"PI\", \"PI\", \"PI\", \"PI\", \"PI\", \"PI\", \"PI\", \"PI\", \"PI\", \"PI\", \"PI\", \"PI\", \"PI\", \"PI\", \"PI\", \"PI\", \"PI\", \"PI\", \"PI\", \"PI\", \"PI\", \"PI\", \"PI\", \"PI\", \"PI\", \"PI\", \"PI\", \"PI\", \"PI\", \"PI\", \"PI\", \"PI\", \"PI\", \"PI\", \"PI\", \"PI\", \"PI\", \"PI\", \"PI\", \"PI\", \"PI\", \"PI\", \"PI\", \"PI\", \"PI\", \"PI\", \"PI\", \"PI\", \"PI\", \"PI\", \"PI\", \"PI\", \"PI\", \"PI\", \"PI\", \"PI\", \"PI\", \"PI\", \"PI\", \"PI\", \"PI\", \"PI\", \"PI\", \"PI\", \"PI\", \"PI\", \"PI\", \"PI\", \"PI\", \"PI\", \"PI\", \"PI\", \"PI\", \"PI\", \"PI\", \"PI\", \"PI\", \"PI\", \"PI\", \"PI\", \"PI\", \"PI\", \"PI\", \"PI\", \"PI\", \"PI\", \"PI\", \"PI\", \"PI\", \"PI\", \"PI\", \"PI\", \"PI\", \"PI\", \"PI\", \"PI\", \"PI\", \"PI\", \"PI\", \"PI\", \"PI\", \"PI\", \"PI\", \"PI\", \"PI\", \"PI\", \"PI\", \"PI\", \"PI\", \"PI\", \"PI\", \"PI\", \"PI\", \"PI\", \"PI\", \"PI\", \"PI\", \"PI\", \"PI\", \"PI\", \"PI\", \"PI\", \"PI\", \"PI\", \"PI\", \"PI\", \"PI\", \"PI\", \"PI\", \"PI\", \"PI\", \"PI\", \"PI\", \"PI\", \"PI\", \"PI\", \"PI\", \"PI\", \"PI\", \"PI\", \"PI\", \"PI\", \"PI\", \"PI\", \"PI\", \"PI\", \"PI\", \"PI\", \"PI\", \"PI\", \"PI\", \"PI\", \"PI\", \"PI\", \"PI\", \"PI\", \"PI\", \"PI\", \"PI\", \"PI\", \"PI\", \"PI\", \"PI\", \"PI\", \"PI\", \"PI\", \"PI\", \"PI\", \"PI\", \"PI\", \"PI\", \"PI\", \"PI\", \"PI\", \"PI\", \"PI\", \"PI\", \"PI\", \"PI\", \"PI\", \"PI\", \"PI\", \"PI\", \"PI\", \"PI\", \"PI\", \"PI\", \"PI\", \"PI\", \"PI\", \"PI\", \"PI\", \"PI\", \"PI\", \"PI\", \"PI\", \"PI\", \"PI\", \"PI\", \"PI\", \"PI\", \"PI\", \"PI\", \"PI\", \"PI\", \"PI\", \"PI\", \"PI\", \"PI\", \"PI\", \"PI\", \"PI\", \"PI\", \"PI\", \"PI\", \"PI\", \"PI\", \"PI\", \"PI\", \"PI\", \"PI\", \"PI\", \"PI\", \"PI\", \"PI\", \"PI\", \"PI\", \"PI\", \"PI\", \"PI\", \"PI\", \"PI\", \"PI\", \"PI\", \"PI\", \"PI\", \"PI\", \"PI\", \"PI\", \"PI\", \"PI\", \"PI\", \"PI\", \"PI\", \"PI\", \"PI\", \"PI\", \"PI\", \"PI\", \"PI\", \"PI\", \"PI\", \"PI\", \"PI\", \"PI\", \"PI\", \"PI\", \"PI\", \"PI\", \"PI\", \"PI\", \"PI\", \"PI\", \"PI\", \"PI\", \"PI\", \"PI\", \"PI\", \"PI\", \"PI\", \"PI\", \"PI\", \"PI\", \"PI\", \"PI\", \"PI\", \"PI\", \"PI\", \"PI\", \"PI\", \"PI\", \"PI\", \"PI\", \"PI\", \"PI\", \"PI\", \"PI\", \"PI\", \"PI\", \"PI\", \"PI\", \"PI\", \"PI\", \"PI\", \"PI\", \"PI\", \"PI\", \"PI\", \"PI\", \"PI\", \"PI\", \"PI\", \"PI\", \"PI\", \"PI\", \"PI\", \"PI\", \"PI\", \"PI\", \"PI\", \"PI\", \"PI\", \"PI\", \"PI\", \"PI\", \"PI\", \"PI\", \"PI\", \"PI\", \"PI\", \"PI\", \"PI\", \"PI\", \"PI\", \"PI\", \"PI\", \"PI\", \"PI\", \"PI\", \"PI\", \"PI\", \"PI\", \"PI\", \"PI\", \"PI\", \"PI\", \"PI\", \"PI\", \"PI\", \"PI\", \"PI\", \"PI\", \"PI\", \"PI\", \"PI\", \"PI\", \"PI\", \"PI\", \"PI\", \"PI\", \"PI\", \"PI\", \"PI\", \"PI\", \"PI\", \"PI\", \"PI\", \"PI\", \"PI\", \"PI\", \"PI\", \"PI\", \"PI\", \"PI\", \"PI\", \"PI\", \"PI\", \"PI\", \"PI\", \"PI\", \"PI\", \"PI\", \"PI\"], \"xaxis\": \"x\", \"y\": [850000.0, 1330000.0, 1100000.0, 1447500.0, 840000.0, 895000.0, 755000.0, 700000.0, 810000.0, 720000.0, 2850000.0, 1810000.0, 2000000.0, 1740000.0, 2000000.0, 780000.0, 580000.0, 880000.0, 710000.0, 625000.0, 1525000.0, 735000.0, 280000.0, 400000.0, 1800000.0, 2200000.0, 490000.0, 450000.0, 2000000.0, 710000.0, 2425000.0, 751000.0, 770000.0, 1000000.0, 1425000.0, 950000.0, 790000.0, 390000.0, 705000.0, 760000.0, 1110000.0, 1300000.0, 1060000.0, 1410000.0, 1100000.0, 1440000.0, 1790000.0, 1320000.0, 761000.0, 1600000.0, 680000.0, 411000.0, 410000.0, 497500.0, 2570000.0, 3250000.0, 2250000.0, 1255000.0, 2130000.0, 1800000.0, 1750000.0, 1400000.0, 625000.0, 754000.0, 755000.0, 2810000.0, 2000000.0, 3020000.0, 3900000.0, 1010000.0, 1500000.0, 1350000.0, 3300000.0, 2205000.0, 3250000.0, 1750000.0, 1575000.0, 1480000.0, 1400000.0, 2130000.0, 2575000.0, 1702000.0, 2600000.0, 1750000.0, 1480000.0, 3000000.0, 2525000.0, 1720000.0, 1800000.0, 4000000.0, 1875000.0, 1530000.0, 1660000.0, 1260000.0, 2150000.0, 1770000.0, 895000.0, 1260000.0, 900000.0, 360000.0, 1500000.0, 1300000.0, 420000.0, 1200000.0, 1860000.0, 1560000.0, 1165000.0, 2520000.0, 1150000.0, 670000.0, 680000.0, 760000.0, 740000.0, 830000.0, 1040000.0, 380000.0, 1400000.0, 920000.0, 370000.0, 920000.0, 702000.0, 880000.0, 800000.0, 1035000.0, 720000.0, 780000.0, 1250000.0, 750000.0, 950000.0, 750000.0, 800000.0, 1365000.0, 700000.0, 770000.0, 860000.0, 1550000.0, 670000.0, 1120000.0, 950000.0, 780000.0, 640000.0, 1560000.0, 505000.0, 1725000.0, 985000.0, 1475000.0, 700000.0, 1562500.0, 2050000.0, 2800000.0, 1300000.0, 2100000.0, 835000.0, 760000.0, 850000.0, 1310000.0, 700000.0, 1825000.0, 1075000.0, 2000000.0, 1600000.0, 2900000.0, 1000000.0, 1700000.0, 805000.0, 2550000.0, 1760000.0, 2050000.0, 1300000.0, 2200000.0, 1755000.0, 1450000.0, 272500.0, 680000.0, 1310000.0, 860000.0, 605000.0, 1115000.0, 750000.0, 810000.0, 1075000.0, 800000.0, 625000.0, 860000.0, 835000.0, 640000.0, 705000.0, 240000.0, 1175000.0, 1180000.0, 1410000.0, 740000.0, 320000.0, 265000.0, 380000.0, 1300000.0, 380000.0, 1200000.0, 285000.0, 252000.0, 1700000.0, 351000.0, 440000.0, 970000.0, 1110000.0, 880000.0, 975000.0, 990000.0, 1085000.0, 1320000.0, 1050000.0, 990000.0, 1244000.0, 1100000.0, 686000.0, 625000.0, 650000.0, 1410000.0, 640000.0, 1800000.0, 800000.0, 2860000.0, 1690000.0, 2325000.0, 502000.0, 591000.0, 895000.0, 1400000.0, 530000.0, 805000.0, 1800000.0, 530000.0, 1175000.0, 2125000.0, 2750000.0, 2250000.0, 1550000.0, 2900000.0, 2950000.0, 3800000.0, 1640000.0, 1850000.0, 800000.0, 675000.0, 545000.0, 250000.0, 970000.0, 1450000.0, 1000000.0, 1900000.0, 1125000.0, 1410000.0, 405000.0, 1655000.0, 131000.0, 2005000.0, 622000.0, 275500.0, 1960000.0, 650000.0, 920000.0, 675000.0, 2250000.0, 145000.0, 550000.0, 610000.0, 590000.0, 650000.0, 1160000.0, 680000.0, 1020000.0, 1150000.0, 770000.0, 975000.0, 1150000.0, 830000.0, 1050000.0, 860000.0, 865000.0, 860000.0, 1450000.0, 1535000.0, 700000.0, 920000.0, 1050000.0, 1250000.0, 1275000.0, 900000.0, 1250000.0, 1510000.0, 1350000.0, 1250000.0, 800000.0, 1020000.0, 1805000.0, 965000.0, 1390000.0, 1650000.0, 850000.0, 1450000.0, 2050000.0, 680000.0, 685000.0, 632000.0, 575000.0, 590000.0, 510000.0, 560000.0, 559000.0, 2400000.0, 655000.0, 370000.0, 630000.0, 2200000.0, 680000.0, 920000.0, 572500.0, 1295000.0, 1250000.0, 370000.0, 2800000.0, 825000.0, 1800000.0, 1575000.0, 890000.0, 870000.0, 1475000.0, 850000.0, 935000.0, 1500000.0, 1100000.0, 1270000.0, 1350000.0, 1160000.0, 505000.0, 1700000.0, 2350000.0, 1460000.0, 1250000.0, 650000.0, 365000.0, 1110000.0, 360000.0, 395000.0, 85000.0, 305000.0, 480000.0, 291000.0, 930000.0, 950000.0, 275000.0, 310000.0, 282000.0, 315000.0, 760000.0, 815000.0, 3730000.0, 1900000.0, 1360000.0, 2325000.0, 2020000.0, 1510000.0, 291000.0, 345000.0, 2000000.0, 1550000.0, 1960000.0, 1700000.0, 2825000.0, 2000000.0, 1600000.0, 2352500.0, 2625000.0, 1650000.0, 375000.0, 2410000.0, 2100000.0, 2000000.0, 460000.0, 1150000.0, 850000.0, 430000.0, 370000.0, 670000.0, 420000.0, 705000.0, 230000.0, 570000.0, 1000000.0, 270000.0, 709000.0, 390000.0, 525000.0, 605000.0, 510000.0, 1560000.0, 616000.0, 1250000.0, 2000000.0, 1875000.0, 685000.0, 2400000.0, 2600000.0, 1705000.0, 750000.0, 2200000.0, 450000.0, 500000.0, 830000.0, 1650000.0, 610000.0, 330000.0, 365000.0, 1000000.0, 520000.0, 400000.0, 4250000.0, 1560000.0, 815000.0, 445000.0, 3750000.0, 1400000.0, 370000.0, 400000.0, 605000.0, 620000.0, 680000.0, 480000.0, 1375000.0, 507000.0, 400000.0, 677500.0, 500000.0, 550000.0, 710000.0, 650000.0, 1100000.0, 700000.0, 875000.0, 660000.0, 1010000.0, 1710000.0, 370000.0, 395000.0, 410000.0, 630000.0, 1910000.0, 580000.0, 525000.0, 1575000.0, 1312000.0, 2625000.0, 2550000.0, 1330000.0, 1410000.0, 1500000.0, 2560000.0, 3280000.0, 4005000.0, 2800000.0, 1800000.0, 1850000.0, 1830000.0, 275000.0, 520000.0, 580000.0, 349000.0, 555000.0, 690000.0, 360000.0, 1390000.0, 4525000.0, 2325000.0, 640000.0, 1675000.0, 1301000.0, 2350000.0, 1215000.0, 940000.0, 1810000.0, 1150000.0, 1915000.0, 1240000.0, 1120000.0, 1580000.0, 2110000.0, 300000.0, 1100000.0, 2560000.0, 1055000.0, 635000.0, 975000.0, 1100000.0, 510000.0, 865000.0, 440000.0, 400000.0, 1000000.0, 570000.0, 820000.0, 375000.0, 390000.0, 1910000.0, 1955000.0, 1400000.0, 2350000.0, 660000.0, 3900000.0, 990000.0, 1350000.0, 1395000.0, 980000.0, 1725000.0, 750000.0, 725000.0, 800000.0, 890000.0, 825000.0, 1260000.0, 1400000.0, 860000.0, 3420000.0, 930000.0, 780000.0, 1020000.0, 820000.0, 1245000.0, 1160000.0, 960000.0, 440000.0, 1310000.0, 1710000.0, 860000.0, 1700000.0, 790000.0, 1310000.0, 2100000.0, 320000.0, 430000.0, 665000.0, 370000.0, 1900000.0, 1450000.0, 340000.0, 3850000.0, 1510000.0, 1500000.0, 830000.0, 706000.0, 1100000.0, 475000.0, 550000.0, 651000.0, 580000.0, 800000.0, 485000.0, 480000.0, 605000.0, 930000.0, 835000.0, 680000.0, 590000.0, 1350000.0, 600000.0, 910000.0, 1240000.0, 600000.0, 1035000.0, 625000.0, 1130000.0, 790000.0, 1520000.0, 950000.0, 470000.0, 950000.0, 685000.0, 1245000.0, 1090000.0, 585000.0, 590000.0, 1100000.0, 480000.0, 510000.0, 2385000.0, 1200000.0, 1100000.0, 630000.0, 650000.0, 540000.0, 780000.0, 1080000.0, 1000000.0, 990000.0, 910000.0, 485000.0, 550000.0, 700000.0, 930000.0, 1080000.0, 800000.0, 760000.0, 300000.0, 660000.0, 920000.0, 1150000.0, 910000.0, 800000.0, 840000.0, 750000.0, 750000.0, 415000.0, 620000.0, 510000.0, 365000.0, 260000.0, 625000.0, 341000.0, 500000.0, 530000.0, 650000.0, 650000.0, 635000.0, 660000.0, 540000.0, 380000.0, 750000.0, 350000.0, 360000.0, 380000.0, 400000.0, 655000.0, 650000.0, 330000.0, 780000.0, 800000.0, 1700000.0, 730000.0, 830000.0, 240000.0, 550000.0, 540000.0, 2180000.0, 655000.0, 1010000.0, 1350000.0, 405000.0, 345000.0, 1275000.0, 270000.0, 900000.0, 450000.0, 777500.0, 1710000.0, 380000.0, 1510000.0, 1100000.0, 660000.0, 380000.0, 975000.0, 620000.0, 1800000.0, 410000.0, 1400000.0, 1500000.0, 790000.0, 1020000.0, 635000.0, 1350000.0, 920000.0, 920000.0, 701000.0, 1405000.0, 2260000.0, 2000000.0, 1550000.0, 1390000.0, 475000.0, 850000.0, 315000.0, 695000.0, 840000.0, 650000.0, 1460000.0, 780000.0, 1300000.0, 1300000.0, 1630000.0, 955000.0, 450000.0, 2300000.0, 2695000.0, 370000.0, 310000.0, 425000.0, 2600000.0, 1125000.0, 280000.0, 1200000.0, 2200000.0, 2400000.0, 330000.0, 485000.0, 430000.0, 800000.0, 871500.0, 380000.0, 495000.0, 530000.0, 520000.0, 542500.0, 385000.0, 1900000.0, 570000.0, 400000.0, 920000.0, 580000.0, 1120000.0, 1210000.0, 785000.0, 650000.0, 535000.0, 610000.0, 520000.0, 1600000.0, 4750000.0, 580000.0, 1300000.0, 600000.0, 260000.0, 800000.0, 700000.0, 895000.0, 460000.0, 735000.0, 750000.0, 670000.0, 570000.0, 910000.0, 500000.0, 635000.0, 700000.0, 435000.0, 490000.0, 480000.0, 315000.0, 630000.0, 650000.0, 480000.0, 600000.0, 1930000.0, 680000.0, 610000.0, 2100000.0, 1250000.0, 600000.0, 1750000.0, 2125000.0, 2160000.0, 1650000.0, 1050000.0, 1150000.0, 990000.0, 790000.0, 950000.0, 1120000.0, 1280000.0, 750000.0, 1210000.0, 945000.0, 1100000.0, 920000.0, 1070000.0, 1650000.0, 870000.0, 435000.0, 270000.0, 865000.0, 700000.0, 1210000.0, 277500.0, 350000.0, 450000.0, 330000.0, 1200000.0, 430000.0, 450000.0, 349000.0, 380000.0, 1450000.0, 2820000.0, 2840000.0, 405000.0, 4500000.0, 2025000.0, 490000.0, 1210000.0, 2100000.0, 460000.0, 1400000.0, 910000.0, 730000.0, 1040000.0, 632000.0, 460000.0, 660000.0, 1130000.0, 1400000.0, 1815000.0, 1010000.0, 975000.0, 1300000.0, 380000.0, 2050000.0, 450000.0, 520000.0, 501000.0, 1177000.0, 1325000.0, 555000.0, 670000.0, 410000.0, 630000.0, 381000.0, 470000.0, 1217500.0, 660000.0, 1020000.0, 970000.0, 670000.0, 1150000.0, 1720000.0, 1325000.0, 625000.0, 930000.0, 570000.0, 570000.0, 390000.0, 1050000.0, 825000.0, 1325000.0, 480000.0, 420000.0, 860000.0, 720000.0, 1600000.0, 1260000.0, 600000.0, 310000.0, 700000.0, 810000.0, 1300000.0, 970000.0, 690000.0, 515000.0, 652500.0, 420000.0, 1450000.0, 555000.0, 935000.0, 550000.0, 2250000.0, 1420000.0, 705000.0, 1890000.0, 2775000.0, 371000.0, 2200000.0, 550000.0, 585000.0, 490000.0, 540000.0, 655000.0, 1455000.0, 1875000.0, 350000.0, 280000.0, 460000.0, 480000.0, 760000.0, 750000.0, 820000.0, 1060000.0, 1430000.0, 1300000.0, 1200000.0, 1800000.0, 435000.0, 2250000.0, 1360000.0, 260000.0, 940000.0, 1850000.0, 820000.0, 940000.0, 430000.0, 1020000.0, 1415000.0, 710000.0, 1225000.0, 691000.0, 262500.0, 300000.0, 145000.0, 430000.0, 350000.0, 635000.0, 305000.0, 400000.0, 880000.0, 750000.0, 855000.0, 1600000.0, 1925000.0, 425000.0, 1475000.0, 1650000.0, 860000.0, 2000000.0, 1250000.0, 1740000.0, 1100000.0, 2115000.0, 1285000.0, 1020000.0, 2250000.0, 1230000.0, 2000000.0, 800000.0, 1725000.0, 830000.0, 1860000.0, 1200000.0, 810000.0, 5800000.0, 2225000.0, 975000.0, 520000.0, 3025000.0, 1700000.0, 1900000.0, 1500000.0, 1385000.0, 585000.0, 600000.0, 825000.0, 670000.0, 1200000.0, 1500000.0, 2510000.0, 1300000.0, 1200000.0, 1300000.0, 701000.0, 790000.0, 985000.0, 720000.0, 720000.0, 1300000.0, 1400000.0, 1100000.0, 510000.0, 610000.0, 960000.0, 1500000.0, 1000000.0, 1550000.0, 392500.0, 360000.0, 895000.0, 1760000.0, 780000.0, 885000.0, 621000.0, 2500000.0, 1475000.0, 580000.0, 360000.0, 2425000.0, 1450000.0, 1650000.0, 2325000.0, 820000.0, 760000.0, 640000.0, 296000.0, 1940000.0, 560000.0, 2300000.0, 1410000.0, 770000.0, 261000.0, 535000.0, 1100000.0, 850000.0, 325000.0, 800000.0, 1450000.0, 995000.0, 1750000.0, 970000.0, 860000.0, 655000.0, 1600000.0, 311500.0, 750000.0, 1410000.0, 770000.0, 1251000.0, 410000.0, 860000.0, 880000.0, 2000000.0, 800000.0, 1020000.0, 630000.0, 760000.0, 375000.0, 560000.0, 1050000.0, 2060000.0, 860000.0, 665000.0, 2050000.0, 1150000.0, 485000.0, 1710000.0, 810000.0, 840000.0, 490000.0, 700000.0, 1600000.0, 2370000.0, 940000.0, 1100000.0, 1275000.0, 1155000.0, 970000.0, 830000.0, 888000.0, 185000.0, 650000.0, 820000.0, 750000.0, 1425000.0, 580000.0, 2085000.0, 825000.0, 1670000.0, 2710000.0, 300000.0, 1010000.0, 2400000.0, 3600000.0, 750000.0, 1070000.0, 1475000.0, 1050000.0, 500000.0, 1221000.0, 1088000.0, 630000.0, 1320000.0, 805000.0, 665000.0, 170000.0, 500000.0, 450000.0, 650000.0, 640000.0, 520000.0, 210000.0, 1050000.0, 960000.0, 1175000.0, 800000.0, 1900000.0, 1900000.0, 870000.0, 600000.0, 610000.0, 1705000.0, 450000.0, 845000.0, 1500000.0, 3100000.0, 1660000.0, 1600000.0, 1200000.0, 1185000.0, 2020000.0, 1400000.0, 1175000.0, 2000000.0, 700000.0, 1900000.0, 1400000.0, 740000.0, 845000.0, 821000.0, 2050000.0, 850000.0, 620000.0, 845000.0, 350000.0, 1080000.0, 525000.0, 700000.0, 850000.0, 700000.0, 1600000.0, 750000.0, 900000.0, 270000.0, 750000.0, 1350000.0, 1300000.0, 1680000.0, 5600000.0, 1850000.0, 760000.0, 1640000.0, 670000.0, 1410000.0, 1725000.0, 1325000.0, 1400000.0, 830000.0, 465000.0, 1900000.0, 590000.0, 680000.0, 580000.0, 1010000.0, 550000.0, 1155000.0, 2100000.0, 3050000.0, 1420000.0, 950000.0, 1525000.0, 1330000.0, 850000.0, 725000.0, 855000.0, 1620000.0, 950000.0, 1010000.0, 1840000.0, 740000.0, 1051000.0, 1350000.0, 750000.0, 1120000.0, 1125000.0, 1875000.0, 1255000.0, 1155000.0, 800000.0, 310000.0, 1650000.0, 3056000.0, 1900000.0, 2650000.0, 525000.0, 2855000.0, 3255000.0, 1155000.0, 690000.0, 3175000.0, 735000.0, 2520000.0, 1350000.0, 905000.0, 2200000.0, 840000.0, 780000.0, 475000.0, 800000.0, 422500.0, 610000.0, 685000.0, 1100000.0, 2180000.0, 880000.0, 2150500.0, 1275000.0, 690000.0, 1000000.0, 1520000.0, 1020000.0, 680000.0, 620000.0, 890000.0, 720000.0, 770000.0, 1750000.0, 2010000.0, 480000.0, 752000.0, 286000.0, 1075000.0, 660000.0, 270000.0, 1005000.0, 470000.0, 945000.0, 600000.0, 1650000.0, 1450000.0, 1860000.0, 1250000.0, 1000000.0, 640000.0, 1425000.0, 1650000.0, 1400000.0, 2080000.0, 505000.0, 865000.0, 1150000.0, 460000.0, 705000.0, 780000.0, 1350000.0, 2385000.0, 860000.0, 950000.0, 880000.0, 780000.0, 645000.0, 510000.0, 665000.0, 545000.0, 850000.0, 445000.0, 651000.0, 2800000.0, 1870000.0, 2425000.0, 1110000.0, 650000.0, 2775000.0, 1700000.0, 3750000.0, 700000.0, 1285000.0, 1650000.0, 1565000.0, 640000.0, 1560000.0, 1170000.0, 920000.0, 550000.0, 1000000.0, 615000.0, 1100000.0, 630000.0, 1315000.0, 480000.0, 1300000.0, 1225000.0, 660000.0, 1200000.0, 1500000.0, 1030000.0, 720000.0, 380000.0, 585000.0, 1580000.0, 1100000.0, 1330000.0, 2200000.0, 286000.0, 865000.0, 650000.0, 1530000.0, 630000.0, 1900000.0, 260000.0, 400000.0, 2100000.0, 635000.0, 1410000.0, 650000.0, 550000.0, 650000.0, 1400000.0, 1850000.0, 800000.0, 850000.0, 600000.0, 410000.0, 1200000.0, 1250000.0, 740000.0, 1525000.0, 730000.0, 4050000.0, 1655000.0, 560000.0, 1925000.0, 1200000.0, 1400000.0, 2050000.0, 1060000.0, 770000.0, 1500000.0, 650000.0, 1645000.0, 697500.0, 1510000.0, 798000.0, 710000.0, 2020000.0, 2500000.0, 1050000.0, 525000.0, 1400000.0, 410000.0, 380000.0, 1775000.0, 1750000.0, 2300000.0, 1410000.0, 760000.0, 1350000.0, 2070000.0, 1157000.0, 1142000.0, 1100000.0, 920000.0, 825000.0, 585000.0, 1200000.0, 290000.0, 315000.0, 702500.0, 900000.0, 310000.0, 1410000.0, 600000.0, 705000.0, 535000.0, 575000.0, 515000.0, 780000.0, 1260000.0, 550000.0, 1100000.0, 1190000.0, 610000.0, 520000.0, 860000.0, 580000.0, 665000.0, 750000.0, 1850000.0, 410000.0, 1500000.0, 1020000.0, 750000.0, 610000.0, 1050000.0, 550000.0, 900000.0, 830000.0, 430000.0, 900000.0, 730000.0, 1500000.0, 1000000.0, 700000.0, 1290000.0, 510000.0, 250000.0, 320000.0, 700000.0, 627000.0, 1180000.0, 910000.0, 615000.0, 1275000.0, 1300000.0, 1320000.0, 580000.0, 900000.0, 760000.0, 1240000.0, 316000.0, 518000.0, 750000.0, 510000.0, 1120000.0, 500000.0, 850000.0, 658000.0, 770000.0, 1030000.0, 1150000.0, 1475000.0, 540000.0, 650000.0, 1400000.0, 9000000.0, 295000.0, 545000.0, 1300000.0, 840000.0, 840000.0, 520000.0, 905000.0, 1050000.0, 1000000.0, 645000.0, 394000.0, 560000.0, 590000.0, 1070000.0, 1785000.0, 1950000.0, 1520000.0, 1470000.0, 2825000.0, 815000.0, 555000.0, 900000.0, 1210000.0, 1800000.0, 1180000.0, 1300000.0, 1100000.0, 1140000.0, 2110000.0, 2625000.0, 1400000.0, 860000.0, 1280000.0, 660000.0, 1525000.0, 870000.0, 780000.0, 980000.0, 630000.0, 950000.0, 820000.0, 1320000.0, 1670000.0, 1550000.0, 680000.0, 1100000.0, 1510000.0, 1230000.0, 800000.0, 1210000.0, 730000.0, 1300000.0, 2030000.0, 1450000.0, 1725000.0, 1960000.0, 1820000.0, 1010000.0, 1085000.0, 1400000.0, 1750000.0, 605000.0, 650000.0, 1820000.0, 1060000.0, 5065000.0, 1325000.0, 1975000.0, 1000000.0, 950000.0, 850000.0, 950000.0, 1610000.0, 1625000.0, 1335000.0, 830000.0, 1605000.0, 1150000.0, 920000.0, 1970000.0, 1000000.0, 880000.0, 2100000.0, 1900000.0, 2000000.0, 2270000.0, 2550000.0, 2450000.0, 640000.0, 970000.0, 1200000.0, 2410000.0, 1390000.0, 1600000.0, 620000.0, 610000.0, 1800000.0, 1125000.0, 1150000.0, 1280000.0, 2550000.0, 2580000.0, 1915000.0, 1410000.0, 1475000.0, 1275000.0, 1300000.0, 1100000.0, 1260000.0, 1210000.0, 910000.0, 1800000.0, 1125000.0, 2450000.0, 2600000.0, 1875000.0, 902000.0, 880000.0, 760000.0, 1060000.0, 1725000.0, 1635000.0, 890000.0, 855000.0, 999999.0, 910000.0, 840000.0, 1300000.0, 1360000.0, 1650000.0, 1660000.0, 1900000.0, 1400000.0, 990000.0, 770000.0, 600000.0, 1240000.0, 1580000.0, 755000.0, 750000.0, 1000000.0, 2690000.0, 600000.0, 567000.0, 1125000.0, 700000.0, 960000.0, 3450000.0, 965000.0, 710000.0, 875000.0, 985000.0, 1870000.0, 2475000.0, 640000.0, 800000.0, 480000.0, 1250000.0, 650000.0, 2500000.0], \"yaxis\": \"y\"}, {\"alignmentgroup\": \"True\", \"bingroup\": \"x\", \"histfunc\": \"sum\", \"hovertemplate\": \"Method=%{x}<br>sum of Price=%{y}<extra></extra>\", \"legendgroup\": \"VB\", \"marker\": {\"color\": \"#ab63fa\"}, \"name\": \"VB\", \"offsetgroup\": \"VB\", \"orientation\": \"v\", \"showlegend\": true, \"type\": \"histogram\", \"x\": [\"VB\", \"VB\", \"VB\", \"VB\", \"VB\", \"VB\", \"VB\", \"VB\", \"VB\", \"VB\", \"VB\", \"VB\", \"VB\", \"VB\", \"VB\", \"VB\", \"VB\", \"VB\", \"VB\", \"VB\", \"VB\", \"VB\", \"VB\", \"VB\", \"VB\", \"VB\", \"VB\", \"VB\", \"VB\", \"VB\", \"VB\", \"VB\", \"VB\", \"VB\", \"VB\", \"VB\", \"VB\", \"VB\", \"VB\", \"VB\", \"VB\", \"VB\", \"VB\", \"VB\", \"VB\", \"VB\", \"VB\", \"VB\", \"VB\", \"VB\", \"VB\", \"VB\", \"VB\", \"VB\", \"VB\", \"VB\", \"VB\", \"VB\", \"VB\", \"VB\", \"VB\", \"VB\", \"VB\", \"VB\", \"VB\", \"VB\", \"VB\", \"VB\", \"VB\", \"VB\", \"VB\", \"VB\", \"VB\", \"VB\", \"VB\", \"VB\", \"VB\", \"VB\", \"VB\", \"VB\", \"VB\", \"VB\", \"VB\", \"VB\", \"VB\", \"VB\", \"VB\", \"VB\", \"VB\", \"VB\", \"VB\", \"VB\", \"VB\", \"VB\", \"VB\", \"VB\", \"VB\", \"VB\", \"VB\", \"VB\", \"VB\", \"VB\", \"VB\", \"VB\", \"VB\", \"VB\", \"VB\", \"VB\", \"VB\", \"VB\", \"VB\", \"VB\", \"VB\", \"VB\", \"VB\", \"VB\", \"VB\", \"VB\", \"VB\", \"VB\", \"VB\", \"VB\", \"VB\", \"VB\", \"VB\", \"VB\", \"VB\", \"VB\", \"VB\", \"VB\", \"VB\", \"VB\", \"VB\", \"VB\", \"VB\", \"VB\", \"VB\", \"VB\", \"VB\", \"VB\", \"VB\", \"VB\", \"VB\", \"VB\", \"VB\", \"VB\", \"VB\", \"VB\", \"VB\", \"VB\", \"VB\", \"VB\", \"VB\", \"VB\", \"VB\", \"VB\", \"VB\", \"VB\", \"VB\", \"VB\", \"VB\", \"VB\", \"VB\", \"VB\", \"VB\", \"VB\", \"VB\", \"VB\", \"VB\", \"VB\", \"VB\", \"VB\", \"VB\", \"VB\", \"VB\", \"VB\", \"VB\", \"VB\", \"VB\", \"VB\", \"VB\", \"VB\", \"VB\", \"VB\", \"VB\", \"VB\", \"VB\", \"VB\", \"VB\", \"VB\", \"VB\", \"VB\", \"VB\", \"VB\", \"VB\", \"VB\", \"VB\", \"VB\", \"VB\", \"VB\", \"VB\", \"VB\", \"VB\", \"VB\", \"VB\", \"VB\", \"VB\", \"VB\", \"VB\", \"VB\", \"VB\", \"VB\", \"VB\", \"VB\", \"VB\", \"VB\", \"VB\", \"VB\", \"VB\", \"VB\", \"VB\", \"VB\", \"VB\", \"VB\", \"VB\", \"VB\", \"VB\", \"VB\", \"VB\", \"VB\", \"VB\", \"VB\", \"VB\", \"VB\", \"VB\", \"VB\", \"VB\", \"VB\", \"VB\", \"VB\", \"VB\", \"VB\", \"VB\", \"VB\", \"VB\", \"VB\", \"VB\", \"VB\", \"VB\", \"VB\", \"VB\", \"VB\", \"VB\", \"VB\", \"VB\", \"VB\", \"VB\", \"VB\", \"VB\", \"VB\", \"VB\", \"VB\", \"VB\", \"VB\", \"VB\", \"VB\", \"VB\", \"VB\", \"VB\", \"VB\", \"VB\", \"VB\", \"VB\", \"VB\", \"VB\", \"VB\", \"VB\", \"VB\", \"VB\", \"VB\", \"VB\", \"VB\", \"VB\", \"VB\", \"VB\", \"VB\", \"VB\", \"VB\", \"VB\", \"VB\", \"VB\", \"VB\", \"VB\", \"VB\", \"VB\", \"VB\", \"VB\", \"VB\", \"VB\", \"VB\", \"VB\", \"VB\", \"VB\", \"VB\", \"VB\", \"VB\", \"VB\", \"VB\", \"VB\", \"VB\", \"VB\", \"VB\", \"VB\", \"VB\", \"VB\", \"VB\", \"VB\", \"VB\", \"VB\", \"VB\", \"VB\", \"VB\", \"VB\", \"VB\", \"VB\", \"VB\", \"VB\", \"VB\", \"VB\", \"VB\", \"VB\", \"VB\", \"VB\", \"VB\", \"VB\", \"VB\", \"VB\", \"VB\", \"VB\", \"VB\", \"VB\", \"VB\", \"VB\", \"VB\", \"VB\", \"VB\", \"VB\", \"VB\", \"VB\", \"VB\", \"VB\", \"VB\", \"VB\", \"VB\", \"VB\", \"VB\", \"VB\", \"VB\", \"VB\", \"VB\", \"VB\", \"VB\", \"VB\", \"VB\", \"VB\", \"VB\", \"VB\", \"VB\", \"VB\", \"VB\", \"VB\", \"VB\", \"VB\", \"VB\", \"VB\", \"VB\", \"VB\", \"VB\", \"VB\", \"VB\", \"VB\", \"VB\", \"VB\", \"VB\", \"VB\", \"VB\", \"VB\", \"VB\", \"VB\", \"VB\", \"VB\", \"VB\", \"VB\", \"VB\", \"VB\", \"VB\", \"VB\", \"VB\", \"VB\", \"VB\", \"VB\", \"VB\", \"VB\", \"VB\", \"VB\", \"VB\", \"VB\", \"VB\", \"VB\", \"VB\", \"VB\", \"VB\", \"VB\", \"VB\", \"VB\", \"VB\", \"VB\", \"VB\", \"VB\", \"VB\", \"VB\", \"VB\", \"VB\", \"VB\", \"VB\", \"VB\", \"VB\", \"VB\", \"VB\", \"VB\", \"VB\", \"VB\", \"VB\", \"VB\", \"VB\", \"VB\", \"VB\", \"VB\", \"VB\", \"VB\", \"VB\", \"VB\", \"VB\", \"VB\", \"VB\", \"VB\", \"VB\", \"VB\", \"VB\", \"VB\", \"VB\", \"VB\", \"VB\", \"VB\", \"VB\", \"VB\", \"VB\", \"VB\", \"VB\", \"VB\", \"VB\", \"VB\", \"VB\", \"VB\", \"VB\", \"VB\", \"VB\", \"VB\", \"VB\", \"VB\", \"VB\", \"VB\", \"VB\", \"VB\", \"VB\", \"VB\", \"VB\", \"VB\", \"VB\", \"VB\", \"VB\", \"VB\", \"VB\", \"VB\", \"VB\", \"VB\", \"VB\", \"VB\", \"VB\", \"VB\", \"VB\", \"VB\", \"VB\", \"VB\", \"VB\", \"VB\", \"VB\", \"VB\", \"VB\", \"VB\", \"VB\", \"VB\", \"VB\", \"VB\", \"VB\", \"VB\", \"VB\", \"VB\", \"VB\", \"VB\", \"VB\", \"VB\", \"VB\", \"VB\", \"VB\", \"VB\", \"VB\", \"VB\", \"VB\", \"VB\", \"VB\", \"VB\", \"VB\", \"VB\", \"VB\", \"VB\", \"VB\", \"VB\", \"VB\", \"VB\", \"VB\", \"VB\", \"VB\", \"VB\", \"VB\", \"VB\", \"VB\", \"VB\", \"VB\", \"VB\", \"VB\", \"VB\", \"VB\", \"VB\", \"VB\", \"VB\", \"VB\", \"VB\", \"VB\", \"VB\", \"VB\", \"VB\", \"VB\", \"VB\", \"VB\", \"VB\", \"VB\", \"VB\", \"VB\", \"VB\", \"VB\", \"VB\", \"VB\", \"VB\", \"VB\", \"VB\", \"VB\", \"VB\", \"VB\", \"VB\", \"VB\", \"VB\", \"VB\", \"VB\", \"VB\", \"VB\", \"VB\", \"VB\", \"VB\", \"VB\", \"VB\", \"VB\", \"VB\", \"VB\", \"VB\", \"VB\", \"VB\", \"VB\", \"VB\", \"VB\", \"VB\", \"VB\", \"VB\", \"VB\", \"VB\", \"VB\", \"VB\", \"VB\", \"VB\", \"VB\", \"VB\", \"VB\", \"VB\", \"VB\", \"VB\", \"VB\", \"VB\", \"VB\", \"VB\", \"VB\", \"VB\", \"VB\", \"VB\", \"VB\", \"VB\", \"VB\", \"VB\", \"VB\", \"VB\", \"VB\", \"VB\", \"VB\", \"VB\", \"VB\", \"VB\", \"VB\", \"VB\", \"VB\", \"VB\", \"VB\", \"VB\", \"VB\", \"VB\", \"VB\", \"VB\", \"VB\", \"VB\", \"VB\", \"VB\", \"VB\", \"VB\", \"VB\", \"VB\", \"VB\", \"VB\", \"VB\", \"VB\", \"VB\", \"VB\", \"VB\", \"VB\", \"VB\", \"VB\", \"VB\", \"VB\", \"VB\", \"VB\", \"VB\", \"VB\", \"VB\", \"VB\", \"VB\", \"VB\", \"VB\", \"VB\", \"VB\", \"VB\", \"VB\", \"VB\", \"VB\", \"VB\", \"VB\", \"VB\", \"VB\", \"VB\", \"VB\", \"VB\", \"VB\", \"VB\", \"VB\", \"VB\", \"VB\", \"VB\", \"VB\", \"VB\", \"VB\", \"VB\", \"VB\", \"VB\", \"VB\", \"VB\", \"VB\", \"VB\", \"VB\", \"VB\", \"VB\", \"VB\", \"VB\", \"VB\", \"VB\", \"VB\", \"VB\", \"VB\", \"VB\", \"VB\", \"VB\", \"VB\", \"VB\", \"VB\", \"VB\", \"VB\", \"VB\", \"VB\", \"VB\", \"VB\", \"VB\", \"VB\", \"VB\", \"VB\", \"VB\", \"VB\", \"VB\", \"VB\", \"VB\", \"VB\", \"VB\", \"VB\", \"VB\", \"VB\", \"VB\", \"VB\", \"VB\", \"VB\", \"VB\", \"VB\", \"VB\", \"VB\", \"VB\", \"VB\", \"VB\", \"VB\", \"VB\", \"VB\", \"VB\", \"VB\", \"VB\", \"VB\", \"VB\", \"VB\", \"VB\", \"VB\", \"VB\", \"VB\", \"VB\", \"VB\", \"VB\", \"VB\", \"VB\", \"VB\", \"VB\", \"VB\", \"VB\", \"VB\", \"VB\", \"VB\", \"VB\", \"VB\", \"VB\", \"VB\", \"VB\", \"VB\", \"VB\", \"VB\", \"VB\", \"VB\", \"VB\", \"VB\", \"VB\", \"VB\", \"VB\", \"VB\", \"VB\", \"VB\", \"VB\", \"VB\", \"VB\", \"VB\", \"VB\", \"VB\", \"VB\", \"VB\", \"VB\", \"VB\", \"VB\", \"VB\", \"VB\", \"VB\", \"VB\", \"VB\", \"VB\", \"VB\", \"VB\", \"VB\", \"VB\", \"VB\", \"VB\", \"VB\", \"VB\", \"VB\", \"VB\", \"VB\", \"VB\", \"VB\", \"VB\", \"VB\", \"VB\", \"VB\", \"VB\", \"VB\", \"VB\", \"VB\", \"VB\", \"VB\", \"VB\", \"VB\", \"VB\", \"VB\", \"VB\", \"VB\", \"VB\", \"VB\", \"VB\", \"VB\", \"VB\", \"VB\", \"VB\", \"VB\", \"VB\", \"VB\", \"VB\", \"VB\", \"VB\", \"VB\", \"VB\", \"VB\", \"VB\", \"VB\", \"VB\", \"VB\", \"VB\", \"VB\", \"VB\", \"VB\", \"VB\", \"VB\", \"VB\", \"VB\", \"VB\", \"VB\", \"VB\", \"VB\", \"VB\", \"VB\", \"VB\", \"VB\", \"VB\", \"VB\", \"VB\", \"VB\", \"VB\", \"VB\", \"VB\", \"VB\", \"VB\", \"VB\", \"VB\", \"VB\", \"VB\", \"VB\", \"VB\", \"VB\", \"VB\", \"VB\", \"VB\", \"VB\", \"VB\", \"VB\", \"VB\", \"VB\", \"VB\", \"VB\", \"VB\", \"VB\", \"VB\", \"VB\", \"VB\", \"VB\", \"VB\", \"VB\", \"VB\", \"VB\", \"VB\", \"VB\", \"VB\", \"VB\", \"VB\", \"VB\", \"VB\", \"VB\", \"VB\", \"VB\", \"VB\", \"VB\", \"VB\", \"VB\", \"VB\", \"VB\", \"VB\", \"VB\", \"VB\", \"VB\", \"VB\", \"VB\", \"VB\", \"VB\", \"VB\", \"VB\", \"VB\", \"VB\", \"VB\", \"VB\", \"VB\", \"VB\", \"VB\", \"VB\", \"VB\", \"VB\", \"VB\", \"VB\", \"VB\", \"VB\", \"VB\", \"VB\", \"VB\", \"VB\", \"VB\", \"VB\", \"VB\", \"VB\", \"VB\", \"VB\", \"VB\", \"VB\", \"VB\", \"VB\", \"VB\", \"VB\", \"VB\", \"VB\", \"VB\", \"VB\", \"VB\", \"VB\", \"VB\", \"VB\", \"VB\", \"VB\", \"VB\", \"VB\", \"VB\", \"VB\", \"VB\", \"VB\", \"VB\", \"VB\", \"VB\", \"VB\", \"VB\", \"VB\", \"VB\", \"VB\", \"VB\", \"VB\", \"VB\", \"VB\", \"VB\", \"VB\", \"VB\", \"VB\", \"VB\", \"VB\", \"VB\", \"VB\", \"VB\", \"VB\", \"VB\", \"VB\", \"VB\", \"VB\", \"VB\", \"VB\", \"VB\", \"VB\", \"VB\", \"VB\", \"VB\", \"VB\", \"VB\", \"VB\", \"VB\", \"VB\", \"VB\", \"VB\", \"VB\", \"VB\", \"VB\", \"VB\", \"VB\", \"VB\", \"VB\", \"VB\", \"VB\", \"VB\", \"VB\", \"VB\", \"VB\", \"VB\", \"VB\", \"VB\", \"VB\", \"VB\", \"VB\", \"VB\", \"VB\", \"VB\", \"VB\", \"VB\", \"VB\", \"VB\", \"VB\", \"VB\", \"VB\", \"VB\", \"VB\", \"VB\", \"VB\", \"VB\", \"VB\", \"VB\", \"VB\", \"VB\", \"VB\", \"VB\", \"VB\", \"VB\", \"VB\", \"VB\", \"VB\", \"VB\", \"VB\", \"VB\", \"VB\", \"VB\", \"VB\", \"VB\", \"VB\", \"VB\", \"VB\", \"VB\", \"VB\", \"VB\", \"VB\", \"VB\", \"VB\", \"VB\", \"VB\", \"VB\", \"VB\", \"VB\", \"VB\", \"VB\", \"VB\", \"VB\", \"VB\", \"VB\", \"VB\", \"VB\", \"VB\", \"VB\", \"VB\", \"VB\", \"VB\", \"VB\", \"VB\", \"VB\", \"VB\", \"VB\", \"VB\", \"VB\", \"VB\", \"VB\", \"VB\", \"VB\", \"VB\", \"VB\", \"VB\", \"VB\", \"VB\", \"VB\", \"VB\", \"VB\", \"VB\", \"VB\", \"VB\", \"VB\", \"VB\", \"VB\", \"VB\", \"VB\", \"VB\", \"VB\", \"VB\", \"VB\", \"VB\", \"VB\", \"VB\", \"VB\", \"VB\", \"VB\", \"VB\", \"VB\", \"VB\", \"VB\", \"VB\", \"VB\", \"VB\", \"VB\", \"VB\", \"VB\", \"VB\", \"VB\", \"VB\", \"VB\", \"VB\", \"VB\", \"VB\", \"VB\", \"VB\", \"VB\", \"VB\", \"VB\", \"VB\", \"VB\", \"VB\", \"VB\", \"VB\", \"VB\", \"VB\", \"VB\", \"VB\", \"VB\", \"VB\", \"VB\", \"VB\", \"VB\", \"VB\", \"VB\", \"VB\", \"VB\", \"VB\", \"VB\", \"VB\", \"VB\", \"VB\", \"VB\", \"VB\", \"VB\", \"VB\", \"VB\", \"VB\", \"VB\", \"VB\", \"VB\", \"VB\", \"VB\", \"VB\", \"VB\", \"VB\", \"VB\", \"VB\", \"VB\", \"VB\", \"VB\", \"VB\", \"VB\", \"VB\", \"VB\", \"VB\", \"VB\"], \"xaxis\": \"x\", \"y\": [1600000.0, 700000.0, 1350000.0, 730000.0, 500000.0, 1550000.0, 1800000.0, 1800000.0, 2000000.0, 2800000.0, 2800000.0, 390000.0, 520000.0, 660000.0, 720000.0, 700000.0, 550000.0, 700000.0, 3000000.0, 1900000.0, 1300000.0, 620000.0, 4200000.0, 490000.0, 450000.0, 1100000.0, 570000.0, 500000.0, 1550000.0, 1500000.0, 1250000.0, 1075000.0, 1100000.0, 1200000.0, 670000.0, 1100000.0, 280000.0, 540000.0, 1800000.0, 2400000.0, 4000000.0, 2800000.0, 1850000.0, 700000.0, 390000.0, 700000.0, 460000.0, 1800000.0, 3000000.0, 3400000.0, 2900000.0, 2275000.0, 1750000.0, 4000000.0, 1700000.0, 1900000.0, 1450000.0, 1500000.0, 1750000.0, 1850000.0, 1740000.0, 1800000.0, 2200000.0, 1350000.0, 1700000.0, 1750000.0, 2100000.0, 1900000.0, 1600000.0, 1900000.0, 1500000.0, 1250000.0, 1700000.0, 1550000.0, 2000000.0, 1225000.0, 1100000.0, 770000.0, 1600000.0, 950000.0, 860000.0, 900000.0, 780000.0, 340000.0, 900000.0, 1040000.0, 970000.0, 975000.0, 4000000.0, 400000.0, 420000.0, 610000.0, 1550000.0, 2750000.0, 1865000.0, 4700000.0, 1550000.0, 800000.0, 3700000.0, 2475000.0, 1600000.0, 1500000.0, 1700000.0, 1400000.0, 1400000.0, 1300000.0, 1200000.0, 1100000.0, 2500000.0, 1650000.0, 340000.0, 1500000.0, 840000.0, 1800000.0, 820000.0, 380000.0, 680000.0, 370000.0, 370000.0, 1150000.0, 1150000.0, 1000000.0, 1475000.0, 1250000.0, 780000.0, 900000.0, 1000000.0, 2600000.0, 430000.0, 2950000.0, 2600000.0, 1250000.0, 620000.0, 2000000.0, 2700000.0, 1750000.0, 2000000.0, 2200000.0, 2350000.0, 3550000.0, 1800000.0, 1330000.0, 1280000.0, 1150000.0, 520000.0, 360000.0, 1350000.0, 260000.0, 460000.0, 1550000.0, 950000.0, 370000.0, 550000.0, 420000.0, 290000.0, 550000.0, 650000.0, 1030000.0, 290000.0, 500000.0, 890000.0, 325000.0, 880000.0, 1450000.0, 1150000.0, 640000.0, 1000000.0, 1100000.0, 740000.0, 1900000.0, 485000.0, 590000.0, 1250000.0, 1025000.0, 700000.0, 440000.0, 430000.0, 800000.0, 1125000.0, 400000.0, 1650000.0, 1100000.0, 1650000.0, 2600000.0, 1100000.0, 2550000.0, 900000.0, 1100000.0, 800000.0, 820000.0, 900000.0, 1500000.0, 1750000.0, 410000.0, 1050000.0, 1050000.0, 660000.0, 500000.0, 390000.0, 1875000.0, 326000.0, 1925000.0, 550000.0, 980000.0, 1100000.0, 1000000.0, 520000.0, 585000.0, 1635000.0, 1065000.0, 480000.0, 750000.0, 390000.0, 370000.0, 1800000.0, 360000.0, 250000.0, 370000.0, 1250000.0, 400000.0, 300000.0, 750000.0, 1350000.0, 2000000.0, 600000.0, 2200000.0, 850000.0, 800000.0, 630000.0, 1450000.0, 1000000.0, 1600000.0, 1700000.0, 1700000.0, 330000.0, 1300000.0, 490000.0, 280000.0, 250000.0, 1100000.0, 850000.0, 350000.0, 420000.0, 210000.0, 699000.0, 3400000.0, 1800000.0, 2300000.0, 1600000.0, 2100000.0, 2250000.0, 1275000.0, 710000.0, 1350000.0, 600000.0, 1200000.0, 720000.0, 420000.0, 2400000.0, 550000.0, 540000.0, 820000.0, 600000.0, 540000.0, 330000.0, 800000.0, 1600000.0, 2200000.0, 1500000.0, 1400000.0, 680000.0, 3200000.0, 2800000.0, 820000.0, 320000.0, 500000.0, 335000.0, 350000.0, 480000.0, 320000.0, 1650000.0, 3500000.0, 840000.0, 1975000.0, 5050000.0, 750000.0, 470000.0, 485000.0, 2375000.0, 310000.0, 450000.0, 580000.0, 620000.0, 700000.0, 440000.0, 770000.0, 600000.0, 550000.0, 460000.0, 370000.0, 520000.0, 420000.0, 480000.0, 430000.0, 1680000.0, 610000.0, 1470000.0, 460000.0, 950000.0, 1275000.0, 320000.0, 700000.0, 470000.0, 420000.0, 360000.0, 365000.0, 570000.0, 370000.0, 1900000.0, 700000.0, 520000.0, 650000.0, 3550000.0, 1950000.0, 2350000.0, 1800000.0, 1450000.0, 3650000.0, 2800000.0, 1000000.0, 2450000.0, 2425000.0, 480000.0, 2600000.0, 620000.0, 2600000.0, 395000.0, 1950000.0, 2100000.0, 2175000.0, 1300000.0, 750000.0, 1350000.0, 2400000.0, 2025000.0, 780000.0, 650000.0, 700000.0, 1000000.0, 2400000.0, 2200000.0, 2200000.0, 1500000.0, 1400000.0, 1700000.0, 2500000.0, 370000.0, 1350000.0, 1550000.0, 950000.0, 560000.0, 560000.0, 930000.0, 1900000.0, 820000.0, 470000.0, 780000.0, 460000.0, 820000.0, 820000.0, 450000.0, 360000.0, 450000.0, 400000.0, 210000.0, 470000.0, 650000.0, 700000.0, 520000.0, 675000.0, 360000.0, 2600000.0, 1690000.0, 1500000.0, 725000.0, 520000.0, 2150000.0, 1120000.0, 420000.0, 550000.0, 515000.0, 1100000.0, 330000.0, 750000.0, 840000.0, 1900000.0, 440000.0, 265000.0, 470000.0, 800000.0, 930000.0, 240000.0, 920000.0, 940000.0, 875000.0, 1400000.0, 410000.0, 470000.0, 470000.0, 450000.0, 1300000.0, 800000.0, 1000000.0, 1600000.0, 650000.0, 460000.0, 1000000.0, 400000.0, 570000.0, 1300000.0, 470000.0, 900000.0, 730000.0, 950000.0, 810000.0, 500000.0, 600000.0, 640000.0, 430000.0, 780000.0, 410000.0, 820000.0, 600000.0, 650000.0, 360000.0, 500000.0, 1800000.0, 1340000.0, 1250000.0, 575000.0, 725000.0, 600000.0, 590000.0, 1000000.0, 730000.0, 820000.0, 1250000.0, 600000.0, 540000.0, 400000.0, 650000.0, 330000.0, 325000.0, 1350000.0, 530000.0, 1500000.0, 570000.0, 1450000.0, 855000.0, 550000.0, 600000.0, 1400000.0, 670000.0, 600000.0, 900000.0, 270000.0, 610000.0, 390000.0, 450000.0, 300000.0, 450000.0, 340000.0, 420000.0, 730000.0, 500000.0, 1150000.0, 950000.0, 2000000.0, 1550000.0, 1350000.0, 385000.0, 560000.0, 620000.0, 890000.0, 1325000.0, 920000.0, 1080000.0, 215000.0, 970000.0, 1200000.0, 380000.0, 1500000.0, 1050000.0, 1100000.0, 1250000.0, 1650000.0, 1200000.0, 320000.0, 690000.0, 1030000.0, 360000.0, 330000.0, 450000.0, 3000000.0, 515000.0, 2050000.0, 320000.0, 2010000.0, 500000.0, 1100000.0, 1400000.0, 1800000.0, 470000.0, 530000.0, 650000.0, 480000.0, 425000.0, 740000.0, 580000.0, 700000.0, 370000.0, 720000.0, 1170000.0, 850000.0, 2000000.0, 2000000.0, 1500000.0, 2000000.0, 400000.0, 1400000.0, 390000.0, 500000.0, 690000.0, 320000.0, 400000.0, 385000.0, 450000.0, 565000.0, 470000.0, 400000.0, 550000.0, 850000.0, 1280000.0, 920000.0, 960000.0, 880000.0, 600000.0, 650000.0, 645000.0, 2200000.0, 640000.0, 1700000.0, 2500000.0, 1300000.0, 2200000.0, 1650000.0, 1975000.0, 1850000.0, 2050000.0, 2100000.0, 2000000.0, 600000.0, 600000.0, 1000000.0, 650000.0, 510000.0, 370000.0, 260000.0, 1200000.0, 245000.0, 1250000.0, 1100000.0, 1200000.0, 5500000.0, 1300000.0, 1100000.0, 4000000.0, 2650000.0, 2700000.0, 4000000.0, 1550000.0, 1100000.0, 1900000.0, 540000.0, 940000.0, 1050000.0, 800000.0, 1800000.0, 500000.0, 580000.0, 1850000.0, 275000.0, 300000.0, 380000.0, 300000.0, 400000.0, 650000.0, 770000.0, 650000.0, 1000000.0, 1100000.0, 670000.0, 330000.0, 620000.0, 600000.0, 1250000.0, 1340000.0, 1520000.0, 800000.0, 380000.0, 840000.0, 1200000.0, 370000.0, 590000.0, 800000.0, 480000.0, 1550000.0, 600000.0, 800000.0, 730000.0, 520000.0, 820000.0, 540000.0, 1650000.0, 1600000.0, 1700000.0, 460000.0, 320000.0, 680000.0, 1920000.0, 400000.0, 2100000.0, 3500000.0, 1320000.0, 2450000.0, 2500000.0, 500000.0, 1900000.0, 975000.0, 750000.0, 690000.0, 850000.0, 1125000.0, 470000.0, 1050000.0, 270000.0, 200000.0, 500000.0, 1400000.0, 1100000.0, 250000.0, 290000.0, 1500000.0, 405000.0, 450000.0, 510000.0, 420000.0, 600000.0, 1900000.0, 360000.0, 800000.0, 380000.0, 780000.0, 1740000.0, 1700000.0, 1700000.0, 480000.0, 1600000.0, 1100000.0, 2000000.0, 2900000.0, 2000000.0, 1880000.0, 1270000.0, 1300000.0, 830000.0, 1900000.0, 480000.0, 385000.0, 1100000.0, 545000.0, 760000.0, 975000.0, 8000000.0, 1775000.0, 1000000.0, 820000.0, 700000.0, 1500000.0, 330000.0, 550000.0, 1070000.0, 1400000.0, 700000.0, 450000.0, 330000.0, 350000.0, 950000.0, 390000.0, 760000.0, 420000.0, 1050000.0, 1700000.0, 160000.0, 300000.0, 1300000.0, 1525000.0, 3750000.0, 3600000.0, 690000.0, 690000.0, 2400000.0, 3800000.0, 590000.0, 680000.0, 1000000.0, 2000000.0, 1850000.0, 275000.0, 640000.0, 2100000.0, 1100000.0, 510000.0, 420000.0, 280000.0, 1400000.0, 540000.0, 520000.0, 600000.0, 475000.0, 1000000.0, 800000.0, 950000.0, 950000.0, 500000.0, 1400000.0, 500000.0, 690000.0, 3000000.0, 940000.0, 650000.0, 680000.0, 710000.0, 800000.0, 320000.0, 350000.0, 900000.0, 950000.0, 810000.0, 650000.0, 1500000.0, 510000.0, 480000.0, 200000.0, 960000.0, 500000.0, 1750000.0, 850000.0, 1875000.0, 490000.0, 1100000.0, 600000.0, 1350000.0, 525000.0, 1000000.0, 380000.0, 2250000.0, 580000.0, 670000.0, 900000.0, 490000.0, 1275000.0, 380000.0, 670000.0, 350000.0, 900000.0, 750000.0, 2200000.0, 1350000.0, 780000.0, 520000.0, 850000.0, 500000.0, 280000.0, 970000.0, 2000000.0, 780000.0, 2450000.0, 850000.0, 640000.0, 350000.0, 365000.0, 2100000.0, 1240000.0, 2500000.0, 650000.0, 420000.0, 885000.0, 2525000.0, 1180000.0, 4900000.0, 950000.0, 1400000.0, 530000.0, 2400000.0, 740000.0, 2000000.0, 1650000.0, 2750000.0, 3200000.0, 2700000.0, 1300000.0, 890000.0, 1100000.0, 1775000.0, 1900000.0, 1550000.0, 2270000.0, 550000.0, 1950000.0, 1100000.0, 1600000.0, 620000.0, 2225000.0, 2200000.0, 550000.0, 1375000.0, 740000.0, 2500000.0, 800000.0, 900000.0, 2300000.0, 760000.0, 810000.0, 2500000.0, 1050000.0, 1400000.0, 1800000.0, 330000.0, 1500000.0, 3200000.0, 700000.0, 1900000.0, 810000.0, 570000.0, 1300000.0, 900000.0, 720000.0, 1700000.0, 720000.0, 860000.0, 1800000.0, 410000.0, 650000.0, 700000.0, 800000.0, 2250000.0, 820000.0, 1050000.0, 880000.0, 1325000.0, 1300000.0, 920000.0, 960000.0, 620000.0, 1200000.0, 570000.0, 850000.0, 1550000.0, 1000000.0, 1275000.0, 1350000.0, 1400000.0, 1020000.0, 470000.0, 1300000.0, 2250000.0, 900000.0, 2000000.0, 410000.0, 1850000.0, 725000.0, 1300000.0, 1600000.0, 2300000.0, 1700000.0, 460000.0, 1300000.0, 1290000.0, 1100000.0, 1450000.0, 300000.0, 525000.0, 900000.0, 830000.0, 1050000.0, 550000.0, 500000.0, 630000.0, 680000.0, 1250000.0, 1650000.0, 1750000.0, 820000.0, 650000.0, 780000.0, 1250000.0, 830000.0, 400000.0, 600000.0, 1300000.0, 1000000.0, 1375000.0, 680000.0, 1180000.0, 290000.0, 750000.0, 1300000.0, 350000.0, 1000000.0, 400000.0, 1430000.0, 600000.0, 445000.0, 880000.0, 710000.0, 850000.0, 620000.0, 1040000.0, 635000.0, 1200000.0, 800000.0, 600000.0, 470000.0, 1140000.0, 750000.0, 795000.0, 410000.0, 1380000.0, 700000.0, 1625000.0, 1250000.0, 1460000.0, 3000000.0, 1900000.0, 1500000.0, 3250000.0, 780000.0, 830000.0, 900000.0, 700000.0, 2700000.0, 3200000.0, 850000.0, 320000.0, 370000.0, 1425000.0, 560000.0, 2825000.0, 450000.0, 720000.0, 1570000.0, 950000.0, 860000.0, 1750000.0, 570000.0, 650000.0, 420000.0, 3000000.0, 2500000.0, 900000.0, 1225000.0, 450000.0, 440000.0, 1900000.0, 400000.0, 1450000.0, 3350000.0, 1750000.0, 1800000.0, 1600000.0, 650000.0, 2400000.0, 1350000.0, 1400000.0, 950000.0, 900000.0, 500000.0, 920000.0, 1200000.0, 2800000.0, 1350000.0, 275000.0, 835000.0, 480000.0, 430000.0, 900000.0, 540000.0, 650000.0, 1200000.0, 820000.0, 590000.0, 1100000.0, 840000.0, 440000.0, 1700000.0, 1050000.0, 1800000.0, 1550000.0, 690000.0, 990000.0, 550000.0, 800000.0, 2800000.0, 470000.0, 280000.0, 1900000.0, 280000.0, 970000.0, 840000.0, 800000.0, 2400000.0, 2400000.0, 775000.0, 1100000.0, 1400000.0, 1050000.0, 580000.0, 500000.0, 520000.0, 985000.0, 410000.0, 1100000.0, 570000.0, 460000.0, 710000.0, 1950000.0, 2550000.0, 800000.0, 760000.0, 350000.0, 1450000.0, 1080000.0, 400000.0, 2400000.0, 2500000.0, 1150000.0, 1420000.0, 700000.0, 370000.0, 680000.0, 400000.0, 835000.0, 990000.0, 2250000.0, 2530000.0, 540000.0, 1350000.0, 330000.0, 850000.0, 2200000.0, 980000.0, 570000.0, 600000.0, 2000000.0, 850000.0, 1050000.0, 2450000.0, 600000.0, 2650000.0, 5500000.0, 800000.0, 1080000.0, 730000.0, 670000.0, 2100000.0, 1500000.0, 650000.0, 670000.0, 1300000.0, 700000.0, 1900000.0, 1600000.0, 1300000.0, 1150000.0, 500000.0, 1375000.0, 750000.0, 900000.0, 890000.0, 2750000.0, 2000000.0, 875000.0, 1250000.0, 800000.0, 950000.0, 1400000.0, 1750000.0, 800000.0, 690000.0, 3000000.0, 1000000.0, 750000.0, 1850000.0, 2000000.0, 1980000.0, 1500000.0, 1200000.0, 750000.0, 1525000.0, 1800000.0, 970000.0, 800000.0, 1100000.0, 1450000.0, 1070000.0, 1900000.0, 1850000.0, 1040000.0, 170000.0, 1225000.0, 2450000.0, 920000.0, 1800000.0, 770000.0, 670000.0, 950000.0, 1520000.0, 2550000.0, 875000.0, 1450000.0, 1650000.0, 2125000.0, 2500000.0, 1200000.0, 780000.0, 850000.0, 1500000.0, 1300000.0, 2600000.0, 3100000.0, 1850000.0, 1000000.0, 650000.0, 1500000.0, 1200000.0, 810000.0, 580000.0, 550000.0, 1300000.0, 1775000.0, 750000.0, 675000.0, 2100000.0, 3000000.0, 1500000.0, 1400000.0, 1150000.0, 1020000.0, 1630000.0, 680000.0, 2800000.0, 1966000.0, 1350000.0, 950000.0, 2000000.0, 2500000.0, 2040000.0, 1350000.0, 2500000.0, 1300000.0, 1550000.0, 1450000.0, 680000.0, 1000000.0, 400000.0, 1900000.0, 1100000.0, 1050000.0, 1000000.0, 1250000.0, 920000.0, 1650000.0, 3000000.0, 1300000.0, 1800000.0, 1370000.0, 3200000.0, 2350000.0, 1220000.0, 1300000.0, 1100000.0, 1700000.0, 1350000.0, 1200000.0, 1750000.0, 1700000.0, 3100000.0, 350000.0], \"yaxis\": \"y\"}, {\"alignmentgroup\": \"True\", \"bingroup\": \"x\", \"histfunc\": \"sum\", \"hovertemplate\": \"Method=%{x}<br>sum of Price=%{y}<extra></extra>\", \"legendgroup\": \"SA\", \"marker\": {\"color\": \"#FFA15A\"}, \"name\": \"SA\", \"offsetgroup\": \"SA\", \"orientation\": \"v\", \"showlegend\": true, \"type\": \"histogram\", \"x\": [\"SA\", \"SA\", \"SA\", \"SA\", \"SA\", \"SA\", \"SA\", \"SA\", \"SA\", \"SA\", \"SA\", \"SA\", \"SA\", \"SA\", \"SA\", \"SA\", \"SA\", \"SA\", \"SA\", \"SA\", \"SA\", \"SA\", \"SA\", \"SA\", \"SA\", \"SA\", \"SA\", \"SA\", \"SA\", \"SA\", \"SA\", \"SA\", \"SA\", \"SA\", \"SA\", \"SA\", \"SA\", \"SA\", \"SA\", \"SA\", \"SA\", \"SA\", \"SA\", \"SA\", \"SA\", \"SA\", \"SA\", \"SA\", \"SA\", \"SA\", \"SA\", \"SA\", \"SA\", \"SA\", \"SA\", \"SA\", \"SA\", \"SA\", \"SA\", \"SA\", \"SA\", \"SA\", \"SA\", \"SA\", \"SA\", \"SA\", \"SA\", \"SA\", \"SA\", \"SA\", \"SA\", \"SA\", \"SA\", \"SA\", \"SA\", \"SA\", \"SA\", \"SA\", \"SA\", \"SA\", \"SA\", \"SA\", \"SA\", \"SA\", \"SA\", \"SA\", \"SA\", \"SA\", \"SA\", \"SA\", \"SA\", \"SA\"], \"xaxis\": \"x\", \"y\": [585000.0, 1070000.0, 2250000.0, 850000.0, 1650000.0, 1300000.0, 1250000.0, 3225000.0, 707000.0, 835000.0, 770000.0, 1615000.0, 1350000.0, 1140000.0, 585000.0, 1382500.0, 1575000.0, 615000.0, 990000.0, 330000.0, 895000.0, 1390000.0, 410000.0, 850000.0, 765000.0, 988000.0, 720000.0, 542000.0, 600000.0, 500000.0, 425000.0, 860000.0, 580000.0, 247500.0, 780000.0, 1950000.0, 1300000.0, 1285000.0, 1190000.0, 670000.0, 880000.0, 1138000.0, 240000.0, 540000.0, 940000.0, 1255000.0, 600000.0, 623500.0, 1010000.0, 800000.0, 715000.0, 1620000.0, 1575000.0, 950000.0, 360000.0, 1005000.0, 811000.0, 1246000.0, 1390000.0, 2725000.0, 702500.0, 925000.0, 575000.0, 1345000.0, 900000.0, 2290000.0, 865000.0, 650000.0, 1850000.0, 640000.0, 1000000.0, 798000.0, 1282500.0, 945000.0, 500000.0, 530000.0, 595000.0, 2225000.0, 651000.0, 655000.0, 660000.0, 610000.0, 1655000.0, 592000.0, 629500.0, 990000.0, 2230000.0, 800000.0, 1750000.0, 1205000.0, 1190000.0, 690000.0], \"yaxis\": \"y\"}],                        {\"barmode\": \"relative\", \"legend\": {\"title\": {\"text\": \"Method\"}, \"tracegroupgap\": 0}, \"margin\": {\"t\": 60}, \"template\": {\"data\": {\"bar\": [{\"error_x\": {\"color\": \"#2a3f5f\"}, \"error_y\": {\"color\": \"#2a3f5f\"}, \"marker\": {\"line\": {\"color\": \"#E5ECF6\", \"width\": 0.5}}, \"type\": \"bar\"}], \"barpolar\": [{\"marker\": {\"line\": {\"color\": \"#E5ECF6\", \"width\": 0.5}}, \"type\": \"barpolar\"}], \"carpet\": [{\"aaxis\": {\"endlinecolor\": \"#2a3f5f\", \"gridcolor\": \"white\", \"linecolor\": \"white\", \"minorgridcolor\": \"white\", \"startlinecolor\": \"#2a3f5f\"}, \"baxis\": {\"endlinecolor\": \"#2a3f5f\", \"gridcolor\": \"white\", \"linecolor\": \"white\", \"minorgridcolor\": \"white\", \"startlinecolor\": \"#2a3f5f\"}, \"type\": \"carpet\"}], \"choropleth\": [{\"colorbar\": {\"outlinewidth\": 0, \"ticks\": \"\"}, \"type\": \"choropleth\"}], \"contour\": [{\"colorbar\": {\"outlinewidth\": 0, \"ticks\": \"\"}, \"colorscale\": [[0.0, \"#0d0887\"], [0.1111111111111111, \"#46039f\"], [0.2222222222222222, \"#7201a8\"], [0.3333333333333333, \"#9c179e\"], [0.4444444444444444, \"#bd3786\"], [0.5555555555555556, \"#d8576b\"], [0.6666666666666666, \"#ed7953\"], [0.7777777777777778, \"#fb9f3a\"], [0.8888888888888888, \"#fdca26\"], [1.0, \"#f0f921\"]], \"type\": \"contour\"}], \"contourcarpet\": [{\"colorbar\": {\"outlinewidth\": 0, \"ticks\": \"\"}, \"type\": \"contourcarpet\"}], \"heatmap\": [{\"colorbar\": {\"outlinewidth\": 0, \"ticks\": \"\"}, \"colorscale\": [[0.0, \"#0d0887\"], [0.1111111111111111, \"#46039f\"], [0.2222222222222222, \"#7201a8\"], [0.3333333333333333, \"#9c179e\"], [0.4444444444444444, \"#bd3786\"], [0.5555555555555556, \"#d8576b\"], [0.6666666666666666, \"#ed7953\"], [0.7777777777777778, \"#fb9f3a\"], [0.8888888888888888, \"#fdca26\"], [1.0, \"#f0f921\"]], \"type\": \"heatmap\"}], \"heatmapgl\": [{\"colorbar\": {\"outlinewidth\": 0, \"ticks\": \"\"}, \"colorscale\": [[0.0, \"#0d0887\"], [0.1111111111111111, \"#46039f\"], [0.2222222222222222, \"#7201a8\"], [0.3333333333333333, \"#9c179e\"], [0.4444444444444444, \"#bd3786\"], [0.5555555555555556, \"#d8576b\"], [0.6666666666666666, \"#ed7953\"], [0.7777777777777778, \"#fb9f3a\"], [0.8888888888888888, \"#fdca26\"], [1.0, \"#f0f921\"]], \"type\": \"heatmapgl\"}], \"histogram\": [{\"marker\": {\"colorbar\": {\"outlinewidth\": 0, \"ticks\": \"\"}}, \"type\": \"histogram\"}], \"histogram2d\": [{\"colorbar\": {\"outlinewidth\": 0, \"ticks\": \"\"}, \"colorscale\": [[0.0, \"#0d0887\"], [0.1111111111111111, \"#46039f\"], [0.2222222222222222, \"#7201a8\"], [0.3333333333333333, \"#9c179e\"], [0.4444444444444444, \"#bd3786\"], [0.5555555555555556, \"#d8576b\"], [0.6666666666666666, \"#ed7953\"], [0.7777777777777778, \"#fb9f3a\"], [0.8888888888888888, \"#fdca26\"], [1.0, \"#f0f921\"]], \"type\": \"histogram2d\"}], \"histogram2dcontour\": [{\"colorbar\": {\"outlinewidth\": 0, \"ticks\": \"\"}, \"colorscale\": [[0.0, \"#0d0887\"], [0.1111111111111111, \"#46039f\"], [0.2222222222222222, \"#7201a8\"], [0.3333333333333333, \"#9c179e\"], [0.4444444444444444, \"#bd3786\"], [0.5555555555555556, \"#d8576b\"], [0.6666666666666666, \"#ed7953\"], [0.7777777777777778, \"#fb9f3a\"], [0.8888888888888888, \"#fdca26\"], [1.0, \"#f0f921\"]], \"type\": \"histogram2dcontour\"}], \"mesh3d\": [{\"colorbar\": {\"outlinewidth\": 0, \"ticks\": \"\"}, \"type\": \"mesh3d\"}], \"parcoords\": [{\"line\": {\"colorbar\": {\"outlinewidth\": 0, \"ticks\": \"\"}}, \"type\": \"parcoords\"}], \"pie\": [{\"automargin\": true, \"type\": \"pie\"}], \"scatter\": [{\"marker\": {\"colorbar\": {\"outlinewidth\": 0, \"ticks\": \"\"}}, \"type\": \"scatter\"}], \"scatter3d\": [{\"line\": {\"colorbar\": {\"outlinewidth\": 0, \"ticks\": \"\"}}, \"marker\": {\"colorbar\": {\"outlinewidth\": 0, \"ticks\": \"\"}}, \"type\": \"scatter3d\"}], \"scattercarpet\": [{\"marker\": {\"colorbar\": {\"outlinewidth\": 0, \"ticks\": \"\"}}, \"type\": \"scattercarpet\"}], \"scattergeo\": [{\"marker\": {\"colorbar\": {\"outlinewidth\": 0, \"ticks\": \"\"}}, \"type\": \"scattergeo\"}], \"scattergl\": [{\"marker\": {\"colorbar\": {\"outlinewidth\": 0, \"ticks\": \"\"}}, \"type\": \"scattergl\"}], \"scattermapbox\": [{\"marker\": {\"colorbar\": {\"outlinewidth\": 0, \"ticks\": \"\"}}, \"type\": \"scattermapbox\"}], \"scatterpolar\": [{\"marker\": {\"colorbar\": {\"outlinewidth\": 0, \"ticks\": \"\"}}, \"type\": \"scatterpolar\"}], \"scatterpolargl\": [{\"marker\": {\"colorbar\": {\"outlinewidth\": 0, \"ticks\": \"\"}}, \"type\": \"scatterpolargl\"}], \"scatterternary\": [{\"marker\": {\"colorbar\": {\"outlinewidth\": 0, \"ticks\": \"\"}}, \"type\": \"scatterternary\"}], \"surface\": [{\"colorbar\": {\"outlinewidth\": 0, \"ticks\": \"\"}, \"colorscale\": [[0.0, \"#0d0887\"], [0.1111111111111111, \"#46039f\"], [0.2222222222222222, \"#7201a8\"], [0.3333333333333333, \"#9c179e\"], [0.4444444444444444, \"#bd3786\"], [0.5555555555555556, \"#d8576b\"], [0.6666666666666666, \"#ed7953\"], [0.7777777777777778, \"#fb9f3a\"], [0.8888888888888888, \"#fdca26\"], [1.0, \"#f0f921\"]], \"type\": \"surface\"}], \"table\": [{\"cells\": {\"fill\": {\"color\": \"#EBF0F8\"}, \"line\": {\"color\": \"white\"}}, \"header\": {\"fill\": {\"color\": \"#C8D4E3\"}, \"line\": {\"color\": \"white\"}}, \"type\": \"table\"}]}, \"layout\": {\"annotationdefaults\": {\"arrowcolor\": \"#2a3f5f\", \"arrowhead\": 0, \"arrowwidth\": 1}, \"coloraxis\": {\"colorbar\": {\"outlinewidth\": 0, \"ticks\": \"\"}}, \"colorscale\": {\"diverging\": [[0, \"#8e0152\"], [0.1, \"#c51b7d\"], [0.2, \"#de77ae\"], [0.3, \"#f1b6da\"], [0.4, \"#fde0ef\"], [0.5, \"#f7f7f7\"], [0.6, \"#e6f5d0\"], [0.7, \"#b8e186\"], [0.8, \"#7fbc41\"], [0.9, \"#4d9221\"], [1, \"#276419\"]], \"sequential\": [[0.0, \"#0d0887\"], [0.1111111111111111, \"#46039f\"], [0.2222222222222222, \"#7201a8\"], [0.3333333333333333, \"#9c179e\"], [0.4444444444444444, \"#bd3786\"], [0.5555555555555556, \"#d8576b\"], [0.6666666666666666, \"#ed7953\"], [0.7777777777777778, \"#fb9f3a\"], [0.8888888888888888, \"#fdca26\"], [1.0, \"#f0f921\"]], \"sequentialminus\": [[0.0, \"#0d0887\"], [0.1111111111111111, \"#46039f\"], [0.2222222222222222, \"#7201a8\"], [0.3333333333333333, \"#9c179e\"], [0.4444444444444444, \"#bd3786\"], [0.5555555555555556, \"#d8576b\"], [0.6666666666666666, \"#ed7953\"], [0.7777777777777778, \"#fb9f3a\"], [0.8888888888888888, \"#fdca26\"], [1.0, \"#f0f921\"]]}, \"colorway\": [\"#636efa\", \"#EF553B\", \"#00cc96\", \"#ab63fa\", \"#FFA15A\", \"#19d3f3\", \"#FF6692\", \"#B6E880\", \"#FF97FF\", \"#FECB52\"], \"font\": {\"color\": \"#2a3f5f\"}, \"geo\": {\"bgcolor\": \"white\", \"lakecolor\": \"white\", \"landcolor\": \"#E5ECF6\", \"showlakes\": true, \"showland\": true, \"subunitcolor\": \"white\"}, \"hoverlabel\": {\"align\": \"left\"}, \"hovermode\": \"closest\", \"mapbox\": {\"style\": \"light\"}, \"paper_bgcolor\": \"white\", \"plot_bgcolor\": \"#E5ECF6\", \"polar\": {\"angularaxis\": {\"gridcolor\": \"white\", \"linecolor\": \"white\", \"ticks\": \"\"}, \"bgcolor\": \"#E5ECF6\", \"radialaxis\": {\"gridcolor\": \"white\", \"linecolor\": \"white\", \"ticks\": \"\"}}, \"scene\": {\"xaxis\": {\"backgroundcolor\": \"#E5ECF6\", \"gridcolor\": \"white\", \"gridwidth\": 2, \"linecolor\": \"white\", \"showbackground\": true, \"ticks\": \"\", \"zerolinecolor\": \"white\"}, \"yaxis\": {\"backgroundcolor\": \"#E5ECF6\", \"gridcolor\": \"white\", \"gridwidth\": 2, \"linecolor\": \"white\", \"showbackground\": true, \"ticks\": \"\", \"zerolinecolor\": \"white\"}, \"zaxis\": {\"backgroundcolor\": \"#E5ECF6\", \"gridcolor\": \"white\", \"gridwidth\": 2, \"linecolor\": \"white\", \"showbackground\": true, \"ticks\": \"\", \"zerolinecolor\": \"white\"}}, \"shapedefaults\": {\"line\": {\"color\": \"#2a3f5f\"}}, \"ternary\": {\"aaxis\": {\"gridcolor\": \"white\", \"linecolor\": \"white\", \"ticks\": \"\"}, \"baxis\": {\"gridcolor\": \"white\", \"linecolor\": \"white\", \"ticks\": \"\"}, \"bgcolor\": \"#E5ECF6\", \"caxis\": {\"gridcolor\": \"white\", \"linecolor\": \"white\", \"ticks\": \"\"}}, \"title\": {\"x\": 0.05}, \"xaxis\": {\"automargin\": true, \"gridcolor\": \"white\", \"linecolor\": \"white\", \"ticks\": \"\", \"title\": {\"standoff\": 15}, \"zerolinecolor\": \"white\", \"zerolinewidth\": 2}, \"yaxis\": {\"automargin\": true, \"gridcolor\": \"white\", \"linecolor\": \"white\", \"ticks\": \"\", \"title\": {\"standoff\": 15}, \"zerolinecolor\": \"white\", \"zerolinewidth\": 2}}}, \"xaxis\": {\"anchor\": \"y\", \"categoryarray\": [\"S\", \"SP\", \"PI\", \"VB\", \"SA\"], \"categoryorder\": \"array\", \"domain\": [0.0, 1.0], \"title\": {\"text\": \"Method\"}}, \"yaxis\": {\"anchor\": \"x\", \"domain\": [0.0, 1.0], \"title\": {\"text\": \"sum of Price\"}}},                        {\"responsive\": true}                    ).then(function(){\n",
       "                            \n",
       "var gd = document.getElementById('896805be-3bbc-42a7-9dab-01184dd2c18d');\n",
       "var x = new MutationObserver(function (mutations, observer) {{\n",
       "        var display = window.getComputedStyle(gd).display;\n",
       "        if (!display || display === 'none') {{\n",
       "            console.log([gd, 'removed!']);\n",
       "            Plotly.purge(gd);\n",
       "            observer.disconnect();\n",
       "        }}\n",
       "}});\n",
       "\n",
       "// Listen for the removal of the full notebook cells\n",
       "var notebookContainer = gd.closest('#notebook-container');\n",
       "if (notebookContainer) {{\n",
       "    x.observe(notebookContainer, {childList: true});\n",
       "}}\n",
       "\n",
       "// Listen for the clearing of the current output cell\n",
       "var outputEl = gd.closest('.output');\n",
       "if (outputEl) {{\n",
       "    x.observe(outputEl, {childList: true});\n",
       "}}\n",
       "\n",
       "                        })                };                });            </script>        </div>"
      ]
     },
     "metadata": {},
     "output_type": "display_data"
    }
   ],
   "source": [
    "fig = px.histogram(data, x='Method', y='Price', color='Method');\n",
    "fig.show()"
   ]
  },
  {
   "cell_type": "code",
   "execution_count": 34,
   "metadata": {
    "execution": {
     "iopub.execute_input": "2020-11-10T17:24:33.615068Z",
     "iopub.status.busy": "2020-11-10T17:24:33.578281Z",
     "iopub.status.idle": "2020-11-10T17:24:33.740399Z",
     "shell.execute_reply": "2020-11-10T17:24:33.740980Z"
    },
    "papermill": {
     "duration": 0.303366,
     "end_time": "2020-11-10T17:24:33.741131",
     "exception": false,
     "start_time": "2020-11-10T17:24:33.437765",
     "status": "completed"
    },
    "tags": []
   },
   "outputs": [
    {
     "data": {
      "text/html": [
       "<div>                            <div id=\"4c58b5af-0998-46af-a20f-d3420161db65\" class=\"plotly-graph-div\" style=\"height:525px; width:100%;\"></div>            <script type=\"text/javascript\">                require([\"plotly\"], function(Plotly) {                    window.PLOTLYENV=window.PLOTLYENV || {};                                    if (document.getElementById(\"4c58b5af-0998-46af-a20f-d3420161db65\")) {                    Plotly.newPlot(                        \"4c58b5af-0998-46af-a20f-d3420161db65\",                        [{\"alignmentgroup\": \"True\", \"bingroup\": \"x\", \"histfunc\": \"sum\", \"hovertemplate\": \"Rooms=%{x}<br>sum of Price=%{y}<extra></extra>\", \"legendgroup\": \"2\", \"marker\": {\"color\": \"#636efa\"}, \"name\": \"2\", \"offsetgroup\": \"2\", \"orientation\": \"v\", \"showlegend\": true, \"type\": \"histogram\", \"x\": [2, 2, 2, 2, 2, 2, 2, 2, 2, 2, 2, 2, 2, 2, 2, 2, 2, 2, 2, 2, 2, 2, 2, 2, 2, 2, 2, 2, 2, 2, 2, 2, 2, 2, 2, 2, 2, 2, 2, 2, 2, 2, 2, 2, 2, 2, 2, 2, 2, 2, 2, 2, 2, 2, 2, 2, 2, 2, 2, 2, 2, 2, 2, 2, 2, 2, 2, 2, 2, 2, 2, 2, 2, 2, 2, 2, 2, 2, 2, 2, 2, 2, 2, 2, 2, 2, 2, 2, 2, 2, 2, 2, 2, 2, 2, 2, 2, 2, 2, 2, 2, 2, 2, 2, 2, 2, 2, 2, 2, 2, 2, 2, 2, 2, 2, 2, 2, 2, 2, 2, 2, 2, 2, 2, 2, 2, 2, 2, 2, 2, 2, 2, 2, 2, 2, 2, 2, 2, 2, 2, 2, 2, 2, 2, 2, 2, 2, 2, 2, 2, 2, 2, 2, 2, 2, 2, 2, 2, 2, 2, 2, 2, 2, 2, 2, 2, 2, 2, 2, 2, 2, 2, 2, 2, 2, 2, 2, 2, 2, 2, 2, 2, 2, 2, 2, 2, 2, 2, 2, 2, 2, 2, 2, 2, 2, 2, 2, 2, 2, 2, 2, 2, 2, 2, 2, 2, 2, 2, 2, 2, 2, 2, 2, 2, 2, 2, 2, 2, 2, 2, 2, 2, 2, 2, 2, 2, 2, 2, 2, 2, 2, 2, 2, 2, 2, 2, 2, 2, 2, 2, 2, 2, 2, 2, 2, 2, 2, 2, 2, 2, 2, 2, 2, 2, 2, 2, 2, 2, 2, 2, 2, 2, 2, 2, 2, 2, 2, 2, 2, 2, 2, 2, 2, 2, 2, 2, 2, 2, 2, 2, 2, 2, 2, 2, 2, 2, 2, 2, 2, 2, 2, 2, 2, 2, 2, 2, 2, 2, 2, 2, 2, 2, 2, 2, 2, 2, 2, 2, 2, 2, 2, 2, 2, 2, 2, 2, 2, 2, 2, 2, 2, 2, 2, 2, 2, 2, 2, 2, 2, 2, 2, 2, 2, 2, 2, 2, 2, 2, 2, 2, 2, 2, 2, 2, 2, 2, 2, 2, 2, 2, 2, 2, 2, 2, 2, 2, 2, 2, 2, 2, 2, 2, 2, 2, 2, 2, 2, 2, 2, 2, 2, 2, 2, 2, 2, 2, 2, 2, 2, 2, 2, 2, 2, 2, 2, 2, 2, 2, 2, 2, 2, 2, 2, 2, 2, 2, 2, 2, 2, 2, 2, 2, 2, 2, 2, 2, 2, 2, 2, 2, 2, 2, 2, 2, 2, 2, 2, 2, 2, 2, 2, 2, 2, 2, 2, 2, 2, 2, 2, 2, 2, 2, 2, 2, 2, 2, 2, 2, 2, 2, 2, 2, 2, 2, 2, 2, 2, 2, 2, 2, 2, 2, 2, 2, 2, 2, 2, 2, 2, 2, 2, 2, 2, 2, 2, 2, 2, 2, 2, 2, 2, 2, 2, 2, 2, 2, 2, 2, 2, 2, 2, 2, 2, 2, 2, 2, 2, 2, 2, 2, 2, 2, 2, 2, 2, 2, 2, 2, 2, 2, 2, 2, 2, 2, 2, 2, 2, 2, 2, 2, 2, 2, 2, 2, 2, 2, 2, 2, 2, 2, 2, 2, 2, 2, 2, 2, 2, 2, 2, 2, 2, 2, 2, 2, 2, 2, 2, 2, 2, 2, 2, 2, 2, 2, 2, 2, 2, 2, 2, 2, 2, 2, 2, 2, 2, 2, 2, 2, 2, 2, 2, 2, 2, 2, 2, 2, 2, 2, 2, 2, 2, 2, 2, 2, 2, 2, 2, 2, 2, 2, 2, 2, 2, 2, 2, 2, 2, 2, 2, 2, 2, 2, 2, 2, 2, 2, 2, 2, 2, 2, 2, 2, 2, 2, 2, 2, 2, 2, 2, 2, 2, 2, 2, 2, 2, 2, 2, 2, 2, 2, 2, 2, 2, 2, 2, 2, 2, 2, 2, 2, 2, 2, 2, 2, 2, 2, 2, 2, 2, 2, 2, 2, 2, 2, 2, 2, 2, 2, 2, 2, 2, 2, 2, 2, 2, 2, 2, 2, 2, 2, 2, 2, 2, 2, 2, 2, 2, 2, 2, 2, 2, 2, 2, 2, 2, 2, 2, 2, 2, 2, 2, 2, 2, 2, 2, 2, 2, 2, 2, 2, 2, 2, 2, 2, 2, 2, 2, 2, 2, 2, 2, 2, 2, 2, 2, 2, 2, 2, 2, 2, 2, 2, 2, 2, 2, 2, 2, 2, 2, 2, 2, 2, 2, 2, 2, 2, 2, 2, 2, 2, 2, 2, 2, 2, 2, 2, 2, 2, 2, 2, 2, 2, 2, 2, 2, 2, 2, 2, 2, 2, 2, 2, 2, 2, 2, 2, 2, 2, 2, 2, 2, 2, 2, 2, 2, 2, 2, 2, 2, 2, 2, 2, 2, 2, 2, 2, 2, 2, 2, 2, 2, 2, 2, 2, 2, 2, 2, 2, 2, 2, 2, 2, 2, 2, 2, 2, 2, 2, 2, 2, 2, 2, 2, 2, 2, 2, 2, 2, 2, 2, 2, 2, 2, 2, 2, 2, 2, 2, 2, 2, 2, 2, 2, 2, 2, 2, 2, 2, 2, 2, 2, 2, 2, 2, 2, 2, 2, 2, 2, 2, 2, 2, 2, 2, 2, 2, 2, 2, 2, 2, 2, 2, 2, 2, 2, 2, 2, 2, 2, 2, 2, 2, 2, 2, 2, 2, 2, 2, 2, 2, 2, 2, 2, 2, 2, 2, 2, 2, 2, 2, 2, 2, 2, 2, 2, 2, 2, 2, 2, 2, 2, 2, 2, 2, 2, 2, 2, 2, 2, 2, 2, 2, 2, 2, 2, 2, 2, 2, 2, 2, 2, 2, 2, 2, 2, 2, 2, 2, 2, 2, 2, 2, 2, 2, 2, 2, 2, 2, 2, 2, 2, 2, 2, 2, 2, 2, 2, 2, 2, 2, 2, 2, 2, 2, 2, 2, 2, 2, 2, 2, 2, 2, 2, 2, 2, 2, 2, 2, 2, 2, 2, 2, 2, 2, 2, 2, 2, 2, 2, 2, 2, 2, 2, 2, 2, 2, 2, 2, 2, 2, 2, 2, 2, 2, 2, 2, 2, 2, 2, 2, 2, 2, 2, 2, 2, 2, 2, 2, 2, 2, 2, 2, 2, 2, 2, 2, 2, 2, 2, 2, 2, 2, 2, 2, 2, 2, 2, 2, 2, 2, 2, 2, 2, 2, 2, 2, 2, 2, 2, 2, 2, 2, 2, 2, 2, 2, 2, 2, 2, 2, 2, 2, 2, 2, 2, 2, 2, 2, 2, 2, 2, 2, 2, 2, 2, 2, 2, 2, 2, 2, 2, 2, 2, 2, 2, 2, 2, 2, 2, 2, 2, 2, 2, 2, 2, 2, 2, 2, 2, 2, 2, 2, 2, 2, 2, 2, 2, 2, 2, 2, 2, 2, 2, 2, 2, 2, 2, 2, 2, 2, 2, 2, 2, 2, 2, 2, 2, 2, 2, 2, 2, 2, 2, 2, 2, 2, 2, 2, 2, 2, 2, 2, 2, 2, 2, 2, 2, 2, 2, 2, 2, 2, 2, 2, 2, 2, 2, 2, 2, 2, 2, 2, 2, 2, 2, 2, 2, 2, 2, 2, 2, 2, 2, 2, 2, 2, 2, 2, 2, 2, 2, 2, 2, 2, 2, 2, 2, 2, 2, 2, 2, 2, 2, 2, 2, 2, 2, 2, 2, 2, 2, 2, 2, 2, 2, 2, 2, 2, 2, 2, 2, 2, 2, 2, 2, 2, 2, 2, 2, 2, 2, 2, 2, 2, 2, 2, 2, 2, 2, 2, 2, 2, 2, 2, 2, 2, 2, 2, 2, 2, 2, 2, 2, 2, 2, 2, 2, 2, 2, 2, 2, 2, 2, 2, 2, 2, 2, 2, 2, 2, 2, 2, 2, 2, 2, 2, 2, 2, 2, 2, 2, 2, 2, 2, 2, 2, 2, 2, 2, 2, 2, 2, 2, 2, 2, 2, 2, 2, 2, 2, 2, 2, 2, 2, 2, 2, 2, 2, 2, 2, 2, 2, 2, 2, 2, 2, 2, 2, 2, 2, 2, 2, 2, 2, 2, 2, 2, 2, 2, 2, 2, 2, 2, 2, 2, 2, 2, 2, 2, 2, 2, 2, 2, 2, 2, 2, 2, 2, 2, 2, 2, 2, 2, 2, 2, 2, 2, 2, 2, 2, 2, 2, 2, 2, 2, 2, 2, 2, 2, 2, 2, 2, 2, 2, 2, 2, 2, 2, 2, 2, 2, 2, 2, 2, 2, 2, 2, 2, 2, 2, 2, 2, 2, 2, 2, 2, 2, 2, 2, 2, 2, 2, 2, 2, 2, 2, 2, 2, 2, 2, 2, 2, 2, 2, 2, 2, 2, 2, 2, 2, 2, 2, 2, 2, 2, 2, 2, 2, 2, 2, 2, 2, 2, 2, 2, 2, 2, 2, 2, 2, 2, 2, 2, 2, 2, 2, 2, 2, 2, 2, 2, 2, 2, 2, 2, 2, 2, 2, 2, 2, 2, 2, 2, 2, 2, 2, 2, 2, 2, 2, 2, 2, 2, 2, 2, 2, 2, 2, 2, 2, 2, 2, 2, 2, 2, 2, 2, 2, 2, 2, 2, 2, 2, 2, 2, 2, 2, 2, 2, 2, 2, 2, 2, 2, 2, 2, 2, 2, 2, 2, 2, 2, 2, 2, 2, 2, 2, 2, 2, 2, 2, 2, 2, 2, 2, 2, 2, 2, 2, 2, 2, 2, 2, 2, 2, 2, 2, 2, 2, 2, 2, 2, 2, 2, 2, 2, 2, 2, 2, 2, 2, 2, 2, 2, 2, 2, 2, 2, 2, 2, 2, 2, 2, 2, 2, 2, 2, 2, 2, 2, 2, 2, 2, 2, 2, 2, 2, 2, 2, 2, 2, 2, 2, 2, 2, 2, 2, 2, 2, 2, 2, 2, 2, 2, 2, 2, 2, 2, 2, 2, 2, 2, 2, 2, 2, 2, 2, 2, 2, 2, 2, 2, 2, 2, 2, 2, 2, 2, 2, 2, 2, 2, 2, 2, 2, 2, 2, 2, 2, 2, 2, 2, 2, 2, 2, 2, 2, 2, 2, 2, 2, 2, 2, 2, 2, 2, 2, 2, 2, 2, 2, 2, 2, 2, 2, 2, 2, 2, 2, 2, 2, 2, 2, 2, 2, 2, 2, 2, 2, 2, 2, 2, 2, 2, 2, 2, 2, 2, 2, 2, 2, 2, 2, 2, 2, 2, 2, 2, 2, 2, 2, 2, 2, 2, 2, 2, 2, 2, 2, 2, 2, 2, 2, 2, 2, 2, 2, 2, 2, 2, 2, 2, 2, 2, 2, 2, 2, 2, 2, 2, 2, 2, 2, 2, 2, 2, 2, 2, 2, 2, 2, 2, 2, 2, 2, 2, 2, 2, 2, 2, 2, 2, 2, 2, 2, 2, 2, 2, 2, 2, 2, 2, 2, 2, 2, 2, 2, 2, 2, 2, 2, 2, 2, 2, 2, 2, 2, 2, 2, 2, 2, 2, 2, 2, 2, 2, 2, 2, 2, 2, 2, 2, 2, 2, 2, 2, 2, 2, 2, 2, 2, 2, 2, 2, 2, 2, 2, 2, 2, 2, 2, 2, 2, 2, 2, 2, 2, 2, 2, 2, 2, 2, 2, 2, 2, 2, 2, 2, 2, 2, 2, 2, 2, 2, 2, 2, 2, 2, 2, 2, 2, 2, 2, 2, 2, 2, 2, 2, 2, 2, 2, 2, 2, 2, 2, 2, 2, 2, 2, 2, 2, 2, 2, 2, 2, 2, 2, 2, 2, 2, 2, 2, 2, 2, 2, 2, 2, 2, 2, 2, 2, 2, 2, 2, 2, 2, 2, 2, 2, 2, 2, 2, 2, 2, 2, 2, 2, 2, 2, 2, 2, 2, 2, 2, 2, 2, 2, 2, 2, 2, 2, 2, 2, 2, 2, 2, 2, 2, 2, 2, 2, 2, 2, 2, 2, 2, 2, 2, 2, 2, 2, 2, 2, 2, 2, 2, 2, 2, 2, 2, 2, 2, 2, 2, 2, 2, 2, 2, 2, 2, 2, 2, 2, 2, 2, 2, 2, 2, 2, 2, 2, 2, 2, 2, 2, 2, 2, 2, 2, 2, 2, 2, 2, 2, 2, 2, 2, 2, 2, 2, 2, 2, 2, 2, 2, 2, 2, 2, 2, 2, 2, 2, 2, 2, 2, 2, 2, 2, 2, 2, 2, 2, 2, 2, 2, 2, 2, 2, 2, 2, 2, 2, 2, 2, 2, 2, 2, 2, 2, 2, 2, 2, 2, 2, 2, 2, 2, 2, 2, 2, 2, 2, 2, 2, 2, 2, 2, 2, 2, 2, 2, 2, 2, 2, 2, 2, 2, 2, 2, 2, 2, 2, 2, 2, 2, 2, 2, 2, 2, 2, 2, 2, 2, 2, 2, 2, 2, 2, 2, 2, 2, 2, 2, 2, 2, 2, 2, 2, 2, 2, 2, 2, 2, 2, 2, 2, 2, 2, 2, 2, 2, 2, 2, 2, 2, 2, 2, 2, 2, 2, 2, 2, 2, 2, 2, 2, 2, 2, 2, 2, 2, 2, 2, 2, 2, 2, 2, 2, 2, 2, 2, 2, 2, 2, 2, 2, 2, 2, 2, 2, 2, 2, 2, 2, 2, 2, 2, 2, 2, 2, 2, 2, 2, 2, 2, 2, 2, 2, 2, 2, 2, 2, 2, 2, 2, 2, 2, 2, 2, 2, 2, 2, 2, 2, 2, 2, 2, 2, 2, 2, 2, 2, 2, 2, 2, 2, 2, 2, 2, 2, 2, 2, 2, 2, 2, 2, 2, 2, 2, 2, 2, 2, 2, 2, 2, 2, 2, 2, 2, 2, 2, 2, 2, 2, 2, 2, 2, 2, 2, 2, 2, 2, 2, 2, 2, 2, 2, 2, 2, 2, 2, 2, 2, 2, 2, 2, 2, 2, 2, 2, 2, 2, 2, 2, 2, 2, 2, 2, 2, 2, 2, 2, 2, 2, 2, 2, 2, 2, 2, 2, 2, 2, 2, 2, 2, 2, 2, 2, 2, 2, 2, 2, 2, 2, 2, 2, 2, 2, 2, 2, 2, 2, 2, 2, 2, 2, 2, 2, 2, 2, 2, 2, 2, 2, 2, 2, 2, 2, 2, 2, 2, 2, 2, 2, 2, 2, 2, 2, 2, 2, 2, 2, 2, 2, 2, 2, 2, 2, 2, 2, 2, 2, 2, 2, 2, 2, 2, 2, 2, 2, 2, 2, 2, 2, 2, 2, 2, 2, 2, 2, 2, 2, 2, 2, 2, 2, 2, 2, 2, 2, 2, 2, 2, 2, 2, 2, 2, 2, 2, 2, 2, 2, 2, 2, 2, 2, 2, 2, 2, 2, 2, 2, 2, 2, 2, 2, 2, 2, 2, 2, 2, 2, 2, 2, 2, 2, 2, 2, 2, 2, 2, 2, 2, 2, 2, 2, 2, 2, 2, 2, 2, 2, 2, 2, 2, 2, 2, 2, 2, 2, 2, 2, 2, 2, 2, 2, 2, 2, 2, 2, 2, 2, 2, 2, 2, 2, 2, 2, 2, 2, 2, 2, 2, 2, 2, 2, 2, 2, 2, 2, 2, 2, 2, 2, 2, 2, 2, 2, 2, 2, 2, 2, 2, 2, 2, 2, 2, 2, 2, 2, 2, 2, 2, 2, 2, 2, 2, 2, 2, 2, 2, 2, 2, 2, 2, 2, 2, 2, 2, 2, 2, 2, 2, 2, 2, 2, 2, 2, 2, 2, 2, 2, 2, 2, 2, 2, 2, 2, 2, 2, 2, 2, 2, 2, 2, 2, 2, 2, 2, 2, 2, 2, 2, 2, 2, 2, 2, 2, 2, 2, 2, 2, 2, 2, 2, 2, 2, 2, 2, 2, 2, 2, 2, 2, 2, 2, 2, 2, 2, 2, 2, 2, 2, 2, 2, 2, 2, 2, 2, 2, 2, 2, 2, 2, 2, 2, 2, 2, 2, 2, 2, 2, 2, 2, 2, 2, 2, 2, 2, 2, 2, 2, 2, 2, 2, 2, 2, 2, 2, 2, 2, 2, 2, 2, 2, 2, 2, 2, 2, 2, 2, 2, 2, 2, 2, 2, 2, 2, 2, 2, 2, 2, 2, 2, 2, 2, 2, 2, 2, 2, 2, 2, 2, 2, 2, 2, 2, 2, 2, 2, 2, 2, 2, 2, 2, 2, 2, 2, 2, 2, 2, 2, 2, 2, 2, 2, 2, 2, 2, 2, 2, 2, 2, 2, 2, 2, 2, 2, 2, 2, 2, 2, 2, 2, 2, 2, 2, 2, 2, 2, 2, 2, 2, 2, 2, 2, 2, 2, 2, 2, 2, 2, 2, 2, 2, 2, 2, 2, 2, 2, 2, 2, 2, 2, 2, 2, 2, 2, 2, 2, 2, 2, 2, 2, 2, 2, 2, 2, 2, 2, 2, 2, 2, 2, 2, 2, 2, 2, 2, 2, 2, 2, 2, 2, 2, 2, 2, 2, 2, 2, 2, 2, 2, 2, 2, 2, 2, 2, 2, 2, 2, 2, 2, 2, 2, 2, 2, 2, 2, 2, 2, 2, 2, 2, 2, 2, 2, 2, 2, 2, 2, 2, 2, 2, 2, 2, 2, 2, 2, 2, 2, 2, 2, 2, 2, 2, 2, 2, 2, 2, 2, 2, 2, 2, 2, 2, 2, 2, 2, 2, 2, 2, 2, 2, 2, 2, 2, 2, 2, 2, 2, 2, 2, 2, 2, 2, 2, 2, 2, 2, 2, 2, 2, 2, 2, 2, 2, 2, 2, 2, 2, 2, 2, 2, 2, 2, 2, 2, 2, 2, 2, 2, 2, 2, 2, 2, 2, 2, 2, 2, 2, 2, 2, 2, 2, 2, 2, 2, 2, 2, 2, 2, 2, 2, 2, 2, 2, 2, 2, 2, 2, 2, 2, 2, 2, 2, 2, 2, 2, 2, 2, 2, 2, 2, 2, 2, 2, 2, 2, 2, 2, 2, 2, 2, 2, 2, 2, 2, 2, 2, 2, 2, 2, 2, 2, 2, 2, 2, 2, 2, 2, 2, 2, 2, 2, 2, 2, 2, 2, 2, 2, 2, 2, 2, 2, 2, 2, 2, 2, 2, 2, 2, 2, 2, 2, 2, 2, 2, 2, 2, 2, 2, 2, 2, 2, 2, 2, 2, 2, 2, 2, 2, 2, 2, 2, 2, 2, 2, 2, 2, 2, 2, 2, 2, 2, 2, 2, 2, 2, 2, 2, 2, 2, 2, 2, 2, 2, 2, 2, 2, 2, 2, 2, 2, 2, 2, 2, 2, 2, 2, 2, 2, 2, 2, 2, 2, 2, 2, 2, 2, 2, 2, 2, 2, 2, 2, 2, 2, 2, 2, 2, 2, 2, 2, 2, 2, 2, 2, 2, 2, 2, 2, 2, 2, 2, 2, 2, 2, 2, 2, 2, 2, 2, 2, 2, 2, 2, 2, 2, 2, 2, 2, 2, 2, 2, 2, 2, 2, 2, 2, 2, 2, 2, 2, 2, 2, 2, 2, 2, 2, 2, 2, 2, 2, 2, 2, 2, 2, 2, 2, 2, 2, 2, 2, 2, 2, 2, 2, 2, 2, 2, 2, 2, 2, 2, 2, 2, 2, 2, 2, 2, 2, 2, 2, 2, 2, 2, 2, 2, 2, 2, 2, 2, 2, 2, 2, 2, 2, 2, 2, 2, 2, 2, 2, 2, 2, 2, 2, 2, 2, 2, 2, 2, 2, 2, 2, 2, 2, 2, 2, 2, 2, 2, 2, 2, 2, 2, 2, 2, 2, 2, 2, 2, 2, 2, 2, 2, 2, 2, 2, 2, 2, 2, 2, 2, 2, 2, 2, 2, 2, 2, 2, 2, 2, 2, 2, 2, 2, 2, 2, 2, 2, 2, 2, 2, 2, 2, 2, 2, 2, 2, 2, 2, 2, 2, 2, 2, 2, 2, 2, 2, 2, 2, 2, 2, 2, 2, 2, 2, 2, 2, 2, 2, 2, 2, 2, 2, 2, 2, 2, 2, 2, 2, 2, 2, 2, 2, 2, 2, 2, 2, 2, 2, 2, 2, 2, 2, 2, 2, 2, 2, 2, 2, 2, 2, 2, 2, 2, 2, 2, 2, 2, 2, 2, 2, 2, 2, 2, 2, 2, 2, 2, 2, 2, 2, 2, 2, 2, 2, 2, 2, 2, 2, 2, 2, 2, 2, 2, 2, 2, 2, 2, 2, 2, 2, 2, 2, 2, 2, 2, 2, 2, 2, 2, 2, 2, 2, 2, 2, 2, 2, 2, 2, 2, 2, 2, 2, 2, 2, 2, 2, 2, 2, 2, 2, 2, 2, 2, 2, 2, 2, 2, 2, 2, 2, 2, 2, 2, 2, 2, 2, 2, 2, 2, 2, 2, 2, 2, 2, 2, 2, 2, 2, 2, 2, 2, 2, 2, 2, 2, 2, 2, 2, 2, 2, 2, 2, 2, 2, 2, 2, 2, 2, 2, 2, 2, 2, 2, 2, 2, 2, 2, 2, 2, 2, 2, 2, 2, 2, 2, 2, 2, 2, 2, 2, 2, 2, 2, 2, 2, 2, 2, 2, 2, 2, 2, 2, 2, 2, 2, 2, 2, 2, 2, 2, 2, 2, 2, 2, 2, 2, 2, 2, 2, 2, 2, 2, 2, 2, 2, 2, 2, 2, 2, 2, 2, 2, 2, 2, 2, 2, 2, 2, 2, 2, 2, 2, 2, 2, 2, 2, 2, 2, 2, 2, 2, 2, 2, 2, 2, 2, 2, 2, 2, 2, 2, 2, 2, 2, 2, 2, 2, 2, 2, 2, 2, 2, 2, 2, 2, 2, 2, 2, 2, 2, 2, 2, 2, 2, 2, 2, 2, 2, 2, 2, 2, 2, 2, 2, 2, 2, 2, 2, 2, 2, 2, 2, 2, 2, 2, 2, 2, 2, 2, 2, 2, 2, 2, 2, 2, 2, 2, 2, 2, 2, 2, 2, 2, 2, 2, 2, 2, 2, 2, 2, 2, 2, 2, 2, 2, 2, 2, 2, 2, 2, 2, 2, 2, 2, 2, 2, 2, 2, 2, 2, 2, 2, 2, 2, 2, 2, 2, 2, 2, 2, 2, 2, 2, 2, 2, 2, 2, 2, 2, 2, 2, 2, 2, 2, 2, 2, 2, 2, 2, 2, 2, 2, 2, 2, 2, 2, 2, 2, 2, 2, 2, 2, 2, 2, 2, 2, 2, 2, 2, 2, 2, 2, 2, 2, 2, 2, 2, 2, 2, 2, 2, 2, 2, 2, 2, 2, 2, 2, 2, 2, 2, 2, 2, 2, 2, 2, 2, 2, 2, 2, 2, 2, 2, 2, 2, 2, 2, 2, 2, 2, 2, 2, 2, 2, 2, 2, 2, 2, 2, 2, 2, 2, 2, 2, 2, 2, 2, 2, 2, 2, 2, 2, 2, 2, 2, 2, 2, 2, 2, 2, 2, 2, 2, 2, 2, 2, 2, 2, 2, 2, 2, 2, 2, 2, 2, 2, 2, 2, 2, 2, 2, 2, 2, 2, 2, 2, 2, 2, 2, 2, 2, 2, 2, 2, 2, 2, 2, 2, 2, 2, 2, 2, 2, 2, 2, 2, 2, 2, 2, 2, 2, 2, 2, 2, 2, 2, 2, 2, 2, 2, 2, 2, 2], \"xaxis\": \"x\", \"y\": [1480000.0, 1035000.0, 941000.0, 1636000.0, 1097000.0, 700000.0, 750000.0, 1172500.0, 1310000.0, 890000.0, 500000.0, 1100000.0, 1315000.0, 1135000.0, 1180000.0, 1012500.0, 1030000.0, 603000.0, 500000.0, 450000.0, 515000.0, 530000.0, 440000.0, 462500.0, 675000.0, 510000.0, 1275000.0, 1455000.0, 1436000.0, 1110000.0, 1550000.0, 2120000.0, 1810000.0, 1000000.0, 1322500.0, 1562500.0, 647000.0, 1340000.0, 1750000.0, 980000.0, 525500.0, 805000.0, 465000.0, 820000.0, 390000.0, 650000.0, 512000.0, 720000.0, 406000.0, 580000.0, 510000.0, 425000.0, 391000.0, 440000.0, 620000.0, 447000.0, 580000.0, 857000.0, 535600.0, 421000.0, 640000.0, 610000.0, 292000.0, 599000.0, 550000.0, 678000.0, 660000.0, 700000.0, 3625000.0, 825000.0, 645000.0, 1780000.0, 592500.0, 1210000.0, 1125000.0, 1900000.0, 490000.0, 704000.0, 620000.0, 710000.0, 872000.0, 598000.0, 520000.0, 565000.0, 546000.0, 471500.0, 455000.0, 467000.0, 490000.0, 710000.0, 750000.0, 1053000.0, 940000.0, 751000.0, 950000.0, 685000.0, 636500.0, 770000.0, 965000.0, 955000.0, 450000.0, 432000.0, 610000.0, 1150000.0, 865000.0, 705000.0, 442000.0, 540000.0, 440000.0, 1010000.0, 570000.0, 690000.0, 390000.0, 705000.0, 760000.0, 545000.0, 925000.0, 500000.0, 1575000.0, 1445000.0, 1440000.0, 995000.0, 1075000.0, 700000.0, 690000.0, 600000.0, 535000.0, 700000.0, 1110000.0, 585000.0, 440000.0, 522500.0, 550000.0, 411000.0, 410000.0, 1015000.0, 502500.0, 520000.0, 442000.0, 416000.0, 820000.0, 474000.0, 981000.0, 540000.0, 497500.0, 2100000.0, 1255000.0, 806000.0, 1215000.0, 812000.0, 605000.0, 1850000.0, 805000.0, 500000.0, 635000.0, 526000.0, 760000.0, 625000.0, 700000.0, 460000.0, 1053000.0, 754000.0, 755000.0, 650000.0, 730000.0, 1010000.0, 1080000.0, 1400000.0, 860000.0, 1350000.0, 1389000.0, 685000.0, 735000.0, 1040000.0, 560000.0, 691500.0, 636000.0, 1275000.0, 1550000.0, 851000.0, 360000.0, 855000.0, 855000.0, 650000.0, 420000.0, 855000.0, 725000.0, 797500.0, 725000.0, 820000.0, 910000.0, 635000.0, 670000.0, 680000.0, 503000.0, 760000.0, 405000.0, 1410000.0, 825000.0, 746000.0, 495000.0, 570000.0, 380000.0, 689000.0, 651000.0, 495000.0, 486500.0, 1010000.0, 716000.0, 742500.0, 702000.0, 813000.0, 722000.0, 761000.0, 835000.0, 655000.0, 1120000.0, 485000.0, 340000.0, 1630000.0, 772500.0, 715000.0, 1180000.0, 710000.0, 640000.0, 1160000.0, 645000.0, 790000.0, 465000.0, 616000.0, 761000.0, 636000.0, 400000.0, 560000.0, 420000.0, 645000.0, 868000.0, 670000.0, 826000.0, 660000.0, 475000.0, 536000.0, 1300000.0, 1300000.0, 800000.0, 892500.0, 1910000.0, 620000.0, 985000.0, 502000.0, 700000.0, 590000.0, 960000.0, 1300000.0, 1100000.0, 1102000.0, 575000.0, 1570000.0, 1550000.0, 900000.0, 756000.0, 800000.0, 905500.0, 1601000.0, 858000.0, 610000.0, 737000.0, 1532000.0, 1230000.0, 1037000.0, 1701000.0, 760000.0, 850000.0, 1400000.0, 1250000.0, 700000.0, 750000.0, 1445000.0, 980000.0, 1780000.0, 775000.0, 1000000.0, 805000.0, 905000.0, 1845000.0, 770000.0, 1310000.0, 994000.0, 692000.0, 903000.0, 1813000.0, 750000.0, 563000.0, 1014000.0, 428000.0, 1026000.0, 410000.0, 400000.0, 845500.0, 860000.0, 605000.0, 445000.0, 659500.0, 600000.0, 1100000.0, 750000.0, 1056000.0, 620000.0, 1105000.0, 1260000.0, 1094000.0, 792000.0, 587000.0, 840000.0, 890000.0, 685000.0, 600000.0, 770000.0, 860000.0, 830000.0, 936000.0, 1075000.0, 620000.0, 501000.0, 601000.0, 1015000.0, 435000.0, 890000.0, 860000.0, 491000.0, 350000.0, 871000.0, 542000.0, 860000.0, 705000.0, 800000.0, 754000.0, 916000.0, 590000.0, 575000.0, 1020000.0, 801000.0, 1180000.0, 592500.0, 765000.0, 1073000.0, 945000.0, 755000.0, 521500.0, 320000.0, 471000.0, 473000.0, 380000.0, 380000.0, 400000.0, 400500.0, 435000.0, 900000.0, 380000.0, 680000.0, 711000.0, 910000.0, 500000.0, 1005000.0, 385000.0, 656000.0, 370000.0, 400000.0, 537000.0, 1315000.0, 370000.0, 735000.0, 820000.0, 370000.0, 484000.0, 598000.0, 497000.0, 403000.0, 440000.0, 816000.0, 890000.0, 980000.0, 833000.0, 903000.0, 1060000.0, 650000.0, 633000.0, 1350000.0, 1017000.0, 729000.0, 950000.0, 615000.0, 683000.0, 430000.0, 717000.0, 435000.0, 892000.0, 900400.0, 502000.0, 435000.0, 620000.0, 895000.0, 693000.0, 900000.0, 530000.0, 805000.0, 590000.0, 1800000.0, 530000.0, 558000.0, 1185000.0, 1470000.0, 820000.0, 667000.0, 1175000.0, 775000.0, 700000.0, 810000.0, 706000.0, 765000.0, 830000.0, 1305000.0, 722000.0, 690500.0, 736000.0, 685000.0, 1800000.0, 1016000.0, 1725000.0, 765000.0, 800000.0, 1301000.0, 2400000.0, 1330000.0, 910000.0, 880000.0, 1150000.0, 520000.0, 570000.0, 795000.0, 600000.0, 510000.0, 890000.0, 586000.0, 772000.0, 525000.0, 360000.0, 967500.0, 1350000.0, 516000.0, 625000.0, 700000.0, 545000.0, 930000.0, 465000.0, 460000.0, 707000.0, 804000.0, 817500.0, 855000.0, 675000.0, 588000.0, 455000.0, 662000.0, 656000.0, 930000.0, 415000.0, 650000.0, 380000.0, 765000.0, 907000.0, 983500.0, 572000.0, 601000.0, 405000.0, 370000.0, 896000.0, 585000.0, 450000.0, 737000.0, 605000.0, 1300000.0, 632500.0, 435000.0, 468250.0, 722500.0, 550000.0, 638000.0, 580000.0, 523000.0, 420000.0, 608000.0, 570000.0, 520500.0, 722000.0, 450000.0, 622000.0, 536000.0, 570000.0, 550000.0, 1065000.0, 1012000.0, 650000.0, 1225000.0, 525500.0, 825000.0, 1262000.0, 1115000.0, 1340000.0, 1001000.0, 500000.0, 1002000.0, 705000.0, 780000.0, 1420000.0, 1075000.0, 1105000.0, 1209000.0, 1435000.0, 1417000.0, 1290000.0, 495000.0, 1620000.0, 1405000.0, 880000.0, 1450000.0, 856000.0, 885500.0, 730000.0, 533000.0, 1430000.0, 640000.0, 850000.0, 807000.0, 550000.0, 953000.0, 735000.0, 500000.0, 466000.0, 610000.0, 434000.0, 653000.0, 820000.0, 657000.0, 903000.0, 485000.0, 635000.0, 470000.0, 920000.0, 537500.0, 1130000.0, 598000.0, 1008000.0, 599000.0, 860000.0, 451000.0, 635000.0, 515000.0, 472000.0, 901000.0, 642000.0, 605000.0, 700000.0, 445000.0, 810000.0, 981000.0, 570000.0, 500000.0, 425000.0, 645000.0, 600000.0, 591000.0, 765000.0, 745000.0, 935000.0, 820000.0, 532500.0, 530000.0, 570000.0, 750000.0, 890000.0, 1260000.0, 855000.0, 1320000.0, 1430000.0, 910000.0, 1015000.0, 1230000.0, 855000.0, 865000.0, 1265000.0, 1260000.0, 981000.0, 683000.0, 670000.0, 515000.0, 1000000.0, 713500.0, 672000.0, 1215000.0, 800000.0, 1645000.0, 450000.0, 860000.0, 492500.0, 400000.0, 1140000.0, 522500.0, 452000.0, 525000.0, 2850000.0, 600000.0, 900000.0, 906000.0, 930000.0, 700000.0, 591000.0, 537000.0, 1160000.0, 900000.0, 741000.0, 626000.0, 500000.0, 895000.0, 751000.0, 410000.0, 577000.0, 507000.0, 525000.0, 750000.0, 599999.0, 855000.0, 1050000.0, 955000.0, 680000.0, 790000.0, 550000.0, 685000.0, 1210000.0, 825000.0, 632000.0, 582500.0, 660000.0, 575000.0, 590000.0, 640000.0, 510000.0, 717000.0, 1180000.0, 1015000.0, 630000.0, 686000.0, 560000.0, 765000.0, 670000.0, 1122000.0, 559000.0, 525500.0, 655000.0, 684000.0, 500000.0, 680000.0, 600000.0, 612000.0, 630000.0, 640000.0, 932000.0, 645000.0, 875000.0, 582500.0, 570000.0, 687500.0, 680000.0, 730000.0, 526000.0, 572500.0, 660000.0, 550000.0, 595000.0, 645000.0, 702500.0, 1130000.0, 370000.0, 1315000.0, 456000.0, 521000.0, 645000.0, 445000.0, 411000.0, 606000.0, 460000.0, 520000.0, 585000.0, 732500.0, 485000.0, 1001000.0, 800000.0, 446000.0, 890000.0, 870000.0, 650000.0, 1065000.0, 667000.0, 930000.0, 395000.0, 480000.0, 390000.0, 453000.0, 435000.0, 457000.0, 736000.0, 405000.0, 450000.0, 740000.0, 691000.0, 370000.0, 1255000.0, 360000.0, 645000.0, 630000.0, 440000.0, 953000.0, 370000.0, 590000.0, 396000.0, 393000.0, 450000.0, 340000.0, 1220000.0, 505000.0, 602000.0, 400000.0, 610000.0, 445000.0, 730000.0, 438000.0, 510000.0, 1010000.0, 805000.0, 548000.0, 600000.0, 545000.0, 1000000.0, 810000.0, 692000.0, 1460000.0, 880000.0, 1440000.0, 1315000.0, 650000.0, 790000.0, 1122000.0, 660000.0, 1300000.0, 715000.0, 800000.0, 710000.0, 630000.0, 677000.0, 700000.0, 860000.0, 870000.0, 1116000.0, 930000.0, 700000.0, 770000.0, 1008000.0, 1054000.0, 1055000.0, 720000.0, 990000.0, 1315000.0, 1210000.0, 1255000.0, 1290000.0, 750000.0, 675000.0, 875000.0, 1222500.0, 1232000.0, 937500.0, 490000.0, 602000.0, 650000.0, 1283000.0, 1325000.0, 865500.0, 365000.0, 425000.0, 391000.0, 715000.0, 950000.0, 918000.0, 730000.0, 360000.0, 855000.0, 860000.0, 395000.0, 476000.0, 556000.0, 845000.0, 957000.0, 350000.0, 420500.0, 431000.0, 605000.0, 305000.0, 480000.0, 375000.0, 752000.0, 490000.0, 900000.0, 281000.0, 950000.0, 420000.0, 560000.0, 575000.0, 295000.0, 433000.0, 410000.0, 1170000.0, 615000.0, 571000.0, 310000.0, 370000.0, 711000.0, 690500.0, 747000.0, 858000.0, 835000.0, 661000.0, 757500.0, 315000.0, 360000.0, 316000.0, 800000.0, 760000.0, 823000.0, 296000.0, 395000.0, 745000.0, 716000.0, 1699000.0, 671000.0, 1500000.0, 550000.0, 411000.0, 845000.0, 585000.0, 710000.0, 1020000.0, 480000.0, 585000.0, 680000.0, 920000.0, 382000.0, 545000.0, 1280000.0, 511000.0, 1600000.0, 856500.0, 600000.0, 690000.0, 785000.0, 720000.0, 1723000.0, 529500.0, 600000.0, 390000.0, 1250000.0, 460000.0, 430000.0, 852500.0, 540000.0, 530000.0, 730000.0, 250000.0, 340000.0, 410000.0, 320500.0, 230000.0, 434500.0, 620250.0, 420000.0, 465000.0, 741250.0, 488500.0, 442000.0, 726335.0, 417000.0, 270000.0, 610000.0, 487000.0, 722000.0, 545000.0, 542500.0, 330000.0, 715888.0, 468000.0, 515000.0, 640000.0, 460000.0, 895000.0, 587000.0, 720000.0, 802000.0, 680000.0, 760000.0, 616000.0, 890000.0, 685000.0, 1615000.0, 786000.0, 742000.0, 1690000.0, 875500.0, 1465000.0, 750000.0, 896000.0, 898000.0, 800000.0, 691000.0, 450000.0, 738000.0, 500000.0, 915500.0, 400000.0, 801000.0, 472000.0, 830000.0, 610000.0, 575000.0, 600000.0, 891000.0, 806000.0, 1155000.0, 500000.0, 753000.0, 418000.0, 495000.0, 525000.0, 430000.0, 580000.0, 575000.0, 440000.0, 545000.0, 655000.0, 2920000.0, 645000.0, 520000.0, 630000.0, 517000.0, 1828500.0, 587500.0, 560000.0, 487500.0, 2265000.0, 605000.0, 535000.0, 815000.0, 445000.0, 663000.0, 657500.0, 750000.0, 470000.0, 485000.0, 805000.0, 665000.0, 751000.0, 743000.0, 1535000.0, 612500.0, 690000.0, 695000.0, 715000.0, 1055000.0, 495000.0, 627500.0, 710000.0, 450000.0, 815000.0, 757000.0, 565000.0, 725000.0, 700000.0, 584000.0, 680000.0, 440000.0, 650000.0, 605000.0, 450000.0, 1060000.0, 510000.0, 400000.0, 526000.0, 570000.0, 510000.0, 590000.0, 920000.0, 460000.0, 735000.0, 370000.0, 686000.0, 501500.0, 515500.0, 450000.0, 620000.0, 497500.0, 360000.0, 440500.0, 752000.0, 777000.0, 680000.0, 520000.0, 715000.0, 590000.0, 725000.0, 705000.0, 415000.0, 1550000.0, 516000.0, 623000.0, 420000.0, 375500.0, 1262000.0, 455000.0, 400000.0, 648000.0, 677500.0, 480000.0, 430000.0, 440000.0, 490000.0, 739000.0, 1020000.0, 790000.0, 705000.0, 504000.0, 587000.0, 475000.0, 465000.0, 610000.0, 690000.0, 460000.0, 779000.0, 1910000.0, 500000.0, 450000.0, 785000.0, 845000.0, 630000.0, 710000.0, 520000.0, 470000.0, 380000.0, 502000.0, 775000.0, 630000.0, 492500.0, 420000.0, 650000.0, 420000.0, 750000.0, 905000.0, 960000.0, 1031000.0, 442000.0, 765000.0, 515000.0, 1005000.0, 1234500.0, 666000.0, 825000.0, 770000.0, 812000.0, 732000.0, 1155000.0, 700000.0, 526000.0, 700000.0, 460000.0, 395000.0, 850000.0, 868000.0, 960000.0, 773000.0, 631090.0, 410000.0, 425000.0, 1211000.0, 506000.0, 806000.0, 786000.0, 458000.0, 4800000.0, 562500.0, 520000.0, 630000.0, 610000.0, 588000.0, 831000.0, 650000.0, 599000.0, 820000.0, 1326000.0, 610000.0, 515000.0, 890000.0, 1950000.0, 580000.0, 525000.0, 478000.0, 672000.0, 590000.0, 765000.0, 1507000.0, 672000.0, 890000.0, 1331000.0, 1275000.0, 551000.0, 557000.0, 610000.0, 707500.0, 2875000.0, 480000.0, 891000.0, 620000.0, 605000.0, 1110000.0, 1290000.0, 275000.0, 711000.0, 927000.0, 485000.0, 502000.0, 1000000.0, 335000.0, 646000.0, 600000.0, 349000.0, 352500.0, 600000.0, 510000.0, 360000.0, 770000.0, 830000.0, 600000.0, 570500.0, 1350000.0, 569000.0, 635000.0, 611000.0, 1611000.0, 780000.0, 566000.0, 500000.0, 1155000.0, 650000.0, 1326000.0, 660000.0, 740000.0, 1475000.0, 640000.0, 700000.0, 584000.0, 1036000.0, 447000.0, 790000.0, 720000.0, 370000.0, 1150000.0, 1400000.0, 835000.0, 820000.0, 480000.0, 1420000.0, 536000.0, 2412000.0, 523000.0, 425000.0, 500000.0, 650000.0, 635000.0, 355000.0, 420000.0, 399000.0, 425000.0, 410000.0, 330000.0, 400000.0, 479000.0, 470000.0, 510000.0, 488000.0, 570000.0, 335000.0, 429000.0, 495000.0, 566000.0, 408000.0, 470000.0, 440000.0, 400000.0, 420000.0, 570000.0, 330000.0, 1160500.0, 780000.0, 535000.0, 450000.0, 360000.0, 665000.0, 671000.0, 545000.0, 470000.0, 650000.0, 483000.0, 520000.0, 733000.0, 675000.0, 360000.0, 390000.0, 535000.0, 1690000.0, 1020000.0, 1515000.0, 700000.0, 702000.0, 1025000.0, 1920000.0, 1630000.0, 1320000.0, 750000.0, 665000.0, 660000.0, 540000.0, 725000.0, 666000.0, 520000.0, 348000.0, 675000.0, 420000.0, 550000.0, 945000.0, 860000.0, 515000.0, 330000.0, 1015000.0, 750000.0, 1013000.0, 672000.0, 410000.0, 1055000.0, 440000.0, 849000.0, 330000.0, 801000.0, 600000.0, 956000.0, 574000.0, 470000.0, 730000.0, 831000.0, 900000.0, 822500.0, 800000.0, 950000.0, 655000.0, 639000.0, 605000.0, 1191000.0, 776000.0, 800000.0, 962000.0, 485000.0, 910000.0, 1120000.0, 1030000.0, 740000.0, 762000.0, 485000.0, 922000.0, 801000.0, 650000.0, 680000.0, 793000.0, 896000.0, 890000.0, 670000.0, 816000.0, 760000.0, 457000.0, 660000.0, 617500.0, 490000.0, 657000.0, 1190000.0, 522500.0, 1007000.0, 591000.0, 540000.0, 726000.0, 1105000.0, 841000.0, 528500.0, 585000.0, 645000.0, 550000.0, 470000.0, 470000.0, 475000.0, 640000.0, 720000.0, 888000.0, 450000.0, 990000.0, 440000.0, 606000.0, 591500.0, 1300000.0, 1010000.0, 1266000.0, 620000.0, 540000.0, 1200000.0, 630000.0, 560000.0, 800000.0, 665500.0, 550055.0, 598000.0, 950000.0, 885000.0, 587134.0, 1286000.0, 630000.0, 1035000.0, 592000.0, 583000.0, 418000.0, 650000.0, 1575000.0, 950000.0, 601000.0, 1020000.0, 790000.0, 605000.0, 900000.0, 1112000.0, 910000.0, 890000.0, 1101000.0, 430000.0, 888000.0, 1020000.0, 844000.0, 701000.0, 1255000.0, 665000.0, 1085000.0, 1170000.0, 875000.0, 1035000.0, 460000.0, 1095000.0, 1211000.0, 770000.0, 600000.0, 692000.0, 1050000.0, 570000.0, 1340000.0, 1634000.0, 910000.0, 592000.0, 476000.0, 522000.0, 475000.0, 585500.0, 470000.0, 480000.0, 580000.0, 752500.0, 625000.0, 778000.0, 1805000.0, 2200000.0, 1265000.0, 1851000.0, 734600.0, 750000.0, 915000.0, 555000.0, 480000.0, 495000.0, 386000.0, 452000.0, 601500.0, 741000.0, 495000.0, 530000.0, 521500.0, 915000.0, 920000.0, 500000.0, 485000.0, 488000.0, 680000.0, 510000.0, 474000.0, 810000.0, 550500.0, 610000.0, 630000.0, 410000.0, 855000.0, 720000.0, 1570000.0, 525500.0, 1085000.0, 360000.0, 775000.0, 1100000.0, 1240000.0, 1340000.0, 550000.0, 1250000.0, 575000.0, 1000000.0, 725000.0, 1234500.0, 600000.0, 795000.0, 590000.0, 1100000.0, 845000.0, 720000.0, 1275000.0, 1000000.0, 600000.0, 655000.0, 1016500.0, 1350000.0, 1035000.0, 1070000.0, 1060000.0, 1610000.0, 1101000.0, 880000.0, 730000.0, 1080000.0, 1115000.0, 516000.0, 825000.0, 820000.0, 900000.0, 1155000.0, 1150000.0, 875000.0, 625000.0, 1405000.0, 655000.0, 1130000.0, 720000.0, 1130000.0, 520000.0, 1250000.0, 600000.0, 670000.0, 1252000.0, 1010000.0, 779000.0, 790000.0, 1400000.0, 1180000.0, 735000.0, 900000.0, 650000.0, 950000.0, 781000.0, 830000.0, 1182500.0, 1303000.0, 1210000.0, 1090000.0, 585000.0, 1106000.0, 1590000.0, 590000.0, 1055000.0, 700000.0, 473000.0, 1200000.0, 530000.0, 615000.0, 1500000.0, 1460000.0, 841000.0, 570000.0, 480000.0, 1310000.0, 560000.0, 1300000.0, 815000.0, 765000.0, 910000.0, 1540000.0, 1180000.0, 510000.0, 1582000.0, 681000.0, 1305000.0, 712500.0, 1021000.0, 1500000.0, 835000.0, 715000.0, 837000.0, 942000.0, 650000.0, 850000.0, 540000.0, 775000.0, 780000.0, 600000.0, 656000.0, 799900.0, 512000.0, 722000.0, 635000.0, 485000.0, 1065000.0, 850000.0, 530000.0, 700000.0, 920000.0, 886000.0, 660000.0, 436000.0, 876000.0, 910000.0, 565000.0, 770000.0, 780000.0, 986000.0, 771000.0, 1088000.0, 890000.0, 900000.0, 425000.0, 515000.0, 520000.0, 790000.0, 860000.0, 630000.0, 610000.0, 415000.0, 352000.0, 336000.0, 490000.0, 931000.0, 810000.0, 535000.0, 365000.0, 405000.0, 357500.0, 427500.0, 498000.0, 410000.0, 450000.0, 270000.0, 380000.0, 468000.0, 380000.0, 611000.0, 440000.0, 416000.0, 436000.0, 432000.0, 836000.0, 401000.0, 635000.0, 491000.0, 420000.0, 520000.0, 555000.0, 350000.0, 380000.0, 495000.0, 644000.0, 755000.0, 568000.0, 350000.0, 452000.0, 335000.0, 360000.0, 380000.0, 360000.0, 836000.0, 635000.0, 650000.0, 440000.0, 376000.0, 323000.0, 530000.0, 390000.0, 330000.0, 1700000.0, 510000.0, 440000.0, 424000.0, 425000.0, 352000.0, 791000.0, 480000.0, 490000.0, 300000.0, 335000.0, 440000.0, 623500.0, 525000.0, 840000.0, 340000.0, 500250.0, 790000.0, 465000.0, 772000.0, 968000.0, 300000.0, 420000.0, 240000.0, 477000.0, 433000.0, 680000.0, 405000.0, 431000.0, 610000.0, 430000.0, 730000.0, 390000.0, 937000.0, 540000.0, 795250.0, 582000.0, 935000.0, 479000.0, 479000.0, 1042500.0, 655000.0, 1130000.0, 561000.0, 635000.0, 1025000.0, 1102000.0, 550000.0, 1506000.0, 815000.0, 270000.0, 695000.0, 512000.0, 855000.0, 1040000.0, 900000.0, 990000.0, 1189000.0, 1220000.0, 1220000.0, 450000.0, 1340000.0, 1421000.0, 1430000.0, 391000.0, 1035000.0, 530000.0, 930000.0, 777500.0, 640000.0, 680000.0, 1081000.0, 860000.0, 905000.0, 691000.0, 638000.0, 951000.0, 912000.0, 1220000.0, 1088000.0, 1045000.0, 1035000.0, 842000.0, 1145000.0, 810000.0, 1220000.0, 895000.0, 1430000.0, 1045000.0, 646000.0, 660000.0, 1145000.0, 750000.0, 604000.0, 1105000.0, 965000.0, 620000.0, 1200000.0, 712000.0, 696000.0, 760000.0, 807000.0, 1150000.0, 827500.0, 560000.0, 790000.0, 870000.0, 1125000.0, 971000.0, 531000.0, 633000.0, 725000.0, 430000.0, 635000.0, 515000.0, 1200000.0, 618000.0, 452000.0, 450000.0, 720000.0, 780000.0, 755000.0, 822500.0, 990000.0, 1025000.0, 955000.0, 533000.0, 355000.0, 887000.0, 815000.0, 701000.0, 593000.0, 920500.0, 1355000.0, 575000.0, 1150000.0, 595000.0, 490000.0, 930000.0, 600000.0, 612000.0, 1500000.0, 2000000.0, 1050000.0, 1100000.0, 561000.0, 1200000.0, 1360000.0, 560000.0, 690000.0, 722000.0, 930000.0, 475000.0, 850000.0, 965000.0, 535000.0, 990000.0, 695000.0, 978500.0, 863000.0, 680000.0, 840000.0, 650000.0, 775000.0, 572000.0, 801000.0, 623500.0, 2325000.0, 659000.0, 780000.0, 865000.0, 1455000.0, 1365000.0, 1300000.0, 1300000.0, 625000.0, 2430000.0, 601000.0, 1500000.0, 1030000.0, 805000.0, 370000.0, 1036500.0, 627500.0, 450000.0, 550000.0, 613000.0, 1240000.0, 832000.0, 693000.0, 551000.0, 515000.0, 630000.0, 600000.0, 920000.0, 803000.0, 1130000.0, 500000.0, 1100000.0, 840000.0, 635000.0, 680500.0, 613000.0, 520000.0, 827000.0, 1200000.0, 480000.0, 660000.0, 470000.0, 621500.0, 1200000.0, 826000.0, 910000.0, 505000.0, 590000.0, 530000.0, 650000.0, 623000.0, 592500.0, 600000.0, 485000.0, 569000.0, 430000.0, 815000.0, 580000.0, 660000.0, 622500.0, 690000.0, 800000.0, 540000.0, 832500.0, 850000.0, 509000.0, 430000.0, 640000.0, 602000.0, 575000.0, 495000.0, 500000.0, 530000.0, 685000.0, 465000.0, 875000.0, 455000.0, 487500.0, 560000.0, 520000.0, 542500.0, 390000.0, 571000.0, 690000.0, 570000.0, 540000.0, 475000.0, 570000.0, 561000.0, 400000.0, 1220000.0, 503500.0, 580000.0, 481000.0, 582000.0, 808000.0, 1316000.0, 640000.0, 785000.0, 875000.0, 650000.0, 431000.0, 385000.0, 575000.0, 757500.0, 535000.0, 610000.0, 610000.0, 1250000.0, 450000.0, 535000.0, 1200500.0, 565000.0, 520000.0, 482300.0, 902000.0, 1435000.0, 750000.0, 1365000.0, 470000.0, 400000.0, 500000.0, 760000.0, 580000.0, 700000.0, 430000.0, 1100000.0, 648000.0, 550000.0, 1321000.0, 630000.0, 535000.0, 260000.0, 710000.0, 710000.0, 490000.0, 470000.0, 425000.0, 825000.0, 425500.0, 591000.0, 688000.0, 611000.0, 551000.0, 555000.0, 550000.0, 702000.0, 410000.0, 720000.0, 435000.0, 435000.0, 560000.0, 315000.0, 715000.0, 1190000.0, 350000.0, 640000.0, 745000.0, 1018000.0, 770000.0, 760000.0, 680000.0, 805000.0, 610000.0, 831000.0, 550000.0, 823000.0, 770500.0, 600000.0, 620000.0, 562500.0, 656000.0, 899000.0, 520000.0, 600000.0, 813000.0, 600000.0, 778500.0, 694000.0, 678000.0, 470000.0, 435000.0, 805000.0, 940000.0, 700000.0, 505000.0, 525500.0, 944000.0, 970000.0, 740000.0, 1110000.0, 1085000.0, 760000.0, 505000.0, 560000.0, 450000.0, 350000.0, 571750.0, 874000.0, 1164000.0, 605000.0, 450000.0, 900000.0, 438000.0, 1143000.0, 925000.0, 371000.0, 486000.0, 1211000.0, 466000.0, 972000.0, 432500.0, 510000.0, 601000.0, 876000.0, 620000.0, 1300000.0, 517500.0, 701500.0, 925000.0, 450000.0, 838000.0, 380000.0, 1450000.0, 810000.0, 1100000.0, 490000.0, 531000.0, 575000.0, 1210000.0, 540000.0, 857000.0, 3260000.0, 1900000.0, 690000.0, 2100000.0, 1400000.0, 511000.0, 645000.0, 525000.0, 866000.0, 920000.0, 556000.0, 555000.0, 546000.0, 662000.0, 485000.0, 342500.0, 701000.0, 800000.0, 1055000.0, 620000.0, 1050000.0, 850000.0, 830000.0, 830000.0, 940000.0, 450000.0, 513500.0, 1000000.0, 415000.0, 895000.0, 375000.0, 769000.0, 491500.0, 547500.0, 412000.0, 1337500.0, 811000.0, 920000.0, 500000.0, 400000.0, 460000.0, 380000.0, 367500.0, 580000.0, 1045000.0, 611000.0, 600000.0, 800000.0, 1325000.0, 450000.0, 520000.0, 650000.0, 380000.0, 1177000.0, 600000.0, 1500000.0, 1200000.0, 623000.0, 600000.0, 1325000.0, 518000.0, 1350000.0, 650000.0, 580000.0, 555000.0, 474000.0, 1350000.0, 890000.0, 760000.0, 650000.0, 890000.0, 960000.0, 1000000.0, 710000.0, 782000.0, 796000.0, 856000.0, 410000.0, 630000.0, 330000.0, 381000.0, 501344.0, 610000.0, 822000.0, 760000.0, 630000.0, 767000.0, 951000.0, 740000.0, 780000.0, 480500.0, 850000.0, 442000.0, 470000.0, 1300000.0, 1705000.0, 380000.0, 840000.0, 373000.0, 670000.0, 855000.0, 580000.0, 675000.0, 435000.0, 570000.0, 1080000.0, 656000.0, 570000.0, 510000.0, 665000.0, 590000.0, 1024000.0, 390000.0, 957000.0, 445000.0, 970000.0, 480000.0, 400000.0, 771000.0, 420000.0, 1005000.0, 1231010.0, 881000.0, 1202500.0, 1460000.0, 610250.0, 720000.0, 840000.0, 795000.0, 705000.0, 480000.0, 500000.0, 1010000.0, 1170000.0, 600000.0, 585000.0, 589000.0, 1117000.0, 600000.0, 957000.0, 4525000.0, 740000.0, 1400000.0, 1935000.0, 700000.0, 900000.0, 872000.0, 765000.0, 1430000.0, 520000.0, 333000.0, 378000.0, 619000.0, 575000.0, 1550000.0, 1140000.0, 420000.0, 3350000.0, 665500.0, 490000.0, 555000.0, 887000.0, 1585000.0, 460000.0, 550000.0, 573000.0, 680000.0, 1582000.0, 400000.0, 1335000.0, 840000.0, 705000.0, 444000.0, 568000.0, 706000.0, 1385000.0, 655250.0, 505000.0, 500000.0, 622000.0, 701000.0, 1100000.0, 546500.0, 585000.0, 705000.0, 420000.0, 490000.0, 579000.0, 540000.0, 595000.0, 600000.0, 690000.0, 475000.0, 470000.0, 485000.0, 280000.0, 472500.0, 731000.0, 380000.0, 705500.0, 677200.0, 677500.0, 730000.0, 440000.0, 685000.0, 270000.0, 690000.0, 740000.0, 680000.0, 825000.0, 435000.0, 605000.0, 910500.0, 685000.0, 720000.0, 861500.0, 500000.0, 692000.0, 603000.0, 435000.0, 745500.0, 1960000.0, 758000.0, 1250000.0, 1360000.0, 435000.0, 950000.0, 810000.0, 861000.0, 765000.0, 475000.0, 1668000.0, 981000.0, 430000.0, 410000.0, 1177000.0, 617500.0, 479500.0, 405000.0, 450000.0, 912500.0, 438000.0, 360000.0, 620000.0, 415000.0, 470000.0, 1001000.0, 520000.0, 510000.0, 545000.0, 850000.0, 705000.0, 790000.0, 770000.0, 495000.0, 326500.0, 262500.0, 450000.0, 456000.0, 420000.0, 765000.0, 730000.0, 300000.0, 670000.0, 600000.0, 463000.0, 319000.0, 541000.0, 460000.0, 190000.0, 507000.0, 695000.0, 695000.0, 812000.0, 350000.0, 630000.0, 635000.0, 636500.0, 445000.0, 710000.0, 640000.0, 1010000.0, 305000.0, 400000.0, 600000.0, 655000.0, 750000.0, 605000.0, 660000.0, 570000.0, 755000.0, 520000.0, 1000000.0, 725000.0, 1000000.0, 546000.0, 895000.0, 1015000.0, 930000.0, 662500.0, 831000.0, 1110000.0, 565000.0, 1010000.0, 800000.0, 650000.0, 392250.0, 420000.0, 506000.0, 380000.0, 611000.0, 503000.0, 1100000.0, 315000.0, 620000.0, 1000000.0, 380000.0, 393000.0, 440000.0, 595000.0, 470000.0, 2810000.0, 2130000.0, 1500000.0, 1190000.0, 1859000.0, 1200000.0, 480000.0, 1705000.0, 852000.0, 690000.0, 1020000.0, 565000.0, 1050000.0, 1005000.0, 1495000.0, 822000.0, 770000.0, 1900000.0, 800000.0, 1402000.0, 1100000.0, 710000.0, 620000.0, 725000.0, 1962000.0, 535000.0, 780000.0, 572000.0, 990000.0, 646500.0, 610000.0, 760000.0, 975000.0, 520000.0, 1350000.0, 1002500.0, 1055000.0, 1470000.0, 910000.0, 735000.0, 320000.0, 830000.0, 585000.0, 600000.0, 884000.0, 480000.0, 955000.0, 1283000.0, 1025000.0, 1015000.0, 500000.0, 550000.0, 460000.0, 435000.0, 690000.0, 632000.0, 835000.0, 407500.0, 825000.0, 640000.0, 545000.0, 599900.0, 580000.0, 605000.0, 870000.0, 1815000.0, 855000.0, 771000.0, 1900000.0, 1402000.0, 913000.0, 1290000.0, 635000.0, 1424000.0, 603000.0, 535000.0, 550000.0, 655000.0, 575000.0, 742500.0, 1104000.0, 630000.0, 997000.0, 490000.0, 641000.0, 1250000.0, 1250000.0, 700000.0, 1000000.0, 712000.0, 1650000.0, 495000.0, 930000.0, 781000.0, 677776.0, 941000.0, 775000.0, 590000.0, 650000.0, 330000.0, 535000.0, 945000.0, 888000.0, 855000.0, 782000.0, 440000.0, 745000.0, 700000.0, 450000.0, 707000.0, 510000.0, 610000.0, 676000.0, 949500.0, 445000.0, 725000.0, 328000.0, 1200000.0, 846000.0, 1345000.0, 1802500.0, 1520000.0, 1055000.0, 1100000.0, 953000.0, 603000.0, 500000.0, 450000.0, 390000.0, 1060000.0, 392500.0, 885000.0, 485000.0, 360000.0, 882000.0, 575000.0, 721000.0, 710000.0, 797000.0, 910000.0, 420000.0, 1789000.0, 837000.0, 665000.0, 860000.0, 840000.0, 580000.0, 635000.0, 1800000.0, 1620000.0, 560000.0, 500000.0, 1462000.0, 1320000.0, 435000.0, 555000.0, 532000.0, 630000.0, 910000.0, 665000.0, 780000.0, 690000.0, 682000.0, 650000.0, 613000.0, 980000.0, 720000.0, 690000.0, 2100000.0, 490000.0, 570000.0, 700000.0, 820000.0, 643000.0, 736000.0, 590000.0, 640000.0, 472500.0, 405000.0, 1000000.0, 1211000.0, 431000.0, 452000.0, 683000.0, 640000.0, 442500.0, 439000.0, 1040000.0, 560000.0, 940000.0, 1350000.0, 1302500.0, 970000.0, 542000.0, 707000.0, 770000.0, 582000.0, 490000.0, 420500.0, 535000.0, 586000.0, 926000.0, 820000.0, 890000.0, 1215000.0, 1070000.0, 510000.0, 1343000.0, 680000.0, 695000.0, 420000.0, 995000.0, 1100000.0, 970000.0, 970000.0, 1050000.0, 1290000.0, 471250.0, 600000.0, 676000.0, 437500.0, 750000.0, 999000.0, 496000.0, 540000.0, 497000.0, 427500.0, 520000.0, 910000.0, 520000.0, 1332000.0, 801000.0, 575000.0, 950000.0, 730000.0, 1110000.0, 2250000.0, 600000.0, 1030000.0, 1305000.0, 645000.0, 550000.0, 690000.0, 630000.0, 685000.0, 570000.0, 475000.0, 888000.0, 413000.0, 2000000.0, 800000.0, 2300000.0, 1108000.0, 630000.0, 560000.0, 406000.0, 852000.0, 935000.0, 861500.0, 490000.0, 652000.0, 615000.0, 375000.0, 395000.0, 1025000.0, 505000.0, 950000.0, 1110000.0, 950000.0, 1226000.0, 500000.0, 1090000.0, 560000.0, 690000.0, 1050000.0, 860000.0, 630000.0, 1210000.0, 615000.0, 665000.0, 1085000.0, 785000.0, 650000.0, 1100000.0, 1024000.0, 1150000.0, 800000.0, 499000.0, 1214000.0, 485000.0, 615000.0, 642000.0, 1710000.0, 851000.0, 1405000.0, 850000.0, 792500.0, 595000.0, 610500.0, 1120000.0, 1077000.0, 1301000.0, 1440000.0, 680000.0, 902000.0, 920000.0, 482000.0, 682000.0, 825000.0, 1260000.0, 1250000.0, 716000.0, 462000.0, 600000.0, 915000.0, 960000.0, 1260000.0, 1100000.0, 470000.0, 502000.0, 650000.0, 266000.0, 888000.0, 490000.0, 543000.0, 1000000.0, 465000.0, 855000.0, 550000.0, 490000.0, 950000.0, 1196000.0, 470000.0, 650000.0, 397000.0, 1035000.0, 650000.0, 820000.0, 497600.0, 1256000.0, 870000.0, 1050000.0, 1242000.0, 480000.0, 420000.0, 600000.0, 597500.0, 1450000.0, 925000.0, 825000.0, 1005000.0, 960000.0, 995000.0, 500000.0, 810000.0, 740000.0, 595000.0, 632500.0, 687000.0, 1260000.0, 695000.0, 642000.0, 800000.0, 500000.0, 810000.0, 415500.0, 1100000.0, 1350000.0, 600000.0, 1350000.0, 1050000.0, 1200000.0, 681500.0, 535000.0, 500000.0, 525000.0, 1110000.0, 730000.0, 811000.0, 903000.0, 528000.0, 1000000.0, 1335000.0, 1300000.0, 1035000.0, 742500.0, 940000.0, 321000.0, 300000.0, 505000.0, 595000.0, 580000.0, 580000.0, 867000.0, 655000.0, 1010000.0, 650000.0, 750000.0, 760000.0, 546000.0, 585000.0, 690000.0, 854000.0, 450000.0, 490000.0, 1013000.0, 1053000.0, 360000.0, 1535000.0, 692000.0, 1305000.0, 573000.0, 677000.0, 670000.0, 816000.0, 620000.0, 1091500.0, 425000.0, 900000.0, 570000.0, 348000.0, 621000.0, 612000.0, 437000.0, 1350000.0, 1100000.0, 500000.0, 523000.0, 695000.0, 500000.0, 450000.0, 450000.0, 780000.0, 645000.0, 390000.0, 520000.0, 850000.0, 535000.0, 758000.0, 862000.0, 410000.0, 520000.0, 460000.0, 1020000.0, 1250000.0, 710000.0, 550000.0, 962000.0, 936000.0, 390000.0, 610000.0, 562000.0, 1240000.0, 560000.0, 668500.0, 1165000.0, 890500.0, 1442000.0, 560000.0, 340000.0, 643500.0, 750000.0, 850000.0, 857000.0, 1160000.0, 525000.0, 365000.0, 460000.0, 646000.0, 385000.0, 450000.0, 876000.0, 390000.0, 507000.0, 2905000.0, 1380000.0, 2015000.0, 540000.0, 700500.0, 1880000.0, 1470000.0, 767000.0, 637000.0, 1400000.0, 1315000.0, 730000.0, 700000.0, 920000.0, 765000.0, 740000.0, 570000.0, 1105000.0, 700000.0, 850000.0, 1501000.0, 620000.0, 529000.0, 650000.0, 350000.0, 665000.0, 674000.0, 525000.0, 745000.0, 850000.0, 700000.0, 960000.0, 867000.0, 700000.0, 561000.0, 1025000.0, 305000.0, 750000.0, 716000.0, 975000.0, 480000.0, 696750.0, 695500.0, 762000.0, 270000.0, 1100000.0, 1022000.0, 1790000.0, 805000.0, 535000.0, 990000.0, 630000.0, 942000.0, 912500.0, 672000.0, 910000.0, 592000.0, 585000.0, 800000.0, 1090000.0, 760000.0, 720000.0, 572000.0, 670000.0, 602000.0, 970000.0, 460000.0, 1114000.0, 485000.0, 625000.0, 665000.0, 465000.0, 888000.0, 521000.0, 575000.0, 675000.0, 805000.0, 530000.0, 800000.0, 2210000.0, 535000.0, 590000.0, 586500.0, 790000.0, 740000.0, 493000.0, 1010000.0, 751000.0, 682000.0, 355000.0, 1280000.0, 302500.0, 480000.0, 792000.0, 950000.0, 480000.0, 750000.0, 595000.0, 1550000.0, 1085000.0, 520000.0, 879000.0, 1425000.0, 725000.0, 710500.0, 855000.0, 1410000.0, 310000.0, 510000.0, 890000.0, 795000.0, 920000.0, 535000.0, 1350000.0, 550000.0, 810000.0, 1255000.0, 550000.0, 543000.0, 580000.0, 485000.0, 1195000.0, 685000.0, 667000.0, 620000.0, 1270000.0, 910000.0, 1650000.0, 422000.0, 805000.0, 762000.0, 525000.0, 1080000.0, 548000.0, 1853000.0, 1070000.0, 730000.0, 1150000.0, 735000.0, 400000.0, 505500.0, 740000.0, 525000.0, 660000.0, 455000.0, 470500.0, 660000.0, 550000.0, 1001000.0, 905000.0, 503000.0, 790000.0, 695000.0, 900000.0, 1355000.0, 735000.0, 1050000.0, 850000.0, 1172000.0, 1275000.0, 650000.0, 475000.0, 602000.0, 1050000.0, 771000.0, 642500.0, 615000.0, 807000.0, 756000.0, 1205500.0, 685000.0, 1500000.0, 682000.0, 570000.0, 900000.0, 520000.0, 730000.0, 555000.0, 720000.0, 817500.0, 960000.0, 996000.0, 1095000.0, 885000.0, 1200000.0, 720000.0, 410000.0, 600000.0, 761000.0, 700000.0, 1275000.0, 1680000.0, 1285000.0, 685000.0, 878000.0, 1480000.0, 1682000.0, 875000.0, 840500.0, 600000.0, 797000.0, 685000.0, 511500.0, 920000.0, 428000.0, 421000.0, 890000.0, 1110000.0, 570000.0, 850000.0, 560000.0, 790000.0, 860000.0, 740000.0, 816000.0, 1020000.0, 660000.0, 1365000.0, 660000.0, 470000.0, 890500.0, 717000.0, 1005000.0, 470000.0, 945000.0, 1460000.0, 1000000.0, 856000.0, 749000.0, 957500.0, 505000.0, 650000.0, 1030000.0, 410000.0, 590000.0, 460000.0, 725000.0, 602000.0, 830000.0, 725000.0, 2367000.0, 736500.0, 420000.0, 623500.0, 1035000.0, 860000.0, 755000.0, 460000.0, 460000.0, 700000.0, 645000.0, 1100000.0, 570000.0, 300000.0, 1417500.0, 510000.0, 601000.0, 556000.0, 525000.0, 1135000.0, 900000.0, 340000.0, 570000.0, 1253000.0, 595000.0, 612500.0, 902000.0, 1410000.0, 660000.0, 452500.0, 1980000.0, 445000.0, 786000.0, 617000.0, 1321000.0, 960000.0, 990000.0, 455000.0, 680000.0, 762000.0, 501000.0, 650000.0, 1695000.0, 525000.0, 500000.0, 697000.0, 802500.0, 500000.0, 738000.0, 680000.0, 444000.0, 532000.0, 825000.0, 682000.0, 383000.0, 650000.0, 530000.0, 450000.0, 353000.0, 1250000.0, 720000.0, 480750.0, 695000.0, 655000.0, 883000.0, 670000.0, 620000.0, 1126000.0, 799000.0, 1260000.0, 1225000.0, 640000.0, 1270000.0, 530000.0, 478000.0, 650000.0, 1335000.0, 740000.0, 698000.0, 780000.0, 1190000.0, 1170000.0, 660000.0, 617500.0, 575000.0, 470000.0, 1000000.0, 615000.0, 1341000.0, 609000.0, 760000.0, 830000.0, 940000.0, 600000.0, 600000.0, 730000.0, 745000.0, 575000.0, 660000.0, 880000.0, 709500.0, 550000.0, 1130000.0, 520000.0, 380000.0, 485000.0, 590000.0, 585000.0, 515000.0, 755000.0, 750000.0, 580010.0, 636500.0, 760000.0, 876000.0, 480000.0, 630000.0, 417500.0, 790000.0, 830000.0, 1000000.0, 501000.0, 400000.0, 675000.0, 595000.0, 539000.0, 771000.0, 615888.0, 534000.0, 445000.0, 1320000.0, 575500.0, 438000.0, 710000.0, 435000.0, 1075000.0, 280500.0, 640000.0, 480000.0, 785000.0, 620000.0, 676000.0, 800000.0, 635000.0, 1003000.0, 820000.0, 715000.0, 630000.0, 1200000.0, 633000.0, 600000.0, 762500.0, 802000.0, 429000.0, 781000.0, 905000.0, 725000.0, 670000.0, 510000.0, 650000.0, 440000.0, 940000.0, 415000.0, 1480000.0, 821000.0, 700000.0, 614000.0, 730000.0, 890000.0, 505000.0, 746000.0, 881000.0, 1070000.0, 973000.0, 560000.0, 1080000.0, 505000.0, 370000.0, 488000.0, 1300000.0, 520000.0, 1280000.0, 455000.0, 575000.0, 839000.0, 851000.0, 565000.0, 1220000.0, 630000.0, 1857000.0, 595000.0, 450000.0, 650000.0, 463000.0, 677500.0, 2400000.0, 802000.0, 860000.0, 1840000.0, 688000.0, 420000.0, 642500.0, 1200000.0, 1060000.0, 730000.0, 1050000.0, 600000.0, 450000.0, 525000.0, 601000.0, 440000.0, 1480000.0, 760000.0, 1250000.0, 1310000.0, 626000.0, 655000.0, 1350000.0, 980000.0, 625000.0, 701000.0, 615000.0, 865000.0, 780000.0, 500000.0, 425500.0, 920000.0, 566000.0, 585000.0, 1500000.0, 706000.0, 372100.0, 702500.0, 835000.0, 480000.0, 430000.0, 495000.0, 403500.0, 310000.0, 540000.0, 401500.0, 502500.0, 420000.0, 785000.0, 650000.0, 395000.0, 991000.0, 1020000.0, 540000.0, 960000.0, 610000.0, 585000.0, 1960000.0, 670000.0, 600000.0, 525000.0, 650000.0, 580000.0, 820000.0, 1601000.0, 535000.0, 1170000.0, 650000.0, 575000.0, 675000.0, 440000.0, 387000.0, 951000.0, 550000.0, 541000.0, 1150000.0, 962000.0, 500000.0, 652000.0, 468000.0, 710000.0, 502000.0, 800000.0, 1310000.0, 855000.0, 386000.0, 345000.0, 666000.0, 910000.0, 610000.0, 470000.0, 1140000.0, 341500.0, 470000.0, 604000.0, 655000.0, 335000.0, 911000.0, 1190000.0, 454000.0, 510000.0, 486000.0, 1035000.0, 800000.0, 906000.0, 410000.0, 860000.0, 620000.0, 1110000.0, 796000.0, 1630000.0, 610000.0, 639000.0, 640000.0, 1080000.0, 710000.0, 472500.0, 724000.0, 635000.0, 630000.0, 730000.0, 830000.0, 505000.0, 430000.0, 580000.0, 519500.0, 656000.0, 730000.0, 493000.0, 435000.0, 500000.0, 520000.0, 735000.0, 472000.0, 880000.0, 591000.0, 468000.0, 650000.0, 410000.0, 611000.0, 445000.0, 465000.0, 541000.0, 510000.0, 550000.0, 580000.0, 706000.0, 559000.0, 570000.0, 495000.0, 320000.0, 617500.0, 419000.0, 592000.0, 1667500.0, 685000.0, 770000.0, 747500.0, 460000.0, 1340000.0, 580000.0, 530000.0, 533000.0, 1950000.0, 830000.0, 731000.0, 735000.0, 920000.0, 900000.0, 1044000.0, 340000.0, 631500.0, 950000.0, 592000.0, 600000.0, 615000.0, 845000.0, 760000.0, 555000.0, 650000.0, 620000.0, 683000.0, 501000.0, 615000.0, 1220000.0, 1150000.0, 400000.0, 682000.0, 600800.0, 1690000.0, 680000.0, 560000.0, 751000.0, 591000.0, 650000.0, 996000.0, 1150000.0, 834500.0, 930000.0, 720000.0, 710000.0, 715000.0, 655000.0, 503000.0, 468000.0, 550000.0, 370000.0, 957000.0, 266000.0, 450000.0, 955000.0, 580000.0, 840000.0, 400000.0, 1150000.0, 445000.0, 501000.0, 444000.0, 565000.0, 540000.0, 641000.0, 490000.0, 600000.0, 540000.0, 910000.0, 582000.0, 1803000.0, 950000.0, 725000.0, 545000.0, 541000.0, 565000.0, 1722500.0, 520000.0, 875000.0, 672000.0, 660000.0, 666000.0, 927000.0, 575500.0, 558500.0, 945000.0, 980000.0, 1090000.0, 570000.0, 732000.0, 600000.0, 360000.0, 407000.0, 300000.0, 686000.0, 678000.0, 560000.0, 750000.0, 820000.0, 600000.0, 1575000.0, 1820000.0, 610000.0, 817500.0, 800000.0, 1023000.0, 692500.0, 1520000.0, 575000.0, 631000.0, 670000.0, 515000.0, 1090000.0, 730000.0, 1910000.0, 791000.0, 832000.0, 1300000.0, 1370000.0, 1300000.0, 1100000.0, 1386000.0, 672000.0, 500000.0, 820000.0, 1400000.0, 762000.0, 1137000.0, 860000.0, 732500.0, 458000.0, 1225000.0, 800000.0, 1065000.0, 950000.0, 1320000.0, 1250000.0, 1200000.0, 718500.0, 566000.0, 1450000.0, 291000.0, 1225000.0, 800000.0, 965000.0, 605000.0, 865000.0, 1500000.0, 850000.0, 680000.0, 592000.0, 1040000.0, 1355000.0, 1180000.0, 970000.0, 1460000.0, 810000.0, 470000.0, 905000.0, 911000.0, 640000.0, 1265000.0, 950000.0, 1441000.0, 850000.0, 980000.0, 931000.0, 910000.0, 965000.0, 1366000.0, 605000.0, 875000.0, 1325000.0, 445000.0, 1325000.0, 780000.0, 1260000.0, 1625000.0, 465000.0, 920000.0, 1200000.0, 1300000.0, 921000.0, 1460000.0, 1726000.0, 690000.0, 625000.0, 1540000.0, 955000.0, 1310000.0, 942000.0, 708000.0, 805000.0, 1600000.0, 1700000.0, 841000.0, 610000.0, 955500.0, 585500.0, 782500.0, 1200000.0, 855000.0, 1020000.0, 653000.0, 1065000.0, 522000.0, 365500.0, 775000.0, 1300000.0, 1100000.0, 452500.0, 910000.0, 955000.0, 1630000.0, 752500.0, 1130000.0, 800000.0, 516000.0, 1300000.0, 1015000.0, 1000000.0, 680000.0, 1151000.0, 817000.0, 1000000.0, 560000.0, 401000.0, 801250.0, 975000.0, 887500.0, 1322500.0, 790000.0, 770000.0, 594000.0, 1385000.0, 1400000.0, 725000.0, 540000.0, 670000.0, 1350000.0, 680500.0, 315000.0, 651000.0, 435000.0, 1080000.0, 1118000.0, 710000.0, 1006000.0, 875000.0, 985000.0, 1515000.0, 1365000.0, 625500.0, 937000.0, 650000.0], \"yaxis\": \"y\"}, {\"alignmentgroup\": \"True\", \"bingroup\": \"x\", \"histfunc\": \"sum\", \"hovertemplate\": \"Rooms=%{x}<br>sum of Price=%{y}<extra></extra>\", \"legendgroup\": \"3\", \"marker\": {\"color\": \"#EF553B\"}, \"name\": \"3\", \"offsetgroup\": \"3\", \"orientation\": \"v\", \"showlegend\": true, \"type\": \"histogram\", \"x\": [3, 3, 3, 3, 3, 3, 3, 3, 3, 3, 3, 3, 3, 3, 3, 3, 3, 3, 3, 3, 3, 3, 3, 3, 3, 3, 3, 3, 3, 3, 3, 3, 3, 3, 3, 3, 3, 3, 3, 3, 3, 3, 3, 3, 3, 3, 3, 3, 3, 3, 3, 3, 3, 3, 3, 3, 3, 3, 3, 3, 3, 3, 3, 3, 3, 3, 3, 3, 3, 3, 3, 3, 3, 3, 3, 3, 3, 3, 3, 3, 3, 3, 3, 3, 3, 3, 3, 3, 3, 3, 3, 3, 3, 3, 3, 3, 3, 3, 3, 3, 3, 3, 3, 3, 3, 3, 3, 3, 3, 3, 3, 3, 3, 3, 3, 3, 3, 3, 3, 3, 3, 3, 3, 3, 3, 3, 3, 3, 3, 3, 3, 3, 3, 3, 3, 3, 3, 3, 3, 3, 3, 3, 3, 3, 3, 3, 3, 3, 3, 3, 3, 3, 3, 3, 3, 3, 3, 3, 3, 3, 3, 3, 3, 3, 3, 3, 3, 3, 3, 3, 3, 3, 3, 3, 3, 3, 3, 3, 3, 3, 3, 3, 3, 3, 3, 3, 3, 3, 3, 3, 3, 3, 3, 3, 3, 3, 3, 3, 3, 3, 3, 3, 3, 3, 3, 3, 3, 3, 3, 3, 3, 3, 3, 3, 3, 3, 3, 3, 3, 3, 3, 3, 3, 3, 3, 3, 3, 3, 3, 3, 3, 3, 3, 3, 3, 3, 3, 3, 3, 3, 3, 3, 3, 3, 3, 3, 3, 3, 3, 3, 3, 3, 3, 3, 3, 3, 3, 3, 3, 3, 3, 3, 3, 3, 3, 3, 3, 3, 3, 3, 3, 3, 3, 3, 3, 3, 3, 3, 3, 3, 3, 3, 3, 3, 3, 3, 3, 3, 3, 3, 3, 3, 3, 3, 3, 3, 3, 3, 3, 3, 3, 3, 3, 3, 3, 3, 3, 3, 3, 3, 3, 3, 3, 3, 3, 3, 3, 3, 3, 3, 3, 3, 3, 3, 3, 3, 3, 3, 3, 3, 3, 3, 3, 3, 3, 3, 3, 3, 3, 3, 3, 3, 3, 3, 3, 3, 3, 3, 3, 3, 3, 3, 3, 3, 3, 3, 3, 3, 3, 3, 3, 3, 3, 3, 3, 3, 3, 3, 3, 3, 3, 3, 3, 3, 3, 3, 3, 3, 3, 3, 3, 3, 3, 3, 3, 3, 3, 3, 3, 3, 3, 3, 3, 3, 3, 3, 3, 3, 3, 3, 3, 3, 3, 3, 3, 3, 3, 3, 3, 3, 3, 3, 3, 3, 3, 3, 3, 3, 3, 3, 3, 3, 3, 3, 3, 3, 3, 3, 3, 3, 3, 3, 3, 3, 3, 3, 3, 3, 3, 3, 3, 3, 3, 3, 3, 3, 3, 3, 3, 3, 3, 3, 3, 3, 3, 3, 3, 3, 3, 3, 3, 3, 3, 3, 3, 3, 3, 3, 3, 3, 3, 3, 3, 3, 3, 3, 3, 3, 3, 3, 3, 3, 3, 3, 3, 3, 3, 3, 3, 3, 3, 3, 3, 3, 3, 3, 3, 3, 3, 3, 3, 3, 3, 3, 3, 3, 3, 3, 3, 3, 3, 3, 3, 3, 3, 3, 3, 3, 3, 3, 3, 3, 3, 3, 3, 3, 3, 3, 3, 3, 3, 3, 3, 3, 3, 3, 3, 3, 3, 3, 3, 3, 3, 3, 3, 3, 3, 3, 3, 3, 3, 3, 3, 3, 3, 3, 3, 3, 3, 3, 3, 3, 3, 3, 3, 3, 3, 3, 3, 3, 3, 3, 3, 3, 3, 3, 3, 3, 3, 3, 3, 3, 3, 3, 3, 3, 3, 3, 3, 3, 3, 3, 3, 3, 3, 3, 3, 3, 3, 3, 3, 3, 3, 3, 3, 3, 3, 3, 3, 3, 3, 3, 3, 3, 3, 3, 3, 3, 3, 3, 3, 3, 3, 3, 3, 3, 3, 3, 3, 3, 3, 3, 3, 3, 3, 3, 3, 3, 3, 3, 3, 3, 3, 3, 3, 3, 3, 3, 3, 3, 3, 3, 3, 3, 3, 3, 3, 3, 3, 3, 3, 3, 3, 3, 3, 3, 3, 3, 3, 3, 3, 3, 3, 3, 3, 3, 3, 3, 3, 3, 3, 3, 3, 3, 3, 3, 3, 3, 3, 3, 3, 3, 3, 3, 3, 3, 3, 3, 3, 3, 3, 3, 3, 3, 3, 3, 3, 3, 3, 3, 3, 3, 3, 3, 3, 3, 3, 3, 3, 3, 3, 3, 3, 3, 3, 3, 3, 3, 3, 3, 3, 3, 3, 3, 3, 3, 3, 3, 3, 3, 3, 3, 3, 3, 3, 3, 3, 3, 3, 3, 3, 3, 3, 3, 3, 3, 3, 3, 3, 3, 3, 3, 3, 3, 3, 3, 3, 3, 3, 3, 3, 3, 3, 3, 3, 3, 3, 3, 3, 3, 3, 3, 3, 3, 3, 3, 3, 3, 3, 3, 3, 3, 3, 3, 3, 3, 3, 3, 3, 3, 3, 3, 3, 3, 3, 3, 3, 3, 3, 3, 3, 3, 3, 3, 3, 3, 3, 3, 3, 3, 3, 3, 3, 3, 3, 3, 3, 3, 3, 3, 3, 3, 3, 3, 3, 3, 3, 3, 3, 3, 3, 3, 3, 3, 3, 3, 3, 3, 3, 3, 3, 3, 3, 3, 3, 3, 3, 3, 3, 3, 3, 3, 3, 3, 3, 3, 3, 3, 3, 3, 3, 3, 3, 3, 3, 3, 3, 3, 3, 3, 3, 3, 3, 3, 3, 3, 3, 3, 3, 3, 3, 3, 3, 3, 3, 3, 3, 3, 3, 3, 3, 3, 3, 3, 3, 3, 3, 3, 3, 3, 3, 3, 3, 3, 3, 3, 3, 3, 3, 3, 3, 3, 3, 3, 3, 3, 3, 3, 3, 3, 3, 3, 3, 3, 3, 3, 3, 3, 3, 3, 3, 3, 3, 3, 3, 3, 3, 3, 3, 3, 3, 3, 3, 3, 3, 3, 3, 3, 3, 3, 3, 3, 3, 3, 3, 3, 3, 3, 3, 3, 3, 3, 3, 3, 3, 3, 3, 3, 3, 3, 3, 3, 3, 3, 3, 3, 3, 3, 3, 3, 3, 3, 3, 3, 3, 3, 3, 3, 3, 3, 3, 3, 3, 3, 3, 3, 3, 3, 3, 3, 3, 3, 3, 3, 3, 3, 3, 3, 3, 3, 3, 3, 3, 3, 3, 3, 3, 3, 3, 3, 3, 3, 3, 3, 3, 3, 3, 3, 3, 3, 3, 3, 3, 3, 3, 3, 3, 3, 3, 3, 3, 3, 3, 3, 3, 3, 3, 3, 3, 3, 3, 3, 3, 3, 3, 3, 3, 3, 3, 3, 3, 3, 3, 3, 3, 3, 3, 3, 3, 3, 3, 3, 3, 3, 3, 3, 3, 3, 3, 3, 3, 3, 3, 3, 3, 3, 3, 3, 3, 3, 3, 3, 3, 3, 3, 3, 3, 3, 3, 3, 3, 3, 3, 3, 3, 3, 3, 3, 3, 3, 3, 3, 3, 3, 3, 3, 3, 3, 3, 3, 3, 3, 3, 3, 3, 3, 3, 3, 3, 3, 3, 3, 3, 3, 3, 3, 3, 3, 3, 3, 3, 3, 3, 3, 3, 3, 3, 3, 3, 3, 3, 3, 3, 3, 3, 3, 3, 3, 3, 3, 3, 3, 3, 3, 3, 3, 3, 3, 3, 3, 3, 3, 3, 3, 3, 3, 3, 3, 3, 3, 3, 3, 3, 3, 3, 3, 3, 3, 3, 3, 3, 3, 3, 3, 3, 3, 3, 3, 3, 3, 3, 3, 3, 3, 3, 3, 3, 3, 3, 3, 3, 3, 3, 3, 3, 3, 3, 3, 3, 3, 3, 3, 3, 3, 3, 3, 3, 3, 3, 3, 3, 3, 3, 3, 3, 3, 3, 3, 3, 3, 3, 3, 3, 3, 3, 3, 3, 3, 3, 3, 3, 3, 3, 3, 3, 3, 3, 3, 3, 3, 3, 3, 3, 3, 3, 3, 3, 3, 3, 3, 3, 3, 3, 3, 3, 3, 3, 3, 3, 3, 3, 3, 3, 3, 3, 3, 3, 3, 3, 3, 3, 3, 3, 3, 3, 3, 3, 3, 3, 3, 3, 3, 3, 3, 3, 3, 3, 3, 3, 3, 3, 3, 3, 3, 3, 3, 3, 3, 3, 3, 3, 3, 3, 3, 3, 3, 3, 3, 3, 3, 3, 3, 3, 3, 3, 3, 3, 3, 3, 3, 3, 3, 3, 3, 3, 3, 3, 3, 3, 3, 3, 3, 3, 3, 3, 3, 3, 3, 3, 3, 3, 3, 3, 3, 3, 3, 3, 3, 3, 3, 3, 3, 3, 3, 3, 3, 3, 3, 3, 3, 3, 3, 3, 3, 3, 3, 3, 3, 3, 3, 3, 3, 3, 3, 3, 3, 3, 3, 3, 3, 3, 3, 3, 3, 3, 3, 3, 3, 3, 3, 3, 3, 3, 3, 3, 3, 3, 3, 3, 3, 3, 3, 3, 3, 3, 3, 3, 3, 3, 3, 3, 3, 3, 3, 3, 3, 3, 3, 3, 3, 3, 3, 3, 3, 3, 3, 3, 3, 3, 3, 3, 3, 3, 3, 3, 3, 3, 3, 3, 3, 3, 3, 3, 3, 3, 3, 3, 3, 3, 3, 3, 3, 3, 3, 3, 3, 3, 3, 3, 3, 3, 3, 3, 3, 3, 3, 3, 3, 3, 3, 3, 3, 3, 3, 3, 3, 3, 3, 3, 3, 3, 3, 3, 3, 3, 3, 3, 3, 3, 3, 3, 3, 3, 3, 3, 3, 3, 3, 3, 3, 3, 3, 3, 3, 3, 3, 3, 3, 3, 3, 3, 3, 3, 3, 3, 3, 3, 3, 3, 3, 3, 3, 3, 3, 3, 3, 3, 3, 3, 3, 3, 3, 3, 3, 3, 3, 3, 3, 3, 3, 3, 3, 3, 3, 3, 3, 3, 3, 3, 3, 3, 3, 3, 3, 3, 3, 3, 3, 3, 3, 3, 3, 3, 3, 3, 3, 3, 3, 3, 3, 3, 3, 3, 3, 3, 3, 3, 3, 3, 3, 3, 3, 3, 3, 3, 3, 3, 3, 3, 3, 3, 3, 3, 3, 3, 3, 3, 3, 3, 3, 3, 3, 3, 3, 3, 3, 3, 3, 3, 3, 3, 3, 3, 3, 3, 3, 3, 3, 3, 3, 3, 3, 3, 3, 3, 3, 3, 3, 3, 3, 3, 3, 3, 3, 3, 3, 3, 3, 3, 3, 3, 3, 3, 3, 3, 3, 3, 3, 3, 3, 3, 3, 3, 3, 3, 3, 3, 3, 3, 3, 3, 3, 3, 3, 3, 3, 3, 3, 3, 3, 3, 3, 3, 3, 3, 3, 3, 3, 3, 3, 3, 3, 3, 3, 3, 3, 3, 3, 3, 3, 3, 3, 3, 3, 3, 3, 3, 3, 3, 3, 3, 3, 3, 3, 3, 3, 3, 3, 3, 3, 3, 3, 3, 3, 3, 3, 3, 3, 3, 3, 3, 3, 3, 3, 3, 3, 3, 3, 3, 3, 3, 3, 3, 3, 3, 3, 3, 3, 3, 3, 3, 3, 3, 3, 3, 3, 3, 3, 3, 3, 3, 3, 3, 3, 3, 3, 3, 3, 3, 3, 3, 3, 3, 3, 3, 3, 3, 3, 3, 3, 3, 3, 3, 3, 3, 3, 3, 3, 3, 3, 3, 3, 3, 3, 3, 3, 3, 3, 3, 3, 3, 3, 3, 3, 3, 3, 3, 3, 3, 3, 3, 3, 3, 3, 3, 3, 3, 3, 3, 3, 3, 3, 3, 3, 3, 3, 3, 3, 3, 3, 3, 3, 3, 3, 3, 3, 3, 3, 3, 3, 3, 3, 3, 3, 3, 3, 3, 3, 3, 3, 3, 3, 3, 3, 3, 3, 3, 3, 3, 3, 3, 3, 3, 3, 3, 3, 3, 3, 3, 3, 3, 3, 3, 3, 3, 3, 3, 3, 3, 3, 3, 3, 3, 3, 3, 3, 3, 3, 3, 3, 3, 3, 3, 3, 3, 3, 3, 3, 3, 3, 3, 3, 3, 3, 3, 3, 3, 3, 3, 3, 3, 3, 3, 3, 3, 3, 3, 3, 3, 3, 3, 3, 3, 3, 3, 3, 3, 3, 3, 3, 3, 3, 3, 3, 3, 3, 3, 3, 3, 3, 3, 3, 3, 3, 3, 3, 3, 3, 3, 3, 3, 3, 3, 3, 3, 3, 3, 3, 3, 3, 3, 3, 3, 3, 3, 3, 3, 3, 3, 3, 3, 3, 3, 3, 3, 3, 3, 3, 3, 3, 3, 3, 3, 3, 3, 3, 3, 3, 3, 3, 3, 3, 3, 3, 3, 3, 3, 3, 3, 3, 3, 3, 3, 3, 3, 3, 3, 3, 3, 3, 3, 3, 3, 3, 3, 3, 3, 3, 3, 3, 3, 3, 3, 3, 3, 3, 3, 3, 3, 3, 3, 3, 3, 3, 3, 3, 3, 3, 3, 3, 3, 3, 3, 3, 3, 3, 3, 3, 3, 3, 3, 3, 3, 3, 3, 3, 3, 3, 3, 3, 3, 3, 3, 3, 3, 3, 3, 3, 3, 3, 3, 3, 3, 3, 3, 3, 3, 3, 3, 3, 3, 3, 3, 3, 3, 3, 3, 3, 3, 3, 3, 3, 3, 3, 3, 3, 3, 3, 3, 3, 3, 3, 3, 3, 3, 3, 3, 3, 3, 3, 3, 3, 3, 3, 3, 3, 3, 3, 3, 3, 3, 3, 3, 3, 3, 3, 3, 3, 3, 3, 3, 3, 3, 3, 3, 3, 3, 3, 3, 3, 3, 3, 3, 3, 3, 3, 3, 3, 3, 3, 3, 3, 3, 3, 3, 3, 3, 3, 3, 3, 3, 3, 3, 3, 3, 3, 3, 3, 3, 3, 3, 3, 3, 3, 3, 3, 3, 3, 3, 3, 3, 3, 3, 3, 3, 3, 3, 3, 3, 3, 3, 3, 3, 3, 3, 3, 3, 3, 3, 3, 3, 3, 3, 3, 3, 3, 3, 3, 3, 3, 3, 3, 3, 3, 3, 3, 3, 3, 3, 3, 3, 3, 3, 3, 3, 3, 3, 3, 3, 3, 3, 3, 3, 3, 3, 3, 3, 3, 3, 3, 3, 3, 3, 3, 3, 3, 3, 3, 3, 3, 3, 3, 3, 3, 3, 3, 3, 3, 3, 3, 3, 3, 3, 3, 3, 3, 3, 3, 3, 3, 3, 3, 3, 3, 3, 3, 3, 3, 3, 3, 3, 3, 3, 3, 3, 3, 3, 3, 3, 3, 3, 3, 3, 3, 3, 3, 3, 3, 3, 3, 3, 3, 3, 3, 3, 3, 3, 3, 3, 3, 3, 3, 3, 3, 3, 3, 3, 3, 3, 3, 3, 3, 3, 3, 3, 3, 3, 3, 3, 3, 3, 3, 3, 3, 3, 3, 3, 3, 3, 3, 3, 3, 3, 3, 3, 3, 3, 3, 3, 3, 3, 3, 3, 3, 3, 3, 3, 3, 3, 3, 3, 3, 3, 3, 3, 3, 3, 3, 3, 3, 3, 3, 3, 3, 3, 3, 3, 3, 3, 3, 3, 3, 3, 3, 3, 3, 3, 3, 3, 3, 3, 3, 3, 3, 3, 3, 3, 3, 3, 3, 3, 3, 3, 3, 3, 3, 3, 3, 3, 3, 3, 3, 3, 3, 3, 3, 3, 3, 3, 3, 3, 3, 3, 3, 3, 3, 3, 3, 3, 3, 3, 3, 3, 3, 3, 3, 3, 3, 3, 3, 3, 3, 3, 3, 3, 3, 3, 3, 3, 3, 3, 3, 3, 3, 3, 3, 3, 3, 3, 3, 3, 3, 3, 3, 3, 3, 3, 3, 3, 3, 3, 3, 3, 3, 3, 3, 3, 3, 3, 3, 3, 3, 3, 3, 3, 3, 3, 3, 3, 3, 3, 3, 3, 3, 3, 3, 3, 3, 3, 3, 3, 3, 3, 3, 3, 3, 3, 3, 3, 3, 3, 3, 3, 3, 3, 3, 3, 3, 3, 3, 3, 3, 3, 3, 3, 3, 3, 3, 3, 3, 3, 3, 3, 3, 3, 3, 3, 3, 3, 3, 3, 3, 3, 3, 3, 3, 3, 3, 3, 3, 3, 3, 3, 3, 3, 3, 3, 3, 3, 3, 3, 3, 3, 3, 3, 3, 3, 3, 3, 3, 3, 3, 3, 3, 3, 3, 3, 3, 3, 3, 3, 3, 3, 3, 3, 3, 3, 3, 3, 3, 3, 3, 3, 3, 3, 3, 3, 3, 3, 3, 3, 3, 3, 3, 3, 3, 3, 3, 3, 3, 3, 3, 3, 3, 3, 3, 3, 3, 3, 3, 3, 3, 3, 3, 3, 3, 3, 3, 3, 3, 3, 3, 3, 3, 3, 3, 3, 3, 3, 3, 3, 3, 3, 3, 3, 3, 3, 3, 3, 3, 3, 3, 3, 3, 3, 3, 3, 3, 3, 3, 3, 3, 3, 3, 3, 3, 3, 3, 3, 3, 3, 3, 3, 3, 3, 3, 3, 3, 3, 3, 3, 3, 3, 3, 3, 3, 3, 3, 3, 3, 3, 3, 3, 3, 3, 3, 3, 3, 3, 3, 3, 3, 3, 3, 3, 3, 3, 3, 3, 3, 3, 3, 3, 3, 3, 3, 3, 3, 3, 3, 3, 3, 3, 3, 3, 3, 3, 3, 3, 3, 3, 3, 3, 3, 3, 3, 3, 3, 3, 3, 3, 3, 3, 3, 3, 3, 3, 3, 3, 3, 3, 3, 3, 3, 3, 3, 3, 3, 3, 3, 3, 3, 3, 3, 3, 3, 3, 3, 3, 3, 3, 3, 3, 3, 3, 3, 3, 3, 3, 3, 3, 3, 3, 3, 3, 3, 3, 3, 3, 3, 3, 3, 3, 3, 3, 3, 3, 3, 3, 3, 3, 3, 3, 3, 3, 3, 3, 3, 3, 3, 3, 3, 3, 3, 3, 3, 3, 3, 3, 3, 3, 3, 3, 3, 3, 3, 3, 3, 3, 3, 3, 3, 3, 3, 3, 3, 3, 3, 3, 3, 3, 3, 3, 3, 3, 3, 3, 3, 3, 3, 3, 3, 3, 3, 3, 3, 3, 3, 3, 3, 3, 3, 3, 3, 3, 3, 3, 3, 3, 3, 3, 3, 3, 3, 3, 3, 3, 3, 3, 3, 3, 3, 3, 3, 3, 3, 3, 3, 3, 3, 3, 3, 3, 3, 3, 3, 3, 3, 3, 3, 3, 3, 3, 3, 3, 3, 3, 3, 3, 3, 3, 3, 3, 3, 3, 3, 3, 3, 3, 3, 3, 3, 3, 3, 3, 3, 3, 3, 3, 3, 3, 3, 3, 3, 3, 3, 3, 3, 3, 3, 3, 3, 3, 3, 3, 3, 3, 3, 3, 3, 3, 3, 3, 3, 3, 3, 3, 3, 3, 3, 3, 3, 3, 3, 3, 3, 3, 3, 3, 3, 3, 3, 3, 3, 3, 3, 3, 3, 3, 3, 3, 3, 3, 3, 3, 3, 3, 3, 3, 3, 3, 3, 3, 3, 3, 3, 3, 3, 3, 3, 3, 3, 3, 3, 3, 3, 3, 3, 3, 3, 3, 3, 3, 3, 3, 3, 3, 3, 3, 3, 3, 3, 3, 3, 3, 3, 3, 3, 3, 3, 3, 3, 3, 3, 3, 3, 3, 3, 3, 3, 3, 3, 3, 3, 3, 3, 3, 3, 3, 3, 3, 3, 3, 3, 3, 3, 3, 3, 3, 3, 3, 3, 3, 3, 3, 3, 3, 3, 3, 3, 3, 3, 3, 3, 3, 3, 3, 3, 3, 3, 3, 3, 3, 3, 3, 3, 3, 3, 3, 3, 3, 3, 3, 3, 3, 3, 3, 3, 3, 3, 3, 3, 3, 3, 3, 3, 3, 3, 3, 3, 3, 3, 3, 3, 3, 3, 3, 3, 3, 3, 3, 3, 3, 3, 3, 3, 3, 3, 3, 3, 3, 3, 3, 3, 3, 3, 3, 3, 3, 3, 3, 3, 3, 3, 3, 3, 3, 3, 3, 3, 3, 3, 3, 3, 3, 3, 3, 3, 3, 3, 3, 3, 3, 3, 3, 3, 3, 3, 3, 3, 3, 3, 3, 3, 3, 3, 3, 3, 3, 3, 3, 3, 3, 3, 3, 3, 3, 3, 3, 3, 3, 3, 3, 3, 3, 3, 3, 3, 3, 3, 3, 3, 3, 3, 3, 3, 3, 3, 3, 3, 3, 3, 3, 3, 3, 3, 3, 3, 3, 3, 3, 3, 3, 3, 3, 3, 3, 3, 3, 3, 3, 3, 3, 3, 3, 3, 3, 3, 3, 3, 3, 3, 3, 3, 3, 3, 3, 3, 3, 3, 3, 3, 3, 3, 3, 3, 3, 3, 3, 3, 3, 3, 3, 3, 3, 3, 3, 3, 3, 3, 3, 3, 3, 3, 3, 3, 3, 3, 3, 3, 3, 3, 3, 3, 3, 3, 3, 3, 3, 3, 3, 3, 3, 3, 3, 3, 3, 3, 3, 3, 3, 3, 3, 3, 3, 3, 3, 3, 3, 3, 3, 3, 3, 3, 3, 3, 3, 3, 3, 3, 3, 3, 3, 3, 3, 3, 3, 3, 3, 3, 3, 3, 3, 3, 3, 3, 3, 3, 3, 3, 3, 3, 3, 3, 3, 3, 3, 3, 3, 3, 3, 3, 3, 3, 3, 3, 3, 3, 3, 3, 3, 3, 3, 3, 3, 3, 3, 3, 3, 3, 3, 3, 3, 3, 3, 3, 3, 3, 3, 3, 3, 3, 3, 3, 3, 3, 3, 3, 3, 3, 3, 3, 3, 3, 3, 3, 3, 3, 3, 3, 3, 3, 3, 3, 3, 3, 3, 3, 3, 3, 3, 3, 3, 3, 3, 3, 3, 3, 3, 3, 3, 3, 3, 3, 3, 3, 3, 3, 3, 3, 3, 3, 3, 3, 3, 3, 3, 3, 3, 3, 3, 3, 3, 3, 3, 3, 3, 3, 3, 3, 3, 3, 3, 3, 3, 3, 3, 3, 3, 3, 3, 3, 3, 3, 3, 3, 3, 3, 3, 3, 3, 3, 3, 3, 3, 3, 3, 3, 3, 3, 3, 3, 3, 3, 3, 3, 3, 3, 3, 3, 3, 3, 3, 3, 3, 3, 3, 3, 3, 3, 3, 3, 3, 3, 3, 3, 3, 3, 3, 3, 3, 3, 3, 3, 3, 3, 3, 3, 3, 3, 3, 3, 3, 3, 3, 3, 3, 3, 3, 3, 3, 3, 3, 3, 3, 3, 3, 3, 3, 3, 3, 3, 3, 3, 3, 3, 3, 3, 3, 3, 3, 3, 3, 3, 3, 3, 3, 3, 3, 3, 3, 3, 3, 3, 3, 3, 3, 3, 3, 3, 3, 3, 3, 3, 3, 3, 3, 3, 3, 3, 3, 3, 3, 3, 3, 3, 3, 3, 3, 3, 3, 3, 3, 3, 3, 3, 3, 3, 3, 3, 3, 3, 3, 3, 3, 3, 3, 3, 3, 3, 3, 3, 3, 3, 3, 3, 3, 3, 3, 3, 3, 3, 3, 3, 3, 3, 3, 3, 3, 3, 3, 3, 3, 3, 3, 3, 3, 3, 3, 3, 3, 3, 3, 3, 3, 3, 3, 3, 3, 3, 3, 3, 3, 3, 3, 3, 3, 3, 3, 3, 3, 3, 3, 3, 3, 3, 3, 3, 3, 3, 3, 3, 3, 3, 3, 3, 3, 3, 3, 3, 3, 3, 3, 3, 3, 3, 3, 3, 3, 3, 3, 3, 3, 3, 3, 3, 3, 3, 3, 3, 3, 3, 3, 3, 3, 3, 3, 3, 3, 3, 3, 3, 3, 3, 3, 3, 3, 3, 3, 3, 3, 3, 3, 3, 3, 3, 3, 3, 3, 3, 3, 3, 3, 3, 3, 3, 3, 3, 3, 3, 3, 3, 3, 3, 3, 3, 3, 3, 3, 3, 3, 3, 3, 3, 3, 3, 3, 3, 3, 3, 3, 3, 3, 3, 3, 3, 3, 3, 3, 3, 3, 3, 3, 3, 3, 3, 3, 3, 3, 3, 3, 3, 3, 3, 3, 3, 3, 3, 3, 3, 3, 3, 3, 3, 3, 3, 3, 3, 3, 3, 3, 3, 3, 3, 3, 3, 3, 3, 3, 3, 3, 3, 3, 3, 3, 3, 3, 3, 3, 3, 3, 3, 3, 3, 3, 3, 3, 3, 3, 3, 3, 3, 3, 3, 3, 3, 3, 3, 3, 3, 3, 3, 3, 3, 3, 3, 3, 3, 3, 3, 3, 3, 3, 3, 3, 3, 3, 3, 3, 3, 3, 3, 3, 3, 3, 3, 3, 3, 3, 3, 3, 3, 3, 3, 3, 3, 3, 3, 3, 3, 3, 3, 3, 3, 3, 3, 3, 3, 3, 3, 3, 3, 3, 3, 3, 3, 3, 3, 3, 3, 3, 3, 3, 3, 3, 3, 3, 3, 3, 3, 3, 3, 3, 3, 3, 3, 3, 3, 3, 3, 3, 3, 3, 3, 3, 3, 3, 3, 3, 3, 3, 3, 3, 3, 3, 3, 3, 3, 3, 3, 3, 3, 3, 3, 3, 3, 3, 3, 3, 3, 3, 3, 3, 3, 3, 3, 3, 3, 3, 3, 3, 3, 3, 3, 3, 3, 3, 3, 3, 3, 3, 3, 3, 3, 3, 3, 3, 3, 3, 3, 3, 3, 3, 3, 3, 3, 3, 3, 3, 3, 3, 3, 3, 3, 3, 3, 3, 3, 3, 3, 3, 3, 3, 3, 3, 3, 3, 3, 3, 3, 3, 3, 3, 3, 3, 3, 3, 3, 3, 3, 3, 3, 3, 3, 3, 3, 3, 3, 3, 3, 3, 3, 3, 3, 3, 3, 3, 3, 3, 3, 3, 3, 3, 3, 3, 3, 3, 3, 3, 3, 3, 3, 3, 3, 3, 3, 3, 3, 3, 3, 3, 3, 3, 3, 3, 3, 3, 3, 3, 3, 3, 3, 3, 3, 3, 3, 3, 3, 3, 3, 3, 3, 3, 3, 3, 3, 3, 3, 3, 3, 3, 3, 3, 3, 3, 3, 3, 3, 3, 3, 3, 3, 3, 3, 3, 3, 3, 3, 3, 3, 3, 3, 3, 3, 3, 3, 3, 3, 3, 3, 3, 3, 3, 3, 3, 3, 3, 3, 3, 3, 3, 3, 3, 3, 3, 3, 3, 3, 3, 3, 3, 3, 3, 3, 3, 3, 3, 3, 3, 3, 3, 3, 3, 3, 3, 3, 3, 3, 3, 3, 3, 3, 3, 3, 3, 3, 3, 3, 3, 3, 3, 3, 3, 3, 3, 3, 3, 3, 3, 3, 3, 3, 3, 3, 3, 3, 3, 3, 3, 3, 3, 3, 3, 3, 3, 3, 3, 3, 3, 3, 3, 3, 3, 3, 3, 3, 3, 3, 3, 3, 3, 3, 3, 3, 3, 3, 3, 3, 3, 3, 3, 3, 3, 3, 3, 3, 3, 3, 3, 3, 3, 3, 3, 3, 3, 3, 3, 3, 3, 3, 3, 3, 3, 3, 3, 3, 3, 3, 3, 3, 3, 3, 3, 3, 3, 3, 3, 3, 3, 3, 3, 3, 3, 3, 3, 3, 3, 3, 3, 3, 3, 3, 3, 3, 3, 3, 3, 3, 3, 3, 3, 3, 3, 3, 3, 3, 3, 3, 3, 3, 3, 3, 3, 3, 3, 3, 3, 3, 3, 3, 3, 3, 3, 3, 3, 3, 3, 3, 3, 3, 3, 3, 3, 3, 3, 3, 3, 3, 3, 3, 3, 3, 3, 3, 3, 3, 3, 3, 3, 3, 3, 3, 3, 3, 3, 3, 3, 3, 3, 3, 3, 3, 3, 3, 3, 3, 3, 3, 3, 3, 3, 3, 3, 3, 3, 3, 3, 3, 3, 3, 3, 3, 3, 3, 3, 3, 3, 3, 3, 3, 3, 3, 3, 3, 3, 3, 3, 3, 3, 3, 3, 3, 3, 3, 3, 3, 3, 3, 3, 3, 3, 3, 3, 3, 3, 3, 3, 3, 3, 3, 3, 3, 3, 3, 3, 3, 3, 3, 3, 3, 3, 3, 3, 3, 3, 3, 3, 3, 3, 3, 3, 3, 3, 3, 3, 3, 3, 3, 3, 3, 3, 3, 3, 3, 3, 3, 3, 3, 3, 3, 3, 3, 3, 3, 3, 3, 3, 3, 3, 3, 3, 3, 3, 3, 3, 3, 3, 3, 3, 3, 3, 3, 3, 3, 3, 3, 3, 3, 3, 3, 3, 3, 3, 3, 3, 3, 3, 3, 3, 3, 3, 3, 3, 3, 3, 3, 3, 3, 3, 3, 3, 3, 3, 3, 3, 3, 3, 3, 3, 3, 3, 3, 3, 3, 3, 3, 3, 3, 3, 3, 3, 3, 3, 3, 3, 3, 3, 3, 3, 3, 3, 3, 3, 3, 3, 3, 3, 3, 3, 3, 3, 3, 3, 3, 3, 3, 3, 3, 3, 3, 3, 3, 3, 3, 3, 3, 3, 3, 3, 3, 3, 3, 3, 3, 3, 3, 3, 3, 3, 3, 3, 3, 3, 3, 3, 3, 3, 3, 3, 3, 3, 3, 3, 3, 3, 3, 3, 3, 3, 3, 3, 3, 3, 3, 3, 3, 3, 3, 3, 3, 3, 3, 3, 3, 3, 3, 3, 3, 3, 3, 3, 3, 3, 3, 3, 3, 3, 3, 3, 3, 3, 3, 3, 3, 3, 3, 3, 3, 3, 3, 3, 3, 3, 3, 3, 3, 3, 3, 3, 3, 3, 3, 3, 3, 3, 3, 3, 3, 3, 3, 3, 3, 3, 3, 3, 3, 3, 3, 3, 3, 3, 3, 3, 3, 3, 3, 3, 3, 3, 3, 3, 3, 3, 3, 3, 3, 3, 3, 3, 3, 3, 3, 3, 3, 3, 3, 3, 3, 3, 3, 3, 3, 3, 3, 3, 3, 3, 3, 3, 3, 3, 3, 3, 3, 3, 3, 3, 3, 3, 3, 3, 3, 3, 3, 3, 3, 3, 3, 3, 3, 3, 3, 3, 3, 3, 3, 3, 3, 3, 3, 3, 3, 3, 3, 3, 3, 3, 3, 3, 3, 3, 3, 3, 3, 3, 3, 3, 3, 3, 3, 3, 3, 3, 3, 3, 3, 3, 3, 3, 3, 3, 3, 3, 3, 3, 3, 3, 3, 3, 3, 3, 3, 3, 3, 3, 3, 3, 3, 3, 3, 3, 3, 3, 3, 3, 3, 3, 3, 3, 3, 3, 3, 3, 3, 3, 3, 3, 3, 3, 3, 3, 3, 3, 3, 3, 3, 3, 3, 3, 3, 3, 3, 3, 3, 3, 3, 3, 3, 3, 3, 3, 3, 3, 3, 3, 3, 3, 3, 3, 3, 3, 3, 3, 3, 3, 3, 3, 3, 3, 3, 3, 3, 3, 3, 3, 3, 3, 3, 3, 3, 3, 3, 3, 3, 3, 3, 3, 3, 3, 3, 3, 3, 3, 3, 3, 3, 3, 3, 3, 3, 3, 3, 3, 3, 3, 3, 3, 3, 3, 3, 3, 3, 3, 3, 3, 3, 3, 3, 3, 3, 3, 3, 3, 3, 3, 3, 3, 3, 3, 3, 3, 3, 3, 3, 3, 3, 3, 3, 3, 3, 3, 3, 3, 3, 3, 3, 3, 3, 3, 3, 3, 3, 3, 3, 3, 3, 3, 3, 3, 3, 3, 3, 3, 3, 3, 3, 3, 3, 3, 3, 3, 3, 3, 3, 3, 3, 3, 3, 3, 3, 3, 3, 3, 3, 3, 3, 3, 3, 3, 3, 3, 3, 3, 3, 3, 3, 3, 3, 3, 3, 3, 3, 3, 3, 3, 3, 3, 3, 3, 3, 3, 3, 3, 3, 3, 3, 3, 3, 3, 3, 3, 3, 3, 3, 3, 3, 3, 3, 3, 3, 3, 3, 3, 3, 3, 3, 3, 3, 3, 3, 3, 3, 3, 3, 3, 3, 3, 3, 3, 3, 3, 3, 3, 3, 3, 3, 3, 3, 3, 3, 3, 3, 3, 3, 3, 3, 3, 3, 3, 3, 3, 3, 3, 3, 3, 3, 3, 3, 3, 3, 3, 3, 3, 3, 3, 3, 3, 3, 3, 3, 3, 3, 3, 3, 3, 3, 3, 3, 3, 3, 3, 3, 3, 3, 3, 3, 3, 3, 3, 3, 3, 3, 3, 3, 3, 3, 3, 3, 3, 3, 3, 3, 3, 3, 3, 3, 3, 3, 3, 3, 3, 3, 3, 3, 3, 3, 3, 3, 3, 3, 3, 3, 3, 3, 3, 3, 3, 3, 3, 3, 3, 3, 3, 3, 3, 3, 3, 3, 3, 3, 3, 3, 3, 3, 3, 3, 3, 3, 3, 3, 3, 3, 3, 3, 3, 3, 3, 3, 3, 3, 3, 3, 3, 3, 3, 3, 3, 3, 3, 3, 3, 3, 3, 3, 3, 3, 3, 3, 3, 3, 3, 3, 3, 3, 3, 3, 3, 3, 3, 3, 3, 3, 3, 3, 3, 3, 3, 3, 3, 3, 3, 3, 3, 3, 3, 3, 3, 3, 3, 3, 3, 3, 3, 3, 3, 3, 3, 3, 3, 3, 3, 3, 3, 3, 3, 3, 3, 3, 3, 3, 3, 3, 3, 3, 3, 3, 3, 3, 3, 3, 3, 3, 3, 3, 3, 3, 3, 3, 3, 3, 3, 3, 3, 3, 3, 3, 3, 3, 3, 3, 3, 3, 3, 3, 3, 3, 3, 3, 3, 3, 3, 3, 3, 3, 3, 3, 3, 3, 3, 3, 3, 3, 3, 3, 3, 3, 3, 3, 3, 3, 3, 3, 3, 3, 3, 3, 3, 3, 3, 3, 3, 3, 3, 3, 3, 3, 3, 3, 3, 3, 3, 3, 3, 3, 3, 3, 3, 3, 3, 3, 3, 3, 3, 3, 3, 3, 3, 3, 3, 3, 3, 3, 3, 3, 3, 3, 3, 3, 3, 3, 3, 3, 3, 3, 3, 3, 3, 3, 3, 3, 3, 3, 3, 3, 3, 3, 3, 3, 3, 3, 3, 3, 3, 3, 3, 3, 3, 3, 3, 3, 3, 3, 3, 3, 3, 3, 3, 3, 3, 3, 3, 3, 3, 3, 3, 3, 3, 3, 3, 3, 3, 3, 3, 3, 3, 3, 3, 3, 3, 3, 3, 3, 3, 3, 3, 3, 3, 3, 3, 3, 3, 3, 3, 3, 3, 3, 3, 3, 3, 3, 3, 3, 3, 3, 3, 3, 3, 3, 3, 3, 3, 3, 3, 3, 3, 3, 3, 3, 3, 3, 3, 3, 3, 3, 3, 3, 3, 3, 3, 3, 3, 3, 3, 3, 3, 3, 3, 3, 3, 3, 3, 3, 3, 3, 3, 3, 3, 3, 3, 3, 3, 3, 3, 3, 3, 3, 3, 3, 3, 3, 3, 3, 3, 3, 3, 3, 3, 3, 3, 3, 3, 3, 3, 3, 3, 3, 3, 3, 3, 3, 3, 3, 3, 3, 3, 3, 3, 3, 3, 3, 3, 3, 3, 3, 3, 3, 3, 3, 3, 3, 3, 3, 3, 3, 3, 3, 3, 3, 3, 3, 3, 3, 3, 3, 3, 3, 3, 3, 3, 3, 3, 3, 3, 3, 3, 3, 3, 3, 3, 3, 3, 3, 3, 3, 3, 3, 3, 3, 3, 3, 3, 3, 3, 3, 3, 3, 3, 3, 3, 3, 3, 3, 3, 3, 3, 3, 3, 3, 3, 3, 3, 3, 3, 3, 3, 3, 3, 3, 3, 3, 3, 3, 3, 3, 3, 3, 3, 3, 3, 3, 3, 3, 3, 3, 3, 3, 3, 3, 3, 3, 3, 3, 3, 3, 3, 3, 3, 3, 3, 3, 3, 3, 3, 3, 3, 3, 3, 3, 3, 3, 3, 3, 3, 3, 3, 3, 3, 3, 3, 3, 3, 3, 3, 3, 3, 3, 3, 3, 3, 3, 3, 3, 3, 3, 3, 3, 3, 3, 3, 3, 3, 3, 3, 3, 3, 3, 3, 3, 3, 3, 3, 3, 3, 3, 3, 3, 3, 3, 3, 3, 3, 3, 3, 3, 3, 3, 3, 3, 3, 3, 3, 3, 3, 3, 3, 3, 3, 3, 3, 3, 3, 3, 3, 3, 3, 3, 3, 3, 3, 3, 3, 3, 3, 3, 3, 3, 3, 3, 3, 3, 3, 3, 3, 3, 3, 3, 3, 3, 3, 3, 3, 3, 3, 3, 3, 3, 3, 3, 3, 3, 3, 3, 3, 3, 3, 3, 3, 3, 3, 3, 3, 3, 3, 3, 3, 3, 3, 3, 3, 3, 3, 3, 3, 3, 3, 3, 3, 3, 3, 3, 3, 3, 3, 3, 3, 3, 3, 3, 3, 3, 3, 3, 3, 3, 3, 3, 3, 3, 3, 3, 3, 3, 3, 3, 3, 3, 3, 3, 3, 3, 3, 3, 3, 3, 3, 3, 3, 3, 3, 3, 3, 3, 3, 3, 3, 3, 3, 3, 3, 3, 3, 3, 3, 3, 3, 3, 3, 3, 3, 3, 3, 3, 3, 3, 3, 3, 3, 3, 3, 3, 3, 3, 3, 3, 3, 3, 3, 3, 3, 3, 3, 3, 3, 3, 3, 3, 3, 3, 3, 3, 3, 3, 3, 3, 3, 3, 3, 3, 3, 3, 3, 3, 3, 3, 3, 3, 3, 3, 3, 3, 3], \"xaxis\": \"x\", \"y\": [1465000.0, 850000.0, 1876000.0, 1350000.0, 1200000.0, 1176500.0, 955000.0, 900000.0, 1090000.0, 1447500.0, 1290000.0, 1290000.0, 1195000.0, 840000.0, 730000.0, 770000.0, 700000.0, 600000.0, 720000.0, 895000.0, 805000.0, 752000.0, 700000.0, 830000.0, 670000.0, 1042000.0, 910000.0, 810000.0, 715000.0, 790000.0, 540000.0, 825000.0, 685000.0, 805000.0, 612000.0, 662000.0, 720000.0, 2850000.0, 1850000.0, 1550000.0, 1800000.0, 1800000.0, 1800000.0, 2615000.0, 1300000.0, 1370000.0, 2575000.0, 2000000.0, 1900000.0, 3010000.0, 2100000.0, 2000000.0, 1801000.0, 1532000.0, 3755000.0, 2030000.0, 1740000.0, 2800000.0, 1110000.0, 1492000.0, 2000000.0, 1540000.0, 865000.0, 1165000.0, 1485000.0, 520000.0, 1120000.0, 630000.0, 660000.0, 683500.0, 1335000.0, 800000.0, 605000.0, 705000.0, 743000.0, 730000.0, 635000.0, 730000.0, 678000.0, 712000.0, 840000.0, 980000.0, 605100.0, 880000.0, 577000.0, 605000.0, 753000.0, 1500000.0, 730000.0, 900000.0, 740000.0, 781000.0, 750000.0, 1405000.0, 683000.0, 623000.0, 720000.0, 588000.0, 710000.0, 700000.0, 675000.0, 708000.0, 680000.0, 770000.0, 923000.0, 620000.0, 728500.0, 931000.0, 988000.0, 590000.0, 815000.0, 700000.0, 625000.0, 995000.0, 1205000.0, 1939000.0, 1870000.0, 1918000.0, 2050000.0, 735000.0, 1586000.0, 1800000.0, 2250000.0, 2360000.0, 2365000.0, 1300000.0, 732000.0, 1900000.0, 1285000.0, 1101000.0, 3512500.0, 869000.0, 940000.0, 1380000.0, 1284000.0, 971000.0, 1377000.0, 970000.0, 1230000.0, 910000.0, 960000.0, 1440000.0, 801000.0, 1000000.0, 1435000.0, 1425000.0, 955000.0, 1255000.0, 940000.0, 890000.0, 1180000.0, 1350000.0, 1037500.0, 1050000.0, 1291000.0, 1130000.0, 1135000.0, 790000.0, 1381500.0, 940000.0, 995000.0, 1050000.0, 786000.0, 487500.0, 1000000.0, 1060000.0, 1410000.0, 1305000.0, 932500.0, 965000.0, 1215000.0, 970000.0, 1670000.0, 955000.0, 2050000.0, 1555000.0, 1100000.0, 1337000.0, 1518000.0, 1710000.0, 1655000.0, 1662000.0, 1665000.0, 968000.0, 900000.0, 1500000.0, 1500000.0, 1830000.0, 1415000.0, 1422000.0, 1710000.0, 1600000.0, 1320000.0, 1650000.0, 1250000.0, 1045000.0, 1120000.0, 761000.0, 1365000.0, 1631000.0, 1060000.0, 785000.0, 1305000.0, 855000.0, 900500.0, 1200000.0, 830000.0, 850000.0, 750000.0, 851000.0, 848000.0, 670000.0, 636000.0, 680000.0, 750000.0, 627500.0, 880000.0, 650000.0, 725000.0, 665000.0, 560500.0, 615000.0, 845000.0, 585000.0, 850000.0, 705000.0, 892500.0, 695000.0, 500000.0, 730000.0, 875000.0, 850000.0, 635000.0, 805000.0, 795000.0, 634000.0, 642000.0, 863000.0, 740000.0, 1193000.0, 1690000.0, 1080000.0, 1070000.0, 2200000.0, 1140000.0, 2330000.0, 1255000.0, 700000.0, 2125000.0, 905000.0, 1367000.0, 1860000.0, 1800000.0, 1472000.0, 2120000.0, 1910000.0, 1385000.0, 3401000.0, 1750000.0, 1100000.0, 2950000.0, 1912000.0, 1500000.0, 1850000.0, 1315000.0, 1500000.0, 2251000.0, 1265000.0, 2000000.0, 1450000.0, 1150000.0, 1575000.0, 1480000.0, 1050000.0, 1300000.0, 1700000.0, 1750000.0, 980000.0, 1230000.0, 1480000.0, 1818000.0, 1903000.0, 1800000.0, 2900000.0, 1137000.0, 2100000.0, 1335000.0, 1600000.0, 1830000.0, 1520000.0, 1238000.0, 1320000.0, 1651000.0, 1038000.0, 1260000.0, 2000000.0, 1225000.0, 1770000.0, 875000.0, 895000.0, 1425000.0, 1222500.0, 900000.0, 1100000.0, 1317500.0, 1110000.0, 1500000.0, 1125000.0, 1135000.0, 867000.0, 1340000.0, 1275000.0, 770000.0, 1100000.0, 1470000.0, 1200000.0, 1293000.0, 1390000.0, 1400000.0, 1328000.0, 1311000.0, 1100000.0, 1327500.0, 1370000.0, 1100000.0, 1275000.0, 1095000.0, 825000.0, 1235000.0, 1165000.0, 1448000.0, 895000.0, 1350000.0, 1280000.0, 1230000.0, 1535000.0, 1096000.0, 517500.0, 760000.0, 1206000.0, 1115000.0, 1025000.0, 740000.0, 885000.0, 830000.0, 1040000.0, 1215000.0, 1050000.0, 1400000.0, 965000.0, 1338000.0, 800000.0, 920000.0, 1390000.0, 1100000.0, 1355000.0, 899000.0, 1550000.0, 840000.0, 1110000.0, 1106000.0, 845000.0, 860000.0, 1208000.0, 921000.0, 1165000.0, 1270000.0, 920000.0, 1307000.0, 805000.0, 880000.0, 1085000.0, 920000.0, 1050000.0, 1560000.0, 930000.0, 921000.0, 720000.0, 1185000.0, 1200000.0, 780000.0, 750000.0, 1300000.0, 791000.0, 900000.0, 1189000.0, 825000.0, 1030000.0, 970000.0, 930000.0, 1240000.0, 823000.0, 750000.0, 800000.0, 835000.0, 1140000.0, 910000.0, 920000.0, 935000.0, 977000.0, 1352000.0, 780000.0, 1115000.0, 1197000.0, 810000.0, 700000.0, 1000000.0, 965000.0, 870000.0, 1405000.0, 1161000.0, 1266000.0, 700000.0, 770000.0, 1110000.0, 1200000.0, 1360000.0, 860000.0, 1001000.0, 801000.0, 882000.0, 840000.0, 930000.0, 790000.0, 1040000.0, 1020000.0, 670000.0, 800000.0, 970000.0, 787500.0, 950000.0, 886000.0, 780000.0, 830000.0, 1241000.0, 1320000.0, 870000.0, 1291000.0, 1715000.0, 1200000.0, 1760000.0, 948000.0, 1412000.0, 1325000.0, 750000.0, 1400000.0, 1500000.0, 775000.0, 4000000.0, 928000.0, 836000.0, 1170000.0, 1351000.0, 857000.0, 822500.0, 870000.0, 502000.0, 495000.0, 660000.0, 652000.0, 570500.0, 575000.0, 730000.0, 585000.0, 696000.0, 579000.0, 510000.0, 765000.0, 505000.0, 495000.0, 680000.0, 565000.0, 697500.0, 1550000.0, 1635000.0, 1975000.0, 1390000.0, 1725000.0, 2266000.0, 2100000.0, 1750000.0, 2600000.0, 1302500.0, 1900000.0, 1850000.0, 1067000.0, 1865000.0, 1475000.0, 2400000.0, 1650000.0, 2050000.0, 1602000.0, 1650000.0, 1411000.0, 1785000.0, 1875000.0, 1266000.0, 826000.0, 1962000.0, 1500000.0, 2375000.0, 2275000.0, 1385000.0, 2020000.0, 1762000.0, 2450000.0, 1427000.0, 2517500.0, 1410000.0, 1005000.0, 880000.0, 1250000.0, 835000.0, 2320000.0, 2375000.0, 2900000.0, 1620000.0, 3550000.0, 1425000.0, 1352500.0, 2030000.0, 1171000.0, 1600000.0, 930000.0, 1302500.0, 1075000.0, 1860000.0, 1500000.0, 870000.0, 1400000.0, 1300000.0, 1480000.0, 1590000.0, 1580000.0, 1405000.0, 1290000.0, 880000.0, 1301000.0, 1355000.0, 1620000.0, 940000.0, 1710000.0, 1800000.0, 1300000.0, 1400000.0, 900000.0, 1511000.0, 1537000.0, 1100000.0, 1230000.0, 1245000.0, 1420000.0, 1050000.0, 680000.0, 950000.0, 1310000.0, 1055000.0, 627000.0, 990000.0, 1125000.0, 855000.0, 910000.0, 940000.0, 880000.0, 1222500.0, 810000.0, 955000.0, 1135000.0, 1060000.0, 840000.0, 905000.0, 976000.0, 641000.0, 825000.0, 1261000.0, 1045000.0, 1044000.0, 1050000.0, 1691500.0, 1260000.0, 1650000.0, 1700000.0, 815000.0, 1815000.0, 990000.0, 985000.0, 1250000.0, 641000.0, 860000.0, 835000.0, 880000.0, 1000000.0, 1510000.0, 820000.0, 1170000.0, 640000.0, 1053000.0, 705000.0, 1020000.0, 1340000.0, 1550000.0, 740000.0, 947000.0, 1317000.0, 1210000.0, 1080000.0, 1190000.0, 942000.0, 1200000.0, 955000.0, 810000.0, 793000.0, 797500.0, 920000.0, 1172000.0, 1300000.0, 1330000.0, 1245000.0, 1095000.0, 1186000.0, 910000.0, 995000.0, 901000.0, 815000.0, 1150000.0, 851000.0, 880000.0, 980000.0, 975000.0, 1127000.0, 990000.0, 1340000.0, 1250000.0, 905000.0, 1400000.0, 787000.0, 1075000.0, 1050000.0, 812500.0, 990000.0, 1063000.0, 1390000.0, 1300000.0, 1022500.0, 1250000.0, 1151000.0, 1755000.0, 686000.0, 1300000.0, 1160000.0, 790000.0, 625000.0, 780000.0, 1342000.0, 1468000.0, 1070500.0, 1175000.0, 1521000.0, 752000.0, 570000.0, 1460000.0, 745000.0, 746000.0, 1540000.0, 1145000.0, 640000.0, 2068000.0, 1000000.0, 702000.0, 1615000.0, 1650000.0, 1987000.0, 1690000.0, 1300000.0, 2325000.0, 1250000.0, 2000000.0, 1302000.0, 1430000.0, 1622000.0, 591000.0, 1780000.0, 2250000.0, 1800000.0, 930000.0, 1602500.0, 1515000.0, 2177000.0, 2155000.0, 3400000.0, 2105000.0, 1625000.0, 1750000.0, 3300000.0, 2220000.0, 1700000.0, 1587500.0, 2200000.0, 928000.0, 1680000.0, 1640000.0, 1680000.0, 1385000.0, 1850000.0, 1843000.0, 1800000.0, 1330000.0, 1540000.0, 1280000.0, 2950000.0, 2210000.0, 1214000.0, 1955000.0, 2050000.0, 1280000.0, 820000.0, 1295000.0, 1620000.0, 860000.0, 675000.0, 1600000.0, 1170000.0, 1008000.0, 1170000.0, 1646000.0, 1200000.0, 950000.0, 970000.0, 1000000.0, 602500.0, 1420000.0, 920000.0, 1287000.0, 1360000.0, 1430000.0, 1490000.0, 990000.0, 1125000.0, 1910000.0, 808000.0, 1252000.0, 860000.0, 1716000.0, 1090000.0, 1365000.0, 1750000.0, 2005000.0, 1400000.0, 1870000.0, 1577500.0, 1460000.0, 1470000.0, 599000.0, 1160500.0, 1170000.0, 1314000.0, 1450000.0, 1110000.0, 1303500.0, 1200000.0, 1570000.0, 1330000.0, 752000.0, 700000.0, 1000000.0, 865000.0, 992000.0, 650000.0, 920000.0, 1301000.0, 1460000.0, 1000000.0, 845000.0, 1270000.0, 1060000.0, 930000.0, 1226000.0, 1370000.0, 1180000.0, 1680000.0, 825000.0, 1150000.0, 1360000.0, 784000.0, 680000.0, 790000.0, 675000.0, 1010000.0, 1202000.0, 1370000.0, 1000000.0, 935500.0, 860000.0, 550000.0, 1100000.0, 947000.0, 865000.0, 740000.0, 812000.0, 766000.0, 825000.0, 1064000.0, 1210000.0, 640000.0, 1090000.0, 1130000.0, 763000.0, 1000000.0, 1278000.0, 590000.0, 590000.0, 1030000.0, 1061000.0, 1286000.0, 885000.0, 1260000.0, 841000.0, 1120000.0, 870000.0, 680000.0, 825000.0, 725000.0, 967000.0, 1025000.0, 700000.0, 1130000.0, 835000.0, 845000.0, 600000.0, 770000.0, 687000.0, 985000.0, 835000.0, 951000.0, 1370000.0, 810000.0, 830000.0, 1194500.0, 655000.0, 631000.0, 715000.0, 735000.0, 864000.0, 700000.0, 860000.0, 625000.0, 782000.0, 780000.0, 707000.0, 772000.0, 745000.0, 750000.0, 815000.0, 637000.0, 780000.0, 860000.0, 2000000.0, 650000.0, 720000.0, 970000.0, 1260000.0, 1125000.0, 950000.0, 1326000.0, 910000.0, 897500.0, 1075000.0, 1470000.0, 1470000.0, 887500.0, 1500000.0, 1403000.0, 1450000.0, 1125000.0, 700000.0, 920000.0, 910000.0, 1850000.0, 772000.0, 1300000.0, 1275000.0, 655000.0, 1310000.0, 1180000.0, 746000.0, 1485000.0, 1190000.0, 900000.0, 1250000.0, 1030000.0, 1300000.0, 958000.0, 1430000.0, 1250000.0, 1152500.0, 1474000.0, 800000.0, 1391000.0, 1102200.0, 735000.0, 990000.0, 1020000.0, 878000.0, 751800.0, 1100000.0, 1202000.0, 1362000.0, 826000.0, 900000.0, 888000.0, 1816000.0, 1601000.0, 1100000.0, 1190000.0, 1625000.0, 1755000.0, 1240000.0, 1805000.0, 800000.0, 965000.0, 820000.0, 1390000.0, 1071000.0, 1800000.0, 2345000.0, 2160000.0, 1500000.0, 850000.0, 1750000.0, 1450000.0, 782000.0, 1605000.0, 1350000.0, 2116000.0, 1395000.0, 1911000.0, 1050000.0, 1238000.0, 780000.0, 878500.0, 3572000.0, 940000.0, 1700000.0, 1625000.0, 1561000.0, 1675000.0, 920000.0, 1830000.0, 1925000.0, 1425000.0, 980000.0, 1295000.0, 911000.0, 840000.0, 960000.0, 1100000.0, 1365000.0, 1467000.0, 2390000.0, 1240000.0, 1226000.0, 825000.0, 897000.0, 1240000.0, 1990000.0, 855000.0, 1385000.0, 650000.0, 1000000.0, 980000.0, 720000.0, 980000.0, 840000.0, 891000.0, 770000.0, 1266000.0, 1134000.0, 1695000.0, 1050000.0, 1470000.0, 801500.0, 1475000.0, 750000.0, 1400000.0, 1460000.0, 1330000.0, 1625000.0, 1150000.0, 1085000.0, 1630000.0, 850000.0, 872000.0, 935000.0, 1500000.0, 1290000.0, 1045000.0, 1290000.0, 1100000.0, 820000.0, 1445000.0, 1505000.0, 1580000.0, 1320000.0, 765000.0, 712000.0, 1425000.0, 1250000.0, 1350000.0, 1125000.0, 1064000.0, 846000.0, 1700000.0, 750000.0, 2350000.0, 1350000.0, 1065000.0, 1055000.0, 1500000.0, 1510000.0, 1145000.0, 1375000.0, 1252000.0, 1520000.0, 1481000.0, 2200000.0, 1250000.0, 1600000.0, 850000.0, 2170000.0, 1000000.0, 1015000.0, 1371000.0, 1286000.0, 1655000.0, 1181000.0, 1600000.0, 1275000.0, 1141000.0, 1700000.0, 674000.0, 1080000.0, 1851000.0, 2300000.0, 1710000.0, 1600000.0, 1300000.0, 1300000.0, 1300000.0, 2150000.0, 775000.0, 1581000.0, 1450000.0, 870000.0, 1130000.0, 1110000.0, 1012000.0, 885000.0, 1315000.0, 1205000.0, 1100000.0, 991000.0, 850000.0, 1115000.0, 585000.0, 1003000.0, 840000.0, 1362000.0, 876000.0, 910000.0, 1155000.0, 930000.0, 853000.0, 480000.0, 714000.0, 775000.0, 674000.0, 760000.0, 932000.0, 780000.0, 747000.0, 1045000.0, 775000.0, 860500.0, 820000.0, 875000.0, 665000.0, 699000.0, 850000.0, 740000.0, 980000.0, 561000.0, 735000.0, 886500.0, 767500.0, 757000.0, 1735000.0, 1780000.0, 1425000.0, 1530000.0, 1360000.0, 1600000.0, 2100000.0, 2115000.0, 1700000.0, 1750000.0, 967500.0, 1222000.0, 1660000.0, 1162000.0, 1510000.0, 1275000.0, 1625000.0, 1820000.0, 1456000.0, 1875000.0, 1430000.0, 1625000.0, 1220000.0, 1375000.0, 1825000.0, 2825000.0, 1710000.0, 1770000.0, 1765000.0, 2000000.0, 1880000.0, 1200000.0, 2200000.0, 1751000.0, 1500000.0, 2800000.0, 1665000.0, 1420000.0, 1550000.0, 1310000.0, 1931000.0, 610000.0, 610000.0, 555000.0, 500000.0, 806500.0, 822000.0, 980000.0, 670000.0, 721000.0, 737000.0, 575500.0, 600000.0, 460000.0, 370000.0, 691000.0, 500000.0, 545000.0, 670000.0, 572000.0, 711500.0, 820000.0, 460000.0, 793000.0, 596000.0, 447500.0, 588000.0, 420000.0, 688000.0, 612500.0, 525000.0, 703000.0, 577000.0, 765500.0, 470000.0, 482500.0, 580000.0, 710000.0, 600000.0, 550000.0, 460000.0, 600000.0, 570000.0, 500000.0, 762700.0, 670000.0, 600000.0, 440000.0, 501000.0, 660000.0, 722000.0, 631000.0, 532000.0, 500000.0, 504000.0, 468000.0, 700000.0, 485000.0, 540000.0, 390000.0, 525000.0, 605000.0, 685500.0, 630000.0, 810000.0, 840000.0, 465000.0, 719000.0, 730000.0, 800000.0, 750000.0, 740000.0, 721000.0, 646000.0, 545000.0, 770000.0, 510000.0, 631500.0, 591000.0, 550000.0, 725000.0, 1102000.0, 716000.0, 2200000.0, 1003500.0, 1560000.0, 1715000.0, 1120000.0, 1403000.0, 1682000.0, 1050000.0, 810000.0, 1460000.0, 1620000.0, 1420000.0, 1400000.0, 1457500.0, 1610000.0, 1320000.0, 1450000.0, 1100000.0, 1140000.0, 820000.0, 1800000.0, 2439500.0, 952000.0, 1255000.0, 1020000.0, 926000.0, 1070000.0, 1150000.0, 1471000.0, 1195000.0, 1300000.0, 865000.0, 5100000.0, 1480000.0, 1189000.0, 2000000.0, 1420000.0, 956000.0, 1300000.0, 1300000.0, 1000000.0, 1741000.0, 2325000.0, 1510000.0, 2065000.0, 1400000.0, 1712000.0, 630000.0, 1560000.0, 840000.0, 1780000.0, 1975000.0, 1180000.0, 1855000.0, 1377000.0, 1551000.0, 2410000.0, 2375000.0, 1980000.0, 1400000.0, 3120000.0, 2160000.0, 720000.0, 740600.0, 580000.0, 994000.0, 725000.0, 743000.0, 785000.0, 620000.0, 706750.0, 909000.0, 650000.0, 659500.0, 725000.0, 950000.0, 600000.0, 850000.0, 1100000.0, 915000.0, 550000.0, 662500.0, 631000.0, 691000.0, 560000.0, 830000.0, 330000.0, 532000.0, 740000.0, 525500.0, 525000.0, 710000.0, 808000.0, 652000.0, 800000.0, 605000.0, 690500.0, 480000.0, 646250.0, 1375000.0, 722000.0, 710000.0, 392000.0, 961000.0, 507000.0, 465000.0, 675000.0, 1340000.0, 855000.0, 1316000.0, 828000.0, 1055000.0, 1350000.0, 1210000.0, 900000.0, 1680000.0, 962000.0, 981000.0, 890000.0, 1340000.0, 785000.0, 1155000.0, 1796000.0, 1465000.0, 855000.0, 1010000.0, 1220000.0, 1605000.0, 1075000.0, 1535000.0, 1486000.0, 750000.0, 1850000.0, 950000.0, 1102000.0, 1275000.0, 1065000.0, 1223500.0, 1225000.0, 700000.0, 550000.0, 650000.0, 365000.0, 515000.0, 582000.0, 545000.0, 461000.0, 320000.0, 450000.0, 703000.0, 650000.0, 770000.0, 480000.0, 590000.0, 935000.0, 700000.0, 675000.0, 725000.0, 772000.0, 650000.0, 757000.0, 690000.0, 785000.0, 583000.0, 880000.0, 580000.0, 625000.0, 825000.0, 695000.0, 915000.0, 976000.0, 900000.0, 470000.0, 560000.0, 740000.0, 630000.0, 705000.0, 680000.0, 891000.0, 785000.0, 695000.0, 570000.0, 600000.0, 825000.0, 720000.0, 875000.0, 601200.0, 695000.0, 680000.0, 660000.0, 650000.0, 900000.0, 823000.0, 705000.0, 710000.0, 715000.0, 785000.0, 852000.0, 1037000.0, 1470000.0, 845000.0, 1050000.0, 1291000.0, 961000.0, 1271000.0, 1010000.0, 918000.0, 870000.0, 1165000.0, 1455000.0, 551000.0, 570000.0, 1135000.0, 1260000.0, 1000000.0, 813500.0, 790000.0, 1230000.0, 1335000.0, 829000.0, 1635000.0, 1528500.0, 1490000.0, 882000.0, 1875000.0, 1878000.0, 1410000.0, 2310000.0, 1668000.0, 800000.0, 2770000.0, 1905000.0, 1575000.0, 972500.0, 1476000.0, 1330000.0, 720000.0, 1450000.0, 3650000.0, 1410000.0, 955000.0, 1410000.0, 732000.0, 1565000.0, 1500000.0, 1100000.0, 1290000.0, 1440000.0, 730000.0, 1211000.0, 620000.0, 1420000.0, 1800000.0, 3065000.0, 1750000.0, 1920000.0, 1615000.0, 1300000.0, 1880000.0, 1750000.0, 1350000.0, 1963000.0, 1620000.0, 1770000.0, 1260000.0, 670000.0, 615000.0, 715000.0, 640000.0, 1200000.0, 695000.0, 880000.0, 490000.0, 725000.0, 676500.0, 721000.0, 520000.0, 580000.0, 840000.0, 893000.0, 832000.0, 673000.0, 728000.0, 695000.0, 935000.0, 555000.0, 815000.0, 915000.0, 930000.0, 725500.0, 746000.0, 750000.0, 740000.0, 490000.0, 657000.0, 865000.0, 905000.0, 2050000.0, 2025000.0, 1950000.0, 1895000.0, 1390000.0, 2415000.0, 1437000.0, 3010000.0, 2355000.0, 927000.0, 2325000.0, 1970000.0, 1000000.0, 2300000.0, 1490000.0, 1210000.0, 980000.0, 2273000.0, 1837000.0, 1105000.0, 1253000.0, 1505000.0, 1500000.0, 2210000.0, 940000.0, 922000.0, 1555000.0, 2305000.0, 1915000.0, 1135000.0, 1120000.0, 1625000.0, 1500000.0, 707500.0, 1870000.0, 1370000.0, 1680000.0, 1300000.0, 1750000.0, 1100000.0, 1230000.0, 960000.0, 1297000.0, 1015000.0, 1335000.0, 1055000.0, 1670000.0, 1650000.0, 950000.0, 1782500.0, 870000.0, 975000.0, 560000.0, 560000.0, 550000.0, 1105000.0, 730000.0, 662500.0, 986500.0, 920000.0, 1320000.0, 680000.0, 1011000.0, 847000.0, 1072000.0, 865000.0, 820000.0, 456000.0, 1460000.0, 780000.0, 675000.0, 905000.0, 907000.0, 820000.0, 940000.0, 460000.0, 884500.0, 1010000.0, 820000.0, 820000.0, 750000.0, 610000.0, 1630000.0, 760000.0, 2600000.0, 2350000.0, 2956000.0, 2360000.0, 2005000.0, 2623000.0, 1500000.0, 1910000.0, 2588000.0, 1310000.0, 1200000.0, 1564000.0, 670000.0, 1055000.0, 1440000.0, 990000.0, 1400000.0, 1550000.0, 1170000.0, 880000.0, 832000.0, 565000.0, 1630000.0, 1160000.0, 1065000.0, 1260000.0, 1505000.0, 1100000.0, 1145000.0, 840000.0, 890500.0, 1370000.0, 1400000.0, 855000.0, 930000.0, 1480000.0, 1435000.0, 842500.0, 1425000.0, 1345000.0, 1250000.0, 870000.0, 1725000.0, 650000.0, 850000.0, 1683000.0, 1130000.0, 930000.0, 800000.0, 1111000.0, 1224000.0, 1020000.0, 1000000.0, 1090000.0, 836000.0, 1417250.0, 980000.0, 1110000.0, 750000.0, 931000.0, 987000.0, 937000.0, 910000.0, 785000.0, 901000.0, 975000.0, 960000.0, 725000.0, 981000.0, 975000.0, 800000.0, 917000.0, 890000.0, 1008000.0, 920000.0, 825000.0, 800000.0, 1025000.0, 826000.0, 900000.0, 962000.0, 785000.0, 920000.0, 655800.0, 1210000.0, 880000.0, 1400000.0, 995000.0, 1220000.0, 785000.0, 930000.0, 930000.0, 800000.0, 1305000.0, 1060000.0, 950000.0, 810000.0, 776000.0, 1002500.0, 807500.0, 950000.0, 923000.0, 1046000.0, 716000.0, 735000.0, 950000.0, 1675000.0, 1176000.0, 1185000.0, 770000.0, 1200000.0, 993000.0, 901000.0, 891500.0, 805000.0, 988000.0, 747000.0, 910000.0, 1199000.0, 1100000.0, 1151000.0, 1040000.0, 945000.0, 900000.0, 830000.0, 780000.0, 1020000.0, 1235000.0, 770000.0, 895500.0, 820000.0, 800000.0, 991000.0, 970000.0, 710000.0, 840000.0, 975000.0, 600000.0, 785000.0, 840000.0, 1076000.0, 1065000.0, 773000.0, 700000.0, 760000.0, 1015000.0, 875000.0, 1020000.0, 773000.0, 1100000.0, 1155000.0, 746000.0, 1105000.0, 960000.0, 815000.0, 1635000.0, 1340000.0, 1325000.0, 1300000.0, 1385000.0, 1470000.0, 1000000.0, 1065000.0, 1200000.0, 1382500.0, 1310000.0, 1980000.0, 1335000.0, 1710000.0, 860000.0, 1655000.0, 1255000.0, 990000.0, 1300000.0, 830000.0, 1190000.0, 865000.0, 1085000.0, 926000.0, 1050000.0, 1010000.0, 1900000.0, 1160000.0, 1860000.0, 1676000.0, 900000.0, 1300000.0, 810000.0, 2315000.0, 1715000.0, 1396500.0, 1474000.0, 1340000.0, 980000.0, 1760000.0, 975000.0, 1121000.0, 1225000.0, 1400000.0, 1090000.0, 1000000.0, 980000.0, 2160000.0, 1610000.0, 1080000.0, 1450000.0, 1400000.0, 1130000.0, 1510000.0, 1500000.0, 892000.0, 647000.0, 706000.0, 358500.0, 770000.0, 727500.0, 925000.0, 651000.0, 770000.0, 900000.0, 815500.0, 770000.0, 810000.0, 550000.0, 680000.0, 981000.0, 875000.0, 802000.0, 995000.0, 782000.0, 937500.0, 1080000.0, 1000000.0, 1235000.0, 921000.0, 800000.0, 1067000.0, 800000.0, 1260500.0, 850500.0, 980500.0, 1068000.0, 1360000.0, 2236000.0, 1403000.0, 965000.0, 1040000.0, 1120000.0, 770000.0, 770000.0, 780000.0, 600000.0, 1465000.0, 767000.0, 731000.0, 585000.0, 738000.0, 522500.0, 1305000.0, 815000.0, 775000.0, 900000.0, 810000.0, 835000.0, 790000.0, 667500.0, 900000.0, 683500.0, 590000.0, 770000.0, 815000.0, 975000.0, 515000.0, 940000.0, 600000.0, 750000.0, 983000.0, 600000.0, 430000.0, 1000000.0, 533000.0, 600000.0, 616000.0, 792000.0, 960000.0, 670000.0, 690000.0, 880000.0, 700000.0, 600000.0, 721000.0, 612500.0, 960000.0, 650000.0, 500000.0, 599000.0, 1150000.0, 985000.0, 1200000.0, 2200000.0, 1630000.0, 1470000.0, 1342000.0, 1421000.0, 1916000.0, 1560000.0, 1753000.0, 1565000.0, 1670000.0, 1402000.0, 1570000.0, 1515000.0, 1384000.0, 2260000.0, 1305000.0, 1100000.0, 1520000.0, 1655000.0, 1351000.0, 2460000.0, 3705000.0, 950000.0, 1350000.0, 2100000.0, 1380000.0, 1080000.0, 1405000.0, 1240000.0, 1400000.0, 685000.0, 710000.0, 1430000.0, 1245000.0, 1730000.0, 1358000.0, 1650000.0, 1350000.0, 1100000.0, 1651000.0, 1530000.0, 1450000.0, 1811000.0, 1015000.0, 1720000.0, 1050000.0, 2385000.0, 1255000.0, 2180000.0, 1720000.0, 1220000.0, 1612000.0, 1442000.0, 1250000.0, 855000.0, 930000.0, 1200000.0, 721000.0, 751000.0, 637000.0, 1265000.0, 1100000.0, 950000.0, 840000.0, 496000.0, 560000.0, 1150000.0, 965000.0, 700000.0, 615000.0, 735000.0, 550000.0, 1000000.0, 843000.0, 925000.0, 1080000.0, 916000.0, 1000000.0, 1650000.0, 990000.0, 600000.0, 485000.0, 900000.0, 910000.0, 550000.0, 690000.0, 1200000.0, 798000.0, 1355000.0, 815000.0, 971000.0, 900000.0, 930000.0, 842000.0, 980000.0, 800000.0, 930000.0, 1080000.0, 1040000.0, 1000000.0, 800000.0, 928000.0, 1070000.0, 714000.0, 1226000.0, 810000.0, 1127000.0, 750000.0, 980000.0, 670000.0, 850000.0, 890000.0, 1123000.0, 1040000.0, 1050000.0, 1040000.0, 605000.0, 890000.0, 1000000.0, 810000.0, 923000.0, 1150000.0, 1330000.0, 821000.0, 888500.0, 1186000.0, 900000.0, 800000.0, 1030000.0, 715000.0, 1162500.0, 930000.0, 875000.0, 805000.0, 750000.0, 475000.0, 731000.0, 723000.0, 685000.0, 620000.0, 620000.0, 1025000.0, 805000.0, 645000.0, 1005000.0, 920000.0, 800000.0, 510000.0, 651000.0, 502500.0, 620500.0, 730000.0, 665000.0, 625000.0, 998000.0, 900000.0, 500000.0, 915000.0, 800000.0, 600000.0, 530000.0, 592000.0, 650000.0, 610000.0, 890000.0, 301000.0, 865000.0, 650000.0, 810000.0, 780000.0, 660000.0, 540000.0, 678000.0, 812000.0, 682000.0, 500000.0, 940000.0, 585000.0, 546000.0, 400000.0, 592500.0, 830000.0, 655000.0, 410000.0, 765000.0, 715000.0, 680000.0, 650000.0, 540000.0, 685000.0, 800000.0, 830000.0, 539000.0, 622500.0, 780000.0, 668000.0, 1120000.0, 470000.0, 800000.0, 655000.0, 885000.0, 703000.0, 613000.0, 779000.0, 475000.0, 950000.0, 905000.0, 767000.0, 871000.0, 450000.0, 921500.0, 787000.0, 670500.0, 475000.0, 851500.0, 572000.0, 600000.0, 450000.0, 692500.0, 785000.0, 700000.0, 866000.0, 810000.0, 601000.0, 928000.0, 815000.0, 882500.0, 793000.0, 550000.0, 672000.0, 751000.0, 851000.0, 777000.0, 620000.0, 1025000.0, 762500.0, 832000.0, 784000.0, 665000.0, 718500.0, 737000.0, 810000.0, 705000.0, 705000.0, 1260000.0, 1236000.0, 1600000.0, 2180000.0, 1102000.0, 1010000.0, 1152500.0, 1422000.0, 1350000.0, 1090000.0, 1474000.0, 1555000.0, 1275000.0, 1150000.0, 1250000.0, 1100000.0, 1346000.0, 1074000.0, 1205000.0, 1465000.0, 1182000.0, 1115000.0, 760000.0, 1710000.0, 1420000.0, 3020000.0, 1346000.0, 1820000.0, 1088000.0, 911000.0, 1285000.0, 900000.0, 1695000.0, 1365000.0, 1765000.0, 1275000.0, 2000000.0, 931000.0, 2640000.0, 1550000.0, 1456000.0, 1100000.0, 2000000.0, 1285000.0, 945000.0, 1270000.0, 975000.0, 1100000.0, 1850000.0, 1650000.0, 1320000.0, 1651000.0, 1032000.0, 915000.0, 1075000.0, 791500.0, 1600000.0, 1555000.0, 1361000.0, 1540000.0, 1582000.0, 2055000.0, 1012000.0, 1570000.0, 1345000.0, 1350000.0, 1405000.0, 1495000.0, 1410000.0, 1400000.0, 1270000.0, 1165000.0, 1185000.0, 1520000.0, 560000.0, 1050000.0, 1155000.0, 620000.0, 780000.0, 720000.0, 600000.0, 860000.0, 1012000.0, 1020000.0, 515000.0, 780000.0, 1000000.0, 867000.0, 945000.0, 601000.0, 852000.0, 710000.0, 990000.0, 908000.0, 1145000.0, 970000.0, 1325000.0, 1330000.0, 1075000.0, 937500.0, 1350000.0, 990000.0, 880000.0, 920000.0, 1395000.0, 965000.0, 920000.0, 1001000.0, 875000.0, 1080000.0, 1126000.0, 881000.0, 1200000.0, 1032000.0, 965000.0, 1310000.0, 1600000.0, 1270000.0, 2633000.0, 1405000.0, 1595000.0, 1250000.0, 862000.0, 1200000.0, 2000000.0, 1250000.0, 1650000.0, 770000.0, 1825000.0, 1550000.0, 891000.0, 1450000.0, 1390000.0, 1185000.0, 2300000.0, 1720000.0, 742000.0, 2075000.0, 2525000.0, 1230000.0, 1510000.0, 1880000.0, 750000.0, 1460000.0, 1250000.0, 1630000.0, 2300000.0, 2695000.0, 2870000.0, 1072000.0, 1700000.0, 740000.0, 2285000.0, 3000000.0, 805000.0, 1780000.0, 2395000.0, 1810000.0, 2010000.0, 1945000.0, 906000.0, 1125000.0, 1400000.0, 1800000.0, 2200000.0, 1700000.0, 1056800.0, 2400000.0, 1540000.0, 1715000.0, 1700000.0, 720000.0, 868000.0, 1220000.0, 740000.0, 700000.0, 720000.0, 1040000.0, 855000.0, 1080000.0, 927000.0, 831000.0, 835000.0, 1035000.0, 775000.0, 1016000.0, 690000.0, 1070000.0, 1891000.0, 1500000.0, 2000000.0, 616000.0, 610000.0, 1400000.0, 2720000.0, 1900000.0, 920000.0, 1295000.0, 1120000.0, 1600000.0, 1678000.0, 720000.0, 1030000.0, 1225000.0, 905000.0, 1025000.0, 1430000.0, 1330000.0, 1200000.0, 1194000.0, 850000.0, 1150000.0, 910000.0, 622500.0, 1500000.0, 1080000.0, 1205000.0, 1075000.0, 1000000.0, 1400000.0, 1160000.0, 600000.0, 1285000.0, 800000.0, 950000.0, 625000.0, 735000.0, 1001000.0, 780000.0, 745000.0, 657500.0, 460000.0, 725000.0, 620000.0, 460000.0, 910000.0, 702000.0, 580000.0, 490000.0, 675000.0, 715000.0, 816000.0, 950000.0, 735000.0, 595000.0, 735000.0, 610000.0, 600000.0, 595999.0, 590000.0, 701000.0, 655000.0, 750000.0, 607500.0, 850000.0, 605000.0, 880000.0, 570000.0, 700000.0, 571000.0, 625000.0, 695000.0, 794000.0, 890000.0, 910000.0, 607000.0, 679500.0, 500000.0, 762500.0, 590000.0, 635000.0, 711000.0, 591500.0, 701000.0, 555000.0, 490000.0, 620500.0, 480000.0, 607000.0, 600000.0, 670000.0, 571500.0, 630000.0, 685000.0, 690000.0, 808000.0, 790000.0, 600000.0, 650000.0, 605000.0, 650000.0, 725000.0, 635800.0, 432500.0, 621000.0, 580000.0, 680000.0, 700000.0, 650000.0, 591000.0, 665000.0, 710000.0, 520000.0, 620000.0, 503000.0, 650000.0, 871000.0, 496000.0, 488000.0, 560000.0, 615000.0, 450000.0, 581000.0, 680000.0, 620000.0, 545000.0, 515000.0, 687000.0, 668000.0, 485000.0, 665000.0, 500000.0, 825000.0, 480000.0, 544500.0, 575000.0, 650000.0, 593000.0, 690000.0, 625000.0, 660000.0, 472500.0, 547500.0, 590000.0, 555000.0, 587000.0, 600000.0, 622500.0, 795000.0, 682000.0, 520000.0, 470000.0, 586000.0, 305000.0, 486000.0, 530000.0, 500000.0, 510000.0, 545000.0, 750500.0, 451000.0, 1110000.0, 2009000.0, 1330500.0, 1325000.0, 930000.0, 2100000.0, 1700000.0, 1910000.0, 736000.0, 1864000.0, 2200000.0, 1960000.0, 880000.0, 1755000.0, 1150000.0, 1560000.0, 1185000.0, 865000.0, 1135000.0, 2300000.0, 2180000.0, 1205000.0, 1251000.0, 1150000.0, 1098000.0, 742500.0, 1101000.0, 641000.0, 1200000.0, 1290000.0, 1051000.0, 1065000.0, 1010000.0, 1210000.0, 766000.0, 982000.0, 725000.0, 1211000.0, 1155000.0, 940000.0, 1053000.0, 1002000.0, 755000.0, 1050000.0, 1220000.0, 2025000.0, 838000.0, 650000.0, 1509000.0, 510000.0, 865000.0, 910000.0, 1135000.0, 1430000.0, 1210000.0, 887000.0, 701000.0, 1265000.0, 898000.0, 1235000.0, 910500.0, 995000.0, 1400000.0, 1200000.0, 920000.0, 1110000.0, 1200000.0, 1190000.0, 1020000.0, 1245000.0, 1427000.0, 1290000.0, 1620000.0, 1250000.0, 1070000.0, 1570000.0, 1100000.0, 1280000.0, 1280000.0, 1913000.0, 1272000.0, 1200000.0, 1370000.0, 1160000.0, 1430000.0, 1380000.0, 1200000.0, 1435000.0, 1635000.0, 1689000.0, 1100000.0, 1635000.0, 2400000.0, 2650000.0, 2820000.0, 2840000.0, 2700000.0, 6250000.0, 1550000.0, 2205000.0, 1300000.0, 2050000.0, 950000.0, 1900000.0, 4200000.0, 910000.0, 2250000.0, 3270000.0, 1170000.0, 960000.0, 880000.0, 770000.0, 820000.0, 765000.0, 920000.0, 775000.0, 440000.0, 820000.0, 870000.0, 915000.0, 660000.0, 581000.0, 1000000.0, 785000.0, 600000.0, 690000.0, 582000.0, 740000.0, 671000.0, 741000.0, 725000.0, 808000.0, 711000.0, 537000.0, 1040000.0, 800000.0, 922000.0, 860500.0, 702000.0, 627500.0, 632000.0, 601000.0, 549000.0, 645000.0, 838000.0, 1010000.0, 650000.0, 1260000.0, 2370000.0, 660000.0, 995000.0, 1130000.0, 1120000.0, 601000.0, 1535000.0, 890000.0, 1800000.0, 2910000.0, 1200000.0, 1460000.0, 1200000.0, 1560000.0, 1575000.0, 1470000.0, 1460000.0, 1010000.0, 1010000.0, 906000.0, 935000.0, 1000000.0, 1270000.0, 1360000.0, 975000.0, 1310000.0, 965000.0, 1262000.0, 1210000.0, 960000.0, 1482500.0, 1710000.0, 1225000.0, 1850000.0, 825000.0, 2302000.0, 1540000.0, 1370000.0, 830000.0, 2368000.0, 1200000.0, 1320000.0, 1910000.0, 810000.0, 753000.0, 602500.0, 742000.0, 650000.0, 731000.0, 710000.0, 720000.0, 720000.0, 936000.0, 800000.0, 721000.0, 1000000.0, 1165000.0, 770000.0, 871000.0, 780000.0, 770000.0, 960000.0, 670000.0, 1320000.0, 1100000.0, 931000.0, 910000.0, 670000.0, 1050000.0, 1414000.0, 1930000.0, 1035000.0, 1040000.0, 1419000.0, 1050000.0, 850000.0, 796000.0, 1217500.0, 1055000.0, 620000.0, 681000.0, 950000.0, 955000.0, 1005000.0, 600000.0, 1020000.0, 1250000.0, 865000.0, 781500.0, 745000.0, 867000.0, 955000.0, 1081000.0, 725000.0, 1450000.0, 1430000.0, 1275000.0, 670000.0, 908000.0, 1380000.0, 966000.0, 845000.0, 980000.0, 800000.0, 1460000.0, 840000.0, 900500.0, 940000.0, 760000.0, 935000.0, 1160000.0, 1190000.0, 1860000.0, 1195000.0, 726000.0, 1300000.0, 773000.0, 885000.0, 770000.0, 645000.0, 720000.0, 625000.0, 828000.0, 676000.0, 1310000.0, 1350000.0, 940000.0, 930000.0, 1495000.0, 899000.0, 1170000.0, 1574000.0, 1125000.0, 800000.0, 1679000.0, 1050000.0, 825000.0, 998000.0, 1010000.0, 910000.0, 1050000.0, 1600000.0, 1325000.0, 570000.0, 1335000.0, 805000.0, 892000.0, 1435000.0, 368000.0, 455000.0, 735000.0, 860000.0, 1662000.0, 1590000.0, 920000.0, 1600000.0, 875000.0, 1550000.0, 1110000.0, 3520000.0, 810000.0, 1245000.0, 800000.0, 787500.0, 685000.0, 925000.0, 730000.0, 810000.0, 970000.0, 1110000.0, 1115000.0, 820000.0, 670000.0, 645000.0, 687000.0, 455000.0, 585000.0, 662000.0, 615000.0, 650000.0, 665000.0, 640000.0, 526000.0, 540000.0, 625000.0, 681000.0, 690000.0, 640000.0, 660000.0, 783000.0, 553500.0, 460000.0, 751000.0, 609000.0, 605000.0, 691500.0, 850000.0, 650000.0, 538000.0, 650000.0, 400000.0, 527000.0, 538000.0, 860000.0, 515000.0, 617000.0, 550000.0, 643000.0, 631000.0, 782000.0, 640000.0, 470000.0, 532000.0, 620000.0, 652500.0, 480000.0, 492000.0, 422500.0, 2151000.0, 1220000.0, 1865000.0, 1650000.0, 1615000.0, 1600000.0, 1450000.0, 1110000.0, 1700000.0, 935000.0, 735000.0, 1420000.0, 1790000.0, 2100000.0, 1825000.0, 1538000.0, 1320000.0, 1890000.0, 1240000.0, 1590000.0, 3020000.0, 1625000.0, 2040000.0, 1650000.0, 1625000.0, 975000.0, 620000.0, 1220000.0, 550000.0, 1705000.0, 1110000.0, 750000.0, 1000000.0, 690000.0, 808000.0, 655000.0, 1195000.0, 850000.0, 1076000.0, 1375000.0, 1400000.0, 1030000.0, 1455000.0, 1125000.0, 1605000.0, 2150000.0, 1260000.0, 1651000.0, 1050000.0, 551000.0, 350000.0, 425000.0, 537000.0, 600000.0, 460000.0, 611000.0, 495000.0, 421000.0, 480000.0, 980000.0, 690000.0, 607500.0, 1155000.0, 817000.0, 1035000.0, 760000.0, 967500.0, 1340000.0, 925000.0, 1470000.0, 1160000.0, 1100000.0, 820000.0, 975000.0, 1060000.0, 1430000.0, 1370000.0, 1355000.0, 785000.0, 1420000.0, 1365000.0, 860000.0, 835000.0, 1076000.0, 1100000.0, 1090000.0, 1220000.0, 1260000.0, 1401000.0, 1708000.0, 1256000.0, 900000.0, 1770000.0, 1250000.0, 822500.0, 1322000.0, 973000.0, 1535000.0, 932000.0, 940000.0, 820000.0, 940000.0, 1470000.0, 1690000.0, 1061000.0, 1074000.0, 1021000.0, 1415000.0, 850000.0, 347000.0, 723000.0, 967000.0, 840000.0, 910000.0, 820000.0, 756000.0, 845000.0, 620000.0, 875000.0, 915000.0, 991000.0, 913000.0, 709000.0, 900000.0, 1575000.0, 1028000.0, 1151500.0, 860000.0, 805000.0, 935000.0, 660000.0, 820000.0, 878000.0, 730000.0, 593000.0, 720000.0, 685000.0, 600000.0, 560000.0, 625000.0, 791000.0, 760000.0, 840000.0, 430000.0, 892000.0, 1160000.0, 1330000.0, 880000.0, 1076000.0, 1045000.0, 1225000.0, 1035000.0, 690000.0, 1050000.0, 1045000.0, 865000.0, 1033000.0, 1025000.0, 637000.0, 633500.0, 1124000.0, 1225000.0, 665000.0, 1280000.0, 1475000.0, 1900000.0, 1300000.0, 1300000.0, 985000.0, 845000.0, 941000.0, 1030000.0, 508000.0, 855000.0, 1257000.0, 1650000.0, 1380000.0, 860000.0, 720000.0, 501000.0, 722000.0, 685000.0, 455000.0, 575000.0, 566000.0, 1250000.0, 1700000.0, 1300000.0, 1700000.0, 2155000.0, 2115000.0, 2150000.0, 2035000.0, 1285000.0, 916000.0, 750000.0, 910000.0, 1635000.0, 1005000.0, 2120000.0, 1435000.0, 1041000.0, 1490000.0, 1230000.0, 890000.0, 765000.0, 881000.0, 760000.0, 1922000.0, 700000.0, 1670000.0, 1110000.0, 894000.0, 1500000.0, 1303000.0, 1375000.0, 1286000.0, 1968500.0, 845000.0, 641500.0, 986000.0, 830000.0, 767000.0, 1200000.0, 1175000.0, 1225000.0, 1055000.0, 810000.0, 850000.0, 1640000.0, 809000.0, 1510000.0, 1165000.0, 959000.0, 1251000.0, 1205000.0, 910000.0, 1760000.0, 2080000.0, 925000.0, 771000.0, 441700.0, 730000.0, 2575000.0, 2140000.0, 2225000.0, 2100000.0, 1392000.0, 2445000.0, 1900000.0, 1990000.0, 3025000.0, 1502000.0, 1221000.0, 725000.0, 1975000.0, 1635000.0, 1743000.0, 2291000.0, 1270000.0, 1400000.0, 1640000.0, 972000.0, 1652000.0, 1210000.0, 1115000.0, 1300000.0, 1260000.0, 1200000.0, 981000.0, 1450000.0, 1075000.0, 957000.0, 1440000.0, 1500000.0, 670000.0, 645000.0, 1222000.0, 1060000.0, 1220000.0, 1097000.0, 1100000.0, 1270000.0, 670000.0, 1200000.0, 860000.0, 1100000.0, 794000.0, 1360000.0, 975000.0, 1465500.0, 1385000.0, 1590000.0, 1930000.0, 2570000.0, 1620000.0, 1861000.0, 1905000.0, 835000.0, 1775000.0, 3725000.0, 1614500.0, 1300000.0, 1105000.0, 1200000.0, 945000.0, 1390000.0, 577000.0, 1000000.0, 1350000.0, 701000.0, 905000.0, 988000.0, 820000.0, 1500000.0, 1652500.0, 1660000.0, 995000.0, 790000.0, 1180000.0, 940500.0, 824000.0, 985000.0, 1020000.0, 990000.0, 1250000.0, 710000.0, 720000.0, 720000.0, 875000.0, 887000.0, 1308000.0, 1309000.0, 1300000.0, 1000000.0, 1350000.0, 1542000.0, 1700000.0, 1355000.0, 1700000.0, 1070000.0, 1400000.0, 1400000.0, 1131000.0, 1400000.0, 983000.0, 700000.0, 960000.0, 1500000.0, 700000.0, 660000.0, 741000.0, 532000.0, 698000.0, 687000.0, 670000.0, 1000000.0, 730000.0, 668000.0, 543500.0, 1625000.0, 2555000.0, 1250000.0, 940000.0, 1205000.0, 1085000.0, 917000.0, 1320000.0, 760000.0, 1375000.0, 1270000.0, 871000.0, 831000.0, 895000.0, 1452000.0, 1800000.0, 1253000.0, 2085000.0, 3310000.0, 1601000.0, 1315000.0, 683000.0, 1158000.0, 780000.0, 895000.0, 885000.0, 597500.0, 690000.0, 822000.0, 710000.0, 730000.0, 901000.0, 643000.0, 595000.0, 820000.0, 621000.0, 705000.0, 590000.0, 680000.0, 935000.0, 720000.0, 725000.0, 740000.0, 630000.0, 1615000.0, 2513000.0, 1620000.0, 1560000.0, 1475000.0, 1700000.0, 1300000.0, 1525000.0, 1985000.0, 1750000.0, 780000.0, 1264000.0, 1575000.0, 1890000.0, 1405000.0, 2102000.0, 1340000.0, 1271000.0, 575000.0, 601000.0, 805000.0, 657000.0, 630000.0, 880000.0, 687000.0, 855000.0, 640000.0, 810000.0, 950000.0, 998000.0, 990000.0, 970000.0, 1851000.0, 1110000.0, 1060000.0, 2400000.0, 1740000.0, 570000.0, 843000.0, 835000.0, 635000.0, 745000.0, 941000.0, 738000.0, 912000.0, 745000.0, 752000.0, 690000.0, 1965000.0, 835000.0, 1402000.0, 1205000.0, 1190000.0, 860000.0, 760000.0, 873000.0, 680000.0, 725000.0, 675000.0, 930000.0, 2250000.0, 2000000.0, 2250000.0, 1380000.0, 2020000.0, 1220000.0, 895000.0, 1587000.0, 1670000.0, 1100000.0, 1420200.0, 1070000.0, 1240000.0, 1410000.0, 1255000.0, 2000000.0, 1530000.0, 1400000.0, 1200000.0, 1325500.0, 975000.0, 900000.0, 1410000.0, 828000.0, 1370000.0, 1075000.0, 1100000.0, 1312000.0, 960000.0, 935000.0, 810000.0, 1200000.0, 850000.0, 944000.0, 800000.0, 1450000.0, 500000.0, 1300000.0, 1610000.0, 1235000.0, 955000.0, 601000.0, 755000.0, 1400000.0, 648000.0, 655000.0, 1205000.0, 1300000.0, 960000.0, 835000.0, 2790000.0, 755000.0, 800000.0, 806000.0, 585000.0, 708000.0, 800000.0, 560000.0, 1017500.0, 770000.0, 1400000.0, 2400000.0, 1251000.0, 880000.0, 1190000.0, 1045000.0, 1121000.0, 715000.0, 917500.0, 800000.0, 1015000.0, 880000.0, 1020000.0, 1000000.0, 1010000.0, 910000.0, 1215000.0, 801000.0, 1010000.0, 690000.0, 1100000.0, 1055000.0, 725000.0, 615000.0, 1010000.0, 595000.0, 665000.0, 631000.0, 815000.0, 610000.0, 801000.0, 760000.0, 605000.0, 741000.0, 1214000.0, 790000.0, 1400000.0, 1785000.0, 2060000.0, 1052000.0, 3000000.0, 1330000.0, 1590000.0, 940000.0, 950000.0, 847000.0, 2240000.0, 2050000.0, 1820000.0, 1780000.0, 680000.0, 710000.0, 1320000.0, 920000.0, 3475000.0, 2030000.0, 2050000.0, 1361000.0, 1000000.0, 1190000.0, 1021000.0, 925000.0, 900000.0, 995000.0, 940000.0, 950000.0, 651500.0, 841000.0, 710000.0, 840000.0, 660000.0, 692000.0, 830000.0, 600000.0, 718000.0, 490000.0, 716000.0, 511000.0, 530000.0, 700000.0, 521000.0, 571000.0, 710000.0, 1525000.0, 1652000.0, 940000.0, 1503500.0, 950000.0, 1370000.0, 1385000.0, 1180000.0, 1750000.0, 1345000.0, 1080000.0, 1195000.0, 865000.0, 1100000.0, 998000.0, 1346000.0, 1130000.0, 1275000.0, 1200000.0, 880000.0, 810000.0, 880000.0, 677500.0, 715000.0, 895000.0, 580000.0, 815000.0, 890000.0, 900000.0, 830000.0, 1040000.0, 935000.0, 975000.0, 1245000.0, 1150000.0, 1290000.0, 1330000.0, 935000.0, 990000.0, 1131500.0, 935000.0, 892000.0, 1070000.0, 1370000.0, 750000.0, 970000.0, 1120000.0, 1425000.0, 872500.0, 950000.0, 1000000.0, 1165000.0, 872500.0, 720000.0, 985000.0, 510000.0, 800000.0, 700000.0, 580000.0, 621000.0, 600000.0, 840000.0, 1165000.0, 1912500.0, 1380000.0, 1670000.0, 1680000.0, 1520000.0, 850000.0, 1940000.0, 950000.0, 1875000.0, 1520000.0, 2725000.0, 1326000.0, 680000.0, 741000.0, 485000.0, 616000.0, 773000.0, 917500.0, 1190000.0, 902500.0, 1420000.0, 1630000.0, 2250000.0, 1321000.0, 860000.0, 2161000.0, 1485000.0, 770000.0, 985100.0, 815000.0, 1042500.0, 815000.0, 995000.0, 1290000.0, 1320000.0, 1100000.0, 660000.0, 840000.0, 2400000.0, 1320000.0, 922500.0, 670000.0, 1070000.0, 1575000.0, 720000.0, 1045000.0, 721500.0, 984000.0, 1406000.0, 1305000.0, 488000.0, 1750000.0, 1171000.0, 445000.0, 640000.0, 961000.0, 570000.0, 900000.0, 1225000.0, 622000.0, 825000.0, 1050000.0, 1275000.0, 640000.0, 500000.0, 1365000.0, 1045000.0, 642000.0, 840000.0, 2650000.0, 465000.0, 518500.0, 1100000.0, 1060000.0, 805000.0, 682000.0, 535000.0, 1180000.0, 630000.0, 1320000.0, 1760000.0, 545000.0, 950000.0, 1116000.0, 1030000.0, 1077000.0, 805000.0, 515500.0, 660000.0, 627000.0, 760000.0, 840000.0, 530500.0, 975000.0, 805000.0, 1325000.0, 864000.0, 750000.0, 1550000.0, 720000.0, 1852000.0, 850500.0, 640000.0, 611000.0, 755000.0, 625000.0, 525000.0, 847000.0, 662500.0, 1210000.0, 1140000.0, 1000000.0, 650000.0, 790000.0, 726500.0, 710000.0, 750000.0, 810000.0, 735000.0, 967000.0, 520000.0, 530000.0, 1020000.0, 635000.0, 895000.0, 2110000.0, 1050000.0, 480000.0, 610000.0, 950000.0, 970000.0, 655000.0, 960000.0, 1175000.0, 1205000.0, 944000.0, 1385000.0, 2000000.0, 650000.0, 655000.0, 1330000.0, 1605000.0, 1415000.0, 926000.0, 1000000.0, 820000.0, 870000.0, 800000.0, 1663000.0, 1631000.0, 1665000.0, 840000.0, 825000.0, 572000.0, 386000.0, 1235000.0, 752500.0, 565000.0, 610000.0, 420000.0, 650000.0, 525000.0, 780000.0, 2100000.0, 1385000.0, 451500.0, 526000.0, 427500.0, 551200.0, 542000.0, 500000.0, 917000.0, 905000.0, 1015000.0, 510000.0, 427000.0, 845000.0, 578000.0, 480000.0, 1240000.0, 1115000.0, 845000.0, 1250000.0, 850000.0, 2500000.0, 2120000.0, 787000.0, 585000.0, 2385000.0, 1500000.0, 1000000.0, 1810000.0, 700000.0, 1185000.0, 935000.0, 1315000.0, 836000.0, 706500.0, 1336000.0, 1175000.0, 1935000.0, 1950000.0, 897000.0, 1590000.0, 1435000.0, 1900000.0, 1200000.0, 1160000.0, 1320000.0, 780000.0, 1171000.0, 2050000.0, 1570000.0, 1275000.0, 1435000.0, 600000.0, 881000.0, 1080000.0, 840000.0, 1240000.0, 1300000.0, 880000.0, 690000.0, 1600000.0, 1157000.0, 690000.0, 877500.0, 678000.0, 595000.0, 816000.0, 1285000.0, 1360000.0, 545000.0, 842000.0, 540000.0, 620000.0, 1025000.0, 900000.0, 1320000.0, 786000.0, 1200000.0, 700000.0, 712000.0, 775000.0, 663500.0, 805000.0, 605000.0, 764000.0, 700000.0, 452000.0, 1890000.0, 695000.0, 817000.0, 760000.0, 680000.0, 731000.0, 827000.0, 627000.0, 680000.0, 690000.0, 970000.0, 1875000.0, 1465000.0, 701000.0, 850000.0, 885000.0, 1190000.0, 485000.0, 530000.0, 515000.0, 555500.0, 910000.0, 1300000.0, 2525000.0, 580000.0, 670000.0, 855000.0, 2260000.0, 1180000.0, 521000.0, 4900000.0, 2265000.0, 1780000.0, 815000.0, 885000.0, 2010000.0, 1850000.0, 663500.0, 556500.0, 569000.0, 1850000.0, 1090500.0, 730000.0, 1640000.0, 1011000.0, 880000.0, 1256000.0, 1232000.0, 1245000.0, 740000.0, 945000.0, 1315000.0, 1770000.0, 630000.0, 1725000.0, 1325000.0, 1400000.0, 850000.0, 930000.0, 881000.0, 660000.0, 945000.0, 1210000.0, 970000.0, 725000.0, 990000.0, 972500.0, 955000.0, 1900000.0, 1040000.0, 857700.0, 642500.0, 1676000.0, 1301000.0, 766000.0, 622000.0, 425000.0, 1710000.0, 515000.0, 540000.0, 1360000.0, 1180000.0, 790000.0, 644000.0, 1400000.0, 805000.0, 2400000.0, 455000.0, 410000.0, 775000.0, 690500.0, 520000.0, 680000.0, 790500.0, 695000.0, 1350000.0, 580000.0, 740000.0, 1240000.0, 2000000.0, 820000.0, 750000.0, 1200000.0, 655000.0, 531000.0, 490000.0, 472000.0, 467000.0, 390000.0, 1155000.0, 1100000.0, 540000.0, 1408000.0, 1494000.0, 1285000.0, 950000.0, 1225000.0, 730000.0, 1650000.0, 853000.0, 670000.0, 765000.0, 820000.0, 870000.0, 1230000.0, 1650000.0, 860000.0, 750000.0, 2380000.0, 1557000.0, 1420000.0, 1490000.0, 616000.0, 1116000.0, 1573000.0, 1316000.0, 1617000.0, 950000.0, 1525000.0, 850000.0, 1228000.0, 1112000.0, 1001000.0, 1300000.0, 2020000.0, 1410000.0, 374000.0, 1925000.0, 950000.0, 1010000.0, 763000.0, 1100000.0, 687000.0, 680000.0, 1100000.0, 918000.0, 968000.0, 1775000.0, 1840000.0, 1550000.0, 500000.0, 561000.0, 1237000.0, 740000.0, 1051000.0, 1170000.0, 861000.0, 1462000.0, 745000.0, 1100000.0, 365000.0, 567000.0, 862000.0, 980000.0, 850000.0, 2270000.0, 1875000.0, 1460000.0, 755000.0, 568000.0, 1100000.0, 800000.0, 1394000.0, 1600000.0, 855000.0, 1177000.0, 1131000.0, 540000.0, 3056000.0, 1900000.0, 655000.0, 1550000.0, 780000.0, 785000.0, 810000.0, 601000.0, 970000.0, 2120000.0, 2100000.0, 2225000.0, 655000.0, 670000.0, 590000.0, 1155000.0, 555000.0, 535000.0, 1093800.0, 550000.0, 1001000.0, 690000.0, 1375000.0, 1975000.0, 638000.0, 716000.0, 960000.0, 419000.0, 1051000.0, 517000.0, 800000.0, 1850000.0, 581000.0, 1530000.0, 1360000.0, 1530000.0, 901000.0, 757500.0, 757000.0, 900000.0, 1561000.0, 1300000.0, 635000.0, 1305000.0, 1516000.0, 840000.0, 913000.0, 806000.0, 840000.0, 820000.0, 1218500.0, 940000.0, 850000.0, 1199000.0, 1388000.0, 1420000.0, 2200000.0, 1017500.0, 510000.0, 635000.0, 780000.0, 1255000.0, 1120000.0, 1190000.0, 1425000.0, 800000.0, 755000.0, 760000.0, 782500.0, 900000.0, 900000.0, 1250000.0, 460000.0, 610000.0, 630000.0, 500000.0, 455000.0, 810000.0, 805000.0, 453000.0, 780000.0, 471000.0, 558000.0, 1240000.0, 1031000.0, 2500000.0, 940000.0, 835000.0, 1010000.0, 830000.0, 442000.0, 830000.0, 1400000.0, 855000.0, 1210000.0, 737500.0, 905000.0, 526500.0, 1800000.0, 1020000.0, 1280000.0, 875000.0, 1010000.0, 819000.0, 990000.0, 1200000.0, 1375000.0, 1100000.0, 1850000.0, 1475000.0, 700000.0, 1410000.0, 817000.0, 1225000.0, 690000.0, 880000.0, 1530000.0, 1264000.0, 810000.0, 2655000.0, 3275000.0, 1300000.0, 1275000.0, 1204000.0, 1445000.0, 796000.0, 690000.0, 1325000.0, 1052000.0, 1381000.0, 1000000.0, 1717500.0, 1950000.0, 590000.0, 1520000.0, 800000.0, 877000.0, 900000.0, 1199000.0, 780000.0, 862500.0, 425000.0, 985500.0, 720000.0, 408500.0, 310000.0, 620000.0, 716000.0, 645000.0, 840000.0, 801000.0, 1255000.0, 1369000.0, 902000.0, 967500.0, 1800000.0, 930000.0, 1390000.0, 650000.0, 800000.0, 545000.0, 570000.0, 860000.0, 653000.0, 1610000.0, 512000.0, 1326000.0, 895000.0, 730000.0, 770000.0, 1325000.0, 957000.0, 1236000.0, 1750000.0, 2370000.0, 781000.0, 660000.0, 480000.0, 1035000.0, 975000.0, 556000.0, 875000.0, 575000.0, 1250000.0, 1995000.0, 3001000.0, 752000.0, 705500.0, 560000.0, 810000.0, 1275000.0, 1690000.0, 815000.0, 467000.0, 420000.0, 465000.0, 960000.0, 755000.0, 1375000.0, 1401500.0, 620000.0, 1200000.0, 870000.0, 1250000.0, 865000.0, 1410000.0, 1220500.0, 597500.0, 1250000.0, 1230000.0, 1220000.0, 660000.0, 1000000.0, 1240000.0, 1590000.0, 1275000.0, 1350000.0, 821000.0, 1210000.0, 1265000.0, 1400000.0, 955000.0, 800000.0, 1242000.0, 691000.0, 875000.0, 1020000.0, 630000.0, 877500.0, 685000.0, 911000.0, 1300000.0, 1530000.0, 1291000.0, 1085000.0, 750000.0, 833800.0, 1085000.0, 1700000.0, 900000.0, 1810000.0, 785000.0, 770000.0, 600000.0, 883000.0, 1650000.0, 755000.0, 518000.0, 1050000.0, 1181000.0, 632500.0, 460000.0, 651000.0, 831000.0, 1250000.0, 1420000.0, 640000.0, 825000.0, 1160000.0, 1370000.0, 2080000.0, 852000.0, 1402500.0, 856000.0, 1505000.0, 1900000.0, 600000.0, 1005000.0, 1850000.0, 1530000.0, 865000.0, 1370000.0, 1082000.0, 1775000.0, 1300000.0, 1330000.0, 1590000.0, 780000.0, 1199000.0, 890000.0, 1430000.0, 955000.0, 1080000.0, 590000.0, 1600000.0, 1211000.0, 1370000.0, 1750800.0, 505000.0, 663000.0, 1505000.0, 1700000.0, 1280000.0, 1405000.0, 1265000.0, 1300000.0, 714000.0, 1405000.0, 1837500.0, 593000.0, 1732000.0, 1253500.0, 780000.0, 1622000.0, 1290000.0, 1930000.0, 1628000.0, 1042000.0, 1450000.0, 1010000.0, 1145000.0, 755000.0, 700000.0, 1460000.0, 1090000.0, 865000.0, 499000.0, 430000.0, 420000.0, 637000.0, 800000.0, 560000.0, 665000.0, 570000.0, 435000.0, 1060000.0, 871000.0, 1451000.0, 1385000.0, 1360000.0, 1060000.0, 855000.0, 1360000.0, 500000.0, 573000.0, 380500.0, 528000.0, 465000.0, 830000.0, 886000.0, 850000.0, 1050000.0, 710000.0, 805000.0, 577000.0, 670000.0, 1100000.0, 491000.0, 566000.0, 740000.0, 755000.0, 1501000.0, 1500000.0, 1440000.0, 1330000.0, 1135000.0, 865000.0, 922000.0, 963500.0, 815000.0, 740000.0, 770000.0, 550000.0, 870000.0, 561000.0, 1870000.0, 2402500.0, 1955000.0, 1702000.0, 2680000.0, 715000.0, 800000.0, 1010000.0, 630000.0, 605000.0, 580000.0, 1600000.0, 520000.0, 553100.0, 418000.0, 505000.0, 492000.0, 442500.0, 1203500.0, 1250000.0, 1475000.0, 1640000.0, 590500.0, 895000.0, 825000.0, 806000.0, 752500.0, 1300000.0, 660000.0, 1110000.0, 1650000.0, 600000.0, 487000.0, 572000.0, 793000.0, 1700000.0, 1060000.0, 295000.0, 410000.0, 1010000.0, 3750000.0, 1750000.0, 775000.0, 820000.0, 1130000.0, 960000.0, 900000.0, 806000.0, 1160000.0, 700000.0, 1615000.0, 800000.0, 1160000.0, 715000.0, 980000.0, 730000.0, 676000.0, 802000.0, 1285000.0, 1512000.0, 1235000.0, 777000.0, 972000.0, 1292000.0, 1415000.0, 1560000.0, 876000.0, 802000.0, 736000.0, 755000.0, 920000.0, 1115000.0, 550000.0, 1171000.0, 996000.0, 817000.0, 635000.0, 700000.0, 860000.0, 1250000.0, 1280000.0, 930000.0, 1100000.0, 630000.0, 1315000.0, 1085000.0, 835000.0, 1430000.0, 1000000.0, 650000.0, 865000.0, 1070000.0, 632000.0, 905000.0, 1785000.0, 1580000.0, 1620000.0, 645000.0, 705000.0, 550000.0, 630000.0, 740000.0, 1225000.0, 390000.0, 555000.0, 695000.0, 870000.0, 705000.0, 570000.0, 372000.0, 597000.0, 500000.0, 1367000.0, 862000.0, 670000.0, 820000.0, 680000.0, 720000.0, 1107500.0, 285000.0, 1291000.0, 775000.0, 797000.0, 1180000.0, 460000.0, 386000.0, 1037000.0, 1100000.0, 1330000.0, 937000.0, 730000.0, 660000.0, 1530000.0, 1150000.0, 636000.0, 1530000.0, 430000.0, 360000.0, 930000.0, 1018000.0, 1297000.0, 725000.0, 465000.0, 557000.0, 650000.0, 806000.0, 892000.0, 1345000.0, 1530000.0, 1423000.0, 1300000.0, 655000.0, 490000.0, 490000.0, 392250.0, 1000000.0, 1398000.0, 664000.0, 1900000.0, 800000.0, 565000.0, 810000.0, 1908000.0, 1070000.0, 805000.0, 721000.0, 866000.0, 735000.0, 1300000.0, 400000.0, 575500.0, 600000.0, 1430000.0, 1510000.0, 880000.0, 775000.0, 675000.0, 620000.0, 700000.0, 635000.0, 1205000.0, 1410000.0, 811000.0, 710500.0, 752000.0, 622000.0, 650000.0, 876000.0, 450000.0, 440000.0, 373500.0, 940000.0, 767500.0, 705000.0, 705000.0, 592000.0, 602000.0, 1095000.0, 1320000.0, 650000.0, 1627000.0, 1150000.0, 1375000.0, 850000.0, 1850000.0, 1620000.0, 1000000.0, 650000.0, 1040000.0, 1002000.0, 1365000.0, 875000.0, 880000.0, 1150000.0, 1122000.0, 1210000.0, 1150000.0, 925000.0, 526250.0, 760000.0, 690000.0, 860000.0, 1000000.0, 640000.0, 1720000.0, 690000.0, 420000.0, 1016000.0, 600000.0, 711100.0, 582000.0, 730000.0, 750000.0, 487000.0, 830500.0, 551000.0, 450000.0, 1280000.0, 795000.0, 1138000.0, 477000.0, 605000.0, 610000.0, 580000.0, 451000.0, 453350.0, 570000.0, 778000.0, 790000.0, 529000.0, 484000.0, 410000.0, 1200000.0, 1285000.0, 1635000.0, 1375000.0, 700000.0, 1625000.0, 1225000.0, 660000.0, 767000.0, 1250000.0, 2299500.0, 951000.0, 1750000.0, 1360000.0, 1739000.0, 720000.0, 1006000.0, 1175000.0, 1290000.0, 1100000.0, 1246000.0, 1525000.0, 830000.0, 1900000.0, 1296000.0, 2150000.0, 1680000.0, 616000.0, 632000.0, 1310000.0, 1615000.0, 1200000.0, 535000.0, 685000.0, 1170000.0, 560000.0, 1650000.0, 1370000.0, 687500.0, 552500.0, 1275000.0, 1095000.0, 640000.0, 729500.0, 716000.0, 555000.0, 730000.0, 702500.0, 766000.0, 665000.0, 475000.0, 815000.0, 736000.0, 1400000.0, 780000.0, 830000.0, 925000.0, 900000.0, 1225000.0, 561000.0, 556000.0, 441000.0, 552000.0, 1165000.0, 700000.0, 904000.0, 2700000.0, 1060000.0, 1705000.0, 850250.0, 1220000.0, 610000.0, 850000.0, 775000.0, 629000.0, 452500.0, 1690000.0, 1910000.0, 1311000.0, 770000.0, 714000.0, 815000.0, 1345000.0, 1500000.0, 1425000.0, 1910000.0, 1485000.0, 2825000.0, 1040000.0, 912000.0, 1250000.0, 680000.0, 720000.0, 697500.0, 810000.0, 1242000.0, 516000.0, 950000.0, 550000.0, 850000.0, 518500.0, 1225000.0, 1510000.0, 1007000.0, 570000.0, 900000.0, 570000.0, 650000.0, 798000.0, 755000.0, 710000.0, 1650000.0, 2020000.0, 2500000.0, 2500000.0, 1200000.0, 940000.0, 900000.0, 1071000.0, 973000.0, 881100.0, 1225000.0, 930000.0, 900000.0, 730000.0, 1195000.0, 1230000.0, 1225000.0, 2775000.0, 1310000.0, 1051000.0, 1206000.0, 900000.0, 940000.0, 1114000.0, 520000.0, 1900000.0, 1270000.0, 980000.0, 1540000.0, 935000.0, 510000.0, 732000.0, 1450000.0, 800000.0, 1400000.0, 870000.0, 1750000.0, 940000.0, 702000.0, 1742000.0, 1016000.0, 700000.0, 650000.0, 938000.0, 1775000.0, 659500.0, 1350000.0, 1204000.0, 610000.0, 670000.0, 1860000.0, 1400000.0, 1350000.0, 865000.0, 900000.0, 700000.0, 483000.0, 455000.0, 700000.0, 729000.0, 900000.0, 1100000.0, 920000.0, 815000.0, 440500.0, 451500.0, 825000.0, 762000.0, 1306000.0, 1420000.0, 805000.0, 2330000.0, 1721000.0, 650000.0, 762000.0, 1350000.0, 1070000.0, 1200000.0, 1100000.0, 785000.0, 570500.0, 710000.0, 1320000.0, 1840000.0, 525000.0, 960000.0, 696000.0, 1950000.0, 900000.0, 662000.0, 625500.0, 459000.0, 420500.0, 618500.0, 727000.0, 535000.0, 560000.0, 802000.0, 800000.0, 1735000.0, 920000.0, 904000.0, 500000.0, 1440000.0, 900000.0, 600000.0, 630000.0, 1550000.0, 1410000.0, 750000.0, 1502000.0, 878000.0, 440000.0, 506000.0, 426000.0, 690000.0, 800000.0, 896000.0, 1010000.0, 1660000.0, 1200000.0, 1150000.0, 1100000.0, 536500.0, 541000.0, 557000.0, 559000.0, 930000.0, 920000.0, 840000.0, 860000.0, 840000.0, 1080000.0, 740000.0, 930000.0, 702000.0, 520000.0, 430000.0, 520000.0, 341000.0, 336000.0, 775500.0, 726000.0, 1045000.0, 820000.0, 1301000.0, 935000.0, 637500.0, 780000.0, 1800000.0, 1700000.0, 1260000.0, 956000.0, 620000.0, 605000.0, 740000.0, 990000.0, 752000.0, 1307500.0, 1100000.0, 1050000.0, 1800000.0, 1550000.0, 970000.0, 1190000.0, 629000.0, 881000.0, 953000.0, 550000.0, 725000.0, 880000.0, 1175000.0, 710000.0, 735000.0, 755000.0, 537000.0, 725000.0, 2800000.0, 760000.0, 550000.0, 805000.0, 1000000.0, 860000.0, 532000.0, 960000.0, 630000.0, 508000.0, 1236000.0, 1111500.0, 622000.0, 826000.0, 740000.0, 505000.0, 570000.0, 453000.0, 700000.0, 800000.0, 982500.0, 1400000.0, 1042000.0, 1230000.0, 1005000.0, 2050000.0, 1680000.0, 1005000.0, 950000.0, 620000.0, 830000.0, 730000.0, 645000.0, 855000.0, 1310000.0, 1060000.0, 970000.0, 750000.0, 2668000.0, 1850000.0, 1640000.0, 1610000.0, 755000.0, 1020000.0, 874000.0, 560000.0, 1500000.0, 450000.0, 560000.0, 1120000.0, 1260000.0, 680000.0, 1830000.0, 920000.0, 1400000.0, 1050000.0, 825000.0, 977500.0, 1050000.0, 1285000.0, 890000.0, 607500.0, 500000.0, 515000.0, 510000.0, 1005000.0, 669000.0, 880000.0, 560000.0, 572000.0, 550000.0, 816000.0, 900000.0, 1975000.0, 1200000.0, 751000.0, 410000.0, 545000.0, 1620000.0, 1535000.0, 740000.0, 900000.0, 742000.0, 1011000.0, 665000.0, 645000.0, 627000.0, 1800000.0, 1000000.0, 940000.0, 725000.0, 476500.0, 550000.0, 1930000.0, 1405000.0, 751000.0, 1515000.0, 1460000.0, 520000.0, 528000.0, 918000.0, 777000.0, 565000.0, 330000.0, 798000.0, 560000.0, 447000.0, 681000.0, 1005000.0, 1638000.0, 640000.0, 420000.0, 375000.0, 326000.0, 400000.0, 412250.0, 371500.0, 725000.0, 1101000.0, 1267000.0, 755000.0, 862000.0, 815500.0, 1100000.0, 650000.0, 1290000.0, 1335000.0, 1875000.0, 980000.0, 1590000.0, 882500.0, 910000.0, 777000.0, 510000.0, 1651000.0, 886000.0, 601000.0, 500000.0, 700000.0, 627000.0, 1180000.0, 500000.0, 438000.0, 910000.0, 595000.0, 710000.0, 615000.0, 2225000.0, 620000.0, 530000.0, 446000.0, 520000.0, 530000.0, 630000.0, 760000.0, 502000.0, 651000.0, 631000.0, 715500.0, 1110000.0, 822000.0, 988000.0, 855000.0, 630000.0, 830000.0, 710000.0, 850000.0, 383000.0, 471500.0, 412500.0, 452000.0, 485000.0, 850000.0, 915000.0, 400000.0, 620000.0, 780000.0, 555000.0, 613000.0, 580000.0, 627000.0, 1185000.0, 1600000.0, 606000.0, 537000.0, 900000.0, 1500000.0, 1435000.0, 900000.0, 1260000.0, 620000.0, 1215000.0, 790000.0, 800000.0, 1240000.0, 586000.0, 550000.0, 1750500.0, 835000.0, 640000.0, 1280000.0, 682000.0, 920000.0, 1151000.0, 518000.0, 625000.0, 480000.0, 750000.0, 770000.0, 830000.0, 455000.0, 390000.0, 745000.0, 928000.0, 1420000.0, 1120000.0, 970000.0, 1120000.0, 1460000.0, 508000.0, 450000.0, 1035000.0, 1820000.0, 630000.0, 676000.0, 580000.0, 500000.0, 560000.0, 1002000.0, 1315000.0, 1875000.0, 1800000.0, 661000.0, 861000.0, 760000.0, 655000.0, 570000.0, 1130000.0, 820000.0, 760000.0, 680000.0, 629500.0, 900000.0, 860000.0, 1460000.0, 901000.0, 835000.0, 1257000.0, 1200000.0, 1030000.0, 1260000.0, 485000.0, 540000.0, 990000.0, 620500.0, 750000.0, 1060000.0, 1405000.0, 1500000.0, 745000.0, 725000.0, 375000.0, 544000.0, 580500.0, 700000.0, 565500.0, 670000.0, 360000.0, 510000.0, 300000.0, 385000.0, 668000.0, 650000.0, 635000.0, 943000.0, 1245000.0, 920000.0, 696000.0, 1635000.0, 1406000.0, 9000000.0, 1001000.0, 1965000.0, 950000.0, 695000.0, 681000.0, 1610000.0, 813000.0, 1250000.0, 840000.0, 840000.0, 940000.0, 2730000.0, 1030000.0, 905000.0, 1045000.0, 670000.0, 605000.0, 1310000.0, 1400000.0, 393200.0, 460000.0, 490000.0, 730000.0, 2200000.0, 690000.0, 475000.0, 495000.0, 695000.0, 760000.0, 583500.0, 1050000.0, 585000.0, 685000.0, 693000.0, 1245000.0, 867000.0, 590500.0, 1000000.0, 891000.0, 615500.0, 394000.0, 597000.0, 635000.0, 601000.0, 1050000.0, 1285000.0, 525300.0, 913000.0, 590000.0, 1070000.0, 985000.0, 1785000.0, 824000.0, 1470000.0, 1160000.0, 1320000.0, 2831000.0, 1590000.0, 1775000.0, 673000.0, 1200000.0, 680000.0, 814000.0, 715000.0, 657500.0, 930000.0, 1295000.0, 1436000.0, 1210000.0, 457000.0, 1005000.0, 790000.0, 931000.0, 857000.0, 477000.0, 500000.0, 510000.0, 632000.0, 1482000.0, 1381000.0, 1620000.0, 1171000.0, 881017.0, 557500.0, 1500000.0, 801000.0, 1492000.0, 760000.0, 2300000.0, 1500000.0, 810000.0, 938000.0, 1155000.0, 680000.0, 650000.0, 1300000.0, 1850000.0, 2152500.0, 1160000.0, 1370000.0, 815000.0, 830000.0, 815000.0, 780000.0, 700000.0, 1080000.0, 685000.0, 685500.0, 722000.0, 1430000.0, 983000.0, 482000.0, 430000.0, 438000.0, 960500.0, 840000.0, 1210000.0, 1800000.0, 650000.0, 1425000.0, 1550000.0, 1140000.0, 676000.0, 1010000.0, 540000.0, 1764000.0, 861000.0, 612500.0, 906000.0, 758000.0, 1120000.0, 515000.0, 645000.0, 1280000.0, 482000.0, 662000.0, 713500.0, 705000.0, 1375000.0, 900000.0, 782000.0, 510000.0, 660000.0, 1460000.0, 950000.0, 1525000.0, 890000.0, 1195000.0, 1000001.0, 1064000.0, 675000.0, 1170000.0, 870000.0, 870000.0, 780000.0, 880000.0, 640000.0, 1750000.0, 1354000.0, 1532000.0, 1390000.0, 834500.0, 649000.0, 875000.0, 980000.0, 1263000.0, 948000.0, 850000.0, 985000.0, 1250500.0, 805000.0, 1326000.0, 589000.0, 630000.0, 1209000.0, 481000.0, 1400000.0, 375000.0, 641000.0, 993000.0, 797000.0, 1750000.0, 820000.0, 1010000.0, 690000.0, 660000.0, 625000.0, 2200000.0, 932000.0, 750000.0, 1850000.0, 1670000.0, 2710000.0, 1768000.0, 811000.0, 510000.0, 600000.0, 1535000.0, 678500.0, 1031100.0, 1076500.0, 680000.0, 1950000.0, 1700000.0, 1655000.0, 915000.0, 1100000.0, 685000.0, 741000.0, 1510000.0, 1902000.0, 473000.0, 875000.0, 710000.0, 1237000.0, 1205000.0, 1240000.0, 720000.0, 888000.0, 922000.0, 1341500.0, 1110000.0, 1103000.0, 850000.0, 1845000.0, 1000000.0, 1650000.0, 1072500.0, 920000.0, 750000.0, 755000.0, 870000.0, 1525000.0, 1200000.0, 580500.0, 1725000.0, 770000.0, 1210000.0, 540000.0, 1360000.0, 388000.0, 493000.0, 498500.0, 770000.0, 595000.0, 616000.0, 1470000.0, 420000.0, 826000.0, 1100000.0, 1960000.0, 1248500.0, 1001000.0, 770000.0, 1715000.0, 1450000.0, 1555000.0, 1300000.0, 870000.0, 2730000.0, 2350000.0, 2030000.0, 1070000.0, 1040000.0, 700000.0, 1725000.0, 840000.0, 1342000.0, 1960000.0, 980000.0, 2770000.0, 1510000.0, 1500000.0, 1508000.0, 578000.0, 875000.0, 1201000.0, 910000.0, 2950000.0, 810000.0, 850000.0, 880000.0, 841000.0, 1300000.0, 492000.0, 858000.0, 682000.0, 629500.0, 751000.0, 469000.0, 531000.0, 915000.0, 1800000.0, 600000.0, 647000.0, 770000.0, 1150000.0, 1170000.0, 1300000.0, 680000.0, 670000.0, 1400000.0, 1738000.0, 1333000.0, 1275000.0, 1750000.0, 922000.0, 661000.0, 2515000.0, 1520000.0, 1450000.0, 1060000.0, 1450000.0, 846000.0, 645500.0, 575000.0, 626000.0, 840000.0, 933000.0, 1950000.0, 1650000.0, 2125000.0, 1975000.0, 1000000.0, 801000.0, 596000.0, 370000.0, 995000.0, 950000.0, 792000.0, 675000.0, 650000.0, 961000.0, 990000.0, 1580000.0, 1007500.0, 828000.0, 1451000.0, 850000.0, 912000.0, 1262000.0, 1186000.0, 1320000.0, 725000.0, 950000.0, 1250000.0, 850000.0, 1160000.0, 1960000.0, 1771000.0, 1610000.0, 1035000.0, 880000.0, 930000.0, 900000.0, 935000.0, 1500000.0, 800000.0, 746000.0, 380000.0, 1305000.0, 770000.0, 1720000.0, 405000.0, 482000.0, 436000.0, 610000.0, 1290000.0, 600500.0, 640000.0, 750000.0, 1300000.0, 2076000.0, 1009000.0, 366000.0, 1070000.0, 792000.0, 470000.0, 515000.0, 870000.0, 1500000.0, 950000.0, 555000.0, 1190000.0, 1425000.0, 1970000.0, 1190000.0, 1000000.0, 506000.0, 880000.0, 730000.0, 1575000.0, 1900000.0, 2321000.0, 1890000.0, 1280000.0, 881000.0, 637000.0, 1335000.0, 905000.0, 1230000.0, 1234000.0, 1588000.0, 1000000.0, 700000.0, 710000.0, 1230000.0, 790000.0, 880000.0, 1070000.0, 582500.0, 485000.0, 475000.0, 635000.0, 871000.0, 1410000.0, 1408000.0, 988000.0, 1925000.0, 875000.0, 2105000.0, 810000.0, 1380000.0, 678000.0, 770000.0, 2478000.0, 1017500.0, 1320000.0, 550000.0, 690000.0, 1300000.0, 1307500.0, 1390000.0, 1310000.0, 1300000.0, 570000.0, 1000000.0, 1080000.0, 2585000.0, 478000.0, 520000.0, 1295000.0, 620000.0, 2180000.0, 1775000.0, 2118000.0, 710000.0, 780000.0, 700000.0, 2030000.0, 1800000.0, 1125000.0, 460000.0, 881000.0, 430000.0, 547000.0, 470000.0, 756000.0, 515000.0, 1150000.0, 1218000.0, 1005500.0, 980000.0, 1230000.0, 1390000.0, 961000.0, 1001000.0, 876000.0, 775500.0, 400000.0, 1412000.0, 1400000.0, 750000.0, 626000.0, 1000000.0, 480500.0, 431250.0, 502500.0, 650000.0, 2567500.0, 490000.0, 412700.0, 1100500.0, 675000.0, 475000.0, 860000.0, 850000.0, 565000.0, 2100000.0, 760000.0, 980000.0, 1500000.0, 1130000.0, 1210000.0, 1840000.0, 755000.0, 800000.0, 724000.0, 1150000.0, 835000.0, 945000.0, 786000.0, 965000.0, 575500.0, 901000.0, 1150000.0, 1280000.0, 1325000.0, 1000000.0, 1080000.0, 1331000.0, 745000.0, 655000.0, 680000.0, 646000.0, 1100000.0, 1015000.0, 795000.0, 1160000.0, 800000.0, 960000.0, 552000.0, 840500.0, 632000.0, 607500.0, 563000.0, 775000.0, 837000.0, 950000.0, 646000.0, 625000.0, 552500.0, 1710000.0, 791100.0, 1210000.0, 1730000.0, 634000.0, 586000.0, 1285000.0, 2450000.0, 850000.0, 1051000.0, 785000.0, 3600000.0, 985000.0, 915000.0, 650000.0, 550000.0, 568000.0, 1205000.0, 605000.0, 572000.0, 680000.0, 790000.0, 900000.0, 2600000.0, 1350000.0, 770000.0, 652000.0, 2500000.0, 283000.0, 439000.0, 815000.0, 665000.0, 902000.0, 1162000.0, 835000.0, 1586000.0, 1105000.0, 840000.0, 1321188.0, 950000.0, 1360000.0, 1075000.0, 763000.0, 760000.0, 1382000.0, 1540000.0, 1060000.0, 1725000.0, 1635000.0, 1463000.0, 1150000.0, 820000.0, 901000.0, 680000.0, 890000.0, 855000.0, 800000.0, 1400000.0, 1900000.0, 1100000.0, 850000.0, 426000.0, 881000.0, 645000.0, 549500.0, 897000.0, 810000.0, 657500.0, 778000.0, 555000.0, 2350000.0, 746000.0, 600000.0, 1250000.0, 700000.0, 720000.0, 515000.0, 430000.0, 840000.0, 879000.0, 1025000.0, 832000.0, 1300000.0, 1360000.0, 1455000.0, 975500.0, 880000.0, 2340000.0, 2225000.0, 920000.0, 791000.0, 2550000.0, 1680000.0, 1900000.0, 1589000.0, 1300000.0, 1311000.0, 1350000.0, 905000.0, 1152000.0, 920000.0, 2060000.0, 1650000.0, 959000.0, 1160000.0, 2350000.0, 580000.0, 1220000.0, 1238000.0, 1340000.0, 1935000.0, 1760000.0, 1400000.0, 532000.0, 615000.0, 990000.0, 725000.0, 975000.0, 950000.0, 460000.0, 412500.0, 465000.0, 1100000.0, 595000.0, 1240000.0, 1580000.0, 755000.0, 750000.0, 1197000.0, 515000.0, 493000.0, 1155000.0, 750000.0, 742000.0, 1688000.0, 600000.0, 842000.0, 1280000.0, 1335000.0, 520000.0, 565000.0, 683000.0, 960000.0, 821000.0, 1750000.0, 2200000.0, 930000.0, 803000.0, 560000.0, 671000.0, 690000.0, 520000.0, 625000.0, 735000.0, 3400000.0, 535000.0, 395000.0, 1002500.0, 2090000.0, 907800.0, 1010000.0, 1072000.0, 1290000.0, 760000.0, 1028800.0, 1035000.0, 940000.0, 845000.0, 1305000.0, 1510000.0, 1060000.0, 910000.0, 640000.0, 800000.0, 700000.0, 1224000.0, 890000.0, 512000.0, 965000.0, 1848000.0, 516000.0, 480000.0, 605000.0, 717500.0, 595000.0, 640000.0, 1715000.0, 350000.0, 1190000.0, 1450000.0, 1271000.0, 540000.0, 970000.0, 582000.0, 1031000.0, 1170000.0], \"yaxis\": \"y\"}, {\"alignmentgroup\": \"True\", \"bingroup\": \"x\", \"histfunc\": \"sum\", \"hovertemplate\": \"Rooms=%{x}<br>sum of Price=%{y}<extra></extra>\", \"legendgroup\": \"4\", \"marker\": {\"color\": \"#00cc96\"}, \"name\": \"4\", \"offsetgroup\": \"4\", \"orientation\": \"v\", \"showlegend\": true, \"type\": \"histogram\", \"x\": [4, 4, 4, 4, 4, 4, 4, 4, 4, 4, 4, 4, 4, 4, 4, 4, 4, 4, 4, 4, 4, 4, 4, 4, 4, 4, 4, 4, 4, 4, 4, 4, 4, 4, 4, 4, 4, 4, 4, 4, 4, 4, 4, 4, 4, 4, 4, 4, 4, 4, 4, 4, 4, 4, 4, 4, 4, 4, 4, 4, 4, 4, 4, 4, 4, 4, 4, 4, 4, 4, 4, 4, 4, 4, 4, 4, 4, 4, 4, 4, 4, 4, 4, 4, 4, 4, 4, 4, 4, 4, 4, 4, 4, 4, 4, 4, 4, 4, 4, 4, 4, 4, 4, 4, 4, 4, 4, 4, 4, 4, 4, 4, 4, 4, 4, 4, 4, 4, 4, 4, 4, 4, 4, 4, 4, 4, 4, 4, 4, 4, 4, 4, 4, 4, 4, 4, 4, 4, 4, 4, 4, 4, 4, 4, 4, 4, 4, 4, 4, 4, 4, 4, 4, 4, 4, 4, 4, 4, 4, 4, 4, 4, 4, 4, 4, 4, 4, 4, 4, 4, 4, 4, 4, 4, 4, 4, 4, 4, 4, 4, 4, 4, 4, 4, 4, 4, 4, 4, 4, 4, 4, 4, 4, 4, 4, 4, 4, 4, 4, 4, 4, 4, 4, 4, 4, 4, 4, 4, 4, 4, 4, 4, 4, 4, 4, 4, 4, 4, 4, 4, 4, 4, 4, 4, 4, 4, 4, 4, 4, 4, 4, 4, 4, 4, 4, 4, 4, 4, 4, 4, 4, 4, 4, 4, 4, 4, 4, 4, 4, 4, 4, 4, 4, 4, 4, 4, 4, 4, 4, 4, 4, 4, 4, 4, 4, 4, 4, 4, 4, 4, 4, 4, 4, 4, 4, 4, 4, 4, 4, 4, 4, 4, 4, 4, 4, 4, 4, 4, 4, 4, 4, 4, 4, 4, 4, 4, 4, 4, 4, 4, 4, 4, 4, 4, 4, 4, 4, 4, 4, 4, 4, 4, 4, 4, 4, 4, 4, 4, 4, 4, 4, 4, 4, 4, 4, 4, 4, 4, 4, 4, 4, 4, 4, 4, 4, 4, 4, 4, 4, 4, 4, 4, 4, 4, 4, 4, 4, 4, 4, 4, 4, 4, 4, 4, 4, 4, 4, 4, 4, 4, 4, 4, 4, 4, 4, 4, 4, 4, 4, 4, 4, 4, 4, 4, 4, 4, 4, 4, 4, 4, 4, 4, 4, 4, 4, 4, 4, 4, 4, 4, 4, 4, 4, 4, 4, 4, 4, 4, 4, 4, 4, 4, 4, 4, 4, 4, 4, 4, 4, 4, 4, 4, 4, 4, 4, 4, 4, 4, 4, 4, 4, 4, 4, 4, 4, 4, 4, 4, 4, 4, 4, 4, 4, 4, 4, 4, 4, 4, 4, 4, 4, 4, 4, 4, 4, 4, 4, 4, 4, 4, 4, 4, 4, 4, 4, 4, 4, 4, 4, 4, 4, 4, 4, 4, 4, 4, 4, 4, 4, 4, 4, 4, 4, 4, 4, 4, 4, 4, 4, 4, 4, 4, 4, 4, 4, 4, 4, 4, 4, 4, 4, 4, 4, 4, 4, 4, 4, 4, 4, 4, 4, 4, 4, 4, 4, 4, 4, 4, 4, 4, 4, 4, 4, 4, 4, 4, 4, 4, 4, 4, 4, 4, 4, 4, 4, 4, 4, 4, 4, 4, 4, 4, 4, 4, 4, 4, 4, 4, 4, 4, 4, 4, 4, 4, 4, 4, 4, 4, 4, 4, 4, 4, 4, 4, 4, 4, 4, 4, 4, 4, 4, 4, 4, 4, 4, 4, 4, 4, 4, 4, 4, 4, 4, 4, 4, 4, 4, 4, 4, 4, 4, 4, 4, 4, 4, 4, 4, 4, 4, 4, 4, 4, 4, 4, 4, 4, 4, 4, 4, 4, 4, 4, 4, 4, 4, 4, 4, 4, 4, 4, 4, 4, 4, 4, 4, 4, 4, 4, 4, 4, 4, 4, 4, 4, 4, 4, 4, 4, 4, 4, 4, 4, 4, 4, 4, 4, 4, 4, 4, 4, 4, 4, 4, 4, 4, 4, 4, 4, 4, 4, 4, 4, 4, 4, 4, 4, 4, 4, 4, 4, 4, 4, 4, 4, 4, 4, 4, 4, 4, 4, 4, 4, 4, 4, 4, 4, 4, 4, 4, 4, 4, 4, 4, 4, 4, 4, 4, 4, 4, 4, 4, 4, 4, 4, 4, 4, 4, 4, 4, 4, 4, 4, 4, 4, 4, 4, 4, 4, 4, 4, 4, 4, 4, 4, 4, 4, 4, 4, 4, 4, 4, 4, 4, 4, 4, 4, 4, 4, 4, 4, 4, 4, 4, 4, 4, 4, 4, 4, 4, 4, 4, 4, 4, 4, 4, 4, 4, 4, 4, 4, 4, 4, 4, 4, 4, 4, 4, 4, 4, 4, 4, 4, 4, 4, 4, 4, 4, 4, 4, 4, 4, 4, 4, 4, 4, 4, 4, 4, 4, 4, 4, 4, 4, 4, 4, 4, 4, 4, 4, 4, 4, 4, 4, 4, 4, 4, 4, 4, 4, 4, 4, 4, 4, 4, 4, 4, 4, 4, 4, 4, 4, 4, 4, 4, 4, 4, 4, 4, 4, 4, 4, 4, 4, 4, 4, 4, 4, 4, 4, 4, 4, 4, 4, 4, 4, 4, 4, 4, 4, 4, 4, 4, 4, 4, 4, 4, 4, 4, 4, 4, 4, 4, 4, 4, 4, 4, 4, 4, 4, 4, 4, 4, 4, 4, 4, 4, 4, 4, 4, 4, 4, 4, 4, 4, 4, 4, 4, 4, 4, 4, 4, 4, 4, 4, 4, 4, 4, 4, 4, 4, 4, 4, 4, 4, 4, 4, 4, 4, 4, 4, 4, 4, 4, 4, 4, 4, 4, 4, 4, 4, 4, 4, 4, 4, 4, 4, 4, 4, 4, 4, 4, 4, 4, 4, 4, 4, 4, 4, 4, 4, 4, 4, 4, 4, 4, 4, 4, 4, 4, 4, 4, 4, 4, 4, 4, 4, 4, 4, 4, 4, 4, 4, 4, 4, 4, 4, 4, 4, 4, 4, 4, 4, 4, 4, 4, 4, 4, 4, 4, 4, 4, 4, 4, 4, 4, 4, 4, 4, 4, 4, 4, 4, 4, 4, 4, 4, 4, 4, 4, 4, 4, 4, 4, 4, 4, 4, 4, 4, 4, 4, 4, 4, 4, 4, 4, 4, 4, 4, 4, 4, 4, 4, 4, 4, 4, 4, 4, 4, 4, 4, 4, 4, 4, 4, 4, 4, 4, 4, 4, 4, 4, 4, 4, 4, 4, 4, 4, 4, 4, 4, 4, 4, 4, 4, 4, 4, 4, 4, 4, 4, 4, 4, 4, 4, 4, 4, 4, 4, 4, 4, 4, 4, 4, 4, 4, 4, 4, 4, 4, 4, 4, 4, 4, 4, 4, 4, 4, 4, 4, 4, 4, 4, 4, 4, 4, 4, 4, 4, 4, 4, 4, 4, 4, 4, 4, 4, 4, 4, 4, 4, 4, 4, 4, 4, 4, 4, 4, 4, 4, 4, 4, 4, 4, 4, 4, 4, 4, 4, 4, 4, 4, 4, 4, 4, 4, 4, 4, 4, 4, 4, 4, 4, 4, 4, 4, 4, 4, 4, 4, 4, 4, 4, 4, 4, 4, 4, 4, 4, 4, 4, 4, 4, 4, 4, 4, 4, 4, 4, 4, 4, 4, 4, 4, 4, 4, 4, 4, 4, 4, 4, 4, 4, 4, 4, 4, 4, 4, 4, 4, 4, 4, 4, 4, 4, 4, 4, 4, 4, 4, 4, 4, 4, 4, 4, 4, 4, 4, 4, 4, 4, 4, 4, 4, 4, 4, 4, 4, 4, 4, 4, 4, 4, 4, 4, 4, 4, 4, 4, 4, 4, 4, 4, 4, 4, 4, 4, 4, 4, 4, 4, 4, 4, 4, 4, 4, 4, 4, 4, 4, 4, 4, 4, 4, 4, 4, 4, 4, 4, 4, 4, 4, 4, 4, 4, 4, 4, 4, 4, 4, 4, 4, 4, 4, 4, 4, 4, 4, 4, 4, 4, 4, 4, 4, 4, 4, 4, 4, 4, 4, 4, 4, 4, 4, 4, 4, 4, 4, 4, 4, 4, 4, 4, 4, 4, 4, 4, 4, 4, 4, 4, 4, 4, 4, 4, 4, 4, 4, 4, 4, 4, 4, 4, 4, 4, 4, 4, 4, 4, 4, 4, 4, 4, 4, 4, 4, 4, 4, 4, 4, 4, 4, 4, 4, 4, 4, 4, 4, 4, 4, 4, 4, 4, 4, 4, 4, 4, 4, 4, 4, 4, 4, 4, 4, 4, 4, 4, 4, 4, 4, 4, 4, 4, 4, 4, 4, 4, 4, 4, 4, 4, 4, 4, 4, 4, 4, 4, 4, 4, 4, 4, 4, 4, 4, 4, 4, 4, 4, 4, 4, 4, 4, 4, 4, 4, 4, 4, 4, 4, 4, 4, 4, 4, 4, 4, 4, 4, 4, 4, 4, 4, 4, 4, 4, 4, 4, 4, 4, 4, 4, 4, 4, 4, 4, 4, 4, 4, 4, 4, 4, 4, 4, 4, 4, 4, 4, 4, 4, 4, 4, 4, 4, 4, 4, 4, 4, 4, 4, 4, 4, 4, 4, 4, 4, 4, 4, 4, 4, 4, 4, 4, 4, 4, 4, 4, 4, 4, 4, 4, 4, 4, 4, 4, 4, 4, 4, 4, 4, 4, 4, 4, 4, 4, 4, 4, 4, 4, 4, 4, 4, 4, 4, 4, 4, 4, 4, 4, 4, 4, 4, 4, 4, 4, 4, 4, 4, 4, 4, 4, 4, 4, 4, 4, 4, 4, 4, 4, 4, 4, 4, 4, 4, 4, 4, 4, 4, 4, 4, 4, 4, 4, 4, 4, 4, 4, 4, 4, 4, 4, 4, 4, 4, 4, 4, 4, 4, 4, 4, 4, 4, 4, 4, 4, 4, 4, 4, 4, 4, 4, 4, 4, 4, 4, 4, 4, 4, 4, 4, 4, 4, 4, 4, 4, 4, 4, 4, 4, 4, 4, 4, 4, 4, 4, 4, 4, 4, 4, 4, 4, 4, 4, 4, 4, 4, 4, 4, 4, 4, 4, 4, 4, 4, 4, 4, 4, 4, 4, 4, 4, 4, 4, 4, 4, 4, 4, 4, 4, 4, 4, 4, 4, 4, 4, 4, 4, 4, 4, 4, 4, 4, 4, 4, 4, 4, 4, 4, 4, 4, 4, 4, 4, 4, 4, 4, 4, 4, 4, 4, 4, 4, 4, 4, 4, 4, 4, 4, 4, 4, 4, 4, 4, 4, 4, 4, 4, 4, 4, 4, 4, 4, 4, 4, 4, 4, 4, 4, 4, 4, 4, 4, 4, 4, 4, 4, 4, 4, 4, 4, 4, 4, 4, 4, 4, 4, 4, 4, 4, 4, 4, 4, 4, 4, 4, 4, 4, 4, 4, 4, 4, 4, 4, 4, 4, 4, 4, 4, 4, 4, 4, 4, 4, 4, 4, 4, 4, 4, 4, 4, 4, 4, 4, 4, 4, 4, 4, 4, 4, 4, 4, 4, 4, 4, 4, 4, 4, 4, 4, 4, 4, 4, 4, 4, 4, 4, 4, 4, 4, 4, 4, 4, 4, 4, 4, 4, 4, 4, 4, 4, 4, 4, 4, 4, 4, 4, 4, 4, 4, 4, 4, 4, 4, 4, 4, 4, 4, 4, 4, 4, 4, 4, 4, 4, 4, 4, 4, 4, 4, 4, 4, 4, 4, 4, 4, 4, 4, 4, 4, 4, 4, 4, 4, 4, 4, 4, 4, 4, 4, 4, 4, 4, 4, 4, 4, 4, 4, 4, 4, 4, 4, 4, 4, 4, 4, 4, 4, 4, 4, 4, 4, 4, 4, 4, 4, 4, 4, 4, 4, 4, 4, 4, 4, 4, 4, 4, 4, 4, 4, 4, 4, 4, 4, 4, 4, 4, 4, 4, 4, 4, 4, 4, 4, 4, 4, 4, 4, 4, 4, 4, 4, 4, 4, 4, 4, 4, 4, 4, 4, 4, 4, 4, 4, 4, 4, 4, 4, 4, 4, 4, 4, 4, 4, 4, 4, 4, 4, 4, 4, 4, 4, 4, 4, 4, 4, 4, 4, 4, 4, 4, 4, 4, 4, 4, 4, 4, 4, 4, 4, 4, 4, 4, 4, 4, 4, 4, 4, 4, 4, 4, 4, 4, 4, 4, 4, 4, 4, 4, 4, 4, 4, 4, 4, 4, 4, 4, 4, 4, 4, 4, 4, 4, 4, 4, 4, 4, 4, 4, 4, 4, 4, 4, 4, 4, 4, 4, 4, 4, 4, 4, 4, 4, 4, 4, 4, 4, 4, 4, 4, 4, 4, 4, 4, 4, 4, 4, 4, 4, 4, 4, 4, 4, 4, 4, 4, 4, 4, 4, 4, 4, 4, 4, 4, 4, 4, 4, 4, 4, 4, 4, 4, 4, 4, 4, 4, 4, 4, 4, 4, 4, 4, 4, 4, 4, 4, 4, 4, 4, 4, 4, 4, 4, 4, 4, 4, 4, 4, 4, 4, 4, 4, 4, 4, 4, 4, 4, 4, 4, 4, 4, 4, 4, 4, 4, 4, 4, 4, 4, 4, 4, 4, 4, 4, 4, 4, 4, 4, 4, 4, 4, 4, 4, 4, 4, 4, 4, 4, 4, 4, 4, 4, 4, 4, 4, 4, 4, 4, 4, 4, 4, 4, 4, 4, 4, 4, 4, 4, 4, 4, 4, 4, 4, 4, 4, 4, 4, 4, 4, 4, 4, 4, 4, 4, 4, 4, 4, 4, 4, 4, 4, 4, 4, 4, 4, 4, 4, 4, 4, 4, 4, 4, 4, 4, 4, 4, 4, 4, 4, 4, 4, 4, 4, 4, 4, 4, 4, 4, 4, 4, 4, 4, 4, 4, 4, 4, 4, 4, 4, 4, 4, 4, 4, 4, 4, 4, 4, 4, 4, 4, 4, 4, 4, 4, 4, 4, 4, 4, 4, 4, 4, 4, 4, 4, 4, 4, 4, 4, 4, 4, 4, 4, 4, 4, 4, 4, 4, 4, 4, 4, 4, 4, 4, 4, 4, 4, 4, 4, 4, 4, 4, 4, 4, 4, 4, 4, 4, 4, 4, 4, 4, 4, 4, 4, 4, 4, 4, 4, 4, 4, 4, 4, 4, 4, 4, 4, 4, 4, 4, 4, 4, 4, 4, 4, 4, 4, 4, 4, 4, 4, 4, 4, 4, 4, 4, 4, 4, 4, 4, 4, 4, 4, 4, 4, 4, 4, 4, 4, 4, 4, 4, 4, 4, 4, 4, 4, 4, 4, 4, 4, 4, 4, 4, 4, 4, 4, 4, 4, 4, 4, 4, 4, 4, 4, 4, 4, 4, 4, 4, 4, 4, 4, 4, 4, 4, 4, 4, 4, 4, 4, 4, 4, 4, 4, 4, 4, 4, 4, 4, 4, 4, 4, 4, 4, 4, 4, 4, 4, 4, 4, 4, 4, 4, 4, 4, 4, 4, 4, 4, 4, 4, 4, 4, 4, 4, 4, 4, 4, 4, 4, 4, 4, 4, 4, 4, 4, 4, 4, 4, 4, 4, 4, 4, 4, 4, 4, 4, 4, 4, 4, 4, 4, 4, 4, 4, 4, 4, 4, 4, 4, 4, 4, 4, 4, 4, 4, 4, 4, 4, 4, 4, 4, 4, 4, 4, 4, 4, 4, 4, 4, 4, 4, 4, 4, 4, 4, 4, 4, 4, 4, 4, 4, 4, 4, 4, 4, 4, 4, 4, 4, 4, 4, 4, 4, 4, 4, 4, 4, 4, 4, 4, 4, 4, 4, 4, 4, 4, 4, 4, 4, 4, 4, 4, 4, 4, 4, 4, 4, 4, 4, 4, 4, 4, 4, 4, 4, 4, 4, 4, 4, 4, 4, 4, 4, 4, 4, 4, 4, 4, 4, 4, 4, 4, 4, 4, 4, 4, 4, 4, 4, 4, 4, 4, 4, 4, 4, 4, 4, 4, 4, 4, 4, 4, 4, 4, 4, 4, 4, 4, 4, 4, 4, 4, 4, 4, 4, 4, 4, 4, 4, 4, 4, 4, 4, 4, 4, 4, 4, 4, 4, 4, 4, 4, 4, 4, 4, 4, 4, 4, 4, 4, 4, 4, 4, 4, 4, 4, 4, 4, 4, 4, 4, 4, 4, 4, 4, 4, 4, 4, 4, 4, 4, 4, 4, 4, 4, 4, 4, 4, 4, 4, 4, 4, 4, 4, 4, 4, 4, 4, 4, 4, 4, 4, 4, 4, 4, 4, 4, 4, 4, 4, 4, 4, 4, 4, 4, 4, 4, 4, 4, 4, 4, 4, 4, 4, 4, 4, 4, 4, 4, 4, 4, 4, 4, 4, 4, 4, 4, 4, 4, 4, 4, 4, 4, 4, 4, 4, 4, 4, 4, 4, 4, 4, 4, 4, 4, 4, 4, 4, 4, 4, 4, 4, 4, 4, 4, 4, 4, 4, 4, 4, 4, 4, 4, 4, 4, 4, 4, 4, 4, 4, 4, 4, 4, 4, 4, 4, 4, 4, 4, 4, 4, 4, 4, 4, 4, 4, 4, 4, 4, 4, 4, 4, 4, 4, 4, 4, 4, 4, 4, 4, 4], \"xaxis\": \"x\", \"y\": [1600000.0, 1330000.0, 1542000.0, 785000.0, 773000.0, 978000.0, 765000.0, 900000.0, 2300000.0, 2800000.0, 4735000.0, 2140000.0, 2000000.0, 1717500.0, 1830000.0, 2100000.0, 1900000.0, 1950000.0, 780000.0, 1780000.0, 1070000.0, 845000.0, 1030000.0, 931000.0, 875000.0, 650000.0, 965000.0, 693000.0, 970000.0, 760000.0, 847500.0, 1200000.0, 3000000.0, 2801000.0, 2200000.0, 3660000.0, 3625000.0, 4200000.0, 2000000.0, 1850000.0, 890000.0, 1340000.0, 1100000.0, 1640000.0, 1480000.0, 1430000.0, 950000.0, 1345000.0, 1110000.0, 1300000.0, 1705000.0, 2650000.0, 2215000.0, 1550000.0, 1800000.0, 1250000.0, 1860000.0, 1790000.0, 1950000.0, 1200000.0, 1500000.0, 1270000.0, 1510000.0, 1100000.0, 1415000.0, 1500000.0, 1240000.0, 1350000.0, 806000.0, 1155000.0, 1200000.0, 1160000.0, 950000.0, 1600000.0, 1100000.0, 680000.0, 762000.0, 790000.0, 605000.0, 890000.0, 1819000.0, 1800000.0, 2400000.0, 2130000.0, 1800000.0, 1750000.0, 3180000.0, 1400000.0, 3270000.0, 2730000.0, 2250000.0, 2188000.0, 2900000.0, 3290000.0, 1801000.0, 2410000.0, 2275000.0, 2000000.0, 1900000.0, 1700000.0, 3230000.0, 1905000.0, 1900000.0, 2205000.0, 1750000.0, 2614000.0, 1825000.0, 2550000.0, 1570000.0, 1750000.0, 1572000.0, 1500000.0, 1400000.0, 1850000.0, 1400000.0, 2130000.0, 1740000.0, 2575000.0, 1388800.0, 1702000.0, 1800000.0, 2910000.0, 1670000.0, 1350000.0, 1950000.0, 3000000.0, 2170000.0, 2525000.0, 3360000.0, 1620000.0, 1712000.0, 1720000.0, 1670000.0, 1675000.0, 1680000.0, 1550000.0, 2205000.0, 1900000.0, 1250000.0, 1530000.0, 1700000.0, 2155000.0, 2150000.0, 1420000.0, 1260000.0, 2700000.0, 1435000.0, 2435000.0, 1300000.0, 1328000.0, 1155000.0, 1815000.0, 2255000.0, 1450000.0, 1860000.0, 1247000.0, 1560000.0, 1385000.0, 1355000.0, 1910000.0, 1041000.0, 1430000.0, 2520000.0, 1150000.0, 1650000.0, 1320000.0, 1380000.0, 1281000.0, 1245000.0, 2620000.0, 1190000.0, 1270000.0, 1960000.0, 1220000.0, 1137500.0, 1100000.0, 1210000.0, 1160000.0, 1200000.0, 1100000.0, 1206000.0, 1415000.0, 1185000.0, 1060000.0, 1010000.0, 1100000.0, 800000.0, 1035000.0, 1352000.0, 1005000.0, 1250000.0, 1110000.0, 1690000.0, 1510000.0, 1310000.0, 1475000.0, 950000.0, 1045000.0, 1465000.0, 1115000.0, 1365000.0, 1698888.0, 1150000.0, 1325000.0, 1175000.0, 1370000.0, 1433500.0, 900000.0, 1040000.0, 1120000.0, 1015000.0, 1255000.0, 1472500.0, 1306000.0, 1620000.0, 880000.0, 1560000.0, 2770000.0, 975000.0, 1600000.0, 1661000.0, 1461400.0, 1506000.0, 1670000.0, 1625000.0, 1430000.0, 1670000.0, 645000.0, 850000.0, 882000.0, 610000.0, 856500.0, 550000.0, 1830000.0, 3695000.0, 3700000.0, 3775000.0, 4250000.0, 2905000.0, 2910000.0, 1761000.0, 2145000.0, 3180000.0, 3320000.0, 2800000.0, 2400000.0, 3295888.0, 2800000.0, 2475000.0, 2700000.0, 3900000.0, 2000000.0, 3050000.0, 1630000.0, 2640000.0, 2250000.0, 2750000.0, 2405000.0, 1500000.0, 1940000.0, 1850000.0, 1310000.0, 2504000.0, 1495000.0, 1825000.0, 2000000.0, 2840000.0, 1100000.0, 1700000.0, 1920000.0, 2570000.0, 1650000.0, 1530000.0, 2050000.0, 1706000.0, 2200000.0, 2150000.0, 1725000.0, 1755000.0, 1650000.0, 1720000.0, 1815000.0, 1447000.0, 1367000.0, 2820000.0, 1389000.0, 2310000.0, 1802500.0, 1500000.0, 2230000.0, 860000.0, 1450000.0, 1115000.0, 1358000.0, 1800000.0, 1350000.0, 1320000.0, 1790000.0, 820000.0, 1875000.0, 1175000.0, 1217000.0, 1410000.0, 1755000.0, 930000.0, 988000.0, 921500.0, 1000000.0, 1700000.0, 1150000.0, 1585000.0, 970000.0, 1300000.0, 1110000.0, 1235000.0, 1505000.0, 1303000.0, 1401000.0, 1225000.0, 1002000.0, 1260000.0, 1085000.0, 1300000.0, 1280000.0, 1320000.0, 1302000.0, 1000000.0, 1300000.0, 1250000.0, 976000.0, 1244000.0, 1100000.0, 1475000.0, 1140000.0, 1351000.0, 1890000.0, 2000000.0, 1682000.0, 1782800.0, 1255000.0, 900000.0, 1800000.0, 1270000.0, 900000.0, 1250000.0, 1410000.0, 1485000.0, 800000.0, 2650000.0, 3225000.0, 2950000.0, 2600000.0, 2090000.0, 1400000.0, 2228000.0, 4760000.0, 2015000.0, 3225000.0, 2030000.0, 2750000.0, 2000000.0, 2950000.0, 1550000.0, 2375000.0, 2620000.0, 4350000.0, 2950000.0, 3800000.0, 3400000.0, 3145000.0, 1742000.0, 1420000.0, 1425000.0, 2175000.0, 2718000.0, 2520000.0, 1950000.0, 1275000.0, 1506000.0, 1830000.0, 1550000.0, 1501000.0, 1450000.0, 1423000.0, 1100000.0, 1410000.0, 1655000.0, 1880000.0, 1518000.0, 1600000.0, 131000.0, 2830000.0, 2625000.0, 2170000.0, 1030000.0, 1774500.0, 1960000.0, 1410000.0, 1570000.0, 1916000.0, 1507000.0, 890000.0, 1042500.0, 965000.0, 1415500.0, 1260000.0, 881000.0, 3010000.0, 1506000.0, 1221000.0, 955000.0, 145000.0, 905000.0, 1131000.0, 1250000.0, 1145000.0, 1742000.0, 865000.0, 1000000.0, 1136000.0, 1155000.0, 650000.0, 1160000.0, 1400000.0, 1250000.0, 990000.0, 1075000.0, 1461000.0, 1150000.0, 975000.0, 838000.0, 1150000.0, 931000.0, 1331000.0, 895000.0, 820000.0, 735000.0, 1050000.0, 1009000.0, 950000.0, 792000.0, 1924500.0, 1408000.0, 855000.0, 1396000.0, 1152000.0, 1868000.0, 1050000.0, 1225000.0, 1316000.0, 1430000.0, 1250000.0, 2000000.0, 1468000.0, 1200000.0, 753000.0, 1250000.0, 985000.0, 1460000.0, 1462500.0, 1350000.0, 1460800.0, 1401000.0, 1782000.0, 1520000.0, 973500.0, 1810000.0, 1650000.0, 2050000.0, 2600000.0, 2550000.0, 2012000.0, 2309000.0, 1100000.0, 1400000.0, 2600000.0, 3000000.0, 1650000.0, 2806000.0, 1007000.0, 1450000.0, 2600000.0, 2050000.0, 1875000.0, 2400000.0, 1875000.0, 2200000.0, 1900000.0, 900000.0, 1965000.0, 1670000.0, 1800000.0, 1250000.0, 1160000.0, 1402000.0, 1775000.0, 1275000.0, 1590000.0, 1295000.0, 1635000.0, 1467000.0, 1500000.0, 1610000.0, 1870000.0, 1726000.0, 1170000.0, 1600000.0, 1535000.0, 2355000.0, 1560000.0, 1270000.0, 1113000.0, 1605000.0, 1160000.0, 1730000.0, 2000000.0, 1780000.0, 3310000.0, 1950000.0, 1620000.0, 4011000.0, 1450000.0, 1950000.0, 3400000.0, 1785000.0, 1700000.0, 2300000.0, 1700000.0, 1225000.0, 977000.0, 841000.0, 1290000.0, 775000.0, 1300000.0, 1100000.0, 699000.0, 1225000.0, 815000.0, 1450000.0, 3400000.0, 1800000.0, 1998000.0, 3110000.0, 1900000.0, 2325000.0, 2538000.0, 2300000.0, 3500000.0, 2077000.0, 2850000.0, 1550000.0, 2020000.0, 2010000.0, 2975000.0, 1800000.0, 2376000.0, 1550000.0, 1700000.0, 1350000.0, 1825000.0, 2016000.0, 2625000.0, 3010000.0, 1950000.0, 1857000.0, 2725000.0, 1920000.0, 2100000.0, 2950000.0, 1390000.0, 1802000.0, 2000000.0, 550000.0, 1025000.0, 702000.0, 608000.0, 607000.0, 630000.0, 600000.0, 1217500.0, 655000.0, 787500.0, 1000000.0, 630000.0, 825000.0, 638000.0, 802500.0, 709000.0, 800000.0, 740000.0, 870000.0, 772500.0, 700000.0, 600500.0, 918000.0, 777000.0, 750074.0, 815000.0, 650000.0, 2800000.0, 3250000.0, 2140000.0, 1600000.0, 1500000.0, 1686500.0, 1680000.0, 3200000.0, 1250000.0, 2420000.0, 2000000.0, 2880000.0, 1460000.0, 1875000.0, 2600000.0, 2400000.0, 1450000.0, 2400000.0, 1515000.0, 2200000.0, 3325000.0, 1460000.0, 2800000.0, 1740000.0, 1800000.0, 2160000.0, 2250000.0, 2130000.0, 1416000.0, 1200000.0, 1650000.0, 2670000.0, 2610000.0, 3225000.0, 1650000.0, 1936000.0, 5050000.0, 1800000.0, 1976000.0, 1370000.0, 758500.0, 1086000.0, 856000.0, 1000500.0, 758000.0, 715000.0, 820000.0, 2120000.0, 1745000.0, 1700000.0, 900000.0, 1337000.0, 1167500.0, 1322000.0, 1601000.0, 2265000.0, 2350000.0, 2400000.0, 1300000.0, 1470000.0, 1615000.0, 1720000.0, 1460000.0, 2090000.0, 1758000.0, 2595000.0, 740000.0, 500000.0, 570000.0, 1095000.0, 751000.0, 500000.0, 560000.0, 900000.0, 816000.0, 845000.0, 920000.0, 886000.0, 970000.0, 920000.0, 1420000.0, 1010000.0, 835000.0, 871000.0, 807000.0, 770000.0, 830000.0, 680000.0, 735000.0, 847000.0, 732000.0, 1675000.0, 975000.0, 1365000.0, 1690000.0, 2130000.0, 2200000.0, 3550000.0, 1950000.0, 2550000.0, 1910000.0, 2315000.0, 2286000.0, 2350000.0, 1312000.0, 2117000.0, 1800000.0, 2513000.0, 2590000.0, 2625000.0, 2265000.0, 2075000.0, 2240000.0, 2800000.0, 1000000.0, 2450000.0, 2460000.0, 2850000.0, 1725000.0, 1750000.0, 2560000.0, 2245000.0, 4005000.0, 2600000.0, 2250000.0, 2490000.0, 1610000.0, 1830000.0, 2081000.0, 1315000.0, 2175000.0, 1315000.0, 826000.0, 1048000.0, 690000.0, 765000.0, 1060000.0, 675000.0, 773000.0, 2300000.0, 3460000.0, 2400000.0, 3800000.0, 4700000.0, 4525000.0, 1617000.0, 1965000.0, 3470000.0, 1300000.0, 1675000.0, 2400000.0, 2355000.0, 1301000.0, 1215000.0, 2200000.0, 2200000.0, 2250000.0, 1185000.0, 1400000.0, 2123000.0, 2800000.0, 1700000.0, 2001000.0, 1690000.0, 1240000.0, 1580000.0, 2960000.0, 2110000.0, 2560000.0, 1350000.0, 1550000.0, 2490000.0, 940000.0, 1100000.0, 940000.0, 1900000.0, 1040000.0, 1048700.0, 1215000.0, 1180000.0, 1117000.0, 770000.0, 1030000.0, 1230000.0, 3120000.0, 2850000.0, 2200000.0, 2335000.0, 2000000.0, 3900000.0, 1715000.0, 1780000.0, 1225000.0, 1445000.0, 1120000.0, 1530000.0, 1350000.0, 2400000.0, 1211000.0, 1395000.0, 1361500.0, 1637000.0, 1322000.0, 1150000.0, 1310000.0, 1833000.0, 1640000.0, 1275000.0, 1345000.0, 726000.0, 1505000.0, 1400000.0, 930000.0, 947500.0, 1140000.0, 1000000.0, 1200000.0, 1426000.0, 1016000.0, 1385000.0, 1300000.0, 1070000.0, 921000.0, 1130000.0, 1035000.0, 1160000.0, 1105000.0, 710000.0, 940000.0, 1082000.0, 1260000.0, 1380000.0, 860000.0, 1620000.0, 970000.0, 1280000.0, 1040000.0, 1115000.0, 1265000.0, 3420000.0, 827500.0, 930000.0, 820000.0, 1316000.0, 1126000.0, 1350000.0, 875000.0, 850000.0, 1080000.0, 1245000.0, 1160000.0, 2920000.0, 1330000.0, 1600000.0, 1590000.0, 1700000.0, 1950000.0, 905000.0, 2270000.0, 1340000.0, 1310000.0, 2100000.0, 2175000.0, 2004000.0, 1830000.0, 1310000.0, 1420000.0, 1950000.0, 1900000.0, 1300000.0, 2340000.0, 1650000.0, 3850000.0, 2315000.0, 865000.0, 1350000.0, 830000.0, 920000.0, 690000.0, 800000.0, 840000.0, 1005000.0, 855333.0, 876000.0, 651000.0, 881500.0, 801347.0, 800000.0, 1310000.0, 937500.0, 1126000.0, 1230000.0, 1717500.0, 2375000.0, 1928000.0, 975000.0, 955000.0, 1196000.0, 605000.0, 930000.0, 730000.0, 990000.0, 810000.0, 970000.0, 822000.0, 640000.0, 1350000.0, 780000.0, 723000.0, 985000.0, 820000.0, 665000.0, 910000.0, 650000.0, 937000.0, 2105000.0, 1915000.0, 1502000.0, 1820000.0, 2160000.0, 1820000.0, 930000.0, 900000.0, 1004000.0, 1082000.0, 931000.0, 810000.0, 914000.0, 910000.0, 1000000.0, 1260000.0, 930000.0, 1400000.0, 1315000.0, 760000.0, 600000.0, 660000.0, 875000.0, 920000.0, 871000.0, 910000.0, 950000.0, 870000.0, 1615000.0, 1142500.0, 840000.0, 750000.0, 770000.0, 851000.0, 1030000.0, 1015000.0, 650000.0, 750000.0, 895500.0, 1700000.0, 811000.0, 670000.0, 786000.0, 767500.0, 1215000.0, 750000.0, 730000.0, 830000.0, 790000.0, 801000.0, 885000.0, 1162000.0, 1186000.0, 885000.0, 680000.0, 3335000.0, 1375000.0, 950000.0, 3001000.0, 1591000.0, 1510000.0, 905000.0, 1645000.0, 1800000.0, 1775000.0, 1500000.0, 1212500.0, 1020000.0, 1051000.0, 821000.0, 915000.0, 890000.0, 1610000.0, 1270000.0, 1720000.0, 1021000.0, 1201000.0, 1455000.0, 970000.0, 920000.0, 1270000.0, 1620000.0, 2260000.0, 2180000.0, 1615000.0, 5700000.0, 2050000.0, 2600000.0, 2667000.0, 990000.0, 1250000.0, 1170000.0, 850000.0, 840000.0, 1315000.0, 1161000.0, 871500.0, 2000000.0, 2220000.0, 2455000.0, 1900000.0, 1950000.0, 4750000.0, 1052000.0, 1015000.0, 1265000.0, 1635000.0, 1300000.0, 1430000.0, 995000.0, 1280000.0, 1715000.0, 920000.0, 1370000.0, 1350500.0, 700000.0, 1030000.0, 890000.0, 691000.0, 670000.0, 888000.0, 590000.0, 930000.0, 835000.0, 895000.0, 700000.0, 1001000.0, 716000.0, 626800.0, 640000.0, 736000.0, 735000.0, 705000.0, 625000.0, 645400.0, 601000.0, 510000.0, 621000.0, 657000.0, 705000.0, 645000.0, 2440000.0, 2128000.0, 2500000.0, 2200000.0, 2345000.0, 2860000.0, 1530000.0, 1930000.0, 1812500.0, 1300000.0, 1455000.0, 1700000.0, 2003000.0, 1850000.0, 2050000.0, 1250000.0, 2060000.0, 1750000.0, 1725000.0, 1850000.0, 2125000.0, 1650000.0, 2160000.0, 2760000.0, 1835000.0, 1751000.0, 1201000.0, 1165000.0, 1257000.0, 990000.0, 1500000.0, 790000.0, 1421000.0, 1120000.0, 1280000.0, 1000000.0, 1325000.0, 945000.0, 975000.0, 1100000.0, 920000.0, 1209000.0, 1118000.0, 1070000.0, 903000.0, 1222000.0, 1650000.0, 1182500.0, 1020000.0, 870000.0, 1358500.0, 1428888.0, 795000.0, 1478000.0, 928500.0, 5500000.0, 5500000.0, 4000000.0, 4000000.0, 4500000.0, 2025000.0, 2620000.0, 4000000.0, 910000.0, 1010000.0, 920250.0, 1080000.0, 730000.0, 1102500.0, 1005000.0, 1042500.0, 940000.0, 895000.0, 1085000.0, 1050000.0, 706000.0, 1171000.0, 2100000.0, 1325000.0, 1400000.0, 1400000.0, 2910000.0, 2640000.0, 3130000.0, 1085000.0, 1815000.0, 2230000.0, 1900000.0, 1330000.0, 1805000.0, 1126000.0, 1172000.0, 2050000.0, 830000.0, 1630000.0, 1300000.0, 2255000.0, 1860000.0, 2440000.0, 881000.0, 1440000.0, 2050000.0, 1605000.0, 700000.0, 915000.0, 953000.0, 840000.0, 793000.0, 1550000.0, 1235000.0, 706000.0, 1320000.0, 1870000.0, 1785000.0, 660000.0, 1200000.0, 1150000.0, 1340000.0, 1401000.0, 925000.0, 1158000.0, 1028000.0, 1606000.0, 970000.0, 1520000.0, 1646000.0, 1346000.0, 3900000.0, 1150000.0, 1200000.0, 1325000.0, 1350000.0, 856000.0, 1550000.0, 1815000.0, 1625000.0, 1900000.0, 1280000.0, 1290000.0, 1630100.0, 1600000.0, 1260000.0, 2033000.0, 2705000.0, 1616000.0, 1162000.0, 2345000.0, 1475000.0, 1422000.0, 1345000.0, 652500.0, 540000.0, 635000.0, 570500.0, 615000.0, 752500.0, 750000.0, 771000.0, 540000.0, 700500.0, 562000.0, 655000.0, 1010000.0, 1425000.0, 3100000.0, 3050000.0, 2800000.0, 2381000.0, 1738000.0, 2920000.0, 1920000.0, 3310000.0, 2450000.0, 2450000.0, 2350000.0, 2200000.0, 1115000.0, 1031000.0, 830000.0, 1362000.0, 1740000.0, 1660000.0, 2200000.0, 1875000.0, 610000.0, 925000.0, 1275000.0, 1336000.0, 1100000.0, 1500000.0, 1610000.0, 1670000.0, 1400000.0, 1200000.0, 1800000.0, 1641000.0, 2250000.0, 1715000.0, 1920000.0, 1918000.0, 1875000.0, 1845000.0, 2005000.0, 1500000.0, 1390000.0, 1850000.0, 1197000.0, 2050000.0, 710000.0, 837000.0, 850000.0, 1225000.0, 530000.0, 850000.0, 830000.0, 830000.0, 816000.0, 660000.0, 991000.0, 1641000.0, 1180000.0, 855000.0, 1925000.0, 1370000.0, 930000.0, 915000.0, 1260000.0, 931999.0, 800000.0, 950000.0, 780000.0, 1562000.0, 1740000.0, 843000.0, 820500.0, 746000.0, 600000.0, 2200000.0, 1908000.0, 1330000.0, 1740000.0, 2950000.0, 1975000.0, 900000.0, 1316500.0, 1126000.0, 850000.0, 1300000.0, 1600000.0, 2000000.0, 1890000.0, 1630000.0, 1725000.0, 1105000.0, 1300000.0, 1920000.0, 1107000.0, 1515000.0, 1860000.0, 1292000.0, 1000000.0, 2900000.0, 4225000.0, 2000000.0, 2415000.0, 2550000.0, 1630000.0, 1700000.0, 1500000.0, 1210000.0, 1385000.0, 1900000.0, 1650000.0, 1310000.0, 1205000.0, 1540000.0, 910000.0, 1207000.0, 813000.0, 1601000.0, 2216000.0, 2110000.0, 2513000.0, 3550000.0, 1980000.0, 5020000.0, 2990000.0, 1855000.0, 1500000.0, 2510000.0, 3450000.0, 1550000.0, 1201000.0, 1667000.0, 1300000.0, 1700000.0, 1825000.0, 680000.0, 1500000.0, 1005000.0, 901000.0, 1240000.0, 770000.0, 1480000.0, 1300000.0, 1400000.0, 1100000.0, 1090000.0, 1880000.0, 1545000.0, 1955000.0, 1400000.0, 1720000.0, 1162500.0, 1760000.0, 2340000.0, 793000.0, 1050000.0, 880000.0, 1910000.0, 2500000.0, 2100000.0, 3600000.0, 2425000.0, 1450000.0, 610000.0, 706000.0, 725000.0, 1340000.0, 2190000.0, 1410000.0, 1650000.0, 3020000.0, 646000.0, 885000.0, 2600000.0, 2150000.0, 1205000.0, 838000.0, 3200000.0, 1290000.0, 1380000.0, 1715157.0, 1510000.0, 1465000.0, 1190000.0, 1850000.0, 1865000.0, 2100000.0, 2365000.0, 1531000.0, 1940000.0, 1515000.0, 955000.0, 1656000.0, 1230000.0, 1560000.0, 956000.0, 1650000.0, 2337000.0, 1822000.0, 2990000.0, 860000.0, 1250000.0, 2525000.0, 1615000.0, 1145000.0, 1600000.0, 1840000.0, 1486000.0, 1425000.0, 3970000.0, 800000.0, 770000.0, 1395000.0, 2700000.0, 1375000.0, 1200000.0, 770000.0, 1075000.0, 1110000.0, 741000.0, 905000.0, 770000.0, 678500.0, 1150000.0, 930000.0, 1005000.0, 800000.0, 1380000.0, 1150000.0, 1160000.0, 2260000.0, 810000.0, 726000.0, 760000.0, 990000.0, 970000.0, 775000.0, 515000.0, 685000.0, 2360000.0, 1490000.0, 1600000.0, 2370000.0, 1181000.0, 1302000.0, 1635000.0, 1140000.0, 1003000.0, 1155000.0, 952000.0, 761000.0, 932500.0, 1435000.0, 970000.0, 1325000.0, 2165000.0, 2075000.0, 1412000.0, 1200000.0, 1500000.0, 1630000.0, 2035000.0, 985500.0, 1455000.0, 1295000.0, 2220000.0, 2085000.0, 1750000.0, 4275000.0, 1291000.0, 990000.0, 970000.0, 618000.0, 1817000.0, 1817000.0, 2860000.0, 1410000.0, 3600000.0, 1520000.0, 2345000.0, 1475000.0, 1221000.0, 1823000.0, 627500.0, 1731000.0, 1088000.0, 922000.0, 665000.0, 932000.0, 875000.0, 940000.0, 1372000.0, 521000.0, 1910000.0, 2900000.0, 650000.0, 640000.0, 965000.0, 761000.0, 750000.0, 320000.0, 670000.0, 520500.0, 2320000.0, 1810000.0, 800000.0, 1225000.0, 1720000.0, 1900000.0, 1100000.0, 780000.0, 2450000.0, 900000.0, 902000.0, 640000.0, 600000.0, 580000.0, 765000.0, 605500.0, 2070000.0, 821000.0, 1115000.0, 645000.0, 510000.0, 525000.0, 1000000.0, 1026000.0, 2220000.0, 1655000.0, 1800000.0, 2405000.0, 1593000.0, 860000.0, 1600000.0, 1200000.0, 1460000.0, 1620000.0, 1580000.0, 1695000.0, 990000.0, 780000.0, 783000.0, 2250000.0, 1400000.0, 1325000.0, 845000.0, 1032000.0, 821000.0, 3050000.0, 1455000.0, 965000.0, 845000.0, 1525000.0, 850000.0, 725000.0, 667000.0, 2600000.0, 1760000.0, 1662000.0, 975000.0, 598000.0, 650000.0, 1360000.0, 821000.0, 1290000.0, 2268000.0, 1750000.0, 750000.0, 3335000.0, 2320000.0, 1305000.0, 1350000.0, 2162000.0, 745000.0, 800001.0, 1085000.0, 1680000.0, 400000.0, 355000.0, 732000.0, 720000.0, 1170000.0, 1337000.0, 950000.0, 1138000.0, 1410000.0, 1120000.0, 830000.0, 1100000.0, 1400000.0, 910000.0, 1200000.0, 2300000.0, 2221000.0, 915000.0, 1010000.0, 653000.0, 1626000.0, 1270000.0, 975000.0, 1171000.0, 1900000.0, 820000.0, 2750000.0, 3200000.0, 1750000.0, 1400000.0, 2170000.0, 1680000.0, 3050000.0, 2444000.0, 2050000.0, 1926000.0, 925000.0, 2700000.0, 1330000.0, 608500.0, 1280000.0, 2100000.0, 1620000.0, 1500000.0, 755000.0, 1580000.0, 1900000.0, 1120000.0, 600000.0, 820000.0, 859000.0, 1071500.0, 750000.0, 1100000.0, 1202000.0, 1120000.0, 885000.0, 1504000.0, 1241000.0, 1125000.0, 840000.0, 1065000.0, 977500.0, 810000.0, 861000.0, 1950000.0, 660000.0, 680000.0, 970000.0, 1155000.0, 2305000.0, 1715000.0, 780000.0, 945000.0, 645000.0, 2053000.0, 7650000.0, 3255000.0, 828000.0, 1230000.0, 1220000.0, 1145000.0, 1120000.0, 1415000.0, 2520000.0, 420000.0, 1700000.0, 596000.0, 2500000.0, 865000.0, 1302000.0, 1289000.0, 651000.0, 1350000.0, 1150000.0, 1352000.0, 1728000.0, 2000000.0, 902000.0, 1005000.0, 1751000.0, 1430000.0, 1071888.0, 1300000.0, 1260000.0, 550000.0, 1805000.0, 2300000.0, 840000.0, 930000.0, 1175000.0, 1005800.0, 1275000.0, 1410000.0, 555698.0, 660000.0, 715000.0, 2000000.0, 1050000.0, 1208000.0, 2020000.0, 1035000.0, 1800000.0, 1425000.0, 773000.0, 1030000.0, 675000.0, 1815000.0, 1562000.0, 2720000.0, 2525000.0, 1268000.0, 769000.0, 2400000.0, 1700000.0, 732000.0, 1255000.0, 1500000.0, 1020000.0, 492000.0, 860000.0, 650000.0, 890000.0, 1340000.0, 2450000.0, 2250000.0, 1100000.0, 820000.0, 925000.0, 715000.0, 840500.0, 810000.0, 1600000.0, 3150000.0, 2010000.0, 915000.0, 1300000.0, 1430000.0, 2380000.0, 670000.0, 3600000.0, 405000.0, 625000.0, 722500.0, 920000.0, 1387000.0, 970000.0, 1920000.0, 1315000.0, 1075000.0, 1071888.0, 1500000.0, 1215000.0, 1050000.0, 410500.0, 1300000.0, 817000.0, 860000.0, 645000.0, 1770000.0, 1070000.0, 1650000.0, 780000.0, 716000.0, 1450000.0, 1860000.0, 1352000.0, 1235000.0, 1650000.0, 1400000.0, 1290000.0, 1000000.0, 800000.0, 1272000.0, 1972500.0, 1150000.0, 835000.0, 2050000.0, 705000.0, 2200000.0, 1479000.0, 1350000.0, 1655000.0, 667000.0, 740000.0, 1258000.0, 3225000.0, 2385000.0, 2300000.0, 1605000.0, 1210000.0, 950000.0, 880000.0, 720000.0, 2408000.0, 4750000.0, 525000.0, 1550000.0, 911982.0, 1040000.0, 720000.0, 905000.0, 835000.0, 447000.0, 610000.0, 1255000.0, 1616000.0, 1250000.0, 1970000.0, 895000.0, 925000.0, 545000.0, 800000.0, 1400000.0, 635000.0, 2920000.0, 1130000.0, 1331000.0, 1100000.0, 651000.0, 730000.0, 2905000.0, 2550000.0, 2800000.0, 3399000.0, 3900000.0, 677000.0, 737500.0, 680000.0, 472000.0, 790000.0, 698000.0, 2425000.0, 2258000.0, 1250000.0, 1218000.0, 1010000.0, 2775000.0, 2400000.0, 1510500.0, 347500.0, 990000.0, 1462000.0, 1050000.0, 980000.0, 1250800.0, 1327000.0, 1400000.0, 1540000.0, 1010000.0, 805000.0, 1746000.0, 2042000.0, 1650000.0, 1570000.0, 912000.0, 1565000.0, 1137500.0, 1085000.0, 1185000.0, 500000.0, 2100000.0, 795000.0, 4100000.0, 2920000.0, 1300000.0, 535000.0, 1375000.0, 1400000.0, 1050000.0, 710000.0, 1200000.0, 1035000.0, 595000.0, 1190000.0, 3560000.0, 1030000.0, 1575000.0, 920000.0, 950000.0, 820000.0, 1580000.0, 1515000.0, 1600000.0, 1250000.0, 740000.0, 647000.0, 515000.0, 670000.0, 760000.0, 1120000.0, 614000.0, 930000.0, 750000.0, 1430000.0, 1663000.0, 1310000.0, 1390000.0, 792000.0, 749000.0, 700000.0, 656000.0, 1028000.0, 783000.0, 622000.0, 1430000.0, 1820000.0, 660000.0, 635000.0, 710000.0, 1340000.0, 550000.0, 1322000.0, 790000.0, 676000.0, 550000.0, 735000.0, 1270000.0, 1400000.0, 992000.0, 1820000.0, 1175000.0, 774000.0, 1900000.0, 2185000.0, 1725000.0, 1090000.0, 936000.0, 850000.0, 800000.0, 875000.0, 677500.0, 1855500.0, 631000.0, 1140000.0, 410000.0, 512500.0, 586000.0, 496000.0, 1635000.0, 895000.0, 586000.0, 1055000.0, 514000.0, 675000.0, 478000.0, 743500.0, 1525000.0, 1380000.0, 950000.0, 810000.0, 1520000.0, 2360000.0, 1460000.0, 1611000.0, 1700000.0, 1280000.0, 1750000.0, 683000.0, 1730000.0, 1250000.0, 740000.0, 4050000.0, 2210000.0, 1655000.0, 2000000.0, 1500000.0, 1751000.0, 1580000.0, 685000.0, 725000.0, 1300000.0, 1253000.0, 1390000.0, 1471000.0, 2100000.0, 2725000.0, 3250000.0, 870000.0, 1925000.0, 995000.0, 1200000.0, 1241000.0, 1250000.0, 565000.0, 615000.0, 548000.0, 667500.0, 1680000.0, 898000.0, 915000.0, 762000.0, 3175000.0, 550000.0, 2165000.0, 1500000.0, 3200000.0, 2165000.0, 1031000.0, 1645000.0, 580000.0, 540000.0, 1570000.0, 1022000.0, 2550000.0, 1750000.0, 345000.0, 4050000.0, 3000000.0, 600000.0, 2025000.0, 630000.0, 1800000.0, 1440000.0, 1001000.0, 655000.0, 923000.0, 1475000.0, 1955000.0, 1415000.0, 715000.0, 2635000.0, 4200000.0, 1148000.0, 1210000.0, 755000.0, 1200000.0, 812000.0, 1870000.0, 1800000.0, 3825000.0, 485000.0, 632500.0, 1600000.0, 1610000.0, 2290000.0, 505000.0, 560000.0, 701000.0, 2600000.0, 1205000.0, 1350000.0, 760000.0, 2070000.0, 980000.0, 950000.0, 1295000.0, 788800.0, 455000.0, 1276000.0, 1184000.0, 1157000.0, 2200000.0, 500000.0, 1142000.0, 655000.0, 890000.0, 935000.0, 934000.0, 1384000.0, 950000.0, 2800000.0, 631000.0, 1350000.0, 1550000.0, 962000.0, 583000.0, 860000.0, 854000.0, 1054000.0, 625000.0, 1012000.0, 565000.0, 748888.0, 850000.0, 945000.0, 755000.0, 807000.0, 800000.0, 600000.0, 705000.0, 590000.0, 1100000.0, 575000.0, 1040000.0, 795000.0, 660000.0, 570000.0, 515000.0, 426000.0, 780000.0, 710000.0, 1425000.0, 950000.0, 650000.0, 1211000.0, 1453000.0, 1610000.0, 559000.0, 435000.0, 690000.0, 596000.0, 698000.0, 1060500.0, 990000.0, 763000.0, 768000.0, 520000.0, 580000.0, 853000.0, 704000.0, 1214000.0, 1045000.0, 1265000.0, 955000.0, 1900000.0, 1920000.0, 530000.0, 820000.0, 1360000.0, 805000.0, 1450000.0, 840000.0, 665000.0, 1750000.0, 1850000.0, 670000.0, 775000.0, 1790000.0, 800000.0, 750000.0, 1138000.0, 592500.0, 595000.0, 505000.0, 1385000.0, 600000.0, 1000000.0, 891000.0, 600500.0, 1500000.0, 741000.0, 1270500.0, 590000.0, 1535000.0, 700000.0, 650000.0, 576000.0, 985000.0, 590000.0, 880000.0, 362000.0, 900000.0, 926000.0, 1750000.0, 1130000.0, 1006000.0, 1390000.0, 643500.0, 760500.0, 1040000.0, 1120000.0, 810000.0, 1220000.0, 650000.0, 859000.0, 2550000.0, 740000.0, 463500.0, 688000.0, 800000.0, 1275000.0, 1215000.0, 1320000.0, 463000.0, 665000.0, 510000.0, 1440000.0, 1407000.0, 1540000.0, 1510000.0, 1450000.0, 1755000.0, 1780000.0, 770000.0, 1831000.0, 706000.0, 456000.0, 1080000.0, 2500000.0, 1740000.0, 1662500.0, 1400000.0, 1011000.0, 510000.0, 590000.0, 500000.0, 1020000.0, 617000.0, 1225000.0, 500000.0, 531000.0, 3300000.0, 700000.0, 850000.0, 920000.0, 658000.0, 890000.0, 680000.0, 945000.0, 1908000.0, 1200000.0, 770000.0, 887500.0, 900000.0, 1200000.0, 618350.0, 2250000.0, 2530000.0, 1475000.0, 3015000.0, 710000.0, 1129000.0, 821000.0, 427500.0, 800000.0, 1400000.0, 1640000.0, 1030000.0, 1515000.0, 1300000.0, 1260000.0, 921000.0, 620000.0, 801000.0, 1485000.0, 905000.0, 1005000.0, 1660000.0, 1235000.0, 590000.0, 870000.0, 880000.0, 561000.0, 612000.0, 597000.0, 908000.0, 850000.0, 1200000.0, 930000.0, 755000.0, 645000.0, 482500.0, 1300000.0, 821000.0, 1436000.0, 1680000.0, 5100000.0, 2650000.0, 1216000.0, 975000.0, 1950000.0, 1375000.0, 2515000.0, 4060000.0, 1609000.0, 1055000.0, 1080000.0, 926000.0, 505000.0, 730000.0, 950000.0, 955000.0, 1375000.0, 1470000.0, 1175000.0, 555000.0, 652000.0, 1185000.0, 2100000.0, 900000.0, 695000.0, 1905000.0, 670000.0, 670000.0, 2825000.0, 1770000.0, 835000.0, 635000.0, 797000.0, 2675000.0, 1900000.0, 2260000.0, 555000.0, 1010000.0, 3060000.0, 1690000.0, 1600000.0, 715000.0, 560000.0, 900000.0, 1450000.0, 1188000.0, 1105000.0, 1180000.0, 940000.0, 1700000.0, 1150000.0, 1320000.0, 1375000.0, 2625000.0, 750000.0, 900000.0, 2368000.0, 570000.0, 1080000.0, 850000.0, 570000.0, 540000.0, 640000.0, 1420000.0, 630000.0, 490500.0, 1223000.0, 1678000.0, 1630000.0, 1550000.0, 1950000.0, 2000000.0, 900000.0, 2151000.0, 1720000.0, 2000000.0, 1151000.0, 753000.0, 1250000.0, 758000.0, 1750000.0, 3130000.0, 595000.0, 745000.0, 952000.0, 1255000.0, 1600000.0, 950000.0, 820000.0, 830000.0, 780000.0, 3200000.0, 1790000.0, 1170000.0, 1320000.0, 1152000.0, 1165000.0, 920000.0, 1550000.0, 805000.0, 720000.0, 1210000.0, 1188000.0, 2000000.0, 1980000.0, 2525000.0, 410000.0, 720000.0, 757000.0, 1200000.0, 1567000.0, 980000.0, 1370000.0, 902000.0, 1685000.0, 1495000.0, 1630000.0, 1230000.0, 1631000.0, 800000.0, 1050000.0, 1800000.0, 2700000.0, 1585000.0, 925000.0, 1232000.0, 621000.0, 730000.0, 800000.0, 1650000.0, 2210000.0, 1450000.0, 1520000.0, 1850000.0, 1100000.0, 1830000.0, 2410000.0, 1820000.0, 1225000.0, 730000.0, 1702000.0, 609000.0, 920000.0, 1165000.0, 1200000.0, 1010000.0, 975000.0, 1281000.0, 1085000.0, 890000.0, 1255000.0, 950000.0, 650000.0, 760000.0, 865000.0, 2550000.0, 1820000.0, 2325000.0, 628000.0, 525000.0, 723000.0, 1230000.0, 2375000.0, 1140000.0, 2750000.0, 3400000.0, 721000.0, 492000.0, 900000.0, 1120000.0, 2500000.0, 940000.0, 1200000.0, 1285000.0, 1335000.0, 1480000.0, 1100000.0, 792500.0, 1210000.0, 765000.0, 635000.0, 912000.0, 1335000.0, 935000.0, 1283000.0, 1365000.0, 1775000.0, 1665000.0, 1915000.0, 950000.0, 962000.0, 830000.0, 665000.0, 1810000.0, 1605000.0, 1440000.0, 1060000.0, 920000.0, 603500.0, 1060000.0, 1211000.0, 2550000.0, 1920000.0, 1362000.0, 2115000.0, 2000000.0, 2400000.0, 2270000.0, 1895000.0, 1115000.0, 1595000.0, 1300000.0, 3100000.0, 1850000.0, 2770000.0, 1300000.0, 1240000.0, 650000.0, 1085000.0, 640000.0, 480000.0, 523000.0, 800000.0, 632000.0, 1152000.0, 970000.0, 1200000.0, 1320000.0, 1200000.0, 2410000.0, 681000.0, 1600000.0, 1280000.0, 874000.0, 875000.0, 1292000.0, 1155000.0, 831000.0, 931000.0, 1111000.0, 650000.0, 981000.0, 1250000.0, 986000.0, 4000000.0, 1500000.0, 1750000.0, 1340000.0, 866000.0, 920000.0, 1150000.0, 1280000.0, 635000.0, 1138000.0, 1612000.0, 1150000.0, 1600000.0, 900000.0, 990000.0, 1200000.0, 1480000.0, 1500000.0, 1194700.0, 1025000.0, 750000.0, 970000.0, 3000000.0, 1400000.0, 1410000.0, 1675000.0, 1475000.0, 1229000.0, 1630000.0, 1275000.0, 1770000.0, 1300000.0, 2850000.0, 1966000.0, 1160000.0, 1000000.0, 735000.0, 600000.0, 475000.0, 695000.0, 990000.0, 1260000.0, 1310000.0, 800000.0, 1350000.0, 950000.0, 1350000.0, 1190000.0, 1214000.0, 1631888.0, 1800000.0, 2000000.0, 2500000.0, 1125000.0, 1911000.0, 537000.0, 2040000.0, 630000.0, 2450000.0, 766000.0, 430000.0, 890000.0, 1400000.0, 1408000.0, 1080000.0, 1550000.0, 1350000.0, 1450000.0, 1450000.0, 625500.0, 950000.0, 1190000.0, 785000.0, 999999.0, 1050000.0, 658500.0, 2680000.0, 1625000.0, 605000.0, 600000.0, 895000.0, 1910000.0, 751000.0, 910000.0, 1561000.0, 1260000.0, 1202000.0, 920000.0, 4060000.0, 1151000.0, 1650000.0, 1650000.0, 1385000.0, 951000.0, 1130000.0, 1370000.0, 1660000.0, 728000.0, 1030000.0, 3200000.0, 2830000.0, 2260000.0, 850000.0, 815000.0, 1535000.0, 2385000.0, 546000.0, 1060000.0, 905000.0, 810000.0, 1870000.0, 1620000.0, 1078000.0, 1000000.0, 980000.0, 2690000.0, 655000.0, 950000.0, 2086000.0, 625000.0, 602000.0, 567000.0, 1190000.0, 1200000.0, 1125000.0, 700000.0, 886000.0, 1160000.0, 1800000.0, 3300000.0, 2045000.0, 3080000.0, 965000.0, 860000.0, 1830000.0, 1655000.0, 1185000.0, 720000.0, 1525000.0, 1305000.0, 1500000.0, 1870000.0, 1700000.0, 2475000.0, 1260000.0, 527000.0, 2455000.0, 2668000.0, 1112000.0, 852000.0, 1800000.0, 1426000.0, 621000.0, 465000.0, 1490000.0, 1502000.0, 537000.0, 763000.0, 682000.0, 2720000.0, 3100000.0, 1753000.0, 1745000.0, 1288000.0, 1263500.0, 1250000.0, 951000.0, 1323000.0, 1330000.0, 635000.0, 1245000.0, 2500000.0, 1285000.0], \"yaxis\": \"y\"}, {\"alignmentgroup\": \"True\", \"bingroup\": \"x\", \"histfunc\": \"sum\", \"hovertemplate\": \"Rooms=%{x}<br>sum of Price=%{y}<extra></extra>\", \"legendgroup\": \"1\", \"marker\": {\"color\": \"#ab63fa\"}, \"name\": \"1\", \"offsetgroup\": \"1\", \"orientation\": \"v\", \"showlegend\": true, \"type\": \"histogram\", \"x\": [1, 1, 1, 1, 1, 1, 1, 1, 1, 1, 1, 1, 1, 1, 1, 1, 1, 1, 1, 1, 1, 1, 1, 1, 1, 1, 1, 1, 1, 1, 1, 1, 1, 1, 1, 1, 1, 1, 1, 1, 1, 1, 1, 1, 1, 1, 1, 1, 1, 1, 1, 1, 1, 1, 1, 1, 1, 1, 1, 1, 1, 1, 1, 1, 1, 1, 1, 1, 1, 1, 1, 1, 1, 1, 1, 1, 1, 1, 1, 1, 1, 1, 1, 1, 1, 1, 1, 1, 1, 1, 1, 1, 1, 1, 1, 1, 1, 1, 1, 1, 1, 1, 1, 1, 1, 1, 1, 1, 1, 1, 1, 1, 1, 1, 1, 1, 1, 1, 1, 1, 1, 1, 1, 1, 1, 1, 1, 1, 1, 1, 1, 1, 1, 1, 1, 1, 1, 1, 1, 1, 1, 1, 1, 1, 1, 1, 1, 1, 1, 1, 1, 1, 1, 1, 1, 1, 1, 1, 1, 1, 1, 1, 1, 1, 1, 1, 1, 1, 1, 1, 1, 1, 1, 1, 1, 1, 1, 1, 1, 1, 1, 1, 1, 1, 1, 1, 1, 1, 1, 1, 1, 1, 1, 1, 1, 1, 1, 1, 1, 1, 1, 1, 1, 1, 1, 1, 1, 1, 1, 1, 1, 1, 1, 1, 1, 1, 1, 1, 1, 1, 1, 1, 1, 1, 1, 1, 1, 1, 1, 1, 1, 1, 1, 1, 1, 1, 1, 1, 1, 1, 1, 1, 1, 1, 1, 1, 1, 1, 1, 1, 1, 1, 1, 1, 1, 1, 1, 1, 1, 1, 1, 1, 1, 1, 1, 1, 1, 1, 1, 1, 1, 1, 1, 1, 1, 1, 1, 1, 1, 1, 1, 1, 1, 1, 1, 1, 1, 1, 1, 1, 1, 1, 1, 1, 1, 1, 1, 1, 1, 1, 1, 1, 1, 1, 1, 1, 1, 1, 1, 1, 1, 1, 1, 1, 1, 1, 1, 1, 1, 1, 1, 1, 1, 1, 1, 1, 1, 1, 1, 1, 1, 1, 1, 1, 1, 1, 1, 1, 1, 1, 1, 1, 1, 1, 1, 1, 1, 1, 1, 1, 1, 1, 1, 1, 1, 1, 1, 1, 1, 1, 1, 1, 1, 1, 1, 1, 1, 1, 1, 1, 1, 1, 1, 1, 1, 1, 1, 1, 1, 1, 1, 1, 1, 1, 1, 1, 1, 1, 1, 1, 1, 1, 1, 1, 1, 1, 1, 1, 1, 1, 1, 1, 1, 1, 1, 1, 1, 1, 1, 1, 1, 1, 1, 1, 1, 1, 1, 1, 1, 1, 1, 1, 1, 1, 1, 1, 1, 1, 1, 1, 1, 1, 1, 1, 1, 1, 1, 1, 1, 1, 1, 1, 1, 1, 1, 1, 1, 1, 1, 1, 1, 1, 1, 1, 1, 1, 1, 1, 1, 1, 1, 1, 1, 1, 1, 1, 1, 1, 1, 1, 1, 1, 1, 1, 1, 1, 1, 1, 1, 1, 1, 1, 1, 1, 1, 1, 1, 1, 1, 1, 1, 1, 1, 1, 1, 1, 1, 1, 1, 1, 1, 1, 1, 1, 1, 1, 1, 1, 1, 1, 1, 1, 1, 1, 1, 1, 1, 1, 1, 1, 1, 1, 1, 1, 1, 1, 1, 1, 1, 1, 1, 1, 1, 1, 1, 1, 1, 1, 1, 1, 1, 1, 1, 1, 1, 1, 1, 1, 1, 1, 1, 1, 1, 1, 1, 1, 1, 1, 1, 1, 1, 1, 1, 1, 1, 1, 1, 1, 1, 1, 1, 1, 1, 1, 1, 1, 1, 1, 1, 1, 1, 1, 1, 1, 1, 1, 1, 1, 1, 1, 1, 1, 1, 1, 1, 1, 1, 1, 1, 1, 1, 1, 1, 1, 1, 1, 1, 1, 1, 1, 1, 1, 1, 1, 1, 1, 1, 1, 1, 1, 1, 1, 1, 1, 1, 1, 1, 1, 1, 1, 1, 1, 1, 1, 1, 1, 1, 1, 1, 1, 1, 1, 1, 1, 1, 1, 1, 1, 1, 1, 1, 1, 1, 1, 1, 1, 1, 1, 1, 1, 1, 1, 1, 1, 1, 1, 1, 1, 1, 1, 1, 1, 1, 1, 1, 1, 1, 1, 1, 1, 1], \"xaxis\": \"x\", \"y\": [300000.0, 441000.0, 426000.0, 457000.0, 470000.0, 442500.0, 985000.0, 421500.0, 1435000.0, 280000.0, 400000.0, 390000.0, 324000.0, 440000.0, 315000.0, 450000.0, 567000.0, 390000.0, 280000.0, 500000.0, 390000.0, 580000.0, 370000.0, 380000.0, 288000.0, 340000.0, 375000.0, 671000.0, 681000.0, 340000.0, 272500.0, 895000.0, 279500.0, 800000.0, 625000.0, 440000.0, 370000.0, 240000.0, 370000.0, 772000.0, 265000.0, 300000.0, 320000.0, 330000.0, 285000.0, 252000.0, 351000.0, 468000.0, 390000.0, 885000.0, 437000.0, 255000.0, 346000.0, 290000.0, 363000.0, 330000.0, 260000.0, 250000.0, 345000.0, 350000.0, 270000.0, 365000.0, 340000.0, 323000.0, 290000.0, 275500.0, 290000.0, 325000.0, 482500.0, 241000.0, 1007000.0, 452000.0, 440000.0, 415000.0, 372000.0, 457000.0, 366000.0, 461000.0, 430000.0, 520000.0, 392500.0, 510000.0, 300000.0, 357000.0, 485000.0, 369000.0, 451000.0, 370000.0, 390000.0, 313000.0, 470000.0, 347000.0, 326000.0, 340000.0, 325000.0, 280000.0, 320500.0, 250000.0, 260000.0, 300000.0, 947500.0, 597000.0, 465000.0, 420000.0, 458000.0, 358500.0, 330000.0, 899000.0, 380000.0, 280000.0, 250000.0, 345000.0, 395000.0, 85000.0, 216000.0, 227000.0, 357000.0, 291000.0, 375000.0, 275000.0, 305000.0, 210000.0, 282000.0, 452000.0, 291000.0, 345000.0, 328000.0, 375000.0, 420000.0, 500000.0, 2450000.0, 348000.0, 320000.0, 492000.0, 330000.0, 292000.0, 365000.0, 335000.0, 488000.0, 450000.0, 350000.0, 480000.0, 320000.0, 400000.0, 445000.0, 290000.0, 415000.0, 382000.0, 499000.0, 370000.0, 485000.0, 310000.0, 405000.0, 636000.0, 460000.0, 413000.0, 420000.0, 421000.0, 385000.0, 360000.0, 365000.0, 370000.0, 445000.0, 370000.0, 395000.0, 405000.0, 420000.0, 350000.0, 300000.0, 373000.0, 315000.0, 427000.0, 386000.0, 659000.0, 450000.0, 432000.0, 400000.0, 210000.0, 375000.0, 680000.0, 700000.0, 440000.0, 436000.0, 400000.0, 360000.0, 265000.0, 415000.0, 292000.0, 336000.0, 380500.0, 240000.0, 335000.0, 643700.0, 1330000.0, 491000.0, 340000.0, 410000.0, 368000.0, 450000.0, 358000.0, 320000.0, 435000.0, 385000.0, 312000.0, 320000.0, 410000.0, 422000.0, 370000.0, 400000.0, 340000.0, 352500.0, 395000.0, 307000.0, 485000.0, 401000.0, 526000.0, 500000.0, 526000.0, 248500.0, 500000.0, 420000.0, 577000.0, 456000.0, 470000.0, 455500.0, 600000.0, 1014000.0, 540000.0, 400000.0, 470000.0, 342000.0, 549800.0, 492000.0, 500500.0, 330000.0, 325000.0, 482500.0, 240000.0, 305000.0, 830000.0, 300000.0, 260000.0, 341000.0, 350000.0, 216000.0, 220000.0, 395000.0, 500000.0, 370000.0, 437500.0, 421000.0, 405000.0, 327000.0, 500000.0, 345000.0, 345000.0, 439000.0, 342000.0, 681000.0, 390000.0, 380000.0, 415000.0, 402000.0, 380000.0, 306000.0, 450000.0, 410000.0, 362000.0, 385000.0, 360000.0, 215000.0, 1002000.0, 760500.0, 380000.0, 480000.0, 320000.0, 430000.0, 467500.0, 315000.0, 402000.0, 422000.0, 450000.0, 510000.0, 465000.0, 409000.0, 370000.0, 480000.0, 411000.0, 360500.0, 490000.0, 955000.0, 380000.0, 450000.0, 555000.0, 515000.0, 360000.0, 310000.0, 425000.0, 330000.0, 400000.0, 450000.0, 2115000.0, 523000.0, 320000.0, 400000.0, 612000.0, 567500.0, 540000.0, 367000.0, 310000.0, 410000.0, 280000.0, 510000.0, 410000.0, 260800.0, 330000.0, 687000.0, 385500.0, 455000.0, 480000.0, 425000.0, 370000.0, 380000.0, 500000.0, 380000.0, 400000.0, 450000.0, 451000.0, 459000.0, 395000.0, 370500.0, 385000.0, 475000.0, 500000.0, 430000.0, 420000.0, 392000.0, 335000.0, 330000.0, 360000.0, 320000.0, 400000.0, 1210000.0, 366000.0, 450000.0, 420000.0, 360000.0, 452000.0, 461000.0, 400000.0, 435000.0, 354000.0, 475000.0, 280000.0, 517500.0, 370000.0, 270000.0, 260000.0, 365000.0, 277500.0, 332000.0, 295000.0, 383000.0, 315000.0, 245000.0, 330000.0, 303500.0, 546000.0, 430000.0, 349000.0, 462800.0, 345000.0, 515501.0, 611000.0, 405000.0, 541000.0, 366000.0, 460000.0, 460000.0, 550000.0, 443000.0, 482000.0, 310000.0, 331000.0, 285000.0, 275000.0, 372000.0, 412500.0, 452000.0, 300000.0, 501000.0, 300000.0, 400000.0, 510000.0, 470000.0, 345000.0, 381000.0, 380000.0, 1720000.0, 370000.0, 435000.0, 310000.0, 1015000.0, 565000.0, 630000.0, 750000.0, 288000.0, 365000.0, 320000.0, 430000.0, 371000.0, 405000.0, 630000.0, 750000.0, 210000.0, 200000.0, 290000.0, 331000.0, 256500.0, 291000.0, 250000.0, 290000.0, 260000.0, 260000.0, 296000.0, 362000.0, 447000.0, 241000.0, 288000.0, 185000.0, 145000.0, 327000.0, 425000.0, 405000.0, 415000.0, 360000.0, 1100000.0, 320000.0, 316000.0, 405000.0, 412000.0, 528000.0, 315000.0, 418000.0, 1200000.0, 1185000.0, 385000.0, 595000.0, 285000.0, 305000.0, 330000.0, 305000.0, 465000.0, 550000.0, 325000.0, 310000.0, 330000.0, 350000.0, 426500.0, 330000.0, 950000.0, 315000.0, 260000.0, 440000.0, 535000.0, 317500.0, 160000.0, 360000.0, 300000.0, 275000.0, 440000.0, 400500.0, 375000.0, 442000.0, 468000.0, 365000.0, 456000.0, 267500.0, 432000.0, 333000.0, 275000.0, 296000.0, 261000.0, 1700000.0, 325000.0, 1405000.0, 280000.0, 311500.0, 550000.0, 410000.0, 860000.0, 385000.0, 407000.0, 500000.0, 370000.0, 911000.0, 460000.0, 537000.0, 410000.0, 390500.0, 346000.0, 520000.0, 320000.0, 350000.0, 300000.0, 375000.0, 185000.0, 331000.0, 200000.0, 490000.0, 503000.0, 385000.0, 360000.0, 490000.0, 355000.0, 425000.0, 380000.0, 380000.0, 552000.0, 247500.0, 900000.0, 350000.0, 440000.0, 295000.0, 380000.0, 350000.0, 310000.0, 291000.0, 170000.0, 395000.0, 500000.0, 210000.0, 280000.0, 454000.0, 399000.0, 350000.0, 517500.0, 290000.0, 350000.0, 420000.0, 560000.0, 515000.0, 455000.0, 519000.0, 330000.0, 280000.0, 422000.0, 451000.0, 550000.0, 2100000.0, 312000.0, 295000.0, 240000.0, 310000.0, 375000.0, 392000.0, 370000.0, 301000.0, 222000.0, 1000000.0, 780000.0, 964000.0, 440000.0, 534000.0, 322500.0, 407500.0, 422500.0, 330000.0, 395000.0, 286000.0, 357000.0, 270000.0, 365000.0, 355000.0, 263100.0, 1310000.0, 280000.0, 495000.0, 362500.0, 441000.0, 400000.0, 715000.0, 470000.0, 545000.0, 314000.0, 807500.0, 400000.0, 565000.0, 480000.0, 245000.0, 328500.0, 290000.0, 286000.0, 867000.0, 365000.0, 435000.0, 350000.0, 310000.0, 456000.0, 260000.0, 330000.0, 580000.0, 455000.0, 390000.0, 520000.0, 338000.0, 1425500.0, 327000.0, 351000.0, 468000.0, 470000.0, 415000.0, 577000.0, 410000.0, 559000.0, 515000.0, 545000.0, 360000.0, 320000.0, 420000.0, 370000.0, 505000.0, 560000.0, 370000.0, 257500.0, 257500.0, 400000.0, 325000.0, 410000.0, 380000.0, 290000.0, 315000.0, 275000.0, 361000.0, 365000.0, 490000.0, 381000.0, 415000.0, 503750.0, 432000.0, 401500.0, 328000.0, 280000.0, 380000.0, 280000.0, 310000.0, 1100000.0, 390500.0, 895000.0, 326000.0, 362000.0, 309000.0, 352500.0, 250000.0, 392000.0, 505000.0, 420000.0, 360000.0, 350000.0, 380000.0, 495000.0, 316000.0, 430000.0, 216000.0, 295000.0, 330000.0, 312000.0, 555000.0, 481000.0, 385000.0, 1475000.0, 170000.0, 515000.0, 855000.0, 320000.0, 580000.0, 381000.0, 600000.0, 400000.0, 424000.0, 860000.0], \"yaxis\": \"y\"}, {\"alignmentgroup\": \"True\", \"bingroup\": \"x\", \"histfunc\": \"sum\", \"hovertemplate\": \"Rooms=%{x}<br>sum of Price=%{y}<extra></extra>\", \"legendgroup\": \"6\", \"marker\": {\"color\": \"#FFA15A\"}, \"name\": \"6\", \"offsetgroup\": \"6\", \"orientation\": \"v\", \"showlegend\": true, \"type\": \"histogram\", \"x\": [6, 6, 6, 6, 6, 6, 6, 6, 6, 6, 6, 6, 6, 6, 6, 6, 6, 6, 6, 6, 6, 6, 6, 6, 6, 6, 6, 6, 6, 6, 6, 6, 6, 6, 6, 6, 6, 6, 6, 6, 6, 6, 6, 6, 6, 6, 6, 6, 6, 6, 6, 6, 6, 6, 6, 6, 6, 6, 6, 6, 6, 6, 6, 6, 6, 6, 6], \"xaxis\": \"x\", \"y\": [725000.0, 5525000.0, 2425000.0, 1430000.0, 4000000.0, 1505000.0, 1900000.0, 1900000.0, 1900000.0, 2700000.0, 1900000.0, 2620000.0, 1800000.0, 2250000.0, 2300000.0, 6500000.0, 1300000.0, 2350000.0, 2150000.0, 2000000.0, 1900000.0, 1800000.0, 1245000.0, 2000000.0, 1650000.0, 1666000.0, 1020000.0, 520000.0, 2250000.0, 2000000.0, 1591000.0, 1455000.0, 2000000.0, 1856000.0, 990000.0, 1900000.0, 2800000.0, 1660000.0, 5600000.0, 1361000.0, 1350000.0, 2200000.0, 935000.0, 2150500.0, 1050000.0, 1180000.0, 506000.0, 1850000.0, 855000.0, 750000.0, 615000.0, 917000.0, 1200000.0, 1234000.0, 1000000.0, 1655000.0, 2000000.0, 2450000.0, 931000.0, 1155000.0, 2835000.0, 650000.0, 2100000.0, 1115000.0, 1875000.0, 1065000.0, 1840000.0], \"yaxis\": \"y\"}, {\"alignmentgroup\": \"True\", \"bingroup\": \"x\", \"histfunc\": \"sum\", \"hovertemplate\": \"Rooms=%{x}<br>sum of Price=%{y}<extra></extra>\", \"legendgroup\": \"5\", \"marker\": {\"color\": \"#19d3f3\"}, \"name\": \"5\", \"offsetgroup\": \"5\", \"orientation\": \"v\", \"showlegend\": true, \"type\": \"histogram\", \"x\": [5, 5, 5, 5, 5, 5, 5, 5, 5, 5, 5, 5, 5, 5, 5, 5, 5, 5, 5, 5, 5, 5, 5, 5, 5, 5, 5, 5, 5, 5, 5, 5, 5, 5, 5, 5, 5, 5, 5, 5, 5, 5, 5, 5, 5, 5, 5, 5, 5, 5, 5, 5, 5, 5, 5, 5, 5, 5, 5, 5, 5, 5, 5, 5, 5, 5, 5, 5, 5, 5, 5, 5, 5, 5, 5, 5, 5, 5, 5, 5, 5, 5, 5, 5, 5, 5, 5, 5, 5, 5, 5, 5, 5, 5, 5, 5, 5, 5, 5, 5, 5, 5, 5, 5, 5, 5, 5, 5, 5, 5, 5, 5, 5, 5, 5, 5, 5, 5, 5, 5, 5, 5, 5, 5, 5, 5, 5, 5, 5, 5, 5, 5, 5, 5, 5, 5, 5, 5, 5, 5, 5, 5, 5, 5, 5, 5, 5, 5, 5, 5, 5, 5, 5, 5, 5, 5, 5, 5, 5, 5, 5, 5, 5, 5, 5, 5, 5, 5, 5, 5, 5, 5, 5, 5, 5, 5, 5, 5, 5, 5, 5, 5, 5, 5, 5, 5, 5, 5, 5, 5, 5, 5, 5, 5, 5, 5, 5, 5, 5, 5, 5, 5, 5, 5, 5, 5, 5, 5, 5, 5, 5, 5, 5, 5, 5, 5, 5, 5, 5, 5, 5, 5, 5, 5, 5, 5, 5, 5, 5, 5, 5, 5, 5, 5, 5, 5, 5, 5, 5, 5, 5, 5, 5, 5, 5, 5, 5, 5, 5, 5, 5, 5, 5, 5, 5, 5, 5, 5, 5, 5, 5, 5, 5, 5, 5, 5, 5, 5, 5, 5, 5, 5, 5, 5, 5, 5, 5, 5, 5, 5, 5, 5, 5, 5, 5, 5, 5, 5, 5, 5, 5, 5, 5, 5, 5, 5, 5, 5, 5, 5, 5, 5, 5, 5, 5, 5, 5, 5, 5, 5, 5, 5, 5, 5, 5, 5, 5, 5, 5, 5, 5, 5, 5, 5, 5, 5, 5, 5, 5, 5, 5, 5, 5, 5, 5, 5, 5, 5, 5, 5, 5, 5, 5, 5, 5, 5, 5, 5, 5, 5, 5, 5, 5, 5, 5, 5, 5, 5, 5, 5, 5, 5, 5, 5, 5, 5, 5, 5, 5, 5, 5, 5, 5, 5, 5, 5, 5, 5, 5, 5, 5, 5, 5, 5, 5, 5, 5, 5, 5, 5, 5, 5, 5, 5, 5, 5, 5, 5, 5, 5, 5, 5, 5, 5, 5, 5, 5, 5, 5, 5, 5, 5, 5, 5, 5, 5, 5, 5, 5, 5, 5, 5, 5, 5, 5, 5, 5, 5, 5, 5, 5, 5, 5, 5, 5, 5, 5, 5, 5, 5, 5, 5, 5, 5, 5, 5, 5, 5, 5, 5, 5, 5, 5, 5, 5, 5, 5, 5, 5, 5, 5, 5, 5, 5, 5, 5, 5, 5, 5, 5, 5, 5, 5, 5, 5, 5, 5, 5, 5, 5, 5, 5, 5, 5, 5, 5, 5, 5, 5, 5, 5, 5, 5, 5, 5, 5, 5, 5, 5, 5, 5, 5, 5, 5, 5, 5, 5, 5, 5, 5, 5, 5, 5, 5, 5, 5, 5, 5, 5, 5, 5, 5, 5, 5, 5, 5, 5, 5, 5, 5, 5, 5, 5, 5, 5, 5, 5, 5, 5, 5, 5, 5, 5, 5, 5, 5, 5, 5, 5, 5, 5, 5, 5, 5, 5, 5, 5, 5, 5, 5, 5, 5, 5, 5, 5, 5, 5, 5, 5, 5, 5, 5, 5, 5, 5, 5, 5, 5, 5, 5, 5, 5, 5, 5, 5, 5, 5, 5, 5, 5, 5, 5, 5, 5, 5, 5], \"xaxis\": \"x\", \"y\": [755000.0, 2100000.0, 2840000.0, 1525000.0, 1085000.0, 1525000.0, 2810000.0, 1905000.0, 3510000.0, 2752000.0, 1600000.0, 1529500.0, 850000.0, 2570000.0, 3250000.0, 2250000.0, 2800000.0, 3600000.0, 2550000.0, 2020000.0, 3000000.0, 3400000.0, 2665000.0, 2810000.0, 4000000.0, 3020000.0, 2450000.0, 3900000.0, 3300000.0, 3250000.0, 1750000.0, 3690000.0, 1500000.0, 2200000.0, 2070000.0, 1750000.0, 2000000.0, 4000000.0, 1500000.0, 1875000.0, 1920000.0, 1560000.0, 1550000.0, 1660000.0, 1836000.0, 1600000.0, 1900000.0, 1385000.0, 1275000.0, 950000.0, 1600000.0, 1475000.0, 1550000.0, 1550000.0, 2750000.0, 3171000.0, 1562500.0, 4700000.0, 2730000.0, 2100000.0, 3700000.0, 3751000.0, 3105000.0, 1700000.0, 1400000.0, 1600000.0, 1200000.0, 2900000.0, 2500000.0, 3207000.0, 2550000.0, 1915000.0, 2550000.0, 1760000.0, 2050000.0, 1450000.0, 1655000.0, 2500000.0, 1395000.0, 1350000.0, 1200000.0, 1336000.0, 1490000.0, 1590000.0, 1060000.0, 2150000.0, 1410000.0, 1100000.0, 2600000.0, 2860000.0, 2000000.0, 2608000.0, 2700000.0, 2800000.0, 3320000.0, 2125000.0, 2250000.0, 2740000.0, 2900000.0, 2930000.0, 2350000.0, 3550000.0, 1900000.0, 1802100.0, 1665000.0, 1335000.0, 1020000.0, 1172000.0, 1461800.0, 1535000.0, 1400000.0, 2168000.0, 1510000.0, 1650000.0, 1322000.0, 1901000.0, 1930000.0, 2800000.0, 1800000.0, 1575000.0, 1756000.0, 1811000.0, 1360000.0, 2875000.0, 3730000.0, 2175000.0, 2000000.0, 1960000.0, 2825000.0, 3085000.0, 2352500.0, 3860000.0, 1650000.0, 2100000.0, 2410000.0, 3365000.0, 2400000.0, 1150000.0, 850000.0, 810000.0, 705000.0, 585000.0, 800000.0, 1400000.0, 2520000.0, 1805000.0, 3470000.0, 3075000.0, 3201000.0, 2600000.0, 1705000.0, 2980000.0, 3950000.0, 4250000.0, 3500000.0, 3750000.0, 1587500.0, 890000.0, 765000.0, 1730000.0, 2600000.0, 1420000.0, 1100000.0, 808000.0, 700000.0, 1710000.0, 1900000.0, 1001000.0, 4350000.0, 2850000.0, 4850000.0, 1975000.0, 2550000.0, 2425000.0, 2600000.0, 3280000.0, 2800000.0, 1950000.0, 1850000.0, 3028000.0, 2100000.0, 1350000.0, 3400000.0, 4240000.0, 2325000.0, 2350000.0, 1810000.0, 4802500.0, 2500000.0, 1600000.0, 930000.0, 1150000.0, 990000.0, 1000000.0, 1151000.0, 1350000.0, 1955000.0, 1400000.0, 2714000.0, 1815000.0, 1730000.0, 2405000.0, 1900000.0, 2340000.0, 980000.0, 1740000.0, 1220000.0, 2415000.0, 2015000.0, 1400000.0, 2700000.0, 2155000.0, 4300000.0, 1700000.0, 1820000.0, 1100000.0, 900000.0, 900000.0, 1345000.0, 950000.0, 2350000.0, 630000.0, 791000.0, 1050000.0, 925000.0, 820000.0, 762500.0, 3200000.0, 1101500.0, 2530000.0, 1275000.0, 2000000.0, 5046000.0, 4400000.0, 1440000.0, 915000.0, 1485000.0, 2650000.0, 960000.0, 880000.0, 895000.0, 605000.0, 1000000.0, 621000.0, 715000.0, 2200000.0, 2630000.0, 1650000.0, 1975000.0, 1350000.0, 2100000.0, 2100000.0, 1518000.0, 2450000.0, 1050000.0, 950000.0, 1710000.0, 750000.0, 2080000.0, 2170000.0, 895000.0, 1025000.0, 1410000.0, 1410000.0, 1815000.0, 1137500.0, 1287000.0, 1740000.0, 2400000.0, 1300000.0, 1700000.0, 2250000.0, 3210000.0, 3500000.0, 2775000.0, 2500000.0, 1900000.0, 1401000.0, 3850000.0, 1797000.0, 1000000.0, 1300000.0, 1836000.0, 691000.0, 1030000.0, 2575000.0, 1600000.0, 1335000.0, 1415000.0, 2000000.0, 2100000.0, 1250000.0, 1351000.0, 1726000.0, 5800000.0, 2140000.0, 1900000.0, 1730000.0, 760000.0, 1225000.0, 3115000.0, 8000000.0, 2450000.0, 1790000.0, 2020000.0, 1652000.0, 1607500.0, 1550000.0, 1950000.0, 645000.0, 3750000.0, 1689000.0, 2325000.0, 3800000.0, 4515000.0, 3160000.0, 2425000.0, 1620000.0, 2300000.0, 1820000.0, 1750000.0, 1005000.0, 1306000.0, 1351000.0, 2250000.0, 1410000.0, 958000.0, 845000.0, 910000.0, 1150000.0, 1775000.0, 826000.0, 2040000.0, 1480000.0, 2710000.0, 2275000.0, 1060000.0, 5200000.0, 2160000.0, 1220000.0, 3250000.0, 1140000.0, 572000.0, 660000.0, 2200000.0, 650500.0, 675000.0, 880000.0, 2200000.0, 1600000.0, 1525000.0, 1501000.0, 660000.0, 870000.0, 1705000.0, 945000.0, 3100000.0, 930000.0, 2520000.0, 2020000.0, 2000000.0, 1600000.0, 1370000.0, 2210000.0, 1170000.0, 830000.0, 5510000.0, 355000.0, 872000.0, 1450000.0, 1400000.0, 1266000.0, 905000.0, 1780000.0, 805000.0, 750000.0, 2760000.0, 1670000.0, 1523500.0, 2361000.0, 1500000.0, 1018000.0, 1100000.0, 691000.0, 675000.0, 660000.0, 2650000.0, 2855000.0, 3175000.0, 1250000.0, 800000.0, 1060000.0, 780000.0, 1041000.0, 2180000.0, 3200000.0, 1900000.0, 1150000.0, 680000.0, 955000.0, 715000.0, 2862000.0, 2180000.0, 1050000.0, 880000.0, 1550000.0, 1750000.0, 1350000.0, 912000.0, 2250000.0, 2000000.0, 1425000.0, 2905000.0, 1940000.0, 2545000.0, 1075000.0, 1615000.0, 2620000.0, 1205000.0, 1880000.0, 750000.0, 3200500.0, 520000.0, 2300000.0, 1485000.0, 725000.0, 1485000.0, 1060000.0, 1387000.0, 2505000.0, 1300000.0, 1381000.0, 1225000.0, 560000.0, 1223000.0, 1500000.0, 900000.0, 2285000.0, 760000.0, 865000.0, 1260000.0, 800000.0, 1475000.0, 2100000.0, 1005000.0, 704500.0, 598000.0, 1016000.0, 1780000.0, 3000000.0, 3190000.0, 1310000.0, 1328000.0, 2050000.0, 900000.0, 3400000.0, 2215000.0, 790000.0, 2660000.0, 2558000.0, 861000.0, 1170000.0, 970000.0, 3350000.0, 2255000.0, 2400000.0, 1750000.0, 2300000.0, 2330000.0, 1410000.0, 1100000.0, 1300000.0, 1115000.0, 1116500.0, 2248000.0, 960000.0, 1090000.0, 1472000.0, 800000.0, 2400000.0, 2400000.0, 1500000.0, 999000.0, 895000.0, 1530000.0, 1182000.0, 1832000.0, 1282500.0, 945000.0, 725500.0, 1300000.0, 1591000.0, 1490000.0, 3812000.0, 2400000.0, 1050000.0, 835500.0, 976000.0, 850000.0, 1015000.0, 765000.0, 1070000.0, 955000.0, 1350000.0, 850000.0, 1310000.0, 1095000.0, 905000.0, 1951000.0, 1950000.0, 5500000.0, 1820000.0, 610000.0, 750000.0, 460000.0, 1215000.0, 2110000.0, 1206000.0, 2750000.0, 1540500.0, 1730000.0, 1510000.0, 3000000.0, 1320000.0, 1000000.0, 932000.0, 6400000.0, 2290000.0, 2220000.0, 3625000.0, 3778000.0, 1900000.0, 1505000.0, 1775000.0, 2450000.0, 1330000.0, 1480000.0, 650000.0, 5065000.0, 2420000.0, 955000.0, 2230000.0, 1930000.0, 1150000.0, 2562000.0, 2600000.0, 2550000.0, 2450000.0, 883300.0, 1500000.0, 1285000.0, 2500000.0, 1825000.0, 1225000.0, 597000.0, 1825000.0, 1300000.0, 1360000.0, 1300000.0, 1235000.0, 2550000.0, 1830000.0, 2580000.0, 1915000.0, 1555000.0, 2750000.0, 2800000.0, 1180000.0, 1890000.0, 1150000.0, 880000.0, 1355000.0, 1000000.0, 1100000.0, 675000.0, 1180000.0, 1400000.0, 1660000.0, 3000000.0, 2800000.0, 1800000.0, 1900000.0, 1650000.0, 940000.0, 1300000.0, 720008.0, 1188000.0, 905000.0, 600000.0, 2335000.0, 1700000.0, 739000.0, 3450000.0, 710000.0, 1400000.0, 1316000.0], \"yaxis\": \"y\"}, {\"alignmentgroup\": \"True\", \"bingroup\": \"x\", \"histfunc\": \"sum\", \"hovertemplate\": \"Rooms=%{x}<br>sum of Price=%{y}<extra></extra>\", \"legendgroup\": \"8\", \"marker\": {\"color\": \"#FF6692\"}, \"name\": \"8\", \"offsetgroup\": \"8\", \"orientation\": \"v\", \"showlegend\": true, \"type\": \"histogram\", \"x\": [8, 8, 8, 8, 8, 8, 8, 8], \"xaxis\": \"x\", \"y\": [2950000.0, 2250000.0, 770000.0, 881000.0, 1150000.0, 1880000.0, 2200000.0, 741000.0], \"yaxis\": \"y\"}, {\"alignmentgroup\": \"True\", \"bingroup\": \"x\", \"histfunc\": \"sum\", \"hovertemplate\": \"Rooms=%{x}<br>sum of Price=%{y}<extra></extra>\", \"legendgroup\": \"7\", \"marker\": {\"color\": \"#B6E880\"}, \"name\": \"7\", \"offsetgroup\": \"7\", \"orientation\": \"v\", \"showlegend\": true, \"type\": \"histogram\", \"x\": [7, 7, 7, 7, 7, 7, 7, 7, 7, 7], \"xaxis\": \"x\", \"y\": [1350000.0, 2600000.0, 1005000.0, 1205000.0, 1300000.0, 2705000.0, 1642000.0, 4050000.0, 2000000.0, 1350000.0], \"yaxis\": \"y\"}, {\"alignmentgroup\": \"True\", \"bingroup\": \"x\", \"histfunc\": \"sum\", \"hovertemplate\": \"Rooms=%{x}<br>sum of Price=%{y}<extra></extra>\", \"legendgroup\": \"10\", \"marker\": {\"color\": \"#FF97FF\"}, \"name\": \"10\", \"offsetgroup\": \"10\", \"orientation\": \"v\", \"showlegend\": true, \"type\": \"histogram\", \"x\": [10], \"xaxis\": \"x\", \"y\": [900000.0], \"yaxis\": \"y\"}],                        {\"barmode\": \"relative\", \"legend\": {\"title\": {\"text\": \"Rooms\"}, \"tracegroupgap\": 0}, \"margin\": {\"t\": 60}, \"template\": {\"data\": {\"bar\": [{\"error_x\": {\"color\": \"#2a3f5f\"}, \"error_y\": {\"color\": \"#2a3f5f\"}, \"marker\": {\"line\": {\"color\": \"#E5ECF6\", \"width\": 0.5}}, \"type\": \"bar\"}], \"barpolar\": [{\"marker\": {\"line\": {\"color\": \"#E5ECF6\", \"width\": 0.5}}, \"type\": \"barpolar\"}], \"carpet\": [{\"aaxis\": {\"endlinecolor\": \"#2a3f5f\", \"gridcolor\": \"white\", \"linecolor\": \"white\", \"minorgridcolor\": \"white\", \"startlinecolor\": \"#2a3f5f\"}, \"baxis\": {\"endlinecolor\": \"#2a3f5f\", \"gridcolor\": \"white\", \"linecolor\": \"white\", \"minorgridcolor\": \"white\", \"startlinecolor\": \"#2a3f5f\"}, \"type\": \"carpet\"}], \"choropleth\": [{\"colorbar\": {\"outlinewidth\": 0, \"ticks\": \"\"}, \"type\": \"choropleth\"}], \"contour\": [{\"colorbar\": {\"outlinewidth\": 0, \"ticks\": \"\"}, \"colorscale\": [[0.0, \"#0d0887\"], [0.1111111111111111, \"#46039f\"], [0.2222222222222222, \"#7201a8\"], [0.3333333333333333, \"#9c179e\"], [0.4444444444444444, \"#bd3786\"], [0.5555555555555556, \"#d8576b\"], [0.6666666666666666, \"#ed7953\"], [0.7777777777777778, \"#fb9f3a\"], [0.8888888888888888, \"#fdca26\"], [1.0, \"#f0f921\"]], \"type\": \"contour\"}], \"contourcarpet\": [{\"colorbar\": {\"outlinewidth\": 0, \"ticks\": \"\"}, \"type\": \"contourcarpet\"}], \"heatmap\": [{\"colorbar\": {\"outlinewidth\": 0, \"ticks\": \"\"}, \"colorscale\": [[0.0, \"#0d0887\"], [0.1111111111111111, \"#46039f\"], [0.2222222222222222, \"#7201a8\"], [0.3333333333333333, \"#9c179e\"], [0.4444444444444444, \"#bd3786\"], [0.5555555555555556, \"#d8576b\"], [0.6666666666666666, \"#ed7953\"], [0.7777777777777778, \"#fb9f3a\"], [0.8888888888888888, \"#fdca26\"], [1.0, \"#f0f921\"]], \"type\": \"heatmap\"}], \"heatmapgl\": [{\"colorbar\": {\"outlinewidth\": 0, \"ticks\": \"\"}, \"colorscale\": [[0.0, \"#0d0887\"], [0.1111111111111111, \"#46039f\"], [0.2222222222222222, \"#7201a8\"], [0.3333333333333333, \"#9c179e\"], [0.4444444444444444, \"#bd3786\"], [0.5555555555555556, \"#d8576b\"], [0.6666666666666666, \"#ed7953\"], [0.7777777777777778, \"#fb9f3a\"], [0.8888888888888888, \"#fdca26\"], [1.0, \"#f0f921\"]], \"type\": \"heatmapgl\"}], \"histogram\": [{\"marker\": {\"colorbar\": {\"outlinewidth\": 0, \"ticks\": \"\"}}, \"type\": \"histogram\"}], \"histogram2d\": [{\"colorbar\": {\"outlinewidth\": 0, \"ticks\": \"\"}, \"colorscale\": [[0.0, \"#0d0887\"], [0.1111111111111111, \"#46039f\"], [0.2222222222222222, \"#7201a8\"], [0.3333333333333333, \"#9c179e\"], [0.4444444444444444, \"#bd3786\"], [0.5555555555555556, \"#d8576b\"], [0.6666666666666666, \"#ed7953\"], [0.7777777777777778, \"#fb9f3a\"], [0.8888888888888888, \"#fdca26\"], [1.0, \"#f0f921\"]], \"type\": \"histogram2d\"}], \"histogram2dcontour\": [{\"colorbar\": {\"outlinewidth\": 0, \"ticks\": \"\"}, \"colorscale\": [[0.0, \"#0d0887\"], [0.1111111111111111, \"#46039f\"], [0.2222222222222222, \"#7201a8\"], [0.3333333333333333, \"#9c179e\"], [0.4444444444444444, \"#bd3786\"], [0.5555555555555556, \"#d8576b\"], [0.6666666666666666, \"#ed7953\"], [0.7777777777777778, \"#fb9f3a\"], [0.8888888888888888, \"#fdca26\"], [1.0, \"#f0f921\"]], \"type\": \"histogram2dcontour\"}], \"mesh3d\": [{\"colorbar\": {\"outlinewidth\": 0, \"ticks\": \"\"}, \"type\": \"mesh3d\"}], \"parcoords\": [{\"line\": {\"colorbar\": {\"outlinewidth\": 0, \"ticks\": \"\"}}, \"type\": \"parcoords\"}], \"pie\": [{\"automargin\": true, \"type\": \"pie\"}], \"scatter\": [{\"marker\": {\"colorbar\": {\"outlinewidth\": 0, \"ticks\": \"\"}}, \"type\": \"scatter\"}], \"scatter3d\": [{\"line\": {\"colorbar\": {\"outlinewidth\": 0, \"ticks\": \"\"}}, \"marker\": {\"colorbar\": {\"outlinewidth\": 0, \"ticks\": \"\"}}, \"type\": \"scatter3d\"}], \"scattercarpet\": [{\"marker\": {\"colorbar\": {\"outlinewidth\": 0, \"ticks\": \"\"}}, \"type\": \"scattercarpet\"}], \"scattergeo\": [{\"marker\": {\"colorbar\": {\"outlinewidth\": 0, \"ticks\": \"\"}}, \"type\": \"scattergeo\"}], \"scattergl\": [{\"marker\": {\"colorbar\": {\"outlinewidth\": 0, \"ticks\": \"\"}}, \"type\": \"scattergl\"}], \"scattermapbox\": [{\"marker\": {\"colorbar\": {\"outlinewidth\": 0, \"ticks\": \"\"}}, \"type\": \"scattermapbox\"}], \"scatterpolar\": [{\"marker\": {\"colorbar\": {\"outlinewidth\": 0, \"ticks\": \"\"}}, \"type\": \"scatterpolar\"}], \"scatterpolargl\": [{\"marker\": {\"colorbar\": {\"outlinewidth\": 0, \"ticks\": \"\"}}, \"type\": \"scatterpolargl\"}], \"scatterternary\": [{\"marker\": {\"colorbar\": {\"outlinewidth\": 0, \"ticks\": \"\"}}, \"type\": \"scatterternary\"}], \"surface\": [{\"colorbar\": {\"outlinewidth\": 0, \"ticks\": \"\"}, \"colorscale\": [[0.0, \"#0d0887\"], [0.1111111111111111, \"#46039f\"], [0.2222222222222222, \"#7201a8\"], [0.3333333333333333, \"#9c179e\"], [0.4444444444444444, \"#bd3786\"], [0.5555555555555556, \"#d8576b\"], [0.6666666666666666, \"#ed7953\"], [0.7777777777777778, \"#fb9f3a\"], [0.8888888888888888, \"#fdca26\"], [1.0, \"#f0f921\"]], \"type\": \"surface\"}], \"table\": [{\"cells\": {\"fill\": {\"color\": \"#EBF0F8\"}, \"line\": {\"color\": \"white\"}}, \"header\": {\"fill\": {\"color\": \"#C8D4E3\"}, \"line\": {\"color\": \"white\"}}, \"type\": \"table\"}]}, \"layout\": {\"annotationdefaults\": {\"arrowcolor\": \"#2a3f5f\", \"arrowhead\": 0, \"arrowwidth\": 1}, \"coloraxis\": {\"colorbar\": {\"outlinewidth\": 0, \"ticks\": \"\"}}, \"colorscale\": {\"diverging\": [[0, \"#8e0152\"], [0.1, \"#c51b7d\"], [0.2, \"#de77ae\"], [0.3, \"#f1b6da\"], [0.4, \"#fde0ef\"], [0.5, \"#f7f7f7\"], [0.6, \"#e6f5d0\"], [0.7, \"#b8e186\"], [0.8, \"#7fbc41\"], [0.9, \"#4d9221\"], [1, \"#276419\"]], \"sequential\": [[0.0, \"#0d0887\"], [0.1111111111111111, \"#46039f\"], [0.2222222222222222, \"#7201a8\"], [0.3333333333333333, \"#9c179e\"], [0.4444444444444444, \"#bd3786\"], [0.5555555555555556, \"#d8576b\"], [0.6666666666666666, \"#ed7953\"], [0.7777777777777778, \"#fb9f3a\"], [0.8888888888888888, \"#fdca26\"], [1.0, \"#f0f921\"]], \"sequentialminus\": [[0.0, \"#0d0887\"], [0.1111111111111111, \"#46039f\"], [0.2222222222222222, \"#7201a8\"], [0.3333333333333333, \"#9c179e\"], [0.4444444444444444, \"#bd3786\"], [0.5555555555555556, \"#d8576b\"], [0.6666666666666666, \"#ed7953\"], [0.7777777777777778, \"#fb9f3a\"], [0.8888888888888888, \"#fdca26\"], [1.0, \"#f0f921\"]]}, \"colorway\": [\"#636efa\", \"#EF553B\", \"#00cc96\", \"#ab63fa\", \"#FFA15A\", \"#19d3f3\", \"#FF6692\", \"#B6E880\", \"#FF97FF\", \"#FECB52\"], \"font\": {\"color\": \"#2a3f5f\"}, \"geo\": {\"bgcolor\": \"white\", \"lakecolor\": \"white\", \"landcolor\": \"#E5ECF6\", \"showlakes\": true, \"showland\": true, \"subunitcolor\": \"white\"}, \"hoverlabel\": {\"align\": \"left\"}, \"hovermode\": \"closest\", \"mapbox\": {\"style\": \"light\"}, \"paper_bgcolor\": \"white\", \"plot_bgcolor\": \"#E5ECF6\", \"polar\": {\"angularaxis\": {\"gridcolor\": \"white\", \"linecolor\": \"white\", \"ticks\": \"\"}, \"bgcolor\": \"#E5ECF6\", \"radialaxis\": {\"gridcolor\": \"white\", \"linecolor\": \"white\", \"ticks\": \"\"}}, \"scene\": {\"xaxis\": {\"backgroundcolor\": \"#E5ECF6\", \"gridcolor\": \"white\", \"gridwidth\": 2, \"linecolor\": \"white\", \"showbackground\": true, \"ticks\": \"\", \"zerolinecolor\": \"white\"}, \"yaxis\": {\"backgroundcolor\": \"#E5ECF6\", \"gridcolor\": \"white\", \"gridwidth\": 2, \"linecolor\": \"white\", \"showbackground\": true, \"ticks\": \"\", \"zerolinecolor\": \"white\"}, \"zaxis\": {\"backgroundcolor\": \"#E5ECF6\", \"gridcolor\": \"white\", \"gridwidth\": 2, \"linecolor\": \"white\", \"showbackground\": true, \"ticks\": \"\", \"zerolinecolor\": \"white\"}}, \"shapedefaults\": {\"line\": {\"color\": \"#2a3f5f\"}}, \"ternary\": {\"aaxis\": {\"gridcolor\": \"white\", \"linecolor\": \"white\", \"ticks\": \"\"}, \"baxis\": {\"gridcolor\": \"white\", \"linecolor\": \"white\", \"ticks\": \"\"}, \"bgcolor\": \"#E5ECF6\", \"caxis\": {\"gridcolor\": \"white\", \"linecolor\": \"white\", \"ticks\": \"\"}}, \"title\": {\"x\": 0.05}, \"xaxis\": {\"automargin\": true, \"gridcolor\": \"white\", \"linecolor\": \"white\", \"ticks\": \"\", \"title\": {\"standoff\": 15}, \"zerolinecolor\": \"white\", \"zerolinewidth\": 2}, \"yaxis\": {\"automargin\": true, \"gridcolor\": \"white\", \"linecolor\": \"white\", \"ticks\": \"\", \"title\": {\"standoff\": 15}, \"zerolinecolor\": \"white\", \"zerolinewidth\": 2}}}, \"xaxis\": {\"anchor\": \"y\", \"categoryarray\": [2, 3, 4, 1, 6, 5, 8, 7, 10], \"categoryorder\": \"array\", \"domain\": [0.0, 1.0], \"title\": {\"text\": \"Rooms\"}}, \"yaxis\": {\"anchor\": \"x\", \"domain\": [0.0, 1.0], \"title\": {\"text\": \"sum of Price\"}}},                        {\"responsive\": true}                    ).then(function(){\n",
       "                            \n",
       "var gd = document.getElementById('4c58b5af-0998-46af-a20f-d3420161db65');\n",
       "var x = new MutationObserver(function (mutations, observer) {{\n",
       "        var display = window.getComputedStyle(gd).display;\n",
       "        if (!display || display === 'none') {{\n",
       "            console.log([gd, 'removed!']);\n",
       "            Plotly.purge(gd);\n",
       "            observer.disconnect();\n",
       "        }}\n",
       "}});\n",
       "\n",
       "// Listen for the removal of the full notebook cells\n",
       "var notebookContainer = gd.closest('#notebook-container');\n",
       "if (notebookContainer) {{\n",
       "    x.observe(notebookContainer, {childList: true});\n",
       "}}\n",
       "\n",
       "// Listen for the clearing of the current output cell\n",
       "var outputEl = gd.closest('.output');\n",
       "if (outputEl) {{\n",
       "    x.observe(outputEl, {childList: true});\n",
       "}}\n",
       "\n",
       "                        })                };                });            </script>        </div>"
      ]
     },
     "metadata": {},
     "output_type": "display_data"
    }
   ],
   "source": [
    "fig = px.histogram(data, x='Rooms', y='Price', color='Rooms');\n",
    "fig.show()"
   ]
  },
  {
   "cell_type": "code",
   "execution_count": 35,
   "metadata": {
    "execution": {
     "iopub.execute_input": "2020-11-10T17:24:34.018052Z",
     "iopub.status.busy": "2020-11-10T17:24:34.017266Z",
     "iopub.status.idle": "2020-11-10T17:24:34.051435Z",
     "shell.execute_reply": "2020-11-10T17:24:34.050717Z"
    },
    "papermill": {
     "duration": 0.176145,
     "end_time": "2020-11-10T17:24:34.051579",
     "exception": false,
     "start_time": "2020-11-10T17:24:33.875434",
     "status": "completed"
    },
    "tags": []
   },
   "outputs": [
    {
     "data": {
      "text/html": [
       "<div>\n",
       "<style scoped>\n",
       "    .dataframe tbody tr th:only-of-type {\n",
       "        vertical-align: middle;\n",
       "    }\n",
       "\n",
       "    .dataframe tbody tr th {\n",
       "        vertical-align: top;\n",
       "    }\n",
       "\n",
       "    .dataframe thead th {\n",
       "        text-align: right;\n",
       "    }\n",
       "</style>\n",
       "<table border=\"1\" class=\"dataframe\">\n",
       "  <thead>\n",
       "    <tr style=\"text-align: right;\">\n",
       "      <th></th>\n",
       "      <th>Rooms</th>\n",
       "      <th>Price</th>\n",
       "      <th>Distance</th>\n",
       "      <th>Postcode</th>\n",
       "      <th>Bedroom2</th>\n",
       "      <th>Bathroom</th>\n",
       "      <th>Car</th>\n",
       "      <th>Landsize</th>\n",
       "      <th>BuildingArea</th>\n",
       "      <th>YearBuilt</th>\n",
       "      <th>Lattitude</th>\n",
       "      <th>Longtitude</th>\n",
       "      <th>Propertycount</th>\n",
       "    </tr>\n",
       "  </thead>\n",
       "  <tbody>\n",
       "    <tr>\n",
       "      <th>Rooms</th>\n",
       "      <td>1.000000</td>\n",
       "      <td>0.496634</td>\n",
       "      <td>0.294203</td>\n",
       "      <td>0.055303</td>\n",
       "      <td>0.944190</td>\n",
       "      <td>0.592934</td>\n",
       "      <td>0.406935</td>\n",
       "      <td>0.025678</td>\n",
       "      <td>0.091373</td>\n",
       "      <td>-0.051562</td>\n",
       "      <td>0.015948</td>\n",
       "      <td>0.100771</td>\n",
       "      <td>-0.081530</td>\n",
       "    </tr>\n",
       "    <tr>\n",
       "      <th>Price</th>\n",
       "      <td>0.496634</td>\n",
       "      <td>1.000000</td>\n",
       "      <td>-0.162522</td>\n",
       "      <td>0.107867</td>\n",
       "      <td>0.475951</td>\n",
       "      <td>0.467038</td>\n",
       "      <td>0.239109</td>\n",
       "      <td>0.037507</td>\n",
       "      <td>0.069570</td>\n",
       "      <td>-0.259387</td>\n",
       "      <td>-0.212934</td>\n",
       "      <td>0.203656</td>\n",
       "      <td>-0.042153</td>\n",
       "    </tr>\n",
       "    <tr>\n",
       "      <th>Distance</th>\n",
       "      <td>0.294203</td>\n",
       "      <td>-0.162522</td>\n",
       "      <td>1.000000</td>\n",
       "      <td>0.431514</td>\n",
       "      <td>0.295927</td>\n",
       "      <td>0.127155</td>\n",
       "      <td>0.260596</td>\n",
       "      <td>0.025004</td>\n",
       "      <td>0.073990</td>\n",
       "      <td>0.194815</td>\n",
       "      <td>-0.130723</td>\n",
       "      <td>0.239425</td>\n",
       "      <td>-0.054910</td>\n",
       "    </tr>\n",
       "    <tr>\n",
       "      <th>Postcode</th>\n",
       "      <td>0.055303</td>\n",
       "      <td>0.107867</td>\n",
       "      <td>0.431514</td>\n",
       "      <td>1.000000</td>\n",
       "      <td>0.060584</td>\n",
       "      <td>0.113664</td>\n",
       "      <td>0.050514</td>\n",
       "      <td>0.024558</td>\n",
       "      <td>0.040714</td>\n",
       "      <td>0.025400</td>\n",
       "      <td>-0.406104</td>\n",
       "      <td>0.445357</td>\n",
       "      <td>0.062304</td>\n",
       "    </tr>\n",
       "    <tr>\n",
       "      <th>Bedroom2</th>\n",
       "      <td>0.944190</td>\n",
       "      <td>0.475951</td>\n",
       "      <td>0.295927</td>\n",
       "      <td>0.060584</td>\n",
       "      <td>1.000000</td>\n",
       "      <td>0.584685</td>\n",
       "      <td>0.403867</td>\n",
       "      <td>0.025646</td>\n",
       "      <td>0.089102</td>\n",
       "      <td>-0.041331</td>\n",
       "      <td>0.015925</td>\n",
       "      <td>0.102238</td>\n",
       "      <td>-0.081350</td>\n",
       "    </tr>\n",
       "    <tr>\n",
       "      <th>Bathroom</th>\n",
       "      <td>0.592934</td>\n",
       "      <td>0.467038</td>\n",
       "      <td>0.127155</td>\n",
       "      <td>0.113664</td>\n",
       "      <td>0.584685</td>\n",
       "      <td>1.000000</td>\n",
       "      <td>0.321014</td>\n",
       "      <td>0.037130</td>\n",
       "      <td>0.084462</td>\n",
       "      <td>0.113957</td>\n",
       "      <td>-0.070594</td>\n",
       "      <td>0.118971</td>\n",
       "      <td>-0.052201</td>\n",
       "    </tr>\n",
       "    <tr>\n",
       "      <th>Car</th>\n",
       "      <td>0.406935</td>\n",
       "      <td>0.239109</td>\n",
       "      <td>0.260596</td>\n",
       "      <td>0.050514</td>\n",
       "      <td>0.403867</td>\n",
       "      <td>0.321014</td>\n",
       "      <td>1.000000</td>\n",
       "      <td>0.026780</td>\n",
       "      <td>0.068276</td>\n",
       "      <td>0.078696</td>\n",
       "      <td>-0.002023</td>\n",
       "      <td>0.062929</td>\n",
       "      <td>-0.024344</td>\n",
       "    </tr>\n",
       "    <tr>\n",
       "      <th>Landsize</th>\n",
       "      <td>0.025678</td>\n",
       "      <td>0.037507</td>\n",
       "      <td>0.025004</td>\n",
       "      <td>0.024558</td>\n",
       "      <td>0.025646</td>\n",
       "      <td>0.037130</td>\n",
       "      <td>0.026780</td>\n",
       "      <td>1.000000</td>\n",
       "      <td>0.094659</td>\n",
       "      <td>0.008806</td>\n",
       "      <td>0.009695</td>\n",
       "      <td>0.010833</td>\n",
       "      <td>-0.006854</td>\n",
       "    </tr>\n",
       "    <tr>\n",
       "      <th>BuildingArea</th>\n",
       "      <td>0.091373</td>\n",
       "      <td>0.069570</td>\n",
       "      <td>0.073990</td>\n",
       "      <td>0.040714</td>\n",
       "      <td>0.089102</td>\n",
       "      <td>0.084462</td>\n",
       "      <td>0.068276</td>\n",
       "      <td>0.094659</td>\n",
       "      <td>1.000000</td>\n",
       "      <td>0.005178</td>\n",
       "      <td>0.031799</td>\n",
       "      <td>-0.017441</td>\n",
       "      <td>-0.020736</td>\n",
       "    </tr>\n",
       "    <tr>\n",
       "      <th>YearBuilt</th>\n",
       "      <td>-0.051562</td>\n",
       "      <td>-0.259387</td>\n",
       "      <td>0.194815</td>\n",
       "      <td>0.025400</td>\n",
       "      <td>-0.041331</td>\n",
       "      <td>0.113957</td>\n",
       "      <td>0.078696</td>\n",
       "      <td>0.008806</td>\n",
       "      <td>0.005178</td>\n",
       "      <td>1.000000</td>\n",
       "      <td>0.046718</td>\n",
       "      <td>-0.000515</td>\n",
       "      <td>0.004421</td>\n",
       "    </tr>\n",
       "    <tr>\n",
       "      <th>Lattitude</th>\n",
       "      <td>0.015948</td>\n",
       "      <td>-0.212934</td>\n",
       "      <td>-0.130723</td>\n",
       "      <td>-0.406104</td>\n",
       "      <td>0.015925</td>\n",
       "      <td>-0.070594</td>\n",
       "      <td>-0.002023</td>\n",
       "      <td>0.009695</td>\n",
       "      <td>0.031799</td>\n",
       "      <td>0.046718</td>\n",
       "      <td>1.000000</td>\n",
       "      <td>-0.357634</td>\n",
       "      <td>0.047086</td>\n",
       "    </tr>\n",
       "    <tr>\n",
       "      <th>Longtitude</th>\n",
       "      <td>0.100771</td>\n",
       "      <td>0.203656</td>\n",
       "      <td>0.239425</td>\n",
       "      <td>0.445357</td>\n",
       "      <td>0.102238</td>\n",
       "      <td>0.118971</td>\n",
       "      <td>0.062929</td>\n",
       "      <td>0.010833</td>\n",
       "      <td>-0.017441</td>\n",
       "      <td>-0.000515</td>\n",
       "      <td>-0.357634</td>\n",
       "      <td>1.000000</td>\n",
       "      <td>0.065988</td>\n",
       "    </tr>\n",
       "    <tr>\n",
       "      <th>Propertycount</th>\n",
       "      <td>-0.081530</td>\n",
       "      <td>-0.042153</td>\n",
       "      <td>-0.054910</td>\n",
       "      <td>0.062304</td>\n",
       "      <td>-0.081350</td>\n",
       "      <td>-0.052201</td>\n",
       "      <td>-0.024344</td>\n",
       "      <td>-0.006854</td>\n",
       "      <td>-0.020736</td>\n",
       "      <td>0.004421</td>\n",
       "      <td>0.047086</td>\n",
       "      <td>0.065988</td>\n",
       "      <td>1.000000</td>\n",
       "    </tr>\n",
       "  </tbody>\n",
       "</table>\n",
       "</div>"
      ],
      "text/plain": [
       "                  Rooms     Price  Distance  Postcode  Bedroom2  Bathroom  \\\n",
       "Rooms          1.000000  0.496634  0.294203  0.055303  0.944190  0.592934   \n",
       "Price          0.496634  1.000000 -0.162522  0.107867  0.475951  0.467038   \n",
       "Distance       0.294203 -0.162522  1.000000  0.431514  0.295927  0.127155   \n",
       "Postcode       0.055303  0.107867  0.431514  1.000000  0.060584  0.113664   \n",
       "Bedroom2       0.944190  0.475951  0.295927  0.060584  1.000000  0.584685   \n",
       "Bathroom       0.592934  0.467038  0.127155  0.113664  0.584685  1.000000   \n",
       "Car            0.406935  0.239109  0.260596  0.050514  0.403867  0.321014   \n",
       "Landsize       0.025678  0.037507  0.025004  0.024558  0.025646  0.037130   \n",
       "BuildingArea   0.091373  0.069570  0.073990  0.040714  0.089102  0.084462   \n",
       "YearBuilt     -0.051562 -0.259387  0.194815  0.025400 -0.041331  0.113957   \n",
       "Lattitude      0.015948 -0.212934 -0.130723 -0.406104  0.015925 -0.070594   \n",
       "Longtitude     0.100771  0.203656  0.239425  0.445357  0.102238  0.118971   \n",
       "Propertycount -0.081530 -0.042153 -0.054910  0.062304 -0.081350 -0.052201   \n",
       "\n",
       "                    Car  Landsize  BuildingArea  YearBuilt  Lattitude  \\\n",
       "Rooms          0.406935  0.025678      0.091373  -0.051562   0.015948   \n",
       "Price          0.239109  0.037507      0.069570  -0.259387  -0.212934   \n",
       "Distance       0.260596  0.025004      0.073990   0.194815  -0.130723   \n",
       "Postcode       0.050514  0.024558      0.040714   0.025400  -0.406104   \n",
       "Bedroom2       0.403867  0.025646      0.089102  -0.041331   0.015925   \n",
       "Bathroom       0.321014  0.037130      0.084462   0.113957  -0.070594   \n",
       "Car            1.000000  0.026780      0.068276   0.078696  -0.002023   \n",
       "Landsize       0.026780  1.000000      0.094659   0.008806   0.009695   \n",
       "BuildingArea   0.068276  0.094659      1.000000   0.005178   0.031799   \n",
       "YearBuilt      0.078696  0.008806      0.005178   1.000000   0.046718   \n",
       "Lattitude     -0.002023  0.009695      0.031799   0.046718   1.000000   \n",
       "Longtitude     0.062929  0.010833     -0.017441  -0.000515  -0.357634   \n",
       "Propertycount -0.024344 -0.006854     -0.020736   0.004421   0.047086   \n",
       "\n",
       "               Longtitude  Propertycount  \n",
       "Rooms            0.100771      -0.081530  \n",
       "Price            0.203656      -0.042153  \n",
       "Distance         0.239425      -0.054910  \n",
       "Postcode         0.445357       0.062304  \n",
       "Bedroom2         0.102238      -0.081350  \n",
       "Bathroom         0.118971      -0.052201  \n",
       "Car              0.062929      -0.024344  \n",
       "Landsize         0.010833      -0.006854  \n",
       "BuildingArea    -0.017441      -0.020736  \n",
       "YearBuilt       -0.000515       0.004421  \n",
       "Lattitude       -0.357634       0.047086  \n",
       "Longtitude       1.000000       0.065988  \n",
       "Propertycount    0.065988       1.000000  "
      ]
     },
     "execution_count": 35,
     "metadata": {},
     "output_type": "execute_result"
    }
   ],
   "source": [
    "corr_ = data[numeric_features].corr()\n",
    "corr_"
   ]
  },
  {
   "cell_type": "code",
   "execution_count": 36,
   "metadata": {
    "execution": {
     "iopub.execute_input": "2020-11-10T17:24:34.340355Z",
     "iopub.status.busy": "2020-11-10T17:24:34.333631Z",
     "iopub.status.idle": "2020-11-10T17:24:35.296729Z",
     "shell.execute_reply": "2020-11-10T17:24:35.297381Z"
    },
    "papermill": {
     "duration": 1.10969,
     "end_time": "2020-11-10T17:24:35.297553",
     "exception": false,
     "start_time": "2020-11-10T17:24:34.187863",
     "status": "completed"
    },
    "tags": []
   },
   "outputs": [
    {
     "data": {
      "image/png": "[encoded data removed]",
      "text/plain": [
       "<Figure size 1080x576 with 2 Axes>"
      ]
     },
     "metadata": {
      "needs_background": "light"
     },
     "output_type": "display_data"
    }
   ],
   "source": [
    "plt.figure(figsize=(15, 8))\n",
    "\n",
    "\n",
    "sns.heatmap(corr_, fmt='.2f', linewidths=.1, annot=True, cmap='coolwarm')\n",
    "plt.show()"
   ]
  },
  {
   "cell_type": "markdown",
   "metadata": {
    "papermill": {
     "duration": 0.13897,
     "end_time": "2020-11-10T17:24:35.583531",
     "exception": false,
     "start_time": "2020-11-10T17:24:35.444561",
     "status": "completed"
    },
    "tags": []
   },
   "source": [
    "## Feature Selection\n"
   ]
  },
  {
   "cell_type": "markdown",
   "metadata": {
    "papermill": {
     "duration": 0.137358,
     "end_time": "2020-11-10T17:24:35.859407",
     "exception": false,
     "start_time": "2020-11-10T17:24:35.722049",
     "status": "completed"
    },
    "tags": []
   },
   "source": [
    "- Here, We need to convert categorical values to numerical values"
   ]
  },
  {
   "cell_type": "code",
   "execution_count": 37,
   "metadata": {
    "execution": {
     "iopub.execute_input": "2020-11-10T17:24:36.145706Z",
     "iopub.status.busy": "2020-11-10T17:24:36.144908Z",
     "iopub.status.idle": "2020-11-10T17:24:36.168363Z",
     "shell.execute_reply": "2020-11-10T17:24:36.167758Z"
    },
    "papermill": {
     "duration": 0.170773,
     "end_time": "2020-11-10T17:24:36.168491",
     "exception": false,
     "start_time": "2020-11-10T17:24:35.997718",
     "status": "completed"
    },
    "tags": []
   },
   "outputs": [
    {
     "data": {
      "text/plain": [
       "Type  Method  Date        CouncilArea  Regionname                \n",
       "h     S       23/09/2017  Moreland     Western Metropolitan          43\n",
       "              3/09/2017   Moreland     Northern Metropolitan         40\n",
       "              23/09/2017  Moreland     Northern Metropolitan         39\n",
       "              16/09/2017  Moreland     Northern Metropolitan         38\n",
       "              19/08/2017  Moreland     Northern Metropolitan         36\n",
       "                                                                     ..\n",
       "t     S       19/11/2016  Maribyrnong  Western Metropolitan           1\n",
       "                          Hobsons Bay  Western Metropolitan           1\n",
       "              19/08/2017  Moreland     South-Eastern Metropolitan     1\n",
       "              18/06/2016  Yarra        Northern Metropolitan          1\n",
       "h     PI      1/07/2017   Banyule      Eastern Metropolitan           1\n",
       "Length: 5229, dtype: int64"
      ]
     },
     "execution_count": 37,
     "metadata": {},
     "output_type": "execute_result"
    }
   ],
   "source": [
    "data[categorical_features].value_counts()"
   ]
  },
  {
   "cell_type": "markdown",
   "metadata": {
    "papermill": {
     "duration": 0.139487,
     "end_time": "2020-11-10T17:24:36.448632",
     "exception": false,
     "start_time": "2020-11-10T17:24:36.309145",
     "status": "completed"
    },
    "tags": []
   },
   "source": [
    "- Implementing `LabelEncoder` to convert categorical values to numerical values."
   ]
  },
  {
   "cell_type": "code",
   "execution_count": 38,
   "metadata": {
    "execution": {
     "iopub.execute_input": "2020-11-10T17:24:36.735182Z",
     "iopub.status.busy": "2020-11-10T17:24:36.734198Z",
     "iopub.status.idle": "2020-11-10T17:24:36.736513Z",
     "shell.execute_reply": "2020-11-10T17:24:36.737137Z"
    },
    "papermill": {
     "duration": 0.147733,
     "end_time": "2020-11-10T17:24:36.737294",
     "exception": false,
     "start_time": "2020-11-10T17:24:36.589561",
     "status": "completed"
    },
    "tags": []
   },
   "outputs": [],
   "source": [
    "#  Import LabelEncoder from sklearn.preproccessing module"
   ]
  },
  {
   "cell_type": "code",
   "execution_count": 39,
   "metadata": {
    "execution": {
     "iopub.execute_input": "2020-11-10T17:24:37.026451Z",
     "iopub.status.busy": "2020-11-10T17:24:37.025707Z",
     "iopub.status.idle": "2020-11-10T17:24:37.102777Z",
     "shell.execute_reply": "2020-11-10T17:24:37.102069Z"
    },
    "papermill": {
     "duration": 0.223938,
     "end_time": "2020-11-10T17:24:37.102908",
     "exception": false,
     "start_time": "2020-11-10T17:24:36.878970",
     "status": "completed"
    },
    "tags": []
   },
   "outputs": [],
   "source": [
    "from sklearn.preprocessing import LabelEncoder"
   ]
  },
  {
   "cell_type": "code",
   "execution_count": 40,
   "metadata": {
    "execution": {
     "iopub.execute_input": "2020-11-10T17:24:37.393488Z",
     "iopub.status.busy": "2020-11-10T17:24:37.392582Z",
     "iopub.status.idle": "2020-11-10T17:24:37.396916Z",
     "shell.execute_reply": "2020-11-10T17:24:37.396241Z"
    },
    "papermill": {
     "duration": 0.151672,
     "end_time": "2020-11-10T17:24:37.397043",
     "exception": false,
     "start_time": "2020-11-10T17:24:37.245371",
     "status": "completed"
    },
    "tags": []
   },
   "outputs": [
    {
     "data": {
      "text/plain": [
       "['Type', 'Method', 'CouncilArea', 'Regionname']"
      ]
     },
     "execution_count": 40,
     "metadata": {},
     "output_type": "execute_result"
    }
   ],
   "source": [
    "# Here we need to define feature_columns the we convert to number in the below cell\n",
    "\n",
    "categorical_features = [ 'Type', 'Method', 'CouncilArea', 'Regionname']\n",
    "categorical_features"
   ]
  },
  {
   "cell_type": "code",
   "execution_count": 41,
   "metadata": {
    "execution": {
     "iopub.execute_input": "2020-11-10T17:24:37.692665Z",
     "iopub.status.busy": "2020-11-10T17:24:37.691876Z",
     "iopub.status.idle": "2020-11-10T17:24:37.715403Z",
     "shell.execute_reply": "2020-11-10T17:24:37.714724Z"
    },
    "papermill": {
     "duration": 0.175322,
     "end_time": "2020-11-10T17:24:37.715530",
     "exception": false,
     "start_time": "2020-11-10T17:24:37.540208",
     "status": "completed"
    },
    "tags": []
   },
   "outputs": [],
   "source": [
    "# Encoding ...\n",
    "\n",
    "for column in categorical_features:\n",
    "    \n",
    "    l_encoder = LabelEncoder()\n",
    "    \n",
    "    data[column] = l_encoder.fit_transform(data[column])\n",
    "    "
   ]
  },
  {
   "cell_type": "markdown",
   "metadata": {
    "papermill": {
     "duration": 0.143329,
     "end_time": "2020-11-10T17:24:38.004063",
     "exception": false,
     "start_time": "2020-11-10T17:24:37.860734",
     "status": "completed"
    },
    "tags": []
   },
   "source": [
    "- Creating Training Feature to train the model to predict the beter accuracy."
   ]
  },
  {
   "cell_type": "code",
   "execution_count": 42,
   "metadata": {
    "execution": {
     "iopub.execute_input": "2020-11-10T17:24:38.295695Z",
     "iopub.status.busy": "2020-11-10T17:24:38.294857Z",
     "iopub.status.idle": "2020-11-10T17:24:38.299135Z",
     "shell.execute_reply": "2020-11-10T17:24:38.298549Z"
    },
    "papermill": {
     "duration": 0.15276,
     "end_time": "2020-11-10T17:24:38.299264",
     "exception": false,
     "start_time": "2020-11-10T17:24:38.146504",
     "status": "completed"
    },
    "tags": []
   },
   "outputs": [
    {
     "data": {
      "text/plain": [
       "['Rooms',\n",
       " 'Distance',\n",
       " 'Postcode',\n",
       " 'Bedroom2',\n",
       " 'Bathroom',\n",
       " 'Car',\n",
       " 'Landsize',\n",
       " 'BuildingArea',\n",
       " 'YearBuilt',\n",
       " 'Lattitude',\n",
       " 'Longtitude',\n",
       " 'Propertycount',\n",
       " 'Type',\n",
       " 'Method',\n",
       " 'CouncilArea',\n",
       " 'Regionname']"
      ]
     },
     "execution_count": 42,
     "metadata": {},
     "output_type": "execute_result"
    }
   ],
   "source": [
    "\n",
    "# training_features = ['Rooms', 'Bathroom', 'Landsize', 'BuildingArea', \n",
    "#                         'YearBuilt', 'Lattitude', 'Longtitude']\n",
    "\n",
    "training_features = list(numeric_features) + list(categorical_features)\n",
    "\n",
    "# Remove 'Price' Feature from list\n",
    "training_features.remove('Price')\n",
    "\n",
    "# show the final list\n",
    "training_features"
   ]
  },
  {
   "cell_type": "markdown",
   "metadata": {
    "papermill": {
     "duration": 0.141936,
     "end_time": "2020-11-10T17:24:38.583660",
     "exception": false,
     "start_time": "2020-11-10T17:24:38.441724",
     "status": "completed"
    },
    "tags": []
   },
   "source": [
    "### Scalling Dataset\n",
    "\n",
    "- Here, We are using `MinMaxScaler` to notmalize our dataset. Firstly, we need to import that class from `sklearn.preprocessing` package"
   ]
  },
  {
   "cell_type": "code",
   "execution_count": 43,
   "metadata": {
    "execution": {
     "iopub.execute_input": "2020-11-10T17:24:38.882898Z",
     "iopub.status.busy": "2020-11-10T17:24:38.881626Z",
     "iopub.status.idle": "2020-11-10T17:24:38.885614Z",
     "shell.execute_reply": "2020-11-10T17:24:38.886633Z"
    },
    "papermill": {
     "duration": 0.160457,
     "end_time": "2020-11-10T17:24:38.886861",
     "exception": false,
     "start_time": "2020-11-10T17:24:38.726404",
     "status": "completed"
    },
    "tags": []
   },
   "outputs": [],
   "source": [
    "from sklearn.preprocessing import MinMaxScaler"
   ]
  },
  {
   "cell_type": "code",
   "execution_count": 44,
   "metadata": {
    "execution": {
     "iopub.execute_input": "2020-11-10T17:24:39.193530Z",
     "iopub.status.busy": "2020-11-10T17:24:39.192730Z",
     "iopub.status.idle": "2020-11-10T17:24:39.206118Z",
     "shell.execute_reply": "2020-11-10T17:24:39.205458Z"
    },
    "papermill": {
     "duration": 0.160246,
     "end_time": "2020-11-10T17:24:39.206245",
     "exception": false,
     "start_time": "2020-11-10T17:24:39.045999",
     "status": "completed"
    },
    "tags": []
   },
   "outputs": [
    {
     "data": {
      "text/plain": [
       "MinMaxScaler()"
      ]
     },
     "execution_count": 44,
     "metadata": {},
     "output_type": "execute_result"
    }
   ],
   "source": [
    "# Let's Normalize the data for training and testing\n",
    "\n",
    "minMaxNorm = MinMaxScaler()\n",
    "\n",
    "minMaxNorm.fit(data[training_features])\n",
    "\n"
   ]
  },
  {
   "cell_type": "markdown",
   "metadata": {
    "papermill": {
     "duration": 0.143478,
     "end_time": "2020-11-10T17:24:39.493230",
     "exception": false,
     "start_time": "2020-11-10T17:24:39.349752",
     "status": "completed"
    },
    "tags": []
   },
   "source": [
    "Create `X` data and assignning from `training feature` columns from `data` and make it normalized."
   ]
  },
  {
   "cell_type": "code",
   "execution_count": 45,
   "metadata": {
    "execution": {
     "iopub.execute_input": "2020-11-10T17:24:39.787194Z",
     "iopub.status.busy": "2020-11-10T17:24:39.786338Z",
     "iopub.status.idle": "2020-11-10T17:24:39.791920Z",
     "shell.execute_reply": "2020-11-10T17:24:39.791282Z"
    },
    "papermill": {
     "duration": 0.156529,
     "end_time": "2020-11-10T17:24:39.792050",
     "exception": false,
     "start_time": "2020-11-10T17:24:39.635521",
     "status": "completed"
    },
    "tags": []
   },
   "outputs": [],
   "source": [
    "X = minMaxNorm.transform(data[training_features]) "
   ]
  },
  {
   "cell_type": "code",
   "execution_count": 46,
   "metadata": {
    "execution": {
     "iopub.execute_input": "2020-11-10T17:24:40.084020Z",
     "iopub.status.busy": "2020-11-10T17:24:40.082522Z",
     "iopub.status.idle": "2020-11-10T17:24:40.088584Z",
     "shell.execute_reply": "2020-11-10T17:24:40.088018Z"
    },
    "papermill": {
     "duration": 0.152876,
     "end_time": "2020-11-10T17:24:40.088728",
     "exception": false,
     "start_time": "2020-11-10T17:24:39.935852",
     "status": "completed"
    },
    "tags": []
   },
   "outputs": [
    {
     "data": {
      "text/plain": [
       "array([[0.11111111, 0.05197505, 0.06857728, ..., 0.25      , 0.96875   ,\n",
       "        0.28571429],\n",
       "       [0.11111111, 0.05197505, 0.06857728, ..., 0.25      , 0.96875   ,\n",
       "        0.28571429],\n",
       "       [0.22222222, 0.05197505, 0.06857728, ..., 0.75      , 0.96875   ,\n",
       "        0.28571429],\n",
       "       ...,\n",
       "       [0.22222222, 0.14137214, 0.01637666, ..., 0.25      , 0.71875   ,\n",
       "        0.85714286],\n",
       "       [0.33333333, 0.14137214, 0.01637666, ..., 0.        , 0.71875   ,\n",
       "        0.85714286],\n",
       "       [0.33333333, 0.13097713, 0.01330604, ..., 0.75      , 0.71875   ,\n",
       "        0.85714286]])"
      ]
     },
     "execution_count": 46,
     "metadata": {},
     "output_type": "execute_result"
    }
   ],
   "source": [
    "X"
   ]
  },
  {
   "cell_type": "code",
   "execution_count": 47,
   "metadata": {
    "execution": {
     "iopub.execute_input": "2020-11-10T17:24:40.385911Z",
     "iopub.status.busy": "2020-11-10T17:24:40.384847Z",
     "iopub.status.idle": "2020-11-10T17:24:40.389845Z",
     "shell.execute_reply": "2020-11-10T17:24:40.389054Z"
    },
    "papermill": {
     "duration": 0.158039,
     "end_time": "2020-11-10T17:24:40.390016",
     "exception": false,
     "start_time": "2020-11-10T17:24:40.231977",
     "status": "completed"
    },
    "tags": []
   },
   "outputs": [
    {
     "data": {
      "text/plain": [
       "0        1480000.0\n",
       "1        1035000.0\n",
       "2        1465000.0\n",
       "3         850000.0\n",
       "4        1600000.0\n",
       "           ...    \n",
       "13575    1245000.0\n",
       "13576    1031000.0\n",
       "13577    1170000.0\n",
       "13578    2500000.0\n",
       "13579    1285000.0\n",
       "Name: Price, Length: 13580, dtype: float64"
      ]
     },
     "execution_count": 47,
     "metadata": {},
     "output_type": "execute_result"
    }
   ],
   "source": [
    "Y = data['Price']  \n",
    "Y"
   ]
  },
  {
   "cell_type": "markdown",
   "metadata": {
    "papermill": {
     "duration": 0.14713,
     "end_time": "2020-11-10T17:24:40.683613",
     "exception": false,
     "start_time": "2020-11-10T17:24:40.536483",
     "status": "completed"
    },
    "tags": []
   },
   "source": [
    "## Splite Train and Test Dataset\n",
    "\n",
    "Before we splite the data, We need to import train_test_split module from sklearn package"
   ]
  },
  {
   "cell_type": "code",
   "execution_count": 48,
   "metadata": {
    "execution": {
     "iopub.execute_input": "2020-11-10T17:24:40.977642Z",
     "iopub.status.busy": "2020-11-10T17:24:40.976781Z",
     "iopub.status.idle": "2020-11-10T17:24:41.043457Z",
     "shell.execute_reply": "2020-11-10T17:24:41.042803Z"
    },
    "papermill": {
     "duration": 0.216449,
     "end_time": "2020-11-10T17:24:41.043602",
     "exception": false,
     "start_time": "2020-11-10T17:24:40.827153",
     "status": "completed"
    },
    "tags": []
   },
   "outputs": [],
   "source": [
    "from sklearn.model_selection import train_test_split"
   ]
  },
  {
   "cell_type": "markdown",
   "metadata": {
    "papermill": {
     "duration": 0.144101,
     "end_time": "2020-11-10T17:24:41.334534",
     "exception": false,
     "start_time": "2020-11-10T17:24:41.190433",
     "status": "completed"
    },
    "tags": []
   },
   "source": [
    "### Splites the main data\n",
    "\n",
    "- split data into training and validation data, for both features and target. The split is based on a random number generator.\n",
    "- Supplying a numeric value to the random_state argument guarantees we get the same split eve run this script."
   ]
  },
  {
   "cell_type": "code",
   "execution_count": 49,
   "metadata": {
    "execution": {
     "iopub.execute_input": "2020-11-10T17:24:41.630894Z",
     "iopub.status.busy": "2020-11-10T17:24:41.629778Z",
     "iopub.status.idle": "2020-11-10T17:24:41.635826Z",
     "shell.execute_reply": "2020-11-10T17:24:41.635096Z"
    },
    "papermill": {
     "duration": 0.156876,
     "end_time": "2020-11-10T17:24:41.635957",
     "exception": false,
     "start_time": "2020-11-10T17:24:41.479081",
     "status": "completed"
    },
    "tags": []
   },
   "outputs": [],
   "source": [
    "train_X, test_X, train_Y, test_Y = train_test_split(X, Y, random_state = 0)"
   ]
  },
  {
   "cell_type": "markdown",
   "metadata": {
    "papermill": {
     "duration": 0.145066,
     "end_time": "2020-11-10T17:24:41.926600",
     "exception": false,
     "start_time": "2020-11-10T17:24:41.781534",
     "status": "completed"
    },
    "tags": []
   },
   "source": [
    "##### Check the train and test sized"
   ]
  },
  {
   "cell_type": "code",
   "execution_count": 50,
   "metadata": {
    "execution": {
     "iopub.execute_input": "2020-11-10T17:24:42.225752Z",
     "iopub.status.busy": "2020-11-10T17:24:42.224839Z",
     "iopub.status.idle": "2020-11-10T17:24:42.229184Z",
     "shell.execute_reply": "2020-11-10T17:24:42.228461Z"
    },
    "papermill": {
     "duration": 0.156458,
     "end_time": "2020-11-10T17:24:42.229303",
     "exception": false,
     "start_time": "2020-11-10T17:24:42.072845",
     "status": "completed"
    },
    "tags": []
   },
   "outputs": [
    {
     "name": "stdout",
     "output_type": "stream",
     "text": [
      "Total size:  13580\n",
      "Train size:  (10185, 16) (10185,)\n",
      "Test size:  (3395, 16) (3395,)\n"
     ]
    }
   ],
   "source": [
    "print(\"Total size: \", data.shape[0])\n",
    "print(\"Train size: \", train_X.shape, train_Y.shape)\n",
    "print(\"Test size: \", test_X.shape, test_Y.shape)"
   ]
  },
  {
   "cell_type": "markdown",
   "metadata": {
    "papermill": {
     "duration": 0.149987,
     "end_time": "2020-11-10T17:24:42.525775",
     "exception": false,
     "start_time": "2020-11-10T17:24:42.375788",
     "status": "completed"
    },
    "tags": []
   },
   "source": [
    "# Model Building"
   ]
  },
  {
   "cell_type": "markdown",
   "metadata": {
    "papermill": {
     "duration": 0.145704,
     "end_time": "2020-11-10T17:24:42.817774",
     "exception": false,
     "start_time": "2020-11-10T17:24:42.672070",
     "status": "completed"
    },
    "tags": []
   },
   "source": [
    "#### Before Implementing ML Models we can create dataframe to stores the prediction values by each models that we are implementing below here."
   ]
  },
  {
   "cell_type": "code",
   "execution_count": 51,
   "metadata": {
    "execution": {
     "iopub.execute_input": "2020-11-10T17:24:43.124319Z",
     "iopub.status.busy": "2020-11-10T17:24:43.123199Z",
     "iopub.status.idle": "2020-11-10T17:24:43.127689Z",
     "shell.execute_reply": "2020-11-10T17:24:43.127045Z"
    },
    "papermill": {
     "duration": 0.163618,
     "end_time": "2020-11-10T17:24:43.127824",
     "exception": false,
     "start_time": "2020-11-10T17:24:42.964206",
     "status": "completed"
    },
    "tags": []
   },
   "outputs": [
    {
     "data": {
      "text/html": [
       "<div>\n",
       "<style scoped>\n",
       "    .dataframe tbody tr th:only-of-type {\n",
       "        vertical-align: middle;\n",
       "    }\n",
       "\n",
       "    .dataframe tbody tr th {\n",
       "        vertical-align: top;\n",
       "    }\n",
       "\n",
       "    .dataframe thead th {\n",
       "        text-align: right;\n",
       "    }\n",
       "</style>\n",
       "<table border=\"1\" class=\"dataframe\">\n",
       "  <thead>\n",
       "    <tr style=\"text-align: right;\">\n",
       "      <th></th>\n",
       "      <th>model_name</th>\n",
       "      <th>prediction_score</th>\n",
       "      <th>mean_absolute_error</th>\n",
       "    </tr>\n",
       "  </thead>\n",
       "  <tbody>\n",
       "  </tbody>\n",
       "</table>\n",
       "</div>"
      ],
      "text/plain": [
       "Empty DataFrame\n",
       "Columns: [model_name, prediction_score, mean_absolute_error]\n",
       "Index: []"
      ]
     },
     "execution_count": 51,
     "metadata": {},
     "output_type": "execute_result"
    }
   ],
   "source": [
    "models_summary = pd.DataFrame([],\n",
    "                              columns=['model_name', \n",
    "                                       'prediction_score',\n",
    "                                       'mean_absolute_error'\n",
    "                                      ])\n",
    "models_summary"
   ]
  },
  {
   "cell_type": "markdown",
   "metadata": {
    "papermill": {
     "duration": 0.144449,
     "end_time": "2020-11-10T17:24:43.423341",
     "exception": false,
     "start_time": "2020-11-10T17:24:43.278892",
     "status": "completed"
    },
    "tags": []
   },
   "source": [
    "### Linear Reression Model"
   ]
  },
  {
   "cell_type": "code",
   "execution_count": 52,
   "metadata": {
    "execution": {
     "iopub.execute_input": "2020-11-10T17:24:43.719347Z",
     "iopub.status.busy": "2020-11-10T17:24:43.718520Z",
     "iopub.status.idle": "2020-11-10T17:24:43.812067Z",
     "shell.execute_reply": "2020-11-10T17:24:43.811387Z"
    },
    "papermill": {
     "duration": 0.243339,
     "end_time": "2020-11-10T17:24:43.812197",
     "exception": false,
     "start_time": "2020-11-10T17:24:43.568858",
     "status": "completed"
    },
    "tags": []
   },
   "outputs": [],
   "source": [
    "from sklearn.linear_model import LinearRegression\n",
    "\n",
    "\n",
    "from sklearn.metrics import mean_absolute_error"
   ]
  },
  {
   "cell_type": "code",
   "execution_count": 53,
   "metadata": {
    "execution": {
     "iopub.execute_input": "2020-11-10T17:24:44.114280Z",
     "iopub.status.busy": "2020-11-10T17:24:44.113468Z",
     "iopub.status.idle": "2020-11-10T17:24:44.167557Z",
     "shell.execute_reply": "2020-11-10T17:24:44.166770Z"
    },
    "papermill": {
     "duration": 0.206821,
     "end_time": "2020-11-10T17:24:44.167727",
     "exception": false,
     "start_time": "2020-11-10T17:24:43.960906",
     "status": "completed"
    },
    "tags": []
   },
   "outputs": [
    {
     "data": {
      "text/plain": [
       "LinearRegression()"
      ]
     },
     "execution_count": 53,
     "metadata": {},
     "output_type": "execute_result"
    }
   ],
   "source": [
    "lr_model = LinearRegression()\n",
    "\n",
    "lr_model.fit(train_X, train_Y)"
   ]
  },
  {
   "cell_type": "code",
   "execution_count": 54,
   "metadata": {
    "execution": {
     "iopub.execute_input": "2020-11-10T17:24:44.476226Z",
     "iopub.status.busy": "2020-11-10T17:24:44.475069Z",
     "iopub.status.idle": "2020-11-10T17:24:44.482313Z",
     "shell.execute_reply": "2020-11-10T17:24:44.483146Z"
    },
    "papermill": {
     "duration": 0.163017,
     "end_time": "2020-11-10T17:24:44.483323",
     "exception": false,
     "start_time": "2020-11-10T17:24:44.320306",
     "status": "completed"
    },
    "tags": []
   },
   "outputs": [
    {
     "data": {
      "text/plain": [
       "array([1680917.33895576, 1046410.66321235,  739798.7252487 , ...,\n",
       "        914404.29016366,  748075.86588417,  934215.23250777])"
      ]
     },
     "execution_count": 54,
     "metadata": {},
     "output_type": "execute_result"
    }
   ],
   "source": [
    "lr_model_predicted = lr_model.predict(test_X)\n",
    "lr_model_predicted"
   ]
  },
  {
   "cell_type": "code",
   "execution_count": 55,
   "metadata": {
    "execution": {
     "iopub.execute_input": "2020-11-10T17:24:44.788124Z",
     "iopub.status.busy": "2020-11-10T17:24:44.787302Z",
     "iopub.status.idle": "2020-11-10T17:24:44.793934Z",
     "shell.execute_reply": "2020-11-10T17:24:44.794519Z"
    },
    "papermill": {
     "duration": 0.160565,
     "end_time": "2020-11-10T17:24:44.794687",
     "exception": false,
     "start_time": "2020-11-10T17:24:44.634122",
     "status": "completed"
    },
    "tags": []
   },
   "outputs": [
    {
     "data": {
      "text/plain": [
       "0.5599986342693357"
      ]
     },
     "execution_count": 55,
     "metadata": {},
     "output_type": "execute_result"
    }
   ],
   "source": [
    "lr_model_score = lr_model.score(test_X, test_Y )\n",
    "\n",
    "lr_model_score"
   ]
  },
  {
   "cell_type": "markdown",
   "metadata": {
    "papermill": {
     "duration": 0.147049,
     "end_time": "2020-11-10T17:24:45.093782",
     "exception": false,
     "start_time": "2020-11-10T17:24:44.946733",
     "status": "completed"
    },
    "tags": []
   },
   "source": [
    "Now, Let's find the `mean absolute error` using test_Y and predicted vales"
   ]
  },
  {
   "cell_type": "code",
   "execution_count": 56,
   "metadata": {
    "execution": {
     "iopub.execute_input": "2020-11-10T17:24:45.396504Z",
     "iopub.status.busy": "2020-11-10T17:24:45.395327Z",
     "iopub.status.idle": "2020-11-10T17:24:45.398971Z",
     "shell.execute_reply": "2020-11-10T17:24:45.398242Z"
    },
    "papermill": {
     "duration": 0.15836,
     "end_time": "2020-11-10T17:24:45.399121",
     "exception": false,
     "start_time": "2020-11-10T17:24:45.240761",
     "status": "completed"
    },
    "tags": []
   },
   "outputs": [],
   "source": [
    "mae = mean_absolute_error(test_Y, lr_model_predicted)"
   ]
  },
  {
   "cell_type": "markdown",
   "metadata": {
    "papermill": {
     "duration": 0.165505,
     "end_time": "2020-11-10T17:24:45.734747",
     "exception": false,
     "start_time": "2020-11-10T17:24:45.569242",
     "status": "completed"
    },
    "tags": []
   },
   "source": [
    "###### Store model and it's predictoin score in dataframe that we created below the model building section"
   ]
  },
  {
   "cell_type": "code",
   "execution_count": 57,
   "metadata": {
    "execution": {
     "iopub.execute_input": "2020-11-10T17:24:46.050398Z",
     "iopub.status.busy": "2020-11-10T17:24:46.048864Z",
     "iopub.status.idle": "2020-11-10T17:24:46.053221Z",
     "shell.execute_reply": "2020-11-10T17:24:46.053795Z"
    },
    "papermill": {
     "duration": 0.160888,
     "end_time": "2020-11-10T17:24:46.053965",
     "exception": false,
     "start_time": "2020-11-10T17:24:45.893077",
     "status": "completed"
    },
    "tags": []
   },
   "outputs": [],
   "source": [
    "models_summary = models_summary.append({\n",
    "    'model_name': lr_model.__class__.__name__,\n",
    "    'prediction_score': lr_model_score,\n",
    "    'mean_absolute_error' : mae\n",
    "}, ignore_index=True)"
   ]
  },
  {
   "cell_type": "markdown",
   "metadata": {
    "papermill": {
     "duration": 0.14723,
     "end_time": "2020-11-10T17:24:46.349801",
     "exception": false,
     "start_time": "2020-11-10T17:24:46.202571",
     "status": "completed"
    },
    "tags": []
   },
   "source": [
    "Now, let's see the model_summary dataframe"
   ]
  },
  {
   "cell_type": "code",
   "execution_count": 58,
   "metadata": {
    "execution": {
     "iopub.execute_input": "2020-11-10T17:24:46.657894Z",
     "iopub.status.busy": "2020-11-10T17:24:46.656842Z",
     "iopub.status.idle": "2020-11-10T17:24:46.660417Z",
     "shell.execute_reply": "2020-11-10T17:24:46.661028Z"
    },
    "papermill": {
     "duration": 0.162471,
     "end_time": "2020-11-10T17:24:46.661178",
     "exception": false,
     "start_time": "2020-11-10T17:24:46.498707",
     "status": "completed"
    },
    "tags": []
   },
   "outputs": [
    {
     "data": {
      "text/html": [
       "<div>\n",
       "<style scoped>\n",
       "    .dataframe tbody tr th:only-of-type {\n",
       "        vertical-align: middle;\n",
       "    }\n",
       "\n",
       "    .dataframe tbody tr th {\n",
       "        vertical-align: top;\n",
       "    }\n",
       "\n",
       "    .dataframe thead th {\n",
       "        text-align: right;\n",
       "    }\n",
       "</style>\n",
       "<table border=\"1\" class=\"dataframe\">\n",
       "  <thead>\n",
       "    <tr style=\"text-align: right;\">\n",
       "      <th></th>\n",
       "      <th>model_name</th>\n",
       "      <th>prediction_score</th>\n",
       "      <th>mean_absolute_error</th>\n",
       "    </tr>\n",
       "  </thead>\n",
       "  <tbody>\n",
       "    <tr>\n",
       "      <th>0</th>\n",
       "      <td>LinearRegression</td>\n",
       "      <td>0.559999</td>\n",
       "      <td>275330.209598</td>\n",
       "    </tr>\n",
       "  </tbody>\n",
       "</table>\n",
       "</div>"
      ],
      "text/plain": [
       "         model_name  prediction_score  mean_absolute_error\n",
       "0  LinearRegression          0.559999        275330.209598"
      ]
     },
     "execution_count": 58,
     "metadata": {},
     "output_type": "execute_result"
    }
   ],
   "source": [
    "models_summary"
   ]
  },
  {
   "cell_type": "markdown",
   "metadata": {
    "papermill": {
     "duration": 0.148864,
     "end_time": "2020-11-10T17:24:46.959638",
     "exception": false,
     "start_time": "2020-11-10T17:24:46.810774",
     "status": "completed"
    },
    "tags": []
   },
   "source": [
    "### Decision Tree Regressor Model"
   ]
  },
  {
   "cell_type": "code",
   "execution_count": 59,
   "metadata": {
    "execution": {
     "iopub.execute_input": "2020-11-10T17:24:47.261756Z",
     "iopub.status.busy": "2020-11-10T17:24:47.260942Z",
     "iopub.status.idle": "2020-11-10T17:24:47.370194Z",
     "shell.execute_reply": "2020-11-10T17:24:47.369520Z"
    },
    "papermill": {
     "duration": 0.26259,
     "end_time": "2020-11-10T17:24:47.370329",
     "exception": false,
     "start_time": "2020-11-10T17:24:47.107739",
     "status": "completed"
    },
    "tags": []
   },
   "outputs": [],
   "source": [
    "from sklearn.tree import DecisionTreeRegressor"
   ]
  },
  {
   "cell_type": "code",
   "execution_count": 60,
   "metadata": {
    "execution": {
     "iopub.execute_input": "2020-11-10T17:24:47.679400Z",
     "iopub.status.busy": "2020-11-10T17:24:47.678400Z",
     "iopub.status.idle": "2020-11-10T17:24:47.681026Z",
     "shell.execute_reply": "2020-11-10T17:24:47.681555Z"
    },
    "papermill": {
     "duration": 0.158961,
     "end_time": "2020-11-10T17:24:47.681736",
     "exception": false,
     "start_time": "2020-11-10T17:24:47.522775",
     "status": "completed"
    },
    "tags": []
   },
   "outputs": [],
   "source": [
    "Dtree_model = DecisionTreeRegressor(random_state=1)"
   ]
  },
  {
   "cell_type": "code",
   "execution_count": 61,
   "metadata": {
    "execution": {
     "iopub.execute_input": "2020-11-10T17:24:47.985898Z",
     "iopub.status.busy": "2020-11-10T17:24:47.985109Z",
     "iopub.status.idle": "2020-11-10T17:24:48.103625Z",
     "shell.execute_reply": "2020-11-10T17:24:48.102945Z"
    },
    "papermill": {
     "duration": 0.272659,
     "end_time": "2020-11-10T17:24:48.103772",
     "exception": false,
     "start_time": "2020-11-10T17:24:47.831113",
     "status": "completed"
    },
    "tags": []
   },
   "outputs": [
    {
     "data": {
      "text/plain": [
       "DecisionTreeRegressor(random_state=1)"
      ]
     },
     "execution_count": 61,
     "metadata": {},
     "output_type": "execute_result"
    }
   ],
   "source": [
    "Dtree_model.fit(train_X, train_Y)"
   ]
  },
  {
   "cell_type": "code",
   "execution_count": 62,
   "metadata": {
    "execution": {
     "iopub.execute_input": "2020-11-10T17:24:48.409423Z",
     "iopub.status.busy": "2020-11-10T17:24:48.408414Z",
     "iopub.status.idle": "2020-11-10T17:24:48.413803Z",
     "shell.execute_reply": "2020-11-10T17:24:48.414407Z"
    },
    "papermill": {
     "duration": 0.159396,
     "end_time": "2020-11-10T17:24:48.414558",
     "exception": false,
     "start_time": "2020-11-10T17:24:48.255162",
     "status": "completed"
    },
    "tags": []
   },
   "outputs": [],
   "source": [
    "Dtree_model_predicted = Dtree_model.predict(test_X)"
   ]
  },
  {
   "cell_type": "code",
   "execution_count": 63,
   "metadata": {
    "execution": {
     "iopub.execute_input": "2020-11-10T17:24:48.719090Z",
     "iopub.status.busy": "2020-11-10T17:24:48.718327Z",
     "iopub.status.idle": "2020-11-10T17:24:48.725577Z",
     "shell.execute_reply": "2020-11-10T17:24:48.726143Z"
    },
    "papermill": {
     "duration": 0.161467,
     "end_time": "2020-11-10T17:24:48.726310",
     "exception": false,
     "start_time": "2020-11-10T17:24:48.564843",
     "status": "completed"
    },
    "tags": []
   },
   "outputs": [
    {
     "data": {
      "text/plain": [
       "0.5797746566535157"
      ]
     },
     "execution_count": 63,
     "metadata": {},
     "output_type": "execute_result"
    }
   ],
   "source": [
    "Dtree_model_score = Dtree_model.score(test_X, test_Y)\n",
    "Dtree_model_score"
   ]
  },
  {
   "cell_type": "code",
   "execution_count": 64,
   "metadata": {
    "execution": {
     "iopub.execute_input": "2020-11-10T17:24:49.099208Z",
     "iopub.status.busy": "2020-11-10T17:24:49.098134Z",
     "iopub.status.idle": "2020-11-10T17:24:49.102227Z",
     "shell.execute_reply": "2020-11-10T17:24:49.101161Z"
    },
    "papermill": {
     "duration": 0.214769,
     "end_time": "2020-11-10T17:24:49.102395",
     "exception": false,
     "start_time": "2020-11-10T17:24:48.887626",
     "status": "completed"
    },
    "tags": []
   },
   "outputs": [],
   "source": [
    "mae = mean_absolute_error(Dtree_model_predicted, test_Y)"
   ]
  },
  {
   "cell_type": "code",
   "execution_count": 65,
   "metadata": {
    "execution": {
     "iopub.execute_input": "2020-11-10T17:24:49.428966Z",
     "iopub.status.busy": "2020-11-10T17:24:49.425543Z",
     "iopub.status.idle": "2020-11-10T17:24:49.434066Z",
     "shell.execute_reply": "2020-11-10T17:24:49.433310Z"
    },
    "papermill": {
     "duration": 0.173603,
     "end_time": "2020-11-10T17:24:49.434191",
     "exception": false,
     "start_time": "2020-11-10T17:24:49.260588",
     "status": "completed"
    },
    "tags": []
   },
   "outputs": [
    {
     "data": {
      "text/html": [
       "<div>\n",
       "<style scoped>\n",
       "    .dataframe tbody tr th:only-of-type {\n",
       "        vertical-align: middle;\n",
       "    }\n",
       "\n",
       "    .dataframe tbody tr th {\n",
       "        vertical-align: top;\n",
       "    }\n",
       "\n",
       "    .dataframe thead th {\n",
       "        text-align: right;\n",
       "    }\n",
       "</style>\n",
       "<table border=\"1\" class=\"dataframe\">\n",
       "  <thead>\n",
       "    <tr style=\"text-align: right;\">\n",
       "      <th></th>\n",
       "      <th>model_name</th>\n",
       "      <th>prediction_score</th>\n",
       "      <th>mean_absolute_error</th>\n",
       "    </tr>\n",
       "  </thead>\n",
       "  <tbody>\n",
       "    <tr>\n",
       "      <th>1</th>\n",
       "      <td>DecisionTreeRegressor</td>\n",
       "      <td>0.579775</td>\n",
       "      <td>236344.503387</td>\n",
       "    </tr>\n",
       "    <tr>\n",
       "      <th>0</th>\n",
       "      <td>LinearRegression</td>\n",
       "      <td>0.559999</td>\n",
       "      <td>275330.209598</td>\n",
       "    </tr>\n",
       "  </tbody>\n",
       "</table>\n",
       "</div>"
      ],
      "text/plain": [
       "              model_name  prediction_score  mean_absolute_error\n",
       "1  DecisionTreeRegressor          0.579775        236344.503387\n",
       "0       LinearRegression          0.559999        275330.209598"
      ]
     },
     "execution_count": 65,
     "metadata": {},
     "output_type": "execute_result"
    }
   ],
   "source": [
    "models_summary = models_summary.append({\n",
    "    'model_name': Dtree_model.__class__.__name__,\n",
    "    'prediction_score': Dtree_model_score,\n",
    "    'mean_absolute_error' : mae\n",
    "}, ignore_index=True)\n",
    "\n",
    "models_summary.sort_values('prediction_score', ascending=False)"
   ]
  },
  {
   "cell_type": "markdown",
   "metadata": {
    "papermill": {
     "duration": 0.150779,
     "end_time": "2020-11-10T17:24:49.738324",
     "exception": false,
     "start_time": "2020-11-10T17:24:49.587545",
     "status": "completed"
    },
    "tags": []
   },
   "source": [
    "### Random Forest Regressor Model"
   ]
  },
  {
   "cell_type": "markdown",
   "metadata": {
    "papermill": {
     "duration": 0.176216,
     "end_time": "2020-11-10T17:24:50.076473",
     "exception": false,
     "start_time": "2020-11-10T17:24:49.900257",
     "status": "completed"
    },
    "tags": []
   },
   "source": [
    "Here, We implement other models from ensemble package."
   ]
  },
  {
   "cell_type": "code",
   "execution_count": 66,
   "metadata": {
    "execution": {
     "iopub.execute_input": "2020-11-10T17:24:50.387408Z",
     "iopub.status.busy": "2020-11-10T17:24:50.386601Z",
     "iopub.status.idle": "2020-11-10T17:24:50.543604Z",
     "shell.execute_reply": "2020-11-10T17:24:50.544202Z"
    },
    "papermill": {
     "duration": 0.31501,
     "end_time": "2020-11-10T17:24:50.544369",
     "exception": false,
     "start_time": "2020-11-10T17:24:50.229359",
     "status": "completed"
    },
    "tags": []
   },
   "outputs": [],
   "source": [
    "from sklearn.ensemble import  RandomForestRegressor\n",
    "from sklearn.ensemble import  BaggingRegressor \n",
    "from sklearn.ensemble import  AdaBoostRegressor\n",
    "from sklearn.ensemble import  GradientBoostingRegressor"
   ]
  },
  {
   "cell_type": "code",
   "execution_count": 67,
   "metadata": {
    "execution": {
     "iopub.execute_input": "2020-11-10T17:24:50.866290Z",
     "iopub.status.busy": "2020-11-10T17:24:50.865224Z",
     "iopub.status.idle": "2020-11-10T17:24:50.868362Z",
     "shell.execute_reply": "2020-11-10T17:24:50.867339Z"
    },
    "papermill": {
     "duration": 0.172403,
     "end_time": "2020-11-10T17:24:50.868536",
     "exception": false,
     "start_time": "2020-11-10T17:24:50.696133",
     "status": "completed"
    },
    "tags": []
   },
   "outputs": [],
   "source": [
    "RFRModel = RandomForestRegressor(max_leaf_nodes=100, random_state=1)"
   ]
  },
  {
   "cell_type": "code",
   "execution_count": 68,
   "metadata": {
    "execution": {
     "iopub.execute_input": "2020-11-10T17:24:51.185271Z",
     "iopub.status.busy": "2020-11-10T17:24:51.184487Z",
     "iopub.status.idle": "2020-11-10T17:24:54.624420Z",
     "shell.execute_reply": "2020-11-10T17:24:54.623675Z"
    },
    "papermill": {
     "duration": 3.599488,
     "end_time": "2020-11-10T17:24:54.624539",
     "exception": false,
     "start_time": "2020-11-10T17:24:51.025051",
     "status": "completed"
    },
    "tags": []
   },
   "outputs": [
    {
     "data": {
      "text/plain": [
       "RandomForestRegressor(max_leaf_nodes=100, random_state=1)"
      ]
     },
     "execution_count": 68,
     "metadata": {},
     "output_type": "execute_result"
    }
   ],
   "source": [
    "RFRModel.fit(train_X, train_Y)"
   ]
  },
  {
   "cell_type": "code",
   "execution_count": 69,
   "metadata": {
    "execution": {
     "iopub.execute_input": "2020-11-10T17:24:54.945804Z",
     "iopub.status.busy": "2020-11-10T17:24:54.945014Z",
     "iopub.status.idle": "2020-11-10T17:24:54.979817Z",
     "shell.execute_reply": "2020-11-10T17:24:54.979066Z"
    },
    "papermill": {
     "duration": 0.203539,
     "end_time": "2020-11-10T17:24:54.979940",
     "exception": false,
     "start_time": "2020-11-10T17:24:54.776401",
     "status": "completed"
    },
    "tags": []
   },
   "outputs": [],
   "source": [
    "RFRModel_predicted = RFRModel.predict(test_X)"
   ]
  },
  {
   "cell_type": "code",
   "execution_count": 70,
   "metadata": {
    "execution": {
     "iopub.execute_input": "2020-11-10T17:24:55.290384Z",
     "iopub.status.busy": "2020-11-10T17:24:55.289543Z",
     "iopub.status.idle": "2020-11-10T17:24:55.327383Z",
     "shell.execute_reply": "2020-11-10T17:24:55.326564Z"
    },
    "papermill": {
     "duration": 0.195387,
     "end_time": "2020-11-10T17:24:55.327516",
     "exception": false,
     "start_time": "2020-11-10T17:24:55.132129",
     "status": "completed"
    },
    "tags": []
   },
   "outputs": [
    {
     "data": {
      "text/plain": [
       "0.734913453241187"
      ]
     },
     "execution_count": 70,
     "metadata": {},
     "output_type": "execute_result"
    }
   ],
   "source": [
    "RFRModel_score = RFRModel.score(test_X, test_Y)\n",
    "RFRModel_score"
   ]
  },
  {
   "cell_type": "code",
   "execution_count": 71,
   "metadata": {
    "execution": {
     "iopub.execute_input": "2020-11-10T17:24:55.647514Z",
     "iopub.status.busy": "2020-11-10T17:24:55.646601Z",
     "iopub.status.idle": "2020-11-10T17:24:55.650034Z",
     "shell.execute_reply": "2020-11-10T17:24:55.649270Z"
    },
    "papermill": {
     "duration": 0.164826,
     "end_time": "2020-11-10T17:24:55.650156",
     "exception": false,
     "start_time": "2020-11-10T17:24:55.485330",
     "status": "completed"
    },
    "tags": []
   },
   "outputs": [],
   "source": [
    "mae = mean_absolute_error(RFRModel_predicted, test_Y)"
   ]
  },
  {
   "cell_type": "code",
   "execution_count": 72,
   "metadata": {
    "execution": {
     "iopub.execute_input": "2020-11-10T17:24:55.981694Z",
     "iopub.status.busy": "2020-11-10T17:24:55.978325Z",
     "iopub.status.idle": "2020-11-10T17:24:55.987158Z",
     "shell.execute_reply": "2020-11-10T17:24:55.986351Z"
    },
    "papermill": {
     "duration": 0.180965,
     "end_time": "2020-11-10T17:24:55.987314",
     "exception": false,
     "start_time": "2020-11-10T17:24:55.806349",
     "status": "completed"
    },
    "tags": []
   },
   "outputs": [
    {
     "data": {
      "text/html": [
       "<div>\n",
       "<style scoped>\n",
       "    .dataframe tbody tr th:only-of-type {\n",
       "        vertical-align: middle;\n",
       "    }\n",
       "\n",
       "    .dataframe tbody tr th {\n",
       "        vertical-align: top;\n",
       "    }\n",
       "\n",
       "    .dataframe thead th {\n",
       "        text-align: right;\n",
       "    }\n",
       "</style>\n",
       "<table border=\"1\" class=\"dataframe\">\n",
       "  <thead>\n",
       "    <tr style=\"text-align: right;\">\n",
       "      <th></th>\n",
       "      <th>model_name</th>\n",
       "      <th>prediction_score</th>\n",
       "      <th>mean_absolute_error</th>\n",
       "    </tr>\n",
       "  </thead>\n",
       "  <tbody>\n",
       "    <tr>\n",
       "      <th>2</th>\n",
       "      <td>RandomForestRegressor</td>\n",
       "      <td>0.734913</td>\n",
       "      <td>201100.047605</td>\n",
       "    </tr>\n",
       "    <tr>\n",
       "      <th>1</th>\n",
       "      <td>DecisionTreeRegressor</td>\n",
       "      <td>0.579775</td>\n",
       "      <td>236344.503387</td>\n",
       "    </tr>\n",
       "    <tr>\n",
       "      <th>0</th>\n",
       "      <td>LinearRegression</td>\n",
       "      <td>0.559999</td>\n",
       "      <td>275330.209598</td>\n",
       "    </tr>\n",
       "  </tbody>\n",
       "</table>\n",
       "</div>"
      ],
      "text/plain": [
       "              model_name  prediction_score  mean_absolute_error\n",
       "2  RandomForestRegressor          0.734913        201100.047605\n",
       "1  DecisionTreeRegressor          0.579775        236344.503387\n",
       "0       LinearRegression          0.559999        275330.209598"
      ]
     },
     "execution_count": 72,
     "metadata": {},
     "output_type": "execute_result"
    }
   ],
   "source": [
    "models_summary = models_summary.append({\n",
    "    'model_name': RFRModel.__class__.__name__,\n",
    "    'prediction_score': RFRModel_score,\n",
    "    'mean_absolute_error' : mae\n",
    "}, ignore_index=True)\n",
    "\n",
    "models_summary.sort_values('prediction_score', ascending=False)\n",
    " "
   ]
  },
  {
   "cell_type": "code",
   "execution_count": 73,
   "metadata": {
    "execution": {
     "iopub.execute_input": "2020-11-10T17:24:56.325087Z",
     "iopub.status.busy": "2020-11-10T17:24:56.324248Z",
     "iopub.status.idle": "2020-11-10T17:24:57.070246Z",
     "shell.execute_reply": "2020-11-10T17:24:57.070810Z"
    },
    "papermill": {
     "duration": 0.912054,
     "end_time": "2020-11-10T17:24:57.070976",
     "exception": false,
     "start_time": "2020-11-10T17:24:56.158922",
     "status": "completed"
    },
    "tags": []
   },
   "outputs": [],
   "source": [
    "# Creating Model\n",
    "BGR_model = BaggingRegressor()\n",
    "\n",
    "# Model Fitting\n",
    "BGR_model.fit(train_X, train_Y)\n",
    "\n",
    "# Model Prediction\n",
    "BGR_model_predicted = BGR_model.predict(test_X)\n",
    "\n",
    "# Model Score\n",
    "BGR_model_score = BGR_model.score(test_X, test_Y)\n",
    "\n",
    "# find Mean Absolute Error\n",
    "mae = mean_absolute_error(test_Y, BGR_model_predicted)"
   ]
  },
  {
   "cell_type": "code",
   "execution_count": 74,
   "metadata": {
    "execution": {
     "iopub.execute_input": "2020-11-10T17:24:57.404506Z",
     "iopub.status.busy": "2020-11-10T17:24:57.401048Z",
     "iopub.status.idle": "2020-11-10T17:24:57.409188Z",
     "shell.execute_reply": "2020-11-10T17:24:57.408447Z"
    },
    "papermill": {
     "duration": 0.179417,
     "end_time": "2020-11-10T17:24:57.409310",
     "exception": false,
     "start_time": "2020-11-10T17:24:57.229893",
     "status": "completed"
    },
    "tags": []
   },
   "outputs": [
    {
     "data": {
      "text/html": [
       "<div>\n",
       "<style scoped>\n",
       "    .dataframe tbody tr th:only-of-type {\n",
       "        vertical-align: middle;\n",
       "    }\n",
       "\n",
       "    .dataframe tbody tr th {\n",
       "        vertical-align: top;\n",
       "    }\n",
       "\n",
       "    .dataframe thead th {\n",
       "        text-align: right;\n",
       "    }\n",
       "</style>\n",
       "<table border=\"1\" class=\"dataframe\">\n",
       "  <thead>\n",
       "    <tr style=\"text-align: right;\">\n",
       "      <th></th>\n",
       "      <th>model_name</th>\n",
       "      <th>prediction_score</th>\n",
       "      <th>mean_absolute_error</th>\n",
       "    </tr>\n",
       "  </thead>\n",
       "  <tbody>\n",
       "    <tr>\n",
       "      <th>3</th>\n",
       "      <td>BaggingRegressor</td>\n",
       "      <td>0.766566</td>\n",
       "      <td>174486.193540</td>\n",
       "    </tr>\n",
       "    <tr>\n",
       "      <th>2</th>\n",
       "      <td>RandomForestRegressor</td>\n",
       "      <td>0.734913</td>\n",
       "      <td>201100.047605</td>\n",
       "    </tr>\n",
       "    <tr>\n",
       "      <th>1</th>\n",
       "      <td>DecisionTreeRegressor</td>\n",
       "      <td>0.579775</td>\n",
       "      <td>236344.503387</td>\n",
       "    </tr>\n",
       "    <tr>\n",
       "      <th>0</th>\n",
       "      <td>LinearRegression</td>\n",
       "      <td>0.559999</td>\n",
       "      <td>275330.209598</td>\n",
       "    </tr>\n",
       "  </tbody>\n",
       "</table>\n",
       "</div>"
      ],
      "text/plain": [
       "              model_name  prediction_score  mean_absolute_error\n",
       "3       BaggingRegressor          0.766566        174486.193540\n",
       "2  RandomForestRegressor          0.734913        201100.047605\n",
       "1  DecisionTreeRegressor          0.579775        236344.503387\n",
       "0       LinearRegression          0.559999        275330.209598"
      ]
     },
     "execution_count": 74,
     "metadata": {},
     "output_type": "execute_result"
    }
   ],
   "source": [
    "models_summary = models_summary.append({\n",
    "    'model_name': BGR_model.__class__.__name__,\n",
    "    'prediction_score': BGR_model_score,\n",
    "    'mean_absolute_error' : mae\n",
    "}, ignore_index=True)\n",
    "\n",
    "models_summary.sort_values('prediction_score', ascending=False)"
   ]
  },
  {
   "cell_type": "markdown",
   "metadata": {
    "papermill": {
     "duration": 0.154104,
     "end_time": "2020-11-10T17:24:57.721106",
     "exception": false,
     "start_time": "2020-11-10T17:24:57.567002",
     "status": "completed"
    },
    "tags": []
   },
   "source": [
    "### Ada Boost Regressor Model"
   ]
  },
  {
   "cell_type": "code",
   "execution_count": 75,
   "metadata": {
    "execution": {
     "iopub.execute_input": "2020-11-10T17:24:58.039869Z",
     "iopub.status.busy": "2020-11-10T17:24:58.038785Z",
     "iopub.status.idle": "2020-11-10T17:24:59.077494Z",
     "shell.execute_reply": "2020-11-10T17:24:59.076868Z"
    },
    "papermill": {
     "duration": 1.201053,
     "end_time": "2020-11-10T17:24:59.077627",
     "exception": false,
     "start_time": "2020-11-10T17:24:57.876574",
     "status": "completed"
    },
    "tags": []
   },
   "outputs": [],
   "source": [
    "    \n",
    "# Creating Model\n",
    "ADB_model = AdaBoostRegressor()\n",
    "\n",
    "# Model Fitting\n",
    "ADB_model.fit(train_X, train_Y)\n",
    "\n",
    "# Model Prediction\n",
    "ADB_model_predicted = ADB_model.predict(test_X)\n",
    "\n",
    "# Model Score\n",
    "ADB_model_score = ADB_model.score(test_X, test_Y)\n",
    "\n",
    "# find Mean Absolute Error\n",
    "mae = mean_absolute_error(test_Y, ADB_model_predicted)"
   ]
  },
  {
   "cell_type": "code",
   "execution_count": 76,
   "metadata": {
    "execution": {
     "iopub.execute_input": "2020-11-10T17:24:59.409232Z",
     "iopub.status.busy": "2020-11-10T17:24:59.408145Z",
     "iopub.status.idle": "2020-11-10T17:24:59.412936Z",
     "shell.execute_reply": "2020-11-10T17:24:59.412283Z"
    },
    "papermill": {
     "duration": 0.177797,
     "end_time": "2020-11-10T17:24:59.413062",
     "exception": false,
     "start_time": "2020-11-10T17:24:59.235265",
     "status": "completed"
    },
    "tags": []
   },
   "outputs": [
    {
     "data": {
      "text/html": [
       "<div>\n",
       "<style scoped>\n",
       "    .dataframe tbody tr th:only-of-type {\n",
       "        vertical-align: middle;\n",
       "    }\n",
       "\n",
       "    .dataframe tbody tr th {\n",
       "        vertical-align: top;\n",
       "    }\n",
       "\n",
       "    .dataframe thead th {\n",
       "        text-align: right;\n",
       "    }\n",
       "</style>\n",
       "<table border=\"1\" class=\"dataframe\">\n",
       "  <thead>\n",
       "    <tr style=\"text-align: right;\">\n",
       "      <th></th>\n",
       "      <th>model_name</th>\n",
       "      <th>prediction_score</th>\n",
       "      <th>mean_absolute_error</th>\n",
       "    </tr>\n",
       "  </thead>\n",
       "  <tbody>\n",
       "    <tr>\n",
       "      <th>3</th>\n",
       "      <td>BaggingRegressor</td>\n",
       "      <td>0.766566</td>\n",
       "      <td>174486.193540</td>\n",
       "    </tr>\n",
       "    <tr>\n",
       "      <th>2</th>\n",
       "      <td>RandomForestRegressor</td>\n",
       "      <td>0.734913</td>\n",
       "      <td>201100.047605</td>\n",
       "    </tr>\n",
       "    <tr>\n",
       "      <th>1</th>\n",
       "      <td>DecisionTreeRegressor</td>\n",
       "      <td>0.579775</td>\n",
       "      <td>236344.503387</td>\n",
       "    </tr>\n",
       "    <tr>\n",
       "      <th>0</th>\n",
       "      <td>LinearRegression</td>\n",
       "      <td>0.559999</td>\n",
       "      <td>275330.209598</td>\n",
       "    </tr>\n",
       "    <tr>\n",
       "      <th>4</th>\n",
       "      <td>AdaBoostRegressor</td>\n",
       "      <td>0.275386</td>\n",
       "      <td>462241.848024</td>\n",
       "    </tr>\n",
       "  </tbody>\n",
       "</table>\n",
       "</div>"
      ],
      "text/plain": [
       "              model_name  prediction_score  mean_absolute_error\n",
       "3       BaggingRegressor          0.766566        174486.193540\n",
       "2  RandomForestRegressor          0.734913        201100.047605\n",
       "1  DecisionTreeRegressor          0.579775        236344.503387\n",
       "0       LinearRegression          0.559999        275330.209598\n",
       "4      AdaBoostRegressor          0.275386        462241.848024"
      ]
     },
     "execution_count": 76,
     "metadata": {},
     "output_type": "execute_result"
    }
   ],
   "source": [
    "models_summary = models_summary.append({\n",
    "    'model_name': ADB_model.__class__.__name__,\n",
    "    'prediction_score': ADB_model_score,\n",
    "    'mean_absolute_error' : mae\n",
    "}, ignore_index=True)\n",
    "\n",
    "models_summary.sort_values('prediction_score', ascending=False)"
   ]
  },
  {
   "cell_type": "markdown",
   "metadata": {
    "papermill": {
     "duration": 0.160303,
     "end_time": "2020-11-10T17:24:59.735257",
     "exception": false,
     "start_time": "2020-11-10T17:24:59.574954",
     "status": "completed"
    },
    "tags": []
   },
   "source": [
    "### Gradient Boosting Regressor Model"
   ]
  },
  {
   "cell_type": "code",
   "execution_count": 77,
   "metadata": {
    "execution": {
     "iopub.execute_input": "2020-11-10T17:25:00.057069Z",
     "iopub.status.busy": "2020-11-10T17:25:00.055894Z",
     "iopub.status.idle": "2020-11-10T17:25:03.387585Z",
     "shell.execute_reply": "2020-11-10T17:25:03.386930Z"
    },
    "papermill": {
     "duration": 3.494422,
     "end_time": "2020-11-10T17:25:03.387751",
     "exception": false,
     "start_time": "2020-11-10T17:24:59.893329",
     "status": "completed"
    },
    "tags": []
   },
   "outputs": [],
   "source": [
    "# Creating Model\n",
    "GBR_model = GradientBoostingRegressor(n_estimators=150, random_state=1)\n",
    "\n",
    "# Model Fitting\n",
    "GBR_model.fit(train_X, train_Y)\n",
    "\n",
    "# Model Prediction\n",
    "GBR_model_predicted = GBR_model.predict(test_X)\n",
    "\n",
    "# Model Score\n",
    "GBR_model_score = GBR_model.score(test_X, test_Y)\n",
    "\n",
    "# find Mean Absolute Error\n",
    "mae = mean_absolute_error(test_Y, GBR_model_predicted)"
   ]
  },
  {
   "cell_type": "code",
   "execution_count": 78,
   "metadata": {
    "execution": {
     "iopub.execute_input": "2020-11-10T17:25:03.722896Z",
     "iopub.status.busy": "2020-11-10T17:25:03.721816Z",
     "iopub.status.idle": "2020-11-10T17:25:03.726327Z",
     "shell.execute_reply": "2020-11-10T17:25:03.726877Z"
    },
    "papermill": {
     "duration": 0.180975,
     "end_time": "2020-11-10T17:25:03.727040",
     "exception": false,
     "start_time": "2020-11-10T17:25:03.546065",
     "status": "completed"
    },
    "tags": []
   },
   "outputs": [
    {
     "data": {
      "text/html": [
       "<div>\n",
       "<style scoped>\n",
       "    .dataframe tbody tr th:only-of-type {\n",
       "        vertical-align: middle;\n",
       "    }\n",
       "\n",
       "    .dataframe tbody tr th {\n",
       "        vertical-align: top;\n",
       "    }\n",
       "\n",
       "    .dataframe thead th {\n",
       "        text-align: right;\n",
       "    }\n",
       "</style>\n",
       "<table border=\"1\" class=\"dataframe\">\n",
       "  <thead>\n",
       "    <tr style=\"text-align: right;\">\n",
       "      <th></th>\n",
       "      <th>model_name</th>\n",
       "      <th>prediction_score</th>\n",
       "      <th>mean_absolute_error</th>\n",
       "    </tr>\n",
       "  </thead>\n",
       "  <tbody>\n",
       "    <tr>\n",
       "      <th>3</th>\n",
       "      <td>BaggingRegressor</td>\n",
       "      <td>0.766566</td>\n",
       "      <td>174486.193540</td>\n",
       "    </tr>\n",
       "    <tr>\n",
       "      <th>5</th>\n",
       "      <td>GradientBoostingRegressor</td>\n",
       "      <td>0.766473</td>\n",
       "      <td>179476.553614</td>\n",
       "    </tr>\n",
       "    <tr>\n",
       "      <th>2</th>\n",
       "      <td>RandomForestRegressor</td>\n",
       "      <td>0.734913</td>\n",
       "      <td>201100.047605</td>\n",
       "    </tr>\n",
       "    <tr>\n",
       "      <th>1</th>\n",
       "      <td>DecisionTreeRegressor</td>\n",
       "      <td>0.579775</td>\n",
       "      <td>236344.503387</td>\n",
       "    </tr>\n",
       "    <tr>\n",
       "      <th>0</th>\n",
       "      <td>LinearRegression</td>\n",
       "      <td>0.559999</td>\n",
       "      <td>275330.209598</td>\n",
       "    </tr>\n",
       "    <tr>\n",
       "      <th>4</th>\n",
       "      <td>AdaBoostRegressor</td>\n",
       "      <td>0.275386</td>\n",
       "      <td>462241.848024</td>\n",
       "    </tr>\n",
       "  </tbody>\n",
       "</table>\n",
       "</div>"
      ],
      "text/plain": [
       "                  model_name  prediction_score  mean_absolute_error\n",
       "3           BaggingRegressor          0.766566        174486.193540\n",
       "5  GradientBoostingRegressor          0.766473        179476.553614\n",
       "2      RandomForestRegressor          0.734913        201100.047605\n",
       "1      DecisionTreeRegressor          0.579775        236344.503387\n",
       "0           LinearRegression          0.559999        275330.209598\n",
       "4          AdaBoostRegressor          0.275386        462241.848024"
      ]
     },
     "execution_count": 78,
     "metadata": {},
     "output_type": "execute_result"
    }
   ],
   "source": [
    "models_summary = models_summary.append({\n",
    "    'model_name': GBR_model.__class__.__name__,\n",
    "    'prediction_score': GBR_model_score,\n",
    "    'mean_absolute_error' : mae\n",
    "}, ignore_index=True)\n",
    "\n",
    "models_summary.sort_values('prediction_score', ascending=False)"
   ]
  },
  {
   "cell_type": "markdown",
   "metadata": {
    "papermill": {
     "duration": 0.169121,
     "end_time": "2020-11-10T17:25:04.061821",
     "exception": false,
     "start_time": "2020-11-10T17:25:03.892700",
     "status": "completed"
    },
    "tags": []
   },
   "source": [
    "### Random Forest Regressor Model"
   ]
  },
  {
   "cell_type": "code",
   "execution_count": 79,
   "metadata": {
    "execution": {
     "iopub.execute_input": "2020-11-10T17:25:04.389695Z",
     "iopub.status.busy": "2020-11-10T17:25:04.388709Z",
     "iopub.status.idle": "2020-11-10T17:25:04.699793Z",
     "shell.execute_reply": "2020-11-10T17:25:04.699008Z"
    },
    "papermill": {
     "duration": 0.473689,
     "end_time": "2020-11-10T17:25:04.699919",
     "exception": false,
     "start_time": "2020-11-10T17:25:04.226230",
     "status": "completed"
    },
    "tags": []
   },
   "outputs": [],
   "source": [
    "from xgboost import XGBRegressor"
   ]
  },
  {
   "cell_type": "code",
   "execution_count": 80,
   "metadata": {
    "execution": {
     "iopub.execute_input": "2020-11-10T17:25:05.028128Z",
     "iopub.status.busy": "2020-11-10T17:25:05.027060Z",
     "iopub.status.idle": "2020-11-10T17:25:05.030633Z",
     "shell.execute_reply": "2020-11-10T17:25:05.030027Z"
    },
    "papermill": {
     "duration": 0.171951,
     "end_time": "2020-11-10T17:25:05.030778",
     "exception": false,
     "start_time": "2020-11-10T17:25:04.858827",
     "status": "completed"
    },
    "tags": []
   },
   "outputs": [],
   "source": [
    "XGBR_model = XGBRegressor()"
   ]
  },
  {
   "cell_type": "code",
   "execution_count": 81,
   "metadata": {
    "execution": {
     "iopub.execute_input": "2020-11-10T17:25:05.354619Z",
     "iopub.status.busy": "2020-11-10T17:25:05.353722Z",
     "iopub.status.idle": "2020-11-10T17:25:06.043081Z",
     "shell.execute_reply": "2020-11-10T17:25:06.043764Z"
    },
    "papermill": {
     "duration": 0.854724,
     "end_time": "2020-11-10T17:25:06.043940",
     "exception": false,
     "start_time": "2020-11-10T17:25:05.189216",
     "status": "completed"
    },
    "tags": []
   },
   "outputs": [
    {
     "data": {
      "text/plain": [
       "XGBRegressor(base_score=0.5, booster='gbtree', colsample_bylevel=1,\n",
       "             colsample_bynode=1, colsample_bytree=1, gamma=0, gpu_id=-1,\n",
       "             importance_type='gain', interaction_constraints='',\n",
       "             learning_rate=0.300000012, max_delta_step=0, max_depth=6,\n",
       "             min_child_weight=1, missing=nan, monotone_constraints='()',\n",
       "             n_estimators=100, n_jobs=0, num_parallel_tree=1, random_state=0,\n",
       "             reg_alpha=0, reg_lambda=1, scale_pos_weight=1, subsample=1,\n",
       "             tree_method='exact', validate_parameters=1, verbosity=None)"
      ]
     },
     "execution_count": 81,
     "metadata": {},
     "output_type": "execute_result"
    }
   ],
   "source": [
    "XGBR_model.fit(train_X, train_Y)"
   ]
  },
  {
   "cell_type": "code",
   "execution_count": 82,
   "metadata": {
    "execution": {
     "iopub.execute_input": "2020-11-10T17:25:06.396423Z",
     "iopub.status.busy": "2020-11-10T17:25:06.395603Z",
     "iopub.status.idle": "2020-11-10T17:25:06.408445Z",
     "shell.execute_reply": "2020-11-10T17:25:06.409180Z"
    },
    "papermill": {
     "duration": 0.175646,
     "end_time": "2020-11-10T17:25:06.409367",
     "exception": false,
     "start_time": "2020-11-10T17:25:06.233721",
     "status": "completed"
    },
    "tags": []
   },
   "outputs": [],
   "source": [
    "XGBR_model_predicted = XGBR_model.predict(test_X)"
   ]
  },
  {
   "cell_type": "code",
   "execution_count": 83,
   "metadata": {
    "execution": {
     "iopub.execute_input": "2020-11-10T17:25:06.767637Z",
     "iopub.status.busy": "2020-11-10T17:25:06.766728Z",
     "iopub.status.idle": "2020-11-10T17:25:06.782156Z",
     "shell.execute_reply": "2020-11-10T17:25:06.782902Z"
    },
    "papermill": {
     "duration": 0.179991,
     "end_time": "2020-11-10T17:25:06.783078",
     "exception": false,
     "start_time": "2020-11-10T17:25:06.603087",
     "status": "completed"
    },
    "tags": []
   },
   "outputs": [
    {
     "data": {
      "text/plain": [
       "0.7887401001785125"
      ]
     },
     "execution_count": 83,
     "metadata": {},
     "output_type": "execute_result"
    }
   ],
   "source": [
    "XGBR_model_score = XGBR_model.score(test_X, test_Y)\n",
    "XGBR_model_score"
   ]
  },
  {
   "cell_type": "code",
   "execution_count": 84,
   "metadata": {
    "execution": {
     "iopub.execute_input": "2020-11-10T17:25:07.141088Z",
     "iopub.status.busy": "2020-11-10T17:25:07.140057Z",
     "iopub.status.idle": "2020-11-10T17:25:07.144608Z",
     "shell.execute_reply": "2020-11-10T17:25:07.143984Z"
    },
    "papermill": {
     "duration": 0.168941,
     "end_time": "2020-11-10T17:25:07.144746",
     "exception": false,
     "start_time": "2020-11-10T17:25:06.975805",
     "status": "completed"
    },
    "tags": []
   },
   "outputs": [
    {
     "data": {
      "text/plain": [
       "162725.19092875553"
      ]
     },
     "execution_count": 84,
     "metadata": {},
     "output_type": "execute_result"
    }
   ],
   "source": [
    "mae = mean_absolute_error(test_Y, XGBR_model_predicted)\n",
    "mae"
   ]
  },
  {
   "cell_type": "code",
   "execution_count": 85,
   "metadata": {
    "execution": {
     "iopub.execute_input": "2020-11-10T17:25:07.483118Z",
     "iopub.status.busy": "2020-11-10T17:25:07.482271Z",
     "iopub.status.idle": "2020-11-10T17:25:07.487304Z",
     "shell.execute_reply": "2020-11-10T17:25:07.486715Z"
    },
    "papermill": {
     "duration": 0.182561,
     "end_time": "2020-11-10T17:25:07.487430",
     "exception": false,
     "start_time": "2020-11-10T17:25:07.304869",
     "status": "completed"
    },
    "tags": []
   },
   "outputs": [
    {
     "data": {
      "text/html": [
       "<div>\n",
       "<style scoped>\n",
       "    .dataframe tbody tr th:only-of-type {\n",
       "        vertical-align: middle;\n",
       "    }\n",
       "\n",
       "    .dataframe tbody tr th {\n",
       "        vertical-align: top;\n",
       "    }\n",
       "\n",
       "    .dataframe thead th {\n",
       "        text-align: right;\n",
       "    }\n",
       "</style>\n",
       "<table border=\"1\" class=\"dataframe\">\n",
       "  <thead>\n",
       "    <tr style=\"text-align: right;\">\n",
       "      <th></th>\n",
       "      <th>model_name</th>\n",
       "      <th>prediction_score</th>\n",
       "      <th>mean_absolute_error</th>\n",
       "    </tr>\n",
       "  </thead>\n",
       "  <tbody>\n",
       "    <tr>\n",
       "      <th>6</th>\n",
       "      <td>XGBRegressor</td>\n",
       "      <td>0.788740</td>\n",
       "      <td>162725.190929</td>\n",
       "    </tr>\n",
       "    <tr>\n",
       "      <th>3</th>\n",
       "      <td>BaggingRegressor</td>\n",
       "      <td>0.766566</td>\n",
       "      <td>174486.193540</td>\n",
       "    </tr>\n",
       "    <tr>\n",
       "      <th>5</th>\n",
       "      <td>GradientBoostingRegressor</td>\n",
       "      <td>0.766473</td>\n",
       "      <td>179476.553614</td>\n",
       "    </tr>\n",
       "    <tr>\n",
       "      <th>2</th>\n",
       "      <td>RandomForestRegressor</td>\n",
       "      <td>0.734913</td>\n",
       "      <td>201100.047605</td>\n",
       "    </tr>\n",
       "    <tr>\n",
       "      <th>1</th>\n",
       "      <td>DecisionTreeRegressor</td>\n",
       "      <td>0.579775</td>\n",
       "      <td>236344.503387</td>\n",
       "    </tr>\n",
       "    <tr>\n",
       "      <th>0</th>\n",
       "      <td>LinearRegression</td>\n",
       "      <td>0.559999</td>\n",
       "      <td>275330.209598</td>\n",
       "    </tr>\n",
       "    <tr>\n",
       "      <th>4</th>\n",
       "      <td>AdaBoostRegressor</td>\n",
       "      <td>0.275386</td>\n",
       "      <td>462241.848024</td>\n",
       "    </tr>\n",
       "  </tbody>\n",
       "</table>\n",
       "</div>"
      ],
      "text/plain": [
       "                  model_name  prediction_score  mean_absolute_error\n",
       "6               XGBRegressor          0.788740        162725.190929\n",
       "3           BaggingRegressor          0.766566        174486.193540\n",
       "5  GradientBoostingRegressor          0.766473        179476.553614\n",
       "2      RandomForestRegressor          0.734913        201100.047605\n",
       "1      DecisionTreeRegressor          0.579775        236344.503387\n",
       "0           LinearRegression          0.559999        275330.209598\n",
       "4          AdaBoostRegressor          0.275386        462241.848024"
      ]
     },
     "execution_count": 85,
     "metadata": {},
     "output_type": "execute_result"
    }
   ],
   "source": [
    "models_summary = models_summary.append({\n",
    "    'model_name': XGBR_model.__class__.__name__,\n",
    "    'prediction_score': XGBR_model_score,\n",
    "    'mean_absolute_error' : mae\n",
    "}, ignore_index=True)\n",
    "\n",
    "models_summary.sort_values('prediction_score', ascending=False)\n",
    " "
   ]
  },
  {
   "cell_type": "markdown",
   "metadata": {
    "papermill": {
     "duration": 0.158543,
     "end_time": "2020-11-10T17:25:07.805070",
     "exception": false,
     "start_time": "2020-11-10T17:25:07.646527",
     "status": "completed"
    },
    "tags": []
   },
   "source": [
    "Let's implement some hyper param tunning using `n_estimators=500, max_depth=10, learning_rate=0.05`."
   ]
  },
  {
   "cell_type": "code",
   "execution_count": 86,
   "metadata": {
    "execution": {
     "iopub.execute_input": "2020-11-10T17:25:08.131165Z",
     "iopub.status.busy": "2020-11-10T17:25:08.130351Z",
     "iopub.status.idle": "2020-11-10T17:25:14.339281Z",
     "shell.execute_reply": "2020-11-10T17:25:14.340544Z"
    },
    "papermill": {
     "duration": 6.376004,
     "end_time": "2020-11-10T17:25:14.340778",
     "exception": false,
     "start_time": "2020-11-10T17:25:07.964774",
     "status": "completed"
    },
    "tags": []
   },
   "outputs": [
    {
     "name": "stdout",
     "output_type": "stream",
     "text": [
      "0.7925250448331569\n",
      "156602.71932069218\n"
     ]
    }
   ],
   "source": [
    "XGBR_model_500 = XGBRegressor(n_estimators=500, max_depth=10, learning_rate=0.05)\n",
    "XGBR_model_500.fit(train_X, train_Y)\n",
    "\n",
    "XGBR_model_500_predicted = XGBR_model_500.predict(test_X)\n",
    "\n",
    "XGBR_model_500_score = XGBR_model_500.score(test_X, test_Y)\n",
    "print(XGBR_model_500_score)\n",
    "\n",
    "mae = mean_absolute_error(test_Y, XGBR_model_500_predicted)\n",
    "print(mae)"
   ]
  },
  {
   "cell_type": "code",
   "execution_count": 87,
   "metadata": {
    "execution": {
     "iopub.execute_input": "2020-11-10T17:25:14.715606Z",
     "iopub.status.busy": "2020-11-10T17:25:14.714726Z",
     "iopub.status.idle": "2020-11-10T17:25:14.718699Z",
     "shell.execute_reply": "2020-11-10T17:25:14.719232Z"
    },
    "papermill": {
     "duration": 0.181881,
     "end_time": "2020-11-10T17:25:14.719393",
     "exception": false,
     "start_time": "2020-11-10T17:25:14.537512",
     "status": "completed"
    },
    "tags": []
   },
   "outputs": [
    {
     "data": {
      "text/html": [
       "<div>\n",
       "<style scoped>\n",
       "    .dataframe tbody tr th:only-of-type {\n",
       "        vertical-align: middle;\n",
       "    }\n",
       "\n",
       "    .dataframe tbody tr th {\n",
       "        vertical-align: top;\n",
       "    }\n",
       "\n",
       "    .dataframe thead th {\n",
       "        text-align: right;\n",
       "    }\n",
       "</style>\n",
       "<table border=\"1\" class=\"dataframe\">\n",
       "  <thead>\n",
       "    <tr style=\"text-align: right;\">\n",
       "      <th></th>\n",
       "      <th>model_name</th>\n",
       "      <th>prediction_score</th>\n",
       "      <th>mean_absolute_error</th>\n",
       "    </tr>\n",
       "  </thead>\n",
       "  <tbody>\n",
       "    <tr>\n",
       "      <th>7</th>\n",
       "      <td>XGBRegressor(n_estimators=500, max_depth=10, l...</td>\n",
       "      <td>0.792525</td>\n",
       "      <td>156602.719321</td>\n",
       "    </tr>\n",
       "    <tr>\n",
       "      <th>6</th>\n",
       "      <td>XGBRegressor</td>\n",
       "      <td>0.788740</td>\n",
       "      <td>162725.190929</td>\n",
       "    </tr>\n",
       "    <tr>\n",
       "      <th>3</th>\n",
       "      <td>BaggingRegressor</td>\n",
       "      <td>0.766566</td>\n",
       "      <td>174486.193540</td>\n",
       "    </tr>\n",
       "    <tr>\n",
       "      <th>5</th>\n",
       "      <td>GradientBoostingRegressor</td>\n",
       "      <td>0.766473</td>\n",
       "      <td>179476.553614</td>\n",
       "    </tr>\n",
       "    <tr>\n",
       "      <th>2</th>\n",
       "      <td>RandomForestRegressor</td>\n",
       "      <td>0.734913</td>\n",
       "      <td>201100.047605</td>\n",
       "    </tr>\n",
       "    <tr>\n",
       "      <th>1</th>\n",
       "      <td>DecisionTreeRegressor</td>\n",
       "      <td>0.579775</td>\n",
       "      <td>236344.503387</td>\n",
       "    </tr>\n",
       "    <tr>\n",
       "      <th>0</th>\n",
       "      <td>LinearRegression</td>\n",
       "      <td>0.559999</td>\n",
       "      <td>275330.209598</td>\n",
       "    </tr>\n",
       "    <tr>\n",
       "      <th>4</th>\n",
       "      <td>AdaBoostRegressor</td>\n",
       "      <td>0.275386</td>\n",
       "      <td>462241.848024</td>\n",
       "    </tr>\n",
       "  </tbody>\n",
       "</table>\n",
       "</div>"
      ],
      "text/plain": [
       "                                          model_name  prediction_score  \\\n",
       "7  XGBRegressor(n_estimators=500, max_depth=10, l...          0.792525   \n",
       "6                                       XGBRegressor          0.788740   \n",
       "3                                   BaggingRegressor          0.766566   \n",
       "5                          GradientBoostingRegressor          0.766473   \n",
       "2                              RandomForestRegressor          0.734913   \n",
       "1                              DecisionTreeRegressor          0.579775   \n",
       "0                                   LinearRegression          0.559999   \n",
       "4                                  AdaBoostRegressor          0.275386   \n",
       "\n",
       "   mean_absolute_error  \n",
       "7        156602.719321  \n",
       "6        162725.190929  \n",
       "3        174486.193540  \n",
       "5        179476.553614  \n",
       "2        201100.047605  \n",
       "1        236344.503387  \n",
       "0        275330.209598  \n",
       "4        462241.848024  "
      ]
     },
     "execution_count": 87,
     "metadata": {},
     "output_type": "execute_result"
    }
   ],
   "source": [
    "models_summary = models_summary.append({\n",
    "    'model_name': 'XGBRegressor(n_estimators=500, max_depth=10, learning_rate=0.05)',\n",
    "    'prediction_score': XGBR_model_500_score,\n",
    "    'mean_absolute_error' : mae\n",
    "}, ignore_index=True)\n",
    "\n",
    "models_summary.sort_values('prediction_score', ascending=False)\n",
    " "
   ]
  },
  {
   "cell_type": "code",
   "execution_count": null,
   "metadata": {
    "papermill": {
     "duration": 0.16129,
     "end_time": "2020-11-10T17:25:15.045908",
     "exception": false,
     "start_time": "2020-11-10T17:25:14.884618",
     "status": "completed"
    },
    "tags": []
   },
   "outputs": [],
   "source": []
  },
  {
   "cell_type": "code",
   "execution_count": null,
   "metadata": {
    "papermill": {
     "duration": 0.1628,
     "end_time": "2020-11-10T17:25:15.369875",
     "exception": false,
     "start_time": "2020-11-10T17:25:15.207075",
     "status": "completed"
    },
    "tags": []
   },
   "outputs": [],
   "source": []
  },
  {
   "cell_type": "markdown",
   "metadata": {
    "papermill": {
     "duration": 0.16037,
     "end_time": "2020-11-10T17:25:15.692855",
     "exception": false,
     "start_time": "2020-11-10T17:25:15.532485",
     "status": "completed"
    },
    "tags": []
   },
   "source": [
    "# HYPER PARAMS TUNNING \n",
    "\n",
    "- Using GridSearchCV.\n"
   ]
  },
  {
   "cell_type": "code",
   "execution_count": 88,
   "metadata": {
    "execution": {
     "iopub.execute_input": "2020-11-10T17:25:16.018288Z",
     "iopub.status.busy": "2020-11-10T17:25:16.017494Z",
     "iopub.status.idle": "2020-11-10T17:25:16.019954Z",
     "shell.execute_reply": "2020-11-10T17:25:16.020618Z"
    },
    "papermill": {
     "duration": 0.168153,
     "end_time": "2020-11-10T17:25:16.020782",
     "exception": false,
     "start_time": "2020-11-10T17:25:15.852629",
     "status": "completed"
    },
    "tags": []
   },
   "outputs": [],
   "source": [
    "from sklearn.model_selection import GridSearchCV, RandomizedSearchCV"
   ]
  },
  {
   "cell_type": "code",
   "execution_count": 89,
   "metadata": {
    "execution": {
     "iopub.execute_input": "2020-11-10T17:25:16.355416Z",
     "iopub.status.busy": "2020-11-10T17:25:16.354607Z",
     "iopub.status.idle": "2020-11-10T17:28:45.184155Z",
     "shell.execute_reply": "2020-11-10T17:28:45.184786Z"
    },
    "papermill": {
     "duration": 209.003879,
     "end_time": "2020-11-10T17:28:45.184971",
     "exception": false,
     "start_time": "2020-11-10T17:25:16.181092",
     "status": "completed"
    },
    "tags": []
   },
   "outputs": [
    {
     "name": "stdout",
     "output_type": "stream",
     "text": [
      "Best score: 0.821\n",
      "Best parameters set: {'learning_rate': 0.1, 'max_depth': 7, 'n_estimators': 140, 'reg_lambda': 0.5}\n",
      "mean_absolute_error : 159252.82450754786\n"
     ]
    }
   ],
   "source": [
    "xgbr_model = XGBRegressor() # {'objective': 'reg:squarederror' }\n",
    "\n",
    "params = {\n",
    "    'n_estimators': [110, 120, 130, 140], \n",
    "    'learning_rate': [ 0.05, 0.075, 0.1],\n",
    "    'max_depth': [ 7, 9],\n",
    "    'reg_lambda': [0.3, 0.5]\n",
    "}\n",
    "\n",
    "xgb_reg = GridSearchCV(estimator=xgbr_model, param_grid=params, cv=5, n_jobs=-1)\n",
    "\n",
    "xgb_reg.fit(train_X, train_Y)\n",
    "\n",
    "xgbr_model_score = xgb_reg.best_score_\n",
    "\n",
    "xgbr_model_pred = xgb_reg.predict(test_X)\n",
    "\n",
    "mae = mean_absolute_error(test_Y, xgbr_model_pred)\n",
    "\n",
    "print(\"Best score: %0.3f\" % xgb_reg.best_score_)\n",
    "print(\"Best parameters set:\", xgb_reg.best_params_)\n",
    "\n",
    "print(\"mean_absolute_error :\", mae)\n"
   ]
  },
  {
   "cell_type": "code",
   "execution_count": 90,
   "metadata": {
    "execution": {
     "iopub.execute_input": "2020-11-10T17:28:45.531513Z",
     "iopub.status.busy": "2020-11-10T17:28:45.530620Z",
     "iopub.status.idle": "2020-11-10T17:28:45.535552Z",
     "shell.execute_reply": "2020-11-10T17:28:45.534778Z"
    },
    "papermill": {
     "duration": 0.188528,
     "end_time": "2020-11-10T17:28:45.535700",
     "exception": false,
     "start_time": "2020-11-10T17:28:45.347172",
     "status": "completed"
    },
    "tags": []
   },
   "outputs": [
    {
     "data": {
      "text/html": [
       "<div>\n",
       "<style scoped>\n",
       "    .dataframe tbody tr th:only-of-type {\n",
       "        vertical-align: middle;\n",
       "    }\n",
       "\n",
       "    .dataframe tbody tr th {\n",
       "        vertical-align: top;\n",
       "    }\n",
       "\n",
       "    .dataframe thead th {\n",
       "        text-align: right;\n",
       "    }\n",
       "</style>\n",
       "<table border=\"1\" class=\"dataframe\">\n",
       "  <thead>\n",
       "    <tr style=\"text-align: right;\">\n",
       "      <th></th>\n",
       "      <th>model_name</th>\n",
       "      <th>prediction_score</th>\n",
       "      <th>mean_absolute_error</th>\n",
       "    </tr>\n",
       "  </thead>\n",
       "  <tbody>\n",
       "    <tr>\n",
       "      <th>8</th>\n",
       "      <td>XGBRegressor_HyperParamsTunning</td>\n",
       "      <td>0.820817</td>\n",
       "      <td>159252.824508</td>\n",
       "    </tr>\n",
       "    <tr>\n",
       "      <th>7</th>\n",
       "      <td>XGBRegressor(n_estimators=500, max_depth=10, l...</td>\n",
       "      <td>0.792525</td>\n",
       "      <td>156602.719321</td>\n",
       "    </tr>\n",
       "    <tr>\n",
       "      <th>6</th>\n",
       "      <td>XGBRegressor</td>\n",
       "      <td>0.788740</td>\n",
       "      <td>162725.190929</td>\n",
       "    </tr>\n",
       "    <tr>\n",
       "      <th>3</th>\n",
       "      <td>BaggingRegressor</td>\n",
       "      <td>0.766566</td>\n",
       "      <td>174486.193540</td>\n",
       "    </tr>\n",
       "    <tr>\n",
       "      <th>5</th>\n",
       "      <td>GradientBoostingRegressor</td>\n",
       "      <td>0.766473</td>\n",
       "      <td>179476.553614</td>\n",
       "    </tr>\n",
       "    <tr>\n",
       "      <th>2</th>\n",
       "      <td>RandomForestRegressor</td>\n",
       "      <td>0.734913</td>\n",
       "      <td>201100.047605</td>\n",
       "    </tr>\n",
       "    <tr>\n",
       "      <th>1</th>\n",
       "      <td>DecisionTreeRegressor</td>\n",
       "      <td>0.579775</td>\n",
       "      <td>236344.503387</td>\n",
       "    </tr>\n",
       "    <tr>\n",
       "      <th>0</th>\n",
       "      <td>LinearRegression</td>\n",
       "      <td>0.559999</td>\n",
       "      <td>275330.209598</td>\n",
       "    </tr>\n",
       "    <tr>\n",
       "      <th>4</th>\n",
       "      <td>AdaBoostRegressor</td>\n",
       "      <td>0.275386</td>\n",
       "      <td>462241.848024</td>\n",
       "    </tr>\n",
       "  </tbody>\n",
       "</table>\n",
       "</div>"
      ],
      "text/plain": [
       "                                          model_name  prediction_score  \\\n",
       "8                    XGBRegressor_HyperParamsTunning          0.820817   \n",
       "7  XGBRegressor(n_estimators=500, max_depth=10, l...          0.792525   \n",
       "6                                       XGBRegressor          0.788740   \n",
       "3                                   BaggingRegressor          0.766566   \n",
       "5                          GradientBoostingRegressor          0.766473   \n",
       "2                              RandomForestRegressor          0.734913   \n",
       "1                              DecisionTreeRegressor          0.579775   \n",
       "0                                   LinearRegression          0.559999   \n",
       "4                                  AdaBoostRegressor          0.275386   \n",
       "\n",
       "   mean_absolute_error  \n",
       "8        159252.824508  \n",
       "7        156602.719321  \n",
       "6        162725.190929  \n",
       "3        174486.193540  \n",
       "5        179476.553614  \n",
       "2        201100.047605  \n",
       "1        236344.503387  \n",
       "0        275330.209598  \n",
       "4        462241.848024  "
      ]
     },
     "execution_count": 90,
     "metadata": {},
     "output_type": "execute_result"
    }
   ],
   "source": [
    "models_summary = models_summary.append({\n",
    "    'model_name': 'XGBRegressor_HyperParamsTunning',\n",
    "    'prediction_score': xgbr_model_score,\n",
    "    'mean_absolute_error' : mae\n",
    "}, ignore_index=True)\n",
    "\n",
    "models_summary.sort_values('prediction_score', ascending=False)\n",
    " "
   ]
  },
  {
   "cell_type": "code",
   "execution_count": 91,
   "metadata": {
    "execution": {
     "iopub.execute_input": "2020-11-10T17:28:45.877346Z",
     "iopub.status.busy": "2020-11-10T17:28:45.874562Z",
     "iopub.status.idle": "2020-11-10T17:31:46.343117Z",
     "shell.execute_reply": "2020-11-10T17:31:46.342035Z"
    },
    "papermill": {
     "duration": 180.639078,
     "end_time": "2020-11-10T17:31:46.343298",
     "exception": false,
     "start_time": "2020-11-10T17:28:45.704220",
     "status": "completed"
    },
    "tags": []
   },
   "outputs": [
    {
     "name": "stdout",
     "output_type": "stream",
     "text": [
      "Fitting 5 folds for each of 12 candidates, totalling 60 fits\n"
     ]
    },
    {
     "name": "stderr",
     "output_type": "stream",
     "text": [
      "[Parallel(n_jobs=-1)]: Using backend LokyBackend with 4 concurrent workers.\n",
      "[Parallel(n_jobs=-1)]: Done  10 tasks      | elapsed:   31.6s\n",
      "[Parallel(n_jobs=-1)]: Done  60 out of  60 | elapsed:  2.9min finished\n"
     ]
    },
    {
     "name": "stdout",
     "output_type": "stream",
     "text": [
      "Best score: 0.739\n",
      "Best parameters set: {'max_depth': 7, 'max_features': 5, 'min_samples_leaf': 3, 'min_samples_split': 4, 'n_estimators': 750}\n",
      "mean_absolute_error : 202346.65329902104\n"
     ]
    }
   ],
   "source": [
    "rfr_model = RandomForestRegressor(random_state=35)\n",
    "\n",
    "rfr_params_grid = {\n",
    "    'n_estimators' : [600,750,800,850],\n",
    "    'max_depth' : [7],\n",
    "    'max_features': [5],\n",
    "    'min_samples_leaf' : [3],\n",
    "    'min_samples_split' : [4, 6 ,9]\n",
    "}\n",
    "\n",
    "gscv_rfr_cv = GridSearchCV(estimator=rfr_model, \n",
    "                                      param_grid=rfr_params_grid,\n",
    "                                      cv = 5 ,\n",
    "                                      n_jobs = -1,\n",
    "                                      verbose = 5)\n",
    "\n",
    "gscv_rfr_cv.fit(train_X, train_Y)\n",
    "\n",
    "gscv_rfr_cv_score = gscv_rfr_cv.best_score_\n",
    "\n",
    "gscv_rfr_cv_pred = gscv_rfr_cv.predict(test_X)\n",
    "\n",
    "mae = mean_absolute_error(test_Y, gscv_rfr_cv_pred)\n",
    "\n",
    "print(\"Best score: %0.3f\" % gscv_rfr_cv.best_score_)\n",
    "print(\"Best parameters set:\", gscv_rfr_cv.best_params_)\n",
    "\n",
    "print(\"mean_absolute_error :\", mae)"
   ]
  },
  {
   "cell_type": "code",
   "execution_count": 92,
   "metadata": {
    "execution": {
     "iopub.execute_input": "2020-11-10T17:31:46.693888Z",
     "iopub.status.busy": "2020-11-10T17:31:46.685046Z",
     "iopub.status.idle": "2020-11-10T17:31:46.697768Z",
     "shell.execute_reply": "2020-11-10T17:31:46.698299Z"
    },
    "papermill": {
     "duration": 0.188519,
     "end_time": "2020-11-10T17:31:46.698461",
     "exception": false,
     "start_time": "2020-11-10T17:31:46.509942",
     "status": "completed"
    },
    "tags": []
   },
   "outputs": [
    {
     "data": {
      "text/html": [
       "<div>\n",
       "<style scoped>\n",
       "    .dataframe tbody tr th:only-of-type {\n",
       "        vertical-align: middle;\n",
       "    }\n",
       "\n",
       "    .dataframe tbody tr th {\n",
       "        vertical-align: top;\n",
       "    }\n",
       "\n",
       "    .dataframe thead th {\n",
       "        text-align: right;\n",
       "    }\n",
       "</style>\n",
       "<table border=\"1\" class=\"dataframe\">\n",
       "  <thead>\n",
       "    <tr style=\"text-align: right;\">\n",
       "      <th></th>\n",
       "      <th>model_name</th>\n",
       "      <th>prediction_score</th>\n",
       "      <th>mean_absolute_error</th>\n",
       "    </tr>\n",
       "  </thead>\n",
       "  <tbody>\n",
       "    <tr>\n",
       "      <th>8</th>\n",
       "      <td>XGBRegressor_HyperParamsTunning</td>\n",
       "      <td>0.820817</td>\n",
       "      <td>159252.824508</td>\n",
       "    </tr>\n",
       "    <tr>\n",
       "      <th>7</th>\n",
       "      <td>XGBRegressor(n_estimators=500, max_depth=10, l...</td>\n",
       "      <td>0.792525</td>\n",
       "      <td>156602.719321</td>\n",
       "    </tr>\n",
       "    <tr>\n",
       "      <th>6</th>\n",
       "      <td>XGBRegressor</td>\n",
       "      <td>0.788740</td>\n",
       "      <td>162725.190929</td>\n",
       "    </tr>\n",
       "    <tr>\n",
       "      <th>3</th>\n",
       "      <td>BaggingRegressor</td>\n",
       "      <td>0.766566</td>\n",
       "      <td>174486.193540</td>\n",
       "    </tr>\n",
       "    <tr>\n",
       "      <th>5</th>\n",
       "      <td>GradientBoostingRegressor</td>\n",
       "      <td>0.766473</td>\n",
       "      <td>179476.553614</td>\n",
       "    </tr>\n",
       "    <tr>\n",
       "      <th>9</th>\n",
       "      <td>Random Forest Regressor Hyper Params Tunning</td>\n",
       "      <td>0.738654</td>\n",
       "      <td>202346.653299</td>\n",
       "    </tr>\n",
       "    <tr>\n",
       "      <th>2</th>\n",
       "      <td>RandomForestRegressor</td>\n",
       "      <td>0.734913</td>\n",
       "      <td>201100.047605</td>\n",
       "    </tr>\n",
       "    <tr>\n",
       "      <th>1</th>\n",
       "      <td>DecisionTreeRegressor</td>\n",
       "      <td>0.579775</td>\n",
       "      <td>236344.503387</td>\n",
       "    </tr>\n",
       "    <tr>\n",
       "      <th>0</th>\n",
       "      <td>LinearRegression</td>\n",
       "      <td>0.559999</td>\n",
       "      <td>275330.209598</td>\n",
       "    </tr>\n",
       "    <tr>\n",
       "      <th>4</th>\n",
       "      <td>AdaBoostRegressor</td>\n",
       "      <td>0.275386</td>\n",
       "      <td>462241.848024</td>\n",
       "    </tr>\n",
       "  </tbody>\n",
       "</table>\n",
       "</div>"
      ],
      "text/plain": [
       "                                          model_name  prediction_score  \\\n",
       "8                    XGBRegressor_HyperParamsTunning          0.820817   \n",
       "7  XGBRegressor(n_estimators=500, max_depth=10, l...          0.792525   \n",
       "6                                       XGBRegressor          0.788740   \n",
       "3                                   BaggingRegressor          0.766566   \n",
       "5                          GradientBoostingRegressor          0.766473   \n",
       "9       Random Forest Regressor Hyper Params Tunning          0.738654   \n",
       "2                              RandomForestRegressor          0.734913   \n",
       "1                              DecisionTreeRegressor          0.579775   \n",
       "0                                   LinearRegression          0.559999   \n",
       "4                                  AdaBoostRegressor          0.275386   \n",
       "\n",
       "   mean_absolute_error  \n",
       "8        159252.824508  \n",
       "7        156602.719321  \n",
       "6        162725.190929  \n",
       "3        174486.193540  \n",
       "5        179476.553614  \n",
       "9        202346.653299  \n",
       "2        201100.047605  \n",
       "1        236344.503387  \n",
       "0        275330.209598  \n",
       "4        462241.848024  "
      ]
     },
     "execution_count": 92,
     "metadata": {},
     "output_type": "execute_result"
    }
   ],
   "source": [
    "models_summary = models_summary.append({\n",
    "    'model_name': 'Random Forest Regressor Hyper Params Tunning',\n",
    "    'prediction_score': gscv_rfr_cv_score,\n",
    "    'mean_absolute_error' : mae\n",
    "}, ignore_index=True)\n",
    "\n",
    "models_summary.sort_values('prediction_score', ascending=False)\n",
    " "
   ]
  },
  {
   "cell_type": "code",
   "execution_count": null,
   "metadata": {
    "papermill": {
     "duration": 0.166008,
     "end_time": "2020-11-10T17:31:47.033184",
     "exception": false,
     "start_time": "2020-11-10T17:31:46.867176",
     "status": "completed"
    },
    "tags": []
   },
   "outputs": [],
   "source": []
  },
  {
   "cell_type": "markdown",
   "metadata": {
    "papermill": {
     "duration": 0.166781,
     "end_time": "2020-11-10T17:31:47.366958",
     "exception": false,
     "start_time": "2020-11-10T17:31:47.200177",
     "status": "completed"
    },
    "tags": []
   },
   "source": [
    "--- \n",
    "---\n",
    "\n",
    "<div class=\"text-center\">\n",
    "    <h1>That's it Guys,</h1>\n",
    "    <h1>🙏</h1>\n",
    "    \n",
    "        \n",
    "        I Hope you guys you like and enjoy it, and learn something interesting things from this notebook, \n",
    "        \n",
    "        Even I learn a lots of things while I'm creating this notebook\n",
    "    \n",
    "        Keep Learning,\n",
    "        Regards,\n",
    "        Vikas Ukani.\n",
    "    \n",
    "</div>\n",
    "\n",
    "---\n",
    "---\n",
    "\n",
    "<img src=\"https://static.wixstatic.com/media/3592ed_5453a1ea302b4c4588413007ac4fcb93~mv2.gif\" align=\"center\" alt=\"Thank You\" style=\"min-height:20%; max-height:20%\" width=\"90%\" />\n",
    "\n"
   ]
  }
 ],
 "metadata": {
  "kernelspec": {
   "display_name": "Python 3",
   "language": "python",
   "name": "python3"
  },
  "language_info": {
   "codemirror_mode": {
    "name": "ipython",
    "version": 3
   },
   "file_extension": ".py",
   "mimetype": "text/x-python",
   "name": "python",
   "nbconvert_exporter": "python",
   "pygments_lexer": "ipython3",
   "version": "3.7.6"
  },
  "papermill": {
   "duration": 458.918168,
   "end_time": "2020-11-10T17:31:47.644126",
   "environment_variables": {},
   "exception": null,
   "input_path": "__notebook__.ipynb",
   "output_path": "__notebook__.ipynb",
   "parameters": {},
   "start_time": "2020-11-10T17:24:08.725958",
   "version": "2.1.0"
  }
 },
 "nbformat": 4,
 "nbformat_minor": 4
}
